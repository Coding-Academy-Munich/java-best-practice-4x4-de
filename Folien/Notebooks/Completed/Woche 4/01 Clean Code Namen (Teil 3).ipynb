{
 "cells": [
  {
   "cell_type": "markdown",
   "id": "8608b76b8f5c2adb",
   "metadata": {
    "lang": "de",
    "slideshow": {
     "slide_type": "slide"
    },
    "tags": [
     "slide"
    ]
   },
   "source": [
    "\n",
    "<img src=\"data:image/svg+xml;base64,PHN2ZyB4bWxucz0iaHR0cDovL3d3dy53My5vcmcvMjAwMC9zdmciIHdpZHRoPSI2NCIgaGVpZ2h0\n",
    "PSI2NCIgdmlld0JveD0iMCAwIDMyIDMyIj48cGF0aCBkPSJNMTEuNjIyIDI0Ljc0cy0xLjIzLjc0\n",
    "OC44NTUuOTYyYzIuNTEuMzIgMy44NDcuMjY3IDYuNjI1LS4yNjdhMTAuMDIgMTAuMDIgMCAwIDAg\n",
    "MS43NjMuODU1Yy02LjI1IDIuNjcyLTE0LjE2LS4xNi05LjI0NC0xLjU1em0tLjgtMy40NzNzLTEu\n",
    "MzM2IDEuMDE1Ljc0OCAxLjIzYzIuNzI1LjI2NyA0Ljg2Mi4zMiA4LjU1LS40MjdhMy4yNiAzLjI2\n",
    "IDAgMCAwIDEuMjgyLjgwMWMtNy41MzQgMi4yNDQtMTUuOTc2LjIxNC0xMC41OC0xLjYwM3ptMTQu\n",
    "NzQ3IDYuMDlzLjkwOC43NDgtMS4wMTUgMS4zMzZjLTMuNTggMS4wNy0xNS4wMTQgMS4zOS0xOC4y\n",
    "MiAwLTEuMTIyLS40OCAxLjAxNS0xLjE3NSAxLjctMS4yODIuNjk1LS4xNiAxLjA3LS4xNiAxLjA3\n",
    "LS4xNi0xLjIzLS44NTUtOC4xNzUgMS43NjMtMy41MjYgMi41MSAxMi43NyAyLjA4NCAyMy4yOTYt\n",
    "LjkwOCAxOS45ODMtMi40MDR6TTEyLjIgMTcuNjMzcy01LjgyNCAxLjM5LTIuMDg0IDEuODdjMS42\n",
    "MDMuMjE0IDQuNzU1LjE2IDcuNjk0LS4wNTMgMi40MDQtLjIxNCA0LjgxLS42NCA0LjgxLS42NHMt\n",
    "Ljg1NS4zNzQtMS40NDMuNzQ4Yy01LjkzIDEuNTUtMTcuMzEyLjg1NS0xNC4wNTItLjc0OCAyLjc3\n",
    "OC0xLjMzNiA1LjA3Ni0xLjE3NSA1LjA3Ni0xLjE3NXptMTAuNDIgNS44MjRjNS45ODQtMy4xIDMu\n",
    "MjA2LTYuMDkgMS4yODItNS43MTctLjQ4LjEwNy0uNjk1LjIxNC0uNjk1LjIxNHMuMTYtLjMyLjUz\n",
    "NC0uNDI3YzMuNzk0LTEuMzM2IDYuNzg2IDQuMDA3LTEuMjMgNi4wOSAwIDAgLjA1My0uMDUzLjEw\n",
    "Ny0uMTZ6bS05LjgzIDguNDQyYzUuNzcuMzc0IDE0LjU4Ny0uMjE0IDE0LjgtMi45NCAwIDAtLjQy\n",
    "NyAxLjA3LTQuNzU1IDEuODctNC45MTYuOTA4LTExLjAwNy44LTE0LjU4Ny4yMTQgMCAwIC43NDgu\n",
    "NjQgNC41NDIuODU1eiIgZmlsbD0iIzRlNzg5NiIvPjxwYXRoIGQ9Ik0xOC45OTYuMDAxczMuMzEz\n",
    "IDMuMzY2LTMuMTUyIDguNDQyYy01LjE4MyA0LjExNC0xLjE3NSA2LjQ2NSAwIDkuMTM3LTMuMDQ2\n",
    "LTIuNzI1LTUuMjM2LTUuMTMtMy43NC03LjM3M0MxNC4yOTQgNi44OTMgMjAuMzMyIDUuMyAxOC45\n",
    "OTYuMDAxem0tMS43IDE1LjMzNWMxLjU1IDEuNzYzLS40MjcgMy4zNjYtLjQyNyAzLjM2NnMzLjk1\n",
    "NC0yLjAzIDIuMTM3LTQuNTQyYy0xLjY1Ni0yLjQwNC0yLjk0LTMuNTggNC4wMDctNy41ODcgMCAw\n",
    "LTEwLjk1MyAyLjcyNS01LjcxNyA4Ljc2M3oiIGZpbGw9IiNmNTgyMTkiLz48L3N2Zz4=\n",
    "\"\n",
    "     alt=\"Java Logo\" style=\"display:block;margin:auto;width:5%\"/>\n",
    "<br>\n",
    "\n",
    "<div style=\"text-align:center; font-size:200%;\">\n",
    " <b>Clean Code: Namen (Teil 3)</b>\n",
    "</div>\n",
    "<br/>\n",
    "<div style=\"text-align:center; font-size:120%;\">Dr. Matthias Hölzl</div>\n",
    "<br/>\n",
    "<div style=\"text-align:center;\">Coding-Akademie München</div>\n",
    "<br/>"
   ]
  },
  {
   "cell_type": "markdown",
   "id": "cefd254d6d449867",
   "metadata": {
    "lang": "de",
    "slideshow": {
     "slide_type": "slide"
    },
    "tags": [
     "slide"
    ]
   },
   "source": [
    "\n",
    "## Desinformation und sinnvolle Unterscheidungen\n",
    "\n",
    "- Namen bedeuten etwas\n",
    "- Desinformation:\n",
    "  - Die Bedeutung des Namens impliziert etwas anderes als der Programmcode:"
   ]
  },
  {
   "cell_type": "code",
   "execution_count": null,
   "id": "143a588b58f3633f",
   "metadata": {
    "slideshow": {
     "slide_type": "subslide"
    },
    "tags": [
     "keep",
     "subslide"
    ]
   },
   "outputs": [],
   "source": [
    "boolean verifyConfiguration = false;"
   ]
  },
  {
   "cell_type": "code",
   "execution_count": null,
   "id": "84e73ccab1d370c6",
   "metadata": {
    "tags": [
     "keep"
    ]
   },
   "outputs": [],
   "source": [
    "if (verifyConfiguration) {\n",
    "    System.out.println(\"Deleting configuration files...\");\n",
    "}"
   ]
  },
  {
   "cell_type": "code",
   "execution_count": null,
   "id": "423e320c27d89713",
   "metadata": {
    "slideshow": {
     "slide_type": "subslide"
    },
    "tags": [
     "subslide",
     "keep"
    ]
   },
   "outputs": [],
   "source": [
    "import java.util.Objects;"
   ]
  },
  {
   "cell_type": "code",
   "execution_count": null,
   "id": "2148c5c73569f76a",
   "metadata": {
    "tags": [
     "alt"
    ]
   },
   "outputs": [],
   "source": [
    "import java.util.Objects;"
   ]
  },
  {
   "cell_type": "code",
   "execution_count": null,
   "id": "4d6cc374feaf6be8",
   "metadata": {
    "tags": [
     "alt"
    ]
   },
   "outputs": [],
   "source": [
    "class Triple {\n",
    "    public int first;\n",
    "    public int second;\n",
    "    public int third;\n",
    "\n",
    "    public Triple(int first, int second, int third) {\n",
    "        this.first = first;\n",
    "        this.second = second;\n",
    "        this.third = third;\n",
    "    }\n",
    "}"
   ]
  },
  {
   "cell_type": "code",
   "execution_count": null,
   "id": "2dceef0ded53636d",
   "metadata": {
    "tags": [
     "alt"
    ]
   },
   "outputs": [],
   "source": [
    "new Triple(1, 2, 3)"
   ]
  },
  {
   "cell_type": "markdown",
   "id": "37cfafc462fcca1e",
   "metadata": {
    "lang": "de",
    "slideshow": {
     "slide_type": "subslide"
    },
    "tags": [
     "subslide"
    ]
   },
   "source": [
    "\n",
    "## Regeln zur Vermeidung von Disinformation\n",
    "\n",
    "- Nimm keinen Typ in einen Variablennamen auf, wenn die Variable nicht von\n",
    "  diesem Typ ist\n",
    "  - Meistens: Gib überhaupt keinen Typ in einem Variablennamen an"
   ]
  },
  {
   "cell_type": "code",
   "execution_count": null,
   "id": "1cedc5be5c906bd7",
   "metadata": {
    "tags": [
     "keep"
    ]
   },
   "outputs": [],
   "source": [
    "int vectorOfCards = 0;"
   ]
  },
  {
   "cell_type": "code",
   "execution_count": null,
   "id": "9e9937866071affa",
   "metadata": {},
   "outputs": [],
   "source": [
    "int numCards = 0;"
   ]
  },
  {
   "cell_type": "code",
   "execution_count": null,
   "id": "b4987938faa9ffeb",
   "metadata": {
    "tags": [
     "keep"
    ]
   },
   "outputs": [],
   "source": [
    "import java.util.ArrayList;"
   ]
  },
  {
   "cell_type": "code",
   "execution_count": null,
   "id": "4c6accbb9ebbae93",
   "metadata": {
    "tags": [
     "keep"
    ]
   },
   "outputs": [],
   "source": [
    "ArrayList<Integer> cardArray = new ArrayList<>();"
   ]
  },
  {
   "cell_type": "code",
   "execution_count": null,
   "id": "74daee6eaa0d76d0",
   "metadata": {},
   "outputs": [],
   "source": [
    "ArrayList<Integer> cardDeck = new ArrayList<>();"
   ]
  },
  {
   "cell_type": "markdown",
   "id": "d65d5f16a9470385",
   "metadata": {
    "lang": "de",
    "slideshow": {
     "slide_type": "subslide"
    },
    "tags": [
     "subslide"
    ]
   },
   "source": [
    "\n",
    "## Regeln zur Vermeidung von Disinformation\n",
    "\n",
    "- Sei vorsichtig mit Namen, die sich nur geringfügig unterscheiden"
   ]
  },
  {
   "cell_type": "code",
   "execution_count": null,
   "id": "bfb60dfba86fe8a7",
   "metadata": {
    "tags": [
     "keep"
    ]
   },
   "outputs": [],
   "source": [
    "boolean isMeleeDefenceAvailable = true;\n",
    "boolean isMeleeDefenseAvailable = false;"
   ]
  },
  {
   "cell_type": "code",
   "execution_count": null,
   "id": "7dd50ae36cc1663f",
   "metadata": {
    "tags": [
     "keep"
    ]
   },
   "outputs": [],
   "source": [
    "// Ooops...\n",
    "isMeleeDefenceAvailable == isMeleeDefenseAvailable"
   ]
  },
  {
   "cell_type": "markdown",
   "id": "e90888841b52d162",
   "metadata": {
    "lang": "de",
    "slideshow": {
     "slide_type": "subslide"
    },
    "tags": [
     "subslide"
    ]
   },
   "source": [
    "\n",
    "## Sinnvolle Unterscheidungen\n",
    "\n",
    "- Sei bei der Namensgebung konsistent"
   ]
  },
  {
   "cell_type": "code",
   "execution_count": null,
   "id": "751b8e17d8a194c9",
   "metadata": {
    "tags": [
     "keep"
    ]
   },
   "outputs": [],
   "source": [
    "int numberOfObjects = 10;\n",
    "int numBuyers = 12;\n",
    "int nTransactions = 2;"
   ]
  },
  {
   "cell_type": "code",
   "execution_count": null,
   "id": "9cd604809c035b54",
   "metadata": {
    "tags": [
     "keep"
    ]
   },
   "outputs": [],
   "source": [
    "int numObjects = 10;\n",
    "int numBuyers = 12;\n",
    "int numTransactions = 2;"
   ]
  },
  {
   "cell_type": "code",
   "execution_count": null,
   "id": "5e42430c2bdf0d29",
   "metadata": {
    "tags": [
     "keep"
    ]
   },
   "outputs": [],
   "source": [
    "int nObjects = 10;\n",
    "int nBuyers = 12;\n",
    "int nTransactions = 2;"
   ]
  },
  {
   "cell_type": "markdown",
   "id": "e73397120fa2b3df",
   "metadata": {
    "lang": "de",
    "slideshow": {
     "slide_type": "slide"
    },
    "tags": [
     "slide"
    ]
   },
   "source": [
    "\n",
    "## Sinnvolle Unterscheidungen\n",
    "\n",
    "- Verwende Namen, die die Bedeutung der Konzepte so klar wie möglich ausdrücken"
   ]
  },
  {
   "cell_type": "code",
   "execution_count": null,
   "id": "3ffebbb8fac1750b",
   "metadata": {
    "tags": [
     "keep"
    ]
   },
   "outputs": [],
   "source": [
    "String animal1 = \"Fluffy\";\n",
    "String animal2 = \"Garfield\";"
   ]
  },
  {
   "cell_type": "code",
   "execution_count": null,
   "id": "c4e28fc24fb7cb91",
   "metadata": {
    "tags": [
     "keep"
    ]
   },
   "outputs": [],
   "source": [
    "String janesDog = \"Fluffy\";\n",
    "String jonsCat = \"Garfield\";"
   ]
  },
  {
   "cell_type": "code",
   "execution_count": null,
   "id": "7dd15914477f6862",
   "metadata": {
    "slideshow": {
     "slide_type": "subslide"
    },
    "tags": [
     "keep",
     "subslide"
    ]
   },
   "outputs": [],
   "source": [
    "final int INCLUDE_NONE = 0;\n",
    "final int INCLUDE_FIRST = 1;\n",
    "final int INCLUDE_SECOND = 2;\n",
    "final int INCLUDE_BOTH = 3;"
   ]
  },
  {
   "cell_type": "code",
   "execution_count": null,
   "id": "39a541f2479304bd",
   "metadata": {
    "tags": [
     "keep"
    ]
   },
   "outputs": [],
   "source": [
    "final int INCLUDE_NO_DATE = 0;\n",
    "final int INCLUDE_START_DATE = 1;\n",
    "final int INCLUDE_END_DATE = 2;\n",
    "final int INCLUDE_START_AND_END_DATE = 3;"
   ]
  },
  {
   "cell_type": "code",
   "execution_count": null,
   "id": "bc721a7e84eb22c6",
   "metadata": {
    "slideshow": {
     "slide_type": "subslide"
    },
    "tags": [
     "keep",
     "subslide"
    ]
   },
   "outputs": [],
   "source": [
    "enum DatesToInclude {\n",
    "    NONE,\n",
    "    START,\n",
    "    END,\n",
    "    START_AND_END;\n",
    "}"
   ]
  },
  {
   "cell_type": "code",
   "execution_count": null,
   "id": "22f86ae7d4bb2206",
   "metadata": {
    "tags": [
     "keep"
    ]
   },
   "outputs": [],
   "source": [
    "DatesToInclude.START"
   ]
  },
  {
   "cell_type": "code",
   "execution_count": null,
   "id": "312fdc5fe238dd0d",
   "metadata": {
    "slideshow": {
     "slide_type": "subslide"
    },
    "tags": [
     "keep",
     "subslide"
    ]
   },
   "outputs": [],
   "source": [
    "enum DatesToInclude {\n",
    "    START,\n",
    "    END,\n",
    "}"
   ]
  },
  {
   "cell_type": "code",
   "execution_count": null,
   "id": "ef46255329427d68",
   "metadata": {
    "tags": [
     "keep"
    ]
   },
   "outputs": [],
   "source": [
    "EnumSet<DatesToInclude> datesToInclude = EnumSet.of(DatesToInclude.START);"
   ]
  },
  {
   "cell_type": "code",
   "execution_count": null,
   "id": "49f66bd7d645d8d3",
   "metadata": {
    "tags": [
     "keep"
    ]
   },
   "outputs": [],
   "source": [
    "datesToInclude"
   ]
  },
  {
   "cell_type": "markdown",
   "id": "8baf9d2bb4ba1556",
   "metadata": {
    "lang": "de",
    "slideshow": {
     "slide_type": "subslide"
    },
    "tags": [
     "subslide"
    ]
   },
   "source": [
    "\n",
    "## Sinnvolle Unterscheidungen\n",
    "\n",
    "- Verwende denselben Namen für dasselbe Konzept"
   ]
  },
  {
   "cell_type": "code",
   "execution_count": null,
   "id": "4a68234225013a95",
   "metadata": {
    "slideshow": {
     "slide_type": "subslide"
    },
    "tags": [
     "keep",
     "subslide"
    ]
   },
   "outputs": [],
   "source": [
    "class OrderLine {\n",
    "    public int quantity;\n",
    "    public int pricePerItem;\n",
    "\n",
    "    public OrderLine(int quantity, int pricePerItem) {\n",
    "        this.quantity = quantity;\n",
    "        this.pricePerItem = pricePerItem;\n",
    "    }\n",
    "\n",
    "    public int getTotalCost() {\n",
    "        return quantity * pricePerItem;\n",
    "    }\n",
    "}"
   ]
  },
  {
   "cell_type": "markdown",
   "id": "5e4c2dd00d3e6c19",
   "metadata": {
    "lang": "de",
    "slideshow": {
     "slide_type": "slide"
    },
    "tags": [
     "slide"
    ]
   },
   "source": [
    "\n",
    "## Workshop: Entfernen von Namensverletzungen\n",
    "\n",
    "- Analysieren Sie die folgenden Code-Snippets und korrigieren Sie die Namensverletzungen\n",
    "- Beachten Sie dabei die Regeln, die wir besprochen haben"
   ]
  },
  {
   "cell_type": "markdown",
   "id": "8327d1e0cd9ca001",
   "metadata": {
    "lang": "de",
    "slideshow": {
     "slide_type": "subslide"
    },
    "tags": [
     "subslide"
    ]
   },
   "source": [
    "\n",
    "### Beispiel 1"
   ]
  },
  {
   "cell_type": "code",
   "execution_count": null,
   "id": "4d8b02324c5d7960",
   "metadata": {
    "tags": [
     "keep"
    ]
   },
   "outputs": [],
   "source": [
    "boolean isUserActive = false;"
   ]
  },
  {
   "cell_type": "code",
   "execution_count": null,
   "id": "4fb55e6ab7b1a03e",
   "metadata": {
    "tags": [
     "keep"
    ]
   },
   "outputs": [],
   "source": [
    "if (isUserActive) {\n",
    "    System.out.println(\"Deleting user account...\");\n",
    "}"
   ]
  },
  {
   "cell_type": "code",
   "execution_count": null,
   "id": "003cce4a93f8b973",
   "metadata": {},
   "outputs": [],
   "source": [
    "boolean shouldDeleteUser = false;\n",
    "\n",
    "if (shouldDeleteUser) {\n",
    "    System.out.println(\"Deleting user account...\");\n",
    "}"
   ]
  },
  {
   "cell_type": "markdown",
   "id": "66cb7892121c72ec",
   "metadata": {
    "lang": "de",
    "slideshow": {
     "slide_type": "subslide"
    },
    "tags": [
     "subslide"
    ]
   },
   "source": [
    "\n",
    "### Beispiel 2"
   ]
  },
  {
   "cell_type": "code",
   "execution_count": null,
   "id": "808d6e6d760e6e67",
   "metadata": {
    "tags": [
     "keep"
    ]
   },
   "outputs": [],
   "source": [
    "ArrayList<Integer> itemList = new ArrayList<>();"
   ]
  },
  {
   "cell_type": "code",
   "execution_count": null,
   "id": "64124400c08e31b1",
   "metadata": {},
   "outputs": [],
   "source": [
    "ArrayList<Integer> items = new ArrayList<>();"
   ]
  },
  {
   "cell_type": "markdown",
   "id": "65963a88d8053e7b",
   "metadata": {
    "lang": "de",
    "slideshow": {
     "slide_type": "subslide"
    },
    "tags": [
     "subslide"
    ]
   },
   "source": [
    "\n",
    "### Beispiel 3"
   ]
  },
  {
   "cell_type": "code",
   "execution_count": null,
   "id": "d9e225cfed5f736f",
   "metadata": {
    "tags": [
     "keep"
    ]
   },
   "outputs": [],
   "source": [
    "// Syntax of data is correct\n",
    "boolean isDataValidated = true;\n",
    "// Contents of the data has been verified\n",
    "boolean isDataVerified = false;"
   ]
  },
  {
   "cell_type": "code",
   "execution_count": null,
   "id": "0ef92d5c80bccb48",
   "metadata": {},
   "outputs": [],
   "source": [
    "boolean isSyntaxCorrect = true;\n",
    "boolean isDataVerified = false;"
   ]
  },
  {
   "cell_type": "markdown",
   "id": "29685f637f640184",
   "metadata": {
    "lang": "de",
    "slideshow": {
     "slide_type": "subslide"
    },
    "tags": [
     "subslide"
    ]
   },
   "source": [
    "\n",
    "### Beispiel 4"
   ]
  },
  {
   "cell_type": "code",
   "execution_count": null,
   "id": "029ad05e03a7ce64",
   "metadata": {
    "tags": [
     "keep"
    ]
   },
   "outputs": [],
   "source": [
    "int itemCount = 5;\n",
    "int numberOfStudents = 10;\n",
    "int numTeachers = 3;"
   ]
  },
  {
   "cell_type": "code",
   "execution_count": null,
   "id": "a7a389abb0b44fb6",
   "metadata": {},
   "outputs": [],
   "source": [
    "int numItems = 5;\n",
    "int numStudents = 10;\n",
    "int numTeachers = 3;"
   ]
  },
  {
   "cell_type": "markdown",
   "id": "44ac975557baee77",
   "metadata": {
    "lang": "de",
    "slideshow": {
     "slide_type": "subslide"
    },
    "tags": [
     "subslide"
    ]
   },
   "source": [
    "\n",
    "## Workshop: Namen in existierendem Code\n",
    "\n",
    "- Analysieren Sie ein Programm, an dem Sie arbeiten ob die Namen gut sind\n",
    "- Verbessern Sie die Namen, falls das möglich ist\n",
    "  - Achten Sie aber darauf, dass Sie nicht gegen die Coding-Standards\n",
    "    des Projekts verstoßen\n",
    "- Verbessert sich die Lesbarkeit des Codes?\n",
    "- Diskutieren Sie Ihre Ergebnisse mit Ihren Kollegen"
   ]
  }
 ],
 "metadata": {
  "jupytext": {
   "cell_metadata_filter": "tags,lang,-all",
   "encoding": "// -*- coding: utf-8 -*-",
   "main_language": "java",
   "notebook_metadata_filter": "-all"
  },
  "kernelspec": {
   "display_name": "Java",
   "language": "java",
   "name": "java"
  },
  "language_info": {
   "codemirror_mode": "java",
   "file_extension": ".java",
   "mimetype": "text/java",
   "name": "Java",
   "pygments_lexer": "java",
   "version": ""
  }
 },
 "nbformat": 4,
 "nbformat_minor": 5
}
