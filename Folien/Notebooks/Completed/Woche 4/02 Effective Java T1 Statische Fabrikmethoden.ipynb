{
 "cells": [
  {
   "cell_type": "markdown",
   "id": "e789ca1728fc8b61",
   "metadata": {
    "lang": "de",
    "slideshow": {
     "slide_type": "slide"
    },
    "tags": [
     "slide"
    ]
   },
   "source": [
    "\n",
    "<img src=\"data:image/svg+xml;base64,PHN2ZyB4bWxucz0iaHR0cDovL3d3dy53My5vcmcvMjAwMC9zdmciIHdpZHRoPSI2NCIgaGVpZ2h0\n",
    "PSI2NCIgdmlld0JveD0iMCAwIDMyIDMyIj48cGF0aCBkPSJNMTEuNjIyIDI0Ljc0cy0xLjIzLjc0\n",
    "OC44NTUuOTYyYzIuNTEuMzIgMy44NDcuMjY3IDYuNjI1LS4yNjdhMTAuMDIgMTAuMDIgMCAwIDAg\n",
    "MS43NjMuODU1Yy02LjI1IDIuNjcyLTE0LjE2LS4xNi05LjI0NC0xLjU1em0tLjgtMy40NzNzLTEu\n",
    "MzM2IDEuMDE1Ljc0OCAxLjIzYzIuNzI1LjI2NyA0Ljg2Mi4zMiA4LjU1LS40MjdhMy4yNiAzLjI2\n",
    "IDAgMCAwIDEuMjgyLjgwMWMtNy41MzQgMi4yNDQtMTUuOTc2LjIxNC0xMC41OC0xLjYwM3ptMTQu\n",
    "NzQ3IDYuMDlzLjkwOC43NDgtMS4wMTUgMS4zMzZjLTMuNTggMS4wNy0xNS4wMTQgMS4zOS0xOC4y\n",
    "MiAwLTEuMTIyLS40OCAxLjAxNS0xLjE3NSAxLjctMS4yODIuNjk1LS4xNiAxLjA3LS4xNiAxLjA3\n",
    "LS4xNi0xLjIzLS44NTUtOC4xNzUgMS43NjMtMy41MjYgMi41MSAxMi43NyAyLjA4NCAyMy4yOTYt\n",
    "LjkwOCAxOS45ODMtMi40MDR6TTEyLjIgMTcuNjMzcy01LjgyNCAxLjM5LTIuMDg0IDEuODdjMS42\n",
    "MDMuMjE0IDQuNzU1LjE2IDcuNjk0LS4wNTMgMi40MDQtLjIxNCA0LjgxLS42NCA0LjgxLS42NHMt\n",
    "Ljg1NS4zNzQtMS40NDMuNzQ4Yy01LjkzIDEuNTUtMTcuMzEyLjg1NS0xNC4wNTItLjc0OCAyLjc3\n",
    "OC0xLjMzNiA1LjA3Ni0xLjE3NSA1LjA3Ni0xLjE3NXptMTAuNDIgNS44MjRjNS45ODQtMy4xIDMu\n",
    "MjA2LTYuMDkgMS4yODItNS43MTctLjQ4LjEwNy0uNjk1LjIxNC0uNjk1LjIxNHMuMTYtLjMyLjUz\n",
    "NC0uNDI3YzMuNzk0LTEuMzM2IDYuNzg2IDQuMDA3LTEuMjMgNi4wOSAwIDAgLjA1My0uMDUzLjEw\n",
    "Ny0uMTZ6bS05LjgzIDguNDQyYzUuNzcuMzc0IDE0LjU4Ny0uMjE0IDE0LjgtMi45NCAwIDAtLjQy\n",
    "NyAxLjA3LTQuNzU1IDEuODctNC45MTYuOTA4LTExLjAwNy44LTE0LjU4Ny4yMTQgMCAwIC43NDgu\n",
    "NjQgNC41NDIuODU1eiIgZmlsbD0iIzRlNzg5NiIvPjxwYXRoIGQ9Ik0xOC45OTYuMDAxczMuMzEz\n",
    "IDMuMzY2LTMuMTUyIDguNDQyYy01LjE4MyA0LjExNC0xLjE3NSA2LjQ2NSAwIDkuMTM3LTMuMDQ2\n",
    "LTIuNzI1LTUuMjM2LTUuMTMtMy43NC03LjM3M0MxNC4yOTQgNi44OTMgMjAuMzMyIDUuMyAxOC45\n",
    "OTYuMDAxem0tMS43IDE1LjMzNWMxLjU1IDEuNzYzLS40MjcgMy4zNjYtLjQyNyAzLjM2NnMzLjk1\n",
    "NC0yLjAzIDIuMTM3LTQuNTQyYy0xLjY1Ni0yLjQwNC0yLjk0LTMuNTggNC4wMDctNy41ODcgMCAw\n",
    "LTEwLjk1MyAyLjcyNS01LjcxNyA4Ljc2M3oiIGZpbGw9IiNmNTgyMTkiLz48L3N2Zz4=\n",
    "\"\n",
    "     alt=\"Java Logo\" style=\"display:block;margin:auto;width:5%\"/>\n",
    "<br>\n",
    "\n",
    "<div style=\"text-align:center; font-size:200%;\">\n",
    " <b>Effective Java T1: Statische Fabrikmethoden</b>\n",
    "</div>\n",
    "<br/>\n",
    "<div style=\"text-align:center; font-size:120%;\">Dr. Matthias Hölzl</div>\n",
    "<br/>\n",
    "<div style=\"text-align:center;\">Coding-Akademie München</div>\n",
    "<br/>"
   ]
  },
  {
   "cell_type": "markdown",
   "id": "48da6e1f61bc6e14",
   "metadata": {
    "lang": "de",
    "slideshow": {
     "slide_type": "slide"
    },
    "tags": [
     "slide"
    ]
   },
   "source": [
    "\n",
    "## Statische Fabrikmethoden\n",
    "\n",
    "- Alternative zu öffentlichen Konstruktoren\n",
    "- Statische Methode, die eine Instanz zurückgibt\n",
    "- Viele Vorteile, aber auch Nachteile gegenüber Konstruktoren"
   ]
  },
  {
   "cell_type": "code",
   "execution_count": null,
   "id": "dd7f33868c679611",
   "metadata": {
    "slideshow": {
     "slide_type": "subslide"
    },
    "tags": [
     "keep",
     "subslide"
    ]
   },
   "outputs": [],
   "source": [
    "import java.util.function.BiFunction;"
   ]
  },
  {
   "cell_type": "code",
   "execution_count": null,
   "id": "257876449ad48b13",
   "metadata": {
    "tags": [
     "alt"
    ]
   },
   "outputs": [],
   "source": [
    "public class Color {\n",
    "    private final int red;\n",
    "    private final int green;\n",
    "    private final int blue;\n",
    "\n",
    "    private Color(int red, int green, int blue) {               // <= private constructor\n",
    "        this.red = red;\n",
    "        this.green = green;\n",
    "        this.blue = blue;\n",
    "    }\n",
    "\n",
    "    public static Color fromRgb(int red, int green, int blue) { // <= static factory method\n",
    "        return new Color(red, green, blue);\n",
    "    }\n",
    "\n",
    "    @Override public String toString() {\n",
    "        return String.format(\n",
    "            \"Color: r=%03d g=%03d b=%03d hex=#%02X%02X%02X id=%d\",\n",
    "            red, green, blue, red, green, blue, System.identityHashCode(this));\n",
    "    }\n",
    "}"
   ]
  },
  {
   "cell_type": "code",
   "execution_count": null,
   "id": "690d161374680673",
   "metadata": {
    "lines_to_next_cell": 2,
    "tags": [
     "alt"
    ]
   },
   "outputs": [],
   "source": [
    "Color.fromRgb(100, 150, 200)"
   ]
  },
  {
   "cell_type": "code",
   "execution_count": null,
   "id": "df9d205cc3306889",
   "metadata": {
    "slideshow": {
     "slide_type": "subslide"
    },
    "tags": [
     "alt",
     "subslide"
    ]
   },
   "outputs": [],
   "source": [
    "public class Color {\n",
    "    private final int red;\n",
    "    private final int green;\n",
    "    private final int blue;\n",
    "\n",
    "    private Color(int red, int green, int blue) {\n",
    "        this.red = red;\n",
    "        this.green = green;\n",
    "        this.blue = blue;\n",
    "    }\n",
    "\n",
    "    public static Color fromRgb(int red, int green, int blue) {\n",
    "        return new Color(red, green, blue);\n",
    "    }\n",
    "\n",
    "    public static Color fromHexString(String hex) {\n",
    "        BiFunction<String, Integer, Integer> d2s = (s, i) -> Integer.parseInt(s.substring(i, i + 2), 16);\n",
    "        return new Color(d2s.apply(hex, 1), d2s.apply(hex, 3), d2s.apply(hex, 5));\n",
    "    }\n",
    "\n",
    "    public static Color white() {\n",
    "        return new Color(255, 255, 255);\n",
    "    }\n",
    "\n",
    "    @Override public String toString() {\n",
    "        return String.format(\n",
    "            \"Color: r=%03d g=%03d b=%03d hex=#%02X%02X%02X id=%d\",\n",
    "            red, green, blue, red, green, blue, System.identityHashCode(this));\n",
    "    }\n",
    "}"
   ]
  },
  {
   "cell_type": "code",
   "execution_count": null,
   "id": "d3a09bd65ec6640c",
   "metadata": {
    "slideshow": {
     "slide_type": "subslide"
    },
    "tags": [
     "subslide"
    ]
   },
   "outputs": [],
   "source": [
    "Color.white()"
   ]
  },
  {
   "cell_type": "code",
   "execution_count": null,
   "id": "8c72938202a8f26f",
   "metadata": {},
   "outputs": [],
   "source": [
    "Color.fromRgb(100, 150, 200);"
   ]
  },
  {
   "cell_type": "code",
   "execution_count": null,
   "id": "e4644f95200aae62",
   "metadata": {},
   "outputs": [],
   "source": [
    "Color.fromHexString(\"#6496C8\");"
   ]
  },
  {
   "cell_type": "markdown",
   "id": "77d245fca56ea254",
   "metadata": {
    "lang": "de",
    "slideshow": {
     "slide_type": "slide"
    },
    "tags": [
     "slide"
    ]
   },
   "source": [
    "\n",
    "## Vorteile statischer Fabrikmethoden\n",
    "\n",
    "1. Aussagekräftige Namen\n",
    "2. Nicht jeder Aufruf erzeugt neues Objekt\n",
    "3. Können Untertypen zurückgeben\n",
    "4. Rückgabetyp kann sich mit Parametern ändern\n",
    "5. Klasse des zurückgegebenen Objekts muss nicht `public` sein"
   ]
  },
  {
   "cell_type": "markdown",
   "id": "7c06c1f0603f0aa0",
   "metadata": {
    "lang": "de",
    "slideshow": {
     "slide_type": "subslide"
    },
    "tags": [
     "subslide"
    ]
   },
   "source": [
    "\n",
    "### Aussagekräftige Namen\n",
    "\n",
    "- `Point` kann konstruiert werden aus:\n",
    "  - Kartesischen Koordinaten $(x, y)$\n",
    "  - Polarkoordinaten $(r, θ)$\n",
    "- Beide Konstruktoren haben dieselbe Signatur\n",
    "- Factory Methoden:\n",
    "  - `fromCartesian(double x, double y)`\n",
    "  - `fromRadial(double r, double theta)`"
   ]
  },
  {
   "cell_type": "code",
   "execution_count": null,
   "id": "83787764508b42ec",
   "metadata": {
    "slideshow": {
     "slide_type": "subslide"
    },
    "tags": [
     "keep",
     "subslide"
    ]
   },
   "outputs": [],
   "source": [
    "public class Point {\n",
    "    private double x;\n",
    "    private double y;\n",
    "\n",
    "    // Private constructor\n",
    "    private Point(double x, double y) {\n",
    "        this.x = x;\n",
    "        this.y = y;\n",
    "    }\n",
    "\n",
    "    // Static factory method for Cartesian coordinates\n",
    "    public static Point fromCartesian(double x, double y) {\n",
    "        return new Point(x, y);\n",
    "    }\n",
    "\n",
    "    // Static factory method for Radial coordinates\n",
    "    public static Point fromRadial(double r, double theta) {\n",
    "        double x = r * Math.cos(theta);\n",
    "        double y = r * Math.sin(theta);\n",
    "        return new Point(x, y);\n",
    "    }\n",
    "\n",
    "    // Getters and setters for Cartesian coordinates\n",
    "    public double getX() {\n",
    "        return x;\n",
    "    }\n",
    "\n",
    "    public void setX(double x) {\n",
    "        this.x = x;\n",
    "    }\n",
    "\n",
    "    public double getY() {\n",
    "        return y;\n",
    "    }\n",
    "\n",
    "    public void setY(double y) {\n",
    "        this.y = y;\n",
    "    }\n",
    "\n",
    "    // Getters and setters for Radial coordinates\n",
    "    public double getR() {\n",
    "        return Math.sqrt(x * x + y * y);\n",
    "    }\n",
    "\n",
    "    public void setR(double r) {\n",
    "        double theta = getTheta();\n",
    "        this.x = r * Math.cos(theta);\n",
    "        this.y = r * Math.sin(theta);\n",
    "    }\n",
    "\n",
    "    public double getTheta() {\n",
    "        return Math.atan2(y, x);\n",
    "    }\n",
    "\n",
    "    public void setTheta(double theta) {\n",
    "        double r = getR();\n",
    "        this.x = r * Math.cos(theta);\n",
    "        this.y = r * Math.sin(theta);\n",
    "    }\n",
    "\n",
    "    // Method to set both r and theta at once\n",
    "    public void setPolar(double r, double theta) {\n",
    "        this.x = r * Math.cos(theta);\n",
    "        this.y = r * Math.sin(theta);\n",
    "    }\n",
    "\n",
    "    @Override\n",
    "    public String toString() {\n",
    "        return String.format(\"Point(x=%.2f, y=%.2f, r=%.2f, theta=%.2f)\", x, y, getR(), getTheta());\n",
    "    }\n",
    "}"
   ]
  },
  {
   "cell_type": "markdown",
   "id": "41d0f01bcae56b59",
   "metadata": {
    "lang": "de",
    "slideshow": {
     "slide_type": "subslide"
    },
    "tags": [
     "subslide"
    ]
   },
   "source": [
    "\n",
    "#### Konstruktion aus kartesischen Koordinaten"
   ]
  },
  {
   "cell_type": "code",
   "execution_count": null,
   "id": "a0623c609a088adf",
   "metadata": {
    "tags": [
     "keep"
    ]
   },
   "outputs": [],
   "source": [
    "Point.fromCartesian(1, 0)"
   ]
  },
  {
   "cell_type": "code",
   "execution_count": null,
   "id": "c158977762eb8b70",
   "metadata": {
    "tags": [
     "keep"
    ]
   },
   "outputs": [],
   "source": [
    "Point.fromCartesian(0, 1)"
   ]
  },
  {
   "cell_type": "code",
   "execution_count": null,
   "id": "f297178162f1b773",
   "metadata": {
    "tags": [
     "keep"
    ]
   },
   "outputs": [],
   "source": [
    "Point p = Point.fromCartesian(0, 1);\n",
    "p"
   ]
  },
  {
   "cell_type": "code",
   "execution_count": null,
   "id": "d9a95bfc00cddaee",
   "metadata": {
    "tags": [
     "keep"
    ]
   },
   "outputs": [],
   "source": [
    "p.setTheta(0);\n",
    "p"
   ]
  },
  {
   "cell_type": "markdown",
   "id": "af00abd66bd4308d",
   "metadata": {
    "lang": "de",
    "slideshow": {
     "slide_type": "subslide"
    },
    "tags": [
     "subslide"
    ]
   },
   "source": [
    "\n",
    "#### Konstruktion aus Polarkoordinaten"
   ]
  },
  {
   "cell_type": "code",
   "execution_count": null,
   "id": "aae4a52c41465ffc",
   "metadata": {
    "tags": [
     "keep"
    ]
   },
   "outputs": [],
   "source": [
    "Point.fromCartesian(1, 1)"
   ]
  },
  {
   "cell_type": "code",
   "execution_count": null,
   "id": "28c86a62a279b445",
   "metadata": {
    "tags": [
     "keep"
    ]
   },
   "outputs": [],
   "source": [
    "Point.fromRadial(2, 0)"
   ]
  },
  {
   "cell_type": "code",
   "execution_count": null,
   "id": "b465571a8d0c18ff",
   "metadata": {
    "tags": [
     "keep"
    ]
   },
   "outputs": [],
   "source": [
    "Point.fromRadial(2, Math.PI / 4)"
   ]
  },
  {
   "cell_type": "markdown",
   "id": "2f61bfc86529afc8",
   "metadata": {
    "lang": "de",
    "slideshow": {
     "slide_type": "subslide"
    },
    "tags": [
     "subslide"
    ]
   },
   "source": [
    "\n",
    "### Wiederverwendung von Instanzen (Interned Instances)"
   ]
  },
  {
   "cell_type": "code",
   "execution_count": null,
   "id": "5ee00560226eb7a2",
   "metadata": {
    "tags": [
     "alt"
    ]
   },
   "outputs": [],
   "source": [
    "public class Color {\n",
    "    private final int red;\n",
    "    private final int green;\n",
    "    private final int blue;\n",
    "    // HashMap to cache interned instances\n",
    "    private static final Map<String, Color> CACHE = new HashMap<>();\n",
    "\n",
    "    private Color(int red, int green, int blue) {\n",
    "        this.red = red;\n",
    "        this.green = green;\n",
    "        this.blue = blue;\n",
    "    }\n",
    "\n",
    "    public static Color fromHexString(String hex) {\n",
    "        BiFunction<String, Integer, Integer> d2s = (s, i) -> Integer.parseInt(s.substring(i, i + 2), 16);\n",
    "        // Use cache for interned instances\n",
    "        if (!CACHE.containsKey(hex)) {\n",
    "            CACHE.put(hex, new Color(d2s.apply(hex, 1), d2s.apply(hex, 3), d2s.apply(hex, 5)));\n",
    "        }\n",
    "        return CACHE.get(hex);\n",
    "    }\n",
    "\n",
    "    public static Color fromRgb(int red, int green, int blue) {\n",
    "        // Delegate to fromHexString to use cache\n",
    "        return Color.fromHexString(String.format(\"#%02X%02X%02X\", red, green, blue));\n",
    "    }\n",
    "\n",
    "    // We already fixed this in the initial implementation\n",
    "    public static Color white() {\n",
    "        return Color.fromRgb(255, 255, 255);\n",
    "    }\n",
    "\n",
    "    @Override public String toString() {\n",
    "        return String.format(\n",
    "            \"Color: r=%03d g=%03d b=%03d hex=#%02X%02X%02X id=%d\",\n",
    "            red, green, blue, red, green, blue, System.identityHashCode(this));\n",
    "    }\n",
    "}"
   ]
  },
  {
   "cell_type": "code",
   "execution_count": null,
   "id": "cd3d336f1f74d0d9",
   "metadata": {
    "slideshow": {
     "slide_type": "subslide"
    },
    "tags": [
     "keep",
     "subslide"
    ]
   },
   "outputs": [],
   "source": [
    "Color.white()"
   ]
  },
  {
   "cell_type": "code",
   "execution_count": null,
   "id": "8f7e5556d05e152e",
   "metadata": {
    "tags": [
     "keep"
    ]
   },
   "outputs": [],
   "source": [
    "Color.fromRgb(255, 255, 255)"
   ]
  },
  {
   "cell_type": "code",
   "execution_count": null,
   "id": "6d83831fe286b7a2",
   "metadata": {
    "tags": [
     "keep"
    ]
   },
   "outputs": [],
   "source": [
    "Color.fromHexString(\"#FFFFFF\")"
   ]
  },
  {
   "cell_type": "code",
   "execution_count": null,
   "id": "d382fa990a378f47",
   "metadata": {
    "tags": [
     "keep"
    ]
   },
   "outputs": [],
   "source": [
    "Color.fromRgb(100, 150, 200)"
   ]
  },
  {
   "cell_type": "code",
   "execution_count": null,
   "id": "04103d31fe541adb",
   "metadata": {
    "tags": [
     "keep"
    ]
   },
   "outputs": [],
   "source": [
    "Color.fromHexString(\"#6496C8\")"
   ]
  },
  {
   "cell_type": "markdown",
   "id": "9c01cb7fdf255796",
   "metadata": {
    "lang": "de",
    "slideshow": {
     "slide_type": "subslide"
    },
    "tags": [
     "subslide"
    ]
   },
   "source": [
    "\n",
    "### Zurückgeben von Untertypen, dynamischer Rückgabetyp\n",
    "\n",
    "- Statische Fabrikmethoden können Untertypen zurückgeben\n",
    "- Der Rückgabetyp kann sich für verschiedene Parameter ändern\n",
    "- Beispiele:\n",
    "  - `Collections`-Framework\n",
    "  - Figuren in einem Computerspiel"
   ]
  },
  {
   "cell_type": "code",
   "execution_count": null,
   "id": "c5e100bb078c4fce",
   "metadata": {
    "slideshow": {
     "slide_type": "subslide"
    },
    "tags": [
     "keep",
     "subslide"
    ]
   },
   "outputs": [],
   "source": [
    "interface Character {\n",
    "    String getCharacterClass();\n",
    "}"
   ]
  },
  {
   "cell_type": "code",
   "execution_count": null,
   "id": "e6df7d0eaa80a6e8",
   "metadata": {
    "tags": [
     "keep"
    ]
   },
   "outputs": [],
   "source": [
    "class Fighter implements Character {\n",
    "    @Override\n",
    "    public String getCharacterClass() {\n",
    "        return \"Fighter\";\n",
    "    }\n",
    "}"
   ]
  },
  {
   "cell_type": "code",
   "execution_count": null,
   "id": "0d0de0b3a92a6e91",
   "metadata": {
    "lines_to_next_cell": 2,
    "tags": [
     "keep"
    ]
   },
   "outputs": [],
   "source": [
    "class Mage implements Character {\n",
    "    @Override\n",
    "    public String getCharacterClass() {\n",
    "        return \"Mage\";\n",
    "    }\n",
    "}"
   ]
  },
  {
   "cell_type": "code",
   "execution_count": null,
   "id": "366b432d1242f398",
   "metadata": {
    "slideshow": {
     "slide_type": "subslide"
    },
    "tags": [
     "keep",
     "subslide"
    ]
   },
   "outputs": [],
   "source": [
    "import java.util.Set;"
   ]
  },
  {
   "cell_type": "code",
   "execution_count": null,
   "id": "6cd4ee98c6e9d37e",
   "metadata": {
    "tags": [
     "alt"
    ]
   },
   "outputs": [],
   "source": [
    "interface Character {\n",
    "    String getCharacterClass();\n",
    "\n",
    "    static Character create(Set<String> abilities) {\n",
    "        if (abilities.contains(\"cast spells\")) {\n",
    "            return new Mage();\n",
    "        }\n",
    "        return new Fighter();\n",
    "    }\n",
    "}"
   ]
  },
  {
   "cell_type": "code",
   "execution_count": null,
   "id": "2847b43fb323ed80",
   "metadata": {
    "slideshow": {
     "slide_type": "subslide"
    },
    "tags": [
     "keep",
     "subslide"
    ]
   },
   "outputs": [],
   "source": [
    "Character fighter = Character.create(Set.of());"
   ]
  },
  {
   "cell_type": "code",
   "execution_count": null,
   "id": "6f695119d72505c6",
   "metadata": {
    "tags": [
     "keep"
    ]
   },
   "outputs": [],
   "source": [
    "fighter.getCharacterClass()"
   ]
  },
  {
   "cell_type": "code",
   "execution_count": null,
   "id": "e4fd601cab2843fb",
   "metadata": {
    "tags": [
     "keep"
    ]
   },
   "outputs": [],
   "source": [
    "Character mage = Character.create(Set.of(\"cast spells\"));"
   ]
  },
  {
   "cell_type": "code",
   "execution_count": null,
   "id": "44f2f853906fd79b",
   "metadata": {
    "tags": [
     "keep"
    ]
   },
   "outputs": [],
   "source": [
    "mage.getCharacterClass()"
   ]
  },
  {
   "cell_type": "code",
   "execution_count": null,
   "id": "6793889b5d62f069",
   "metadata": {
    "slideshow": {
     "slide_type": "subslide"
    },
    "tags": [
     "keep",
     "subslide"
    ]
   },
   "outputs": [],
   "source": [
    "import java.lang.reflect.Constructor;\n",
    "import java.util.ArrayList;\n",
    "import java.util.Collections;\n",
    "import java.util.List;\n",
    "import java.util.Set;"
   ]
  },
  {
   "cell_type": "markdown",
   "id": "a45149b060f8c09c",
   "metadata": {
    "lang": "de",
    "slideshow": {
     "slide_type": "subslide"
    },
    "tags": [
     "subslide"
    ]
   },
   "source": [
    "\n",
    "### `Character`-Interface mit Registrierung von Klassen"
   ]
  },
  {
   "cell_type": "code",
   "execution_count": null,
   "id": "10d28124b29b1d7e",
   "metadata": {
    "tags": [
     "keep"
    ]
   },
   "outputs": [],
   "source": [
    "interface Character {\n",
    "    String getCharacterClass();\n",
    "\n",
    "    class CharacterClassInfo {\n",
    "        Set<String> requiredAbilities;\n",
    "        Class<? extends Character> characterClass;\n",
    "\n",
    "        CharacterClassInfo(\n",
    "                Set<String> requiredAbilities, Class<? extends Character> characterClass) {\n",
    "            this.requiredAbilities = requiredAbilities;\n",
    "            this.characterClass = characterClass;\n",
    "        }\n",
    "    }\n",
    "\n",
    "    List<CharacterClassInfo> registeredClasses = new ArrayList<>();\n",
    "\n",
    "    static void registerCharacterClass(\n",
    "            Set<String> requiredAbilities, Class<? extends Character> characterClass) {\n",
    "        registeredClasses.add(new CharacterClassInfo(requiredAbilities, characterClass));\n",
    "    }\n",
    "\n",
    "    static Character create(Set<String> abilities) {\n",
    "        for (CharacterClassInfo info : registeredClasses) {\n",
    "            if (abilities.containsAll(info.requiredAbilities)) {\n",
    "                try {\n",
    "                    Constructor<? extends Character> constructor = info.characterClass.getDeclaredConstructor();\n",
    "                    return constructor.newInstance();\n",
    "                } catch (Exception e) {\n",
    "                    System.err.println(\"Error creating instance of \" + info.characterClass.getName() + \": \" + e.getMessage());\n",
    "                }\n",
    "            }\n",
    "        }\n",
    "        throw new IllegalArgumentException(\"No suitable character class found for the given abilities.\");\n",
    "    }\n",
    "}"
   ]
  },
  {
   "cell_type": "code",
   "execution_count": null,
   "id": "ab4d0d652b573d02",
   "metadata": {
    "slideshow": {
     "slide_type": "subslide"
    },
    "tags": [
     "keep",
     "subslide"
    ]
   },
   "outputs": [],
   "source": [
    "public class Fighter implements Character {\n",
    "    @Override\n",
    "    public String getCharacterClass() {\n",
    "        return \"Fighter\";\n",
    "    }\n",
    "}"
   ]
  },
  {
   "cell_type": "code",
   "execution_count": null,
   "id": "40fe63e066793e44",
   "metadata": {
    "tags": [
     "keep"
    ]
   },
   "outputs": [],
   "source": [
    "public class Mage implements Character {\n",
    "    @Override\n",
    "    public String getCharacterClass() {\n",
    "        return \"Mage\";\n",
    "    }\n",
    "}"
   ]
  },
  {
   "cell_type": "code",
   "execution_count": null,
   "id": "867a75d9c1d8f925",
   "metadata": {
    "slideshow": {
     "slide_type": "subslide"
    },
    "tags": [
     "keep",
     "subslide"
    ]
   },
   "outputs": [],
   "source": [
    "Character.registerCharacterClass(Set.of(\"cast spells\"), Mage.class);\n",
    "Character.registerCharacterClass(Set.of(\"fight\"), Fighter.class);"
   ]
  },
  {
   "cell_type": "code",
   "execution_count": null,
   "id": "5da0270d651c1356",
   "metadata": {
    "tags": [
     "keep"
    ]
   },
   "outputs": [],
   "source": [
    "Character fighter = Character.create(Set.of(\"fight\"));"
   ]
  },
  {
   "cell_type": "code",
   "execution_count": null,
   "id": "1e2beba8326e27d3",
   "metadata": {
    "lines_to_next_cell": 2,
    "tags": [
     "keep"
    ]
   },
   "outputs": [],
   "source": [
    "fighter.getCharacterClass()"
   ]
  },
  {
   "cell_type": "code",
   "execution_count": null,
   "id": "6251285d17f163b8",
   "metadata": {
    "tags": [
     "keep"
    ]
   },
   "outputs": [],
   "source": [
    "Character mage = Character.create(Set.of(\"cast spells\", \"fly\"));"
   ]
  },
  {
   "cell_type": "code",
   "execution_count": null,
   "id": "ea374690e14e1c40",
   "metadata": {
    "tags": [
     "keep"
    ]
   },
   "outputs": [],
   "source": [
    "mage.getCharacterClass()"
   ]
  },
  {
   "cell_type": "code",
   "execution_count": null,
   "id": "d1c2a4a658ffc645",
   "metadata": {
    "slideshow": {
     "slide_type": "subslide"
    },
    "tags": [
     "keep",
     "subslide"
    ]
   },
   "outputs": [],
   "source": [
    "Character warMage = Character.create(Set.of(\"cast spells\", \"fight\"))"
   ]
  },
  {
   "cell_type": "code",
   "execution_count": null,
   "id": "071c6cb8c8ccb9a7",
   "metadata": {
    "tags": [
     "keep"
    ]
   },
   "outputs": [],
   "source": [
    "warMage.getCharacterClass()"
   ]
  },
  {
   "cell_type": "code",
   "execution_count": null,
   "id": "b7fb6d8ad2f5affe",
   "metadata": {
    "slideshow": {
     "slide_type": "subslide"
    },
    "tags": [
     "keep",
     "subslide"
    ]
   },
   "outputs": [],
   "source": [
    "// Character thief = Character.create(Set.of(\"steal\"));"
   ]
  },
  {
   "cell_type": "code",
   "execution_count": null,
   "id": "9b22b8542b2cf85b",
   "metadata": {
    "slideshow": {
     "slide_type": "subslide"
    },
    "tags": [
     "keep",
     "subslide"
    ]
   },
   "outputs": [],
   "source": [
    "// Register a default class\n",
    "Character.registerCharacterClass(Set.of(), Fighter.class);"
   ]
  },
  {
   "cell_type": "code",
   "execution_count": null,
   "id": "046a6795812d74b4",
   "metadata": {
    "tags": [
     "keep"
    ]
   },
   "outputs": [],
   "source": [
    "Character thief = Character.create(Set.of(\"steal\"));"
   ]
  },
  {
   "cell_type": "code",
   "execution_count": null,
   "id": "ac487d48a2dfe4a6",
   "metadata": {
    "tags": [
     "keep"
    ]
   },
   "outputs": [],
   "source": [
    "thief.getCharacterClass()"
   ]
  },
  {
   "cell_type": "markdown",
   "id": "1aeba4bb57511978",
   "metadata": {
    "lang": "de",
    "slideshow": {
     "slide_type": "slide"
    },
    "tags": [
     "slide"
    ]
   },
   "source": [
    "\n",
    "### Privater Rückgabetyp\n",
    "\n",
    "- Beispiel: Collections-Framework"
   ]
  },
  {
   "cell_type": "code",
   "execution_count": null,
   "id": "aa25e62962467d66",
   "metadata": {
    "tags": [
     "keep"
    ]
   },
   "outputs": [],
   "source": [
    "import java.util.Collections;\n",
    "import java.util.List;\n",
    "import java.util.ArrayList;"
   ]
  },
  {
   "cell_type": "code",
   "execution_count": null,
   "id": "1264b98821733365",
   "metadata": {
    "tags": [
     "keep"
    ]
   },
   "outputs": [],
   "source": [
    "List<String> strings = List.of(\"to\", \"be\", \"or\", \"not\", \"to\", \"be\");"
   ]
  },
  {
   "cell_type": "code",
   "execution_count": null,
   "id": "7cdf6da4d3b68ea0",
   "metadata": {
    "tags": [
     "keep"
    ]
   },
   "outputs": [],
   "source": [
    "strings"
   ]
  },
  {
   "cell_type": "markdown",
   "id": "99791bd08c57c0fc",
   "metadata": {
    "lang": "de"
   },
   "source": [
    "\n",
    "- Dokumentation von\n",
    "  [List.of](https://docs.oracle.com/en/java/javase/23/docs/api/java.base/java/util/List.html#of())"
   ]
  },
  {
   "cell_type": "code",
   "execution_count": null,
   "id": "a2729db52ba20ca0",
   "metadata": {
    "tags": [
     "keep"
    ]
   },
   "outputs": [],
   "source": [
    "strings.getClass()"
   ]
  },
  {
   "cell_type": "code",
   "execution_count": null,
   "id": "a9d57c144f220921",
   "metadata": {
    "tags": [
     "keep"
    ]
   },
   "outputs": [],
   "source": [
    "strings.getClass().accessFlags()"
   ]
  },
  {
   "cell_type": "code",
   "execution_count": null,
   "id": "90d20b1adf798db5",
   "metadata": {
    "tags": [
     "keep"
    ]
   },
   "outputs": [],
   "source": [
    "ArrayList.class.accessFlags()"
   ]
  },
  {
   "cell_type": "markdown",
   "id": "c30a75fc342f0699",
   "metadata": {
    "lang": "de",
    "slideshow": {
     "slide_type": "slide"
    },
    "tags": [
     "slide"
    ]
   },
   "source": [
    "\n",
    "## Nachteile statischer Fabrikmethoden\n",
    "\n",
    "- Klassen ohne öffentliche Konstruktoren nicht ableitbar\n",
    "- Schwerer zu finden als Konstruktoren"
   ]
  },
  {
   "cell_type": "markdown",
   "id": "d9b7aed939d9291f",
   "metadata": {
    "lang": "de",
    "slideshow": {
     "slide_type": "slide"
    },
    "tags": [
     "slide"
    ]
   },
   "source": [
    "\n",
    "## Übliche Namen für statische Fabrikmethoden\n",
    "\n",
    "- `from`: Typumwandlung oder beschriebene Instanz\n",
    "- `of`: Aggregation mehrerer Parameter\n",
    "- `valueOf`: Alternative zu `from` und `of`\n",
    "- `instance` oder `getInstance`: Beschriebene Instanz\n",
    "- `create` oder `newInstance`: Neue Instanz\n",
    "- `get[Type]`: Wie `getInstance`, aber in anderer Klasse\n",
    "- `new[Type]`: Wie `newInstance`, aber in anderer Klasse\n",
    "- `type`: Alternative zu `get[Type]` und `new[Type]`"
   ]
  },
  {
   "cell_type": "code",
   "execution_count": null,
   "id": "cc6a856f26f2120e",
   "metadata": {
    "slideshow": {
     "slide_type": "subslide"
    },
    "tags": [
     "keep",
     "subslide"
    ]
   },
   "outputs": [],
   "source": [
    "import java.util.Arrays;\n",
    "import java.util.List;\n",
    "import java.util.Date;\n",
    "import java.time.Instant;"
   ]
  },
  {
   "cell_type": "code",
   "execution_count": null,
   "id": "9249e8f7f6826ed0",
   "metadata": {
    "tags": [
     "keep"
    ]
   },
   "outputs": [],
   "source": [
    "Date.from(Instant.now())"
   ]
  },
  {
   "cell_type": "code",
   "execution_count": null,
   "id": "d4e152b5f46f59b2",
   "metadata": {
    "tags": [
     "keep"
    ]
   },
   "outputs": [],
   "source": [
    "List.of(\"a\", \"b\", \"c\")"
   ]
  },
  {
   "cell_type": "markdown",
   "id": "3ab038ff9fb22516",
   "metadata": {
    "lang": "de",
    "slideshow": {
     "slide_type": "slide"
    },
    "tags": [
     "slide"
    ]
   },
   "source": [
    "\n",
    "## Workshop: Music Playlist Generator\n",
    "\n",
    "- Implementieren Sie eines Systems zur Generierung von Musik-Playlists\n",
    "- Verwenden Sie dabei statische Fabrikmethoden"
   ]
  },
  {
   "cell_type": "markdown",
   "id": "d804a364559c5443",
   "metadata": {
    "lang": "de",
    "slideshow": {
     "slide_type": "slide"
    },
    "tags": [
     "slide"
    ]
   },
   "source": [
    "\n",
    "### Gegebene Klassen und Interfaces\n",
    "\n",
    "- `Song` (Interface)\n",
    "- `Mp3Song`, `WavSong` (Implementierungen von `Song`)\n",
    "- `Genre`, `Mood` (Enums)\n",
    "- `UserPreferences`\n",
    "- `Playlist`"
   ]
  },
  {
   "cell_type": "code",
   "execution_count": null,
   "id": "e18150d697cb2db1",
   "metadata": {
    "slideshow": {
     "slide_type": "subslide"
    },
    "tags": [
     "keep",
     "subslide"
    ]
   },
   "outputs": [],
   "source": [
    "public enum Genre { ROCK, POP, CLASSICAL }\n",
    "public enum Mood { HAPPY, SAD, ENERGETIC, RELAXED }"
   ]
  },
  {
   "cell_type": "code",
   "execution_count": null,
   "id": "b4ee4f9c76ce9399",
   "metadata": {
    "tags": [
     "keep"
    ]
   },
   "outputs": [],
   "source": [
    "public interface Song {\n",
    "    String getTitle();\n",
    "    Genre getGenre();\n",
    "    Mood getMood();\n",
    "}"
   ]
  },
  {
   "cell_type": "code",
   "execution_count": null,
   "id": "9fc1c61069759993",
   "metadata": {
    "slideshow": {
     "slide_type": "subslide"
    },
    "tags": [
     "keep",
     "subslide"
    ]
   },
   "outputs": [],
   "source": [
    "public class Mp3Song implements Song {\n",
    "    private String title;\n",
    "    private Genre genre;\n",
    "    private Mood mood;\n",
    "\n",
    "    public Mp3Song(String title, Genre genre, Mood mood) {\n",
    "        this.title = title;\n",
    "        this.genre = genre;\n",
    "        this.mood = mood;\n",
    "    }\n",
    "\n",
    "    @Override public String getTitle() { return title; }\n",
    "    @Override public Genre getGenre() { return genre; }\n",
    "    @Override public Mood getMood() { return mood; }\n",
    "\n",
    "    @Override public String toString() {\n",
    "        return String.format(\"Mp3Song(%s, %s, %s)\", title, genre, mood);\n",
    "    }\n",
    "}"
   ]
  },
  {
   "cell_type": "code",
   "execution_count": null,
   "id": "e1e2bb0fe8117b2f",
   "metadata": {
    "slideshow": {
     "slide_type": "subslide"
    },
    "tags": [
     "keep",
     "subslide"
    ]
   },
   "outputs": [],
   "source": [
    "public class WavSong implements Song {\n",
    "    private String title;\n",
    "    private Genre genre;\n",
    "    private Mood mood;\n",
    "\n",
    "    public WavSong(String title, Genre genre, Mood mood) {\n",
    "        this.title = title;\n",
    "        this.genre = genre;\n",
    "        this.mood = mood;\n",
    "    }\n",
    "\n",
    "    @Override public String getTitle() { return title; }\n",
    "    @Override public Genre getGenre() { return genre; }\n",
    "    @Override public Mood getMood() { return mood; }\n",
    "\n",
    "    @Override public String toString() {\n",
    "        return String.format(\"WavSong(%s, %s, %s)\", title, genre, mood);\n",
    "    }\n",
    "}"
   ]
  },
  {
   "cell_type": "code",
   "execution_count": null,
   "id": "c50d301ca212b6b1",
   "metadata": {
    "slideshow": {
     "slide_type": "subslide"
    },
    "tags": [
     "keep",
     "subslide"
    ]
   },
   "outputs": [],
   "source": [
    "import java.util.*;"
   ]
  },
  {
   "cell_type": "code",
   "execution_count": null,
   "id": "6ebe25a4fba268b3",
   "metadata": {
    "tags": [
     "keep"
    ]
   },
   "outputs": [],
   "source": [
    "public class UserPreferences {\n",
    "    private Set<Genre> genres = new HashSet<>();\n",
    "    private Set<Mood> moods = new HashSet<>();\n",
    "\n",
    "    public void addGenre(Genre genre) { genres.add(genre); }\n",
    "    public void addMood(Mood mood) { moods.add(mood); }\n",
    "    public Set<Genre> getGenres() { return genres; }\n",
    "    public Set<Mood> getMoods() { return moods; }\n",
    "}"
   ]
  },
  {
   "cell_type": "code",
   "execution_count": null,
   "id": "2a5f97a79a625339",
   "metadata": {
    "tags": [
     "keep"
    ]
   },
   "outputs": [],
   "source": [
    "public class Playlist {\n",
    "    private List<Song> songs = new ArrayList<>();\n",
    "\n",
    "    public void addSong(Song song) { songs.add(song); }\n",
    "    public List<Song> getSongs() { return songs; }\n",
    "\n",
    "    @Override public String toString() {\n",
    "        return \"Playlist\" + songs.toString();\n",
    "    }\n",
    "}"
   ]
  },
  {
   "cell_type": "code",
   "execution_count": null,
   "id": "05cfddbde71ac216",
   "metadata": {
    "tags": [
     "keep"
    ]
   },
   "outputs": [],
   "source": [
    "public static class Songs {\n",
    "    public static List<Song> availableSongs = List.of(\n",
    "        new Mp3Song(\"Bohemian Rhapsody\", Genre.ROCK, Mood.ENERGETIC),\n",
    "        new WavSong(\"Stairway to Heaven\", Genre.ROCK, Mood.RELAXED),\n",
    "        new Mp3Song(\"Imagine\", Genre.POP, Mood.RELAXED),\n",
    "        new WavSong(\"Billie Jean\", Genre.POP, Mood.ENERGETIC),\n",
    "        new Mp3Song(\"Symphony No. 5\", Genre.CLASSICAL, Mood.ENERGETIC),\n",
    "        new WavSong(\"Für Elise\", Genre.CLASSICAL, Mood.RELAXED),\n",
    "        new Mp3Song(\"Hotel California\", Genre.ROCK, Mood.RELAXED),\n",
    "        new WavSong(\"Like a Rolling Stone\", Genre.ROCK, Mood.ENERGETIC),\n",
    "        new Mp3Song(\"Yesterday\", Genre.POP, Mood.SAD),\n",
    "        new WavSong(\"Piano Concerto No. 1\", Genre.CLASSICAL, Mood.HAPPY)\n",
    "    );\n",
    "}"
   ]
  },
  {
   "cell_type": "markdown",
   "id": "2dae777cb2f65544",
   "metadata": {
    "lang": "de",
    "slideshow": {
     "slide_type": "slide"
    },
    "tags": [
     "slide"
    ]
   },
   "source": [
    "\n",
    "### Aufgaben\n",
    "\n",
    "1. Implementieren Sie die statische Fabrikmethode `Song.fromGenreAndMood`\n",
    "2. Implementieren Sie die statische Fabrikmethode `Playlist.fromSongs`\n",
    "3. Implementieren Sie die statische Fabrikmethode `Playlist.fromUserPreferences`\n",
    "\n",
    "(Im Folgenden finden Sie genauere Beschreibungen der Aufgaben.)"
   ]
  },
  {
   "cell_type": "markdown",
   "id": "dd92057619cde7c3",
   "metadata": {
    "lang": "de",
    "slideshow": {
     "slide_type": "slide"
    },
    "tags": [
     "slide"
    ]
   },
   "source": [
    "\n",
    "#### Aufgabe 1: `Song.fromGenreAndMood`\n",
    "\n",
    "- Implementieren Sie die Methode in der `Song`-Schnittstelle\n",
    "- Wählen Sie zufällig ein passendes Lied aus `Songs.availableSongs`\n",
    "- Wenn kein passendes Lied gefunden wird, werfen Sie eine `IllegalArgumentException`"
   ]
  },
  {
   "cell_type": "markdown",
   "id": "89e51eeacda7597c",
   "metadata": {
    "lang": "de",
    "slideshow": {
     "slide_type": "slide"
    },
    "tags": [
     "slide"
    ]
   },
   "source": [
    "\n",
    "#### Aufgabe 2: `Playlist.fromSongs`\n",
    "\n",
    "- Implementieren Sie die Methode in der `Playlist`-Klasse\n",
    "- Erstellen Sie eine neue `Playlist` und fügen Sie alle übergebenen Lieder hinzu"
   ]
  },
  {
   "cell_type": "markdown",
   "id": "6f301357811a6529",
   "metadata": {
    "lang": "de",
    "slideshow": {
     "slide_type": "slide"
    },
    "tags": [
     "slide"
    ]
   },
   "source": [
    "\n",
    "#### Aufgabe 3: `Playlist.fromUserPreferences`\n",
    "\n",
    "- Implementieren Sie die Methode in der `Playlist`-Klasse\n",
    "- Erstellen Sie eine `Playlist` basierend auf den Präferenzen des Benutzers\n",
    "- Wählen Sie für jede Kombination von Genre und Mood ein zufälliges Lied aus\n",
    "- Verwenden Sie die `Song.fromGenreAndMood`-Methode"
   ]
  },
  {
   "cell_type": "markdown",
   "id": "db0d94b0be6c9355",
   "metadata": {
    "lang": "de",
    "slideshow": {
     "slide_type": "slide"
    },
    "tags": [
     "slide"
    ]
   },
   "source": [
    "\n",
    "### Testen Sie Ihre Implementierung\n",
    "\n",
    "- Erstellen Sie `UserPreferences` mit verschiedenen Genres und Moods\n",
    "- Generieren Sie Playlists mit Ihren implementierten Methoden\n",
    "- Überprüfen Sie, ob die generierten Playlists den Benutzervorlieben entsprechen"
   ]
  },
  {
   "cell_type": "code",
   "execution_count": null,
   "id": "abe877d280b8b892",
   "metadata": {
    "tags": [
     "keep"
    ]
   },
   "outputs": [],
   "source": [
    "import java.util.*;"
   ]
  },
  {
   "cell_type": "code",
   "execution_count": null,
   "id": "5a7d4ad0024db1ae",
   "metadata": {
    "tags": [
     "alt"
    ]
   },
   "outputs": [],
   "source": [
    "public interface Song {\n",
    "    String getTitle();\n",
    "    Genre getGenre();\n",
    "    Mood getMood();\n",
    "\n",
    "    static Song fromGenreAndMood(Genre genre, Mood mood) {\n",
    "        List<Song> matchingSongs = Songs.availableSongs.stream()\n",
    "            .filter(song -> song.getGenre() == genre && song.getMood() == mood)\n",
    "            .toList();\n",
    "\n",
    "        if (matchingSongs.isEmpty()) {\n",
    "            throw new IllegalArgumentException(\"No song found for given genre and mood\");\n",
    "        }\n",
    "\n",
    "        return matchingSongs.get(new Random().nextInt(matchingSongs.size()));\n",
    "    }\n",
    "}"
   ]
  },
  {
   "cell_type": "code",
   "execution_count": null,
   "id": "d46f6406931b3efe",
   "metadata": {
    "tags": [
     "alt"
    ]
   },
   "outputs": [],
   "source": [
    "public class Playlist {\n",
    "    private List<Song> songs = new ArrayList<>();\n",
    "\n",
    "    public void addSong(Song song) { songs.add(song); }\n",
    "    public List<Song> getSongs() { return songs; }\n",
    "\n",
    "    @Override public String toString() {\n",
    "        return \"Playlist\" + songs.toString();\n",
    "    }\n",
    "\n",
    "    public static Playlist fromSongs(List<Song> songs) {\n",
    "        Playlist playlist = new Playlist();\n",
    "        songs.forEach(playlist::addSong);\n",
    "        return playlist;\n",
    "    }\n",
    "\n",
    "    public static Playlist fromUserPreferences(UserPreferences preferences) {\n",
    "        Playlist playlist = new Playlist();\n",
    "        for (Genre genre : preferences.getGenres()) {\n",
    "            for (Mood mood : preferences.getMoods()) {\n",
    "                try {\n",
    "                    Song song = Song.fromGenreAndMood(genre, mood);\n",
    "                    playlist.addSong(song);\n",
    "                } catch (IllegalArgumentException e) {\n",
    "                    // No song found for this combination, continue to the next\n",
    "                }\n",
    "            }\n",
    "        }\n",
    "        return playlist;\n",
    "    }\n",
    "}"
   ]
  },
  {
   "cell_type": "code",
   "execution_count": null,
   "id": "e1ce2ab08d2e3737",
   "metadata": {
    "tags": [
     "keep"
    ]
   },
   "outputs": [],
   "source": [
    "UserPreferences preferences = new UserPreferences();\n",
    "preferences.addGenre(Genre.ROCK);\n",
    "preferences.addGenre(Genre.POP);\n",
    "preferences.addMood(Mood.ENERGETIC);\n",
    "preferences.addMood(Mood.RELAXED);"
   ]
  },
  {
   "cell_type": "code",
   "execution_count": null,
   "id": "4b75f1e2498e792a",
   "metadata": {
    "tags": [
     "keep"
    ]
   },
   "outputs": [],
   "source": [
    "Playlist playlist = Playlist.fromUserPreferences(preferences);\n",
    "System.out.println(playlist);"
   ]
  },
  {
   "cell_type": "code",
   "execution_count": null,
   "id": "cb84d84b5ab7b18d",
   "metadata": {
    "tags": [
     "keep"
    ]
   },
   "outputs": [],
   "source": [
    "Song rock = Song.fromGenreAndMood(Genre.ROCK, Mood.ENERGETIC);\n",
    "System.out.println(rock);"
   ]
  },
  {
   "cell_type": "code",
   "execution_count": null,
   "id": "099ad549452de498",
   "metadata": {
    "tags": [
     "keep"
    ]
   },
   "outputs": [],
   "source": [
    "Playlist customPlaylist = Playlist.fromSongs(Arrays.asList(\n",
    "    Song.fromGenreAndMood(Genre.ROCK, Mood.ENERGETIC),\n",
    "    Song.fromGenreAndMood(Genre.POP, Mood.RELAXED),\n",
    "    Song.fromGenreAndMood(Genre.CLASSICAL, Mood.HAPPY)\n",
    "));\n",
    "System.out.println(customPlaylist);"
   ]
  },
  {
   "cell_type": "code",
   "execution_count": null,
   "id": "6b4e03423667dbb7",
   "metadata": {},
   "outputs": [],
   "source": []
  }
 ],
 "metadata": {
  "jupytext": {
   "cell_metadata_filter": "tags,lang,-all",
   "encoding": "// -*- coding: utf-8 -*-",
   "main_language": "java",
   "notebook_metadata_filter": "-all"
  },
  "kernelspec": {
   "display_name": "Java",
   "language": "java",
   "name": "java"
  },
  "language_info": {
   "codemirror_mode": "java",
   "file_extension": ".java",
   "mimetype": "text/java",
   "name": "Java",
   "pygments_lexer": "java",
   "version": ""
  }
 },
 "nbformat": 4,
 "nbformat_minor": 5
}
