{
 "cells": [
  {
   "cell_type": "markdown",
   "id": "9192f25cc4039846",
   "metadata": {
    "lang": "de",
    "slideshow": {
     "slide_type": "slide"
    },
    "tags": [
     "slide"
    ]
   },
   "source": [
    "\n",
    "<img src=\"data:image/svg+xml;base64,PHN2ZyB4bWxucz0iaHR0cDovL3d3dy53My5vcmcvMjAwMC9zdmciIHdpZHRoPSI2NCIgaGVpZ2h0\n",
    "PSI2NCIgdmlld0JveD0iMCAwIDMyIDMyIj48cGF0aCBkPSJNMTEuNjIyIDI0Ljc0cy0xLjIzLjc0\n",
    "OC44NTUuOTYyYzIuNTEuMzIgMy44NDcuMjY3IDYuNjI1LS4yNjdhMTAuMDIgMTAuMDIgMCAwIDAg\n",
    "MS43NjMuODU1Yy02LjI1IDIuNjcyLTE0LjE2LS4xNi05LjI0NC0xLjU1em0tLjgtMy40NzNzLTEu\n",
    "MzM2IDEuMDE1Ljc0OCAxLjIzYzIuNzI1LjI2NyA0Ljg2Mi4zMiA4LjU1LS40MjdhMy4yNiAzLjI2\n",
    "IDAgMCAwIDEuMjgyLjgwMWMtNy41MzQgMi4yNDQtMTUuOTc2LjIxNC0xMC41OC0xLjYwM3ptMTQu\n",
    "NzQ3IDYuMDlzLjkwOC43NDgtMS4wMTUgMS4zMzZjLTMuNTggMS4wNy0xNS4wMTQgMS4zOS0xOC4y\n",
    "MiAwLTEuMTIyLS40OCAxLjAxNS0xLjE3NSAxLjctMS4yODIuNjk1LS4xNiAxLjA3LS4xNiAxLjA3\n",
    "LS4xNi0xLjIzLS44NTUtOC4xNzUgMS43NjMtMy41MjYgMi41MSAxMi43NyAyLjA4NCAyMy4yOTYt\n",
    "LjkwOCAxOS45ODMtMi40MDR6TTEyLjIgMTcuNjMzcy01LjgyNCAxLjM5LTIuMDg0IDEuODdjMS42\n",
    "MDMuMjE0IDQuNzU1LjE2IDcuNjk0LS4wNTMgMi40MDQtLjIxNCA0LjgxLS42NCA0LjgxLS42NHMt\n",
    "Ljg1NS4zNzQtMS40NDMuNzQ4Yy01LjkzIDEuNTUtMTcuMzEyLjg1NS0xNC4wNTItLjc0OCAyLjc3\n",
    "OC0xLjMzNiA1LjA3Ni0xLjE3NSA1LjA3Ni0xLjE3NXptMTAuNDIgNS44MjRjNS45ODQtMy4xIDMu\n",
    "MjA2LTYuMDkgMS4yODItNS43MTctLjQ4LjEwNy0uNjk1LjIxNC0uNjk1LjIxNHMuMTYtLjMyLjUz\n",
    "NC0uNDI3YzMuNzk0LTEuMzM2IDYuNzg2IDQuMDA3LTEuMjMgNi4wOSAwIDAgLjA1My0uMDUzLjEw\n",
    "Ny0uMTZ6bS05LjgzIDguNDQyYzUuNzcuMzc0IDE0LjU4Ny0uMjE0IDE0LjgtMi45NCAwIDAtLjQy\n",
    "NyAxLjA3LTQuNzU1IDEuODctNC45MTYuOTA4LTExLjAwNy44LTE0LjU4Ny4yMTQgMCAwIC43NDgu\n",
    "NjQgNC41NDIuODU1eiIgZmlsbD0iIzRlNzg5NiIvPjxwYXRoIGQ9Ik0xOC45OTYuMDAxczMuMzEz\n",
    "IDMuMzY2LTMuMTUyIDguNDQyYy01LjE4MyA0LjExNC0xLjE3NSA2LjQ2NSAwIDkuMTM3LTMuMDQ2\n",
    "LTIuNzI1LTUuMjM2LTUuMTMtMy43NC03LjM3M0MxNC4yOTQgNi44OTMgMjAuMzMyIDUuMyAxOC45\n",
    "OTYuMDAxem0tMS43IDE1LjMzNWMxLjU1IDEuNzYzLS40MjcgMy4zNjYtLjQyNyAzLjM2NnMzLjk1\n",
    "NC0yLjAzIDIuMTM3LTQuNTQyYy0xLjY1Ni0yLjQwNC0yLjk0LTMuNTggNC4wMDctNy41ODcgMCAw\n",
    "LTEwLjk1MyAyLjcyNS01LjcxNyA4Ljc2M3oiIGZpbGw9IiNmNTgyMTkiLz48L3N2Zz4=\n",
    "\"\n",
    "     alt=\"Java Logo\" style=\"display:block;margin:auto;width:5%\"/>\n",
    "<br>\n",
    "\n",
    "<div style=\"text-align:center; font-size:200%;\">\n",
    " <b>Bibliothekssystem: Einführung</b>\n",
    "</div>\n",
    "<br/>\n",
    "<div style=\"text-align:center; font-size:120%;\">Dr. Matthias Hölzl</div>\n",
    "<br/>\n",
    "<div style=\"text-align:center;\">Coding-Akademie München</div>\n",
    "<br/>"
   ]
  },
  {
   "cell_type": "markdown",
   "id": "e5b95063adc10b4e",
   "metadata": {
    "lang": "de",
    "slideshow": {
     "slide_type": "subslide"
    },
    "tags": [
     "subslide"
    ]
   },
   "source": [
    "\n",
    "# Bibliotheks-Verwaltungssystem\n",
    "\n",
    "- System zur Verwaltung von Benutzern und Medienbestand in Bibliotheken\n",
    "- Sowohl für Bibliothekare als auch Benutzer\n",
    "- Aktivitäten: Registrierung, Suche, Ausleihe, Rückgabe, Strafzahlungen\n",
    "- Suche von Medien in anderen Bibliotheken und Online-Repositories\n",
    "- Empfehlungen für Benutzer\n",
    "- Verschiedene Oberflächen (Web, App, Terminal)"
   ]
  },
  {
   "cell_type": "markdown",
   "id": "aa88a7e7fc4986b5",
   "metadata": {
    "lang": "de",
    "slideshow": {
     "slide_type": "subslide"
    },
    "tags": [
     "subslide"
    ]
   },
   "source": [
    "\n",
    "- Wie könnte das Domänenmodell für ein solches System aussehen?\n",
    "- Welche Konzepte gibt es?\n",
    "- Welche Use-Cases/Anwendungsfälle gibt es?"
   ]
  },
  {
   "cell_type": "markdown",
   "id": "1e5ae98ccaf6610d",
   "metadata": {
    "lang": "de",
    "slideshow": {
     "slide_type": "subslide"
    },
    "tags": [
     "subslide"
    ]
   },
   "source": [
    "\n",
    "## Domänenmodell: Konzepte\n",
    "\n",
    "- Medien\n",
    "  - Bücher, Videos, Musik, ...\n",
    "  - Unterschiedliche Metadaten für verschiedene Medien\n",
    "- Benutzer\n",
    "  - Mitglieder, Besucher\n",
    "  - verschiedene Typen von Mitgliedern: Kinder, Studenten, Senioren, ...\n",
    "  - Unterschiedliche Privilegien\n",
    "  - Aktivitäten: Ausleihen von Medien, Rückgabe, Suche, Strafzahlungen\n",
    "- Bibliothekare\n",
    "  - Verwalten von Benutzern und Medien\n",
    "  - Aktivitäten: Registrierung, Suche, Ausleihe, Rückgabe, Strafzahlungen"
   ]
  },
  {
   "cell_type": "markdown",
   "id": "257483e86723ca07",
   "metadata": {
    "lang": "de",
    "slideshow": {
     "slide_type": "subslide"
    },
    "tags": [
     "subslide"
    ]
   },
   "source": [
    "\n",
    "## Aktivitäten (Bibliothekar)\n",
    "\n",
    "- Verwalten von Mitgliedern (Registrierung, Löschen, Suche, Modifikation,\n",
    "  ...)\n",
    "- Verwaltung von Medien (Hinzufügen, Löschen, Suche, Modifikation ...)\n",
    "- Ausleihen und Rückgabe von Medien (Bibliotheks-Seite)\n",
    "- Veranlassen von Erinnerungen, Strafzahlungen\n",
    "- Anzeige bisheriger Aktivitäten (Hinzufügen, Ausleihen, ...) für alle\n",
    "  Benutzer"
   ]
  },
  {
   "cell_type": "markdown",
   "id": "f8a74c7bcbd70588",
   "metadata": {
    "lang": "de",
    "slideshow": {
     "slide_type": "subslide"
    },
    "tags": [
     "subslide"
    ]
   },
   "source": [
    "\n",
    "## Aktivitäten (Benutzer)\n",
    "\n",
    "- Registrierung, Abmeldung, Mitteilung von Adressänderungen\n",
    "- Suche nach Medien\n",
    "- Ausleihen und Rückgabe von Medien (Benutzer-Seite)\n",
    "- Anzeige der bisherigen Aktivitäten (Ausleihen, Rückgaben, Strafzahlungen)\n",
    "  für den Benutzer"
   ]
  },
  {
   "cell_type": "markdown",
   "id": "ae19e0e1b1742878",
   "metadata": {
    "lang": "de",
    "slideshow": {
     "slide_type": "subslide"
    },
    "tags": [
     "subslide"
    ]
   },
   "source": [
    "\n",
    "## Workshop: Bibliothekssystem (Setup)\n",
    "\n",
    "Starter Kit: `code/starter-kits/library-sk`\n",
    "\n",
    "- Versuchen Sie das Starter Kit zu kompilieren und auszuführen.\n",
    "- Fügen Sie eine Klasse `Book` hinzu, die ein Attribut `title` hat.\n",
    "- Fügen Sie einen Getter für das Attribut `title` hinzu.\n",
    "- Schreiben Sie einen Test, der überprüft, dass der Getter funktioniert.\n",
    "- Erstellen Sie ein Buch im Hauptprogramm und geben Sie den Titel aus.\n",
    "- Entfernen Sie die Dummy-Klasse `DeleteMe` und die Tests dieser Klasse.\n",
    "  Stellen Sie sicher, dass Sie das Projekt immer noch bauen und das\n",
    "  Hauptprogramm und die Tests ausführen können.\n",
    "\n",
    "**Hinweis**: Das ist natürlich kein sinnvoller Test, er dient nur dazu, dass\n",
    "Sie mit der Infrastruktur, die wir in diesem Kurs verwenden, vertraut werden."
   ]
  },
  {
   "cell_type": "markdown",
   "id": "f8a63103e5510c6d",
   "metadata": {
    "lang": "de",
    "slideshow": {
     "slide_type": "subslide"
    },
    "tags": [
     "subslide"
    ]
   },
   "source": [
    "\n",
    "## Workshop: Bibliotheks-Verwaltungssystem (Teil 1)\n",
    "\n",
    "- Entwickeln Sie ein erstes Domänenmodell für das Bibliotheks-Verwaltungssystem\n",
    "  - Sie können z.B. ein Klassendiagramm verwenden oder einfach nur eine Liste\n",
    "    von Klassen und Attributen\n",
    "- Welche Klassen in Ihrem Domänenmodell haben Assoziationen zu\n",
    "  - Mitgliedern?\n",
    "  - Büchern?"
   ]
  },
  {
   "cell_type": "markdown",
   "id": "0ede8c75bf4fd015",
   "metadata": {
    "lang": "de",
    "slideshow": {
     "slide_type": "subslide"
    },
    "tags": [
     "subslide"
    ]
   },
   "source": [
    "\n",
    "- Verwenden Sie das Creator Pattern um zu entscheiden, welche Klasse die\n",
    "  Verantwortung für das Erstellen von Mitgliedern und welche die Verantwortung\n",
    "  für das Erstellen von Büchern hat\n",
    "- Verwenden Sie das Information Expert Pattern um zu entscheiden, welche Klasse\n",
    "  die Verantwortung für das Suchen von Mitgliedern und welche die Verantwortung\n",
    "  für das Suchen von Büchern hat\n",
    "- Implementieren Sie diesen Teil des Domänenmodells in Java\n",
    "- Versuchen Sie dabei das Prinzip der niedrigen Repräsentationslücke anzuwenden"
   ]
  },
  {
   "cell_type": "code",
   "execution_count": null,
   "id": "5639da13d72950f2",
   "metadata": {
    "slideshow": {
     "slide_type": "subslide"
    },
    "tags": [
     "subslide"
    ]
   },
   "outputs": [],
   "source": [
    "import java.util.ArrayList;\n",
    "import java.util.List;"
   ]
  },
  {
   "cell_type": "code",
   "execution_count": null,
   "id": "2b3237783c0fd70c",
   "metadata": {
    "tags": [
     "alt"
    ]
   },
   "outputs": [],
   "source": [
    "class Member {\n",
    "    private String name;\n",
    "    private String address;\n",
    "    private String email;\n",
    "\n",
    "    public Member(String name, String address, String email) {\n",
    "        this.name = name;\n",
    "        this.address = address;\n",
    "        this.email = email;\n",
    "    }\n",
    "\n",
    "    public String getName() {\n",
    "        return name;\n",
    "    }\n",
    "\n",
    "    public String toString() {\n",
    "        return \"Member(\" + name + \", \" + address + \", \" + email  + \")\";\n",
    "    }\n",
    "}"
   ]
  },
  {
   "cell_type": "code",
   "execution_count": null,
   "id": "86ccada9a8883485",
   "metadata": {
    "tags": [
     "alt"
    ]
   },
   "outputs": [],
   "source": [
    "class Book {\n",
    "    private String title;\n",
    "    private String isbn;\n",
    "\n",
    "    public Book(String title, String isbn) {\n",
    "        this.title = title;\n",
    "        this.isbn = isbn;\n",
    "    }\n",
    "\n",
    "    public String getTitle() {\n",
    "        return title;\n",
    "    }\n",
    "\n",
    "    public String toString() {\n",
    "        return \"Book(\" + title + \", \" + isbn + \")\";\n",
    "    }\n",
    "}"
   ]
  },
  {
   "cell_type": "code",
   "execution_count": null,
   "id": "35ecc6a2f5e8b8a8",
   "metadata": {
    "tags": [
     "alt"
    ]
   },
   "outputs": [],
   "source": [
    "class LibrarySystem {\n",
    "    private List<Member> members;\n",
    "    private List<Book> books;\n",
    "\n",
    "    public LibrarySystem() {\n",
    "        members = new ArrayList<>();\n",
    "        books = new ArrayList<>();\n",
    "    }\n",
    "\n",
    "    @Override\n",
    "    public String toString() {\n",
    "        StringBuilder result = new StringBuilder(\"Members:\\n\");\n",
    "        for (Member member : members) {\n",
    "            result.append(\"  \").append(member.getName()).append(\"\\n\");\n",
    "        }\n",
    "        result.append(\"Books:\\n\");\n",
    "        for (Book book : books) {\n",
    "            result.append(\"  \").append(book.getTitle()).append(\"\\n\");\n",
    "        }\n",
    "        return result.toString();\n",
    "    }\n",
    "\n",
    "    public void addMember(String name, String address, String email) {\n",
    "        Member member = new Member(name, address, email);\n",
    "        members.add(member);\n",
    "    }\n",
    "\n",
    "    public void addBook(String title, String isbn) {\n",
    "        Book book = new Book(title, isbn);\n",
    "        books.add(book);\n",
    "    }\n",
    "\n",
    "    public Member findMember(String name) {\n",
    "        for (Member member : members) {\n",
    "            if (member.getName().equals(name)) {\n",
    "                return member;\n",
    "            }\n",
    "        }\n",
    "        return null;\n",
    "    }\n",
    "\n",
    "    public Book findBook(String title) {\n",
    "        for (Book book : books) {\n",
    "            if (book.getTitle().equals(title)) {\n",
    "                return book;\n",
    "            }\n",
    "        }\n",
    "        return null;\n",
    "    }\n",
    "}"
   ]
  },
  {
   "cell_type": "code",
   "execution_count": null,
   "id": "e95ca58533a4699a",
   "metadata": {
    "tags": [
     "alt"
    ]
   },
   "outputs": [],
   "source": [
    "LibrarySystem library = new LibrarySystem();"
   ]
  },
  {
   "cell_type": "code",
   "execution_count": null,
   "id": "92fca25bf8ed74fd",
   "metadata": {
    "lang": "de",
    "tags": [
     "alt"
    ]
   },
   "outputs": [],
   "source": [
    "library.addMember(\"Max Mustermann\", \"Musterstraße 1\", \"max@example.com\");"
   ]
  },
  {
   "cell_type": "code",
   "execution_count": null,
   "id": "a8dcd3677eafa2bd",
   "metadata": {
    "tags": [
     "alt"
    ]
   },
   "outputs": [],
   "source": [
    "library.addBook(\"Design Patterns\", \"978-0-20163-361-0\");"
   ]
  },
  {
   "cell_type": "code",
   "execution_count": null,
   "id": "267612c1812ac2bf",
   "metadata": {
    "tags": [
     "alt"
    ]
   },
   "outputs": [],
   "source": [
    "library.findMember(\"Max Mustermann\");"
   ]
  },
  {
   "cell_type": "code",
   "execution_count": null,
   "id": "82a09ce13e62f92a",
   "metadata": {
    "tags": [
     "alt"
    ]
   },
   "outputs": [],
   "source": [
    "library.findBook(\"Design Patterns\");"
   ]
  },
  {
   "cell_type": "code",
   "execution_count": null,
   "id": "606e6a55c313cc51",
   "metadata": {
    "tags": [
     "alt"
    ]
   },
   "outputs": [],
   "source": [
    "library;"
   ]
  }
 ],
 "metadata": {
  "jupytext": {
   "cell_metadata_filter": "tags,lang,-all",
   "encoding": "// -*- coding: utf-8 -*-",
   "main_language": "java",
   "notebook_metadata_filter": "-all"
  },
  "kernelspec": {
   "display_name": "Java",
   "language": "java",
   "name": "java"
  },
  "language_info": {
   "codemirror_mode": "java",
   "file_extension": ".java",
   "mimetype": "text/java",
   "name": "Java",
   "pygments_lexer": "java",
   "version": ""
  }
 },
 "nbformat": 4,
 "nbformat_minor": 5
}
