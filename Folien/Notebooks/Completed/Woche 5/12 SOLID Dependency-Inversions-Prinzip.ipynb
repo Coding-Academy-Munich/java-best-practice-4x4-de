{
 "cells": [
  {
   "cell_type": "markdown",
   "id": "1784acd1700de508",
   "metadata": {
    "lang": "de",
    "slideshow": {
     "slide_type": "slide"
    },
    "tags": [
     "slide"
    ]
   },
   "source": [
    "<!--\n",
    "clang-format off\n",
    "-->\n",
    "\n",
    "<img src=\"data:image/svg+xml;base64,PHN2ZyB4bWxucz0iaHR0cDovL3d3dy53My5vcmcvMjAwMC9zdmciIHdpZHRoPSI2NCIgaGVpZ2h0\n",
    "PSI2NCIgdmlld0JveD0iMCAwIDMyIDMyIj48cGF0aCBkPSJNMTEuNjIyIDI0Ljc0cy0xLjIzLjc0\n",
    "OC44NTUuOTYyYzIuNTEuMzIgMy44NDcuMjY3IDYuNjI1LS4yNjdhMTAuMDIgMTAuMDIgMCAwIDAg\n",
    "MS43NjMuODU1Yy02LjI1IDIuNjcyLTE0LjE2LS4xNi05LjI0NC0xLjU1em0tLjgtMy40NzNzLTEu\n",
    "MzM2IDEuMDE1Ljc0OCAxLjIzYzIuNzI1LjI2NyA0Ljg2Mi4zMiA4LjU1LS40MjdhMy4yNiAzLjI2\n",
    "IDAgMCAwIDEuMjgyLjgwMWMtNy41MzQgMi4yNDQtMTUuOTc2LjIxNC0xMC41OC0xLjYwM3ptMTQu\n",
    "NzQ3IDYuMDlzLjkwOC43NDgtMS4wMTUgMS4zMzZjLTMuNTggMS4wNy0xNS4wMTQgMS4zOS0xOC4y\n",
    "MiAwLTEuMTIyLS40OCAxLjAxNS0xLjE3NSAxLjctMS4yODIuNjk1LS4xNiAxLjA3LS4xNiAxLjA3\n",
    "LS4xNi0xLjIzLS44NTUtOC4xNzUgMS43NjMtMy41MjYgMi41MSAxMi43NyAyLjA4NCAyMy4yOTYt\n",
    "LjkwOCAxOS45ODMtMi40MDR6TTEyLjIgMTcuNjMzcy01LjgyNCAxLjM5LTIuMDg0IDEuODdjMS42\n",
    "MDMuMjE0IDQuNzU1LjE2IDcuNjk0LS4wNTMgMi40MDQtLjIxNCA0LjgxLS42NCA0LjgxLS42NHMt\n",
    "Ljg1NS4zNzQtMS40NDMuNzQ4Yy01LjkzIDEuNTUtMTcuMzEyLjg1NS0xNC4wNTItLjc0OCAyLjc3\n",
    "OC0xLjMzNiA1LjA3Ni0xLjE3NSA1LjA3Ni0xLjE3NXptMTAuNDIgNS44MjRjNS45ODQtMy4xIDMu\n",
    "MjA2LTYuMDkgMS4yODItNS43MTctLjQ4LjEwNy0uNjk1LjIxNC0uNjk1LjIxNHMuMTYtLjMyLjUz\n",
    "NC0uNDI3YzMuNzk0LTEuMzM2IDYuNzg2IDQuMDA3LTEuMjMgNi4wOSAwIDAgLjA1My0uMDUzLjEw\n",
    "Ny0uMTZ6bS05LjgzIDguNDQyYzUuNzcuMzc0IDE0LjU4Ny0uMjE0IDE0LjgtMi45NCAwIDAtLjQy\n",
    "NyAxLjA3LTQuNzU1IDEuODctNC45MTYuOTA4LTExLjAwNy44LTE0LjU4Ny4yMTQgMCAwIC43NDgu\n",
    "NjQgNC41NDIuODU1eiIgZmlsbD0iIzRlNzg5NiIvPjxwYXRoIGQ9Ik0xOC45OTYuMDAxczMuMzEz\n",
    "IDMuMzY2LTMuMTUyIDguNDQyYy01LjE4MyA0LjExNC0xLjE3NSA2LjQ2NSAwIDkuMTM3LTMuMDQ2\n",
    "LTIuNzI1LTUuMjM2LTUuMTMtMy43NC03LjM3M0MxNC4yOTQgNi44OTMgMjAuMzMyIDUuMyAxOC45\n",
    "OTYuMDAxem0tMS43IDE1LjMzNWMxLjU1IDEuNzYzLS40MjcgMy4zNjYtLjQyNyAzLjM2NnMzLjk1\n",
    "NC0yLjAzIDIuMTM3LTQuNTQyYy0xLjY1Ni0yLjQwNC0yLjk0LTMuNTggNC4wMDctNy41ODcgMCAw\n",
    "LTEwLjk1MyAyLjcyNS01LjcxNyA4Ljc2M3oiIGZpbGw9IiNmNTgyMTkiLz48L3N2Zz4=\n",
    "\"\n",
    "     alt=\"Java Logo\" style=\"display:block;margin:auto;width:5%\"/>\n",
    "<br>\n",
    "\n",
    "<div style=\"text-align:center; font-size:200%;\">\n",
    " <b>SOLID: Dependency-Inversions-Prinzip</b>\n",
    "</div>\n",
    "<br/>\n",
    "<div style=\"text-align:center; font-size:120%;\">Dr. Matthias Hölzl</div>\n",
    "<br/>\n",
    "<div style=\"text-align:center;\">Coding-Akademie München</div>\n",
    "<br/>"
   ]
  },
  {
   "cell_type": "markdown",
   "id": "a746313c51a6882c",
   "metadata": {
    "lang": "de",
    "slideshow": {
     "slide_type": "subslide"
    },
    "tags": [
     "subslide"
    ]
   },
   "source": [
    "\n",
    "# Abhängigkeiten\n",
    "\n",
    "- Wir müssen zwei Arten von Abhängigkeiten unterscheiden:\n",
    "  - Daten- und Kontrollfluss\n",
    "  - Quellcode-Abhängigkeiten\n",
    "- Daten- und Kontrollfluss-Abhängigkeiten sind inhärent in der Logik\n",
    "- Quellcode-Abhängigkeiten können wir durch die Architektur kontrollieren"
   ]
  },
  {
   "cell_type": "markdown",
   "id": "54e6738c0e1c508d",
   "metadata": {
    "lang": "de",
    "slideshow": {
     "slide_type": "subslide"
    },
    "tags": [
     "subslide"
    ]
   },
   "source": [
    "\n",
    "## Beispiel\n",
    "\n",
    "- Modul `MyModule.java` schreibt Daten in eine Datenbank\n",
    "- Datenfluss: von `MyModule.java` zur Datenbank\n",
    "- Quellcode-Abhängigkeit: `MyModule.java` hängt von der Datenbank (`Database.java`) ab"
   ]
  },
  {
   "cell_type": "markdown",
   "id": "fcb702a7d6678bcf",
   "metadata": {
    "lang": "de",
    "slideshow": {
     "slide_type": "subslide"
    },
    "tags": [
     "subslide"
    ]
   },
   "source": [
    "\n",
    "Modul `MyModule.java`:"
   ]
  },
  {
   "cell_type": "code",
   "execution_count": null,
   "id": "5639da13d72950f2",
   "metadata": {
    "tags": [
     "keep"
    ]
   },
   "outputs": [],
   "source": [
    "import java.util.ArrayList;\n",
    "import java.util.List;"
   ]
  },
  {
   "cell_type": "code",
   "execution_count": null,
   "id": "da384ed72ef1be90",
   "metadata": {
    "tags": [
     "keep"
    ]
   },
   "outputs": [],
   "source": [
    "public class Database {\n",
    "    public List<String> Execute(String query, String data) {\n",
    "        // Simulate database interaction\n",
    "        List<String> result = new ArrayList<>();\n",
    "        if (query.startsWith(\"SELECT\")) {\n",
    "            result.add(\"Data from the database\");\n",
    "        } else if (query.startsWith(\"INSERT\")) {\n",
    "            System.out.println(\"Inserted: \" + data);\n",
    "        }\n",
    "        return result;\n",
    "    }\n",
    "}"
   ]
  },
  {
   "cell_type": "code",
   "execution_count": null,
   "id": "fb7f063cea329e10",
   "metadata": {
    "tags": [
     "keep"
    ]
   },
   "outputs": [],
   "source": [
    "public class MyDomainClassV1 {\n",
    "    private Database db = new Database();\n",
    "\n",
    "    public void performWork(String data) {\n",
    "        data = \"Processed: \" + data;\n",
    "        db.Execute(\"INSERT INTO my_table VALUES (?)\", data);\n",
    "    }\n",
    "\n",
    "    public List<String> retrieveResult() {\n",
    "        return db.Execute(\"SELECT * FROM my_table\", \"\");\n",
    "    }\n",
    "}"
   ]
  },
  {
   "cell_type": "code",
   "execution_count": null,
   "id": "afac0e8677a5048a",
   "metadata": {
    "slideshow": {
     "slide_type": "subslide"
    },
    "tags": [
     "keep",
     "subslide"
    ]
   },
   "outputs": [],
   "source": [
    "MyDomainClassV1 myDomainObjectV1 = new MyDomainClassV1();"
   ]
  },
  {
   "cell_type": "code",
   "execution_count": null,
   "id": "1164856ea338165e",
   "metadata": {
    "tags": [
     "keep"
    ]
   },
   "outputs": [],
   "source": [
    "myDomainObjectV1.performWork(\"Hello World\");"
   ]
  },
  {
   "cell_type": "code",
   "execution_count": null,
   "id": "f7fa496dbbe2ef46",
   "metadata": {
    "tags": [
     "keep"
    ]
   },
   "outputs": [],
   "source": [
    "System.out.println(myDomainObjectV1.retrieveResult());"
   ]
  },
  {
   "cell_type": "markdown",
   "id": "1ed990a936d0293a",
   "metadata": {
    "lang": "de",
    "slideshow": {
     "slide_type": "subslide"
    },
    "tags": [
     "subslide"
    ]
   },
   "source": [
    "\n",
    "Die Quellcode-Abhängigkeit geht in die gleiche Richtung wie der Datenfluss:\n",
    "\n",
    "`MyModule.java` ⟹ `Database.java`\n",
    "\n",
    "<img src=\"img/db-example-01.png\"\n",
    "     style=\"display:block;margin:auto;width:75%\"/>"
   ]
  },
  {
   "cell_type": "markdown",
   "id": "d7841be68ec5ffa5",
   "metadata": {
    "lang": "de",
    "slideshow": {
     "slide_type": "subslide"
    },
    "tags": [
     "subslide"
    ]
   },
   "source": [
    "\n",
    "Wir würden derartige Abhängigkeiten im Kern unsere Anwendung gerne vermeiden\n",
    "\n",
    "- Einfacher zu testen\n",
    "- Einfacher zu erweitern\n",
    "- Einfacher externe Abhängigkeiten zu ersetzen\n",
    "- Einfacher den Code zu verstehen\n",
    "- ..."
   ]
  },
  {
   "cell_type": "markdown",
   "id": "bb84c0151b793f52",
   "metadata": {
    "lang": "de",
    "slideshow": {
     "slide_type": "subslide"
    },
    "tags": [
     "subslide"
    ]
   },
   "source": [
    "\n",
    "<img src=\"img/db-example-02.png\"\n",
    "     style=\"display:block;margin:auto;width:75%\"/>"
   ]
  },
  {
   "cell_type": "markdown",
   "id": "31c082e9a7ead854",
   "metadata": {
    "lang": "de",
    "slideshow": {
     "slide_type": "subslide"
    },
    "tags": [
     "subslide"
    ]
   },
   "source": [
    "\n",
    "- Modul `MyModule.java`:\n",
    "  - Keine Abhängigkeit mehr zu `Database.java`\n",
    "  - Adapter Pattern"
   ]
  },
  {
   "cell_type": "code",
   "execution_count": null,
   "id": "ea76f976673632f9",
   "metadata": {
    "slideshow": {
     "slide_type": "subslide"
    },
    "tags": [
     "keep",
     "subslide"
    ]
   },
   "outputs": [],
   "source": [
    "public interface AbstractDatabaseAdapter {\n",
    "    void saveObject(String data);\n",
    "    List<String> retrieveData();\n",
    "}"
   ]
  },
  {
   "cell_type": "code",
   "execution_count": null,
   "id": "3c84eaffe11b8763",
   "metadata": {
    "tags": [
     "keep"
    ]
   },
   "outputs": [],
   "source": [
    "public class MyDomainClassV2 {\n",
    "    private AbstractDatabaseAdapter db;\n",
    "\n",
    "    public MyDomainClassV2(AbstractDatabaseAdapter db) {\n",
    "        this.db = db;\n",
    "    }\n",
    "\n",
    "    public void performWork(String data) {\n",
    "        data = \"Processed: \" + data;\n",
    "        db.saveObject(data);\n",
    "    }\n",
    "\n",
    "    public List<String> retrieveResult() {\n",
    "        return db.retrieveData();\n",
    "    }\n",
    "}"
   ]
  },
  {
   "cell_type": "markdown",
   "id": "f5c3047ae8823cc3",
   "metadata": {
    "lang": "de",
    "slideshow": {
     "slide_type": "subslide"
    },
    "tags": [
     "subslide"
    ]
   },
   "source": [
    "\n",
    "- Modul `ConcreteDatabaseAdapter.java`:\n",
    "  - Implementiert `AbstractDatabaseAdapter` für `Database.java`\n",
    "  - Hängt von `Database.java` ab"
   ]
  },
  {
   "cell_type": "code",
   "execution_count": null,
   "id": "acfa2632ec7f90f9",
   "metadata": {
    "tags": [
     "keep"
    ]
   },
   "outputs": [],
   "source": [
    "public class ConcreteDatabaseAdapter implements AbstractDatabaseAdapter {\n",
    "    private Database db = new Database();\n",
    "\n",
    "    @Override\n",
    "    public void saveObject(String data) {\n",
    "        db.Execute(\"INSERT INTO my_table VALUES (?)\", data);\n",
    "    }\n",
    "\n",
    "    @Override\n",
    "    public List<String> retrieveData() {\n",
    "        return db.Execute(\"SELECT * FROM my_table\", \"\");\n",
    "    }\n",
    "}"
   ]
  },
  {
   "cell_type": "markdown",
   "id": "f0616b30b14e09e4",
   "metadata": {
    "lang": "de",
    "slideshow": {
     "slide_type": "subslide"
    },
    "tags": [
     "subslide"
    ]
   },
   "source": [
    "\n",
    "- Modul `Main.java`:"
   ]
  },
  {
   "cell_type": "code",
   "execution_count": null,
   "id": "66e35e696e396bae",
   "metadata": {
    "tags": [
     "keep"
    ]
   },
   "outputs": [],
   "source": [
    "AbstractDatabaseAdapter dbAdapter = new ConcreteDatabaseAdapter();"
   ]
  },
  {
   "cell_type": "code",
   "execution_count": null,
   "id": "9276e882f09f2809",
   "metadata": {
    "tags": [
     "keep"
    ]
   },
   "outputs": [],
   "source": [
    "MyDomainClassV2 myDomainObjectV2 = new MyDomainClassV2(dbAdapter);"
   ]
  },
  {
   "cell_type": "code",
   "execution_count": null,
   "id": "7756c9328b7c0f1a",
   "metadata": {
    "tags": [
     "keep"
    ]
   },
   "outputs": [],
   "source": [
    "myDomainObjectV2.performWork(\"Hello World\");"
   ]
  },
  {
   "cell_type": "code",
   "execution_count": null,
   "id": "1e3d976d65ba8f24",
   "metadata": {
    "tags": [
     "keep"
    ]
   },
   "outputs": [],
   "source": [
    "myDomainObjectV2.retrieveResult();"
   ]
  },
  {
   "cell_type": "markdown",
   "id": "ef27447470f93635",
   "metadata": {
    "lang": "de",
    "slideshow": {
     "slide_type": "slide"
    },
    "tags": [
     "slide"
    ]
   },
   "source": [
    "\n",
    "# SOLID: Dependency Inversion Prinzip\n",
    "\n",
    "- Die Kernfunktionalität eines Systems hängt nicht von seiner Umgebung ab\n",
    "  - **Konkrete Artefakte hängen von Abstraktionen ab** (nicht umgekehrt)\n",
    "  - **Instabile Artefakte hängen von stabilen Artefakten ab** (nicht umgekehrt)\n",
    "  - **Äußere Schichten** der Architektur **hängen von inneren Schichten ab**\n",
    "    (nicht umgekehrt)\n",
    "  - Klassen/Module hängen von Abstraktionen (z. B. Schnittstellen) ab,\n",
    "    nicht von anderen Klassen/Modulen\n",
    "- Abhängigkeitsinversion (Dependency Inversion) erreicht dies durch die Einführung\n",
    "  von Schnittstellen, die \"die Abhängigkeiten umkehren\""
   ]
  },
  {
   "cell_type": "markdown",
   "id": "9ef0329d5f999d2b",
   "metadata": {
    "lang": "de",
    "slideshow": {
     "slide_type": "subslide"
    },
    "tags": [
     "subslide"
    ]
   },
   "source": [
    "\n",
    "### Vorher\n",
    "<img src=\"img/dependency-01.png\"\n",
    "     style=\"display:block;margin:auto;width:75%\"/>\n",
    "\n",
    "### Nachher\n",
    "<img src=\"img/dependency-02.png\"\n",
    "     style=\"display:block;margin:auto;width:75%\"/>"
   ]
  },
  {
   "cell_type": "markdown",
   "id": "a214739d78d35699",
   "metadata": {
    "slideshow": {
     "slide_type": "subslide"
    },
    "tags": [
     "subslide"
    ]
   },
   "source": [
    "\n",
    "<img src=\"img/dip-01.png\"\n",
    "     style=\"display:block;margin:auto;width:95%\"/>"
   ]
  },
  {
   "cell_type": "markdown",
   "id": "999ef1a9f663e746",
   "metadata": {
    "slideshow": {
     "slide_type": "subslide"
    },
    "tags": [
     "subslide"
    ]
   },
   "source": [
    "\n",
    "<img src=\"img/dip-02.png\"\n",
    "     style=\"display:block;margin:auto;width:95%\"/>"
   ]
  },
  {
   "cell_type": "markdown",
   "id": "0b91ecdb2664ac6c",
   "metadata": {
    "lines_to_next_cell": 0,
    "slideshow": {
     "slide_type": "subslide"
    },
    "tags": [
     "subslide"
    ]
   },
   "source": [
    "\n",
    "<img src=\"img/dip-03.png\"\n",
    "     style=\"display:block;margin:auto;width:95%\"/>"
   ]
  },
  {
   "cell_type": "markdown",
   "id": "555c411c828ebca1",
   "metadata": {
    "lang": "de",
    "slideshow": {
     "slide_type": "subslide"
    },
    "tags": [
     "subslide"
    ]
   },
   "source": [
    "\n",
    "## Workshop: Wetterbericht\n",
    "\n",
    "Wir haben ein Programm geschrieben, das einen Wetterbericht von einem Server\n",
    "abruft. Leider ist dabei die Abhängigkeit zum Server vom Typ\n",
    "`LegacyWeatherServer` hart kodiert. Aufgrund der Popularität des Programms\n",
    "müssen wir jedoch mit einem neuen Typ von Server `NewWeatherServer`\n",
    "kompatibel werden. Dazu refaktorisieren wir den Code nach dem\n",
    "Dependency-Inversion-Prinzip und Implementieren dann einen zusätzlichen\n",
    "Adapter für `NewWeatherServer`.\n",
    "\n",
    "- Führen Sie eine Abstraktion ein, um die Abhängigkeit umzukehren\n",
    "- Schreiben Sie eine konkrete Implementierung der Abstraktion für\n",
    "  `LegacyWeatherServer`\n",
    "- Testen Sie die Implementierung\n",
    "- Implementieren Sie einen Adapter für `NewWeatherServer`\n",
    "- Testen Sie den Adapter"
   ]
  },
  {
   "cell_type": "code",
   "execution_count": null,
   "id": "4209a7e257e6c3f3",
   "metadata": {
    "slideshow": {
     "slide_type": "subslide"
    },
    "tags": [
     "subslide",
     "keep"
    ]
   },
   "outputs": [],
   "source": [
    "import java.util.Random;\n",
    "import java.util.concurrent.ThreadLocalRandom;"
   ]
  },
  {
   "cell_type": "code",
   "execution_count": null,
   "id": "fc416e6b01aadccc",
   "metadata": {
    "slideshow": {
     "slide_type": "subslide"
    },
    "tags": [
     "keep",
     "subslide"
    ]
   },
   "outputs": [],
   "source": [
    "public class WeatherReport {\n",
    "    private final double temperature;\n",
    "    private final double humidity;\n",
    "\n",
    "    public WeatherReport(double temperature, double humidity) {\n",
    "        this.temperature = temperature;\n",
    "        this.humidity = humidity;\n",
    "    }\n",
    "\n",
    "    public double getTemperature() {\n",
    "        return temperature;\n",
    "    }\n",
    "\n",
    "    public double getHumidity() {\n",
    "        return humidity;\n",
    "    }\n",
    "}"
   ]
  },
  {
   "cell_type": "code",
   "execution_count": null,
   "id": "7f4c83c35d872ed8",
   "metadata": {
    "slideshow": {
     "slide_type": "subslide"
    },
    "tags": [
     "keep",
     "subslide"
    ]
   },
   "outputs": [],
   "source": [
    "public class LegacyWeatherServer {\n",
    "    public WeatherReport getWeatherReport() {\n",
    "        Random random = ThreadLocalRandom.current();\n",
    "        return new WeatherReport(20.0 + 10.0 * random.nextDouble(), 0.5 + 0.5 * random.nextDouble());\n",
    "    }\n",
    "}"
   ]
  },
  {
   "cell_type": "code",
   "execution_count": null,
   "id": "b08e0cefd4a398a8",
   "metadata": {
    "slideshow": {
     "slide_type": "subslide"
    },
    "tags": [
     "keep",
     "subslide"
    ]
   },
   "outputs": [],
   "source": [
    "public class NewWeatherServer {\n",
    "    public WeatherReport fetchWeatherData() {\n",
    "        Random random = ThreadLocalRandom.current();\n",
    "        double temperature = 10.0 + 20.0 * random.nextDouble();\n",
    "        double humidity = 0.7 + 0.4 * random.nextDouble();\n",
    "        return new WeatherReport(temperature, humidity);\n",
    "    }\n",
    "}"
   ]
  },
  {
   "cell_type": "code",
   "execution_count": null,
   "id": "c8de4ecfe62f0f15",
   "metadata": {
    "slideshow": {
     "slide_type": "subslide"
    },
    "tags": [
     "keep",
     "subslide"
    ]
   },
   "outputs": [],
   "source": [
    "public class WeatherReporter {\n",
    "    private final LegacyWeatherServer server;\n",
    "\n",
    "    public WeatherReporter(LegacyWeatherServer server) {\n",
    "        this.server = server;\n",
    "    }\n",
    "\n",
    "    public String report() {\n",
    "        WeatherReport report = server.getWeatherReport();\n",
    "        if (report.getTemperature() > 25.0) {\n",
    "            return \"It's hot\";\n",
    "        } else {\n",
    "            return \"It's not hot\";\n",
    "        }\n",
    "    }\n",
    "}"
   ]
  },
  {
   "cell_type": "code",
   "execution_count": null,
   "id": "bfc38c304c03187c",
   "metadata": {
    "slideshow": {
     "slide_type": "subslide"
    },
    "tags": [
     "keep",
     "subslide"
    ]
   },
   "outputs": [],
   "source": [
    "LegacyWeatherServer server = new LegacyWeatherServer();\n",
    "WeatherReporter reporter = new WeatherReporter(server);"
   ]
  },
  {
   "cell_type": "code",
   "execution_count": null,
   "id": "a22ff58b585b44da",
   "metadata": {
    "tags": [
     "keep"
    ]
   },
   "outputs": [],
   "source": [
    "System.out.println(reporter.report());"
   ]
  },
  {
   "cell_type": "code",
   "execution_count": null,
   "id": "ccbcca2857cc558d",
   "metadata": {
    "slideshow": {
     "slide_type": "subslide"
    },
    "tags": [
     "subslide"
    ]
   },
   "outputs": [],
   "source": [
    "public interface WeatherDataSource {\n",
    "    WeatherReport getWeatherReport();\n",
    "}"
   ]
  },
  {
   "cell_type": "code",
   "execution_count": null,
   "id": "b7036bcb867734df",
   "metadata": {},
   "outputs": [],
   "source": [
    "public class DiWeatherReporter {\n",
    "    private final WeatherDataSource dataSource;\n",
    "\n",
    "    public DiWeatherReporter(WeatherDataSource dataSource) {\n",
    "        this.dataSource = dataSource;\n",
    "    }\n",
    "\n",
    "    public String report() {\n",
    "        WeatherReport report = dataSource.getWeatherReport();\n",
    "        if (report.getTemperature() > 25.0) {\n",
    "            return \"It's hot\";\n",
    "        } else {\n",
    "            return \"It's not hot\";\n",
    "        }\n",
    "    }\n",
    "}"
   ]
  },
  {
   "cell_type": "code",
   "execution_count": null,
   "id": "34d44f08922b3722",
   "metadata": {
    "slideshow": {
     "slide_type": "subslide"
    },
    "tags": [
     "subslide"
    ]
   },
   "outputs": [],
   "source": [
    "public class LegacyWeatherServerAdapter implements WeatherDataSource {\n",
    "    private final LegacyWeatherServer server;\n",
    "\n",
    "    public LegacyWeatherServerAdapter(LegacyWeatherServer server) {\n",
    "        this.server = server;\n",
    "    }\n",
    "\n",
    "    @Override\n",
    "    public WeatherReport getWeatherReport() {\n",
    "        return server.getWeatherReport();\n",
    "    }\n",
    "}"
   ]
  },
  {
   "cell_type": "code",
   "execution_count": null,
   "id": "1cf80f49e01a26e8",
   "metadata": {
    "slideshow": {
     "slide_type": "subslide"
    },
    "tags": [
     "subslide"
    ]
   },
   "outputs": [],
   "source": [
    "DiWeatherReporter reporter = new DiWeatherReporter(new LegacyWeatherServerAdapter(server));"
   ]
  },
  {
   "cell_type": "code",
   "execution_count": null,
   "id": "5bdd22c0d0ab9bd5",
   "metadata": {},
   "outputs": [],
   "source": [
    "System.out.println(reporter.report());"
   ]
  },
  {
   "cell_type": "code",
   "execution_count": null,
   "id": "a90022a5b72bee8c",
   "metadata": {
    "slideshow": {
     "slide_type": "subslide"
    },
    "tags": [
     "subslide"
    ]
   },
   "outputs": [],
   "source": [
    "public class NewWeatherServerAdapter implements WeatherDataSource {\n",
    "    private final NewWeatherServer server;\n",
    "\n",
    "    public NewWeatherServerAdapter(NewWeatherServer server) {\n",
    "        this.server = server;\n",
    "    }\n",
    "\n",
    "    @Override\n",
    "    public WeatherReport getWeatherReport() {\n",
    "        return server.fetchWeatherData();\n",
    "    }\n",
    "}"
   ]
  },
  {
   "cell_type": "code",
   "execution_count": null,
   "id": "f839cbd3c89ffb0f",
   "metadata": {
    "slideshow": {
     "slide_type": "subslide"
    },
    "tags": [
     "subslide"
    ]
   },
   "outputs": [],
   "source": [
    "NewWeatherServer newServer = new NewWeatherServer();\n",
    "DiWeatherReporter newReporter = new DiWeatherReporter(new NewWeatherServerAdapter(newServer));"
   ]
  },
  {
   "cell_type": "code",
   "execution_count": null,
   "id": "34cb6af81a21bf3a",
   "metadata": {},
   "outputs": [],
   "source": [
    "System.out.println(newReporter.report());"
   ]
  }
 ],
 "metadata": {
  "jupytext": {
   "cell_metadata_filter": "tags,lang,-all",
   "encoding": "// -*- coding: utf-8 -*-",
   "main_language": "java",
   "notebook_metadata_filter": "-all"
  },
  "kernelspec": {
   "display_name": "Java",
   "language": "java",
   "name": "java"
  },
  "language_info": {
   "codemirror_mode": "java",
   "file_extension": ".java",
   "mimetype": "text/java",
   "name": "Java",
   "pygments_lexer": "java",
   "version": ""
  }
 },
 "nbformat": 4,
 "nbformat_minor": 5
}
