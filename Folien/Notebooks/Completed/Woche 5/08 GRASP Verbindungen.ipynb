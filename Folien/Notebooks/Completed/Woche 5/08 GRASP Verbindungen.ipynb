{
 "cells": [
  {
   "cell_type": "markdown",
   "id": "b605b9e03ca1cdec",
   "metadata": {
    "lang": "de",
    "slideshow": {
     "slide_type": "slide"
    },
    "tags": [
     "slide"
    ]
   },
   "source": [
    "\n",
    "<img src=\"data:image/svg+xml;base64,PHN2ZyB4bWxucz0iaHR0cDovL3d3dy53My5vcmcvMjAwMC9zdmciIHdpZHRoPSI2NCIgaGVpZ2h0\n",
    "PSI2NCIgdmlld0JveD0iMCAwIDMyIDMyIj48cGF0aCBkPSJNMTEuNjIyIDI0Ljc0cy0xLjIzLjc0\n",
    "OC44NTUuOTYyYzIuNTEuMzIgMy44NDcuMjY3IDYuNjI1LS4yNjdhMTAuMDIgMTAuMDIgMCAwIDAg\n",
    "MS43NjMuODU1Yy02LjI1IDIuNjcyLTE0LjE2LS4xNi05LjI0NC0xLjU1em0tLjgtMy40NzNzLTEu\n",
    "MzM2IDEuMDE1Ljc0OCAxLjIzYzIuNzI1LjI2NyA0Ljg2Mi4zMiA4LjU1LS40MjdhMy4yNiAzLjI2\n",
    "IDAgMCAwIDEuMjgyLjgwMWMtNy41MzQgMi4yNDQtMTUuOTc2LjIxNC0xMC41OC0xLjYwM3ptMTQu\n",
    "NzQ3IDYuMDlzLjkwOC43NDgtMS4wMTUgMS4zMzZjLTMuNTggMS4wNy0xNS4wMTQgMS4zOS0xOC4y\n",
    "MiAwLTEuMTIyLS40OCAxLjAxNS0xLjE3NSAxLjctMS4yODIuNjk1LS4xNiAxLjA3LS4xNiAxLjA3\n",
    "LS4xNi0xLjIzLS44NTUtOC4xNzUgMS43NjMtMy41MjYgMi41MSAxMi43NyAyLjA4NCAyMy4yOTYt\n",
    "LjkwOCAxOS45ODMtMi40MDR6TTEyLjIgMTcuNjMzcy01LjgyNCAxLjM5LTIuMDg0IDEuODdjMS42\n",
    "MDMuMjE0IDQuNzU1LjE2IDcuNjk0LS4wNTMgMi40MDQtLjIxNCA0LjgxLS42NCA0LjgxLS42NHMt\n",
    "Ljg1NS4zNzQtMS40NDMuNzQ4Yy01LjkzIDEuNTUtMTcuMzEyLjg1NS0xNC4wNTItLjc0OCAyLjc3\n",
    "OC0xLjMzNiA1LjA3Ni0xLjE3NSA1LjA3Ni0xLjE3NXptMTAuNDIgNS44MjRjNS45ODQtMy4xIDMu\n",
    "MjA2LTYuMDkgMS4yODItNS43MTctLjQ4LjEwNy0uNjk1LjIxNC0uNjk1LjIxNHMuMTYtLjMyLjUz\n",
    "NC0uNDI3YzMuNzk0LTEuMzM2IDYuNzg2IDQuMDA3LTEuMjMgNi4wOSAwIDAgLjA1My0uMDUzLjEw\n",
    "Ny0uMTZ6bS05LjgzIDguNDQyYzUuNzcuMzc0IDE0LjU4Ny0uMjE0IDE0LjgtMi45NCAwIDAtLjQy\n",
    "NyAxLjA3LTQuNzU1IDEuODctNC45MTYuOTA4LTExLjAwNy44LTE0LjU4Ny4yMTQgMCAwIC43NDgu\n",
    "NjQgNC41NDIuODU1eiIgZmlsbD0iIzRlNzg5NiIvPjxwYXRoIGQ9Ik0xOC45OTYuMDAxczMuMzEz\n",
    "IDMuMzY2LTMuMTUyIDguNDQyYy01LjE4MyA0LjExNC0xLjE3NSA2LjQ2NSAwIDkuMTM3LTMuMDQ2\n",
    "LTIuNzI1LTUuMjM2LTUuMTMtMy43NC03LjM3M0MxNC4yOTQgNi44OTMgMjAuMzMyIDUuMyAxOC45\n",
    "OTYuMDAxem0tMS43IDE1LjMzNWMxLjU1IDEuNzYzLS40MjcgMy4zNjYtLjQyNyAzLjM2NnMzLjk1\n",
    "NC0yLjAzIDIuMTM3LTQuNTQyYy0xLjY1Ni0yLjQwNC0yLjk0LTMuNTggNC4wMDctNy41ODcgMCAw\n",
    "LTEwLjk1MyAyLjcyNS01LjcxNyA4Ljc2M3oiIGZpbGw9IiNmNTgyMTkiLz48L3N2Zz4=\n",
    "\"\n",
    "     alt=\"Java Logo\" style=\"display:block;margin:auto;width:5%\"/>\n",
    "<br>\n",
    "\n",
    "<div style=\"text-align:center; font-size:200%;\">\n",
    " <b>GRASP: Verbindungen</b>\n",
    "</div>\n",
    "<br/>\n",
    "<div style=\"text-align:center; font-size:120%;\">Dr. Matthias Hölzl</div>\n",
    "<br/>\n",
    "<div style=\"text-align:center;\">Coding-Akademie München</div>\n",
    "<br/>"
   ]
  },
  {
   "cell_type": "markdown",
   "id": "2b71a5700b335cd2",
   "metadata": {
    "lang": "de",
    "slideshow": {
     "slide_type": "subslide"
    },
    "tags": [
     "subslide"
    ]
   },
   "source": [
    "\n",
    "### Aktueller Stand des Adventure-Spiels\n",
    "\n",
    "- `code/completed/grasp-adventure/src/main/java/adventure/v2`\n",
    "- Klassen `Location` und `World`\n",
    "- `World` erzeugt `Location`-Objekte (Creator)\n",
    "- `World` kann `Location`-Objekte finden (Information Expert)"
   ]
  },
  {
   "cell_type": "markdown",
   "id": "aaf7ba06df7a11da",
   "metadata": {
    "lang": "de",
    "slideshow": {
     "slide_type": "subslide"
    },
    "tags": [
     "subslide"
    ]
   },
   "source": [
    "\n",
    "### Nächster Schritt\n",
    "\n",
    "- Verbinden der `Location`-Objekte\n",
    "- Zwei neue Verantwortlichkeiten:\n",
    "  - Erstellen der Verbindungen (Doing)\n",
    "  - Speichern der Verbindungen (Knowing)"
   ]
  },
  {
   "cell_type": "markdown",
   "id": "0d65adbb2434f72d",
   "metadata": {
    "slideshow": {
     "slide_type": "subslide"
    },
    "tags": [
     "subslide"
    ]
   },
   "source": [
    "\n",
    "<img src=\"img/adventure-v2-overview.png\"\n",
    "     style=\"display:block;margin:auto;width:30%\"/>"
   ]
  },
  {
   "cell_type": "markdown",
   "id": "b63c6e2474f64817",
   "metadata": {
    "lang": "de",
    "slideshow": {
     "slide_type": "subslide"
    },
    "tags": [
     "subslide"
    ]
   },
   "source": [
    "\n",
    "### Wer soll die Verbindungen erzeugen?\n",
    "\n",
    "**Creator:** Wer hat die Initialisierungsdaten?\n",
    "\n",
    "<ul class=\"fragment\">\n",
    "<li><tt>World</tt></li>\n",
    "<li>(Wir brauchen die Daten aller Locations)</li>\n",
    "</ul>"
   ]
  },
  {
   "cell_type": "markdown",
   "id": "fc0b2158d2b55878",
   "metadata": {
    "lang": "de",
    "slideshow": {
     "slide_type": "subslide"
    },
    "tags": [
     "subslide"
    ]
   },
   "source": [
    "\n",
    "### Wer soll die Verbindungen speichern?\n",
    "\n",
    "**Information Expert:** Wer hat die Daten?\n",
    "\n",
    "<ul class=\"fragment\">\n",
    "  <li>Die Klasse mit den meisten Informationen</li>\n",
    "  <li><tt>World</tt> erzeugt alle Verbindungsdaten</li>\n",
    "  <li>Daher ist <tt>World</tt> der Information Expert</li>\n",
    "  <li>Die Verbindungsdaten werden in <tt>World</tt> gespeichert</li>\n",
    "</ul>"
   ]
  },
  {
   "cell_type": "markdown",
   "id": "62bcaa04359156ad",
   "metadata": {
    "lang": "de",
    "slideshow": {
     "slide_type": "subslide"
    },
    "tags": [
     "subslide"
    ]
   },
   "source": [
    "\n",
    "**Das ist keine Richtige Anwendung von Information Expert!**"
   ]
  },
  {
   "cell_type": "markdown",
   "id": "e52240c78432a64b",
   "metadata": {
    "lang": "de",
    "slideshow": {
     "slide_type": "subslide"
    },
    "tags": [
     "subslide"
    ]
   },
   "source": [
    "\n",
    "### Was ist das Problem?\n",
    "\n",
    "- `code/completed/grasp-adventure/src/main/java/adventure/v3a`"
   ]
  },
  {
   "cell_type": "markdown",
   "id": "69e301cb87a93d24",
   "metadata": {
    "slideshow": {
     "slide_type": "subslide"
    },
    "tags": [
     "subslide"
    ]
   },
   "source": [
    "\n",
    "```java\n",
    "public class Connection {\n",
    "    public final Location from;\n",
    "    public final String direction;\n",
    "    public final Location to;\n",
    "\n",
    "    public Connection(Location from, String direction, Location to) {\n",
    "        this.from = from;\n",
    "        this.direction = direction;\n",
    "        this.to = to;\n",
    "    }\n",
    "\n",
    "    public Location getFrom() {\n",
    "        return from;\n",
    "    }\n",
    "\n",
    "    public String getDirection() {\n",
    "        return direction;\n",
    "    }\n",
    "\n",
    "    public Location getTo() {\n",
    "        return to;\n",
    "    }\n",
    "}\n",
    "```"
   ]
  },
  {
   "cell_type": "markdown",
   "id": "e9561133310de9af",
   "metadata": {
    "slideshow": {
     "slide_type": "subslide"
    },
    "tags": [
     "subslide"
    ]
   },
   "source": [
    "\n",
    "```java\n",
    "public class World {\n",
    "    // ...\n",
    "    public Location getConnectedLocation(Location location, String direction) {\n",
    "        // Implementation\n",
    "    }\n",
    "\n",
    "    private List<Connection> connections = new ArrayList<>();\n",
    "}\n",
    "```"
   ]
  },
  {
   "cell_type": "markdown",
   "id": "7daf317627a95273",
   "metadata": {
    "slideshow": {
     "slide_type": "subslide"
    },
    "tags": [
     "subslide"
    ]
   },
   "source": [
    "\n",
    "<img src=\"img/adventure-v3a-overview.png\"\n",
    "     style=\"display:block;margin:auto;width:50%\"/>"
   ]
  },
  {
   "cell_type": "markdown",
   "id": "05fddd9457ef99f1",
   "metadata": {
    "lang": "de",
    "slideshow": {
     "slide_type": "subslide"
    },
    "tags": [
     "subslide"
    ]
   },
   "source": [
    "\n",
    "- Häufigster Anwendungsfall für \"Verbindungen in Richtung\":\n",
    "  - Navigation von der Location, auf der ein Pawn steht zu einer anderen\n",
    "    Location\n",
    "- Wie geht das mit dieser Implementierung?\n",
    "  - `world.getConnectedLocation(room1, \"north\")`\n",
    "  - Wir haben eine Abhängigkeit von `World` und `Location`!"
   ]
  },
  {
   "cell_type": "markdown",
   "id": "e2c7d7a5cd54141b",
   "metadata": {
    "slideshow": {
     "slide_type": "subslide"
    },
    "tags": [
     "subslide"
    ]
   },
   "source": [
    "\n",
    "<img src=\"img/adv-domain-03-small.png\"\n",
    "     style=\"display:block;margin:auto;width:70%\"/>"
   ]
  },
  {
   "cell_type": "markdown",
   "id": "54562cd1f5dd0cf2",
   "metadata": {
    "lang": "de",
    "slideshow": {
     "slide_type": "subslide"
    },
    "tags": [
     "subslide"
    ]
   },
   "source": [
    "\n",
    "### Wie können wir das vermeiden?\n",
    "\n",
    "- Verlagern der Verantwortlichkeit für die Navigation\n",
    "- Jede `Location` kennt ihre ausgehenden Verbindungen\n",
    "- `room1.getConnectedLocation(\"north\")`"
   ]
  },
  {
   "cell_type": "markdown",
   "id": "1a77d341cf9c80c7",
   "metadata": {
    "lang": "de",
    "slideshow": {
     "slide_type": "subslide"
    },
    "tags": [
     "subslide"
    ]
   },
   "source": [
    "\n",
    "### Hat uns Information Expert in die Irre geführt?\n",
    "\n",
    "Nein. In diesem Fall sagt der Information Expert nicht sehr viel aus, wenn\n",
    "wir ihn korrekt anwenden:\n",
    "\n",
    "- Die Verantwortung, die wir zuweisen wollen, ist das Speichern der\n",
    "  Verbindungen\n",
    "- Jede Verbindung ist eine Beziehung zwischen zwei Locations\n",
    "- Es spielt keine Rolle, dass `World` alle Locations kennt\n",
    "- Wir haben keinen Informations-Experten für das Speichern der Verbindungen"
   ]
  },
  {
   "cell_type": "markdown",
   "id": "06e89ebcb3242f4e",
   "metadata": {
    "lang": "de",
    "slideshow": {
     "slide_type": "subslide"
    },
    "tags": [
     "subslide"
    ]
   },
   "source": [
    "\n",
    "### Lösungen\n",
    "\n",
    "- Zugeordnete Doing-Verantwortlichkeit:\n",
    "  - Finden Sie eine zugehörige Doing-Verantwortlichkeit,\n",
    "  - Wählen Sie die Klasse, die verantwortlich sein sollte, und\n",
    "  - Ordnen Sie die Daten so zu, dass diese Klasse zum Information Expert wird\n",
    "- Verwenden Sie andere Muster oder Techniken, um die Verantwortlichkeit\n",
    "  zuzuweisen"
   ]
  },
  {
   "cell_type": "markdown",
   "id": "2069476d6686faff",
   "metadata": {
    "slideshow": {
     "slide_type": "subslide"
    },
    "tags": [
     "subslide"
    ]
   },
   "source": [
    "\n",
    "<img src=\"img/adventure-v3b-overview.png\"\n",
    "     style=\"display:block;margin:auto;width:30%\"/>"
   ]
  },
  {
   "cell_type": "markdown",
   "id": "e2a17b99283a3f65",
   "metadata": {
    "lang": "de",
    "slideshow": {
     "slide_type": "subslide"
    },
    "tags": [
     "subslide"
    ]
   },
   "source": [
    "\n",
    "### Merkregel: Lokale Informationen > Globaler Zustand\n",
    "\n",
    "- Versuchen Sie, die Verantwortlichkeit für Informationen möglichst lokal zu\n",
    "  halten\n",
    "- Das verringert fast immer die Kopplung im System"
   ]
  }
 ],
 "metadata": {
  "jupytext": {
   "cell_metadata_filter": "tags,lang,-all",
   "encoding": "// -*- coding: utf-8 -*-",
   "main_language": "java",
   "notebook_metadata_filter": "-all"
  },
  "kernelspec": {
   "display_name": "Java",
   "language": "java",
   "name": "java"
  },
  "language_info": {
   "codemirror_mode": "java",
   "file_extension": ".java",
   "mimetype": "text/java",
   "name": "Java",
   "pygments_lexer": "java",
   "version": ""
  }
 },
 "nbformat": 4,
 "nbformat_minor": 5
}
