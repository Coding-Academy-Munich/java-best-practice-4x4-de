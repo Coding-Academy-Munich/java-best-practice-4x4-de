{
 "cells": [
  {
   "cell_type": "markdown",
   "id": "31285b6f57df9194",
   "metadata": {
    "lang": "de",
    "slideshow": {
     "slide_type": "slide"
    },
    "tags": [
     "slide"
    ]
   },
   "source": [
    "\n",
    "<img src=\"data:image/svg+xml;base64,PHN2ZyB4bWxucz0iaHR0cDovL3d3dy53My5vcmcvMjAwMC9zdmciIHdpZHRoPSI2NCIgaGVpZ2h0\n",
    "PSI2NCIgdmlld0JveD0iMCAwIDMyIDMyIj48cGF0aCBkPSJNMTEuNjIyIDI0Ljc0cy0xLjIzLjc0\n",
    "OC44NTUuOTYyYzIuNTEuMzIgMy44NDcuMjY3IDYuNjI1LS4yNjdhMTAuMDIgMTAuMDIgMCAwIDAg\n",
    "MS43NjMuODU1Yy02LjI1IDIuNjcyLTE0LjE2LS4xNi05LjI0NC0xLjU1em0tLjgtMy40NzNzLTEu\n",
    "MzM2IDEuMDE1Ljc0OCAxLjIzYzIuNzI1LjI2NyA0Ljg2Mi4zMiA4LjU1LS40MjdhMy4yNiAzLjI2\n",
    "IDAgMCAwIDEuMjgyLjgwMWMtNy41MzQgMi4yNDQtMTUuOTc2LjIxNC0xMC41OC0xLjYwM3ptMTQu\n",
    "NzQ3IDYuMDlzLjkwOC43NDgtMS4wMTUgMS4zMzZjLTMuNTggMS4wNy0xNS4wMTQgMS4zOS0xOC4y\n",
    "MiAwLTEuMTIyLS40OCAxLjAxNS0xLjE3NSAxLjctMS4yODIuNjk1LS4xNiAxLjA3LS4xNiAxLjA3\n",
    "LS4xNi0xLjIzLS44NTUtOC4xNzUgMS43NjMtMy41MjYgMi41MSAxMi43NyAyLjA4NCAyMy4yOTYt\n",
    "LjkwOCAxOS45ODMtMi40MDR6TTEyLjIgMTcuNjMzcy01LjgyNCAxLjM5LTIuMDg0IDEuODdjMS42\n",
    "MDMuMjE0IDQuNzU1LjE2IDcuNjk0LS4wNTMgMi40MDQtLjIxNCA0LjgxLS42NCA0LjgxLS42NHMt\n",
    "Ljg1NS4zNzQtMS40NDMuNzQ4Yy01LjkzIDEuNTUtMTcuMzEyLjg1NS0xNC4wNTItLjc0OCAyLjc3\n",
    "OC0xLjMzNiA1LjA3Ni0xLjE3NSA1LjA3Ni0xLjE3NXptMTAuNDIgNS44MjRjNS45ODQtMy4xIDMu\n",
    "MjA2LTYuMDkgMS4yODItNS43MTctLjQ4LjEwNy0uNjk1LjIxNC0uNjk1LjIxNHMuMTYtLjMyLjUz\n",
    "NC0uNDI3YzMuNzk0LTEuMzM2IDYuNzg2IDQuMDA3LTEuMjMgNi4wOSAwIDAgLjA1My0uMDUzLjEw\n",
    "Ny0uMTZ6bS05LjgzIDguNDQyYzUuNzcuMzc0IDE0LjU4Ny0uMjE0IDE0LjgtMi45NCAwIDAtLjQy\n",
    "NyAxLjA3LTQuNzU1IDEuODctNC45MTYuOTA4LTExLjAwNy44LTE0LjU4Ny4yMTQgMCAwIC43NDgu\n",
    "NjQgNC41NDIuODU1eiIgZmlsbD0iIzRlNzg5NiIvPjxwYXRoIGQ9Ik0xOC45OTYuMDAxczMuMzEz\n",
    "IDMuMzY2LTMuMTUyIDguNDQyYy01LjE4MyA0LjExNC0xLjE3NSA2LjQ2NSAwIDkuMTM3LTMuMDQ2\n",
    "LTIuNzI1LTUuMjM2LTUuMTMtMy43NC03LjM3M0MxNC4yOTQgNi44OTMgMjAuMzMyIDUuMyAxOC45\n",
    "OTYuMDAxem0tMS43IDE1LjMzNWMxLjU1IDEuNzYzLS40MjcgMy4zNjYtLjQyNyAzLjM2NnMzLjk1\n",
    "NC0yLjAzIDIuMTM3LTQuNTQyYy0xLjY1Ni0yLjQwNC0yLjk0LTMuNTggNC4wMDctNy41ODcgMCAw\n",
    "LTEwLjk1MyAyLjcyNS01LjcxNyA4Ljc2M3oiIGZpbGw9IiNmNTgyMTkiLz48L3N2Zz4=\n",
    "\"\n",
    "     alt=\"Java Logo\" style=\"display:block;margin:auto;width:5%\"/>\n",
    "<br>\n",
    "\n",
    "<div style=\"text-align:center; font-size:200%;\">\n",
    " <b>SOLID: OCP (Teil 2)</b>\n",
    "</div>\n",
    "<br/>\n",
    "<div style=\"text-align:center; font-size:120%;\">Dr. Matthias Hölzl</div>\n",
    "<br/>\n",
    "<div style=\"text-align:center;\">Coding-Akademie München</div>\n",
    "<br/>"
   ]
  },
  {
   "cell_type": "markdown",
   "id": "406e5f065b8941c4",
   "metadata": {
    "lang": "de",
    "slideshow": {
     "slide_type": "subslide"
    },
    "tags": [
     "subslide"
    ]
   },
   "source": [
    "\n",
    "## Wiederholung: OCP-Verletzung\n",
    "\n",
    "<img src=\"img/movie_v0.png\" alt=\"MovieV0\"\n",
    "     style=\"display:block;margin:auto;width:50%\"/>"
   ]
  },
  {
   "cell_type": "markdown",
   "id": "ae67fce730765352",
   "metadata": {
    "lang": "de",
    "slideshow": {
     "slide_type": "subslide"
    },
    "tags": [
     "subslide"
    ]
   },
   "source": [
    "\n",
    "## Lösungsversuch 1: Vererbung\n",
    "\n",
    "<img src=\"img/movie_v2.png\" alt=\"MovieV2\"\n",
    "     style=\"display:block;margin:auto;width:70%\"/>"
   ]
  },
  {
   "cell_type": "markdown",
   "id": "455adc169508e662",
   "metadata": {
    "lang": "de",
    "slideshow": {
     "slide_type": "subslide"
    },
    "tags": [
     "subslide"
    ]
   },
   "source": [
    "\n",
    "- OCP ist erfüllt\n",
    "- Großer Scope der Vererbung\n",
    "  - Preisberechnung ist das wichtigste an Filmen?\n",
    "- Nur eindimensionale Klassifikation\n",
    "- Keine Möglichkeit, Preisschema zu wechseln"
   ]
  },
  {
   "cell_type": "markdown",
   "id": "c8641602f3f5afc1",
   "metadata": {
    "lang": "de",
    "slideshow": {
     "slide_type": "subslide"
    },
    "tags": [
     "subslide"
    ]
   },
   "source": [
    "\n",
    "## Lösungsversuch 2: Strategie-Muster\n",
    "\n",
    "<img src=\"img/movie_v3.png\" alt=\"MovieV3\"\n",
    "     style=\"display:block;margin:auto;width:80%\"/>"
   ]
  },
  {
   "cell_type": "markdown",
   "id": "cebc960a3989d448",
   "metadata": {
    "lang": "de",
    "slideshow": {
     "slide_type": "subslide"
    },
    "tags": [
     "subslide"
    ]
   },
   "source": [
    "\n",
    "- OCP ist erfüllt\n",
    "- Vererbung ist auf die Preisberechnung beschränkt\n",
    "- Mehrdimensionale Klassifikation ist einfach\n",
    "- Preisschema kann zur Laufzeit gewechselt werden"
   ]
  },
  {
   "cell_type": "markdown",
   "id": "3f08e9a984126a54",
   "metadata": {
    "lang": "de",
    "slideshow": {
     "slide_type": "subslide"
    },
    "tags": [
     "subslide"
    ]
   },
   "source": [
    "\n",
    "## Implementierung"
   ]
  },
  {
   "cell_type": "code",
   "execution_count": null,
   "id": "5639da13d72950f2",
   "metadata": {
    "tags": [
     "keep"
    ]
   },
   "outputs": [],
   "source": [
    "import java.util.ArrayList;\n",
    "import java.util.List;"
   ]
  },
  {
   "cell_type": "code",
   "execution_count": null,
   "id": "e2d4c145ab109511",
   "metadata": {
    "slideshow": {
     "slide_type": "subslide"
    },
    "tags": [
     "keep",
     "subslide"
    ]
   },
   "outputs": [],
   "source": [
    "class Movie {}"
   ]
  },
  {
   "cell_type": "code",
   "execution_count": null,
   "id": "30a8cbe37a12aad0",
   "metadata": {
    "tags": [
     "keep"
    ]
   },
   "outputs": [],
   "source": [
    "interface PricingStrategy {\n",
    "    double computePrice(Movie movie);\n",
    "}"
   ]
  },
  {
   "cell_type": "code",
   "execution_count": null,
   "id": "1157636a45726a1c",
   "metadata": {
    "slideshow": {
     "slide_type": "subslide"
    },
    "tags": [
     "keep",
     "subslide"
    ]
   },
   "outputs": [],
   "source": [
    "class RegularPriceStrategy implements PricingStrategy {\n",
    "    @Override\n",
    "    public double computePrice(Movie movie) {\n",
    "        return 4.99;\n",
    "    }\n",
    "}"
   ]
  },
  {
   "cell_type": "code",
   "execution_count": null,
   "id": "41f234351601aa93",
   "metadata": {
    "tags": [
     "keep"
    ]
   },
   "outputs": [],
   "source": [
    "class ChildrenPriceStrategy implements PricingStrategy {\n",
    "    @Override\n",
    "    public double computePrice(Movie movie) {\n",
    "        return 5.99;\n",
    "    }\n",
    "}"
   ]
  },
  {
   "cell_type": "code",
   "execution_count": null,
   "id": "e4d1a4ea536dd91e",
   "metadata": {
    "tags": [
     "keep"
    ]
   },
   "outputs": [],
   "source": [
    "class NewReleasePriceStrategy implements PricingStrategy {\n",
    "    @Override\n",
    "    public double computePrice(Movie movie) {\n",
    "        return 6.99;\n",
    "    }\n",
    "}"
   ]
  },
  {
   "cell_type": "code",
   "execution_count": null,
   "id": "fb99d0770a4a4740",
   "metadata": {
    "slideshow": {
     "slide_type": "subslide"
    },
    "tags": [
     "keep",
     "subslide"
    ]
   },
   "outputs": [],
   "source": [
    "class Movie {\n",
    "    private String title;\n",
    "    private PricingStrategy pricingStrategy;\n",
    "\n",
    "    public Movie(String title, PricingStrategy pricingStrategy) {\n",
    "        this.title = title;\n",
    "        this.pricingStrategy = pricingStrategy;\n",
    "    }\n",
    "\n",
    "    public double computePrice() {\n",
    "        return pricingStrategy.computePrice(this);\n",
    "    }\n",
    "\n",
    "    public void printInfo() {\n",
    "        System.out.println(title + \" costs \" + computePrice());\n",
    "    }\n",
    "}"
   ]
  },
  {
   "cell_type": "code",
   "execution_count": null,
   "id": "c6fa92bb7020033d",
   "metadata": {
    "slideshow": {
     "slide_type": "subslide"
    },
    "tags": [
     "keep",
     "subslide"
    ]
   },
   "outputs": [],
   "source": [
    "List<Movie> movies = new ArrayList<>();\n",
    "movies.add(new Movie(\"Casablanca\", new RegularPriceStrategy()));\n",
    "movies.add(new Movie(\"Shrek\", new ChildrenPriceStrategy()));\n",
    "movies.add(new Movie(\"Brand New\", new NewReleasePriceStrategy()));"
   ]
  },
  {
   "cell_type": "code",
   "execution_count": null,
   "id": "0af977f6ff7edbff",
   "metadata": {
    "tags": [
     "keep"
    ]
   },
   "outputs": [],
   "source": [
    "for (Movie movie : movies) {\n",
    "    movie.printInfo();\n",
    "}"
   ]
  },
  {
   "cell_type": "markdown",
   "id": "7d258a92bfe34e34",
   "metadata": {
    "lang": "de",
    "slideshow": {
     "slide_type": "subslide"
    },
    "tags": [
     "subslide"
    ]
   },
   "source": [
    "\n",
    "## Workshop: Berechnung von ÖPNV-Fahrpreisen\n",
    "\n",
    "In einer modernen Stadt stehen verschiedene öffentliche Verkehrsmittel zur\n",
    "Verfügung – Busse, U-Bahnen, Züge, Boote, etc. Jedes dieser Verkehrsmittel\n",
    "hat seine eigene Methode zur Fahrpreisberechnung. Zum Beispiel können\n",
    "Bustarife auf Pauschalpreisen basieren, U-Bahnen können auf\n",
    "Entfernungstarifen basieren und Boote können Premiumtarife für\n",
    "landschaftlich reizvolle Strecken haben."
   ]
  },
  {
   "cell_type": "markdown",
   "id": "7780f7fb98c91f01",
   "metadata": {
    "lang": "de",
    "slideshow": {
     "slide_type": "subslide"
    },
    "tags": [
     "subslide"
    ]
   },
   "source": [
    "\n",
    "Sie haben ein rudimentäres Fahrpreisberechnungssystem, das den Fahrpreis\n",
    "basierend auf dem Verkehrsmittel bestimmt. Leider verstößt dieses System\n",
    "gegen das OCP, da es ohne Modifikation nicht für die Erweiterung geöffnet\n",
    "ist. Jedes Mal, wenn ein neues Verkehrsmittel hinzugefügt werden muss, muss\n",
    "das Kernsystem geändert werden.\n",
    "\n",
    "Ihre Aufgabe ist es, das System so zu refaktorisieren, dass es dem OCP\n",
    "entspricht. Genauer gesagt, werden Sie die `switch`-Anweisung aus der\n",
    "Fahrpreisberechnungslogik entfernen. Das Ziel ist es, das System leicht\n",
    "erweiterbar zu machen, so dass neue Verkehrsmittel hinzugefügt werden können,\n",
    "ohne den vorhandenen Code zu ändern."
   ]
  },
  {
   "cell_type": "code",
   "execution_count": null,
   "id": "c50d301ca212b6b1",
   "metadata": {
    "slideshow": {
     "slide_type": "subslide"
    },
    "tags": [
     "keep",
     "subslide"
    ]
   },
   "outputs": [],
   "source": [
    "import java.util.*;"
   ]
  },
  {
   "cell_type": "code",
   "execution_count": null,
   "id": "7eb6d34f326fda3c",
   "metadata": {
    "tags": [
     "keep"
    ]
   },
   "outputs": [],
   "source": [
    "enum TransportType {\n",
    "    BUS,\n",
    "    SUBWAY,\n",
    "    TRAIN,\n",
    "    BOAT\n",
    "}"
   ]
  },
  {
   "cell_type": "code",
   "execution_count": null,
   "id": "0eeab91de03531c1",
   "metadata": {
    "slideshow": {
     "slide_type": "subslide"
    },
    "tags": [
     "keep",
     "subslide"
    ]
   },
   "outputs": [],
   "source": [
    "class Transport {\n",
    "    private TransportType type;\n",
    "\n",
    "    public Transport(TransportType type) {\n",
    "        this.type = type;\n",
    "    }\n",
    "\n",
    "    public double calculateFare(double distance) {\n",
    "        switch (type) {\n",
    "            case BUS: return 2.50; // flat rate\n",
    "            case SUBWAY: return 1.50 + (distance * 0.20); // base rate + per km\n",
    "            case TRAIN: return 5.00 + (distance * 0.15); // base rate + per km\n",
    "            case BOAT: return 10.00; // premium rate\n",
    "            default: return 0.0;\n",
    "        }\n",
    "    }\n",
    "}"
   ]
  },
  {
   "cell_type": "code",
   "execution_count": null,
   "id": "f50c95a51edb6b3b",
   "metadata": {
    "slideshow": {
     "slide_type": "subslide"
    },
    "tags": [
     "keep",
     "subslide"
    ]
   },
   "outputs": [],
   "source": [
    "Transport bus = new Transport(TransportType.BUS);\n",
    "System.out.println(\"Bus fare: $\" + bus.calculateFare(10));"
   ]
  },
  {
   "cell_type": "code",
   "execution_count": null,
   "id": "62a4dd2d5f23efae",
   "metadata": {
    "tags": [
     "keep"
    ]
   },
   "outputs": [],
   "source": [
    "Transport subway = new Transport(TransportType.SUBWAY);\n",
    "System.out.println(\"Subway fare: $\" + subway.calculateFare(10));"
   ]
  },
  {
   "cell_type": "code",
   "execution_count": null,
   "id": "6f080115f60fdcd5",
   "metadata": {
    "tags": [
     "keep"
    ]
   },
   "outputs": [],
   "source": [
    "Transport train = new Transport(TransportType.TRAIN);\n",
    "System.out.println(\"Train fare: $\" + train.calculateFare(10));"
   ]
  },
  {
   "cell_type": "code",
   "execution_count": null,
   "id": "c4158cab834fc335",
   "metadata": {
    "tags": [
     "keep"
    ]
   },
   "outputs": [],
   "source": [
    "Transport boat = new Transport(TransportType.BOAT);\n",
    "System.out.println(\"Boat fare: $\" + boat.calculateFare(10));"
   ]
  },
  {
   "cell_type": "code",
   "execution_count": null,
   "id": "bc5647f328283a9a",
   "metadata": {
    "slideshow": {
     "slide_type": "subslide"
    },
    "tags": [
     "alt",
     "subslide"
    ]
   },
   "outputs": [],
   "source": [
    "import java.util.*;"
   ]
  },
  {
   "cell_type": "code",
   "execution_count": null,
   "id": "15d64561673f63e3",
   "metadata": {
    "lines_to_next_cell": 2,
    "tags": [
     "alt"
    ]
   },
   "outputs": [],
   "source": [
    "interface FareCalculationStrategy {\n",
    "    double calculateFare(double distance);\n",
    "}"
   ]
  },
  {
   "cell_type": "code",
   "execution_count": null,
   "id": "14f89a178b89e714",
   "metadata": {
    "slideshow": {
     "slide_type": "subslide"
    },
    "tags": [
     "alt",
     "subslide"
    ]
   },
   "outputs": [],
   "source": [
    "class BusFare implements FareCalculationStrategy {\n",
    "    @Override\n",
    "    public double calculateFare(double distance) {\n",
    "        return 2.50; // flat rate\n",
    "    }\n",
    "}"
   ]
  },
  {
   "cell_type": "code",
   "execution_count": null,
   "id": "20903515f4a05568",
   "metadata": {
    "tags": [
     "alt"
    ]
   },
   "outputs": [],
   "source": [
    "class SubwayFare implements FareCalculationStrategy {\n",
    "    @Override\n",
    "    public double calculateFare(double distance) {\n",
    "        return 1.50 + (distance * 0.20); // base rate + per km\n",
    "    }\n",
    "}"
   ]
  },
  {
   "cell_type": "code",
   "execution_count": null,
   "id": "178de3b69c3a302c",
   "metadata": {
    "slideshow": {
     "slide_type": "subslide"
    },
    "tags": [
     "alt",
     "subslide"
    ]
   },
   "outputs": [],
   "source": [
    "class TrainFare implements FareCalculationStrategy {\n",
    "    @Override\n",
    "    public double calculateFare(double distance) {\n",
    "        return 5.00 + (distance * 0.15); // base rate + per km\n",
    "    }\n",
    "}"
   ]
  },
  {
   "cell_type": "code",
   "execution_count": null,
   "id": "b9dd06aaac4779a4",
   "metadata": {
    "tags": [
     "alt"
    ]
   },
   "outputs": [],
   "source": [
    "class BoatFare implements FareCalculationStrategy {\n",
    "    @Override\n",
    "    public double calculateFare(double distance) {\n",
    "        return 10.00; // premium rate\n",
    "    }\n",
    "}"
   ]
  },
  {
   "cell_type": "code",
   "execution_count": null,
   "id": "bf8446b6dff8a4e8",
   "metadata": {
    "slideshow": {
     "slide_type": "subslide"
    },
    "tags": [
     "alt",
     "subslide"
    ]
   },
   "outputs": [],
   "source": [
    "class Transport {\n",
    "    private FareCalculationStrategy fareStrategy;\n",
    "\n",
    "    public Transport(FareCalculationStrategy fareStrategy) {\n",
    "        this.fareStrategy = fareStrategy;\n",
    "    }\n",
    "\n",
    "    public double computeFare(double distance) {\n",
    "        return fareStrategy.calculateFare(distance);\n",
    "    }\n",
    "}"
   ]
  },
  {
   "cell_type": "code",
   "execution_count": null,
   "id": "905bfa3f5bfdfd65",
   "metadata": {
    "slideshow": {
     "slide_type": "subslide"
    },
    "tags": [
     "alt",
     "subslide"
    ]
   },
   "outputs": [],
   "source": [
    "Transport bus = new Transport(new BusFare());\n",
    "System.out.println(\"Bus fare: $\" + bus.computeFare(10));"
   ]
  },
  {
   "cell_type": "code",
   "execution_count": null,
   "id": "b6b144b38bac7eb0",
   "metadata": {
    "tags": [
     "alt"
    ]
   },
   "outputs": [],
   "source": [
    "Transport subway = new Transport(new SubwayFare());\n",
    "System.out.println(\"Subway fare: $\" + subway.computeFare(10));"
   ]
  },
  {
   "cell_type": "code",
   "execution_count": null,
   "id": "6f58f0964a3478f6",
   "metadata": {
    "tags": [
     "alt"
    ]
   },
   "outputs": [],
   "source": [
    "Transport train = new Transport(new TrainFare());\n",
    "System.out.println(\"Train fare: $\" + train.computeFare(10));"
   ]
  },
  {
   "cell_type": "code",
   "execution_count": null,
   "id": "4ce15c4a82385e65",
   "metadata": {
    "tags": [
     "alt"
    ]
   },
   "outputs": [],
   "source": [
    "Transport boat = new Transport(new BoatFare());\n",
    "System.out.println(\"Boat fare: $\" + boat.computeFare(10));"
   ]
  },
  {
   "cell_type": "markdown",
   "id": "65723c0628fbbaf5",
   "metadata": {
    "lang": "de",
    "slideshow": {
     "slide_type": "subslide"
    },
    "tags": [
     "subslide"
    ]
   },
   "source": [
    "\n",
    "## Extra-Workshop: Smart Home Device Control System mit Strategy\n",
    "\n",
    "In einem früheren Workshop haben wir ein System zur Kontrolle von Smart Home\n",
    "Devices implementiert.\n",
    "\n",
    "Lösen Sie das OCP-Problem für dieses System mit dem Strategy-Muster."
   ]
  },
  {
   "cell_type": "code",
   "execution_count": null,
   "id": "2f6fb51ac5e0b980",
   "metadata": {
    "slideshow": {
     "slide_type": "subslide"
    },
    "tags": [
     "subslide"
    ]
   },
   "outputs": [],
   "source": [
    "interface DeviceStrategy {\n",
    "    void control();\n",
    "    void getStatus();\n",
    "}"
   ]
  },
  {
   "cell_type": "code",
   "execution_count": null,
   "id": "323d6bb535ee51de",
   "metadata": {
    "slideshow": {
     "slide_type": "subslide"
    },
    "tags": [
     "subslide",
     "alt"
    ]
   },
   "outputs": [],
   "source": [
    "class LightStrategy implements DeviceStrategy {\n",
    "    @Override\n",
    "    public void control() {\n",
    "        System.out.println(\"Light control\");\n",
    "    }\n",
    "\n",
    "    @Override\n",
    "    public void getStatus() {\n",
    "        System.out.println(\"Light status\");\n",
    "    }\n",
    "}"
   ]
  },
  {
   "cell_type": "code",
   "execution_count": null,
   "id": "0bb35c2715837342",
   "metadata": {
    "tags": [
     "alt"
    ]
   },
   "outputs": [],
   "source": [
    "class ThermostatStrategy implements DeviceStrategy {\n",
    "    @Override\n",
    "    public void control() {\n",
    "        System.out.println(\"Thermostat control\");\n",
    "    }\n",
    "\n",
    "    @Override\n",
    "    public void getStatus() {\n",
    "        System.out.println(\"Thermostat status\");\n",
    "    }\n",
    "}"
   ]
  },
  {
   "cell_type": "code",
   "execution_count": null,
   "id": "bc93c0f8e99c39f6",
   "metadata": {
    "lines_to_next_cell": 0,
    "tags": [
     "alt"
    ]
   },
   "outputs": [],
   "source": [
    "class SecurityCameraStrategy implements DeviceStrategy {\n",
    "    @Override\n",
    "    public void control() {\n",
    "        System.out.println(\"Security camera control\");\n",
    "    }\n",
    "\n",
    "    @Override\n",
    "    public void getStatus() {\n",
    "        System.out.println(\"Security camera status\");\n",
    "    }\n",
    "}"
   ]
  },
  {
   "cell_type": "code",
   "execution_count": null,
   "id": "ec1fb0cf8da9b91a",
   "metadata": {
    "tags": [
     "alt"
    ]
   },
   "outputs": [],
   "source": [
    "class SmartLockStrategy implements DeviceStrategy {\n",
    "    @Override\n",
    "    public void control() {\n",
    "        System.out.println(\"Smart lock control\");\n",
    "    }\n",
    "\n",
    "    @Override\n",
    "    public void getStatus() {\n",
    "        System.out.println(\"Smart lock status\");\n",
    "    }\n",
    "}"
   ]
  },
  {
   "cell_type": "code",
   "execution_count": null,
   "id": "fb2cc6ac98e206fa",
   "metadata": {
    "slideshow": {
     "slide_type": "subslide"
    },
    "tags": [
     "subslide",
     "alt"
    ]
   },
   "outputs": [],
   "source": [
    "import java.util.ArrayList;\n",
    "import java.util.List;"
   ]
  },
  {
   "cell_type": "code",
   "execution_count": null,
   "id": "d819c1ab09a7539a",
   "metadata": {
    "tags": [
     "alt"
    ]
   },
   "outputs": [],
   "source": [
    "class SmartHomeDevice {\n",
    "    private DeviceStrategy strategy;\n",
    "\n",
    "    public SmartHomeDevice(DeviceStrategy strategy) {\n",
    "        this.strategy = strategy;\n",
    "    }\n",
    "\n",
    "    public void control() {\n",
    "        strategy.control();\n",
    "    }\n",
    "\n",
    "    public void getStatus() {\n",
    "        strategy.getStatus();\n",
    "    }\n",
    "}"
   ]
  },
  {
   "cell_type": "code",
   "execution_count": null,
   "id": "cb7c087c6ff8a927",
   "metadata": {
    "slideshow": {
     "slide_type": "subslide"
    },
    "tags": [
     "subslide",
     "alt"
    ]
   },
   "outputs": [],
   "source": [
    "import java.util.*;"
   ]
  },
  {
   "cell_type": "code",
   "execution_count": null,
   "id": "3d2b80be0d812837",
   "metadata": {
    "tags": [
     "alt"
    ]
   },
   "outputs": [],
   "source": [
    "List<SmartHomeDevice> devices = new ArrayList<>();"
   ]
  },
  {
   "cell_type": "code",
   "execution_count": null,
   "id": "d123f9c90323848c",
   "metadata": {
    "tags": [
     "alt"
    ]
   },
   "outputs": [],
   "source": [
    "devices.add(new SmartHomeDevice(new LightStrategy()));\n",
    "devices.add(new SmartHomeDevice(new ThermostatStrategy()));\n",
    "devices.add(new SmartHomeDevice(new SecurityCameraStrategy()));\n",
    "devices.add(new SmartHomeDevice(new SmartLockStrategy()));"
   ]
  },
  {
   "cell_type": "code",
   "execution_count": null,
   "id": "3094263516449d68",
   "metadata": {
    "tags": [
     "alt"
    ]
   },
   "outputs": [],
   "source": [
    "for (SmartHomeDevice device : devices) {\n",
    "    device.control();\n",
    "    device.getStatus();\n",
    "}"
   ]
  }
 ],
 "metadata": {
  "jupytext": {
   "cell_metadata_filter": "tags,lang,-all",
   "encoding": "// -*- coding: utf-8 -*-",
   "main_language": "java",
   "notebook_metadata_filter": "-all"
  },
  "kernelspec": {
   "display_name": "Java",
   "language": "java",
   "name": "java"
  },
  "language_info": {
   "codemirror_mode": "java",
   "file_extension": ".java",
   "mimetype": "text/java",
   "name": "Java",
   "pygments_lexer": "java",
   "version": ""
  }
 },
 "nbformat": 4,
 "nbformat_minor": 5
}
