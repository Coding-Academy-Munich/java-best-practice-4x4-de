{
 "cells": [
  {
   "cell_type": "markdown",
   "id": "032f86a814265ad7",
   "metadata": {
    "lang": "de",
    "slideshow": {
     "slide_type": "slide"
    },
    "tags": [
     "slide"
    ]
   },
   "source": [
    "\n",
    "<img src=\"data:image/svg+xml;base64,PHN2ZyB4bWxucz0iaHR0cDovL3d3dy53My5vcmcvMjAwMC9zdmciIHdpZHRoPSI2NCIgaGVpZ2h0\n",
    "PSI2NCIgdmlld0JveD0iMCAwIDMyIDMyIj48cGF0aCBkPSJNMTEuNjIyIDI0Ljc0cy0xLjIzLjc0\n",
    "OC44NTUuOTYyYzIuNTEuMzIgMy44NDcuMjY3IDYuNjI1LS4yNjdhMTAuMDIgMTAuMDIgMCAwIDAg\n",
    "MS43NjMuODU1Yy02LjI1IDIuNjcyLTE0LjE2LS4xNi05LjI0NC0xLjU1em0tLjgtMy40NzNzLTEu\n",
    "MzM2IDEuMDE1Ljc0OCAxLjIzYzIuNzI1LjI2NyA0Ljg2Mi4zMiA4LjU1LS40MjdhMy4yNiAzLjI2\n",
    "IDAgMCAwIDEuMjgyLjgwMWMtNy41MzQgMi4yNDQtMTUuOTc2LjIxNC0xMC41OC0xLjYwM3ptMTQu\n",
    "NzQ3IDYuMDlzLjkwOC43NDgtMS4wMTUgMS4zMzZjLTMuNTggMS4wNy0xNS4wMTQgMS4zOS0xOC4y\n",
    "MiAwLTEuMTIyLS40OCAxLjAxNS0xLjE3NSAxLjctMS4yODIuNjk1LS4xNiAxLjA3LS4xNiAxLjA3\n",
    "LS4xNi0xLjIzLS44NTUtOC4xNzUgMS43NjMtMy41MjYgMi41MSAxMi43NyAyLjA4NCAyMy4yOTYt\n",
    "LjkwOCAxOS45ODMtMi40MDR6TTEyLjIgMTcuNjMzcy01LjgyNCAxLjM5LTIuMDg0IDEuODdjMS42\n",
    "MDMuMjE0IDQuNzU1LjE2IDcuNjk0LS4wNTMgMi40MDQtLjIxNCA0LjgxLS42NCA0LjgxLS42NHMt\n",
    "Ljg1NS4zNzQtMS40NDMuNzQ4Yy01LjkzIDEuNTUtMTcuMzEyLjg1NS0xNC4wNTItLjc0OCAyLjc3\n",
    "OC0xLjMzNiA1LjA3Ni0xLjE3NSA1LjA3Ni0xLjE3NXptMTAuNDIgNS44MjRjNS45ODQtMy4xIDMu\n",
    "MjA2LTYuMDkgMS4yODItNS43MTctLjQ4LjEwNy0uNjk1LjIxNC0uNjk1LjIxNHMuMTYtLjMyLjUz\n",
    "NC0uNDI3YzMuNzk0LTEuMzM2IDYuNzg2IDQuMDA3LTEuMjMgNi4wOSAwIDAgLjA1My0uMDUzLjEw\n",
    "Ny0uMTZ6bS05LjgzIDguNDQyYzUuNzcuMzc0IDE0LjU4Ny0uMjE0IDE0LjgtMi45NCAwIDAtLjQy\n",
    "NyAxLjA3LTQuNzU1IDEuODctNC45MTYuOTA4LTExLjAwNy44LTE0LjU4Ny4yMTQgMCAwIC43NDgu\n",
    "NjQgNC41NDIuODU1eiIgZmlsbD0iIzRlNzg5NiIvPjxwYXRoIGQ9Ik0xOC45OTYuMDAxczMuMzEz\n",
    "IDMuMzY2LTMuMTUyIDguNDQyYy01LjE4MyA0LjExNC0xLjE3NSA2LjQ2NSAwIDkuMTM3LTMuMDQ2\n",
    "LTIuNzI1LTUuMjM2LTUuMTMtMy43NC03LjM3M0MxNC4yOTQgNi44OTMgMjAuMzMyIDUuMyAxOC45\n",
    "OTYuMDAxem0tMS43IDE1LjMzNWMxLjU1IDEuNzYzLS40MjcgMy4zNjYtLjQyNyAzLjM2NnMzLjk1\n",
    "NC0yLjAzIDIuMTM3LTQuNTQyYy0xLjY1Ni0yLjQwNC0yLjk0LTMuNTggNC4wMDctNy41ODcgMCAw\n",
    "LTEwLjk1MyAyLjcyNS01LjcxNyA4Ljc2M3oiIGZpbGw9IiNmNTgyMTkiLz48L3N2Zz4=\n",
    "\"\n",
    "     alt=\"Java Logo\" style=\"display:block;margin:auto;width:5%\"/>\n",
    "<br>\n",
    "\n",
    "<div style=\"text-align:center; font-size:200%;\">\n",
    " <b>Adventure: Version 1</b>\n",
    "</div>\n",
    "<br/>\n",
    "<div style=\"text-align:center; font-size:120%;\">Dr. Matthias Hölzl</div>\n",
    "<br/>\n",
    "<div style=\"text-align:center;\">Coding-Akademie München</div>\n",
    "<br/>"
   ]
  },
  {
   "cell_type": "markdown",
   "id": "599e56d0d6c7d4d0",
   "metadata": {
    "lang": "de",
    "slideshow": {
     "slide_type": "subslide"
    },
    "tags": [
     "subslide"
    ]
   },
   "source": [
    "\n",
    "Wie fangen wir an?"
   ]
  },
  {
   "cell_type": "markdown",
   "id": "68b37b0673eb41c5",
   "metadata": {
    "lang": "de",
    "slideshow": {
     "slide_type": "slide"
    },
    "tags": [
     "slide"
    ]
   },
   "source": [
    "\n",
    "## Niedrige Repräsentationslücke (Low Representational Gap)\n",
    "\n",
    "- Idee: Konzepte aus der Domäne in Code übertragen\n",
    "- Implementieren Sie ein Szenario aus einem Use Case\n",
    "- Nehmen Sie die Domänen-Konzepte als Kandidaten für die ersten Klassen her"
   ]
  },
  {
   "cell_type": "markdown",
   "id": "2b6f82d46219e1b0",
   "metadata": {
    "lang": "de",
    "slideshow": {
     "slide_type": "subslide"
    },
    "tags": [
     "subslide"
    ]
   },
   "source": [
    "\n",
    "- Use Case: \"Spiel initialisieren\"\n",
    "- Haupterfolgsszenario ohne Laden eines Spiels"
   ]
  },
  {
   "cell_type": "markdown",
   "id": "338a90aee4a3c616",
   "metadata": {
    "lang": "de",
    "slideshow": {
     "slide_type": "subslide"
    },
    "tags": [
     "subslide"
    ]
   },
   "source": [
    "\n",
    "## Domänenmodell\n",
    "\n",
    "Hier ist noch einmal der relevante Teil des Domänenmodells:"
   ]
  },
  {
   "cell_type": "markdown",
   "id": "a6c666ba36717909",
   "metadata": {
    "lines_to_next_cell": 0
   },
   "source": [
    "<img src=\"img/adv-domain-03-small.png\"\n",
    "     style=\"display:block;margin:auto;width:80%\"/>"
   ]
  },
  {
   "cell_type": "markdown",
   "id": "52e2d24c9bb88a03",
   "metadata": {
    "lang": "de",
    "slideshow": {
     "slide_type": "subslide"
    },
    "tags": [
     "subslide"
    ]
   },
   "source": [
    "\n",
    "## Statisches Designmodell"
   ]
  },
  {
   "cell_type": "markdown",
   "id": "afe536ecb316d5c5",
   "metadata": {},
   "source": [
    "<img src=\"img/adv-world-cd-01.png\"\n",
    "     style=\"display:block;margin:auto;width:50%\"/>"
   ]
  },
  {
   "cell_type": "markdown",
   "id": "0618b12d52a071c0",
   "metadata": {
    "lang": "de",
    "slideshow": {
     "slide_type": "subslide"
    },
    "tags": [
     "subslide"
    ]
   },
   "source": [
    "\n",
    "## Implementierung\n",
    "\n",
    "- Implementierung: `Code/completed/grasp-adventure/src/main/java/adventure/v1`\n",
    "- Starter-Kit: `Code/starter-kits/grasp-adventure-sk/`"
   ]
  },
  {
   "cell_type": "code",
   "execution_count": null,
   "id": "423e320c27d89713",
   "metadata": {
    "tags": [
     "keep"
    ]
   },
   "outputs": [],
   "source": [
    "import java.util.Objects;"
   ]
  },
  {
   "cell_type": "code",
   "execution_count": null,
   "id": "1b789e3bf5f489b3",
   "metadata": {
    "slideshow": {
     "slide_type": "subslide"
    },
    "tags": [
     "keep",
     "subslide"
    ]
   },
   "outputs": [],
   "source": [
    "public class LocationV0 {\n",
    "    private final String name;\n",
    "    private final String description;\n",
    "\n",
    "    public LocationV0(String name, String description) {\n",
    "        this.name = name;\n",
    "        this.description = description;\n",
    "    }\n",
    "\n",
    "    public String getName() {\n",
    "        return name;\n",
    "    }\n",
    "\n",
    "    public String getDescription() {\n",
    "        return description;\n",
    "    }\n",
    "\n",
    "    @Override\n",
    "    public String toString() {\n",
    "        return \"Location{\" +\n",
    "                \"name='\" + name + '\\'' +\n",
    "                \", description='\" + description + '\\'' +\n",
    "                '}';\n",
    "    }\n",
    "\n",
    "    @Override\n",
    "    public boolean equals(Object o) {\n",
    "        if (this == o) return true;\n",
    "        if (o == null || getClass() != o.getClass()) return false;\n",
    "        LocationV0 location = (LocationV0) o;\n",
    "        return Objects.equals(name, location.name) &&\n",
    "               Objects.equals(description, location.description);\n",
    "    }\n",
    "\n",
    "    @Override\n",
    "    public int hashCode() {\n",
    "        return Objects.hash(name, description);\n",
    "    }\n",
    "}"
   ]
  },
  {
   "cell_type": "markdown",
   "id": "51b9395478551476",
   "metadata": {
    "lang": "de",
    "slideshow": {
     "slide_type": "subslide"
    },
    "tags": [
     "subslide"
    ]
   },
   "source": [
    "\n",
    "## Konstruktion von Location Instanzen\n",
    "\n",
    "- [Einfache Orte](./simple-locations.json)\n",
    "- [Dungeon](./dungeon-locations.json)"
   ]
  },
  {
   "cell_type": "markdown",
   "id": "1bd7536455eedd34",
   "metadata": {
    "lang": "de",
    "slideshow": {
     "slide_type": "subslide"
    },
    "tags": [
     "subslide"
    ]
   },
   "source": [
    "\n",
    "- Es kann sein, dass der Pfad unseres Notebooks\n",
    "  auf ein Elternverzeichnis des gesuchten Verzeichnisses zeigt\n",
    "- Deshalb suchen wir in allen Unterverzeichnissen nach der JSON-Datei:"
   ]
  },
  {
   "cell_type": "code",
   "execution_count": null,
   "id": "5b656588ee6ef31b",
   "metadata": {
    "slideshow": {
     "slide_type": "subslide"
    },
    "tags": [
     "keep",
     "subslide"
    ]
   },
   "outputs": [],
   "source": [
    "import java.nio.file.*;\n",
    "import java.util.stream.Stream;"
   ]
  },
  {
   "cell_type": "code",
   "execution_count": null,
   "id": "0011f74c5f536dd0",
   "metadata": {
    "tags": [
     "keep"
    ]
   },
   "outputs": [],
   "source": [
    "public class FileFinder {\n",
    "    public static Path find(String name) throws java.io.IOException {\n",
    "        try (Stream<Path> paths = Files.walk(Paths.get(\"\"))) {\n",
    "            return paths\n",
    "                    .filter(p -> p.getFileName().toString().equals(name))\n",
    "                    .findFirst()\n",
    "                    .orElseThrow(() -> new RuntimeException(\"File not found\"));\n",
    "        }\n",
    "    }\n",
    "}"
   ]
  },
  {
   "cell_type": "code",
   "execution_count": null,
   "id": "0176eb28bb46d37c",
   "metadata": {},
   "outputs": [],
   "source": [
    "Path simpleLocationsPath = FileFinder.find(\"simple-locations.json\");"
   ]
  },
  {
   "cell_type": "code",
   "execution_count": null,
   "id": "81fac6e6d39a6350",
   "metadata": {},
   "outputs": [],
   "source": [
    "simpleLocationsPath.getFileName()"
   ]
  },
  {
   "cell_type": "code",
   "execution_count": null,
   "id": "80b7cc9e8a367215",
   "metadata": {},
   "outputs": [],
   "source": [
    "simpleLocationsPath.toAbsolutePath()"
   ]
  },
  {
   "cell_type": "code",
   "execution_count": null,
   "id": "4272c5e28d3ae871",
   "metadata": {
    "slideshow": {
     "slide_type": "subslide"
    },
    "tags": [
     "keep",
     "subslide"
    ]
   },
   "outputs": [],
   "source": [
    "%maven com.fasterxml.jackson.core:jackson-databind:2.17.2"
   ]
  },
  {
   "cell_type": "code",
   "execution_count": null,
   "id": "04c0fb5215c91bea",
   "metadata": {
    "tags": [
     "keep"
    ]
   },
   "outputs": [],
   "source": [
    "import com.fasterxml.jackson.core.type.TypeReference;\n",
    "import com.fasterxml.jackson.databind.ObjectMapper;\n",
    "import java.io.IOException;\n",
    "import java.util.List;\n",
    "import java.util.Map;\n",
    "import java.util.Collections;"
   ]
  },
  {
   "cell_type": "code",
   "execution_count": null,
   "id": "ebfc6b7f7da73f0e",
   "metadata": {
    "lines_to_next_cell": 2,
    "slideshow": {
     "slide_type": "subslide"
    },
    "tags": [
     "keep",
     "subslide"
    ]
   },
   "outputs": [],
   "source": [
    "public class JsonLoader {\n",
    "    public static List<Map<String, Object>> loadData(String fileName) {\n",
    "        ObjectMapper objectMapper = new ObjectMapper();\n",
    "        try {\n",
    "            List<Map<String, Object>> simpleLocations = objectMapper.readValue(\n",
    "                FileFinder.find(fileName).toFile(),\n",
    "                new TypeReference<List<Map<String, Object>>>() {}\n",
    "            );\n",
    "            return simpleLocations;\n",
    "        } catch (IOException e) {\n",
    "            e.printStackTrace();\n",
    "            return Collections.emptyList(); // Return an empty list in case of an exception\n",
    "        }\n",
    "    }\n",
    "}"
   ]
  },
  {
   "cell_type": "code",
   "execution_count": null,
   "id": "001060764dba5a72",
   "metadata": {
    "tags": [
     "keep"
    ]
   },
   "outputs": [],
   "source": [
    "List<Map<String, Object>> simpleLocationsData = JsonLoader.loadData(\"simple-locations.json\");"
   ]
  },
  {
   "cell_type": "code",
   "execution_count": null,
   "id": "5b65e998101ebee4",
   "metadata": {},
   "outputs": [],
   "source": [
    "for (var room : simpleLocationsData) {\n",
    "    System.out.println(room);\n",
    "}"
   ]
  },
  {
   "cell_type": "markdown",
   "id": "9d978ee0f3811e2a",
   "metadata": {
    "lang": "de",
    "slideshow": {
     "slide_type": "subslide"
    },
    "tags": [
     "subslide"
    ]
   },
   "source": [
    "\n",
    "### Erzeugen von Location Instanzen aus JSON Daten\n",
    "\n",
    "- Wir können eine statische Methode in der `Location` Klasse implementieren,\n",
    "  die eine `Location` Instanz aus einer Map erzeugt\n",
    "- Eine solche Methode nennt man eine Factory-Methode"
   ]
  },
  {
   "cell_type": "code",
   "execution_count": null,
   "id": "b665711ea6b54a19",
   "metadata": {
    "slideshow": {
     "slide_type": "subslide"
    },
    "tags": [
     "alt",
     "subslide"
    ]
   },
   "outputs": [],
   "source": [
    "public class Location {\n",
    "    private final String name;\n",
    "    private final String description;\n",
    "\n",
    "    public Location(String name, String description) {\n",
    "        this.name = name;\n",
    "        this.description = description;\n",
    "    }\n",
    "\n",
    "    public String getName() {\n",
    "        return name;\n",
    "    }\n",
    "\n",
    "    public String getDescription() {\n",
    "        return description;\n",
    "    }\n",
    "\n",
    "    public static Location fromDescription(Map<String, Object> description) {\n",
    "        String name = (String) description.get(\"name\");\n",
    "        String desc = (String) description.getOrDefault(\"description\", \"\");\n",
    "        return new Location(name, desc);\n",
    "    }\n",
    "\n",
    "    @Override\n",
    "    public String toString() {\n",
    "        return \"Location{\" +\n",
    "                \"name='\" + name + '\\'' +\n",
    "                \", description='\" + description + '\\'' +\n",
    "                '}';\n",
    "    }\n",
    "\n",
    "    @Override\n",
    "    public boolean equals(Object o) {\n",
    "        if (this == o) return true;\n",
    "        if (o == null || getClass() != o.getClass()) return false;\n",
    "        Location location = (Location) o;\n",
    "        return Objects.equals(name, location.name) &&\n",
    "               Objects.equals(description, location.description);\n",
    "    }\n",
    "\n",
    "    @Override\n",
    "    public int hashCode() {\n",
    "        return Objects.hash(name, description);\n",
    "    }\n",
    "}"
   ]
  },
  {
   "cell_type": "code",
   "execution_count": null,
   "id": "30f53bef66f0999b",
   "metadata": {
    "slideshow": {
     "slide_type": "subslide"
    },
    "tags": [
     "keep",
     "subslide"
    ]
   },
   "outputs": [],
   "source": [
    "Location.fromDescription(simpleLocationsData.get(0));"
   ]
  },
  {
   "cell_type": "code",
   "execution_count": null,
   "id": "6fb38b5dd96956b9",
   "metadata": {
    "tags": [
     "keep"
    ]
   },
   "outputs": [],
   "source": [
    "import java.util.stream.Collectors;"
   ]
  },
  {
   "cell_type": "code",
   "execution_count": null,
   "id": "37b8c2462ea4d05d",
   "metadata": {
    "tags": [
     "keep"
    ]
   },
   "outputs": [],
   "source": [
    "List<Location> locations = simpleLocationsData.stream()\n",
    "    .map(Location::fromDescription)\n",
    "    .collect(Collectors.toList());"
   ]
  },
  {
   "cell_type": "code",
   "execution_count": null,
   "id": "7c1c1795d68c51cc",
   "metadata": {},
   "outputs": [],
   "source": [
    "locations"
   ]
  },
  {
   "cell_type": "code",
   "execution_count": null,
   "id": "f777c947aa2ca1a0",
   "metadata": {
    "tags": [
     "alt"
    ]
   },
   "outputs": [],
   "source": [
    "Map<String, Location> locationMap = simpleLocationsData.stream()\n",
    "    .map(Location::fromDescription)\n",
    "    .collect(Collectors.toMap(Location::getName, location -> location));"
   ]
  },
  {
   "cell_type": "code",
   "execution_count": null,
   "id": "92eb5bb00f4e29ae",
   "metadata": {},
   "outputs": [],
   "source": [
    "locationMap"
   ]
  },
  {
   "cell_type": "markdown",
   "id": "ef0a545a693667be",
   "metadata": {
    "lang": "de",
    "slideshow": {
     "slide_type": "subslide"
    },
    "tags": [
     "subslide"
    ]
   },
   "source": [
    "\n",
    "## Implementierung der World Klasse\n",
    "\n",
    "- Beliebige Anzahl von `Location`-Instanzen\n",
    "- Zugriff auf `Location`-Instanzen über Namen\n",
    "- Speicherung des initialen Ortsnamens"
   ]
  },
  {
   "cell_type": "code",
   "execution_count": null,
   "id": "2b71206ddeb47040",
   "metadata": {
    "slideshow": {
     "slide_type": "subslide"
    },
    "tags": [
     "keep",
     "subslide"
    ]
   },
   "outputs": [],
   "source": [
    "import java.util.HashMap;\n",
    "import java.util.Map;"
   ]
  },
  {
   "cell_type": "code",
   "execution_count": null,
   "id": "ffbecd44b39cf335",
   "metadata": {
    "tags": [
     "keep"
    ]
   },
   "outputs": [],
   "source": [
    "public class World {\n",
    "    private final Map<String, Location> locations;\n",
    "    private final String initialLocationName;\n",
    "\n",
    "    public World(Map<String, Location> locations, String initialLocationName) {\n",
    "        this.locations = new HashMap<>(locations);\n",
    "        this.initialLocationName = initialLocationName;\n",
    "    }\n",
    "\n",
    "    public Map<String, Location> locations() {\n",
    "        return locations;\n",
    "    }\n",
    "\n",
    "    public String initialLocationName() {\n",
    "        return initialLocationName;\n",
    "    }\n",
    "\n",
    "    @Override\n",
    "    public String toString() {\n",
    "        return \"World{\" +\n",
    "                \"locations=\" + locations +\n",
    "                \", initialLocationName='\" + initialLocationName + '\\'' +\n",
    "                '}';\n",
    "    }\n",
    "}"
   ]
  },
  {
   "cell_type": "code",
   "execution_count": null,
   "id": "4577dadc995a7251",
   "metadata": {},
   "outputs": [],
   "source": [
    "World myWorld = new World(locationMap, \"Room 1\");"
   ]
  },
  {
   "cell_type": "code",
   "execution_count": null,
   "id": "ee5b146591cd4608",
   "metadata": {
    "lines_to_next_cell": 2
   },
   "outputs": [],
   "source": [
    "myWorld"
   ]
  }
 ],
 "metadata": {
  "jupytext": {
   "cell_metadata_filter": "tags,lang,-all",
   "encoding": "// -*- coding: utf-8 -*-",
   "main_language": "java",
   "notebook_metadata_filter": "-all"
  },
  "kernelspec": {
   "display_name": "Java",
   "language": "java",
   "name": "java"
  },
  "language_info": {
   "codemirror_mode": "java",
   "file_extension": ".java",
   "mimetype": "text/java",
   "name": "Java",
   "pygments_lexer": "java",
   "version": ""
  }
 },
 "nbformat": 4,
 "nbformat_minor": 5
}
