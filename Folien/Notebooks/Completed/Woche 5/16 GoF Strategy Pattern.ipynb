{
 "cells": [
  {
   "cell_type": "markdown",
   "id": "bbc9ef6bcfe57887",
   "metadata": {
    "lang": "de",
    "slideshow": {
     "slide_type": "slide"
    },
    "tags": [
     "slide"
    ]
   },
   "source": [
    "\n",
    "<img src=\"data:image/svg+xml;base64,PHN2ZyB4bWxucz0iaHR0cDovL3d3dy53My5vcmcvMjAwMC9zdmciIHdpZHRoPSI2NCIgaGVpZ2h0\n",
    "PSI2NCIgdmlld0JveD0iMCAwIDMyIDMyIj48cGF0aCBkPSJNMTEuNjIyIDI0Ljc0cy0xLjIzLjc0\n",
    "OC44NTUuOTYyYzIuNTEuMzIgMy44NDcuMjY3IDYuNjI1LS4yNjdhMTAuMDIgMTAuMDIgMCAwIDAg\n",
    "MS43NjMuODU1Yy02LjI1IDIuNjcyLTE0LjE2LS4xNi05LjI0NC0xLjU1em0tLjgtMy40NzNzLTEu\n",
    "MzM2IDEuMDE1Ljc0OCAxLjIzYzIuNzI1LjI2NyA0Ljg2Mi4zMiA4LjU1LS40MjdhMy4yNiAzLjI2\n",
    "IDAgMCAwIDEuMjgyLjgwMWMtNy41MzQgMi4yNDQtMTUuOTc2LjIxNC0xMC41OC0xLjYwM3ptMTQu\n",
    "NzQ3IDYuMDlzLjkwOC43NDgtMS4wMTUgMS4zMzZjLTMuNTggMS4wNy0xNS4wMTQgMS4zOS0xOC4y\n",
    "MiAwLTEuMTIyLS40OCAxLjAxNS0xLjE3NSAxLjctMS4yODIuNjk1LS4xNiAxLjA3LS4xNiAxLjA3\n",
    "LS4xNi0xLjIzLS44NTUtOC4xNzUgMS43NjMtMy41MjYgMi41MSAxMi43NyAyLjA4NCAyMy4yOTYt\n",
    "LjkwOCAxOS45ODMtMi40MDR6TTEyLjIgMTcuNjMzcy01LjgyNCAxLjM5LTIuMDg0IDEuODdjMS42\n",
    "MDMuMjE0IDQuNzU1LjE2IDcuNjk0LS4wNTMgMi40MDQtLjIxNCA0LjgxLS42NCA0LjgxLS42NHMt\n",
    "Ljg1NS4zNzQtMS40NDMuNzQ4Yy01LjkzIDEuNTUtMTcuMzEyLjg1NS0xNC4wNTItLjc0OCAyLjc3\n",
    "OC0xLjMzNiA1LjA3Ni0xLjE3NSA1LjA3Ni0xLjE3NXptMTAuNDIgNS44MjRjNS45ODQtMy4xIDMu\n",
    "MjA2LTYuMDkgMS4yODItNS43MTctLjQ4LjEwNy0uNjk1LjIxNC0uNjk1LjIxNHMuMTYtLjMyLjUz\n",
    "NC0uNDI3YzMuNzk0LTEuMzM2IDYuNzg2IDQuMDA3LTEuMjMgNi4wOSAwIDAgLjA1My0uMDUzLjEw\n",
    "Ny0uMTZ6bS05LjgzIDguNDQyYzUuNzcuMzc0IDE0LjU4Ny0uMjE0IDE0LjgtMi45NCAwIDAtLjQy\n",
    "NyAxLjA3LTQuNzU1IDEuODctNC45MTYuOTA4LTExLjAwNy44LTE0LjU4Ny4yMTQgMCAwIC43NDgu\n",
    "NjQgNC41NDIuODU1eiIgZmlsbD0iIzRlNzg5NiIvPjxwYXRoIGQ9Ik0xOC45OTYuMDAxczMuMzEz\n",
    "IDMuMzY2LTMuMTUyIDguNDQyYy01LjE4MyA0LjExNC0xLjE3NSA2LjQ2NSAwIDkuMTM3LTMuMDQ2\n",
    "LTIuNzI1LTUuMjM2LTUuMTMtMy43NC03LjM3M0MxNC4yOTQgNi44OTMgMjAuMzMyIDUuMyAxOC45\n",
    "OTYuMDAxem0tMS43IDE1LjMzNWMxLjU1IDEuNzYzLS40MjcgMy4zNjYtLjQyNyAzLjM2NnMzLjk1\n",
    "NC0yLjAzIDIuMTM3LTQuNTQyYy0xLjY1Ni0yLjQwNC0yLjk0LTMuNTggNC4wMDctNy41ODcgMCAw\n",
    "LTEwLjk1MyAyLjcyNS01LjcxNyA4Ljc2M3oiIGZpbGw9IiNmNTgyMTkiLz48L3N2Zz4=\n",
    "\"\n",
    "     alt=\"Java Logo\" style=\"display:block;margin:auto;width:5%\"/>\n",
    "<br>\n",
    "\n",
    "<div style=\"text-align:center; font-size:200%;\">\n",
    " <b>GoF: Strategy Pattern</b>\n",
    "</div>\n",
    "<br/>\n",
    "<div style=\"text-align:center; font-size:120%;\">Dr. Matthias Hölzl</div>\n",
    "<br/>\n",
    "<div style=\"text-align:center;\">Coding-Akademie München</div>\n",
    "<br/>"
   ]
  },
  {
   "cell_type": "markdown",
   "id": "6d590633c00d3032",
   "metadata": {
    "lang": "de",
    "slideshow": {
     "slide_type": "subslide"
    },
    "tags": [
     "subslide"
    ]
   },
   "source": [
    "\n",
    "### Zweck\n",
    "\n",
    "- Austauschbare Algorithmen / austauschbares Verhalten\n",
    "- Algorithmen unabhängig von Klassen, die sie verwenden"
   ]
  },
  {
   "cell_type": "markdown",
   "id": "0a38cdf05c04ee48",
   "metadata": {
    "lang": "de",
    "slideshow": {
     "slide_type": "subslide"
    },
    "tags": [
     "subslide"
    ]
   },
   "source": [
    "\n",
    "### Auch bekannt als\n",
    "\n",
    "Policy"
   ]
  },
  {
   "cell_type": "markdown",
   "id": "e82bddc0f3c57782",
   "metadata": {
    "lang": "de",
    "slideshow": {
     "slide_type": "slide"
    },
    "tags": [
     "slide"
    ]
   },
   "source": [
    "\n",
    "### Motivation\n",
    "\n",
    "- Wir wollen einen Text in einem Feld mit begrenzter Breite darstellen\n",
    "- Dafür gibt es verschiedene Möglichkeiten:\n",
    "  - Abschneiden nach einer bestimmten Anzahl von Zeichen (mit/ohne Ellipse)\n",
    "  - Umbruch nach einer bestimmten Anzahl von Zeichen\n",
    "    - Umbruch mitten im Wort\n",
    "    - Umbruch bei Leerzeichen (greedy/dynamische Programmierung)"
   ]
  },
  {
   "cell_type": "markdown",
   "id": "db8880fc3454b5df",
   "metadata": {
    "lang": "de",
    "lines_to_next_cell": 0,
    "slideshow": {
     "slide_type": "subslide"
    },
    "tags": [
     "subslide"
    ]
   },
   "source": [
    "\n",
    "## Struktur\n",
    "\n",
    "<img src=\"img/pat_strategy.png\"\n",
    "     style=\"display:block;margin:auto;width:80%\"/>"
   ]
  },
  {
   "cell_type": "markdown",
   "id": "cb6aa29f6e2d2487",
   "metadata": {
    "lang": "de",
    "slideshow": {
     "slide_type": "subslide"
    },
    "tags": [
     "subslide"
    ]
   },
   "source": [
    "\n",
    "## Teilnehmer\n",
    "\n",
    "- `Strategy`\n",
    "  - gemeinsames Interface für alle unterstützten Algorithmen\n",
    "- `ConcreteStrategy`\n",
    "  - implementiert den Algorithmus\n",
    "- `Context`\n",
    "  - wird mit einem `ConcreteStrategy`-Objekt konfiguriert\n",
    "  - kennt sein `Strategy`-Objekt\n",
    "  - optional: Interface, das der Strategie Zugriff die Kontext-Daten ermöglicht"
   ]
  },
  {
   "cell_type": "code",
   "execution_count": null,
   "id": "c50d301ca212b6b1",
   "metadata": {
    "slideshow": {
     "slide_type": "subslide"
    },
    "tags": [
     "subslide",
     "keep"
    ]
   },
   "outputs": [],
   "source": [
    "import java.util.*;"
   ]
  },
  {
   "cell_type": "code",
   "execution_count": null,
   "id": "57c7ef7ac19d6485",
   "metadata": {
    "slideshow": {
     "slide_type": "subslide"
    },
    "tags": [
     "keep",
     "subslide"
    ]
   },
   "outputs": [],
   "source": [
    "public interface Strategy {\n",
    "    float algorithmInterface();\n",
    "}"
   ]
  },
  {
   "cell_type": "code",
   "execution_count": null,
   "id": "a27b4978f40c15d8",
   "metadata": {
    "slideshow": {
     "slide_type": "subslide"
    },
    "tags": [
     "subslide",
     "keep"
    ]
   },
   "outputs": [],
   "source": [
    "public class Context {\n",
    "    private Strategy strategy;\n",
    "\n",
    "    public Context(Strategy strategy) {\n",
    "        this.strategy = strategy;\n",
    "    }\n",
    "\n",
    "    public float contextInterface() {\n",
    "        return strategy.algorithmInterface();\n",
    "    }\n",
    "\n",
    "    public void setStrategy(Strategy strategy) {\n",
    "        this.strategy = strategy;\n",
    "    }\n",
    "}"
   ]
  },
  {
   "cell_type": "code",
   "execution_count": null,
   "id": "05bd31afbf43ff45",
   "metadata": {
    "lines_to_next_cell": 0,
    "slideshow": {
     "slide_type": "subslide"
    },
    "tags": [
     "keep",
     "subslide"
    ]
   },
   "outputs": [],
   "source": [
    "public class ConcreteStrategyA implements Strategy {\n",
    "    @Override\n",
    "    public float algorithmInterface() {\n",
    "        return 1.5f;\n",
    "    }\n",
    "}"
   ]
  },
  {
   "cell_type": "code",
   "execution_count": null,
   "id": "539dcb2adf080e29",
   "metadata": {
    "tags": [
     "keep"
    ]
   },
   "outputs": [],
   "source": [
    "public class ConcreteStrategyB implements Strategy {\n",
    "    @Override\n",
    "    public float algorithmInterface() {\n",
    "        return 2.0f;\n",
    "    }\n",
    "}"
   ]
  },
  {
   "cell_type": "code",
   "execution_count": null,
   "id": "4a5a676cf5fd5e8f",
   "metadata": {
    "slideshow": {
     "slide_type": "subslide"
    },
    "tags": [
     "keep",
     "subslide"
    ]
   },
   "outputs": [],
   "source": [
    "Context context = new Context(new ConcreteStrategyA());"
   ]
  },
  {
   "cell_type": "code",
   "execution_count": null,
   "id": "45619eb8dc1e41c8",
   "metadata": {
    "tags": [
     "keep"
    ]
   },
   "outputs": [],
   "source": [
    "System.out.println(\"Strategy A: \" + context.contextInterface());"
   ]
  },
  {
   "cell_type": "code",
   "execution_count": null,
   "id": "b1f6cb0c6a9cb39d",
   "metadata": {
    "tags": [
     "keep"
    ]
   },
   "outputs": [],
   "source": [
    "context.setStrategy(new ConcreteStrategyB());"
   ]
  },
  {
   "cell_type": "code",
   "execution_count": null,
   "id": "ef867b5b64752c41",
   "metadata": {
    "tags": [
     "keep"
    ]
   },
   "outputs": [],
   "source": [
    "System.out.println(\"Strategy B: \" + context.contextInterface());"
   ]
  },
  {
   "cell_type": "markdown",
   "id": "edd47549755a086c",
   "metadata": {
    "lang": "de",
    "slideshow": {
     "slide_type": "subslide"
    },
    "tags": [
     "subslide"
    ]
   },
   "source": [
    "\n",
    "### Interaktionen\n",
    "\n",
    "- Strategie und Kontext interagieren, um den gewählten Algorithmus zu implementieren.\n",
    "  - Kontext kann Daten an Strategie übergeben\n",
    "  - Kontext kann sich selber an Strategie übergeben\n",
    "- Ein Kontext leitet Anfragen seiner Clients an seine Strategie weiter. [...]"
   ]
  },
  {
   "cell_type": "markdown",
   "id": "be9cc9b0802a015e",
   "metadata": {
    "lang": "de",
    "slideshow": {
     "slide_type": "subslide"
    },
    "tags": [
     "subslide"
    ]
   },
   "source": [
    "\n",
    "### Implementierung\n",
    "\n",
    "- `ConcreteStrategy` benötigt effizienten Zugriff auf alle benötigten Daten\n",
    "- ..."
   ]
  },
  {
   "cell_type": "markdown",
   "id": "087cb260cc860d4b",
   "metadata": {
    "lang": "de",
    "slideshow": {
     "slide_type": "subslide"
    },
    "tags": [
     "subslide"
    ]
   },
   "source": [
    "\n",
    "## Beispielcode: Textumbruch für ein Blog"
   ]
  },
  {
   "cell_type": "code",
   "execution_count": null,
   "id": "ba5c7db0865714b3",
   "metadata": {
    "slideshow": {
     "slide_type": "subslide"
    },
    "tags": [
     "keep",
     "subslide"
    ]
   },
   "outputs": [],
   "source": [
    "import java.util.ArrayList;\n",
    "import java.util.List;\n",
    "\n",
    "public interface TextWrapStrategy {\n",
    "    List<String> wrap(String text, int width);\n",
    "}"
   ]
  },
  {
   "cell_type": "code",
   "execution_count": null,
   "id": "37e36ca2a72d65d8",
   "metadata": {
    "slideshow": {
     "slide_type": "subslide"
    },
    "tags": [
     "subslide",
     "keep"
    ]
   },
   "outputs": [],
   "source": [
    "public class TruncationStrategy implements TextWrapStrategy {\n",
    "    @Override\n",
    "    public List<String> wrap(String text, int width) {\n",
    "        if (text.length() <= width) {\n",
    "            return List.of(text);\n",
    "        }\n",
    "        return List.of(text.substring(0, width - 3) + \"...\");\n",
    "    }\n",
    "}"
   ]
  },
  {
   "cell_type": "code",
   "execution_count": null,
   "id": "2c483b9cc20ba4f5",
   "metadata": {
    "slideshow": {
     "slide_type": "subslide"
    },
    "tags": [
     "subslide",
     "keep"
    ]
   },
   "outputs": [],
   "source": [
    "class BreakAnywhereStrategy implements TextWrapStrategy {\n",
    "    @Override\n",
    "    public List<String> wrap(String text, int width) {\n",
    "        String remainingText = text;\n",
    "        List<String> lines = new ArrayList<>();\n",
    "        while (remainingText.length() > width) {\n",
    "            lines.add(remainingText.substring(0, width));\n",
    "            remainingText = remainingText.substring(width);\n",
    "        }\n",
    "        lines.add(remainingText);\n",
    "        return lines;\n",
    "    }\n",
    "}"
   ]
  },
  {
   "cell_type": "code",
   "execution_count": null,
   "id": "916df1d53f8deaa2",
   "metadata": {
    "slideshow": {
     "slide_type": "subslide"
    },
    "tags": [
     "subslide",
     "keep"
    ]
   },
   "outputs": [],
   "source": [
    "class BreakOnSpaceStrategy implements TextWrapStrategy {\n",
    "    @Override\n",
    "    public List<String> wrap(String text, int width) {\n",
    "        List<String> lines = new ArrayList<>();\n",
    "        String remainingText = text;\n",
    "        while (remainingText.length() > width) {\n",
    "            int pos = remainingText.lastIndexOf(' ', width);\n",
    "            if (pos == -1) {\n",
    "                pos = width;\n",
    "            }\n",
    "            lines.add(remainingText.substring(0, pos));\n",
    "            remainingText = remainingText.substring(pos + 1);\n",
    "        }\n",
    "        lines.add(remainingText);\n",
    "        return lines;\n",
    "    }\n",
    "}"
   ]
  },
  {
   "cell_type": "code",
   "execution_count": null,
   "id": "bcfc00a4f71bcedc",
   "metadata": {
    "slideshow": {
     "slide_type": "subslide"
    },
    "tags": [
     "keep",
     "subslide"
    ]
   },
   "outputs": [],
   "source": [
    "class BlogPost {\n",
    "    private final String author;\n",
    "    private final String title;\n",
    "    private final String text;\n",
    "\n",
    "    public BlogPost(String author, String title, String text) {\n",
    "        this.author = author;\n",
    "        this.title = title;\n",
    "        this.text = text;\n",
    "    }\n",
    "\n",
    "    public String getAuthor() {\n",
    "        return author;\n",
    "    }\n",
    "\n",
    "    public String getTitle() {\n",
    "        return title;\n",
    "    }\n",
    "\n",
    "    public String getText() {\n",
    "        return text;\n",
    "    }\n",
    "}"
   ]
  },
  {
   "cell_type": "code",
   "execution_count": null,
   "id": "b00baf37ce11aeda",
   "metadata": {
    "slideshow": {
     "slide_type": "subslide"
    },
    "tags": [
     "keep",
     "subslide"
    ]
   },
   "outputs": [],
   "source": [
    "class Blog {\n",
    "    private final List<BlogPost> posts = new ArrayList<>();\n",
    "    private TextWrapStrategy strategy;\n",
    "\n",
    "    public Blog(TextWrapStrategy strategy) {\n",
    "        this.strategy = strategy;\n",
    "    }\n",
    "\n",
    "    public void print(int width) {\n",
    "        for (BlogPost post : posts) {\n",
    "            System.out.println(\"-\".repeat(width));\n",
    "            System.out.println(\"Title: \" + post.getTitle());\n",
    "            System.out.println(\"Author: \" + post.getAuthor());\n",
    "            for (String line : strategy.wrap(post.getText(), width)) {\n",
    "                System.out.println(line);\n",
    "            }\n",
    "            System.out.println(\"-\".repeat(width));\n",
    "        }\n",
    "    }\n",
    "\n",
    "    public void addPost(BlogPost post) {\n",
    "        posts.add(post);\n",
    "    }\n",
    "\n",
    "    public void setStrategy(TextWrapStrategy strategy) {\n",
    "        this.strategy = strategy;\n",
    "    }\n",
    "}"
   ]
  },
  {
   "cell_type": "code",
   "execution_count": null,
   "id": "063d7f4acf3f299b",
   "metadata": {
    "slideshow": {
     "slide_type": "subslide"
    },
    "tags": [
     "keep",
     "subslide"
    ]
   },
   "outputs": [],
   "source": [
    "String firstPost = \"The quick brown fox jumps over the lazy dog. Lorem ipsum dolor sit amet, \"\n",
    "                    + \"consectetur adipiscing elit. Sed do eiusmod tempor incididunt ut labore et \"\n",
    "                    + \"dolore magna aliqua. Ut enim ad minim veniam, quis nostrud exercitation ullamco \"\n",
    "                    + \"laboris nisi ut aliquip ex ea commodo consequat. Duis aute irure dolor in \"\n",
    "                    + \"reprehenderit in voluptate velit esse cillum dolore eu fugiat nulla pariatur. \"\n",
    "                    + \"Excepteur sint occaecat cupidatat non proident, sunt in culpa qui officia deserunt \"\n",
    "                    + \"mollit anim id est laborum.\";\n",
    "String secondPost = \"To be or not to be that is the question. Whether 'tis nobler in the mind to suffer \"\n",
    "                    + \"the slings and arrows of outrageous fortune or to take arms against a sea of \"\n",
    "                    + \"troubles and by opposing end them. To die, to sleep no more and by a sleep to say we \"\n",
    "                    + \"end the heart-ache and the thousand natural shocks that flesh is heir to. 'Tis a \"\n",
    "                    + \"consummation devoutly to be wish'd. To die, to sleep to sleep perchance to dream. \"\n",
    "                    + \"Ay, there's the rub. For in that sleep of death what dreams may come when we have \"\n",
    "                    + \"shuffled off this mortal coil must give us pause.\";"
   ]
  },
  {
   "cell_type": "code",
   "execution_count": null,
   "id": "75803cd1e9321065",
   "metadata": {
    "slideshow": {
     "slide_type": "subslide"
    },
    "tags": [
     "keep",
     "subslide"
    ]
   },
   "outputs": [],
   "source": [
    "Blog blog = new Blog(new TruncationStrategy());"
   ]
  },
  {
   "cell_type": "code",
   "execution_count": null,
   "id": "c5d21599ac9d759c",
   "metadata": {
    "tags": [
     "keep"
    ]
   },
   "outputs": [],
   "source": [
    "blog.addPost(new BlogPost(\"John Doe\", \"My first post\", firstPost));\n",
    "blog.addPost(new BlogPost(\"Jane Doe\", \"My second post\", secondPost));"
   ]
  },
  {
   "cell_type": "code",
   "execution_count": null,
   "id": "045a384553265ac0",
   "metadata": {
    "tags": [
     "keep"
    ]
   },
   "outputs": [],
   "source": [
    "blog.print(40);"
   ]
  },
  {
   "cell_type": "code",
   "execution_count": null,
   "id": "4aa63798897c3145",
   "metadata": {
    "slideshow": {
     "slide_type": "subslide"
    },
    "tags": [
     "keep",
     "subslide"
    ]
   },
   "outputs": [],
   "source": [
    "blog.setStrategy(new BreakAnywhereStrategy());"
   ]
  },
  {
   "cell_type": "code",
   "execution_count": null,
   "id": "9c330c1840fb4d05",
   "metadata": {
    "tags": [
     "keep"
    ]
   },
   "outputs": [],
   "source": [
    "blog.print(40);"
   ]
  },
  {
   "cell_type": "code",
   "execution_count": null,
   "id": "e85f71b8d97454ce",
   "metadata": {
    "slideshow": {
     "slide_type": "subslide"
    },
    "tags": [
     "keep",
     "subslide"
    ]
   },
   "outputs": [],
   "source": [
    "blog.setStrategy(new BreakOnSpaceStrategy());"
   ]
  },
  {
   "cell_type": "code",
   "execution_count": null,
   "id": "92b25cd7fd93c29e",
   "metadata": {
    "tags": [
     "keep"
    ]
   },
   "outputs": [],
   "source": [
    "blog.print(40);"
   ]
  },
  {
   "cell_type": "markdown",
   "id": "f2c409bcbe934dea",
   "metadata": {
    "lang": "de",
    "slideshow": {
     "slide_type": "subslide"
    },
    "tags": [
     "subslide"
    ]
   },
   "source": [
    "\n",
    "### Anwendbarkeit\n",
    "\n",
    "- Konfiguration von Objekten mit einer von mehreren Verhaltensweisen\n",
    "- Verschiedene Varianten eines Algorithmus\n",
    "- Kapseln von Daten mit Algorithmus (Client muss Daten nicht kennen)\n",
    "- Vermeidung von bedingten Anweisungen zur Auswahl eines Algorithmus"
   ]
  },
  {
   "cell_type": "markdown",
   "id": "2854b2bd37905646",
   "metadata": {
    "lang": "de",
    "slideshow": {
     "slide_type": "subslide"
    },
    "tags": [
     "subslide"
    ]
   },
   "source": [
    "\n",
    "### Konsequenzen\n",
    "\n",
    "- Familien wiederverwendbarer, verwandter Algorithmen\n",
    "- Alternative zu Vererbung\n",
    "- Auswahl einer Strategie ohne bedingte Anweisungen\n",
    "- Context/Clients muss die möglichen Strategien kennen\n",
    "- Kommunikations-Overhead zwischen Strategie und Kontext\n",
    "- Erhöhte Anzahl von Objekten"
   ]
  },
  {
   "cell_type": "markdown",
   "id": "ff89e50d5150aefb",
   "metadata": {
    "lang": "de",
    "slideshow": {
     "slide_type": "subslide"
    },
    "tags": [
     "subslide"
    ]
   },
   "source": [
    "\n",
    "### Java Implementierungs-Tipp\n",
    "\n",
    "In Java kann das Strategy Pattern oft einfach durch ein Funktions-Objekt als\n",
    "Member implementiert werden:"
   ]
  },
  {
   "cell_type": "code",
   "execution_count": null,
   "id": "a9a4a0dc122fa1b2",
   "metadata": {
    "slideshow": {
     "slide_type": "subslide"
    },
    "tags": [
     "keep",
     "subslide"
    ]
   },
   "outputs": [],
   "source": [
    "import java.util.ArrayList;\n",
    "import java.util.List;\n",
    "import java.util.function.BiFunction;\n",
    "import java.util.*;"
   ]
  },
  {
   "cell_type": "code",
   "execution_count": null,
   "id": "3eaab0b147a6e1b4",
   "metadata": {
    "lines_to_next_cell": 0,
    "slideshow": {
     "slide_type": "subslide"
    },
    "tags": [
     "keep",
     "subslide"
    ]
   },
   "outputs": [],
   "source": [
    "class FunBlog {\n",
    "    private List<BlogPost> posts = new ArrayList<>();\n",
    "    private BiFunction<String, Integer, List<String>> strategy;\n",
    "\n",
    "    public FunBlog(BiFunction<String, Integer, List<String>> strategy) {\n",
    "        this.strategy = strategy;\n",
    "    }\n",
    "\n",
    "    public void print(int width) {\n",
    "        for (BlogPost post : posts) {\n",
    "            System.out.println(\"-\".repeat(width));\n",
    "            System.out.println(\"Title: \" + post.getTitle());\n",
    "            System.out.println(\"Author: \" + post.getAuthor());\n",
    "            for (String line : strategy.apply(post.getText(), width)) {\n",
    "                System.out.println(line);\n",
    "            }\n",
    "            System.out.println(\"-\".repeat(width));\n",
    "        }\n",
    "    }\n",
    "\n",
    "    public void addPost(BlogPost post) {\n",
    "        posts.add(post);\n",
    "    }\n",
    "\n",
    "    public void setStrategy(BiFunction<String, Integer, List<String>> strategy) {\n",
    "        this.strategy = strategy;\n",
    "    }\n",
    "}"
   ]
  },
  {
   "cell_type": "code",
   "execution_count": null,
   "id": "41e3ea4447717ac5",
   "metadata": {
    "lines_to_next_cell": 2,
    "slideshow": {
     "slide_type": "subslide"
    },
    "tags": [
     "keep",
     "subslide"
    ]
   },
   "outputs": [],
   "source": [
    "public class Fun1 {\n",
    "    public static List<String> truncateLines(String text, int width) {\n",
    "        if (text.length() <= width) {\n",
    "            return List.of(text);\n",
    "        }\n",
    "        return List.of(text.substring(0, width - 3) + \"...\");\n",
    "    }\n",
    "}"
   ]
  },
  {
   "cell_type": "markdown",
   "id": "a095917d032d9428",
   "metadata": {
    "lang": "de",
    "lines_to_next_cell": 2,
    "slideshow": {
     "slide_type": "subslide"
    },
    "tags": [
     "subslide"
    ]
   },
   "source": [
    "\n",
    "- Hier haben wir eine Funktion `TruncateLines()` definiert, die die gleiche\n",
    "  Funktionalität hat wie unsere `TruncationStrategy`"
   ]
  },
  {
   "cell_type": "code",
   "execution_count": null,
   "id": "cd8fe220f9dc7dc1",
   "metadata": {
    "tags": [
     "keep"
    ]
   },
   "outputs": [],
   "source": [
    "FunBlog blog = new FunBlog(Fun1::truncateLines);"
   ]
  },
  {
   "cell_type": "code",
   "execution_count": null,
   "id": "e689ccef12488c8f",
   "metadata": {
    "tags": [
     "keep"
    ]
   },
   "outputs": [],
   "source": [
    "blog.addPost(new BlogPost(\"John Doe\", \"My first post\", firstPost));\n",
    "blog.addPost(new BlogPost(\"Jane Doe\", \"My second post\", secondPost));"
   ]
  },
  {
   "cell_type": "code",
   "execution_count": null,
   "id": "e23d8bd8ebc0f03c",
   "metadata": {
    "tags": [
     "keep"
    ]
   },
   "outputs": [],
   "source": [
    "blog.print(40);"
   ]
  },
  {
   "cell_type": "code",
   "execution_count": null,
   "id": "80ba5d0533c1a24d",
   "metadata": {
    "slideshow": {
     "slide_type": "subslide"
    },
    "tags": [
     "keep",
     "subslide"
    ]
   },
   "outputs": [],
   "source": [
    "blog.setStrategy((text, width) -> {\n",
    "    if (text.length() <= width) {\n",
    "        return List.of(text);\n",
    "    }\n",
    "    return List.of(text.substring(0, width - 3) + \"...\");\n",
    "});"
   ]
  },
  {
   "cell_type": "code",
   "execution_count": null,
   "id": "e166c6b515408d61",
   "metadata": {
    "tags": [
     "keep"
    ]
   },
   "outputs": [],
   "source": [
    "blog.print(40);"
   ]
  },
  {
   "cell_type": "markdown",
   "id": "e1f56df7eee0d9ed",
   "metadata": {
    "lang": "de",
    "slideshow": {
     "slide_type": "slide"
    },
    "tags": [
     "slide"
    ]
   },
   "source": [
    "\n",
    "## Mini-Workshop: Vorhersagen\n",
    "\n",
    "Sie wollen ein System schreiben, das Vorhersagen für Aktienkurse treffen kann.\n",
    "\n",
    "Schreiben Sie dazu eine Klasse `Predictor` mit einer Methode\n",
    "\n",
    "```java\n",
    "float predict(List<Float> values)\n",
    "```\n",
    "\n",
    "Verwenden Sie das Strategy Pattern, um mindestens zwei verschiedene\n",
    "Vorhersage-Varianten zu ermöglichen:\n",
    "\n",
    "- Die Vorhersage ist der Mittelwert aller Werte aus `values`\n",
    "- Die Vorhersage ist der letzte Wert in `values` (oder 0, wenn `values` leer ist)\n",
    "\n",
    "Testen Sie Ihre Implementierung mit einigen Beispieldaten."
   ]
  }
 ],
 "metadata": {
  "jupytext": {
   "cell_metadata_filter": "tags,lang,-all",
   "encoding": "// -*- coding: utf-8 -*-",
   "main_language": "java",
   "notebook_metadata_filter": "-all"
  },
  "kernelspec": {
   "display_name": "Java",
   "language": "java",
   "name": "java"
  },
  "language_info": {
   "codemirror_mode": "java",
   "file_extension": ".java",
   "mimetype": "text/java",
   "name": "Java",
   "pygments_lexer": "java",
   "version": ""
  }
 },
 "nbformat": 4,
 "nbformat_minor": 5
}
