{
 "cells": [
  {
   "cell_type": "markdown",
   "id": "54c2271c861fdaab",
   "metadata": {
    "lang": "de",
    "slideshow": {
     "slide_type": "slide"
    },
    "tags": [
     "slide"
    ]
   },
   "source": [
    "\n",
    "<img src=\"data:image/svg+xml;base64,PHN2ZyB4bWxucz0iaHR0cDovL3d3dy53My5vcmcvMjAwMC9zdmciIHdpZHRoPSI2NCIgaGVpZ2h0\n",
    "PSI2NCIgdmlld0JveD0iMCAwIDMyIDMyIj48cGF0aCBkPSJNMTEuNjIyIDI0Ljc0cy0xLjIzLjc0\n",
    "OC44NTUuOTYyYzIuNTEuMzIgMy44NDcuMjY3IDYuNjI1LS4yNjdhMTAuMDIgMTAuMDIgMCAwIDAg\n",
    "MS43NjMuODU1Yy02LjI1IDIuNjcyLTE0LjE2LS4xNi05LjI0NC0xLjU1em0tLjgtMy40NzNzLTEu\n",
    "MzM2IDEuMDE1Ljc0OCAxLjIzYzIuNzI1LjI2NyA0Ljg2Mi4zMiA4LjU1LS40MjdhMy4yNiAzLjI2\n",
    "IDAgMCAwIDEuMjgyLjgwMWMtNy41MzQgMi4yNDQtMTUuOTc2LjIxNC0xMC41OC0xLjYwM3ptMTQu\n",
    "NzQ3IDYuMDlzLjkwOC43NDgtMS4wMTUgMS4zMzZjLTMuNTggMS4wNy0xNS4wMTQgMS4zOS0xOC4y\n",
    "MiAwLTEuMTIyLS40OCAxLjAxNS0xLjE3NSAxLjctMS4yODIuNjk1LS4xNiAxLjA3LS4xNiAxLjA3\n",
    "LS4xNi0xLjIzLS44NTUtOC4xNzUgMS43NjMtMy41MjYgMi41MSAxMi43NyAyLjA4NCAyMy4yOTYt\n",
    "LjkwOCAxOS45ODMtMi40MDR6TTEyLjIgMTcuNjMzcy01LjgyNCAxLjM5LTIuMDg0IDEuODdjMS42\n",
    "MDMuMjE0IDQuNzU1LjE2IDcuNjk0LS4wNTMgMi40MDQtLjIxNCA0LjgxLS42NCA0LjgxLS42NHMt\n",
    "Ljg1NS4zNzQtMS40NDMuNzQ4Yy01LjkzIDEuNTUtMTcuMzEyLjg1NS0xNC4wNTItLjc0OCAyLjc3\n",
    "OC0xLjMzNiA1LjA3Ni0xLjE3NSA1LjA3Ni0xLjE3NXptMTAuNDIgNS44MjRjNS45ODQtMy4xIDMu\n",
    "MjA2LTYuMDkgMS4yODItNS43MTctLjQ4LjEwNy0uNjk1LjIxNC0uNjk1LjIxNHMuMTYtLjMyLjUz\n",
    "NC0uNDI3YzMuNzk0LTEuMzM2IDYuNzg2IDQuMDA3LTEuMjMgNi4wOSAwIDAgLjA1My0uMDUzLjEw\n",
    "Ny0uMTZ6bS05LjgzIDguNDQyYzUuNzcuMzc0IDE0LjU4Ny0uMjE0IDE0LjgtMi45NCAwIDAtLjQy\n",
    "NyAxLjA3LTQuNzU1IDEuODctNC45MTYuOTA4LTExLjAwNy44LTE0LjU4Ny4yMTQgMCAwIC43NDgu\n",
    "NjQgNC41NDIuODU1eiIgZmlsbD0iIzRlNzg5NiIvPjxwYXRoIGQ9Ik0xOC45OTYuMDAxczMuMzEz\n",
    "IDMuMzY2LTMuMTUyIDguNDQyYy01LjE4MyA0LjExNC0xLjE3NSA2LjQ2NSAwIDkuMTM3LTMuMDQ2\n",
    "LTIuNzI1LTUuMjM2LTUuMTMtMy43NC03LjM3M0MxNC4yOTQgNi44OTMgMjAuMzMyIDUuMyAxOC45\n",
    "OTYuMDAxem0tMS43IDE1LjMzNWMxLjU1IDEuNzYzLS40MjcgMy4zNjYtLjQyNyAzLjM2NnMzLjk1\n",
    "NC0yLjAzIDIuMTM3LTQuNTQyYy0xLjY1Ni0yLjQwNC0yLjk0LTMuNTggNC4wMDctNy41ODcgMCAw\n",
    "LTEwLjk1MyAyLjcyNS01LjcxNyA4Ljc2M3oiIGZpbGw9IiNmNTgyMTkiLz48L3N2Zz4=\n",
    "\"\n",
    "     alt=\"Java Logo\" style=\"display:block;margin:auto;width:5%\"/>\n",
    "<br>\n",
    "\n",
    "<div style=\"text-align:center; font-size:200%;\">\n",
    " <b>SRP: Lösungsansätze</b>\n",
    "</div>\n",
    "<br/>\n",
    "<div style=\"text-align:center; font-size:120%;\">Dr. Matthias Hölzl</div>\n",
    "<br/>\n",
    "<div style=\"text-align:center;\">Coding-Akademie München</div>\n",
    "<br/>"
   ]
  },
  {
   "cell_type": "markdown",
   "id": "73c069516d1c7122",
   "metadata": {
    "lang": "de",
    "slideshow": {
     "slide_type": "subslide"
    },
    "tags": [
     "subslide"
    ]
   },
   "source": [
    "\n",
    "## Ein Änderungsgrund?\n",
    "\n",
    "<img src=\"img/book_01.png\"\n",
    "     style=\"display:block;margin:auto;width:35%\"/>\n"
   ]
  },
  {
   "cell_type": "markdown",
   "id": "525438e34b060d3a",
   "metadata": {
    "lang": "de",
    "slideshow": {
     "slide_type": "subslide"
    },
    "tags": [
     "subslide"
    ]
   },
   "source": [
    "\n",
    "## Verletzung des SRPs\n",
    "\n",
    "<img src=\"img/book_02.png\"\n",
    "     style=\"display:block;margin:auto;width:60%\"/>"
   ]
  },
  {
   "cell_type": "code",
   "execution_count": null,
   "id": "c50d301ca212b6b1",
   "metadata": {
    "slideshow": {
     "slide_type": "subslide"
    },
    "tags": [
     "keep",
     "subslide"
    ]
   },
   "outputs": [],
   "source": [
    "import java.util.*;"
   ]
  },
  {
   "cell_type": "code",
   "execution_count": null,
   "id": "0197ed3b0e9062ea",
   "metadata": {
    "tags": [
     "keep"
    ]
   },
   "outputs": [],
   "source": [
    "public class Book {\n",
    "    public Book(String title, String author, int pages) {\n",
    "        this.title = title;\n",
    "        this.author = author;\n",
    "        this.pages = pages;\n",
    "    }\n",
    "\n",
    "    public void print() {\n",
    "        // Lots of code that handles the printer\n",
    "        System.out.println(\"Printing \" + title + \" to printer.\");\n",
    "    }\n",
    "\n",
    "    public void save() {\n",
    "        // Lots of code that handles the database\n",
    "        System.out.println(\"Saving \" + title + \" to database.\");\n",
    "    }\n",
    "\n",
    "    private String title;\n",
    "    private String author;\n",
    "    private int pages;\n",
    "}"
   ]
  },
  {
   "cell_type": "code",
   "execution_count": null,
   "id": "14c4e344bcc1aec8",
   "metadata": {
    "slideshow": {
     "slide_type": "subslide"
    },
    "tags": [
     "subslide"
    ]
   },
   "outputs": [],
   "source": [
    "Book book = new Book(\"Clean Code\", \"Robert C. Martin\", 464);"
   ]
  },
  {
   "cell_type": "code",
   "execution_count": null,
   "id": "532259a968ff9565",
   "metadata": {},
   "outputs": [],
   "source": [
    "book.print();"
   ]
  },
  {
   "cell_type": "code",
   "execution_count": null,
   "id": "abb77babac5962a0",
   "metadata": {},
   "outputs": [],
   "source": [
    "book.save();"
   ]
  },
  {
   "cell_type": "markdown",
   "id": "87c8cb9e2bc1ed64",
   "metadata": {
    "lang": "de",
    "slideshow": {
     "slide_type": "subslide"
    },
    "tags": [
     "subslide"
    ]
   },
   "source": [
    "\n",
    "## Auflösung der SRP-Verletzung (Version 1a)\n",
    "\n",
    "Vorschlag von Robert C. Martin in Clean Architecture:\n",
    "\n",
    "<img src=\"img/book_resolution_1a_srp.png\"\n",
    "     style=\"display:block;margin:auto;width:40%\"/>"
   ]
  },
  {
   "cell_type": "code",
   "execution_count": null,
   "id": "b5f9ac5e0603ef23",
   "metadata": {
    "slideshow": {
     "slide_type": "subslide"
    },
    "tags": [
     "keep",
     "subslide"
    ]
   },
   "outputs": [],
   "source": [
    "public class BookV1 {\n",
    "    public BookV1(String title, String author, int pages) {\n",
    "        this.title = title;\n",
    "        this.author = author;\n",
    "        this.pages = pages;\n",
    "    }\n",
    "\n",
    "    public String getTitle() { return title; }\n",
    "    public String getAuthor() { return author; }\n",
    "    public int getPages() { return pages; }\n",
    "\n",
    "    private String title;\n",
    "    private String author;\n",
    "    private int pages;\n",
    "}"
   ]
  },
  {
   "cell_type": "code",
   "execution_count": null,
   "id": "63b3fdfbda747f71",
   "metadata": {
    "slideshow": {
     "slide_type": "subslide"
    },
    "tags": [
     "keep",
     "subslide"
    ]
   },
   "outputs": [],
   "source": [
    "public class BookPrinterV1a {\n",
    "    public BookPrinterV1a(BookV1 book) {\n",
    "        this.book = book;\n",
    "    }\n",
    "\n",
    "    public void print() {\n",
    "        // Lots of code that handles the printer\n",
    "        System.out.println(\"Printing \" + book.getTitle() + \" to printer.\");\n",
    "    }\n",
    "\n",
    "    private BookV1 book;\n",
    "}"
   ]
  },
  {
   "cell_type": "code",
   "execution_count": null,
   "id": "68d9e1058b8142da",
   "metadata": {
    "slideshow": {
     "slide_type": "subslide"
    },
    "tags": [
     "keep",
     "subslide"
    ]
   },
   "outputs": [],
   "source": [
    "public class BookDatabaseV1a {\n",
    "    public BookDatabaseV1a(BookV1 book) {\n",
    "        this.book = book;\n",
    "    }\n",
    "\n",
    "    public void save() {\n",
    "        // Lots of code that handles the database\n",
    "        System.out.println(\"Saving \" + book.getTitle() + \" to database.\");\n",
    "    }\n",
    "\n",
    "    private BookV1 book;\n",
    "}"
   ]
  },
  {
   "cell_type": "code",
   "execution_count": null,
   "id": "c54e44cad44d2710",
   "metadata": {
    "slideshow": {
     "slide_type": "subslide"
    },
    "tags": [
     "subslide"
    ]
   },
   "outputs": [],
   "source": [
    "BookV1 bookV1 = new BookV1(\"Clean Code\", \"Robert C. Martin\", 464);"
   ]
  },
  {
   "cell_type": "code",
   "execution_count": null,
   "id": "e1749ff7a5baa730",
   "metadata": {},
   "outputs": [],
   "source": [
    "BookPrinterV1a bookPrinterV1a = new BookPrinterV1a(bookV1);"
   ]
  },
  {
   "cell_type": "code",
   "execution_count": null,
   "id": "fd90ca747fc9fb6f",
   "metadata": {},
   "outputs": [],
   "source": [
    "bookPrinterV1a.print();"
   ]
  },
  {
   "cell_type": "code",
   "execution_count": null,
   "id": "b407203ebab20f4d",
   "metadata": {},
   "outputs": [],
   "source": [
    "BookDatabaseV1a bookDatabaseV1a = new BookDatabaseV1a(bookV1);"
   ]
  },
  {
   "cell_type": "code",
   "execution_count": null,
   "id": "0d1a746adacfaf66",
   "metadata": {},
   "outputs": [],
   "source": [
    "bookDatabaseV1a.save();"
   ]
  },
  {
   "cell_type": "markdown",
   "id": "a577e5f8c478252f",
   "metadata": {
    "lang": "de",
    "slideshow": {
     "slide_type": "subslide"
    },
    "tags": [
     "subslide"
    ]
   },
   "source": [
    "\n",
    "## Auflösung der SRP-Verletzung (Version 1a mit Fassade)\n",
    "\n",
    "<img src=\"img/book_resolution_1a_srp_facade.png\"\n",
    "     style=\"display:block;margin:auto;width:50%\"/>"
   ]
  },
  {
   "cell_type": "code",
   "execution_count": null,
   "id": "d1c55f54c89e4f6d",
   "metadata": {
    "slideshow": {
     "slide_type": "subslide"
    },
    "tags": [
     "keep",
     "subslide"
    ]
   },
   "outputs": [],
   "source": [
    "public class BookPrinterFacadeV1a {\n",
    "    public BookPrinterFacadeV1a(BookV1 book) {\n",
    "        this.bookPrinter = new BookPrinterV1a(book);\n",
    "        this.bookDatabase = new BookDatabaseV1a(book);\n",
    "    }\n",
    "\n",
    "    public void print() {\n",
    "        bookPrinter.print();\n",
    "    }\n",
    "\n",
    "    public void save() {\n",
    "        bookDatabase.save();\n",
    "    }\n",
    "\n",
    "    private BookPrinterV1a bookPrinter;\n",
    "    private BookDatabaseV1a bookDatabase;\n",
    "}"
   ]
  },
  {
   "cell_type": "code",
   "execution_count": null,
   "id": "ff27e7bc408cae62",
   "metadata": {
    "lines_to_next_cell": 0,
    "slideshow": {
     "slide_type": "subslide"
    },
    "tags": [
     "subslide"
    ]
   },
   "outputs": [],
   "source": [
    "BookPrinterFacadeV1a bookPrinterFacadeV1a = new BookPrinterFacadeV1a(bookV1);"
   ]
  },
  {
   "cell_type": "code",
   "execution_count": null,
   "id": "156e26fb6654180c",
   "metadata": {},
   "outputs": [],
   "source": [
    "bookPrinterFacadeV1a.print();"
   ]
  },
  {
   "cell_type": "code",
   "execution_count": null,
   "id": "28bf03184720cf5f",
   "metadata": {
    "lines_to_next_cell": 2
   },
   "outputs": [],
   "source": [
    "bookPrinterFacadeV1a.save();"
   ]
  },
  {
   "cell_type": "markdown",
   "id": "8156e0140de8f29f",
   "metadata": {
    "lang": "de",
    "slideshow": {
     "slide_type": "subslide"
    },
    "tags": [
     "subslide"
    ]
   },
   "source": [
    "\n",
    "## Auflösung der SRP-Verletzung (Version 1b)\n",
    "\n",
    "<img src=\"img/book_resolution_1_srp.png\"\n",
    "     style=\"display:block;margin:auto;width:50%\"/>"
   ]
  },
  {
   "cell_type": "code",
   "execution_count": null,
   "id": "00434bb11bb4fdea",
   "metadata": {
    "slideshow": {
     "slide_type": "subslide"
    },
    "tags": [
     "keep",
     "subslide"
    ]
   },
   "outputs": [],
   "source": [
    "public class BookPrinterV1b {\n",
    "    public void print(BookV1 book) {\n",
    "        // Lots of code that handles the printer\n",
    "        System.out.println(\"Printing \" + book.getTitle() + \" to printer.\");\n",
    "    }\n",
    "}"
   ]
  },
  {
   "cell_type": "code",
   "execution_count": null,
   "id": "b9d878490a9635e0",
   "metadata": {
    "tags": [
     "keep"
    ]
   },
   "outputs": [],
   "source": [
    "public class BookDatabaseV1b {\n",
    "    public void save(BookV1 book) {\n",
    "        // Lots of code that handles the database\n",
    "        System.out.println(\"Saving \" + book.getTitle() + \" to database.\");\n",
    "    }\n",
    "}"
   ]
  },
  {
   "cell_type": "code",
   "execution_count": null,
   "id": "3ffca06006243e08",
   "metadata": {
    "slideshow": {
     "slide_type": "subslide"
    },
    "tags": [
     "subslide"
    ]
   },
   "outputs": [],
   "source": [
    "BookV1 bookV1 = new BookV1(\"Clean Code\", \"Robert C. Martin\", 464);"
   ]
  },
  {
   "cell_type": "code",
   "execution_count": null,
   "id": "800f352ef69c27b8",
   "metadata": {},
   "outputs": [],
   "source": [
    "BookPrinterV1b bookPrinterV1b = new BookPrinterV1b();"
   ]
  },
  {
   "cell_type": "code",
   "execution_count": null,
   "id": "1ddfc4b32f17bd28",
   "metadata": {},
   "outputs": [],
   "source": [
    "bookPrinterV1b.print(bookV1);"
   ]
  },
  {
   "cell_type": "code",
   "execution_count": null,
   "id": "89120b33022945ce",
   "metadata": {},
   "outputs": [],
   "source": [
    "BookDatabaseV1b bookDatabaseV1b = new BookDatabaseV1b();"
   ]
  },
  {
   "cell_type": "code",
   "execution_count": null,
   "id": "f6dbeb4f4d651c20",
   "metadata": {},
   "outputs": [],
   "source": [
    "bookDatabaseV1b.save(bookV1);"
   ]
  },
  {
   "cell_type": "markdown",
   "id": "a1205fb70395df27",
   "metadata": {
    "lang": "de",
    "slideshow": {
     "slide_type": "subslide"
    },
    "tags": [
     "subslide"
    ]
   },
   "source": [
    "\n",
    "## Auflösung der SRP-Verletzung (Version 1b mit Facade)\n",
    "\n",
    "<img src=\"img/book_resolution_1_srp_facade.png\"\n",
    "     style=\"display:block;margin:auto;width:50%\"/>"
   ]
  },
  {
   "cell_type": "code",
   "execution_count": null,
   "id": "44761d0c9ec2c9f1",
   "metadata": {
    "slideshow": {
     "slide_type": "subslide"
    },
    "tags": [
     "subslide",
     "keep"
    ]
   },
   "outputs": [],
   "source": [
    "public class BookFacadeV1b {\n",
    "    public BookFacadeV1b(BookV1 book) {\n",
    "        this.book = book;\n",
    "    }\n",
    "\n",
    "    public void print() {\n",
    "        bookPrinter.print(book);\n",
    "    }\n",
    "\n",
    "    public void save() {\n",
    "        bookDatabase.save(book);\n",
    "    }\n",
    "\n",
    "    private BookV1 book;\n",
    "    private BookPrinterV1b bookPrinter = new BookPrinterV1b();\n",
    "    private BookDatabaseV1b bookDatabase = new BookDatabaseV1b();\n",
    "}"
   ]
  },
  {
   "cell_type": "code",
   "execution_count": null,
   "id": "ea43638a7f25adcc",
   "metadata": {
    "slideshow": {
     "slide_type": "subslide"
    },
    "tags": [
     "subslide"
    ]
   },
   "outputs": [],
   "source": [
    "BookFacadeV1b bookFacadeV1 = new BookFacadeV1b(bookV1);"
   ]
  },
  {
   "cell_type": "code",
   "execution_count": null,
   "id": "7f1dc3955b40347c",
   "metadata": {},
   "outputs": [],
   "source": [
    "bookFacadeV1.print();"
   ]
  },
  {
   "cell_type": "code",
   "execution_count": null,
   "id": "053bf83b339f7dcc",
   "metadata": {},
   "outputs": [],
   "source": [
    "bookFacadeV1.save();"
   ]
  },
  {
   "cell_type": "markdown",
   "id": "97b686d3472bee96",
   "metadata": {
    "lang": "de",
    "slideshow": {
     "slide_type": "subslide"
    },
    "tags": [
     "subslide"
    ]
   },
   "source": [
    "\n",
    "## Auflösung der SRP-Verletzung (Version 2)\n",
    "\n",
    "<img src=\"img/book_resolution_2_srp.png\"\n",
    "     style=\"display:block;margin:auto;width:60%\"/>"
   ]
  },
  {
   "cell_type": "code",
   "execution_count": null,
   "id": "ab7767c91792701d",
   "metadata": {
    "slideshow": {
     "slide_type": "subslide"
    },
    "tags": [
     "keep",
     "subslide"
    ]
   },
   "outputs": [],
   "source": [
    "import java.util.*;"
   ]
  },
  {
   "cell_type": "code",
   "execution_count": null,
   "id": "aeeb3ce664f76d3c",
   "metadata": {},
   "outputs": [],
   "source": [
    "// Forward reference...\n",
    "public class BookV2 {\n",
    "    public String getTitle() { return title; }\n",
    "}"
   ]
  },
  {
   "cell_type": "code",
   "execution_count": null,
   "id": "436afdd9040e2eb4",
   "metadata": {
    "tags": [
     "keep"
    ]
   },
   "outputs": [],
   "source": [
    "public class BookPrinterV2 {\n",
    "    public void print(BookV2 book) {\n",
    "        // Lots of code that handles the printer\n",
    "        System.out.println(\"Printing \" + book.getTitle() + \" to printer.\");\n",
    "    }\n",
    "}"
   ]
  },
  {
   "cell_type": "code",
   "execution_count": null,
   "id": "877ce8e9b881989d",
   "metadata": {
    "tags": [
     "keep"
    ]
   },
   "outputs": [],
   "source": [
    "public class BookDatabaseV2 {\n",
    "    public void save(BookV2 book) {\n",
    "        // Lots of code that handles the database\n",
    "        System.out.println(\"Saving \" + book.getTitle() + \" to database.\");\n",
    "    }\n",
    "};"
   ]
  },
  {
   "cell_type": "code",
   "execution_count": null,
   "id": "534e8ba4eec67815",
   "metadata": {
    "slideshow": {
     "slide_type": "subslide"
    },
    "tags": [
     "keep",
     "subslide"
    ]
   },
   "outputs": [],
   "source": [
    "public class BookV2 {\n",
    "    public BookV2(String title, String author, int pages) {\n",
    "        this.title = title;\n",
    "        this.author = author;\n",
    "        this.pages = pages;\n",
    "    }\n",
    "\n",
    "    public String getTitle() { return title; }\n",
    "    public String getAuthor() { return author; }\n",
    "    public int getPages() { return pages; }\n",
    "\n",
    "    public void print() { bookPrinter.print(this); }\n",
    "    public void save() { bookDatabase.save(this); }\n",
    "\n",
    "    private String title;\n",
    "    private String author;\n",
    "    private int pages;\n",
    "\n",
    "    private BookPrinterV2 bookPrinter = new BookPrinterV2();\n",
    "    private BookDatabaseV2 bookDatabase = new BookDatabaseV2();\n",
    "}"
   ]
  },
  {
   "cell_type": "code",
   "execution_count": null,
   "id": "26c713f1c2120912",
   "metadata": {
    "slideshow": {
     "slide_type": "subslide"
    },
    "tags": [
     "subslide"
    ]
   },
   "outputs": [],
   "source": [
    "BookV2 bookV2 = new BookV2(\"Clean Code\", \"Robert C. Martin\", 464);"
   ]
  },
  {
   "cell_type": "code",
   "execution_count": null,
   "id": "6149899725aea81f",
   "metadata": {},
   "outputs": [],
   "source": [
    "bookV2.print();"
   ]
  },
  {
   "cell_type": "code",
   "execution_count": null,
   "id": "6a7f2e0c0ed730d1",
   "metadata": {},
   "outputs": [],
   "source": [
    "bookV2.save();"
   ]
  },
  {
   "cell_type": "markdown",
   "id": "17ea7114ee3b6e69",
   "metadata": {
    "lang": "de",
    "slideshow": {
     "slide_type": "subslide"
    },
    "tags": [
     "subslide"
    ]
   },
   "source": [
    "\n",
    "## Vergleich\n",
    "\n",
    "<div>\n",
    "<img src=\"img/book_resolution_1a_srp.png\"\n",
    "     style=\"float:left;padding:5px;width:40%\"/>\n",
    "<img src=\"img/book_resolution_2_srp.png\"\n",
    "     style=\"float:right;padding:5px;width:50%\"/>\n",
    "</div>"
   ]
  },
  {
   "cell_type": "markdown",
   "id": "6310fed5367249f7",
   "metadata": {
    "lang": "de",
    "lines_to_next_cell": 2,
    "slideshow": {
     "slide_type": "subslide"
    },
    "tags": [
     "subslide"
    ]
   },
   "source": [
    "\n",
    "## Workshop: Wetter-App\n",
    "\n",
    "Sie arbeiten an einer vielseitigen Wetteranwendung namens WeatherWise. Die\n",
    "WeatherWise App bietet ihren Benutzern aktuelle Wetterinformationen aus\n",
    "verschiedenen Online-Plattformen. Über die Anzeige der aktuellen Bedingungen\n",
    "hinaus ermöglicht die App den Benutzern, die Vorhersage in verschiedenen\n",
    "visuellen Formaten anzuzeigen, und sie protokolliert Fehler für alle Probleme\n",
    "während des Datenabrufs oder der Analyse.\n",
    "\n",
    "Während WeatherWise für seine Funktionen gut ankommt, sieht sich das\n",
    "Entwicklungsteam mit Herausforderungen bei der Wartung und Erweiterung der\n",
    "Anwendung konfrontiert. Die Entwickler haben festgestellt, dass die\n",
    "Kernklasse, `Weather`, zunehmend komplex wird. Sie behandelt alles von der\n",
    "Datenbeschaffung bis zur Datendarstellung. Diese Komplexität erschwert die\n",
    "Einführung neuer Funktionen, ohne dass dabei die Gefahr besteht, Fehler\n",
    "einzuführen.\n",
    "\n",
    "Ihre Aufgabe: Refaktorisieren Sie die Klasse `Weather`, indem Sie\n",
    "sicherstellen, dass jede Klasse im System dem Single Responsibility Principle\n",
    "entspricht. Damit legen Sie die Grundlage für eine wartbarere und\n",
    "skalierbarere Anwendung."
   ]
  },
  {
   "cell_type": "markdown",
   "id": "2f150c9892faf5bb",
   "metadata": {
    "lang": "de",
    "slideshow": {
     "slide_type": "subslide"
    },
    "tags": [
     "subslide"
    ]
   },
   "source": [
    "\n",
    "### Klassendiagramm der Wetter-App\n",
    "\n",
    "<img src=\"img/weather_app_class.png\"\n",
    "     style=\"display:block;margin:auto;width:40%\"/>"
   ]
  },
  {
   "cell_type": "markdown",
   "id": "fd2ec777e2816c1e",
   "metadata": {
    "lang": "de",
    "slideshow": {
     "slide_type": "subslide"
    },
    "tags": [
     "subslide"
    ]
   },
   "source": [
    "\n",
    "### RunWeatherApp() Sequenzendiagramm\n",
    "\n",
    "<img src=\"img/weather_app_sequence.png\"\n",
    "     style=\"display:block;margin:auto;width:30%\"/>"
   ]
  },
  {
   "cell_type": "code",
   "execution_count": null,
   "id": "5639da13d72950f2",
   "metadata": {
    "slideshow": {
     "slide_type": "subslide"
    },
    "tags": [
     "keep",
     "subslide"
    ]
   },
   "outputs": [],
   "source": [
    "import java.util.ArrayList;\n",
    "import java.util.List;"
   ]
  },
  {
   "cell_type": "code",
   "execution_count": null,
   "id": "23d690bd021709ca",
   "metadata": {
    "slideshow": {
     "slide_type": "subslide"
    },
    "tags": [
     "keep",
     "subslide"
    ]
   },
   "outputs": [],
   "source": [
    "public class Weather {\n",
    "    public void fetchDataFromSource() {\n",
    "        // Simulating fetching data from some source\n",
    "        rawData = \"Sunny, 25°C\";\n",
    "        System.out.println(\"Data fetched from source.\");\n",
    "    }\n",
    "\n",
    "    public void parseData() {\n",
    "        // Simulate data parsing\n",
    "        if (rawData.isEmpty()) {\n",
    "            logError(\"No data available\");\n",
    "            return;\n",
    "        }\n",
    "        data = List.of(10.0, 12.0, 8.0, 15.0, 20.0, 22.0, 25.0);\n",
    "        System.out.println(\"Data parsed: \" + formatData());\n",
    "    }\n",
    "\n",
    "    public void displayInFormatA() {\n",
    "        // Simulating one display format\n",
    "        if (data.isEmpty()) {\n",
    "            logError(\"No data available\");\n",
    "            return;\n",
    "        }\n",
    "        System.out.println(\"Format A: \" + formatData());\n",
    "    }\n",
    "\n",
    "    public void displayInFormatB() {\n",
    "        // Simulating another display format\n",
    "        if (data.isEmpty()) {\n",
    "            logError(\"No data available\");\n",
    "            return;\n",
    "        }\n",
    "        System.out.println(\"Format B: === \" + formatData() + \" ===\");\n",
    "    }\n",
    "\n",
    "    public void logError(String errorMsg) {\n",
    "        // Simulating error logging\n",
    "        System.out.println(\"Error: \" + errorMsg);\n",
    "    }\n",
    "\n",
    "    private String formatData() {\n",
    "        StringBuilder sb = new StringBuilder();\n",
    "        for (double d : data) {\n",
    "            sb.append(d).append(\", \");\n",
    "        }\n",
    "        return sb.toString();\n",
    "    }\n",
    "\n",
    "    private String rawData = \"\";\n",
    "    private List<Double> data = new ArrayList<>();\n",
    "}"
   ]
  },
  {
   "cell_type": "code",
   "execution_count": null,
   "id": "34ef2cf2990f9961",
   "metadata": {
    "slideshow": {
     "slide_type": "subslide"
    },
    "tags": [
     "keep",
     "subslide"
    ]
   },
   "outputs": [],
   "source": [
    "public void runWeatherApp(boolean introduceError) {\n",
    "        Weather w = new Weather();\n",
    "        w.fetchDataFromSource();\n",
    "        if (!introduceError) {\n",
    "            w.parseData();\n",
    "        }\n",
    "        w.displayInFormatA();\n",
    "        w.displayInFormatB();\n",
    "}"
   ]
  },
  {
   "cell_type": "code",
   "execution_count": null,
   "id": "7bce1f97c3a04c78",
   "metadata": {
    "slideshow": {
     "slide_type": "subslide"
    },
    "tags": [
     "keep",
     "subslide"
    ]
   },
   "outputs": [],
   "source": [
    "runWeatherApp(false);"
   ]
  },
  {
   "cell_type": "code",
   "execution_count": null,
   "id": "7bfcefc60f9eb190",
   "metadata": {
    "tags": [
     "keep"
    ]
   },
   "outputs": [],
   "source": [
    "runWeatherApp(true);"
   ]
  },
  {
   "cell_type": "markdown",
   "id": "283037cb6b02cb54",
   "metadata": {
    "lang": "de",
    "slideshow": {
     "slide_type": "subslide"
    },
    "tags": [
     "subslide",
     "alt"
    ]
   },
   "source": [
    "\n",
    "### Implementierung nach Auflösung der SRP-Verletzungen:"
   ]
  },
  {
   "cell_type": "markdown",
   "id": "0abbfadf76ab22e9",
   "metadata": {
    "lang": "de",
    "lines_to_next_cell": 2,
    "slideshow": {
     "slide_type": "subslide"
    },
    "tags": [
     "alt",
     "subslide"
    ]
   },
   "source": [
    "\n",
    "### Klassendiagramm der Wetter-App\n",
    "\n",
    "<img src=\"img/weather_app_class_srp.png\"\n",
    "     style=\"display:block;margin:auto;width:80%\"/>"
   ]
  },
  {
   "cell_type": "markdown",
   "id": "0fc93d7ba4468ea9",
   "metadata": {
    "lang": "de",
    "slideshow": {
     "slide_type": "subslide"
    },
    "tags": [
     "alt",
     "subslide"
    ]
   },
   "source": [
    "\n",
    "### RunWeatherApp() Sequenzendiagramm\n",
    "\n",
    "<img src=\"img/weather_app_sequence_srp.png\"\n",
    "     style=\"display:block;margin:auto;width:75%\"/>"
   ]
  },
  {
   "cell_type": "code",
   "execution_count": null,
   "id": "62a0e86f15b4dff1",
   "metadata": {
    "tags": [
     "alt"
    ]
   },
   "outputs": [],
   "source": [
    "import java.io.IOException;\n",
    "import java.util.ArrayList;\n",
    "import java.util.List;\n",
    "import java.util.stream.Collectors;"
   ]
  },
  {
   "cell_type": "code",
   "execution_count": null,
   "id": "962e21dfd7765a33",
   "metadata": {
    "tags": [
     "alt"
    ]
   },
   "outputs": [],
   "source": [
    "public class WeatherErrorLogger {\n",
    "    // Assume that the logger has internal state and this cannot be static.\n",
    "    public void logError(String errorMsg) {\n",
    "        System.out.println(\"Error: \" + errorMsg);\n",
    "    }\n",
    "}"
   ]
  },
  {
   "cell_type": "code",
   "execution_count": null,
   "id": "ed4fef008b2afbeb",
   "metadata": {
    "slideshow": {
     "slide_type": "subslide"
    },
    "tags": [
     "alt",
     "subslide"
    ]
   },
   "outputs": [],
   "source": [
    "public class WeatherData {\n",
    "    public WeatherData(List<Double> data) {\n",
    "        this.data = data;\n",
    "    }\n",
    "\n",
    "    public WeatherData() {\n",
    "        this.data = new ArrayList<>();\n",
    "    }\n",
    "\n",
    "    public List<Double> getData() {\n",
    "        return data;\n",
    "    }\n",
    "\n",
    "    public String formattedData() {\n",
    "        if (data.isEmpty()) {\n",
    "            throw new RuntimeException(\"No data available!\");\n",
    "        }\n",
    "        return data.stream()\n",
    "                   .map(Object::toString)\n",
    "                   .collect(Collectors.joining(\", \"));\n",
    "    }\n",
    "\n",
    "    private List<Double> data;\n",
    "}"
   ]
  },
  {
   "cell_type": "code",
   "execution_count": null,
   "id": "5b2d76487ef60b43",
   "metadata": {
    "slideshow": {
     "slide_type": "subslide"
    },
    "tags": [
     "alt",
     "subslide"
    ]
   },
   "outputs": [],
   "source": [
    "class WeatherDataSource {\n",
    "    public WeatherDataSource(WeatherErrorLogger errorLogger) {\n",
    "        this.errorLogger = errorLogger;\n",
    "    }\n",
    "\n",
    "    public void fetchData() {\n",
    "        // Simulating fetching data from some source\n",
    "        rawData = \"Sunny, 25°C\";\n",
    "        hasData = true;\n",
    "        System.out.println(\"Data fetched from source.\");\n",
    "    }\n",
    "\n",
    "    public String getRawData() {\n",
    "        if (hasData) {\n",
    "            return rawData;\n",
    "        } else {\n",
    "            errorLogger.logError(\"WeatherDataSource has no data!\");\n",
    "            return \"\";\n",
    "        }\n",
    "    }\n",
    "\n",
    "    private String rawData = \"\";\n",
    "    private boolean hasData = false;\n",
    "    private final WeatherErrorLogger errorLogger;\n",
    "}"
   ]
  },
  {
   "cell_type": "code",
   "execution_count": null,
   "id": "e101a60edfb9ae7f",
   "metadata": {
    "slideshow": {
     "slide_type": "subslide"
    },
    "tags": [
     "alt",
     "subslide"
    ]
   },
   "outputs": [],
   "source": [
    "class WeatherDataParser {\n",
    "    public WeatherDataParser(WeatherErrorLogger errorLogger) {\n",
    "        this.errorLogger = errorLogger;\n",
    "    }\n",
    "\n",
    "    public WeatherData parse(String rawData) {\n",
    "        // Simulate data parsing\n",
    "        if (rawData.isEmpty()) {\n",
    "            errorLogger.logError(\"No data available for parsing!\");\n",
    "            return new WeatherData();\n",
    "        }\n",
    "        List<Double> data = List.of(10.0, 12.0, 8.0, 15.0, 20.0, 22.0, 25.0);\n",
    "        System.out.println(\"Data parsed.\");\n",
    "        return new WeatherData(data);\n",
    "    }\n",
    "\n",
    "    private WeatherErrorLogger errorLogger;\n",
    "}"
   ]
  },
  {
   "cell_type": "code",
   "execution_count": null,
   "id": "9e29526143edf771",
   "metadata": {
    "slideshow": {
     "slide_type": "subslide"
    },
    "tags": [
     "alt",
     "subslide"
    ]
   },
   "outputs": [],
   "source": [
    "class WeatherDisplay {\n",
    "    public WeatherDisplay(WeatherErrorLogger errorLogger) {\n",
    "        this.errorLogger = errorLogger;\n",
    "    }\n",
    "\n",
    "    public void displayInFormatA(WeatherData data) {\n",
    "        try {\n",
    "            String formattedData = data.formattedData();\n",
    "            System.out.println(\"Format A: \" + formattedData);\n",
    "        } catch (RuntimeException e) {\n",
    "            errorLogger.logError(\"In displayInFormatA: \" + e.getMessage());\n",
    "        }\n",
    "    }\n",
    "\n",
    "    public void displayInFormatB(WeatherData data) {\n",
    "        try {\n",
    "            String formattedData = data.formattedData();\n",
    "            System.out.println(\"Format B: === \" + formattedData + \" ===\");\n",
    "        } catch (RuntimeException e) {\n",
    "            errorLogger.logError(\"In displayInFormatB: \" + e.getMessage());\n",
    "        }\n",
    "    }\n",
    "\n",
    "    private WeatherErrorLogger errorLogger;\n",
    "}"
   ]
  },
  {
   "cell_type": "code",
   "execution_count": null,
   "id": "4a0573fa39767e91",
   "metadata": {
    "slideshow": {
     "slide_type": "subslide"
    },
    "tags": [
     "alt",
     "subslide"
    ]
   },
   "outputs": [],
   "source": [
    "public void runWeatherAppSrp(boolean introduceError) {\n",
    "        WeatherErrorLogger errorLogger = new WeatherErrorLogger();\n",
    "        WeatherDataParser parser = new WeatherDataParser(errorLogger);\n",
    "\n",
    "        WeatherDataSource dataSource = new WeatherDataSource(errorLogger);\n",
    "        if (!introduceError) {\n",
    "            dataSource.fetchData();\n",
    "        }\n",
    "\n",
    "        WeatherData weatherData = parser.parse(dataSource.getRawData());\n",
    "\n",
    "        WeatherDisplay weatherDisplay = new WeatherDisplay(errorLogger);\n",
    "        weatherDisplay.displayInFormatA(weatherData);\n",
    "        weatherDisplay.displayInFormatB(weatherData);\n",
    "}"
   ]
  },
  {
   "cell_type": "code",
   "execution_count": null,
   "id": "8fc5006227d1b183",
   "metadata": {
    "tags": [
     "alt"
    ]
   },
   "outputs": [],
   "source": [
    "runWeatherAppSrp(false);"
   ]
  },
  {
   "cell_type": "code",
   "execution_count": null,
   "id": "32f8073de94b3ff6",
   "metadata": {
    "tags": [
     "alt"
    ]
   },
   "outputs": [],
   "source": [
    "runWeatherAppSrp(true);"
   ]
  },
  {
   "cell_type": "markdown",
   "id": "2bd6221fd4c76791",
   "metadata": {
    "lang": "de",
    "slideshow": {
     "slide_type": "subslide"
    },
    "tags": [
     "subslide",
     "alt"
    ]
   },
   "source": [
    "\n",
    "- Mit diesem refaktorierten Code erfüllt jede Klasse das Single\n",
    "  Responsibility Prinzip.\n",
    "- Jede Klasse behandelt eine eigene Verantwortlichkeit: Datenbeschaffung,\n",
    "  Datenanalyse, Datenanzeige und Fehlerprotokollierung.\n",
    "- Diese Trennung ermöglicht eine einfachere Wartung, Tests und potenzielle\n",
    "  zukünftige Erweiterungen."
   ]
  }
 ],
 "metadata": {
  "jupytext": {
   "cell_metadata_filter": "tags,lang,-all",
   "encoding": "// -*- coding: utf-8 -*-",
   "main_language": "java",
   "notebook_metadata_filter": "-all"
  },
  "kernelspec": {
   "display_name": "Java",
   "language": "java",
   "name": "java"
  },
  "language_info": {
   "codemirror_mode": "java",
   "file_extension": ".java",
   "mimetype": "text/java",
   "name": "Java",
   "pygments_lexer": "java",
   "version": ""
  }
 },
 "nbformat": 4,
 "nbformat_minor": 5
}
