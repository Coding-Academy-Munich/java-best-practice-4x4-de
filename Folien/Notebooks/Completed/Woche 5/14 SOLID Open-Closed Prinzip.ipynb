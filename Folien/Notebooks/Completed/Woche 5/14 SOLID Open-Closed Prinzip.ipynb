{
 "cells": [
  {
   "cell_type": "markdown",
   "id": "918c4c7250be66c0",
   "metadata": {
    "lang": "de",
    "slideshow": {
     "slide_type": "slide"
    },
    "tags": [
     "slide"
    ]
   },
   "source": [
    "\n",
    "<img src=\"data:image/svg+xml;base64,PHN2ZyB4bWxucz0iaHR0cDovL3d3dy53My5vcmcvMjAwMC9zdmciIHdpZHRoPSI2NCIgaGVpZ2h0\n",
    "PSI2NCIgdmlld0JveD0iMCAwIDMyIDMyIj48cGF0aCBkPSJNMTEuNjIyIDI0Ljc0cy0xLjIzLjc0\n",
    "OC44NTUuOTYyYzIuNTEuMzIgMy44NDcuMjY3IDYuNjI1LS4yNjdhMTAuMDIgMTAuMDIgMCAwIDAg\n",
    "MS43NjMuODU1Yy02LjI1IDIuNjcyLTE0LjE2LS4xNi05LjI0NC0xLjU1em0tLjgtMy40NzNzLTEu\n",
    "MzM2IDEuMDE1Ljc0OCAxLjIzYzIuNzI1LjI2NyA0Ljg2Mi4zMiA4LjU1LS40MjdhMy4yNiAzLjI2\n",
    "IDAgMCAwIDEuMjgyLjgwMWMtNy41MzQgMi4yNDQtMTUuOTc2LjIxNC0xMC41OC0xLjYwM3ptMTQu\n",
    "NzQ3IDYuMDlzLjkwOC43NDgtMS4wMTUgMS4zMzZjLTMuNTggMS4wNy0xNS4wMTQgMS4zOS0xOC4y\n",
    "MiAwLTEuMTIyLS40OCAxLjAxNS0xLjE3NSAxLjctMS4yODIuNjk1LS4xNiAxLjA3LS4xNiAxLjA3\n",
    "LS4xNi0xLjIzLS44NTUtOC4xNzUgMS43NjMtMy41MjYgMi41MSAxMi43NyAyLjA4NCAyMy4yOTYt\n",
    "LjkwOCAxOS45ODMtMi40MDR6TTEyLjIgMTcuNjMzcy01LjgyNCAxLjM5LTIuMDg0IDEuODdjMS42\n",
    "MDMuMjE0IDQuNzU1LjE2IDcuNjk0LS4wNTMgMi40MDQtLjIxNCA0LjgxLS42NCA0LjgxLS42NHMt\n",
    "Ljg1NS4zNzQtMS40NDMuNzQ4Yy01LjkzIDEuNTUtMTcuMzEyLjg1NS0xNC4wNTItLjc0OCAyLjc3\n",
    "OC0xLjMzNiA1LjA3Ni0xLjE3NSA1LjA3Ni0xLjE3NXptMTAuNDIgNS44MjRjNS45ODQtMy4xIDMu\n",
    "MjA2LTYuMDkgMS4yODItNS43MTctLjQ4LjEwNy0uNjk1LjIxNC0uNjk1LjIxNHMuMTYtLjMyLjUz\n",
    "NC0uNDI3YzMuNzk0LTEuMzM2IDYuNzg2IDQuMDA3LTEuMjMgNi4wOSAwIDAgLjA1My0uMDUzLjEw\n",
    "Ny0uMTZ6bS05LjgzIDguNDQyYzUuNzcuMzc0IDE0LjU4Ny0uMjE0IDE0LjgtMi45NCAwIDAtLjQy\n",
    "NyAxLjA3LTQuNzU1IDEuODctNC45MTYuOTA4LTExLjAwNy44LTE0LjU4Ny4yMTQgMCAwIC43NDgu\n",
    "NjQgNC41NDIuODU1eiIgZmlsbD0iIzRlNzg5NiIvPjxwYXRoIGQ9Ik0xOC45OTYuMDAxczMuMzEz\n",
    "IDMuMzY2LTMuMTUyIDguNDQyYy01LjE4MyA0LjExNC0xLjE3NSA2LjQ2NSAwIDkuMTM3LTMuMDQ2\n",
    "LTIuNzI1LTUuMjM2LTUuMTMtMy43NC03LjM3M0MxNC4yOTQgNi44OTMgMjAuMzMyIDUuMyAxOC45\n",
    "OTYuMDAxem0tMS43IDE1LjMzNWMxLjU1IDEuNzYzLS40MjcgMy4zNjYtLjQyNyAzLjM2NnMzLjk1\n",
    "NC0yLjAzIDIuMTM3LTQuNTQyYy0xLjY1Ni0yLjQwNC0yLjk0LTMuNTggNC4wMDctNy41ODcgMCAw\n",
    "LTEwLjk1MyAyLjcyNS01LjcxNyA4Ljc2M3oiIGZpbGw9IiNmNTgyMTkiLz48L3N2Zz4=\n",
    "\"\n",
    "     alt=\"Java Logo\" style=\"display:block;margin:auto;width:5%\"/>\n",
    "<br>\n",
    "\n",
    "<div style=\"text-align:center; font-size:200%;\">\n",
    " <b>SOLID: Open-Closed Prinzip</b>\n",
    "</div>\n",
    "<br/>\n",
    "<div style=\"text-align:center; font-size:120%;\">Dr. Matthias Hölzl</div>\n",
    "<br/>\n",
    "<div style=\"text-align:center;\">Coding-Akademie München</div>\n",
    "<br/>"
   ]
  },
  {
   "cell_type": "markdown",
   "id": "6d6d0c3384564cee",
   "metadata": {
    "lang": "de",
    "slideshow": {
     "slide_type": "slide"
    },
    "tags": [
     "slide"
    ]
   },
   "source": [
    "\n",
    "# Open-Closed Prinzip (SOLID)\n",
    "\n",
    "Klassen sollen\n",
    "\n",
    "- Offen für Erweiterung\n",
    "- Geschlossen für Modifikation\n",
    "\n",
    "sein."
   ]
  },
  {
   "cell_type": "code",
   "execution_count": null,
   "id": "1f58db19165f22d9",
   "metadata": {
    "slideshow": {
     "slide_type": "subslide"
    },
    "tags": [
     "keep",
     "subslide"
    ]
   },
   "outputs": [],
   "source": [
    "public enum MovieKindV0 {\n",
    "    REGULAR,\n",
    "    CHILDREN\n",
    "}"
   ]
  },
  {
   "cell_type": "code",
   "execution_count": null,
   "id": "1f5850bd0d21d298",
   "metadata": {
    "slideshow": {
     "slide_type": "subslide"
    },
    "tags": [
     "keep",
     "subslide"
    ]
   },
   "outputs": [],
   "source": [
    "public class MovieV0 {\n",
    "    public MovieV0(String title, MovieKindV0 kind) {\n",
    "        this.title = title;\n",
    "        this.kind = kind;\n",
    "    }\n",
    "\n",
    "    public String getTitle() {\n",
    "        return title;\n",
    "    }\n",
    "\n",
    "    public MovieKindV0 getKind() {\n",
    "        return kind;\n",
    "    }\n",
    "\n",
    "    public double computePrice() {\n",
    "        switch (kind) {\n",
    "            case REGULAR:\n",
    "                return 4.99;\n",
    "            case CHILDREN:\n",
    "                return 5.99;\n",
    "            default:\n",
    "                return 0.0;\n",
    "        }\n",
    "    }\n",
    "\n",
    "    public void printInfo() {\n",
    "        System.out.println(title + \" costs \" + computePrice());\n",
    "    }\n",
    "\n",
    "    private final String title;\n",
    "    private final MovieKindV0 kind;\n",
    "}"
   ]
  },
  {
   "cell_type": "code",
   "execution_count": null,
   "id": "2686ac00e6e489c3",
   "metadata": {
    "slideshow": {
     "slide_type": "subslide"
    },
    "tags": [
     "keep",
     "subslide"
    ]
   },
   "outputs": [],
   "source": [
    "MovieV0 m1 = new MovieV0(\"Casablanca\", MovieKindV0.REGULAR);\n",
    "MovieV0 m2 = new MovieV0(\"Shrek\", MovieKindV0.CHILDREN);"
   ]
  },
  {
   "cell_type": "code",
   "execution_count": null,
   "id": "7b2761babde4cdb5",
   "metadata": {
    "tags": [
     "keep"
    ]
   },
   "outputs": [],
   "source": [
    "m1.printInfo();\n",
    "m2.printInfo();"
   ]
  },
  {
   "cell_type": "markdown",
   "id": "f452df4b349d1ff9",
   "metadata": {
    "lang": "de",
    "lines_to_next_cell": 2,
    "slideshow": {
     "slide_type": "subslide"
    },
    "tags": [
     "subslide"
    ]
   },
   "source": [
    "\n",
    "<img src=\"img/movie_v0.png\" alt=\"MovieV0\"\n",
    "     style=\"display:block;margin:auto;width:50%\"/>"
   ]
  },
  {
   "cell_type": "markdown",
   "id": "77316076626eaade",
   "metadata": {
    "lang": "de",
    "slideshow": {
     "slide_type": "subslide"
    },
    "tags": [
     "subslide"
    ]
   },
   "source": [
    "\n",
    "Was passiert, wenn wir eine neue Filmart hinzufügen wollen?"
   ]
  },
  {
   "cell_type": "code",
   "execution_count": null,
   "id": "2ef779af32ffb793",
   "metadata": {
    "tags": [
     "alt"
    ]
   },
   "outputs": [],
   "source": [
    "public enum MovieKind {\n",
    "    REGULAR,\n",
    "    CHILDREN,\n",
    "    NEW_RELEASE\n",
    "}"
   ]
  },
  {
   "cell_type": "code",
   "execution_count": null,
   "id": "4209411deaf403d9",
   "metadata": {
    "slideshow": {
     "slide_type": "subslide"
    },
    "tags": [
     "alt",
     "subslide"
    ]
   },
   "outputs": [],
   "source": [
    "public class MovieV1 {\n",
    "    public MovieV1(String title, MovieKind kind) {\n",
    "        this.title = title;\n",
    "        this.kind = kind;\n",
    "    }\n",
    "\n",
    "    public String getTitle() {\n",
    "        return title;\n",
    "    }\n",
    "\n",
    "    public MovieKind getKind() {\n",
    "        return kind;\n",
    "    }\n",
    "\n",
    "    public double computePrice() {\n",
    "        switch (kind) {\n",
    "            case REGULAR:\n",
    "                return 4.99;\n",
    "            case CHILDREN:\n",
    "                return 5.99;\n",
    "            case NEW_RELEASE:\n",
    "                return 6.99;\n",
    "            default:\n",
    "                return 0.0;\n",
    "        }\n",
    "    }\n",
    "\n",
    "    public void printInfo() {\n",
    "        System.out.println(title + \" costs \" + computePrice());\n",
    "    }\n",
    "\n",
    "    private final String title;\n",
    "    private final MovieKind kind;\n",
    "}"
   ]
  },
  {
   "cell_type": "code",
   "execution_count": null,
   "id": "6e4c452a8ca31a20",
   "metadata": {
    "slideshow": {
     "slide_type": "subslide"
    },
    "tags": [
     "keep",
     "subslide"
    ]
   },
   "outputs": [],
   "source": [
    "MovieV1 m1 = new MovieV1(\"Casablanca\", MovieKind.REGULAR);\n",
    "MovieV1 m2 = new MovieV1(\"Shrek\", MovieKind.CHILDREN);\n",
    "// MovieV1 m3 = new MovieV1(\"Brand New\", MovieKind.NEW_RELEASE);"
   ]
  },
  {
   "cell_type": "code",
   "execution_count": null,
   "id": "560dbcb893d9fd75",
   "metadata": {
    "tags": [
     "keep"
    ]
   },
   "outputs": [],
   "source": [
    "m1.printInfo();\n",
    "m2.printInfo();\n",
    "// m3.printInfo();"
   ]
  },
  {
   "cell_type": "markdown",
   "id": "f918518dd8d5cf1c",
   "metadata": {
    "lang": "de",
    "slideshow": {
     "slide_type": "subslide"
    },
    "tags": [
     "subslide"
    ]
   },
   "source": [
    "\n",
    "<img src=\"img/movie_v1.png\" alt=\"MovieV1\"\n",
    "     style=\"display:block;margin:auto;width:50%\"/>"
   ]
  },
  {
   "cell_type": "markdown",
   "id": "06046b71a83f882d",
   "metadata": {
    "lang": "de",
    "slideshow": {
     "slide_type": "subslide"
    },
    "tags": [
     "subslide"
    ]
   },
   "source": [
    "\n",
    "## OCP-Verletzung\n",
    "\n",
    "- Neue Filmarten erfordern Änderungen an `MovieV1`\n",
    "- `MovieV1` ist nicht geschlossen für Modifikation"
   ]
  },
  {
   "cell_type": "markdown",
   "id": "a4dda57c88ce329b",
   "metadata": {
    "lang": "de",
    "slideshow": {
     "slide_type": "subslide"
    },
    "tags": [
     "subslide"
    ]
   },
   "source": [
    "\n",
    "## Auflösung (Versuch 1: Vererbung)\n",
    "\n",
    "- Neue Filmarten werden als neue Klassen implementiert\n",
    "- `MovieV2` wird abstrakt\n",
    "- `MovieV2` ist geschlossen für Modifikation"
   ]
  },
  {
   "cell_type": "code",
   "execution_count": null,
   "id": "2eb4a3265d9fd360",
   "metadata": {
    "slideshow": {
     "slide_type": "subslide"
    },
    "tags": [
     "subslide",
     "keep"
    ]
   },
   "outputs": [],
   "source": [
    "public abstract class MovieV2 {\n",
    "    public MovieV2(String title) {\n",
    "        this.title = title;\n",
    "    }\n",
    "\n",
    "    public String getTitle() {\n",
    "        return title;\n",
    "    }\n",
    "\n",
    "    public abstract double computePrice();\n",
    "\n",
    "    public void printInfo() {\n",
    "        System.out.println(title + \" costs \" + computePrice());\n",
    "    }\n",
    "\n",
    "    private final String title;\n",
    "}"
   ]
  },
  {
   "cell_type": "code",
   "execution_count": null,
   "id": "cba7292ddfa321ac",
   "metadata": {
    "slideshow": {
     "slide_type": "subslide"
    },
    "tags": [
     "subslide",
     "keep"
    ]
   },
   "outputs": [],
   "source": [
    "public class RegularMovie extends MovieV2 {\n",
    "    public RegularMovie(String title) {\n",
    "        super(title);\n",
    "    }\n",
    "\n",
    "    @Override\n",
    "    public double computePrice() {\n",
    "        return 4.99;\n",
    "    }\n",
    "}"
   ]
  },
  {
   "cell_type": "code",
   "execution_count": null,
   "id": "30a1ddaa7fcebf2b",
   "metadata": {
    "tags": [
     "keep"
    ]
   },
   "outputs": [],
   "source": [
    "public class ChildrenMovie extends MovieV2 {\n",
    "    public ChildrenMovie(String title) {\n",
    "        super(title);\n",
    "    }\n",
    "\n",
    "    @Override\n",
    "    public double computePrice() {\n",
    "        return 5.99;\n",
    "    }\n",
    "}"
   ]
  },
  {
   "cell_type": "code",
   "execution_count": null,
   "id": "64515dae3e7ed2c7",
   "metadata": {
    "tags": [
     "keep"
    ]
   },
   "outputs": [],
   "source": [
    "public class NewReleaseMovie extends MovieV2 {\n",
    "    public NewReleaseMovie(String title) {\n",
    "        super(title);\n",
    "    }\n",
    "\n",
    "    @Override\n",
    "    public double computePrice() {\n",
    "        return 6.99;\n",
    "    }\n",
    "}"
   ]
  },
  {
   "cell_type": "code",
   "execution_count": null,
   "id": "af49a960713a33b0",
   "metadata": {
    "slideshow": {
     "slide_type": "subslide"
    },
    "tags": [
     "subslide",
     "keep"
    ]
   },
   "outputs": [],
   "source": [
    "RegularMovie m1 = new RegularMovie(\"Casablanca\");\n",
    "ChildrenMovie m2 = new ChildrenMovie(\"Shrek\");\n",
    "NewReleaseMovie m3 = new NewReleaseMovie(\"Brand New\");"
   ]
  },
  {
   "cell_type": "code",
   "execution_count": null,
   "id": "56bbd6a1d6165a63",
   "metadata": {
    "tags": [
     "keep"
    ]
   },
   "outputs": [],
   "source": [
    "m1.printInfo();\n",
    "m2.printInfo();\n",
    "m3.printInfo();"
   ]
  },
  {
   "cell_type": "markdown",
   "id": "8894f552f6213987",
   "metadata": {
    "lang": "de",
    "slideshow": {
     "slide_type": "subslide"
    },
    "tags": [
     "subslide"
    ]
   },
   "source": [
    "\n",
    "<img src=\"img/movie_v2.png\" alt=\"MovieV0\"\n",
    "     style=\"display:block;margin:auto;width:100%\"/>"
   ]
  },
  {
   "cell_type": "markdown",
   "id": "4ef4a80f6515a20b",
   "metadata": {
    "lang": "de",
    "slideshow": {
     "slide_type": "subslide"
    },
    "tags": [
     "subslide"
    ]
   },
   "source": [
    "\n",
    "- `MovieV2` ist offen für Erweiterung\n",
    "- Neue Filmarten können hinzugefügt werden, ohne die bestehenden Klassen zu\n",
    "  ändern\n",
    "- Aber: Die Vererbungshierarchie umfasst die ganze Klasse\n",
    "  - Nur eine Art von Variabilität\n",
    "- Was ist, wenn wir für andere Zwecke eine andere Klassifikation brauchen?\n",
    "  - Z.B. DVD, BluRay, Online?\n",
    "- Mehrfachvererbung?\n",
    "- Produkt von Klassen?\n",
    "  - `ChildrenDVD`, `ChildrenBluRay`, `ChildrenOnline`, ..."
   ]
  },
  {
   "cell_type": "markdown",
   "id": "8d0dcafbc7b47890",
   "metadata": {
    "lang": "de",
    "slideshow": {
     "slide_type": "subslide"
    },
    "tags": [
     "subslide"
    ]
   },
   "source": [
    "\n",
    "## Bessere Auflösung: Strategy Pattern\n",
    "\n",
    "- Das Strategy-Pattern erlaubt es uns, die Vererbung auf kleinere Teile der\n",
    "  Klasse anzuwenden\n",
    "- In fast allen Fällen ist das die bessere Lösung!\n",
    "- Vererbung ist ein sehr mächtiges Werkzeug\n",
    "- Aber je kleiner und lokaler wir unsere Vererbungshierarchien halten, desto\n",
    "  besser"
   ]
  },
  {
   "cell_type": "markdown",
   "id": "ee77ccda44199d51",
   "metadata": {
    "lang": "de",
    "slideshow": {
     "slide_type": "slide"
    },
    "tags": [
     "slide"
    ]
   },
   "source": [
    "\n",
    "## Workshop: Smart Home Device Control System\n",
    "\n",
    "In diesem Workshop arbeiten wir mit einem Szenario, das ein Smart Home\n",
    "Gerätesteuerungssystem betrifft. Die Herausforderung? Das vorhandene System\n",
    "verletzt das OCP, und es liegt an uns, das zu korrigieren."
   ]
  },
  {
   "cell_type": "markdown",
   "id": "0e99c855f369b493",
   "metadata": {
    "lang": "de",
    "slideshow": {
     "slide_type": "subslide"
    },
    "tags": [
     "subslide"
    ]
   },
   "source": [
    "\n",
    "### Szenario\n",
    "\n",
    "Stellen Sie sich ein Smart-Home-System vor. Dieses System steuert verschiedene\n",
    "Geräte: Lichter, Thermostate, Sicherheitskameras und intelligente Schlösser.\n",
    "Jede Art von Gerät hat ihren eigenen einzigartigen Steuermechanismus und\n",
    "Automatisierungsregeln.\n",
    "\n",
    "Nun muss das Steuerungssystem des Smart Homes diese Geräte verwalten. Das\n",
    "Problem mit dem aktuellen System ist die Verwendung eines Enums zur Bestimmung\n",
    "des Gerätetyps und basierend darauf seiner Steuermethode. Dieser Ansatz ist\n",
    "nicht skalierbar und verletzt das OCP. Was passiert, wenn ein neuer Typ von\n",
    "Smart-Gerät zum Zuhause hinzugefügt wird? Oder was passiert, wenn sich der\n",
    "Steuermechanismus für Thermostate ändert? Die aktuelle Code-Struktur erfordert\n",
    "Änderungen an mehreren Stellen."
   ]
  },
  {
   "cell_type": "code",
   "execution_count": null,
   "id": "5639da13d72950f2",
   "metadata": {
    "slideshow": {
     "slide_type": "subslide"
    },
    "tags": [
     "keep",
     "subslide"
    ]
   },
   "outputs": [],
   "source": [
    "import java.util.ArrayList;\n",
    "import java.util.List;"
   ]
  },
  {
   "cell_type": "code",
   "execution_count": null,
   "id": "38db0d551eda10bf",
   "metadata": {
    "tags": [
     "keep"
    ]
   },
   "outputs": [],
   "source": [
    "public enum DeviceType {\n",
    "    LIGHT,\n",
    "    THERMOSTAT,\n",
    "    SECURITY_CAMERA,\n",
    "    SMART_LOCK\n",
    "}"
   ]
  },
  {
   "cell_type": "code",
   "execution_count": null,
   "id": "7603648c635b6b58",
   "metadata": {
    "slideshow": {
     "slide_type": "subslide"
    },
    "tags": [
     "keep",
     "subslide"
    ]
   },
   "outputs": [],
   "source": [
    "public class DeviceV0 {\n",
    "    public DeviceV0(DeviceType type) {\n",
    "        this.type = type;\n",
    "    }\n",
    "\n",
    "    public String control() {\n",
    "        switch (type) {\n",
    "            case LIGHT:\n",
    "                return \"Turning light on/off.\";\n",
    "            case THERMOSTAT:\n",
    "                return \"Adjusting temperature.\";\n",
    "            case SECURITY_CAMERA:\n",
    "                return \"Activating motion detection.\";\n",
    "            case SMART_LOCK:\n",
    "                return \"Locking/Unlocking door.\";\n",
    "            default:\n",
    "                return \"Unknown device control!\";\n",
    "        }\n",
    "    }\n",
    "\n",
    "    public String getStatus() {\n",
    "        switch (type) {\n",
    "            case LIGHT:\n",
    "                return \"Light is on/off.\";\n",
    "            case THERMOSTAT:\n",
    "                return \"Current temperature: 22°C.\";\n",
    "            case SECURITY_CAMERA:\n",
    "                return \"Camera is active/inactive.\";\n",
    "            case SMART_LOCK:\n",
    "                return \"Door is locked/unlocked.\";\n",
    "            default:\n",
    "                return \"Unknown device status!\";\n",
    "        }\n",
    "    }\n",
    "\n",
    "    private final DeviceType type;\n",
    "}"
   ]
  },
  {
   "cell_type": "code",
   "execution_count": null,
   "id": "f27828d29ddb7a33",
   "metadata": {
    "slideshow": {
     "slide_type": "subslide"
    },
    "tags": [
     "keep",
     "subslide"
    ]
   },
   "outputs": [],
   "source": [
    "List<DeviceV0> devicesOriginal = new ArrayList<>();\n",
    "devicesOriginal.add(new DeviceV0(DeviceType.LIGHT));\n",
    "devicesOriginal.add(new DeviceV0(DeviceType.THERMOSTAT));\n",
    "devicesOriginal.add(new DeviceV0(DeviceType.SECURITY_CAMERA));"
   ]
  },
  {
   "cell_type": "code",
   "execution_count": null,
   "id": "f34e5e3436d33321",
   "metadata": {
    "tags": [
     "keep"
    ]
   },
   "outputs": [],
   "source": [
    "public static void manageDevices(List<DeviceV0> devices) {\n",
    "    for (DeviceV0 device : devices) {\n",
    "        System.out.println(device.control() + \" \" + device.getStatus());\n",
    "    }\n",
    "}"
   ]
  },
  {
   "cell_type": "code",
   "execution_count": null,
   "id": "927334b3f871657a",
   "metadata": {
    "tags": [
     "keep"
    ]
   },
   "outputs": [],
   "source": [
    "manageDevices(devicesOriginal);"
   ]
  },
  {
   "cell_type": "markdown",
   "id": "536ed71511162336",
   "metadata": {
    "lang": "de",
    "slideshow": {
     "slide_type": "subslide"
    },
    "tags": [
     "subslide"
    ]
   },
   "source": [
    "\n",
    "- Beseitigen Sie das Problem mit der OCP-Verletzung im vorhandenen Code\n",
    "- Sie können entweder den vorhandenen Code ändern oder eine neue Lösung von\n",
    "  Grund auf neu erstellen"
   ]
  },
  {
   "cell_type": "code",
   "execution_count": null,
   "id": "7fea0f7467e642b6",
   "metadata": {
    "slideshow": {
     "slide_type": "subslide"
    },
    "tags": [
     "alt",
     "subslide"
    ]
   },
   "outputs": [],
   "source": [
    "import java.util.ArrayList;\n",
    "import java.util.List;"
   ]
  },
  {
   "cell_type": "code",
   "execution_count": null,
   "id": "c3395d105e88b5ff",
   "metadata": {
    "slideshow": {
     "slide_type": "subslide"
    },
    "tags": [
     "alt",
     "subslide"
    ]
   },
   "outputs": [],
   "source": [
    "public interface Device {\n",
    "    String control();\n",
    "    String getStatus();\n",
    "}"
   ]
  },
  {
   "cell_type": "code",
   "execution_count": null,
   "id": "f20a60a6ae0158d0",
   "metadata": {
    "slideshow": {
     "slide_type": "subslide"
    },
    "tags": [
     "alt",
     "subslide"
    ]
   },
   "outputs": [],
   "source": [
    "public class Light implements Device {\n",
    "    @Override\n",
    "    public String control() {\n",
    "        return \"Turning light on/off.\";\n",
    "    }\n",
    "\n",
    "    @Override\n",
    "    public String getStatus() {\n",
    "        return \"Light is on/off.\";\n",
    "    }\n",
    "}"
   ]
  },
  {
   "cell_type": "code",
   "execution_count": null,
   "id": "54607d03e63ae1f9",
   "metadata": {
    "slideshow": {
     "slide_type": "subslide"
    },
    "tags": [
     "alt",
     "subslide"
    ]
   },
   "outputs": [],
   "source": [
    "public class Thermostat implements Device {\n",
    "    @Override\n",
    "    public String control() {\n",
    "        return \"Adjusting temperature.\";\n",
    "    }\n",
    "\n",
    "    @Override\n",
    "    public String getStatus() {\n",
    "        return \"Current temperature: 22°C.\";\n",
    "    }\n",
    "}"
   ]
  },
  {
   "cell_type": "code",
   "execution_count": null,
   "id": "974d6fa9203b19fc",
   "metadata": {
    "slideshow": {
     "slide_type": "subslide"
    },
    "tags": [
     "alt",
     "subslide"
    ]
   },
   "outputs": [],
   "source": [
    "public class SecurityCamera implements Device {\n",
    "    @Override\n",
    "    public String control() {\n",
    "        return \"Activating motion detection.\";\n",
    "    }\n",
    "\n",
    "    @Override\n",
    "    public String getStatus() {\n",
    "        return \"Camera is active/inactive.\";\n",
    "    }\n",
    "}"
   ]
  },
  {
   "cell_type": "code",
   "execution_count": null,
   "id": "6933f7894536efa0",
   "metadata": {
    "slideshow": {
     "slide_type": "subslide"
    },
    "tags": [
     "alt",
     "subslide"
    ]
   },
   "outputs": [],
   "source": [
    "public class SmartLock implements Device {\n",
    "    @Override\n",
    "    public String control() {\n",
    "        return \"Locking/Unlocking door.\";\n",
    "    }\n",
    "\n",
    "    @Override\n",
    "    public String getStatus() {\n",
    "        return \"Door is locked/unlocked.\";\n",
    "    }\n",
    "}"
   ]
  },
  {
   "cell_type": "code",
   "execution_count": null,
   "id": "0d3814262c08f2ca",
   "metadata": {
    "slideshow": {
     "slide_type": "subslide"
    },
    "tags": [
     "alt",
     "subslide"
    ]
   },
   "outputs": [],
   "source": [
    "List<Device> devicesRefactored = new ArrayList<>();\n",
    "devicesRefactored.add(new Light());\n",
    "devicesRefactored.add(new Thermostat());\n",
    "devicesRefactored.add(new SecurityCamera());"
   ]
  },
  {
   "cell_type": "code",
   "execution_count": null,
   "id": "740b7d3358acbb19",
   "metadata": {
    "tags": [
     "alt"
    ]
   },
   "outputs": [],
   "source": [
    "public static void manageDevices(List<Device> devices) {\n",
    "    for (Device device : devices) {\n",
    "        System.out.println(device.control() + \" \" + device.getStatus());\n",
    "    }\n",
    "}"
   ]
  },
  {
   "cell_type": "code",
   "execution_count": null,
   "id": "19285e556291b76f",
   "metadata": {
    "tags": [
     "alt"
    ]
   },
   "outputs": [],
   "source": [
    "manageDevices(devicesRefactored);"
   ]
  }
 ],
 "metadata": {
  "jupytext": {
   "cell_metadata_filter": "tags,lang,-all",
   "encoding": "// -*- coding: utf-8 -*-",
   "main_language": "java",
   "notebook_metadata_filter": "-all"
  },
  "kernelspec": {
   "display_name": "Java",
   "language": "java",
   "name": "java"
  },
  "language_info": {
   "codemirror_mode": "java",
   "file_extension": ".java",
   "mimetype": "text/java",
   "name": "Java",
   "pygments_lexer": "java",
   "version": ""
  }
 },
 "nbformat": 4,
 "nbformat_minor": 5
}
