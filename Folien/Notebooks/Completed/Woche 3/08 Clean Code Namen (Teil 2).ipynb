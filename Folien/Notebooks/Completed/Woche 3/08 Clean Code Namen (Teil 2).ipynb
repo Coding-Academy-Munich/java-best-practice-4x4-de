{
 "cells": [
  {
   "cell_type": "markdown",
   "id": "1aa89f7f6a4669ba",
   "metadata": {
    "lang": "de",
    "slideshow": {
     "slide_type": "slide"
    },
    "tags": [
     "slide"
    ]
   },
   "source": [
    "\n",
    "<img src=\"data:image/svg+xml;base64,PHN2ZyB4bWxucz0iaHR0cDovL3d3dy53My5vcmcvMjAwMC9zdmciIHdpZHRoPSI2NCIgaGVpZ2h0\n",
    "PSI2NCIgdmlld0JveD0iMCAwIDMyIDMyIj48cGF0aCBkPSJNMTEuNjIyIDI0Ljc0cy0xLjIzLjc0\n",
    "OC44NTUuOTYyYzIuNTEuMzIgMy44NDcuMjY3IDYuNjI1LS4yNjdhMTAuMDIgMTAuMDIgMCAwIDAg\n",
    "MS43NjMuODU1Yy02LjI1IDIuNjcyLTE0LjE2LS4xNi05LjI0NC0xLjU1em0tLjgtMy40NzNzLTEu\n",
    "MzM2IDEuMDE1Ljc0OCAxLjIzYzIuNzI1LjI2NyA0Ljg2Mi4zMiA4LjU1LS40MjdhMy4yNiAzLjI2\n",
    "IDAgMCAwIDEuMjgyLjgwMWMtNy41MzQgMi4yNDQtMTUuOTc2LjIxNC0xMC41OC0xLjYwM3ptMTQu\n",
    "NzQ3IDYuMDlzLjkwOC43NDgtMS4wMTUgMS4zMzZjLTMuNTggMS4wNy0xNS4wMTQgMS4zOS0xOC4y\n",
    "MiAwLTEuMTIyLS40OCAxLjAxNS0xLjE3NSAxLjctMS4yODIuNjk1LS4xNiAxLjA3LS4xNiAxLjA3\n",
    "LS4xNi0xLjIzLS44NTUtOC4xNzUgMS43NjMtMy41MjYgMi41MSAxMi43NyAyLjA4NCAyMy4yOTYt\n",
    "LjkwOCAxOS45ODMtMi40MDR6TTEyLjIgMTcuNjMzcy01LjgyNCAxLjM5LTIuMDg0IDEuODdjMS42\n",
    "MDMuMjE0IDQuNzU1LjE2IDcuNjk0LS4wNTMgMi40MDQtLjIxNCA0LjgxLS42NCA0LjgxLS42NHMt\n",
    "Ljg1NS4zNzQtMS40NDMuNzQ4Yy01LjkzIDEuNTUtMTcuMzEyLjg1NS0xNC4wNTItLjc0OCAyLjc3\n",
    "OC0xLjMzNiA1LjA3Ni0xLjE3NSA1LjA3Ni0xLjE3NXptMTAuNDIgNS44MjRjNS45ODQtMy4xIDMu\n",
    "MjA2LTYuMDkgMS4yODItNS43MTctLjQ4LjEwNy0uNjk1LjIxNC0uNjk1LjIxNHMuMTYtLjMyLjUz\n",
    "NC0uNDI3YzMuNzk0LTEuMzM2IDYuNzg2IDQuMDA3LTEuMjMgNi4wOSAwIDAgLjA1My0uMDUzLjEw\n",
    "Ny0uMTZ6bS05LjgzIDguNDQyYzUuNzcuMzc0IDE0LjU4Ny0uMjE0IDE0LjgtMi45NCAwIDAtLjQy\n",
    "NyAxLjA3LTQuNzU1IDEuODctNC45MTYuOTA4LTExLjAwNy44LTE0LjU4Ny4yMTQgMCAwIC43NDgu\n",
    "NjQgNC41NDIuODU1eiIgZmlsbD0iIzRlNzg5NiIvPjxwYXRoIGQ9Ik0xOC45OTYuMDAxczMuMzEz\n",
    "IDMuMzY2LTMuMTUyIDguNDQyYy01LjE4MyA0LjExNC0xLjE3NSA2LjQ2NSAwIDkuMTM3LTMuMDQ2\n",
    "LTIuNzI1LTUuMjM2LTUuMTMtMy43NC03LjM3M0MxNC4yOTQgNi44OTMgMjAuMzMyIDUuMyAxOC45\n",
    "OTYuMDAxem0tMS43IDE1LjMzNWMxLjU1IDEuNzYzLS40MjcgMy4zNjYtLjQyNyAzLjM2NnMzLjk1\n",
    "NC0yLjAzIDIuMTM3LTQuNTQyYy0xLjY1Ni0yLjQwNC0yLjk0LTMuNTggNC4wMDctNy41ODcgMCAw\n",
    "LTEwLjk1MyAyLjcyNS01LjcxNyA4Ljc2M3oiIGZpbGw9IiNmNTgyMTkiLz48L3N2Zz4=\n",
    "\"\n",
    "     alt=\"Java Logo\" style=\"display:block;margin:auto;width:5%\"/>\n",
    "<br>\n",
    "\n",
    "<div style=\"text-align:center; font-size:200%;\">\n",
    " <b>Clean Code: Namen (Teil 2)</b>\n",
    "</div>\n",
    "<br/>\n",
    "<div style=\"text-align:center; font-size:120%;\">Dr. Matthias Hölzl</div>\n",
    "<br/>\n",
    "<div style=\"text-align:center;\">Coding-Akademie München</div>\n",
    "<br/>"
   ]
  },
  {
   "cell_type": "markdown",
   "id": "ba20cfedf1af5b1c",
   "metadata": {
    "lang": "de",
    "slideshow": {
     "slide_type": "subslide"
    },
    "tags": [
     "subslide"
    ]
   },
   "source": [
    "\n",
    "## Namensregeln für Java\n",
    "\n",
    "Namen entsprechen den\n",
    "[Java Naming Conventions](https://www.oracle.com/java/technologies/javase/codeconventions-namingconventions.html)"
   ]
  },
  {
   "cell_type": "markdown",
   "id": "641e4a4353a15fa5",
   "metadata": {
    "lang": "de",
    "slideshow": {
     "slide_type": "subslide"
    },
    "tags": [
     "subslide"
    ]
   },
   "source": [
    "\n",
    "## Clean Code Namensregeln\n",
    "\n",
    "Gute Namen\n",
    "\n",
    "- sind selbsterklärend\n",
    "- kommunizieren die Intention\n",
    "- sind aussprechbar und durchsuchbar\n",
    "- beschreiben das Problem, nicht die Implementierung\n",
    "- vermeiden Kodierungen (ungarische Notation) und Füllwörter\n",
    "- verwenden die richtige Wortart (lexikalische Kategorie)\n",
    "- verwenden die Regeln für Umfang und Länge (Scope-Length Rules)\n",
    "- vermeiden Disinformation und benennen eine sinnvolle Unterscheidung"
   ]
  },
  {
   "cell_type": "markdown",
   "id": "e08aa4769cacb0e8",
   "metadata": {
    "lang": "de",
    "slideshow": {
     "slide_type": "subslide"
    },
    "tags": [
     "subslide"
    ]
   },
   "source": [
    "\n",
    "## Selbsterklärende Namen"
   ]
  },
  {
   "cell_type": "code",
   "execution_count": null,
   "id": "77b57987abc59125",
   "metadata": {
    "tags": [
     "keep"
    ]
   },
   "outputs": [],
   "source": [
    "int d = 0;"
   ]
  },
  {
   "cell_type": "code",
   "execution_count": null,
   "id": "bbbcc72d2416c799",
   "metadata": {
    "tags": [
     "keep"
    ]
   },
   "outputs": [],
   "source": [
    "int elapsedTimeInDays = 0;"
   ]
  },
  {
   "cell_type": "markdown",
   "id": "607bad85fbd1dc94",
   "metadata": {
    "lang": "de",
    "slideshow": {
     "slide_type": "slide"
    },
    "tags": [
     "slide"
    ]
   },
   "source": [
    "\n",
    "## Kommuniziere Intention\n",
    "\n",
    "Namen sollen Absicht, Verhalten, Existenzberechtigung reflektieren"
   ]
  },
  {
   "cell_type": "code",
   "execution_count": null,
   "id": "5639da13d72950f2",
   "metadata": {
    "tags": [
     "keep"
    ]
   },
   "outputs": [],
   "source": [
    "import java.util.ArrayList;\n",
    "import java.util.List;"
   ]
  },
  {
   "cell_type": "code",
   "execution_count": null,
   "id": "07e6efcee0b5fb6d",
   "metadata": {
    "tags": [
     "keep"
    ]
   },
   "outputs": [],
   "source": [
    "List<Integer> myList = new ArrayList<>(List.of(31, 28, 31, 30, 31, 30, 31, 31, 30, 31, 30, 31));"
   ]
  },
  {
   "cell_type": "code",
   "execution_count": null,
   "id": "aa4de866e85f2666",
   "metadata": {
    "tags": [
     "keep"
    ]
   },
   "outputs": [],
   "source": [
    "List<Integer> dpmLst = new ArrayList<>(List.of(31, 28, 31, 30, 31, 30, 31, 31, 30, 31, 30, 31));"
   ]
  },
  {
   "cell_type": "code",
   "execution_count": null,
   "id": "35c1900321e67ec7",
   "metadata": {
    "tags": [
     "keep"
    ]
   },
   "outputs": [],
   "source": [
    "List<Integer> daysPerMonth = new ArrayList<>(List.of(31, 28, 31, 30, 31, 30, 31, 31, 30, 31, 30, 31));"
   ]
  },
  {
   "cell_type": "markdown",
   "id": "735f413e1a272ae1",
   "metadata": {
    "lang": "de",
    "slideshow": {
     "slide_type": "subslide"
    },
    "tags": [
     "subslide"
    ]
   },
   "source": [
    "\n",
    "## Aussprechbare Namen\n",
    "\n",
    "- Ermöglichen einfache Kommunikation\n",
    "- Sind oft auch besser zu suchen"
   ]
  },
  {
   "cell_type": "code",
   "execution_count": null,
   "id": "95d43943a22a6eec",
   "metadata": {
    "tags": [
     "keep"
    ]
   },
   "outputs": [],
   "source": [
    "List<Integer> hwCrsrPxy = new ArrayList<>(List.of(0, 0));"
   ]
  },
  {
   "cell_type": "code",
   "execution_count": null,
   "id": "1db719fe4d764d41",
   "metadata": {},
   "outputs": [],
   "source": [
    "List<Integer> hardwareCursorPosition = new ArrayList<>(List.of(0, 0));"
   ]
  },
  {
   "cell_type": "markdown",
   "id": "71b75b26812fc926",
   "metadata": {
    "lang": "de",
    "slideshow": {
     "slide_type": "subslide"
    },
    "tags": [
     "subslide"
    ]
   },
   "source": [
    "\n",
    "## Beschreibe Problem, nicht Implementierung\n",
    "\n",
    "Vermeide Namen, die sich auf Implementierungsdetails beziehen:\n",
    "- Sie verraten nicht, warum der Code so geschrieben wurde, wie er geschrieben\n",
    "  ist\n",
    "- Aber die Kommunikation der Intention hinter dem Code hat höchste Priorität!"
   ]
  },
  {
   "cell_type": "code",
   "execution_count": null,
   "id": "33b3ff39b34a8f84",
   "metadata": {
    "slideshow": {
     "slide_type": "subslide"
    },
    "tags": [
     "keep",
     "subslide"
    ]
   },
   "outputs": [],
   "source": [
    "int addElements(List<Integer> lst) {\n",
    "    return lst.stream().mapToInt(Integer::intValue).sum();\n",
    "}"
   ]
  },
  {
   "cell_type": "code",
   "execution_count": null,
   "id": "e8ae265982d1d8f8",
   "metadata": {
    "lines_to_next_cell": 2,
    "tags": [
     "keep"
    ]
   },
   "outputs": [],
   "source": [
    "addElements(daysPerMonth); // Seems reasonable"
   ]
  },
  {
   "cell_type": "code",
   "execution_count": null,
   "id": "3275019e2c3bd26f",
   "metadata": {},
   "outputs": [],
   "source": [
    "int computeYearlySalary(List<Integer> monthlySalaries) {\n",
    "    return monthlySalaries.stream().mapToInt(Integer::intValue).sum();\n",
    "}"
   ]
  },
  {
   "cell_type": "code",
   "execution_count": null,
   "id": "0c57932aff292fb6",
   "metadata": {},
   "outputs": [],
   "source": [
    "computeYearlySalary(daysPerMonth); // WHAT?!?"
   ]
  },
  {
   "cell_type": "markdown",
   "id": "a2b99c92645d61ad",
   "metadata": {
    "lang": "de",
    "slideshow": {
     "slide_type": "slide"
    },
    "tags": [
     "slide"
    ]
   },
   "source": [
    "\n",
    "## Vermeide Kodierungen\n",
    "\n",
    "Verwende keine ungarische Notation:"
   ]
  },
  {
   "cell_type": "code",
   "execution_count": null,
   "id": "1a93a140b8f385d2",
   "metadata": {
    "tags": [
     "keep"
    ]
   },
   "outputs": [],
   "source": [
    "int i_days = 12;\n",
    "int i_month = 3;"
   ]
  },
  {
   "cell_type": "markdown",
   "id": "5db267642a064fbb",
   "metadata": {
    "lang": "de",
    "slideshow": {
     "slide_type": "subslide"
    },
    "tags": [
     "subslide"
    ]
   },
   "source": [
    "\n",
    "## Vermeide Kodierungen\n",
    "\n",
    "Verwende keine Präfixe für Attribute:"
   ]
  },
  {
   "cell_type": "code",
   "execution_count": null,
   "id": "bed1b0833085f88e",
   "metadata": {
    "tags": [
     "keep"
    ]
   },
   "outputs": [],
   "source": [
    "public class MyClass {\n",
    "    public int m_Days;\n",
    "    public int m_months;\n",
    "\n",
    "    public MyClass(int days, int months) {\n",
    "        m_Days = days;\n",
    "        m_months = months;\n",
    "    }\n",
    "}"
   ]
  },
  {
   "cell_type": "code",
   "execution_count": null,
   "id": "231134024de498d8",
   "metadata": {
    "slideshow": {
     "slide_type": "subslide"
    },
    "tags": [
     "alt",
     "subslide"
    ]
   },
   "outputs": [],
   "source": [
    "public class MyClass {\n",
    "    public int days;\n",
    "    public int months;\n",
    "\n",
    "    public MyClass(int days, int months) {\n",
    "        this.days = days;\n",
    "        this.months = months;\n",
    "    }\n",
    "}"
   ]
  },
  {
   "cell_type": "markdown",
   "id": "a0eab5dcdd0619ca",
   "metadata": {
    "lang": "de",
    "slideshow": {
     "slide_type": "subslide"
    },
    "tags": [
     "subslide"
    ]
   },
   "source": [
    "\n",
    "## Vermeide Kodierungen\n",
    "\n",
    "Vermeiden Sie Präfixe wie C/I: CClass, IInterface"
   ]
  },
  {
   "cell_type": "code",
   "execution_count": null,
   "id": "c7ab19d59f9e3f7d",
   "metadata": {
    "slideshow": {
     "slide_type": "subslide"
    },
    "tags": [
     "alt",
     "subslide"
    ]
   },
   "outputs": [],
   "source": [
    "public interface MyInterface {\n",
    "    void sayHello();\n",
    "}"
   ]
  },
  {
   "cell_type": "code",
   "execution_count": null,
   "id": "ced36de065058580",
   "metadata": {
    "tags": [
     "alt"
    ]
   },
   "outputs": [],
   "source": [
    "public class MyClass implements MyInterface {\n",
    "    public void sayHello() {\n",
    "        System.out.println(\"Hello\");\n",
    "    }\n",
    "}"
   ]
  },
  {
   "cell_type": "markdown",
   "id": "d9f88eb346725d39",
   "metadata": {
    "lang": "de",
    "slideshow": {
     "slide_type": "slide"
    },
    "tags": [
     "slide"
    ]
   },
   "source": [
    "\n",
    "## Verwende die richtige lexikalische Kategorie\n",
    "\n",
    "- Klassen und Variablen: Substantive oder Substantivphrasen\n",
    "- Funktionen: Verben oder Verbphrasen\n",
    "- Enums: oft Adjektive\n",
    "- Boolesche Variablen und Funktionen: oft Prädikate: `is...`, `has...`"
   ]
  },
  {
   "cell_type": "code",
   "execution_count": null,
   "id": "404447d977be66cd",
   "metadata": {
    "slideshow": {
     "slide_type": "subslide"
    },
    "tags": [
     "keep",
     "subslide"
    ]
   },
   "outputs": [],
   "source": [
    "public class GoToTheServer {\n",
    "    public void connection() {\n",
    "        // ...\n",
    "    }\n",
    "\n",
    "    public boolean serverAvailability() {\n",
    "        return true;\n",
    "    }\n",
    "}"
   ]
  },
  {
   "cell_type": "code",
   "execution_count": null,
   "id": "f3cc4c045c190a3b",
   "metadata": {
    "tags": [
     "keep"
    ]
   },
   "outputs": [],
   "source": [
    "GoToTheServer server = new GoToTheServer();\n",
    "server.connection();"
   ]
  },
  {
   "cell_type": "code",
   "execution_count": null,
   "id": "5f55c337d1e6d758",
   "metadata": {
    "tags": [
     "keep"
    ]
   },
   "outputs": [],
   "source": [
    "public class ServerConnection {\n",
    "    public void connect() {\n",
    "        // ...\n",
    "    }\n",
    "\n",
    "    public boolean isServerAvailable() {\n",
    "        return true;\n",
    "    }\n",
    "}"
   ]
  },
  {
   "cell_type": "markdown",
   "id": "20bcc59bfb4ec675",
   "metadata": {
    "lang": "de",
    "slideshow": {
     "slide_type": "subslide"
    },
    "tags": [
     "subslide"
    ]
   },
   "source": [
    "\n",
    "## Vermeide Füllwörter\n",
    "\n",
    "Vermeide Wörter, die keine Bedeutung haben, wie Data, Info"
   ]
  },
  {
   "cell_type": "code",
   "execution_count": null,
   "id": "eb7c66ec18878716",
   "metadata": {
    "tags": [
     "keep"
    ]
   },
   "outputs": [],
   "source": [
    "class ProductObject {\n",
    "}"
   ]
  },
  {
   "cell_type": "markdown",
   "id": "6117aeddd3d7f5de",
   "metadata": {
    "lang": "de",
    "slideshow": {
     "slide_type": "slide"
    },
    "tags": [
     "slide"
    ]
   },
   "source": [
    "\n",
    "## Regeln für Umfang und Länge (Scope-Length Rules)\n",
    "\n",
    "- Verwenden Sie lange Namen für lange Scopes, kurze Namen für kurze Scopes\n",
    "- Verwenden Sie kurze Namen für sehr häufig verwendete Klassen und Methoden"
   ]
  },
  {
   "cell_type": "code",
   "execution_count": null,
   "id": "cb5b4ede57b02bcd",
   "metadata": {
    "slideshow": {
     "slide_type": "subslide"
    },
    "tags": [
     "subslide",
     "keep"
    ]
   },
   "outputs": [],
   "source": [
    "class FixedSizeOrderedCollectionIndexedByInts {\n",
    "}"
   ]
  },
  {
   "cell_type": "code",
   "execution_count": null,
   "id": "6645b5b72ac9d3c9",
   "metadata": {
    "tags": [
     "keep"
    ]
   },
   "outputs": [],
   "source": [
    "class Array {\n",
    "}"
   ]
  },
  {
   "cell_type": "markdown",
   "id": "8a688033899df4f4",
   "metadata": {
    "lang": "de",
    "slideshow": {
     "slide_type": "subslide"
    },
    "tags": [
     "subslide"
    ]
   },
   "source": [
    "\n",
    "## Workshop: Namen\n",
    "\n",
    "In diesem Workshop wenden Sie die Clean Code Namensregeln an, die wir gerade\n",
    "gelernt haben. Sie werden mit mehreren Code-Schnipseln konfrontiert, die\n",
    "gegen eine oder mehrere dieser Regeln verstoßen.\n",
    "\n",
    "Ihre Aufgabe:\n",
    "1. Identifizieren Sie, welche Namensregeln in jedem Beispiel verletzt werden.\n",
    "2. Schreiben Sie den Code mit verbesserten Namen um, die den\n",
    "   Clean Code-Prinzipien folgen.\n",
    "3. Seien Sie bereit, Ihre Änderungen zu erklären und zu begründen, warum sie\n",
    "   die Lesbarkeit und Wartbarkeit des Codes verbessern.\n",
    "\n",
    "Denken Sie an die Schlüsselprinzipien:\n",
    "- Namen sollten selbsterklärend und die Absicht offenbaren\n",
    "- Verwenden Sie aussprechbare und durchsuchbare Namen\n",
    "- Vermeiden Sie Kodierungen und Füllwörter\n",
    "- Verwenden Sie die richtige Wortart\n",
    "- Wenden Sie die Umfangs-Längen-Regeln angemessen an"
   ]
  },
  {
   "cell_type": "code",
   "execution_count": null,
   "id": "41c33764a489cbc1",
   "metadata": {},
   "outputs": [],
   "source": [
    "int secondsInADay = 86400;"
   ]
  },
  {
   "cell_type": "code",
   "execution_count": null,
   "id": "c971fe94878d48c1",
   "metadata": {
    "tags": [
     "keep"
    ]
   },
   "outputs": [],
   "source": [
    "List<String> theList = new ArrayList<>(Arrays.asList(\"Apple\", \"Banana\", \"Cherry\"));"
   ]
  },
  {
   "cell_type": "code",
   "execution_count": null,
   "id": "8e83c685f03774a3",
   "metadata": {},
   "outputs": [],
   "source": [
    "List<String> fruits = new ArrayList<>(Arrays.asList(\"Apple\", \"Banana\", \"Cherry\"));"
   ]
  },
  {
   "cell_type": "code",
   "execution_count": null,
   "id": "58fc443cba665074",
   "metadata": {
    "tags": [
     "keep"
    ]
   },
   "outputs": [],
   "source": [
    "boolean flag = false;  // Indicates if the user is logged in"
   ]
  },
  {
   "cell_type": "code",
   "execution_count": null,
   "id": "da03d0b22963b522",
   "metadata": {},
   "outputs": [],
   "source": [
    "boolean isUserLoggedIn = false;"
   ]
  },
  {
   "cell_type": "code",
   "execution_count": null,
   "id": "090d21fee6a447f3",
   "metadata": {
    "tags": [
     "keep"
    ]
   },
   "outputs": [],
   "source": [
    "public void stuffManager(String s) {\n",
    "    // Process the input string\n",
    "}"
   ]
  },
  {
   "cell_type": "code",
   "execution_count": null,
   "id": "1d3e2c46ab99dfe8",
   "metadata": {},
   "outputs": [],
   "source": [
    "public void processInput(String input) {\n",
    "    // Process the input string\n",
    "}"
   ]
  },
  {
   "cell_type": "code",
   "execution_count": null,
   "id": "afd26323ec5f72c0",
   "metadata": {
    "tags": [
     "keep"
    ]
   },
   "outputs": [],
   "source": [
    "class DataInfoManager {\n",
    "    private String strName;\n",
    "    private int iAge;\n",
    "}"
   ]
  },
  {
   "cell_type": "code",
   "execution_count": null,
   "id": "39f2b16995e72756",
   "metadata": {},
   "outputs": [],
   "source": [
    "class PersonalInfo {\n",
    "    private String name;\n",
    "    private int age;\n",
    "}"
   ]
  },
  {
   "cell_type": "code",
   "execution_count": null,
   "id": "704a7a20c998a17a",
   "metadata": {
    "tags": [
     "keep"
    ]
   },
   "outputs": [],
   "source": [
    "public boolean chkandvldtinpt(String s) {\n",
    "    // Check if input is valid\n",
    "    return s != null && !s.isEmpty();\n",
    "}"
   ]
  },
  {
   "cell_type": "code",
   "execution_count": null,
   "id": "37b7cb2cdbf9f35a",
   "metadata": {},
   "outputs": [],
   "source": [
    "public boolean isInputValid(String input) {\n",
    "    // Check if input is valid\n",
    "    return input != null && !input.isEmpty();\n",
    "}"
   ]
  },
  {
   "cell_type": "code",
   "execution_count": null,
   "id": "4a04d946331d5ccb",
   "metadata": {
    "tags": [
     "keep"
    ]
   },
   "outputs": [],
   "source": [
    "int x = 0;  // Loop counter for processing array elements"
   ]
  },
  {
   "cell_type": "code",
   "execution_count": null,
   "id": "84b0e092821d56e2",
   "metadata": {},
   "outputs": [],
   "source": [
    "int arrayIndex = 0;"
   ]
  },
  {
   "cell_type": "code",
   "execution_count": null,
   "id": "0f514f8b12ab7f90",
   "metadata": {
    "tags": [
     "keep"
    ]
   },
   "outputs": [],
   "source": [
    "class MakeAndManageEmployees {\n",
    "    // Methods for employee management\n",
    "}"
   ]
  },
  {
   "cell_type": "code",
   "execution_count": null,
   "id": "07ec537344f5a1e5",
   "metadata": {},
   "outputs": [],
   "source": [
    "class EmployeeManager {\n",
    "    // Methods for employee management\n",
    "}"
   ]
  },
  {
   "cell_type": "code",
   "execution_count": null,
   "id": "ddec007235a9be24",
   "metadata": {
    "tags": [
     "keep"
    ]
   },
   "outputs": [],
   "source": [
    "public void setvalue(int v) {\n",
    "    // Set the value of an internal variable\n",
    "}"
   ]
  },
  {
   "cell_type": "code",
   "execution_count": null,
   "id": "5cc008012f210755",
   "metadata": {},
   "outputs": [],
   "source": [
    "public void setValue(int newValue) {\n",
    "    // Set the value of an internal variable\n",
    "}"
   ]
  },
  {
   "cell_type": "code",
   "execution_count": null,
   "id": "d990eaabaf1d575c",
   "metadata": {
    "tags": [
     "keep"
    ]
   },
   "outputs": [],
   "source": [
    "boolean processSuccessful = false;"
   ]
  },
  {
   "cell_type": "code",
   "execution_count": null,
   "id": "cade9ab825d321b2",
   "metadata": {},
   "outputs": [],
   "source": [
    "boolean wasProcessSuccessful = false;"
   ]
  },
  {
   "cell_type": "code",
   "execution_count": null,
   "id": "ad4034cd8ad14e8e",
   "metadata": {
    "tags": [
     "keep"
    ]
   },
   "outputs": [],
   "source": [
    "class IUserInterface {\n",
    "    // Methods for user interaction\n",
    "}"
   ]
  },
  {
   "cell_type": "code",
   "execution_count": null,
   "id": "aac52dc109584523",
   "metadata": {},
   "outputs": [],
   "source": [
    "interface UserInterface {\n",
    "    // Methods for user interaction\n",
    "}"
   ]
  }
 ],
 "metadata": {
  "jupytext": {
   "cell_metadata_filter": "tags,lang,-all",
   "encoding": "// -*- coding: utf-8 -*-",
   "main_language": "java",
   "notebook_metadata_filter": "-all"
  },
  "kernelspec": {
   "display_name": "Java",
   "language": "java",
   "name": "java"
  },
  "language_info": {
   "codemirror_mode": "java",
   "file_extension": ".java",
   "mimetype": "text/java",
   "name": "Java",
   "pygments_lexer": "java",
   "version": ""
  }
 },
 "nbformat": 4,
 "nbformat_minor": 5
}
