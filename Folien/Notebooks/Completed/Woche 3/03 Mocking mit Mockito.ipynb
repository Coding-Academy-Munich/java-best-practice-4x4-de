{
 "cells": [
  {
   "cell_type": "markdown",
   "id": "5c871890cc75352d",
   "metadata": {
    "lang": "de",
    "slideshow": {
     "slide_type": "slide"
    },
    "tags": [
     "slide"
    ]
   },
   "source": [
    "\n",
    "<img src=\"data:image/svg+xml;base64,PHN2ZyB4bWxucz0iaHR0cDovL3d3dy53My5vcmcvMjAwMC9zdmciIHdpZHRoPSI2NCIgaGVpZ2h0\n",
    "PSI2NCIgdmlld0JveD0iMCAwIDMyIDMyIj48cGF0aCBkPSJNMTEuNjIyIDI0Ljc0cy0xLjIzLjc0\n",
    "OC44NTUuOTYyYzIuNTEuMzIgMy44NDcuMjY3IDYuNjI1LS4yNjdhMTAuMDIgMTAuMDIgMCAwIDAg\n",
    "MS43NjMuODU1Yy02LjI1IDIuNjcyLTE0LjE2LS4xNi05LjI0NC0xLjU1em0tLjgtMy40NzNzLTEu\n",
    "MzM2IDEuMDE1Ljc0OCAxLjIzYzIuNzI1LjI2NyA0Ljg2Mi4zMiA4LjU1LS40MjdhMy4yNiAzLjI2\n",
    "IDAgMCAwIDEuMjgyLjgwMWMtNy41MzQgMi4yNDQtMTUuOTc2LjIxNC0xMC41OC0xLjYwM3ptMTQu\n",
    "NzQ3IDYuMDlzLjkwOC43NDgtMS4wMTUgMS4zMzZjLTMuNTggMS4wNy0xNS4wMTQgMS4zOS0xOC4y\n",
    "MiAwLTEuMTIyLS40OCAxLjAxNS0xLjE3NSAxLjctMS4yODIuNjk1LS4xNiAxLjA3LS4xNiAxLjA3\n",
    "LS4xNi0xLjIzLS44NTUtOC4xNzUgMS43NjMtMy41MjYgMi41MSAxMi43NyAyLjA4NCAyMy4yOTYt\n",
    "LjkwOCAxOS45ODMtMi40MDR6TTEyLjIgMTcuNjMzcy01LjgyNCAxLjM5LTIuMDg0IDEuODdjMS42\n",
    "MDMuMjE0IDQuNzU1LjE2IDcuNjk0LS4wNTMgMi40MDQtLjIxNCA0LjgxLS42NCA0LjgxLS42NHMt\n",
    "Ljg1NS4zNzQtMS40NDMuNzQ4Yy01LjkzIDEuNTUtMTcuMzEyLjg1NS0xNC4wNTItLjc0OCAyLjc3\n",
    "OC0xLjMzNiA1LjA3Ni0xLjE3NSA1LjA3Ni0xLjE3NXptMTAuNDIgNS44MjRjNS45ODQtMy4xIDMu\n",
    "MjA2LTYuMDkgMS4yODItNS43MTctLjQ4LjEwNy0uNjk1LjIxNC0uNjk1LjIxNHMuMTYtLjMyLjUz\n",
    "NC0uNDI3YzMuNzk0LTEuMzM2IDYuNzg2IDQuMDA3LTEuMjMgNi4wOSAwIDAgLjA1My0uMDUzLjEw\n",
    "Ny0uMTZ6bS05LjgzIDguNDQyYzUuNzcuMzc0IDE0LjU4Ny0uMjE0IDE0LjgtMi45NCAwIDAtLjQy\n",
    "NyAxLjA3LTQuNzU1IDEuODctNC45MTYuOTA4LTExLjAwNy44LTE0LjU4Ny4yMTQgMCAwIC43NDgu\n",
    "NjQgNC41NDIuODU1eiIgZmlsbD0iIzRlNzg5NiIvPjxwYXRoIGQ9Ik0xOC45OTYuMDAxczMuMzEz\n",
    "IDMuMzY2LTMuMTUyIDguNDQyYy01LjE4MyA0LjExNC0xLjE3NSA2LjQ2NSAwIDkuMTM3LTMuMDQ2\n",
    "LTIuNzI1LTUuMjM2LTUuMTMtMy43NC03LjM3M0MxNC4yOTQgNi44OTMgMjAuMzMyIDUuMyAxOC45\n",
    "OTYuMDAxem0tMS43IDE1LjMzNWMxLjU1IDEuNzYzLS40MjcgMy4zNjYtLjQyNyAzLjM2NnMzLjk1\n",
    "NC0yLjAzIDIuMTM3LTQuNTQyYy0xLjY1Ni0yLjQwNC0yLjk0LTMuNTggNC4wMDctNy41ODcgMCAw\n",
    "LTEwLjk1MyAyLjcyNS01LjcxNyA4Ljc2M3oiIGZpbGw9IiNmNTgyMTkiLz48L3N2Zz4=\n",
    "\"\n",
    "     alt=\"Java Logo\" style=\"display:block;margin:auto;width:5%\"/>\n",
    "<br>\n",
    "\n",
    "<div style=\"text-align:center; font-size:200%;\">\n",
    " <b>Mocking mit Mockito</b>\n",
    "</div>\n",
    "<br/>\n",
    "<div style=\"text-align:center; font-size:120%;\">Dr. Matthias Hölzl</div>\n",
    "<br/>\n",
    "<div style=\"text-align:center;\">Coding-Akademie München</div>\n",
    "<br/>"
   ]
  },
  {
   "cell_type": "markdown",
   "id": "77e52b5ed1919672",
   "metadata": {
    "lang": "de",
    "slideshow": {
     "slide_type": "subslide"
    },
    "tags": [
     "subslide"
    ]
   },
   "source": [
    "\n",
    "# Das Mockito Mocking Framework\n",
    "\n",
    "- [Mockito](https://site.mockito.org) ist ein Mocking-Framework für Java\n",
    "- Ermöglicht das Erstellen von Mock-Objekten"
   ]
  },
  {
   "cell_type": "code",
   "execution_count": null,
   "id": "b73d4125ace0066e",
   "metadata": {
    "slideshow": {
     "slide_type": "subslide"
    },
    "tags": [
     "keep",
     "subslide"
    ]
   },
   "outputs": [],
   "source": [
    "%maven org.junit.jupiter:junit-jupiter-api:5.8.2\n",
    "%maven org.junit.jupiter:junit-jupiter-engine:5.8.2\n",
    "%maven org.junit.platform:junit-platform-launcher:1.9.3\n",
    "%maven org.mockito:mockito-core:4.11.+"
   ]
  },
  {
   "cell_type": "code",
   "execution_count": null,
   "id": "9e34aa251c4f4aa1",
   "metadata": {
    "slideshow": {
     "slide_type": "subslide"
    },
    "tags": [
     "subslide",
     "keep"
    ]
   },
   "outputs": [],
   "source": [
    "%jars .\n",
    "%classpath testrunner-0.1.jar"
   ]
  },
  {
   "cell_type": "code",
   "execution_count": null,
   "id": "0d9a79fc77081dd9",
   "metadata": {
    "tags": [
     "keep"
    ]
   },
   "outputs": [],
   "source": [
    "import static testrunner.TestRunner.runTests;"
   ]
  },
  {
   "cell_type": "markdown",
   "id": "897193d4854b7510",
   "metadata": {
    "lang": "de",
    "slideshow": {
     "slide_type": "subslide"
    },
    "tags": [
     "subslide"
    ]
   },
   "source": [
    "\n",
    "## Beispiel: Mocken einer Liste\n",
    "\n",
    "- Erstellen eines Mock-Objekts für eine Liste\n",
    "- Implementiert alle Methoden des `List`-Interfaces\n",
    "- Kann verwendet werden, um Methodenaufrufe zu überprüfen"
   ]
  },
  {
   "cell_type": "code",
   "execution_count": null,
   "id": "3f57ff016a4f48a6",
   "metadata": {
    "tags": [
     "keep"
    ]
   },
   "outputs": [],
   "source": [
    "import java.util.List;"
   ]
  },
  {
   "cell_type": "code",
   "execution_count": null,
   "id": "49ac87a50b55e39d",
   "metadata": {
    "tags": [
     "keep"
    ]
   },
   "outputs": [],
   "source": [
    "import static org.mockito.Mockito.*;"
   ]
  },
  {
   "cell_type": "code",
   "execution_count": null,
   "id": "473415a7ad082b29",
   "metadata": {},
   "outputs": [],
   "source": [
    "List mockedList = mock(List.class);"
   ]
  },
  {
   "cell_type": "code",
   "execution_count": null,
   "id": "9490a96b02d05657",
   "metadata": {},
   "outputs": [],
   "source": [
    "mockedList.add(\"Hello!\");"
   ]
  },
  {
   "cell_type": "code",
   "execution_count": null,
   "id": "da646f92980e1d5d",
   "metadata": {
    "slideshow": {
     "slide_type": "subslide"
    },
    "tags": [
     "subslide",
     "keep"
    ]
   },
   "outputs": [],
   "source": [
    "verify(mockedList).add(\"Hello!\");"
   ]
  },
  {
   "cell_type": "code",
   "execution_count": null,
   "id": "0e4ece618f6e37f8",
   "metadata": {},
   "outputs": [],
   "source": [
    "verify(mockedList).add(\"Hello!\");"
   ]
  },
  {
   "cell_type": "code",
   "execution_count": null,
   "id": "3389bec9d728fe63",
   "metadata": {},
   "outputs": [],
   "source": [
    "// verify(mockedList).add(\"World!\");"
   ]
  },
  {
   "cell_type": "markdown",
   "id": "4aeaa64b2fa8949a",
   "metadata": {
    "lang": "de",
    "slideshow": {
     "slide_type": "subslide"
    },
    "tags": [
     "subslide"
    ]
   },
   "source": [
    "\n",
    "- Überprüfen der Anzahl der Aufrufe:"
   ]
  },
  {
   "cell_type": "code",
   "execution_count": null,
   "id": "35d19570d2c863e6",
   "metadata": {
    "tags": [
     "keep"
    ]
   },
   "outputs": [],
   "source": [
    "List mockedList = mock();  // Mockito >= 4.10"
   ]
  },
  {
   "cell_type": "code",
   "execution_count": null,
   "id": "800d4cecc1a2e5a0",
   "metadata": {},
   "outputs": [],
   "source": [
    "mockedList.add(\"Hello!\");"
   ]
  },
  {
   "cell_type": "code",
   "execution_count": null,
   "id": "38db5669a9199d3d",
   "metadata": {},
   "outputs": [],
   "source": [
    "verify(mockedList).add(\"Hello!\");"
   ]
  },
  {
   "cell_type": "code",
   "execution_count": null,
   "id": "69ba3925ee2cc383",
   "metadata": {},
   "outputs": [],
   "source": [
    "mockedList.add(\"Hello!\");"
   ]
  },
  {
   "cell_type": "code",
   "execution_count": null,
   "id": "267919d167fbca27",
   "metadata": {},
   "outputs": [],
   "source": [
    "// verify(mockedList).add(\"Hello!\");"
   ]
  },
  {
   "cell_type": "code",
   "execution_count": null,
   "id": "3c9a222f1fcec048",
   "metadata": {},
   "outputs": [],
   "source": [
    "verify(mockedList, times(2)).add(\"Hello!\");"
   ]
  },
  {
   "cell_type": "markdown",
   "id": "5eec1d53d6e6461d",
   "metadata": {
    "lang": "de",
    "slideshow": {
     "slide_type": "subslide"
    },
    "tags": [
     "subslide"
    ]
   },
   "source": [
    "\n",
    "- Überprüfen, dass eine Methode nicht aufgerufen wurde:"
   ]
  },
  {
   "cell_type": "code",
   "execution_count": null,
   "id": "cec496fe50a871d8",
   "metadata": {
    "tags": [
     "keep"
    ]
   },
   "outputs": [],
   "source": [
    "List mockedList = mock();"
   ]
  },
  {
   "cell_type": "code",
   "execution_count": null,
   "id": "c93933306d36144b",
   "metadata": {},
   "outputs": [],
   "source": [
    "verify(mockedList, never()).clear();"
   ]
  },
  {
   "cell_type": "markdown",
   "id": "641ea8cf58e2a590",
   "metadata": {
    "lang": "de",
    "slideshow": {
     "slide_type": "subslide"
    },
    "tags": [
     "subslide"
    ]
   },
   "source": [
    "\n",
    "- Argument Matcher:\n",
    "  - `any()`, `anyString()`, ...\n",
    "  - `isNull()`, `endsWith()`, `argThat()`, ..."
   ]
  },
  {
   "cell_type": "code",
   "execution_count": null,
   "id": "94f4d4d9abb2767b",
   "metadata": {
    "slideshow": {
     "slide_type": "subslide"
    },
    "tags": [
     "keep",
     "subslide"
    ]
   },
   "outputs": [],
   "source": [
    "List mockedList = mock();\n",
    "mockedList.add(\"Hello!\");"
   ]
  },
  {
   "cell_type": "code",
   "execution_count": null,
   "id": "4eb038dcd56a8063",
   "metadata": {},
   "outputs": [],
   "source": [
    "verify(mockedList).add(anyString());"
   ]
  },
  {
   "cell_type": "code",
   "execution_count": null,
   "id": "8372ffc35fd5fe19",
   "metadata": {},
   "outputs": [],
   "source": [
    "verify(mockedList).add(notNull());"
   ]
  },
  {
   "cell_type": "code",
   "execution_count": null,
   "id": "776a279b4dad7ad4",
   "metadata": {},
   "outputs": [],
   "source": [
    "verify(mockedList).add(endsWith(\"lo!\"));"
   ]
  },
  {
   "cell_type": "code",
   "execution_count": null,
   "id": "df1421de4f2af06e",
   "metadata": {
    "lines_to_next_cell": 2
   },
   "outputs": [],
   "source": [
    "// verify(mockedList).add(startsWith(\"No\"));"
   ]
  },
  {
   "cell_type": "code",
   "execution_count": null,
   "id": "88fe44fa9275536c",
   "metadata": {
    "slideshow": {
     "slide_type": "subslide"
    },
    "tags": [
     "keep",
     "subslide"
    ]
   },
   "outputs": [],
   "source": [
    "List mockedList = mock();\n",
    "mockedList.add(null);"
   ]
  },
  {
   "cell_type": "code",
   "execution_count": null,
   "id": "9e5fcf1bc0a98c96",
   "metadata": {},
   "outputs": [],
   "source": [
    "verify(mockedList).add(isNull());"
   ]
  },
  {
   "cell_type": "markdown",
   "id": "977fc0b13b505bfb",
   "metadata": {
    "lang": "de",
    "slideshow": {
     "slide_type": "subslide"
    },
    "tags": [
     "subslide"
    ]
   },
   "source": [
    "\n",
    "- Mindest- und Maximalanzahl von Aufrufen:"
   ]
  },
  {
   "cell_type": "code",
   "execution_count": null,
   "id": "e400f018c7d99215",
   "metadata": {
    "tags": [
     "keep"
    ]
   },
   "outputs": [],
   "source": [
    "List mockedList = mock();"
   ]
  },
  {
   "cell_type": "code",
   "execution_count": null,
   "id": "ac83554e5c425a7b",
   "metadata": {
    "tags": [
     "keep"
    ]
   },
   "outputs": [],
   "source": [
    "mockedList.add(\"Once!\");\n",
    "mockedList.add(\"Twice!\");\n",
    "mockedList.add(\"Twice!\");\n",
    "mockedList.add(\"Three times!\");\n",
    "mockedList.add(\"Three times!\");\n",
    "mockedList.add(\"Three times!\");"
   ]
  },
  {
   "cell_type": "code",
   "execution_count": null,
   "id": "fc24a306d682142d",
   "metadata": {},
   "outputs": [],
   "source": [
    "verify(mockedList, atLeastOnce()).add(\"Once!\");"
   ]
  },
  {
   "cell_type": "code",
   "execution_count": null,
   "id": "3ad9889f136db15a",
   "metadata": {},
   "outputs": [],
   "source": [
    "verify(mockedList, atLeastOnce()).add(\"Twice!\");"
   ]
  },
  {
   "cell_type": "code",
   "execution_count": null,
   "id": "086ce733829e9c9c",
   "metadata": {},
   "outputs": [],
   "source": [
    "verify(mockedList, atLeast(2)).add(\"Twice!\");"
   ]
  },
  {
   "cell_type": "code",
   "execution_count": null,
   "id": "5954e5e1463653a5",
   "metadata": {},
   "outputs": [],
   "source": [
    "verify(mockedList, atMost(3)).add(\"Three times!\");"
   ]
  },
  {
   "cell_type": "markdown",
   "id": "f9719be12b12d5e5",
   "metadata": {
    "lang": "de",
    "slideshow": {
     "slide_type": "subslide"
    },
    "tags": [
     "subslide"
    ]
   },
   "source": [
    "\n",
    "## Stubbing\n",
    "\n",
    "- Manchmal ist es notwendig, das Verhalten eines Mock-Objekts zu definieren\n",
    "- Mit `when()` und `thenReturn()` und `thenThrow()` kann das Verhalten festgelegt werden"
   ]
  },
  {
   "cell_type": "code",
   "execution_count": null,
   "id": "35bee4b48b5b05b6",
   "metadata": {
    "slideshow": {
     "slide_type": "subslide"
    },
    "tags": [
     "keep",
     "subslide"
    ]
   },
   "outputs": [],
   "source": [
    "List mockedList = mock();"
   ]
  },
  {
   "cell_type": "code",
   "execution_count": null,
   "id": "fb83b8920d202271",
   "metadata": {},
   "outputs": [],
   "source": [
    "when(mockedList.get(0)).thenReturn(\"Hello!\");"
   ]
  },
  {
   "cell_type": "code",
   "execution_count": null,
   "id": "d2b11341d8314fb9",
   "metadata": {},
   "outputs": [],
   "source": [
    "when(mockedList.get(1)).thenThrow(new RuntimeException(\"No Value!\"));"
   ]
  },
  {
   "cell_type": "code",
   "execution_count": null,
   "id": "b86010865baadbfe",
   "metadata": {},
   "outputs": [],
   "source": [
    "mockedList.get(0)"
   ]
  },
  {
   "cell_type": "code",
   "execution_count": null,
   "id": "3b15ed271b432c4c",
   "metadata": {},
   "outputs": [],
   "source": [
    "// mockedList.get(1)"
   ]
  },
  {
   "cell_type": "code",
   "execution_count": null,
   "id": "25e73fd073f99eef",
   "metadata": {},
   "outputs": [],
   "source": [
    "verify(mockedList).get(0)"
   ]
  },
  {
   "cell_type": "code",
   "execution_count": null,
   "id": "fbac4c80c8b1da1c",
   "metadata": {},
   "outputs": [],
   "source": [
    "// verify(mockedList).get(1)"
   ]
  },
  {
   "cell_type": "markdown",
   "id": "07b9f436b1893396",
   "metadata": {
    "lang": "de",
    "slideshow": {
     "slide_type": "subslide"
    },
    "tags": [
     "subslide"
    ]
   },
   "source": [
    "\n",
    "## Verwendung von Mockito in Tests\n",
    "\n",
    "- In JUnit-Tests können Mock-Objekte verwendet werden, um Abhängigkeiten zu\n",
    "  simulieren\n",
    "- Die `verify()`-Methode wirft eine Exception, wenn sie einen Fehler findet\n",
    "- Das führt zu einem fehlgeschlagenen Test"
   ]
  },
  {
   "cell_type": "code",
   "execution_count": null,
   "id": "16419828ee6fb333",
   "metadata": {
    "slideshow": {
     "slide_type": "subslide"
    },
    "tags": [
     "keep",
     "subslide"
    ]
   },
   "outputs": [],
   "source": [
    "import org.junit.jupiter.api.Test;\n",
    "import static org.junit.jupiter.api.Assertions.*;\n",
    "import static org.mockito.Mockito.*;"
   ]
  },
  {
   "cell_type": "code",
   "execution_count": null,
   "id": "ebbaa3e05fc59219",
   "metadata": {
    "slideshow": {
     "slide_type": "subslide"
    },
    "tags": [
     "subslide"
    ]
   },
   "outputs": [],
   "source": [
    "class ListTest {\n",
    "    @Test\n",
    "    void testList() {\n",
    "        List mockedList = mock(List.class);\n",
    "\n",
    "        mockedList.add(\"Hello!\");\n",
    "\n",
    "        verify(mockedList).add(\"Hello!\");\n",
    "    }\n",
    "\n",
    "    @Test\n",
    "    void failedTest() {\n",
    "        List mockedList = mock(List.class);\n",
    "\n",
    "        mockedList.add(\"Hello!\");\n",
    "\n",
    "        verify(mockedList).add(\"World!\");\n",
    "    }\n",
    "}"
   ]
  },
  {
   "cell_type": "code",
   "execution_count": null,
   "id": "179c70cf1e5b150d",
   "metadata": {
    "lines_to_next_cell": 2,
    "slideshow": {
     "slide_type": "subslide"
    },
    "tags": [
     "subslide"
    ]
   },
   "outputs": [],
   "source": [
    "runTests(ListTest.class);"
   ]
  },
  {
   "cell_type": "markdown",
   "id": "86bc5396fdadc453",
   "metadata": {
    "lang": "de",
    "slideshow": {
     "slide_type": "subslide"
    },
    "tags": [
     "subslide"
    ]
   },
   "source": [
    "\n",
    "## Workshop: Test eines Steuerungssystems für ein Raumschiff\n",
    "\n",
    "In diesem Workshop arbeiten Sie mit einem einfachen Steuerungssystem für ein\n",
    "Raumschiff. Das System interagiert mit verschiedenen Sensoren und einem\n",
    "Funksender. Ihre Aufgabe ist es, Tests für dieses System mit Mockito zu\n",
    "schreiben.\n",
    "\n",
    "Hier ist eine einfache Implementierung unseres Raumschiff-Steuerungssystems:"
   ]
  },
  {
   "cell_type": "code",
   "execution_count": null,
   "id": "5b8c86b41732693f",
   "metadata": {
    "slideshow": {
     "slide_type": "subslide"
    },
    "tags": [
     "keep",
     "subslide"
    ]
   },
   "outputs": [],
   "source": [
    "interface TemperatureSensor {\n",
    "    double getTemperature();\n",
    "}"
   ]
  },
  {
   "cell_type": "code",
   "execution_count": null,
   "id": "8bb2a7cc9a1de82b",
   "metadata": {
    "tags": [
     "keep"
    ]
   },
   "outputs": [],
   "source": [
    "interface FuelSensor {\n",
    "    double getFuelLevel();\n",
    "}"
   ]
  },
  {
   "cell_type": "code",
   "execution_count": null,
   "id": "d2a28673f6f8b089",
   "metadata": {
    "tags": [
     "keep"
    ]
   },
   "outputs": [],
   "source": [
    "interface RadioTransmitter {\n",
    "    void transmit(String message);\n",
    "}"
   ]
  },
  {
   "cell_type": "code",
   "execution_count": null,
   "id": "c416c9a6dac04657",
   "metadata": {
    "slideshow": {
     "slide_type": "subslide"
    },
    "tags": [
     "keep",
     "subslide"
    ]
   },
   "outputs": [],
   "source": [
    "class SpacecraftControlSystem {\n",
    "    private TemperatureSensor tempSensor;\n",
    "    private FuelSensor fuelSensor;\n",
    "    private RadioTransmitter radio;\n",
    "\n",
    "    public SpacecraftControlSystem(TemperatureSensor tempSensor, FuelSensor fuelSensor, RadioTransmitter radio) {\n",
    "        this.tempSensor = tempSensor;\n",
    "        this.fuelSensor = fuelSensor;\n",
    "        this.radio = radio;\n",
    "    }\n",
    "\n",
    "    public void checkAndReportStatus() {\n",
    "        double temp = tempSensor.getTemperature();\n",
    "        double fuel = fuelSensor.getFuelLevel();\n",
    "\n",
    "        if (temp > 100) {\n",
    "            radio.transmit(\"Warning: High temperature!\");\n",
    "        }\n",
    "\n",
    "        if (fuel < 10) {\n",
    "            radio.transmit(\"Warning: Low fuel!\");\n",
    "        }\n",
    "\n",
    "        radio.transmit(\"Status: Temperature \" + temp + \", Fuel \" + fuel);\n",
    "    }\n",
    "}"
   ]
  },
  {
   "cell_type": "markdown",
   "id": "2608fde4ca57cfc4",
   "metadata": {
    "lang": "de",
    "slideshow": {
     "slide_type": "subslide"
    },
    "tags": [
     "subslide"
    ]
   },
   "source": [
    "\n",
    "## Beispiel\n",
    "\n",
    "So könnten Sie dieses System verwenden:"
   ]
  },
  {
   "cell_type": "code",
   "execution_count": null,
   "id": "7e23dd0847b03cd3",
   "metadata": {
    "tags": [
     "keep"
    ]
   },
   "outputs": [],
   "source": [
    "class RealTemperatureSensor implements TemperatureSensor {\n",
    "    public double getTemperature() {\n",
    "        return 75.0; // Simulated temperature reading\n",
    "    }\n",
    "}"
   ]
  },
  {
   "cell_type": "code",
   "execution_count": null,
   "id": "f5d637cf2378e5b8",
   "metadata": {
    "tags": [
     "keep"
    ]
   },
   "outputs": [],
   "source": [
    "class RealFuelSensor implements FuelSensor {\n",
    "    public double getFuelLevel() {\n",
    "        return 50.0; // Simulated fuel level\n",
    "    }\n",
    "}"
   ]
  },
  {
   "cell_type": "code",
   "execution_count": null,
   "id": "61f9edf9505a3100",
   "metadata": {
    "tags": [
     "keep"
    ]
   },
   "outputs": [],
   "source": [
    "class RealRadioTransmitter implements RadioTransmitter {\n",
    "    public void transmit(String message) {\n",
    "        System.out.println(\"Transmitting: \" + message);\n",
    "    }\n",
    "}"
   ]
  },
  {
   "cell_type": "code",
   "execution_count": null,
   "id": "469d15337cffaa79",
   "metadata": {
    "slideshow": {
     "slide_type": "subslide"
    },
    "tags": [
     "keep",
     "subslide"
    ]
   },
   "outputs": [],
   "source": [
    "TemperatureSensor realTempSensor = new RealTemperatureSensor();\n",
    "FuelSensor realFuelSensor = new RealFuelSensor();\n",
    "RadioTransmitter realRadio = new RealRadioTransmitter();"
   ]
  },
  {
   "cell_type": "code",
   "execution_count": null,
   "id": "8ff4d7ed483c43f2",
   "metadata": {
    "tags": [
     "keep"
    ]
   },
   "outputs": [],
   "source": [
    "SpacecraftControlSystem spacecraft = new SpacecraftControlSystem(\n",
    "                                            realTempSensor, realFuelSensor, realRadio);"
   ]
  },
  {
   "cell_type": "code",
   "execution_count": null,
   "id": "b0d703b8a10aaee8",
   "metadata": {
    "tags": [
     "keep"
    ]
   },
   "outputs": [],
   "source": [
    "spacecraft.checkAndReportStatus();"
   ]
  },
  {
   "cell_type": "markdown",
   "id": "d42a085c6279da06",
   "metadata": {
    "lang": "de",
    "slideshow": {
     "slide_type": "subslide"
    },
    "tags": [
     "subslide"
    ]
   },
   "source": [
    "\n",
    "Ihre Aufgabe ist es, Tests für das `SpacecraftControlSystem` unter Verwendung\n",
    "von Mockito zu schreiben. Implementieren Sie die folgenden Testfälle:\n",
    "\n",
    "1. Testen des normalen Betriebs:\n",
    "   - Überprüfen Sie den normalen Betrieb des Raumschiffs, wenn die Temperatur\n",
    "     normal und der Kraftstoffstand ausreichend ist.\n",
    "2. Testen der Warnung bei hoher Temperatur:\n",
    "   - Überprüfen Sie, dass das Raumschiff eine Warnung bei einer Temperatur\n",
    "     über 100 Grad überträgt.\n",
    "3. Testen der Warnung bei niedrigem Kraftstoffstand:\n",
    "   - Überprüfen Sie, dass das Raumschiff eine Warnung bei einem Kraftstoffstand\n",
    "     unter 10 überträgt.\n",
    "4. Testen mehrerer Warnungen:\n",
    "   - Überprüfen Sie, dass das Raumschiff sowohl eine Warnung bei hoher Temperatur\n",
    "     als auch bei niedrigem Kraftstoffstand überträgt, wenn beide Bedingungen\n",
    "     erfüllt sind."
   ]
  },
  {
   "cell_type": "markdown",
   "id": "3b0bf7b4f9d207f5",
   "metadata": {
    "lang": "de",
    "slideshow": {
     "slide_type": "subslide"
    },
    "tags": [
     "subslide"
    ]
   },
   "source": [
    "\n",
    "#### Bonusaufgabe:\n",
    "\n",
    "5. Testen der Fehlerbehandlung:\n",
    "   - Ändern Sie das `SpacecraftControlSystem`, um Ausnahmen von den Sensoren\n",
    "     zu behandeln, und schreiben Sie einen Test, um dieses Verhalten zu überprüfen."
   ]
  },
  {
   "cell_type": "code",
   "execution_count": null,
   "id": "7ac5ab5436e8a0cd",
   "metadata": {
    "slideshow": {
     "slide_type": "subslide"
    },
    "tags": [
     "keep",
     "subslide"
    ]
   },
   "outputs": [],
   "source": [
    "%maven org.junit.jupiter:junit-jupiter-api:5.8.2\n",
    "%maven org.junit.jupiter:junit-jupiter-engine:5.8.2\n",
    "%maven org.junit.platform:junit-platform-launcher:1.9.3\n",
    "%maven org.mockito:mockito-core:4.11.+"
   ]
  },
  {
   "cell_type": "code",
   "execution_count": null,
   "id": "1a7f6c5bd5bae0f3",
   "metadata": {
    "slideshow": {
     "slide_type": "subslide"
    },
    "tags": [
     "keep",
     "subslide"
    ]
   },
   "outputs": [],
   "source": [
    "import org.junit.jupiter.api.Test;\n",
    "import static org.junit.jupiter.api.Assertions.*;\n",
    "import static org.mockito.Mockito.*;"
   ]
  },
  {
   "cell_type": "code",
   "execution_count": null,
   "id": "1475adeaa219856a",
   "metadata": {
    "slideshow": {
     "slide_type": "subslide"
    },
    "tags": [
     "subslide"
    ]
   },
   "outputs": [],
   "source": [
    "class SpacecraftControlSystemTest {\n",
    "    @Test\n",
    "    void testNormalOperation() {\n",
    "        TemperatureSensor tempSensor = mock(TemperatureSensor.class);\n",
    "        FuelSensor fuelSensor = mock(FuelSensor.class);\n",
    "        RadioTransmitter radio = mock(RadioTransmitter.class);\n",
    "\n",
    "        when(tempSensor.getTemperature()).thenReturn(75.0);\n",
    "        when(fuelSensor.getFuelLevel()).thenReturn(50.0);\n",
    "\n",
    "        SpacecraftControlSystem spacecraft = new SpacecraftControlSystem(tempSensor, fuelSensor, radio);\n",
    "        spacecraft.checkAndReportStatus();\n",
    "\n",
    "        verify(radio).transmit(\"Status: Temperature 75.0, Fuel 50.0\");\n",
    "        verify(radio, never()).transmit(\"Warning: High temperature!\");\n",
    "        verify(radio, never()).transmit(\"Warning: Low fuel!\");\n",
    "    }\n",
    "\n",
    "    @Test\n",
    "    void testHighTemperatureWarning() {\n",
    "        TemperatureSensor tempSensor = mock(TemperatureSensor.class);\n",
    "        FuelSensor fuelSensor = mock(FuelSensor.class);\n",
    "        RadioTransmitter radio = mock(RadioTransmitter.class);\n",
    "\n",
    "        when(tempSensor.getTemperature()).thenReturn(110.0);\n",
    "        when(fuelSensor.getFuelLevel()).thenReturn(50.0);\n",
    "\n",
    "        SpacecraftControlSystem spacecraft = new SpacecraftControlSystem(tempSensor, fuelSensor, radio);\n",
    "        spacecraft.checkAndReportStatus();\n",
    "\n",
    "        verify(radio).transmit(\"Warning: High temperature!\");\n",
    "        verify(radio).transmit(\"Status: Temperature 110.0, Fuel 50.0\");\n",
    "        verify(radio, never()).transmit(\"Warning: Low fuel!\");\n",
    "    }\n",
    "\n",
    "    @Test\n",
    "    void testLowFuelWarning() {\n",
    "        TemperatureSensor tempSensor = mock(TemperatureSensor.class);\n",
    "        FuelSensor fuelSensor = mock(FuelSensor.class);\n",
    "        RadioTransmitter radio = mock(RadioTransmitter.class);\n",
    "\n",
    "        when(tempSensor.getTemperature()).thenReturn(75.0);\n",
    "        when(fuelSensor.getFuelLevel()).thenReturn(5.0);\n",
    "\n",
    "        SpacecraftControlSystem spacecraft = new SpacecraftControlSystem(tempSensor, fuelSensor, radio);\n",
    "        spacecraft.checkAndReportStatus();\n",
    "\n",
    "        verify(radio).transmit(\"Warning: Low fuel!\");\n",
    "        verify(radio).transmit(\"Status: Temperature 75.0, Fuel 5.0\");\n",
    "        verify(radio, never()).transmit(\"Warning: High temperature!\");\n",
    "    }\n",
    "\n",
    "    @Test\n",
    "    void testMultipleWarnings() {\n",
    "        TemperatureSensor tempSensor = mock(TemperatureSensor.class);\n",
    "        FuelSensor fuelSensor = mock(FuelSensor.class);\n",
    "        RadioTransmitter radio = mock(RadioTransmitter.class);\n",
    "\n",
    "        when(tempSensor.getTemperature()).thenReturn(110.0);\n",
    "        when(fuelSensor.getFuelLevel()).thenReturn(5.0);\n",
    "\n",
    "        SpacecraftControlSystem spacecraft = new SpacecraftControlSystem(tempSensor, fuelSensor, radio);\n",
    "        spacecraft.checkAndReportStatus();\n",
    "\n",
    "        verify(radio).transmit(\"Warning: High temperature!\");\n",
    "        verify(radio).transmit(\"Warning: Low fuel!\");\n",
    "        verify(radio).transmit(\"Status: Temperature 110.0, Fuel 5.0\");\n",
    "    }\n",
    "}"
   ]
  },
  {
   "cell_type": "code",
   "execution_count": null,
   "id": "ed20fe4d8477dcce",
   "metadata": {},
   "outputs": [],
   "source": [
    "runTests(SpacecraftControlSystemTest.class);"
   ]
  },
  {
   "cell_type": "markdown",
   "id": "60c42e4caa918fac",
   "metadata": {
    "lang": "de",
    "slideshow": {
     "slide_type": "subslide"
    },
    "tags": [
     "subslide",
     "alt"
    ]
   },
   "source": [
    "## Bonusaufgabe: Fehlerbehandlung"
   ]
  },
  {
   "cell_type": "code",
   "execution_count": null,
   "id": "b0f1b003818a3f0a",
   "metadata": {
    "tags": [
     "alt"
    ]
   },
   "outputs": [],
   "source": [
    "class SpacecraftControlSystemWithExceptionHandling {\n",
    "    private TemperatureSensor tempSensor;\n",
    "    private FuelSensor fuelSensor;\n",
    "    private RadioTransmitter radio;\n",
    "\n",
    "    public SpacecraftControlSystemWithExceptionHandling(TemperatureSensor tempSensor, FuelSensor fuelSensor, RadioTransmitter radio) {\n",
    "        this.tempSensor = tempSensor;\n",
    "        this.fuelSensor = fuelSensor;\n",
    "        this.radio = radio;\n",
    "    }\n",
    "\n",
    "    public void checkAndReportStatus() {\n",
    "        try {\n",
    "            double temp = tempSensor.getTemperature();\n",
    "            double fuel = fuelSensor.getFuelLevel();\n",
    "\n",
    "            if (temp > 100) {\n",
    "                radio.transmit(\"Warning: High temperature!\");\n",
    "            }\n",
    "\n",
    "            if (fuel < 10) {\n",
    "                radio.transmit(\"Warning: Low fuel!\");\n",
    "            }\n",
    "\n",
    "            radio.transmit(\"Status: Temperature \" + temp + \", Fuel \" + fuel);\n",
    "        } catch (Exception e) {\n",
    "            radio.transmit(\"Error: Sensor malfunction - \" + e.getMessage());\n",
    "        }\n",
    "    }\n",
    "}"
   ]
  },
  {
   "cell_type": "code",
   "execution_count": null,
   "id": "954e2efe93b6b00c",
   "metadata": {
    "slideshow": {
     "slide_type": "subslide"
    },
    "tags": [
     "subslide",
     "alt"
    ]
   },
   "outputs": [],
   "source": [
    "class SpacecraftControlSystemWithExceptionHandlingTest {\n",
    "    @Test\n",
    "    void testExceptionHandling() {\n",
    "        TemperatureSensor tempSensor = mock(TemperatureSensor.class);\n",
    "        FuelSensor fuelSensor = mock(FuelSensor.class);\n",
    "        RadioTransmitter radio = mock(RadioTransmitter.class);\n",
    "\n",
    "        when(tempSensor.getTemperature()).thenThrow(new RuntimeException(\"Temperature sensor failure\"));\n",
    "        when(fuelSensor.getFuelLevel()).thenReturn(50.0);\n",
    "\n",
    "        SpacecraftControlSystemWithExceptionHandling spacecraft = new SpacecraftControlSystemWithExceptionHandling(tempSensor, fuelSensor, radio);\n",
    "        spacecraft.checkAndReportStatus();\n",
    "\n",
    "        verify(radio).transmit(\"Error: Sensor malfunction - Temperature sensor failure\");\n",
    "        verify(radio, never()).transmit(startsWith(\"Status:\"));\n",
    "        verify(radio, never()).transmit(\"Warning: High temperature!\");\n",
    "        verify(radio, never()).transmit(\"Warning: Low fuel!\");\n",
    "    }\n",
    "}"
   ]
  }
 ],
 "metadata": {
  "jupytext": {
   "cell_metadata_filter": "tags,lang,-all",
   "encoding": "// -*- coding: utf-8 -*-",
   "main_language": "java",
   "notebook_metadata_filter": "-all"
  },
  "kernelspec": {
   "display_name": "Java",
   "language": "java",
   "name": "java"
  },
  "language_info": {
   "codemirror_mode": "java",
   "file_extension": ".java",
   "mimetype": "text/java",
   "name": "Java",
   "pygments_lexer": "java",
   "version": ""
  }
 },
 "nbformat": 4,
 "nbformat_minor": 5
}
