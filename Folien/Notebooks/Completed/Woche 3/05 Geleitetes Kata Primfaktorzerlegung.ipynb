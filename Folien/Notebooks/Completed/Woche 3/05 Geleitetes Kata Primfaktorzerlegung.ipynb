{
 "cells": [
  {
   "cell_type": "markdown",
   "id": "76ac1decf0172212",
   "metadata": {
    "lang": "de",
    "slideshow": {
     "slide_type": "slide"
    },
    "tags": [
     "slide"
    ]
   },
   "source": [
    "\n",
    "<img src=\"data:image/svg+xml;base64,PHN2ZyB4bWxucz0iaHR0cDovL3d3dy53My5vcmcvMjAwMC9zdmciIHdpZHRoPSI2NCIgaGVpZ2h0\n",
    "PSI2NCIgdmlld0JveD0iMCAwIDMyIDMyIj48cGF0aCBkPSJNMTEuNjIyIDI0Ljc0cy0xLjIzLjc0\n",
    "OC44NTUuOTYyYzIuNTEuMzIgMy44NDcuMjY3IDYuNjI1LS4yNjdhMTAuMDIgMTAuMDIgMCAwIDAg\n",
    "MS43NjMuODU1Yy02LjI1IDIuNjcyLTE0LjE2LS4xNi05LjI0NC0xLjU1em0tLjgtMy40NzNzLTEu\n",
    "MzM2IDEuMDE1Ljc0OCAxLjIzYzIuNzI1LjI2NyA0Ljg2Mi4zMiA4LjU1LS40MjdhMy4yNiAzLjI2\n",
    "IDAgMCAwIDEuMjgyLjgwMWMtNy41MzQgMi4yNDQtMTUuOTc2LjIxNC0xMC41OC0xLjYwM3ptMTQu\n",
    "NzQ3IDYuMDlzLjkwOC43NDgtMS4wMTUgMS4zMzZjLTMuNTggMS4wNy0xNS4wMTQgMS4zOS0xOC4y\n",
    "MiAwLTEuMTIyLS40OCAxLjAxNS0xLjE3NSAxLjctMS4yODIuNjk1LS4xNiAxLjA3LS4xNiAxLjA3\n",
    "LS4xNi0xLjIzLS44NTUtOC4xNzUgMS43NjMtMy41MjYgMi41MSAxMi43NyAyLjA4NCAyMy4yOTYt\n",
    "LjkwOCAxOS45ODMtMi40MDR6TTEyLjIgMTcuNjMzcy01LjgyNCAxLjM5LTIuMDg0IDEuODdjMS42\n",
    "MDMuMjE0IDQuNzU1LjE2IDcuNjk0LS4wNTMgMi40MDQtLjIxNCA0LjgxLS42NCA0LjgxLS42NHMt\n",
    "Ljg1NS4zNzQtMS40NDMuNzQ4Yy01LjkzIDEuNTUtMTcuMzEyLjg1NS0xNC4wNTItLjc0OCAyLjc3\n",
    "OC0xLjMzNiA1LjA3Ni0xLjE3NSA1LjA3Ni0xLjE3NXptMTAuNDIgNS44MjRjNS45ODQtMy4xIDMu\n",
    "MjA2LTYuMDkgMS4yODItNS43MTctLjQ4LjEwNy0uNjk1LjIxNC0uNjk1LjIxNHMuMTYtLjMyLjUz\n",
    "NC0uNDI3YzMuNzk0LTEuMzM2IDYuNzg2IDQuMDA3LTEuMjMgNi4wOSAwIDAgLjA1My0uMDUzLjEw\n",
    "Ny0uMTZ6bS05LjgzIDguNDQyYzUuNzcuMzc0IDE0LjU4Ny0uMjE0IDE0LjgtMi45NCAwIDAtLjQy\n",
    "NyAxLjA3LTQuNzU1IDEuODctNC45MTYuOTA4LTExLjAwNy44LTE0LjU4Ny4yMTQgMCAwIC43NDgu\n",
    "NjQgNC41NDIuODU1eiIgZmlsbD0iIzRlNzg5NiIvPjxwYXRoIGQ9Ik0xOC45OTYuMDAxczMuMzEz\n",
    "IDMuMzY2LTMuMTUyIDguNDQyYy01LjE4MyA0LjExNC0xLjE3NSA2LjQ2NSAwIDkuMTM3LTMuMDQ2\n",
    "LTIuNzI1LTUuMjM2LTUuMTMtMy43NC03LjM3M0MxNC4yOTQgNi44OTMgMjAuMzMyIDUuMyAxOC45\n",
    "OTYuMDAxem0tMS43IDE1LjMzNWMxLjU1IDEuNzYzLS40MjcgMy4zNjYtLjQyNyAzLjM2NnMzLjk1\n",
    "NC0yLjAzIDIuMTM3LTQuNTQyYy0xLjY1Ni0yLjQwNC0yLjk0LTMuNTggNC4wMDctNy41ODcgMCAw\n",
    "LTEwLjk1MyAyLjcyNS01LjcxNyA4Ljc2M3oiIGZpbGw9IiNmNTgyMTkiLz48L3N2Zz4=\n",
    "\"\n",
    "     alt=\"Java Logo\" style=\"display:block;margin:auto;width:5%\"/>\n",
    "<br>\n",
    "\n",
    "<div style=\"text-align:center; font-size:200%;\">\n",
    " <b>Geleitetes Kata: Primfaktorzerlegung</b>\n",
    "</div>\n",
    "<br/>\n",
    "<div style=\"text-align:center; font-size:120%;\">Dr. Matthias Hölzl</div>\n",
    "<br/>\n",
    "<div style=\"text-align:center;\">Coding-Akademie München</div>\n",
    "<br/>"
   ]
  },
  {
   "cell_type": "markdown",
   "id": "471a1e79a2e6c879",
   "metadata": {
    "lang": "de",
    "slideshow": {
     "slide_type": "subslide"
    },
    "tags": [
     "subslide"
    ]
   },
   "source": [
    "\n",
    "## Geleitetes Kata: Primfaktorzerlegung\n",
    "\n",
    "- Eine Übung zu TDD, die zeigt, wie man durch Tests auf eine einfache\n",
    "  Implementierung eines Algorithmus geführt werden kann\n",
    "- Wichtig ist die Vorgehensweise: Tests sollen das Design treiben\n",
    "- Ziel: Lernen inkrementell und iterativ zu arbeiten!"
   ]
  },
  {
   "cell_type": "markdown",
   "id": "389eb78809b09692",
   "metadata": {
    "lang": "de",
    "slideshow": {
     "slide_type": "subslide"
    },
    "tags": [
     "subslide"
    ]
   },
   "source": [
    "\n",
    "## Geleitetes Kata: Primfaktorzerlegung\n",
    "\n",
    "Schreiben Sie eine Funktion\n",
    "\n",
    "```java\n",
    "void computeAndWritePrimes(long n);\n",
    "```\n",
    "die die Primfaktoren von n in aufsteigender Reihenfolge auf dem Bildschirm\n",
    "ausgibt.\n",
    "\n",
    "Mehrfach vorkommende Primfaktoren sind in der Ausgabe mehrmals enthalten.\n",
    "\n",
    "Die Primfaktoren sind durch Kommas getrennt."
   ]
  },
  {
   "cell_type": "code",
   "execution_count": null,
   "id": "83e51a02b9df2ac1",
   "metadata": {
    "slideshow": {
     "slide_type": "subslide"
    },
    "tags": [
     "keep",
     "subslide"
    ]
   },
   "outputs": [],
   "source": [
    "%maven org.junit.jupiter:junit-jupiter-api:5.8.2\n",
    "%maven org.junit.jupiter:junit-jupiter-engine:5.8.2\n",
    "%maven org.junit.jupiter:junit-jupiter-params:5.8.2\n",
    "%maven org.junit.platform:junit-platform-launcher:1.9.3"
   ]
  },
  {
   "cell_type": "code",
   "execution_count": null,
   "id": "9a38ce0d22d86bda",
   "metadata": {
    "tags": [
     "keep"
    ]
   },
   "outputs": [],
   "source": [
    "import static org.junit.jupiter.api.Assertions.*;\n",
    "import org.junit.jupiter.api.Test;"
   ]
  },
  {
   "cell_type": "code",
   "execution_count": null,
   "id": "a25a1be39c8e3cfc",
   "metadata": {
    "tags": [
     "keep"
    ]
   },
   "outputs": [],
   "source": [
    "import java.util.List;\n",
    "import java.util.ArrayList;"
   ]
  },
  {
   "cell_type": "code",
   "execution_count": null,
   "id": "9e34aa251c4f4aa1",
   "metadata": {
    "slideshow": {
     "slide_type": "subslide"
    },
    "tags": [
     "subslide",
     "keep"
    ]
   },
   "outputs": [],
   "source": [
    "%jars .\n",
    "%classpath testrunner-0.1.jar"
   ]
  },
  {
   "cell_type": "code",
   "execution_count": null,
   "id": "0d9a79fc77081dd9",
   "metadata": {
    "tags": [
     "keep"
    ]
   },
   "outputs": [],
   "source": [
    "import static testrunner.TestRunner.runTests;"
   ]
  },
  {
   "cell_type": "markdown",
   "id": "45f7cbb480048cf9",
   "metadata": {
    "lang": "de",
    "slideshow": {
     "slide_type": "subslide"
    },
    "tags": [
     "subslide"
    ]
   },
   "source": [
    "\n",
    "Test-Klasse `PrimeFactorsTest`"
   ]
  },
  {
   "cell_type": "code",
   "execution_count": null,
   "id": "2518736e189b8fed",
   "metadata": {},
   "outputs": [],
   "source": [
    "class PrimeFactorsTest {\n",
    "    @Test\n",
    "    void testPrimeFactorsOf1() {\n",
    "        assertEquals(List.of(), primeFactors(1));\n",
    "    }\n",
    "}"
   ]
  },
  {
   "cell_type": "code",
   "execution_count": null,
   "id": "7d9da5f5bfabc960",
   "metadata": {},
   "outputs": [],
   "source": [
    "runTests(PrimeFactorsTest.class);"
   ]
  },
  {
   "cell_type": "markdown",
   "id": "91b4666cba5cd035",
   "metadata": {
    "lang": "de",
    "slideshow": {
     "slide_type": "subslide"
    },
    "tags": [
     "subslide"
    ]
   },
   "source": [
    "\n",
    "Funktion `primeFactors`"
   ]
  },
  {
   "cell_type": "code",
   "execution_count": null,
   "id": "9c95fefda3304f1c",
   "metadata": {},
   "outputs": [],
   "source": [
    "List<Integer> primeFactors(int n) {\n",
    "    return List.of();\n",
    "}"
   ]
  },
  {
   "cell_type": "code",
   "execution_count": null,
   "id": "ff5e35ac3eb83066",
   "metadata": {},
   "outputs": [],
   "source": [
    "runTests(PrimeFactorsTest.class)"
   ]
  },
  {
   "cell_type": "code",
   "execution_count": null,
   "id": "594f44c3d5703833",
   "metadata": {
    "slideshow": {
     "slide_type": "subslide"
    },
    "tags": [
     "alt",
     "subslide"
    ]
   },
   "outputs": [],
   "source": [
    "class PrimeFactorsTest {\n",
    "    @Test\n",
    "    void testPrimeFactorsOf1() {\n",
    "        assertEquals(List.of(), primeFactors(1));\n",
    "    }\n",
    "\n",
    "    @Test\n",
    "    void testPrimeFactorsOf2() {\n",
    "        assertEquals(List.of(2), primeFactors(2));\n",
    "    }\n",
    "}"
   ]
  },
  {
   "cell_type": "code",
   "execution_count": null,
   "id": "fb7cc15096790a81",
   "metadata": {
    "slideshow": {
     "slide_type": "subslide"
    },
    "tags": [
     "alt",
     "subslide"
    ]
   },
   "outputs": [],
   "source": [
    "runTests(PrimeFactorsTest.class)"
   ]
  },
  {
   "cell_type": "code",
   "execution_count": null,
   "id": "a112b9d5cdca1f7c",
   "metadata": {
    "slideshow": {
     "slide_type": "subslide"
    },
    "tags": [
     "alt",
     "subslide"
    ]
   },
   "outputs": [],
   "source": [
    "List<Integer> primeFactors(long n) {\n",
    "    if (n == 2) {\n",
    "        return List.of(2);\n",
    "    }\n",
    "    return List.of();\n",
    "}"
   ]
  },
  {
   "cell_type": "code",
   "execution_count": null,
   "id": "72a435867e14461c",
   "metadata": {
    "slideshow": {
     "slide_type": "subslide"
    },
    "tags": [
     "alt",
     "subslide"
    ]
   },
   "outputs": [],
   "source": [
    "runTests(PrimeFactorsTest.class)"
   ]
  },
  {
   "cell_type": "code",
   "execution_count": null,
   "id": "fc18820986e6ae27",
   "metadata": {
    "slideshow": {
     "slide_type": "subslide"
    },
    "tags": [
     "alt",
     "subslide"
    ]
   },
   "outputs": [],
   "source": [
    "class PrimeFactorsTest {\n",
    "    @Test\n",
    "    void testPrimeFactorsOf1() {\n",
    "        assertEquals(List.of(), primeFactors(1));\n",
    "    }\n",
    "\n",
    "    @Test\n",
    "    void testPrimeFactorsOf2() {\n",
    "        assertEquals(List.of(2), primeFactors(2));\n",
    "    }\n",
    "\n",
    "    @Test\n",
    "    void testPrimeFactorsOf3() {\n",
    "        assertEquals(List.of(3), primeFactors(3));\n",
    "    }\n",
    "}"
   ]
  },
  {
   "cell_type": "code",
   "execution_count": null,
   "id": "d71fb9db4499ab9e",
   "metadata": {
    "slideshow": {
     "slide_type": "subslide"
    },
    "tags": [
     "alt",
     "subslide"
    ]
   },
   "outputs": [],
   "source": [
    "runTests(PrimeFactorsTest.class)"
   ]
  },
  {
   "cell_type": "code",
   "execution_count": null,
   "id": "bd6560a150f4dca9",
   "metadata": {
    "slideshow": {
     "slide_type": "subslide"
    },
    "tags": [
     "alt",
     "subslide"
    ]
   },
   "outputs": [],
   "source": [
    "List<Integer> primeFactors(long n) {\n",
    "    if (n == 2) {\n",
    "        return List.of(2);\n",
    "    }\n",
    "    if (n == 3) {\n",
    "        return List.of(3);\n",
    "    }\n",
    "    return List.of();\n",
    "}"
   ]
  },
  {
   "cell_type": "code",
   "execution_count": null,
   "id": "c93dff7501d37e84",
   "metadata": {
    "slideshow": {
     "slide_type": "subslide"
    },
    "tags": [
     "alt",
     "subslide"
    ]
   },
   "outputs": [],
   "source": [
    "runTests(PrimeFactorsTest.class)"
   ]
  },
  {
   "cell_type": "code",
   "execution_count": null,
   "id": "d93599026ced8e56",
   "metadata": {
    "slideshow": {
     "slide_type": "subslide"
    },
    "tags": [
     "alt",
     "subslide"
    ]
   },
   "outputs": [],
   "source": [
    "List<Integer> primeFactors(long n) {\n",
    "    List<Integer> result = new ArrayList<Integer>();\n",
    "    if (n == 2) {\n",
    "        result.add(2);\n",
    "    }\n",
    "    if (n == 3) {\n",
    "        result.add(3);\n",
    "    }\n",
    "    return result;\n",
    "}"
   ]
  },
  {
   "cell_type": "code",
   "execution_count": null,
   "id": "f2a6a3b6ce0ac695",
   "metadata": {
    "slideshow": {
     "slide_type": "subslide"
    },
    "tags": [
     "alt",
     "subslide"
    ]
   },
   "outputs": [],
   "source": [
    "runTests(PrimeFactorsTest.class)"
   ]
  },
  {
   "cell_type": "code",
   "execution_count": null,
   "id": "da556ea4fe67213c",
   "metadata": {
    "slideshow": {
     "slide_type": "subslide"
    },
    "tags": [
     "alt",
     "subslide"
    ]
   },
   "outputs": [],
   "source": [
    "List<Integer> primeFactors(long n) {\n",
    "    List<Integer> result = new ArrayList<Integer>();\n",
    "    if (n % 2 == 0) {\n",
    "        result.add(2);\n",
    "    }\n",
    "    if (n % 3 == 0) {\n",
    "        result.add(3);\n",
    "    }\n",
    "    return result;\n",
    "}"
   ]
  },
  {
   "cell_type": "code",
   "execution_count": null,
   "id": "bd09e73f4899f4c9",
   "metadata": {
    "slideshow": {
     "slide_type": "subslide"
    },
    "tags": [
     "alt",
     "subslide"
    ]
   },
   "outputs": [],
   "source": [
    "runTests(PrimeFactorsTest.class)"
   ]
  },
  {
   "cell_type": "code",
   "execution_count": null,
   "id": "2b650033ae6d73fc",
   "metadata": {
    "slideshow": {
     "slide_type": "subslide"
    },
    "tags": [
     "alt",
     "subslide"
    ]
   },
   "outputs": [],
   "source": [
    "class PrimeFactorsTest {\n",
    "    @Test\n",
    "    void testPrimeFactorsOf1() {\n",
    "        assertEquals(List.of(), primeFactors(1));\n",
    "    }\n",
    "\n",
    "    @Test\n",
    "    void testPrimeFactorsOf2() {\n",
    "        assertEquals(List.of(2), primeFactors(2));\n",
    "    }\n",
    "\n",
    "    @Test\n",
    "    void testPrimeFactorsOf3() {\n",
    "        assertEquals(List.of(3), primeFactors(3));\n",
    "    }\n",
    "\n",
    "    @Test\n",
    "    void testPrimeFactorsOf4() {\n",
    "        assertEquals(List.of(2, 2), primeFactors(4));\n",
    "    }\n",
    "}"
   ]
  },
  {
   "cell_type": "code",
   "execution_count": null,
   "id": "e7bd98f16711701c",
   "metadata": {
    "slideshow": {
     "slide_type": "subslide"
    },
    "tags": [
     "alt",
     "subslide"
    ]
   },
   "outputs": [],
   "source": [
    "runTests(PrimeFactorsTest.class)"
   ]
  },
  {
   "cell_type": "code",
   "execution_count": null,
   "id": "5981b9a131ff2f87",
   "metadata": {
    "slideshow": {
     "slide_type": "subslide"
    },
    "tags": [
     "alt",
     "subslide"
    ]
   },
   "outputs": [],
   "source": [
    "List<Integer> primeFactors(long n) {\n",
    "    List<Integer> result = new ArrayList<Integer>();\n",
    "    if (n % 2 == 0) {\n",
    "        result.add(2);\n",
    "    }\n",
    "    if (n % 3 == 0) {\n",
    "        result.add(3);\n",
    "    }\n",
    "    if (n % 4 == 0) {\n",
    "        result.add(2);\n",
    "    }\n",
    "    return result;\n",
    "}"
   ]
  },
  {
   "cell_type": "code",
   "execution_count": null,
   "id": "a8ca00faea5bb780",
   "metadata": {
    "slideshow": {
     "slide_type": "subslide"
    },
    "tags": [
     "alt",
     "subslide"
    ]
   },
   "outputs": [],
   "source": [
    "runTests(PrimeFactorsTest.class)"
   ]
  },
  {
   "cell_type": "code",
   "execution_count": null,
   "id": "4b482a2a80b4e4fb",
   "metadata": {
    "slideshow": {
     "slide_type": "subslide"
    },
    "tags": [
     "alt",
     "subslide"
    ]
   },
   "outputs": [],
   "source": [
    "List<Integer> primeFactors(long n) {\n",
    "    ArrayList<Integer> result = new ArrayList();\n",
    "    if (n % 2 == 0) {\n",
    "        result.add(2);\n",
    "        n /= 2;\n",
    "        if (n % 2 == 0)\n",
    "            result.add(2);\n",
    "    }\n",
    "    if (n % 3 == 0)\n",
    "        result.add(3);\n",
    "    return result;\n",
    "}"
   ]
  },
  {
   "cell_type": "code",
   "execution_count": null,
   "id": "2dd89b4027d2d867",
   "metadata": {
    "slideshow": {
     "slide_type": "subslide"
    },
    "tags": [
     "alt",
     "subslide"
    ]
   },
   "outputs": [],
   "source": [
    "runTests(PrimeFactorsTest.class)"
   ]
  },
  {
   "cell_type": "code",
   "execution_count": null,
   "id": "187c5c9ea9f61461",
   "metadata": {
    "slideshow": {
     "slide_type": "subslide"
    },
    "tags": [
     "alt",
     "subslide"
    ]
   },
   "outputs": [],
   "source": [
    "List<Integer> primeFactors(long n) {\n",
    "    ArrayList<Integer> result = new ArrayList();\n",
    "    while (n % 2 == 0) {\n",
    "        result.add(2);\n",
    "        n /= 2;\n",
    "    }\n",
    "    if (n % 3 == 0)\n",
    "        result.add(3);\n",
    "    return result;\n",
    "}"
   ]
  },
  {
   "cell_type": "code",
   "execution_count": null,
   "id": "7325350a0897d7e0",
   "metadata": {
    "slideshow": {
     "slide_type": "subslide"
    },
    "tags": [
     "alt",
     "subslide"
    ]
   },
   "outputs": [],
   "source": [
    "runTests(PrimeFactorsTest.class)"
   ]
  },
  {
   "cell_type": "code",
   "execution_count": null,
   "id": "1e65072ea417350f",
   "metadata": {
    "slideshow": {
     "slide_type": "subslide"
    },
    "tags": [
     "alt",
     "subslide"
    ]
   },
   "outputs": [],
   "source": [
    "List<Integer> primeFactors(int n) {\n",
    "    ArrayList<Integer> result = new ArrayList();\n",
    "    while (n % 2 == 0) {\n",
    "        result.add(2);\n",
    "        n /= 2;\n",
    "    }\n",
    "    while (n % 3 == 0) {\n",
    "        result.add(3);\n",
    "        n /= 3;\n",
    "    }\n",
    "    return result;\n",
    "}"
   ]
  },
  {
   "cell_type": "code",
   "execution_count": null,
   "id": "ca6a44b484963598",
   "metadata": {
    "slideshow": {
     "slide_type": "subslide"
    },
    "tags": [
     "alt",
     "subslide"
    ]
   },
   "outputs": [],
   "source": [
    "runTests(PrimeFactorsTest.class)"
   ]
  },
  {
   "cell_type": "code",
   "execution_count": null,
   "id": "e3261c3a41d51d7b",
   "metadata": {
    "slideshow": {
     "slide_type": "subslide"
    },
    "tags": [
     "alt",
     "subslide"
    ]
   },
   "outputs": [],
   "source": [
    "class PrimeFactorsTest {\n",
    "    @Test\n",
    "    void testPrimeFactorsOf1() {\n",
    "        assertEquals(List.of(), primeFactors(1));\n",
    "    }\n",
    "\n",
    "    @Test\n",
    "    void testPrimeFactorsOf2() {\n",
    "        assertEquals(List.of(2), primeFactors(2));\n",
    "    }\n",
    "\n",
    "    @Test\n",
    "    void testPrimeFactorsOf3() {\n",
    "        assertEquals(List.of(3), primeFactors(3));\n",
    "    }\n",
    "\n",
    "    @Test\n",
    "    void testPrimeFactorsOf4() {\n",
    "        assertEquals(List.of(2, 2), primeFactors(4));\n",
    "    }\n",
    "\n",
    "    @Test\n",
    "    void testPrimeFactorsOf5() {\n",
    "        assertEquals(List.of(5), primeFactors(5));\n",
    "    }\n",
    "}"
   ]
  },
  {
   "cell_type": "code",
   "execution_count": null,
   "id": "b774dd65c4514b0e",
   "metadata": {
    "slideshow": {
     "slide_type": "subslide"
    },
    "tags": [
     "alt",
     "subslide"
    ]
   },
   "outputs": [],
   "source": [
    "runTests(PrimeFactorsTest.class)"
   ]
  },
  {
   "cell_type": "code",
   "execution_count": null,
   "id": "a701cb5ac427f4a4",
   "metadata": {
    "slideshow": {
     "slide_type": "subslide"
    },
    "tags": [
     "alt",
     "subslide"
    ]
   },
   "outputs": [],
   "source": [
    "List<Integer> primeFactors(int n) {\n",
    "    ArrayList<Integer> result = new ArrayList();\n",
    "    while (n % 2 == 0) {\n",
    "        result.add(2);\n",
    "        n /= 2;\n",
    "    }\n",
    "    while (n % 3 == 0) {\n",
    "        result.add(3);\n",
    "        n /= 3;\n",
    "    }\n",
    "    while (n % 5 == 0) {\n",
    "        result.add(5);\n",
    "        n /= 5;\n",
    "    }\n",
    "    return result;\n",
    "}"
   ]
  },
  {
   "cell_type": "code",
   "execution_count": null,
   "id": "4541a3425dec1993",
   "metadata": {
    "slideshow": {
     "slide_type": "subslide"
    },
    "tags": [
     "alt",
     "subslide"
    ]
   },
   "outputs": [],
   "source": [
    "runTests(PrimeFactorsTest.class)"
   ]
  },
  {
   "cell_type": "code",
   "execution_count": null,
   "id": "c5aff641993b20e4",
   "metadata": {
    "slideshow": {
     "slide_type": "subslide"
    },
    "tags": [
     "alt",
     "subslide"
    ]
   },
   "outputs": [],
   "source": [
    "List<Integer> primeFactors(int n) {\n",
    "    ArrayList<Integer> result = new ArrayList();\n",
    "    for (int factor = 2; factor <= n; factor ++)\n",
    "        while (n % factor == 0) {\n",
    "            result.add(factor);\n",
    "            n /= factor;\n",
    "        }\n",
    "    return result;\n",
    "}"
   ]
  },
  {
   "cell_type": "code",
   "execution_count": null,
   "id": "d507438c5eaeef81",
   "metadata": {
    "slideshow": {
     "slide_type": "subslide"
    },
    "tags": [
     "alt",
     "subslide"
    ]
   },
   "outputs": [],
   "source": [
    "runTests(PrimeFactorsTest.class)"
   ]
  },
  {
   "cell_type": "code",
   "execution_count": null,
   "id": "1c776dca193f7875",
   "metadata": {
    "slideshow": {
     "slide_type": "subslide"
    },
    "tags": [
     "alt",
     "subslide"
    ]
   },
   "outputs": [],
   "source": [
    "import java.util.stream.Stream;\n",
    "import org.junit.jupiter.params.ParameterizedTest;\n",
    "import org.junit.jupiter.params.provider.Arguments;\n",
    "import org.junit.jupiter.params.provider.MethodSource;"
   ]
  },
  {
   "cell_type": "code",
   "execution_count": null,
   "id": "b31dc61bd9f6f45f",
   "metadata": {
    "slideshow": {
     "slide_type": "subslide"
    },
    "tags": [
     "alt",
     "subslide"
    ]
   },
   "outputs": [],
   "source": [
    "class PrimeFactorsTest {\n",
    "    @ParameterizedTest\n",
    "    @MethodSource(\"primeFactorArgs\")\n",
    "    void testPrimeFactors(List<Integer> expected, int n) {\n",
    "        assertEquals(expected, primeFactors(n));\n",
    "    }\n",
    "\n",
    "    static Stream<Arguments> primeFactorArgs() {\n",
    "        return Stream.of(\n",
    "            Arguments.of(List.of(), 1),\n",
    "            Arguments.of(List.of(2), 2),\n",
    "            Arguments.of(List.of(3), 3),\n",
    "            Arguments.of(List.of(2, 2), 4),\n",
    "            Arguments.of(List.of(5), 5),\n",
    "            Arguments.of(List.of(2, 3), 6),\n",
    "            Arguments.of(List.of(2, 2, 3, 5, 7, 11, 13, 17), 1021020),\n",
    "            Arguments.of(List.of(2027, 2029), 2027 * 2029),\n",
    "            Arguments.of(List.of(7907, 7919), 7907 * 7919)\n",
    "        );\n",
    "    }\n",
    "}"
   ]
  },
  {
   "cell_type": "code",
   "execution_count": null,
   "id": "0c2d4891cb987cab",
   "metadata": {
    "slideshow": {
     "slide_type": "subslide"
    },
    "tags": [
     "alt",
     "subslide"
    ]
   },
   "outputs": [],
   "source": [
    "runTests(PrimeFactorsTest.class)"
   ]
  },
  {
   "cell_type": "code",
   "execution_count": null,
   "id": "70ef4cd6be40dcce",
   "metadata": {
    "slideshow": {
     "slide_type": "subslide"
    },
    "tags": [
     "alt",
     "subslide"
    ]
   },
   "outputs": [],
   "source": [
    "class PrimeFactorsTest {\n",
    "    @ParameterizedTest\n",
    "    @MethodSource(\"primeFactorArgs\")\n",
    "    void testPrimeFactors(List<Integer> factors) {\n",
    "        int n = factors.stream().reduce(1, (a, b) -> a * b);\n",
    "        assertEquals(factors, primeFactors(n));\n",
    "    }\n",
    "\n",
    "    static Stream<List<Integer>> primeFactorArgs() {\n",
    "        return Stream.of(\n",
    "            List.of(),\n",
    "            List.of(2),\n",
    "            List.of(3),\n",
    "            List.of(2, 2),\n",
    "            List.of(5),\n",
    "            List.of(2, 3),\n",
    "            List.of(2, 2, 3, 5, 7, 11, 13, 17),\n",
    "            List.of(2027, 2029),\n",
    "            List.of(7907, 7919)\n",
    "        );\n",
    "    }\n",
    "}"
   ]
  },
  {
   "cell_type": "code",
   "execution_count": null,
   "id": "824da1634bfc6290",
   "metadata": {
    "slideshow": {
     "slide_type": "subslide"
    },
    "tags": [
     "alt",
     "subslide"
    ]
   },
   "outputs": [],
   "source": [
    "runTests(PrimeFactorsTest.class)"
   ]
  },
  {
   "cell_type": "markdown",
   "id": "e2c4053140b008be",
   "metadata": {
    "lang": "de",
    "slideshow": {
     "slide_type": "subslide"
    },
    "tags": [
     "subslide"
    ]
   },
   "source": [
    "\n",
    "Test-Klasse `TestComputeAndFormatPrimes`"
   ]
  },
  {
   "cell_type": "code",
   "execution_count": null,
   "id": "632242b07b85a739",
   "metadata": {},
   "outputs": [],
   "source": [
    "class TestComputeAndFormatPrimes {\n",
    "    @ParameterizedTest\n",
    "    @MethodSource(\"primeFactorArgs\")\n",
    "    void testPrimeFactors(String expected, int n) {\n",
    "        assertEquals(expected, computeAndFormatPrimes(n));\n",
    "    }\n",
    "\n",
    "    static Stream<Arguments> primeFactorArgs() {\n",
    "        return Stream.of(\n",
    "            Arguments.of(\"\", 1),\n",
    "            Arguments.of(\"2\", 2),\n",
    "            Arguments.of(\"3\", 3),\n",
    "            Arguments.of(\"2,2\", 4),\n",
    "            Arguments.of(\"5\", 5),\n",
    "            Arguments.of(\"2,3\", 6),\n",
    "            Arguments.of(\"2,2,3,5,7,11,13,17\", 1021020),\n",
    "            Arguments.of(\"2027,2029\", 2027 * 2029),\n",
    "            Arguments.of(\"7907,7919\", 7907 * 7919)\n",
    "        );\n",
    "    }\n",
    "}"
   ]
  },
  {
   "cell_type": "code",
   "execution_count": null,
   "id": "85be3d88a112cb9d",
   "metadata": {
    "slideshow": {
     "slide_type": "subslide"
    },
    "tags": [
     "subslide"
    ]
   },
   "outputs": [],
   "source": [
    "runTests(TestComputeAndFormatPrimes.class);"
   ]
  },
  {
   "cell_type": "markdown",
   "id": "81d26ddb87823109",
   "metadata": {
    "lang": "de",
    "slideshow": {
     "slide_type": "subslide"
    },
    "tags": [
     "subslide"
    ]
   },
   "source": [
    "\n",
    "Funktion `computeAndFormatPrimes`"
   ]
  },
  {
   "cell_type": "code",
   "execution_count": null,
   "id": "6fb38b5dd96956b9",
   "metadata": {},
   "outputs": [],
   "source": [
    "import java.util.stream.Collectors;"
   ]
  },
  {
   "cell_type": "code",
   "execution_count": null,
   "id": "1c9659cbd0a72ad5",
   "metadata": {},
   "outputs": [],
   "source": [
    "String computeAndFormatPrimes(int n) {\n",
    "    List<Integer> factors = primeFactors(n);\n",
    "    return factors.stream()\n",
    "                .map(m -> m.toString() )\n",
    "                .collect(Collectors.joining( \",\" ));\n",
    "}"
   ]
  },
  {
   "cell_type": "code",
   "execution_count": null,
   "id": "a3f1c64e76e15322",
   "metadata": {},
   "outputs": [],
   "source": [
    "computeAndFormatPrimes(1021020);"
   ]
  },
  {
   "cell_type": "markdown",
   "id": "64f95487411586cd",
   "metadata": {
    "lang": "de",
    "slideshow": {
     "slide_type": "subslide"
    },
    "tags": [
     "subslide"
    ]
   },
   "source": [
    "\n",
    "Funktion `computeAndWritePrimes`"
   ]
  },
  {
   "cell_type": "code",
   "execution_count": null,
   "id": "c04b4db39f612db5",
   "metadata": {},
   "outputs": [],
   "source": [
    "void computeAndWritePrimes(int n) {\n",
    "    System.out.println(computeAndFormatPrimes(n));\n",
    "}"
   ]
  },
  {
   "cell_type": "code",
   "execution_count": null,
   "id": "59fc292bca486c1c",
   "metadata": {},
   "outputs": [],
   "source": [
    "computeAndWritePrimes(1021020);"
   ]
  },
  {
   "cell_type": "markdown",
   "id": "6162f3be3830b3a6",
   "metadata": {
    "lang": "de",
    "slideshow": {
     "slide_type": "subslide"
    },
    "tags": [
     "subslide"
    ]
   },
   "source": [
    "\n",
    "## Kata: FizzBuzz\n",
    "\n",
    "Schreiben Sie eine Funktion\n",
    "```java\n",
    "void printFizzBuzz(int n);\n",
    "```\n",
    "die die Zahlen von 1 bis `n` auf dem Bildschirm ausgibt aber dabei\n",
    "\n",
    "- jede Zahl, die durch 3 teilbar ist, durch `Fizz` ersetzt\n",
    "- jede Zahl, die durch 5 teilbar ist, durch `Buzz` ersetzt\n",
    "- jede Zahl, die durch 3 und 5 teilbar ist, durch `FizzBuzz` ersetzt\n"
   ]
  },
  {
   "cell_type": "markdown",
   "id": "b175a96d9a91d1f5",
   "metadata": {
    "lang": "de",
    "slideshow": {
     "slide_type": "subslide"
    },
    "tags": [
     "subslide"
    ]
   },
   "source": [
    "\n",
    "Zum Beispiel soll `fizz_buzz(16)` die folgende Ausgabe erzeugen:\n",
    "\n",
    "```plaintext\n",
    "1\n",
    "2\n",
    "Fizz\n",
    "4\n",
    "Buzz\n",
    "Fizz\n",
    "7\n",
    "8\n",
    "Fizz\n",
    "Buzz\n",
    "11\n",
    "Fizz\n",
    "13\n",
    "14\n",
    "FizzBuzz\n",
    "16\n",
    "```"
   ]
  },
  {
   "cell_type": "code",
   "execution_count": null,
   "id": "f7c44a325c041857",
   "metadata": {
    "slideshow": {
     "slide_type": "subslide"
    },
    "tags": [
     "subslide",
     "alt"
    ]
   },
   "outputs": [],
   "source": [
    "public class FizzBuzz {\n",
    "    public static void printFizzBuzz(int n) {\n",
    "        for (int i = 1; i <= n; i++) {\n",
    "            if (i % 3 == 0 && i % 5 == 0) {\n",
    "                System.out.println(\"FizzBuzz\");\n",
    "            } else if (i % 3 == 0) {\n",
    "                System.out.println(\"Fizz\");\n",
    "            } else if (i % 5 == 0) {\n",
    "                System.out.println(\"Buzz\");\n",
    "            } else {\n",
    "                System.out.println(i);\n",
    "            }\n",
    "        }\n",
    "    }\n",
    "\n",
    "    public static void main(String[] args) {\n",
    "        // Example usage\n",
    "        printFizzBuzz(16);\n",
    "    }\n",
    "}"
   ]
  },
  {
   "cell_type": "code",
   "execution_count": null,
   "id": "a9b3eed072f81ee1",
   "metadata": {
    "slideshow": {
     "slide_type": "subslide"
    },
    "tags": [
     "subslide",
     "alt"
    ]
   },
   "outputs": [],
   "source": [
    "import java.io.PrintWriter;\n",
    "import java.io.StringWriter;\n",
    "import java.util.ArrayList;\n",
    "import java.util.List;"
   ]
  },
  {
   "cell_type": "code",
   "execution_count": null,
   "id": "bb2d2e9b79080461",
   "metadata": {
    "slideshow": {
     "slide_type": "subslide"
    },
    "tags": [
     "subslide",
     "alt"
    ]
   },
   "outputs": [],
   "source": [
    "public class FizzBuzz {\n",
    "    public static List<String> generateFizzBuzz(int n) {\n",
    "        if (n < 0)\n",
    "            throw new IllegalArgumentException(\"Input must be non-negative\");\n",
    "\n",
    "        List<String> result = new ArrayList<>();\n",
    "        for (int i = 1; i <= n; i++) {\n",
    "            if (i % 3 == 0 && i % 5 == 0)\n",
    "                result.add(\"FizzBuzz\");\n",
    "            else if (i % 3 == 0)\n",
    "                result.add(\"Fizz\");\n",
    "            else if (i % 5 == 0)\n",
    "                result.add(\"Buzz\");\n",
    "            else\n",
    "                result.add(String.valueOf(i));\n",
    "        }\n",
    "        return result;\n",
    "    }\n",
    "\n",
    "    public static void printFizzBuzz(int n, PrintWriter output) {\n",
    "        List<String> fizzBuzzList = generateFizzBuzz(n);\n",
    "        for (String item : fizzBuzzList) {\n",
    "            output.println(item);\n",
    "        }\n",
    "    }\n",
    "\n",
    "    public static void main(String[] args) {\n",
    "        // Example usage\n",
    "        printFizzBuzz(16, new PrintWriter(System.out, true));\n",
    "\n",
    "        // Example usage with custom output\n",
    "        StringWriter stringWriter = new StringWriter();\n",
    "        PrintWriter printWriter = new PrintWriter(stringWriter);\n",
    "        printFizzBuzz(16, printWriter);\n",
    "        System.out.println(\"Custom output:\");\n",
    "        System.out.println(stringWriter.toString());\n",
    "    }\n",
    "}"
   ]
  },
  {
   "cell_type": "code",
   "execution_count": null,
   "id": "122442f9f8ffe35f",
   "metadata": {
    "slideshow": {
     "slide_type": "subslide"
    },
    "tags": [
     "subslide",
     "alt"
    ]
   },
   "outputs": [],
   "source": [
    "import org.junit.jupiter.api.Test;\n",
    "import org.junit.jupiter.params.ParameterizedTest;\n",
    "import org.junit.jupiter.params.provider.CsvSource;\n",
    "\n",
    "import java.io.PrintWriter;\n",
    "import java.io.StringWriter;\n",
    "import java.util.Arrays;\n",
    "import java.util.List;\n",
    "\n",
    "import static org.junit.jupiter.api.Assertions.*;"
   ]
  },
  {
   "cell_type": "code",
   "execution_count": null,
   "id": "805dfa21db908ecc",
   "metadata": {
    "slideshow": {
     "slide_type": "subslide"
    },
    "tags": [
     "subslide",
     "alt"
    ]
   },
   "outputs": [],
   "source": [
    "class FizzBuzzTest {\n",
    "    @Test\n",
    "    void generateFizzBuzz_ReturnsCorrectSequenceFor15() {\n",
    "        List<String> expected = Arrays.asList(\n",
    "            \"1\", \"2\", \"Fizz\", \"4\", \"Buzz\", \"Fizz\", \"7\", \"8\", \"Fizz\", \"Buzz\", \"11\", \"Fizz\", \"13\", \"14\", \"FizzBuzz\"\n",
    "        );\n",
    "        List<String> result = FizzBuzz.generateFizzBuzz(15);\n",
    "        assertEquals(expected, result);\n",
    "    }\n",
    "\n",
    "    @ParameterizedTest\n",
    "    @CsvSource({\n",
    "        \"1, 1\",\n",
    "        \"3, Fizz\",\n",
    "        \"5, Buzz\",\n",
    "        \"15, FizzBuzz\"\n",
    "    })\n",
    "    void generateFizzBuzz_ReturnsCorrectValueForSpecificNumbers(int number, String expected) {\n",
    "        List<String> result = FizzBuzz.generateFizzBuzz(number);\n",
    "        assertEquals(expected, result.get(result.size() - 1));\n",
    "    }\n",
    "\n",
    "    @Test\n",
    "    void generateFizzBuzz_ReturnsEmptyListForZero() {\n",
    "        List<String> result = FizzBuzz.generateFizzBuzz(0);\n",
    "        assertTrue(result.isEmpty());\n",
    "    }\n",
    "\n",
    "    @Test\n",
    "    void generateFizzBuzz_ThrowsIllegalArgumentExceptionForNegativeNumber() {\n",
    "        assertThrows(IllegalArgumentException.class, () -> FizzBuzz.generateFizzBuzz(-1));\n",
    "    }\n",
    "\n",
    "    @Test\n",
    "    void generateFizzBuzz_ReturnsCorrectSequenceFor100() {\n",
    "        List<String> result = FizzBuzz.generateFizzBuzz(100);\n",
    "        assertEquals(100, result.size());\n",
    "        assertEquals(\"1\", result.get(0));\n",
    "        assertEquals(\"2\", result.get(1));\n",
    "        assertEquals(\"Fizz\", result.get(2));\n",
    "        assertEquals(\"4\", result.get(3));\n",
    "        assertEquals(\"Buzz\", result.get(4));\n",
    "        assertEquals(\"Fizz\", result.get(5));\n",
    "        assertEquals(\"FizzBuzz\", result.get(14));\n",
    "        assertEquals(\"FizzBuzz\", result.get(29));\n",
    "        assertEquals(\"FizzBuzz\", result.get(44));\n",
    "        assertEquals(\"Buzz\", result.get(99));\n",
    "    }\n",
    "\n",
    "    @Test\n",
    "    void printFizzBuzz_WritesToProvidedPrintWriter() {\n",
    "        StringWriter stringWriter = new StringWriter();\n",
    "        PrintWriter printWriter = new PrintWriter(stringWriter);\n",
    "        FizzBuzz.printFizzBuzz(5, printWriter);\n",
    "        String[] result = stringWriter.toString().trim().split(System.lineSeparator());\n",
    "        assertArrayEquals(new String[]{\"1\", \"2\", \"Fizz\", \"4\", \"Buzz\"}, result);\n",
    "    }\n",
    "}"
   ]
  }
 ],
 "metadata": {
  "jupytext": {
   "cell_metadata_filter": "tags,lang,-all",
   "encoding": "// -*- coding: utf-8 -*-",
   "main_language": "java",
   "notebook_metadata_filter": "-all"
  },
  "kernelspec": {
   "display_name": "Java",
   "language": "java",
   "name": "java"
  },
  "language_info": {
   "codemirror_mode": "java",
   "file_extension": ".java",
   "mimetype": "text/java",
   "name": "Java",
   "pygments_lexer": "java",
   "version": ""
  }
 },
 "nbformat": 4,
 "nbformat_minor": 5
}
