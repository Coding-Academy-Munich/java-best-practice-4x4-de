{
 "cells": [
  {
   "cell_type": "markdown",
   "id": "14e7deb35bea2fcb",
   "metadata": {
    "lang": "de",
    "slideshow": {
     "slide_type": "slide"
    },
    "tags": [
     "slide"
    ]
   },
   "source": [
    "\n",
    "<img src=\"data:image/svg+xml;base64,PHN2ZyB4bWxucz0iaHR0cDovL3d3dy53My5vcmcvMjAwMC9zdmciIHdpZHRoPSI2NCIgaGVpZ2h0\n",
    "PSI2NCIgdmlld0JveD0iMCAwIDMyIDMyIj48cGF0aCBkPSJNMTEuNjIyIDI0Ljc0cy0xLjIzLjc0\n",
    "OC44NTUuOTYyYzIuNTEuMzIgMy44NDcuMjY3IDYuNjI1LS4yNjdhMTAuMDIgMTAuMDIgMCAwIDAg\n",
    "MS43NjMuODU1Yy02LjI1IDIuNjcyLTE0LjE2LS4xNi05LjI0NC0xLjU1em0tLjgtMy40NzNzLTEu\n",
    "MzM2IDEuMDE1Ljc0OCAxLjIzYzIuNzI1LjI2NyA0Ljg2Mi4zMiA4LjU1LS40MjdhMy4yNiAzLjI2\n",
    "IDAgMCAwIDEuMjgyLjgwMWMtNy41MzQgMi4yNDQtMTUuOTc2LjIxNC0xMC41OC0xLjYwM3ptMTQu\n",
    "NzQ3IDYuMDlzLjkwOC43NDgtMS4wMTUgMS4zMzZjLTMuNTggMS4wNy0xNS4wMTQgMS4zOS0xOC4y\n",
    "MiAwLTEuMTIyLS40OCAxLjAxNS0xLjE3NSAxLjctMS4yODIuNjk1LS4xNiAxLjA3LS4xNiAxLjA3\n",
    "LS4xNi0xLjIzLS44NTUtOC4xNzUgMS43NjMtMy41MjYgMi41MSAxMi43NyAyLjA4NCAyMy4yOTYt\n",
    "LjkwOCAxOS45ODMtMi40MDR6TTEyLjIgMTcuNjMzcy01LjgyNCAxLjM5LTIuMDg0IDEuODdjMS42\n",
    "MDMuMjE0IDQuNzU1LjE2IDcuNjk0LS4wNTMgMi40MDQtLjIxNCA0LjgxLS42NCA0LjgxLS42NHMt\n",
    "Ljg1NS4zNzQtMS40NDMuNzQ4Yy01LjkzIDEuNTUtMTcuMzEyLjg1NS0xNC4wNTItLjc0OCAyLjc3\n",
    "OC0xLjMzNiA1LjA3Ni0xLjE3NSA1LjA3Ni0xLjE3NXptMTAuNDIgNS44MjRjNS45ODQtMy4xIDMu\n",
    "MjA2LTYuMDkgMS4yODItNS43MTctLjQ4LjEwNy0uNjk1LjIxNC0uNjk1LjIxNHMuMTYtLjMyLjUz\n",
    "NC0uNDI3YzMuNzk0LTEuMzM2IDYuNzg2IDQuMDA3LTEuMjMgNi4wOSAwIDAgLjA1My0uMDUzLjEw\n",
    "Ny0uMTZ6bS05LjgzIDguNDQyYzUuNzcuMzc0IDE0LjU4Ny0uMjE0IDE0LjgtMi45NCAwIDAtLjQy\n",
    "NyAxLjA3LTQuNzU1IDEuODctNC45MTYuOTA4LTExLjAwNy44LTE0LjU4Ny4yMTQgMCAwIC43NDgu\n",
    "NjQgNC41NDIuODU1eiIgZmlsbD0iIzRlNzg5NiIvPjxwYXRoIGQ9Ik0xOC45OTYuMDAxczMuMzEz\n",
    "IDMuMzY2LTMuMTUyIDguNDQyYy01LjE4MyA0LjExNC0xLjE3NSA2LjQ2NSAwIDkuMTM3LTMuMDQ2\n",
    "LTIuNzI1LTUuMjM2LTUuMTMtMy43NC03LjM3M0MxNC4yOTQgNi44OTMgMjAuMzMyIDUuMyAxOC45\n",
    "OTYuMDAxem0tMS43IDE1LjMzNWMxLjU1IDEuNzYzLS40MjcgMy4zNjYtLjQyNyAzLjM2NnMzLjk1\n",
    "NC0yLjAzIDIuMTM3LTQuNTQyYy0xLjY1Ni0yLjQwNC0yLjk0LTMuNTggNC4wMDctNy41ODcgMCAw\n",
    "LTEwLjk1MyAyLjcyNS01LjcxNyA4Ljc2M3oiIGZpbGw9IiNmNTgyMTkiLz48L3N2Zz4=\n",
    "\"\n",
    "     alt=\"Java Logo\" style=\"display:block;margin:auto;width:5%\"/>\n",
    "<br>\n",
    "\n",
    "<div style=\"text-align:center; font-size:200%;\">\n",
    " <b>Zustandsbasiertes Testen</b>\n",
    "</div>\n",
    "<br/>\n",
    "<div style=\"text-align:center; font-size:120%;\">Dr. Matthias Hölzl</div>\n",
    "<br/>\n",
    "<div style=\"text-align:center;\">Coding-Akademie München</div>\n",
    "<br/>"
   ]
  },
  {
   "cell_type": "markdown",
   "id": "86d8b79fa35bee6a",
   "metadata": {
    "lang": "de",
    "slideshow": {
     "slide_type": "subslide"
    },
    "tags": [
     "subslide"
    ]
   },
   "source": [
    "\n",
    "## Zustandsbasiertes Testen\n",
    "\n",
    "Kann man das Verhalten eines Objekts durch ein Zustandsdiagramm beschreiben,\n",
    "so kann man sich beim Testen an den Zuständen und Transitionen orientieren\n",
    "\n",
    "- Ein zustandsbasierter Test wird durch eine Folge von Events beschrieben,\n",
    "  die die Zustandsmaschine steuern\n",
    "- Die erwarteten Ergebnisse sind\n",
    "  - die Zustände (falls beobachtbar) und\n",
    "  - die Aktivitäten bzw. Ausgaben, die durch die Eingabe-Events verursacht\n",
    "    werden\n",
    "- Es gibt verschiedene Methoden, um fehlerhafte Aktivitäten bzw. Ausgaben und\n",
    "  falsche Zustandsübergänge zu finden (z.B. Transition Tour, Distinguishing\n",
    "  Sequence)"
   ]
  },
  {
   "cell_type": "markdown",
   "id": "87d9df44b1464b9f",
   "metadata": {
    "lang": "de",
    "slideshow": {
     "slide_type": "subslide"
    },
    "tags": [
     "subslide"
    ]
   },
   "source": [
    "\n",
    "## Beispiel: Ampel\n",
    "\n",
    "<img src=\"img/traffic-light.png\"\n",
    "     alt=\"Zustandsmaschine für eine Ampel\"\n",
    "     style=\"width: 50%; margin-left: auto; margin-right: auto;\"/>"
   ]
  },
  {
   "cell_type": "code",
   "execution_count": null,
   "id": "a28a1d64b3915c10",
   "metadata": {
    "slideshow": {
     "slide_type": "subslide"
    },
    "tags": [
     "keep",
     "subslide"
    ]
   },
   "outputs": [],
   "source": [
    "public class TrafficLight {\n",
    "    private enum State { RED, YELLOW, GREEN }\n",
    "    private State currentState = State.RED;\n",
    "\n",
    "    public void change() {\n",
    "        switch (currentState) {\n",
    "            case RED:\n",
    "                currentState = State.GREEN;\n",
    "                break;\n",
    "            case YELLOW:\n",
    "                currentState = State.RED;\n",
    "                break;\n",
    "            case GREEN:\n",
    "                currentState = State.YELLOW;\n",
    "                break;\n",
    "        }\n",
    "    }\n",
    "\n",
    "    public String getState() {\n",
    "        return currentState.toString();\n",
    "    }\n",
    "}"
   ]
  },
  {
   "cell_type": "code",
   "execution_count": null,
   "id": "83e51a02b9df2ac1",
   "metadata": {
    "slideshow": {
     "slide_type": "subslide"
    },
    "tags": [
     "keep",
     "subslide"
    ]
   },
   "outputs": [],
   "source": [
    "%maven org.junit.jupiter:junit-jupiter-api:5.8.2\n",
    "%maven org.junit.jupiter:junit-jupiter-engine:5.8.2\n",
    "%maven org.junit.jupiter:junit-jupiter-params:5.8.2\n",
    "%maven org.junit.platform:junit-platform-launcher:1.9.3"
   ]
  },
  {
   "cell_type": "code",
   "execution_count": null,
   "id": "9f88a57bc21839c9",
   "metadata": {
    "tags": [
     "keep"
    ]
   },
   "outputs": [],
   "source": [
    "import org.junit.jupiter.api.Test;\n",
    "import org.junit.jupiter.api.BeforeEach;\n",
    "import org.junit.jupiter.params.ParameterizedTest;\n",
    "import org.junit.jupiter.params.provider.MethodSource;\n",
    "\n",
    "import static org.junit.jupiter.api.Assertions.*;"
   ]
  },
  {
   "cell_type": "code",
   "execution_count": null,
   "id": "9e34aa251c4f4aa1",
   "metadata": {
    "slideshow": {
     "slide_type": "subslide"
    },
    "tags": [
     "keep",
     "subslide"
    ]
   },
   "outputs": [],
   "source": [
    "%jars .\n",
    "%classpath testrunner-0.1.jar"
   ]
  },
  {
   "cell_type": "code",
   "execution_count": null,
   "id": "0d9a79fc77081dd9",
   "metadata": {
    "tags": [
     "keep"
    ]
   },
   "outputs": [],
   "source": [
    "import static testrunner.TestRunner.runTests;"
   ]
  },
  {
   "cell_type": "code",
   "execution_count": null,
   "id": "d61daebfc3808dbb",
   "metadata": {
    "slideshow": {
     "slide_type": "subslide"
    },
    "tags": [
     "keep",
     "subslide"
    ]
   },
   "outputs": [],
   "source": [
    "public class TrafficLightTest {\n",
    "    @Test\n",
    "    public void testTrafficLightStateTransitions() {\n",
    "        TrafficLight light = new TrafficLight();\n",
    "\n",
    "        assertEquals(\"RED\", light.getState());\n",
    "\n",
    "        light.change();\n",
    "        assertEquals(\"GREEN\", light.getState());\n",
    "\n",
    "        light.change();\n",
    "        assertEquals(\"YELLOW\", light.getState());\n",
    "\n",
    "        light.change();\n",
    "        assertEquals(\"RED\", light.getState());\n",
    "    }\n",
    "}"
   ]
  },
  {
   "cell_type": "code",
   "execution_count": null,
   "id": "8d49bf3ac17d825d",
   "metadata": {
    "slideshow": {
     "slide_type": "subslide"
    },
    "tags": [
     "keep",
     "subslide"
    ]
   },
   "outputs": [],
   "source": [
    "runTests(TrafficLightTest.class);"
   ]
  },
  {
   "cell_type": "code",
   "execution_count": null,
   "id": "c7592b4204b4f5c6",
   "metadata": {
    "slideshow": {
     "slide_type": "subslide"
    },
    "tags": [
     "keep",
     "subslide"
    ]
   },
   "outputs": [],
   "source": [
    "public class TrafficLightTest2 {\n",
    "    private TrafficLight light;\n",
    "\n",
    "    @BeforeEach\n",
    "    void setUp() {\n",
    "        light = new TrafficLight();\n",
    "    }\n",
    "\n",
    "    @Test\n",
    "    public void testInitialState() {\n",
    "        assertEquals(\"RED\", light.getState());\n",
    "    }\n",
    "\n",
    "    @Test\n",
    "    public void testRedToGreen() {\n",
    "        // Arrange\n",
    "        assertEquals(\"RED\", light.getState());\n",
    "\n",
    "        // Act\n",
    "        light.change();\n",
    "\n",
    "        // Assert\n",
    "        assertEquals(\"GREEN\", light.getState());\n",
    "    }\n",
    "\n",
    "    @Test\n",
    "    public void testGreenToYellow() {\n",
    "        // Arrange\n",
    "        light.change();\n",
    "        assertEquals(\"GREEN\", light.getState());\n",
    "\n",
    "        // Act\n",
    "        light.change();\n",
    "\n",
    "        // Assert\n",
    "        assertEquals(\"YELLOW\", light.getState());\n",
    "    }\n",
    "\n",
    "    @Test\n",
    "    public void testYellowToRed() {\n",
    "        // Arrange\n",
    "        light.change();\n",
    "        light.change();\n",
    "        assertEquals(\"YELLOW\", light.getState());\n",
    "\n",
    "        // Act\n",
    "        light.change();\n",
    "\n",
    "        // Assert\n",
    "        assertEquals(\"RED\", light.getState());\n",
    "    }\n",
    "}"
   ]
  },
  {
   "cell_type": "code",
   "execution_count": null,
   "id": "ef24c899890a719e",
   "metadata": {
    "slideshow": {
     "slide_type": "subslide"
    },
    "tags": [
     "keep",
     "subslide"
    ]
   },
   "outputs": [],
   "source": [
    "runTests(TrafficLightTest2.class);"
   ]
  },
  {
   "cell_type": "code",
   "execution_count": null,
   "id": "0b636984c6bca36f",
   "metadata": {
    "lines_to_next_cell": 2,
    "tags": [
     "keep"
    ]
   },
   "outputs": [],
   "source": [
    "import java.util.stream.Stream;\n",
    "import java.util.function.Consumer;"
   ]
  },
  {
   "cell_type": "code",
   "execution_count": null,
   "id": "a1a51754e047baa5",
   "metadata": {
    "slideshow": {
     "slide_type": "subslide"
    },
    "tags": [
     "keep",
     "subslide"
    ]
   },
   "outputs": [],
   "source": [
    "public class TrafficLightTest3 {\n",
    "    private TrafficLight light;\n",
    "\n",
    "    @BeforeEach\n",
    "    void setUp() {\n",
    "        light = new TrafficLight();\n",
    "    }\n",
    "\n",
    "    @ParameterizedTest\n",
    "    @MethodSource\n",
    "    public void transitionsFromRedState(StateTransitionTestCase testCase) {\n",
    "        // Arrange\n",
    "        assertEquals(\"RED\", light.getState());\n",
    "\n",
    "        // Act\n",
    "        testCase.action.accept(light);\n",
    "\n",
    "        // Assert\n",
    "        assertEquals(testCase.expectedState, light.getState());\n",
    "    }\n",
    "\n",
    "    private static Stream<StateTransitionTestCase> transitionsFromRedState() {\n",
    "        return Stream.of(\n",
    "            new StateTransitionTestCase(\n",
    "                \"RED -- change --> GREEN\",\n",
    "                TrafficLight::change,\n",
    "                \"GREEN\"\n",
    "            )\n",
    "        );\n",
    "    }\n",
    "\n",
    "    @ParameterizedTest\n",
    "    @MethodSource\n",
    "    public void transitionsFromGreenState(StateTransitionTestCase testCase) {\n",
    "        // Arrange\n",
    "        light.change();\n",
    "        assertEquals(\"GREEN\", light.getState());\n",
    "\n",
    "        // Act\n",
    "        testCase.action.accept(light);\n",
    "\n",
    "        // Assert\n",
    "        assertEquals(testCase.expectedState, light.getState());\n",
    "    }\n",
    "\n",
    "    private static Stream<StateTransitionTestCase> transitionsFromGreenState() {\n",
    "        return Stream.of(\n",
    "            new StateTransitionTestCase(\n",
    "                \"GREEN -- change --> YELLOW\",\n",
    "                TrafficLight::change,\n",
    "                \"YELLOW\"\n",
    "            )\n",
    "        );\n",
    "    }\n",
    "\n",
    "    @ParameterizedTest\n",
    "    @MethodSource\n",
    "    public void transitionsFromYellowState(StateTransitionTestCase testCase) {\n",
    "        // Arrange\n",
    "        light.change();\n",
    "        light.change();\n",
    "        assertEquals(\"YELLOW\", light.getState());\n",
    "\n",
    "        // Act\n",
    "        testCase.action.accept(light);\n",
    "\n",
    "        // Assert\n",
    "        assertEquals(testCase.expectedState, light.getState());\n",
    "    }\n",
    "\n",
    "    private static Stream<StateTransitionTestCase> transitionsFromYellowState() {\n",
    "        return Stream.of(\n",
    "            new StateTransitionTestCase(\n",
    "                \"YELLOW -- change --> RED\",\n",
    "                TrafficLight::change,\n",
    "                \"RED\"\n",
    "            )\n",
    "        );\n",
    "    }\n",
    "\n",
    "    private static class StateTransitionTestCase {\n",
    "        String description;\n",
    "        java.util.function.Consumer<TrafficLight> action;\n",
    "        String expectedState;\n",
    "\n",
    "        StateTransitionTestCase(String description, Consumer<TrafficLight> action, String expectedState) {\n",
    "            this.description = description;\n",
    "            this.action = action;\n",
    "            this.expectedState = expectedState;\n",
    "        }\n",
    "\n",
    "        @Override\n",
    "        public String toString() {\n",
    "            return description;\n",
    "        }\n",
    "    }\n",
    "}"
   ]
  },
  {
   "cell_type": "code",
   "execution_count": null,
   "id": "4c6c34177525674e",
   "metadata": {
    "slideshow": {
     "slide_type": "subslide"
    },
    "tags": [
     "keep",
     "subslide"
    ]
   },
   "outputs": [],
   "source": [
    "runTests(TrafficLightTest3.class);"
   ]
  },
  {
   "cell_type": "markdown",
   "id": "ba394c0f7369994c",
   "metadata": {
    "lang": "de",
    "slideshow": {
     "slide_type": "slide"
    },
    "tags": [
     "slide"
    ]
   },
   "source": [
    "\n",
    "## Workshop: Zustandsbasiertes Testen eines Kaffeeautomaten\n",
    "\n",
    "Implementieren Sie eine `CoffeeMachine` Klasse mit folgenden Eigenschaften:\n",
    "\n",
    "- Zustände: `OFF`, `READY`, `BREWING`, `MAINTENANCE`\n",
    "- Methoden:\n",
    "  - `turnOn()`: Schaltet die Maschine ein (von `OFF` zu `READY`)\n",
    "  - `turnOff()`: Schaltet die Maschine aus (von jedem Zustand zu `OFF`)\n",
    "  - `brew()`: Startet den Brühvorgang (von `READY` zu `BREWING,` dann\n",
    "    automatisch zurück zu `READY`)\n",
    "  - `startMaintenance()`: Startet den Wartungsmodus (von `READY` zu\n",
    "    `MAINTENANCE`)\n",
    "  - `finishMaintenance()`: Beendet den Wartungsmodus (von `MAINTENANCE` zu\n",
    "    `READY`)\n",
    "  - `getState()`: Gibt den aktuellen Zustand zurück\n",
    "\n",
    "Schreiben Sie Tests, die alle möglichen Zustandsübergänge abdecken und\n",
    "überprüfen Sie, ob \"unerlaubte\" Übergänge korrekt behandelt werden, d.h. dass\n",
    "Aktionen den Zustand der Zustandsmaschine nicht ändern, wenn sie in Zuständen\n",
    "ausgeführt werden, für die keine Transition angegeben ist."
   ]
  },
  {
   "cell_type": "code",
   "execution_count": null,
   "id": "0d0a31f52c205bb2",
   "metadata": {
    "slideshow": {
     "slide_type": "subslide"
    },
    "tags": [
     "keep",
     "subslide"
    ]
   },
   "outputs": [],
   "source": [
    "public class CoffeeMachine {\n",
    "    public enum State {\n",
    "        OFF, READY, BREWING, MAINTENANCE\n",
    "    }\n",
    "\n",
    "    private State currentState;\n",
    "\n",
    "    public CoffeeMachine() {\n",
    "        currentState = State.OFF;\n",
    "    }\n",
    "\n",
    "    public void turnOn() {\n",
    "        if (currentState == State.OFF) {\n",
    "            currentState = State.READY;\n",
    "        }\n",
    "    }\n",
    "\n",
    "    public void turnOff() {\n",
    "        currentState = State.OFF;\n",
    "    }\n",
    "\n",
    "    public void brew() {\n",
    "        if (currentState == State.READY) {\n",
    "            currentState = State.BREWING;\n",
    "            // Simulate brewing process\n",
    "            currentState = State.READY;\n",
    "        }\n",
    "    }\n",
    "\n",
    "    public void startMaintenance() {\n",
    "        if (currentState == State.READY) {\n",
    "            currentState = State.MAINTENANCE;\n",
    "        }\n",
    "    }\n",
    "\n",
    "    public void finishMaintenance() {\n",
    "        if (currentState == State.MAINTENANCE) {\n",
    "            currentState = State.READY;\n",
    "        }\n",
    "    }\n",
    "\n",
    "    public State getState() {\n",
    "        return currentState;\n",
    "    }\n",
    "}"
   ]
  },
  {
   "cell_type": "code",
   "execution_count": null,
   "id": "92837982508ee663",
   "metadata": {
    "slideshow": {
     "slide_type": "subslide"
    },
    "tags": [
     "keep",
     "subslide"
    ]
   },
   "outputs": [],
   "source": [
    "%maven org.junit.jupiter:junit-jupiter-api:5.8.2\n",
    "%maven org.junit.jupiter:junit-jupiter-engine:5.8.2\n",
    "%maven org.junit.jupiter:junit-jupiter-params:5.8.2\n",
    "%maven org.junit.platform:junit-platform-launcher:1.9.3"
   ]
  },
  {
   "cell_type": "code",
   "execution_count": null,
   "id": "98a02ff81c110a65",
   "metadata": {
    "tags": [
     "keep"
    ]
   },
   "outputs": [],
   "source": [
    "import org.junit.jupiter.api.Test;\n",
    "import org.junit.jupiter.api.BeforeEach;\n",
    "import org.junit.jupiter.params.ParameterizedTest;\n",
    "import org.junit.jupiter.params.provider.MethodSource;\n",
    "\n",
    "import static org.junit.jupiter.api.Assertions.*;"
   ]
  },
  {
   "cell_type": "code",
   "execution_count": null,
   "id": "384c7885f82a8b96",
   "metadata": {
    "slideshow": {
     "slide_type": "subslide"
    },
    "tags": [
     "keep",
     "subslide"
    ]
   },
   "outputs": [],
   "source": [
    "%jars .\n",
    "%classpath testrunner-0.1.jar"
   ]
  },
  {
   "cell_type": "code",
   "execution_count": null,
   "id": "97a925d09e7d082f",
   "metadata": {
    "tags": [
     "keep"
    ]
   },
   "outputs": [],
   "source": [
    "import static testrunner.TestRunner.runTests;"
   ]
  },
  {
   "cell_type": "code",
   "execution_count": null,
   "id": "e523cc4d64768c7d",
   "metadata": {
    "lines_to_next_cell": 2,
    "tags": [
     "keep"
    ]
   },
   "outputs": [],
   "source": [
    "import java.util.stream.Stream;\n",
    "import java.util.function.Consumer;"
   ]
  },
  {
   "cell_type": "code",
   "execution_count": null,
   "id": "5cd221b528767ad1",
   "metadata": {
    "slideshow": {
     "slide_type": "subslide"
    },
    "tags": [
     "subslide"
    ]
   },
   "outputs": [],
   "source": [
    "class CoffeeMachineTest {\n",
    "    private CoffeeMachine machine;\n",
    "\n",
    "    @BeforeEach\n",
    "    void setUp() {\n",
    "        machine = new CoffeeMachine();\n",
    "    }\n",
    "\n",
    "    @Test\n",
    "    void testInitialState() {\n",
    "        assertEquals(CoffeeMachine.State.OFF, machine.getState());\n",
    "    }\n",
    "\n",
    "    @ParameterizedTest\n",
    "    @MethodSource\n",
    "    void transitionsFromOff(TransitionTestCase testCase) {\n",
    "        assertEquals(CoffeeMachine.State.OFF, machine.getState());\n",
    "\n",
    "        testCase.action.accept(machine);\n",
    "        assertEquals(testCase.expectedState, machine.getState());\n",
    "    }\n",
    "\n",
    "    private static Stream<TransitionTestCase> transitionsFromOff() {\n",
    "        return Stream.of(\n",
    "            new TransitionTestCase(\n",
    "                \"OFF -- turnOn --> READY\",\n",
    "                machine -> machine.turnOn(),\n",
    "                CoffeeMachine.State.READY\n",
    "            ),\n",
    "            new TransitionTestCase(\n",
    "                \"OFF -- turnOff --> OFF\",\n",
    "                machine -> machine.turnOff(),\n",
    "                CoffeeMachine.State.OFF\n",
    "            ),\n",
    "            new TransitionTestCase(\n",
    "                \"OFF -- brew --> OFF\",\n",
    "                machine -> machine.brew(),\n",
    "                CoffeeMachine.State.OFF\n",
    "            ),\n",
    "            new TransitionTestCase(\n",
    "                \"OFF -- startMaintenance --> OFF\",\n",
    "                machine -> machine.startMaintenance(),\n",
    "                CoffeeMachine.State.OFF\n",
    "            ),\n",
    "            new TransitionTestCase(\n",
    "                \"OFF -- finishMaintenance --> OFF\",\n",
    "                machine -> machine.finishMaintenance(),\n",
    "                CoffeeMachine.State.OFF\n",
    "            )\n",
    "        );\n",
    "    }\n",
    "\n",
    "    @ParameterizedTest\n",
    "    @MethodSource\n",
    "    void transitionsFromReady(TransitionTestCase testCase) {\n",
    "        machine.turnOn();\n",
    "        assertEquals(CoffeeMachine.State.READY, machine.getState());\n",
    "\n",
    "        testCase.action.accept(machine);\n",
    "        assertEquals(testCase.expectedState, machine.getState());\n",
    "    }\n",
    "\n",
    "    private static Stream<TransitionTestCase> transitionsFromReady() {\n",
    "        return Stream.of(\n",
    "            new TransitionTestCase(\n",
    "                \"READY -- turnOn --> READY\",\n",
    "                machine -> machine.turnOn(),\n",
    "                CoffeeMachine.State.READY\n",
    "            ),\n",
    "            new TransitionTestCase(\n",
    "                \"READY -- turnOff --> OFF\",\n",
    "                machine -> machine.turnOff(),\n",
    "                CoffeeMachine.State.OFF\n",
    "            ),\n",
    "            new TransitionTestCase(\n",
    "                \"READY -- brew --> READY\",\n",
    "                machine -> machine.brew(),\n",
    "                CoffeeMachine.State.READY\n",
    "            ),\n",
    "            new TransitionTestCase(\n",
    "                \"READY -- startMaintenance --> MAINTENANCE\",\n",
    "                machine -> machine.startMaintenance(),\n",
    "                CoffeeMachine.State.MAINTENANCE\n",
    "            ),\n",
    "            new TransitionTestCase(\n",
    "                \"READY -- finishMaintenance --> READY\",\n",
    "                machine -> machine.finishMaintenance(),\n",
    "                CoffeeMachine.State.READY\n",
    "            )\n",
    "        );\n",
    "    }\n",
    "\n",
    "    @ParameterizedTest\n",
    "    @MethodSource\n",
    "    void transitionsFromMaintenance(TransitionTestCase testCase) {\n",
    "        machine.turnOn();\n",
    "        machine.startMaintenance();\n",
    "        assertEquals(CoffeeMachine.State.MAINTENANCE, machine.getState());\n",
    "\n",
    "        testCase.action.accept(machine);\n",
    "        assertEquals(testCase.expectedState, machine.getState());\n",
    "    }\n",
    "\n",
    "    private static Stream<TransitionTestCase> transitionsFromMaintenance() {\n",
    "        return Stream.of(\n",
    "            new TransitionTestCase(\n",
    "                \"MAINTENANCE -- turnOn --> MAINTENANCE\",\n",
    "                machine -> machine.turnOn(),\n",
    "                CoffeeMachine.State.MAINTENANCE\n",
    "            ),\n",
    "            new TransitionTestCase(\n",
    "                \"MAINTENANCE -- turnOff --> OFF\",\n",
    "                machine -> machine.turnOff(),\n",
    "                CoffeeMachine.State.OFF\n",
    "            ),\n",
    "            new TransitionTestCase(\n",
    "                \"MAINTENANCE -- brew --> MAINTENANCE\",\n",
    "                machine -> machine.brew(),\n",
    "                CoffeeMachine.State.MAINTENANCE\n",
    "            ),\n",
    "            new TransitionTestCase(\n",
    "                \"MAINTENANCE -- startMaintenance --> MAINTENANCE\",\n",
    "                machine -> machine.startMaintenance(),\n",
    "                CoffeeMachine.State.MAINTENANCE\n",
    "            ),\n",
    "            new TransitionTestCase(\n",
    "                \"MAINTENANCE -- finishMaintenance --> READY\",\n",
    "                machine -> machine.finishMaintenance(),\n",
    "                CoffeeMachine.State.READY\n",
    "            )\n",
    "        );\n",
    "    }\n",
    "\n",
    "    private static class TransitionTestCase {\n",
    "        String description;\n",
    "        java.util.function.Consumer<CoffeeMachine> action;\n",
    "        CoffeeMachine.State expectedState;\n",
    "\n",
    "        TransitionTestCase(String description, Consumer<CoffeeMachine> action, CoffeeMachine.State expectedState) {\n",
    "            this.description = description;\n",
    "            this.action = action;\n",
    "            this.expectedState = expectedState;\n",
    "        }\n",
    "\n",
    "        @Override\n",
    "        public String toString() {\n",
    "            return description;\n",
    "        }\n",
    "    }\n",
    "}"
   ]
  },
  {
   "cell_type": "code",
   "execution_count": null,
   "id": "87af4d4e5f7f059d",
   "metadata": {},
   "outputs": [],
   "source": [
    "runTests(CoffeeMachineTest.class);"
   ]
  },
  {
   "cell_type": "code",
   "execution_count": null,
   "id": "f50c028209a974fc",
   "metadata": {
    "slideshow": {
     "slide_type": "subslide"
    },
    "tags": [
     "keep",
     "subslide"
    ]
   },
   "outputs": [],
   "source": [
    "public class ObservableCoffeeMachine {\n",
    "    public enum State {\n",
    "        OFF, READY, BREWING, MAINTENANCE\n",
    "    }\n",
    "\n",
    "    private State currentState;\n",
    "    private List<StateChangeObserver> observers = new ArrayList<>();\n",
    "\n",
    "    public ObservableCoffeeMachine() {\n",
    "        currentState = State.OFF;\n",
    "    }\n",
    "\n",
    "    public void addObserver(StateChangeObserver observer) {\n",
    "        observers.add(observer);\n",
    "    }\n",
    "\n",
    "    private void notifyObservers(State oldState, State newState) {\n",
    "        for (StateChangeObserver observer : observers) {\n",
    "            observer.onStateChange(oldState, newState);\n",
    "        }\n",
    "    }\n",
    "\n",
    "    private void changeState(State newState) {\n",
    "        State oldState = currentState;\n",
    "        currentState = newState;\n",
    "        if (oldState != newState) {\n",
    "            notifyObservers(oldState, newState);\n",
    "        }\n",
    "    }\n",
    "\n",
    "    public void turnOn() {\n",
    "        if (currentState == State.OFF) {\n",
    "            changeState(State.READY);\n",
    "        }\n",
    "    }\n",
    "\n",
    "    public void turnOff() {\n",
    "        changeState(State.OFF);\n",
    "    }\n",
    "\n",
    "    public void brew() {\n",
    "        if (currentState == State.READY) {\n",
    "            changeState(State.BREWING);\n",
    "            // Simulate brewing process\n",
    "            changeState(State.READY);\n",
    "        }\n",
    "    }\n",
    "\n",
    "    public void startMaintenance() {\n",
    "        if (currentState == State.READY) {\n",
    "            changeState(State.MAINTENANCE);\n",
    "        }\n",
    "    }\n",
    "\n",
    "    public void finishMaintenance() {\n",
    "        if (currentState == State.MAINTENANCE) {\n",
    "            changeState(State.READY);\n",
    "        }\n",
    "    }\n",
    "\n",
    "    public State getState() {\n",
    "        return currentState;\n",
    "    }\n",
    "\n",
    "    public interface StateChangeObserver {\n",
    "        void onStateChange(State oldState, State newState);\n",
    "    }\n",
    "}"
   ]
  },
  {
   "cell_type": "code",
   "execution_count": null,
   "id": "5639da13d72950f2",
   "metadata": {
    "slideshow": {
     "slide_type": "subslide"
    },
    "tags": [
     "keep",
     "subslide"
    ]
   },
   "outputs": [],
   "source": [
    "import java.util.ArrayList;\n",
    "import java.util.List;"
   ]
  },
  {
   "cell_type": "code",
   "execution_count": null,
   "id": "ff957d48f8cbde90",
   "metadata": {
    "tags": [
     "keep"
    ]
   },
   "outputs": [],
   "source": [
    "class StateChangeSpy implements ObservableCoffeeMachine.StateChangeObserver {\n",
    "    private List<ObservableCoffeeMachine.State> stateChanges = new ArrayList<>();\n",
    "\n",
    "    @Override\n",
    "    public void onStateChange(ObservableCoffeeMachine.State oldState, ObservableCoffeeMachine.State newState) {\n",
    "        stateChanges.add(newState);\n",
    "    }\n",
    "\n",
    "    public List<ObservableCoffeeMachine.State> getStateChanges() {\n",
    "        return new ArrayList<>(stateChanges);\n",
    "    }\n",
    "\n",
    "    public void reset() {\n",
    "        stateChanges.clear();\n",
    "    }\n",
    "}"
   ]
  },
  {
   "cell_type": "code",
   "execution_count": null,
   "id": "683842d3aee43b16",
   "metadata": {
    "slideshow": {
     "slide_type": "subslide"
    },
    "tags": [
     "keep",
     "subslide"
    ]
   },
   "outputs": [],
   "source": [
    "class ObservableCoffeeMachineTest {\n",
    "    private ObservableCoffeeMachine machine;\n",
    "    private StateChangeSpy spy;\n",
    "\n",
    "    @BeforeEach\n",
    "    void setUp() {\n",
    "        machine = new ObservableCoffeeMachine();\n",
    "        spy = new StateChangeSpy();\n",
    "        machine.addObserver(spy);\n",
    "    }\n",
    "\n",
    "    @Test\n",
    "    void testInitialState() {\n",
    "        assertEquals(ObservableCoffeeMachine.State.OFF, machine.getState());\n",
    "    }\n",
    "\n",
    "    @ParameterizedTest\n",
    "    @MethodSource\n",
    "    void transitionsFromOff(TransitionTestCase testCase) {\n",
    "        assertEquals(ObservableCoffeeMachine.State.OFF, machine.getState());\n",
    "        spy.reset();\n",
    "\n",
    "        testCase.action.accept(machine);\n",
    "        assertEquals(testCase.expectedState, machine.getState());\n",
    "        assertIterableEquals(testCase.expectedTransitions, spy.getStateChanges());\n",
    "    }\n",
    "\n",
    "    private static Stream<TransitionTestCase> transitionsFromOff() {\n",
    "        return Stream.of(\n",
    "            new TransitionTestCase(\n",
    "                \"OFF -- turnOn --> READY\",\n",
    "                machine -> machine.turnOn(),\n",
    "                ObservableCoffeeMachine.State.READY,\n",
    "                List.of(ObservableCoffeeMachine.State.READY)\n",
    "            ),\n",
    "            new TransitionTestCase(\n",
    "                \"OFF -- turnOff --> OFF\",\n",
    "                machine -> machine.turnOff(),\n",
    "                ObservableCoffeeMachine.State.OFF\n",
    "            ),\n",
    "            new TransitionTestCase(\n",
    "                \"OFF -- brew --> OFF\",\n",
    "                machine -> machine.brew(),\n",
    "                ObservableCoffeeMachine.State.OFF\n",
    "            ),\n",
    "            new TransitionTestCase(\n",
    "                \"OFF -- startMaintenance --> OFF\",\n",
    "                machine -> machine.startMaintenance(),\n",
    "                ObservableCoffeeMachine.State.OFF\n",
    "            ),\n",
    "            new TransitionTestCase(\n",
    "                \"OFF -- finishMaintenance --> OFF\",\n",
    "                machine -> machine.finishMaintenance(),\n",
    "                ObservableCoffeeMachine.State.OFF\n",
    "            )\n",
    "        );\n",
    "    }\n",
    "\n",
    "    @ParameterizedTest\n",
    "    @MethodSource\n",
    "    void transitionsFromReady(TransitionTestCase testCase) {\n",
    "        machine.turnOn();\n",
    "        assertEquals(ObservableCoffeeMachine.State.READY, machine.getState());\n",
    "        spy.reset();\n",
    "\n",
    "        testCase.action.accept(machine);\n",
    "        assertEquals(testCase.expectedState, machine.getState());\n",
    "        assertIterableEquals(testCase.expectedTransitions, spy.getStateChanges());\n",
    "    }\n",
    "\n",
    "    private static Stream<TransitionTestCase> transitionsFromReady() {\n",
    "        return Stream.of(\n",
    "            new TransitionTestCase(\n",
    "                \"READY -- turnOn --> READY\",\n",
    "                machine -> machine.turnOn(),\n",
    "                ObservableCoffeeMachine.State.READY\n",
    "            ),\n",
    "            new TransitionTestCase(\n",
    "                \"READY -- turnOff --> OFF\",\n",
    "                machine -> machine.turnOff(),\n",
    "                ObservableCoffeeMachine.State.OFF,\n",
    "                List.of(ObservableCoffeeMachine.State.OFF)\n",
    "            ),\n",
    "            new TransitionTestCase(\n",
    "                \"READY -- brew --> READY\",\n",
    "                machine -> machine.brew(),\n",
    "                ObservableCoffeeMachine.State.READY,\n",
    "                List.of(ObservableCoffeeMachine.State.BREWING, ObservableCoffeeMachine.State.READY)\n",
    "            ),\n",
    "            new TransitionTestCase(\n",
    "                \"READY -- startMaintenance --> MAINTENANCE\",\n",
    "                machine -> machine.startMaintenance(),\n",
    "                ObservableCoffeeMachine.State.MAINTENANCE,\n",
    "                List.of(ObservableCoffeeMachine.State.MAINTENANCE)\n",
    "            ),\n",
    "            new TransitionTestCase(\n",
    "                \"READY -- finishMaintenance --> READY\",\n",
    "                machine -> machine.finishMaintenance(),\n",
    "                ObservableCoffeeMachine.State.READY\n",
    "            )\n",
    "        );\n",
    "    }\n",
    "\n",
    "    @ParameterizedTest\n",
    "    @MethodSource\n",
    "    void transitionsFromMaintenance(TransitionTestCase testCase) {\n",
    "        machine.turnOn();\n",
    "        machine.startMaintenance();\n",
    "        assertEquals(ObservableCoffeeMachine.State.MAINTENANCE, machine.getState());\n",
    "        spy.reset();\n",
    "\n",
    "        testCase.action.accept(machine);\n",
    "        assertEquals(testCase.expectedState, machine.getState());\n",
    "        assertIterableEquals(testCase.expectedTransitions, spy.getStateChanges());\n",
    "    }\n",
    "\n",
    "    private static Stream<TransitionTestCase> transitionsFromMaintenance() {\n",
    "        return Stream.of(\n",
    "            new TransitionTestCase(\n",
    "                \"MAINTENANCE -- turnOn --> MAINTENANCE\",\n",
    "                machine -> machine.turnOn(),\n",
    "                ObservableCoffeeMachine.State.MAINTENANCE\n",
    "            ),\n",
    "            new TransitionTestCase(\n",
    "                \"MAINTENANCE -- turnOff --> OFF\",\n",
    "                machine -> machine.turnOff(),\n",
    "                ObservableCoffeeMachine.State.OFF,\n",
    "                List.of(ObservableCoffeeMachine.State.OFF)\n",
    "            ),\n",
    "            new TransitionTestCase(\n",
    "                \"MAINTENANCE -- brew --> MAINTENANCE\",\n",
    "                machine -> machine.brew(),\n",
    "                ObservableCoffeeMachine.State.MAINTENANCE\n",
    "            ),\n",
    "            new TransitionTestCase(\n",
    "                \"MAINTENANCE -- startMaintenance --> MAINTENANCE\",\n",
    "                machine -> machine.startMaintenance(),\n",
    "                ObservableCoffeeMachine.State.MAINTENANCE\n",
    "            ),\n",
    "            new TransitionTestCase(\n",
    "                \"MAINTENANCE -- finishMaintenance --> READY\",\n",
    "                machine -> machine.finishMaintenance(),\n",
    "                ObservableCoffeeMachine.State.READY,\n",
    "                List.of(ObservableCoffeeMachine.State.READY)\n",
    "            )\n",
    "        );\n",
    "    }\n",
    "\n",
    "    private static class TransitionTestCase {\n",
    "        String description;\n",
    "        Consumer<ObservableCoffeeMachine> action;\n",
    "        ObservableCoffeeMachine.State expectedState;\n",
    "        List<ObservableCoffeeMachine.State> expectedTransitions;\n",
    "\n",
    "        TransitionTestCase(String description, Consumer<ObservableCoffeeMachine> action, ObservableCoffeeMachine.State expectedState, List<ObservableCoffeeMachine.State> expectedTransitions) {\n",
    "            this.description = description;\n",
    "            this.action = action;\n",
    "            this.expectedState = expectedState;\n",
    "            this.expectedTransitions = expectedTransitions;\n",
    "        }\n",
    "\n",
    "        TransitionTestCase(String description, Consumer<ObservableCoffeeMachine> action, ObservableCoffeeMachine.State expectedState) {\n",
    "            this(description, action, expectedState, List.of());\n",
    "        }\n",
    "\n",
    "        @Override\n",
    "        public String toString() {\n",
    "            return description;\n",
    "        }\n",
    "    }\n",
    "}"
   ]
  },
  {
   "cell_type": "code",
   "execution_count": null,
   "id": "c0a2aa8f25660663",
   "metadata": {},
   "outputs": [],
   "source": [
    "runTests(ObservableCoffeeMachineTest.class);"
   ]
  },
  {
   "cell_type": "code",
   "execution_count": null,
   "id": "6b4e03423667dbb7",
   "metadata": {},
   "outputs": [],
   "source": []
  }
 ],
 "metadata": {
  "jupytext": {
   "cell_metadata_filter": "tags,lang,-all",
   "encoding": "// -*- coding: utf-8 -*-",
   "main_language": "java",
   "notebook_metadata_filter": "-all"
  },
  "kernelspec": {
   "display_name": "Java",
   "language": "java",
   "name": "java"
  },
  "language_info": {
   "codemirror_mode": "java",
   "file_extension": ".java",
   "mimetype": "text/java",
   "name": "Java",
   "pygments_lexer": "java",
   "version": ""
  }
 },
 "nbformat": 4,
 "nbformat_minor": 5
}
