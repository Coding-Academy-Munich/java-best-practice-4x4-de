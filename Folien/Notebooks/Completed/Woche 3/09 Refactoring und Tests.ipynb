{
 "cells": [
  {
   "cell_type": "markdown",
   "id": "de6fd49ebfa9262d",
   "metadata": {
    "lang": "de",
    "slideshow": {
     "slide_type": "slide"
    },
    "tags": [
     "slide"
    ]
   },
   "source": [
    "\n",
    "<img src=\"data:image/svg+xml;base64,PHN2ZyB4bWxucz0iaHR0cDovL3d3dy53My5vcmcvMjAwMC9zdmciIHdpZHRoPSI2NCIgaGVpZ2h0\n",
    "PSI2NCIgdmlld0JveD0iMCAwIDMyIDMyIj48cGF0aCBkPSJNMTEuNjIyIDI0Ljc0cy0xLjIzLjc0\n",
    "OC44NTUuOTYyYzIuNTEuMzIgMy44NDcuMjY3IDYuNjI1LS4yNjdhMTAuMDIgMTAuMDIgMCAwIDAg\n",
    "MS43NjMuODU1Yy02LjI1IDIuNjcyLTE0LjE2LS4xNi05LjI0NC0xLjU1em0tLjgtMy40NzNzLTEu\n",
    "MzM2IDEuMDE1Ljc0OCAxLjIzYzIuNzI1LjI2NyA0Ljg2Mi4zMiA4LjU1LS40MjdhMy4yNiAzLjI2\n",
    "IDAgMCAwIDEuMjgyLjgwMWMtNy41MzQgMi4yNDQtMTUuOTc2LjIxNC0xMC41OC0xLjYwM3ptMTQu\n",
    "NzQ3IDYuMDlzLjkwOC43NDgtMS4wMTUgMS4zMzZjLTMuNTggMS4wNy0xNS4wMTQgMS4zOS0xOC4y\n",
    "MiAwLTEuMTIyLS40OCAxLjAxNS0xLjE3NSAxLjctMS4yODIuNjk1LS4xNiAxLjA3LS4xNiAxLjA3\n",
    "LS4xNi0xLjIzLS44NTUtOC4xNzUgMS43NjMtMy41MjYgMi41MSAxMi43NyAyLjA4NCAyMy4yOTYt\n",
    "LjkwOCAxOS45ODMtMi40MDR6TTEyLjIgMTcuNjMzcy01LjgyNCAxLjM5LTIuMDg0IDEuODdjMS42\n",
    "MDMuMjE0IDQuNzU1LjE2IDcuNjk0LS4wNTMgMi40MDQtLjIxNCA0LjgxLS42NCA0LjgxLS42NHMt\n",
    "Ljg1NS4zNzQtMS40NDMuNzQ4Yy01LjkzIDEuNTUtMTcuMzEyLjg1NS0xNC4wNTItLjc0OCAyLjc3\n",
    "OC0xLjMzNiA1LjA3Ni0xLjE3NSA1LjA3Ni0xLjE3NXptMTAuNDIgNS44MjRjNS45ODQtMy4xIDMu\n",
    "MjA2LTYuMDkgMS4yODItNS43MTctLjQ4LjEwNy0uNjk1LjIxNC0uNjk1LjIxNHMuMTYtLjMyLjUz\n",
    "NC0uNDI3YzMuNzk0LTEuMzM2IDYuNzg2IDQuMDA3LTEuMjMgNi4wOSAwIDAgLjA1My0uMDUzLjEw\n",
    "Ny0uMTZ6bS05LjgzIDguNDQyYzUuNzcuMzc0IDE0LjU4Ny0uMjE0IDE0LjgtMi45NCAwIDAtLjQy\n",
    "NyAxLjA3LTQuNzU1IDEuODctNC45MTYuOTA4LTExLjAwNy44LTE0LjU4Ny4yMTQgMCAwIC43NDgu\n",
    "NjQgNC41NDIuODU1eiIgZmlsbD0iIzRlNzg5NiIvPjxwYXRoIGQ9Ik0xOC45OTYuMDAxczMuMzEz\n",
    "IDMuMzY2LTMuMTUyIDguNDQyYy01LjE4MyA0LjExNC0xLjE3NSA2LjQ2NSAwIDkuMTM3LTMuMDQ2\n",
    "LTIuNzI1LTUuMjM2LTUuMTMtMy43NC03LjM3M0MxNC4yOTQgNi44OTMgMjAuMzMyIDUuMyAxOC45\n",
    "OTYuMDAxem0tMS43IDE1LjMzNWMxLjU1IDEuNzYzLS40MjcgMy4zNjYtLjQyNyAzLjM2NnMzLjk1\n",
    "NC0yLjAzIDIuMTM3LTQuNTQyYy0xLjY1Ni0yLjQwNC0yLjk0LTMuNTggNC4wMDctNy41ODcgMCAw\n",
    "LTEwLjk1MyAyLjcyNS01LjcxNyA4Ljc2M3oiIGZpbGw9IiNmNTgyMTkiLz48L3N2Zz4=\n",
    "\"\n",
    "     alt=\"Java Logo\" style=\"display:block;margin:auto;width:5%\"/>\n",
    "<br>\n",
    "\n",
    "<div style=\"text-align:center; font-size:200%;\">\n",
    " <b>Refactoring und Tests</b>\n",
    "</div>\n",
    "<br/>\n",
    "<div style=\"text-align:center; font-size:120%;\">Dr. Matthias Hölzl</div>\n",
    "<br/>\n",
    "<div style=\"text-align:center;\">Coding-Akademie München</div>\n",
    "<br/>"
   ]
  },
  {
   "cell_type": "markdown",
   "id": "a2d2ea99a511eedc",
   "metadata": {
    "lang": "de",
    "slideshow": {
     "slide_type": "subslide"
    },
    "tags": [
     "subslide"
    ]
   },
   "source": [
    "\n",
    "- Zum Refactoring brauchen wir Tests\n",
    "  - Sonst können wir nicht wissen, ob wir das Verhalten geändert haben\n",
    "- Aber: manche Tests erschweren das Refactoring"
   ]
  },
  {
   "cell_type": "markdown",
   "id": "60a66139d71baa2a",
   "metadata": {
    "lang": "de",
    "slideshow": {
     "slide_type": "subslide"
    },
    "tags": [
     "subslide"
    ]
   },
   "source": [
    "\n",
    "## Tests für Refactoring\n",
    "\n",
    "- Schreiben Sie Tests, die das öffentliche Verhalten testen\n",
    "- Vermeiden Sie alle Tests, die sich auf Implementierungs-Details beziehen\n",
    "  - Auch für Unit-Tests\n",
    "- Dazu testen sich oft Methoden gegenseitig\n",
    "- Das ist OK!"
   ]
  },
  {
   "cell_type": "code",
   "execution_count": null,
   "id": "5fad29fa654ced87",
   "metadata": {
    "slideshow": {
     "slide_type": "subslide"
    },
    "tags": [
     "keep",
     "subslide"
    ]
   },
   "outputs": [],
   "source": [
    "import java.util.Stack;"
   ]
  },
  {
   "cell_type": "code",
   "execution_count": null,
   "id": "0b725352ba33033c",
   "metadata": {
    "tags": [
     "keep"
    ]
   },
   "outputs": [],
   "source": [
    "public static void check(boolean result, String expression) {\n",
    "    if (result) {\n",
    "        System.out.print(\"Passed\");\n",
    "    } else {\n",
    "        System.out.print(\"FAILED\");\n",
    "    }\n",
    "    System.out.println(\" test for '\" + expression + \"'\");\n",
    "}"
   ]
  },
  {
   "cell_type": "markdown",
   "id": "eecf65d75cc8c70b",
   "metadata": {
    "lang": "de",
    "slideshow": {
     "slide_type": "subslide"
    },
    "tags": [
     "subslide"
    ]
   },
   "source": [
    "\n",
    "**Testen Sie NICHT so!**"
   ]
  },
  {
   "cell_type": "code",
   "execution_count": null,
   "id": "78993b54dd80d200",
   "metadata": {
    "tags": [
     "keep"
    ]
   },
   "outputs": [],
   "source": [
    "class StackTester<T> extends Stack<T> {\n",
    "    // Access the protected data member of the stack\n",
    "    public java.lang.Object[] getData() {\n",
    "        return elementData;\n",
    "    }\n",
    "\n",
    "    // Access the actual number of elements in the stack\n",
    "    public int getActualSize() {\n",
    "        return elementCount;\n",
    "    }\n",
    "}"
   ]
  },
  {
   "cell_type": "code",
   "execution_count": null,
   "id": "f3babf9c5ca99b2f",
   "metadata": {
    "tags": [
     "keep"
    ]
   },
   "outputs": [],
   "source": [
    "StackTester<Integer> unit = new StackTester<>();\n",
    "unit.push(1);\n",
    "\n",
    "check(unit.getActualSize() == 1, \"stack size is 1\");\n",
    "check(unit.getData()[0].equals(1), \"first element is 1\");\n",
    "\n",
    "int result = unit.pop();\n",
    "\n",
    "check(result == 1, \"pop result is 0\");\n",
    "check(unit.getActualSize() == 0, \"size after popping is 0\");"
   ]
  },
  {
   "cell_type": "markdown",
   "id": "603bf8e1754e21a7",
   "metadata": {
    "lang": "de",
    "slideshow": {
     "slide_type": "subslide"
    },
    "tags": [
     "subslide"
    ]
   },
   "source": [
    "\n",
    "- Für `java.util.Stack` ist in der Spezifikation festgelegt, wie er implementiert ist\n",
    "- Aber in \"normalem\" Code könnte sich die Implementierung jederzeit ändern\n",
    "- Testen Sie statt dessen so:"
   ]
  },
  {
   "cell_type": "code",
   "execution_count": null,
   "id": "bd20a2f9eba2893c",
   "metadata": {
    "tags": [
     "keep"
    ]
   },
   "outputs": [],
   "source": [
    "import java.util.Stack;"
   ]
  },
  {
   "cell_type": "code",
   "execution_count": null,
   "id": "88b8ad84f46a58c1",
   "metadata": {
    "tags": [
     "keep"
    ]
   },
   "outputs": [],
   "source": [
    "Stack<Integer> unit = new Stack<>();\n",
    "unit.push(1);\n",
    "\n",
    "check(unit.size() == 1, \"stack size is 1\");\n",
    "check(unit.peek() == 1, \"top element is 1\");\n",
    "\n",
    "unit.pop();\n",
    "check(unit.empty(), \"stack is empty after popping\");"
   ]
  },
  {
   "cell_type": "markdown",
   "id": "d71be5b7eb1a460f",
   "metadata": {
    "lang": "de",
    "slideshow": {
     "slide_type": "subslide"
    },
    "tags": [
     "subslide"
    ]
   },
   "source": [
    "\n",
    "- Diese Tests testen das öffentliche Verhalten\n",
    "- Das öffentliche Interface muss geeignet sein, diese Tests zu schreiben\n",
    "  - Versuchen Sie **nicht**, das durch Getter und Setter für jeden\n",
    "    Daten-Member zu erreichen\n",
    "  - Stattdessen sollten Sie Abfragen oder einen \"abstrakten Zustand\"\n",
    "    öffentlich machen\n",
    "  - Für den Stack sind das z.B. die `peek()` und `size()`-Methoden\n",
    "- Meistens macht das auch die normale Benutzung der Klasse einfacher\n",
    "- TDD ist ein Weg um das zu erreichen\n",
    "  - Aber: Schreiben Sie auch in TDD Tests für Feature-Inkremente, nicht für\n",
    "    Implementierungs-Inkremente"
   ]
  },
  {
   "cell_type": "markdown",
   "id": "8bf4d06bb5b4bbeb",
   "metadata": {
    "lang": "de",
    "slideshow": {
     "slide_type": "subslide"
    },
    "tags": [
     "subslide"
    ]
   },
   "source": [
    "\n",
    "## Workshop: Vorrangwarteschlange (Priority Queue)\n",
    "\n",
    "In diesem Workshop sollen Sie eine Vorrangwarteschlange testen, ohne sich auf\n",
    "ihre internen Implementierungsdetails zu verlassen.\n",
    "\n",
    "### Hintergrund\n",
    "\n",
    "Eine Vorrangwarteschlange ist eine Datenstruktur, die Elemente mit\n",
    "zugehörigen Prioritäten speichert. Sie unterstützt zwei Hauptoperationen:\n",
    "- Enqueue: Füge ein Element mit einer gegebenen Priorität hinzu\n",
    "- Dequeue: Entferne und gib das Element mit der höchsten Priorität zurück\n",
    "\n",
    "Die Herausforderung besteht darin, zu überprüfen, dass die Vorrangwarteschlange\n",
    "die Reihenfolge der Elemente korrekt beibehält, ohne direkt auf ihre interne\n",
    "Struktur zuzugreifen."
   ]
  },
  {
   "cell_type": "markdown",
   "id": "f3a131aa008ac388",
   "metadata": {
    "lang": "de",
    "slideshow": {
     "slide_type": "subslide"
    },
    "tags": [
     "subslide"
    ]
   },
   "source": [
    "\n",
    "Die folgende `PriorityQueue`-Klasse implementiert die übliche Schnittstelle\n",
    "für eine Vorrangwarteschlange mit einer einfachen Listen-basierten\n",
    "Repräsentation:\n",
    "\n",
    "- `void enqueue(T item, int priority)`: Füge ein Element mit der gegebenen\n",
    "  Priorität hinzu\n",
    "- `T dequeue()`: Entferne und gib das Element mit der höchsten Priorität zurück\n",
    "- `boolean isEmpty()`: Gib true zurück, wenn die Warteschlange leer ist, sonst\n",
    "  false"
   ]
  },
  {
   "cell_type": "code",
   "execution_count": null,
   "id": "fc6e14c475b537d9",
   "metadata": {
    "slideshow": {
     "slide_type": "subslide"
    },
    "tags": [
     "keep",
     "subslide"
    ]
   },
   "outputs": [],
   "source": [
    "import java.util.ArrayList;\n",
    "import java.util.Comparator;\n",
    "import java.util.List;"
   ]
  },
  {
   "cell_type": "code",
   "execution_count": null,
   "id": "40e7d9db1539a2f0",
   "metadata": {
    "slideshow": {
     "slide_type": "subslide"
    },
    "tags": [
     "keep",
     "subslide"
    ]
   },
   "outputs": [],
   "source": [
    "public class PriorityQueue<T> {\n",
    "    private List<PriorityItem<T>> items;\n",
    "\n",
    "    public PriorityQueue() {\n",
    "        this.items = new ArrayList<>();\n",
    "    }\n",
    "\n",
    "    public void enqueue(T item, int priority) {\n",
    "        items.add(new PriorityItem<>(item, priority));\n",
    "        items.sort((a, b) -> Integer.compare(b.priority, a.priority));\n",
    "    }\n",
    "\n",
    "    public T dequeue() {\n",
    "        if (isEmpty()) {\n",
    "            throw new IllegalStateException(\"Queue is empty\");\n",
    "        }\n",
    "        return items.remove(0).item;\n",
    "    }\n",
    "\n",
    "    public boolean isEmpty() {\n",
    "        return items.isEmpty();\n",
    "    }\n",
    "\n",
    "    private static class PriorityItem<T> {\n",
    "        private final T item;\n",
    "        private final int priority;\n",
    "\n",
    "        PriorityItem(T item, int priority) {\n",
    "            this.item = item;\n",
    "            this.priority = priority;\n",
    "        }\n",
    "    }\n",
    "}"
   ]
  },
  {
   "cell_type": "markdown",
   "id": "1bd82c9163840c80",
   "metadata": {
    "lang": "de",
    "slideshow": {
     "slide_type": "subslide"
    },
    "tags": [
     "subslide"
    ]
   },
   "source": [
    "\n",
    "Schreiben Sie einen Tests, die das korrekte Verhalten der\n",
    "Vorrangwarteschlange über ihre öffentliche Schnittstelle verifizieren. Ihre\n",
    "Tests sollten folgendes abdecken:\n",
    "\n",
    "1. Grundlegende Funktionalität (`enqueue`, `dequeue`, `isEmpty`)\n",
    "2. Korrekte Prioritäten-Reihenfolge beim Herausnehmen von Elementen mit `dequeue`\n",
    "3. Umgang mit Elementen mit gleichen Prioritäten\n",
    "4. Randfälle (leere Warteschlange, einzelnes Element)\n",
    "\n",
    "Denken Sie daran, dass Sie in Ihren Tests nicht auf die interne Struktur der\n",
    "Warteschlange zugreifen können!\n",
    "\n",
    "- Welche Strategien haben Sie verwendet, um die Prioritäten-Reihenfolge zu\n",
    "  testen, ohne auf die interne Struktur zuzugreifen?\n",
    "- Wie sicher sind Sie, dass Ihre Tests das Verhalten der Vorrangwarteschlange\n",
    "  vollständig verifizieren?"
   ]
  },
  {
   "cell_type": "code",
   "execution_count": null,
   "id": "1bfd1eeaa41b98d4",
   "metadata": {
    "slideshow": {
     "slide_type": "subslide"
    },
    "tags": [
     "keep",
     "subslide"
    ]
   },
   "outputs": [],
   "source": [
    "%maven org.junit.jupiter:junit-jupiter-api:5.8.2\n",
    "%maven org.junit.jupiter:junit-jupiter-engine:5.8.2\n",
    "%maven org.junit.platform:junit-platform-launcher:1.9.3"
   ]
  },
  {
   "cell_type": "code",
   "execution_count": null,
   "id": "43e4854eb35da6c1",
   "metadata": {
    "tags": [
     "keep"
    ]
   },
   "outputs": [],
   "source": [
    "import org.junit.jupiter.api.BeforeEach;\n",
    "import org.junit.jupiter.api.Test;\n",
    "import static org.junit.jupiter.api.Assertions.*;"
   ]
  },
  {
   "cell_type": "code",
   "execution_count": null,
   "id": "9e34aa251c4f4aa1",
   "metadata": {
    "slideshow": {
     "slide_type": "subslide"
    },
    "tags": [
     "subslide",
     "keep"
    ]
   },
   "outputs": [],
   "source": [
    "%jars .\n",
    "%classpath testrunner-0.1.jar"
   ]
  },
  {
   "cell_type": "code",
   "execution_count": null,
   "id": "0d9a79fc77081dd9",
   "metadata": {
    "tags": [
     "keep"
    ]
   },
   "outputs": [],
   "source": [
    "import static testrunner.TestRunner.runTests;"
   ]
  },
  {
   "cell_type": "code",
   "execution_count": null,
   "id": "90c506803ac4cad1",
   "metadata": {
    "slideshow": {
     "slide_type": "subslide"
    },
    "tags": [
     "subslide"
    ]
   },
   "outputs": [],
   "source": [
    "class PriorityQueueTest {\n",
    "\n",
    "    private PriorityQueue<String> queue;\n",
    "\n",
    "    @BeforeEach\n",
    "    void setUp() {\n",
    "        queue = new PriorityQueue<>();\n",
    "    }\n",
    "\n",
    "    @Test\n",
    "    void testIsEmptyOnNewQueue() {\n",
    "        assertTrue(queue.isEmpty());\n",
    "    }\n",
    "\n",
    "    @Test\n",
    "    void testIsNotEmptyAfterEnqueue() {\n",
    "        queue.enqueue(\"Item\", 1);\n",
    "        assertFalse(queue.isEmpty());\n",
    "    }\n",
    "\n",
    "    @Test\n",
    "    void testIsEmptyAfterDequeueLastItem() {\n",
    "        queue.enqueue(\"Item\", 1);\n",
    "        queue.dequeue();\n",
    "        assertTrue(queue.isEmpty());\n",
    "    }\n",
    "\n",
    "    @Test\n",
    "    void testSingleItemEnqueueDequeue() {\n",
    "        queue.enqueue(\"Item\", 1);\n",
    "        assertEquals(\"Item\", queue.dequeue());\n",
    "    }\n",
    "\n",
    "    @Test\n",
    "    void testPriorityOrderWithTwoItems() {\n",
    "        queue.enqueue(\"Low\", 1);\n",
    "        queue.enqueue(\"High\", 2);\n",
    "        assertEquals(\"High\", queue.dequeue());\n",
    "        assertEquals(\"Low\", queue.dequeue());\n",
    "    }\n",
    "\n",
    "    @Test\n",
    "    void testPriorityOrderWithMultipleItems() {\n",
    "        queue.enqueue(\"Lowest\", 1);\n",
    "        queue.enqueue(\"Highest\", 4);\n",
    "        queue.enqueue(\"Medium\", 2);\n",
    "        queue.enqueue(\"High\", 3);\n",
    "\n",
    "        assertEquals(\"Highest\", queue.dequeue());\n",
    "        assertEquals(\"High\", queue.dequeue());\n",
    "        assertEquals(\"Medium\", queue.dequeue());\n",
    "        assertEquals(\"Lowest\", queue.dequeue());\n",
    "    }\n",
    "\n",
    "    @Test\n",
    "    void testEqualPriorities() {\n",
    "        queue.enqueue(\"First\", 1);\n",
    "        queue.enqueue(\"Second\", 1);\n",
    "\n",
    "        String first = queue.dequeue();\n",
    "        String second = queue.dequeue();\n",
    "\n",
    "        assertTrue(\n",
    "            (first.equals(\"First\") && second.equals(\"Second\")) ||\n",
    "            (first.equals(\"Second\") && second.equals(\"First\"))\n",
    "        );\n",
    "    }\n",
    "\n",
    "    @Test\n",
    "    void testEnqueueDequeueMixedOperations() {\n",
    "        queue.enqueue(\"A\", 1);\n",
    "        queue.enqueue(\"B\", 3);\n",
    "        assertEquals(\"B\", queue.dequeue());\n",
    "        queue.enqueue(\"C\", 2);\n",
    "        assertEquals(\"C\", queue.dequeue());\n",
    "        assertEquals(\"A\", queue.dequeue());\n",
    "    }\n",
    "\n",
    "    @Test\n",
    "    void testDequeueOnEmptyQueue() {\n",
    "        assertThrows(IllegalStateException.class, () -> queue.dequeue());\n",
    "    }\n",
    "\n",
    "    @Test\n",
    "    void testEnqueueDequeueEnqueueMaintainsCorrectOrder() {\n",
    "        queue.enqueue(\"Low\", 1);\n",
    "        queue.enqueue(\"High\", 2);\n",
    "        assertEquals(\"High\", queue.dequeue());\n",
    "        queue.enqueue(\"Medium\", 1);\n",
    "        assertEquals(\"Low\", queue.dequeue());\n",
    "        assertEquals(\"Medium\", queue.dequeue());\n",
    "    }\n",
    "}"
   ]
  },
  {
   "cell_type": "code",
   "execution_count": null,
   "id": "9e098ad7e52cd21d",
   "metadata": {
    "slideshow": {
     "slide_type": "subslide"
    },
    "tags": [
     "subslide"
    ]
   },
   "outputs": [],
   "source": [
    "runTests(PriorityQueueTest.class);"
   ]
  },
  {
   "cell_type": "markdown",
   "id": "4489640a7969cc59",
   "metadata": {
    "lang": "de",
    "slideshow": {
     "slide_type": "subslide"
    },
    "tags": [
     "subslide"
    ]
   },
   "source": [
    "\n",
    "### Heap-basierte Implementierung\n",
    "\n",
    "Die Listen-basierte Implementierung der Vorrangwarteschlange hat eine\n",
    "Komplexität von O(n) für das Einfügen und Entfernen von Elementen. Eine\n",
    "effizientere Implementierung verwendet einen Heap, um die Operationen in O(log\n",
    "n) durchzuführen.\n",
    "\n",
    "Hier ist eine einfache Heap-basierte Implementierung der Vorrangwarteschlange:"
   ]
  },
  {
   "cell_type": "code",
   "execution_count": null,
   "id": "428b8d8adcc33852",
   "metadata": {
    "slideshow": {
     "slide_type": "subslide"
    },
    "tags": [
     "keep",
     "subslide"
    ]
   },
   "outputs": [],
   "source": [
    "import java.util.ArrayList;\n",
    "import java.util.Comparator;\n",
    "import java.util.List;\n",
    "\n",
    "public class PriorityQueue<T> {\n",
    "    private List<PriorityItem<T>> heap;\n",
    "    private final Comparator<PriorityItem<T>> comparator;\n",
    "\n",
    "    public PriorityQueue() {\n",
    "        this.heap = new ArrayList<>();\n",
    "        this.comparator = (a, b) -> Integer.compare(b.priority, a.priority);\n",
    "    }\n",
    "\n",
    "    public void enqueue(T item, int priority) {\n",
    "        heap.add(new PriorityItem<>(item, priority));\n",
    "        siftUp(heap.size() - 1);\n",
    "    }\n",
    "\n",
    "    public T dequeue() {\n",
    "        if (isEmpty()) {\n",
    "            throw new IllegalStateException(\"Queue is empty\");\n",
    "        }\n",
    "        T item = heap.get(0).item;\n",
    "        int lastIndex = heap.size() - 1;\n",
    "        heap.set(0, heap.get(lastIndex));\n",
    "        heap.remove(lastIndex);\n",
    "        if (!isEmpty()) {\n",
    "            siftDown(0);\n",
    "        }\n",
    "        return item;\n",
    "    }\n",
    "\n",
    "    public boolean isEmpty() {\n",
    "        return heap.isEmpty();\n",
    "    }\n",
    "\n",
    "    private void siftUp(int index) {\n",
    "        while (index > 0) {\n",
    "            int parentIndex = (index - 1) / 2;\n",
    "            if (comparator.compare(heap.get(index), heap.get(parentIndex)) >= 0) {\n",
    "                break;\n",
    "            }\n",
    "            swap(index, parentIndex);\n",
    "            index = parentIndex;\n",
    "        }\n",
    "    }\n",
    "\n",
    "    private void siftDown(int index) {\n",
    "        int size = heap.size();\n",
    "        while (true) {\n",
    "            int leftChild = 2 * index + 1;\n",
    "            int rightChild = 2 * index + 2;\n",
    "            int highest = index;\n",
    "\n",
    "            if (leftChild < size && comparator.compare(heap.get(leftChild), heap.get(highest)) < 0) {\n",
    "                highest = leftChild;\n",
    "            }\n",
    "            if (rightChild < size && comparator.compare(heap.get(rightChild), heap.get(highest)) < 0) {\n",
    "                highest = rightChild;\n",
    "            }\n",
    "\n",
    "            if (highest == index) {\n",
    "                break;\n",
    "            }\n",
    "\n",
    "            swap(index, highest);\n",
    "            index = highest;\n",
    "        }\n",
    "    }\n",
    "\n",
    "    private void swap(int i, int j) {\n",
    "        PriorityItem<T> temp = heap.get(i);\n",
    "        heap.set(i, heap.get(j));\n",
    "        heap.set(j, temp);\n",
    "    }\n",
    "\n",
    "    private static class PriorityItem<T> {\n",
    "        private final T item;\n",
    "        private final int priority;\n",
    "\n",
    "        PriorityItem(T item, int priority) {\n",
    "            this.item = item;\n",
    "            this.priority = priority;\n",
    "        }\n",
    "    }\n",
    "}"
   ]
  },
  {
   "cell_type": "markdown",
   "id": "e6e76bed291bcdb5",
   "metadata": {
    "lang": "de",
    "slideshow": {
     "slide_type": "subslide"
    },
    "tags": [
     "subslide"
    ]
   },
   "source": [
    "\n",
    "Funktionieren Ihre Tests für die Listen-basierte Implementierung auch für die\n",
    "Heap-basierte Implementierung?\n",
    "\n",
    "*Hinweis:* Sie können im Notebook einfach die Zelle mit der neuen\n",
    "Implementierung der Vorrangwarteschlange ausführen und dann die Zellen mit\n",
    "Ihren Tests erneut ausführen."
   ]
  },
  {
   "cell_type": "markdown",
   "id": "6cb593d72a831868",
   "metadata": {
    "lang": "de",
    "slideshow": {
     "slide_type": "subslide"
    },
    "tags": [
     "subslide"
    ]
   },
   "source": [
    "\n",
    "Die Klasse `HeapPriorityQueueTest` ist eine exakte Kopie der Klasse\n",
    "`PriorityQueueTest`, aber sie ist hier nochmal angegeben, um das Testen der\n",
    "Heap-basierten Implementierung zu erleichtern."
   ]
  },
  {
   "cell_type": "code",
   "execution_count": null,
   "id": "57270c11d674658d",
   "metadata": {
    "slideshow": {
     "slide_type": "subslide"
    },
    "tags": [
     "subslide",
     "alt"
    ]
   },
   "outputs": [],
   "source": [
    "class HeapPriorityQueueTest {\n",
    "\n",
    "    private PriorityQueue<String> queue;\n",
    "\n",
    "    @BeforeEach\n",
    "    void setUp() {\n",
    "        queue = new PriorityQueue<>();\n",
    "    }\n",
    "\n",
    "    @Test\n",
    "    void testIsEmptyOnNewQueue() {\n",
    "        assertTrue(queue.isEmpty());\n",
    "    }\n",
    "\n",
    "    @Test\n",
    "    void testIsNotEmptyAfterEnqueue() {\n",
    "        queue.enqueue(\"Item\", 1);\n",
    "        assertFalse(queue.isEmpty());\n",
    "    }\n",
    "\n",
    "    @Test\n",
    "    void testIsEmptyAfterDequeueLastItem() {\n",
    "        queue.enqueue(\"Item\", 1);\n",
    "        queue.dequeue();\n",
    "        assertTrue(queue.isEmpty());\n",
    "    }\n",
    "\n",
    "    @Test\n",
    "    void testSingleItemEnqueueDequeue() {\n",
    "        queue.enqueue(\"Item\", 1);\n",
    "        assertEquals(\"Item\", queue.dequeue());\n",
    "    }\n",
    "\n",
    "    @Test\n",
    "    void testPriorityOrderWithTwoItems() {\n",
    "        queue.enqueue(\"Low\", 1);\n",
    "        queue.enqueue(\"High\", 2);\n",
    "        assertEquals(\"High\", queue.dequeue());\n",
    "        assertEquals(\"Low\", queue.dequeue());\n",
    "    }\n",
    "\n",
    "    @Test\n",
    "    void testPriorityOrderWithMultipleItems() {\n",
    "        queue.enqueue(\"Lowest\", 1);\n",
    "        queue.enqueue(\"Highest\", 4);\n",
    "        queue.enqueue(\"Medium\", 2);\n",
    "        queue.enqueue(\"High\", 3);\n",
    "\n",
    "        assertEquals(\"Highest\", queue.dequeue());\n",
    "        assertEquals(\"High\", queue.dequeue());\n",
    "        assertEquals(\"Medium\", queue.dequeue());\n",
    "        assertEquals(\"Lowest\", queue.dequeue());\n",
    "    }\n",
    "\n",
    "    @Test\n",
    "    void testEqualPriorities() {\n",
    "        queue.enqueue(\"First\", 1);\n",
    "        queue.enqueue(\"Second\", 1);\n",
    "\n",
    "        String first = queue.dequeue();\n",
    "        String second = queue.dequeue();\n",
    "\n",
    "        assertTrue(\n",
    "            (first.equals(\"First\") && second.equals(\"Second\")) ||\n",
    "            (first.equals(\"Second\") && second.equals(\"First\"))\n",
    "        );\n",
    "    }\n",
    "\n",
    "    @Test\n",
    "    void testEnqueueDequeueMixedOperations() {\n",
    "        queue.enqueue(\"A\", 1);\n",
    "        queue.enqueue(\"B\", 3);\n",
    "        assertEquals(\"B\", queue.dequeue());\n",
    "        queue.enqueue(\"C\", 2);\n",
    "        assertEquals(\"C\", queue.dequeue());\n",
    "        assertEquals(\"A\", queue.dequeue());\n",
    "    }\n",
    "\n",
    "    @Test\n",
    "    void testDequeueOnEmptyQueue() {\n",
    "        assertThrows(IllegalStateException.class, () -> queue.dequeue());\n",
    "    }\n",
    "\n",
    "    @Test\n",
    "    void testEnqueueDequeueEnqueueMaintainsCorrectOrder() {\n",
    "        queue.enqueue(\"Low\", 1);\n",
    "        queue.enqueue(\"High\", 2);\n",
    "        assertEquals(\"High\", queue.dequeue());\n",
    "        queue.enqueue(\"Medium\", 1);\n",
    "        assertEquals(\"Low\", queue.dequeue());\n",
    "        assertEquals(\"Medium\", queue.dequeue());\n",
    "    }\n",
    "}"
   ]
  },
  {
   "cell_type": "code",
   "execution_count": null,
   "id": "a5f4bab2e55dfe62",
   "metadata": {},
   "outputs": [],
   "source": [
    "runTests(HeapPriorityQueueTest.class);"
   ]
  }
 ],
 "metadata": {
  "jupytext": {
   "cell_metadata_filter": "tags,lang,-all",
   "encoding": "// -*- coding: utf-8 -*-",
   "main_language": "java",
   "notebook_metadata_filter": "-all"
  },
  "kernelspec": {
   "display_name": "Java",
   "language": "java",
   "name": "java"
  },
  "language_info": {
   "codemirror_mode": "java",
   "file_extension": ".java",
   "mimetype": "text/java",
   "name": "Java",
   "pygments_lexer": "java",
   "version": ""
  }
 },
 "nbformat": 4,
 "nbformat_minor": 5
}
