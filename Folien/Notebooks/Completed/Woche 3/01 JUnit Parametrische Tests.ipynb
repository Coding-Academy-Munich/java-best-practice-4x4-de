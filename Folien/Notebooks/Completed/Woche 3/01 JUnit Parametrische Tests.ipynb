{
 "cells": [
  {
   "cell_type": "markdown",
   "id": "de30ebdbb400d7da",
   "metadata": {
    "lang": "de",
    "slideshow": {
     "slide_type": "slide"
    },
    "tags": [
     "slide"
    ]
   },
   "source": [
    "\n",
    "<img src=\"data:image/svg+xml;base64,PHN2ZyB4bWxucz0iaHR0cDovL3d3dy53My5vcmcvMjAwMC9zdmciIHdpZHRoPSI2NCIgaGVpZ2h0\n",
    "PSI2NCIgdmlld0JveD0iMCAwIDMyIDMyIj48cGF0aCBkPSJNMTEuNjIyIDI0Ljc0cy0xLjIzLjc0\n",
    "OC44NTUuOTYyYzIuNTEuMzIgMy44NDcuMjY3IDYuNjI1LS4yNjdhMTAuMDIgMTAuMDIgMCAwIDAg\n",
    "MS43NjMuODU1Yy02LjI1IDIuNjcyLTE0LjE2LS4xNi05LjI0NC0xLjU1em0tLjgtMy40NzNzLTEu\n",
    "MzM2IDEuMDE1Ljc0OCAxLjIzYzIuNzI1LjI2NyA0Ljg2Mi4zMiA4LjU1LS40MjdhMy4yNiAzLjI2\n",
    "IDAgMCAwIDEuMjgyLjgwMWMtNy41MzQgMi4yNDQtMTUuOTc2LjIxNC0xMC41OC0xLjYwM3ptMTQu\n",
    "NzQ3IDYuMDlzLjkwOC43NDgtMS4wMTUgMS4zMzZjLTMuNTggMS4wNy0xNS4wMTQgMS4zOS0xOC4y\n",
    "MiAwLTEuMTIyLS40OCAxLjAxNS0xLjE3NSAxLjctMS4yODIuNjk1LS4xNiAxLjA3LS4xNiAxLjA3\n",
    "LS4xNi0xLjIzLS44NTUtOC4xNzUgMS43NjMtMy41MjYgMi41MSAxMi43NyAyLjA4NCAyMy4yOTYt\n",
    "LjkwOCAxOS45ODMtMi40MDR6TTEyLjIgMTcuNjMzcy01LjgyNCAxLjM5LTIuMDg0IDEuODdjMS42\n",
    "MDMuMjE0IDQuNzU1LjE2IDcuNjk0LS4wNTMgMi40MDQtLjIxNCA0LjgxLS42NCA0LjgxLS42NHMt\n",
    "Ljg1NS4zNzQtMS40NDMuNzQ4Yy01LjkzIDEuNTUtMTcuMzEyLjg1NS0xNC4wNTItLjc0OCAyLjc3\n",
    "OC0xLjMzNiA1LjA3Ni0xLjE3NSA1LjA3Ni0xLjE3NXptMTAuNDIgNS44MjRjNS45ODQtMy4xIDMu\n",
    "MjA2LTYuMDkgMS4yODItNS43MTctLjQ4LjEwNy0uNjk1LjIxNC0uNjk1LjIxNHMuMTYtLjMyLjUz\n",
    "NC0uNDI3YzMuNzk0LTEuMzM2IDYuNzg2IDQuMDA3LTEuMjMgNi4wOSAwIDAgLjA1My0uMDUzLjEw\n",
    "Ny0uMTZ6bS05LjgzIDguNDQyYzUuNzcuMzc0IDE0LjU4Ny0uMjE0IDE0LjgtMi45NCAwIDAtLjQy\n",
    "NyAxLjA3LTQuNzU1IDEuODctNC45MTYuOTA4LTExLjAwNy44LTE0LjU4Ny4yMTQgMCAwIC43NDgu\n",
    "NjQgNC41NDIuODU1eiIgZmlsbD0iIzRlNzg5NiIvPjxwYXRoIGQ9Ik0xOC45OTYuMDAxczMuMzEz\n",
    "IDMuMzY2LTMuMTUyIDguNDQyYy01LjE4MyA0LjExNC0xLjE3NSA2LjQ2NSAwIDkuMTM3LTMuMDQ2\n",
    "LTIuNzI1LTUuMjM2LTUuMTMtMy43NC03LjM3M0MxNC4yOTQgNi44OTMgMjAuMzMyIDUuMyAxOC45\n",
    "OTYuMDAxem0tMS43IDE1LjMzNWMxLjU1IDEuNzYzLS40MjcgMy4zNjYtLjQyNyAzLjM2NnMzLjk1\n",
    "NC0yLjAzIDIuMTM3LTQuNTQyYy0xLjY1Ni0yLjQwNC0yLjk0LTMuNTggNC4wMDctNy41ODcgMCAw\n",
    "LTEwLjk1MyAyLjcyNS01LjcxNyA4Ljc2M3oiIGZpbGw9IiNmNTgyMTkiLz48L3N2Zz4=\n",
    "\"\n",
    "     alt=\"Java Logo\" style=\"display:block;margin:auto;width:5%\"/>\n",
    "<br>\n",
    "\n",
    "<div style=\"text-align:center; font-size:200%;\">\n",
    " <b>JUnit Parametrische Tests</b>\n",
    "</div>\n",
    "<br/>\n",
    "<div style=\"text-align:center; font-size:120%;\">Dr. Matthias Hölzl</div>\n",
    "<br/>\n",
    "<div style=\"text-align:center;\">Coding-Akademie München</div>\n",
    "<br/>"
   ]
  },
  {
   "cell_type": "code",
   "execution_count": null,
   "id": "048998c57177c650",
   "metadata": {
    "slideshow": {
     "slide_type": "subslide"
    },
    "tags": [
     "subslide"
    ]
   },
   "outputs": [],
   "source": [
    "boolean isLeapYear(int year) {\n",
    "    return ((year % 4 == 0) && (year % 100 != 0)) || (year % 400 == 0);\n",
    "}"
   ]
  },
  {
   "cell_type": "code",
   "execution_count": null,
   "id": "83e51a02b9df2ac1",
   "metadata": {
    "slideshow": {
     "slide_type": "subslide"
    },
    "tags": [
     "keep",
     "subslide"
    ]
   },
   "outputs": [],
   "source": [
    "%maven org.junit.jupiter:junit-jupiter-api:5.8.2\n",
    "%maven org.junit.jupiter:junit-jupiter-engine:5.8.2\n",
    "%maven org.junit.jupiter:junit-jupiter-params:5.8.2\n",
    "%maven org.junit.platform:junit-platform-launcher:1.9.3"
   ]
  },
  {
   "cell_type": "code",
   "execution_count": null,
   "id": "9e34aa251c4f4aa1",
   "metadata": {
    "tags": [
     "keep"
    ]
   },
   "outputs": [],
   "source": [
    "%jars .\n",
    "%classpath testrunner-0.1.jar"
   ]
  },
  {
   "cell_type": "code",
   "execution_count": null,
   "id": "0d9a79fc77081dd9",
   "metadata": {
    "tags": [
     "keep"
    ]
   },
   "outputs": [],
   "source": [
    "import static testrunner.TestRunner.runTests;"
   ]
  },
  {
   "cell_type": "code",
   "execution_count": null,
   "id": "72ae3f49e5a40bdd",
   "metadata": {
    "tags": [
     "keep"
    ]
   },
   "outputs": [],
   "source": [
    "import org.junit.jupiter.api.Test;\n",
    "import static org.junit.jupiter.api.Assertions.*;"
   ]
  },
  {
   "cell_type": "code",
   "execution_count": null,
   "id": "6f0eea53d479099c",
   "metadata": {
    "lines_to_next_cell": 2,
    "slideshow": {
     "slide_type": "subslide"
    },
    "tags": [
     "subslide"
    ]
   },
   "outputs": [],
   "source": [
    "class LeapYearTestsV1 {\n",
    "    @Test\n",
    "    void yearDivisibleBy4ButNot100IsLeapYear() {\n",
    "        assertTrue(isLeapYear(2004));\n",
    "    }\n",
    "\n",
    "    @Test\n",
    "    void yearDivisibleBy400IsLeapYear() {\n",
    "        assertTrue(isLeapYear(2000));\n",
    "    }\n",
    "\n",
    "    @Test\n",
    "    void yearsNotDivisibleBy4AreNotLeapYears() {\n",
    "        assertFalse(isLeapYear(2001));\n",
    "        assertFalse(isLeapYear(2002));\n",
    "        assertFalse(isLeapYear(2003));\n",
    "    }\n",
    "\n",
    "    @Test\n",
    "    void yearDivisibleBy100ButNot400IsNotLeapYear() {\n",
    "        assertFalse(isLeapYear(1900));\n",
    "    }\n",
    "}"
   ]
  },
  {
   "cell_type": "code",
   "execution_count": null,
   "id": "c9ad984b8c979e6f",
   "metadata": {
    "lines_to_next_cell": 2,
    "slideshow": {
     "slide_type": "subslide"
    },
    "tags": [
     "subslide"
    ]
   },
   "outputs": [],
   "source": [
    "runTests(LeapYearTestsV1.class);"
   ]
  },
  {
   "cell_type": "code",
   "execution_count": null,
   "id": "b2c763c1d9ca80ef",
   "metadata": {
    "slideshow": {
     "slide_type": "subslide"
    },
    "tags": [
     "keep",
     "subslide"
    ]
   },
   "outputs": [],
   "source": [
    "import org.junit.jupiter.params.ParameterizedTest;\n",
    "import org.junit.jupiter.params.provider.ValueSource;"
   ]
  },
  {
   "cell_type": "code",
   "execution_count": null,
   "id": "5826d1f104e053b3",
   "metadata": {
    "slideshow": {
     "slide_type": "subslide"
    },
    "tags": [
     "alt",
     "subslide"
    ]
   },
   "outputs": [],
   "source": [
    "class LeapYearTestsV2 {\n",
    "    @Test\n",
    "    void yearDivisibleBy4ButNot100IsLeapYear() {\n",
    "        assertTrue(isLeapYear(2004));\n",
    "    }\n",
    "\n",
    "    @Test\n",
    "    void yearDivisibleBy400IsLeapYear() {\n",
    "        assertTrue(isLeapYear(2000));\n",
    "    }\n",
    "\n",
    "    @ParameterizedTest\n",
    "    @ValueSource(ints = {2001, 2002, 2003})\n",
    "    void yearsNotDivisibleBy4IsNotALeapYear(int year) {\n",
    "        assertFalse(isLeapYear(year));\n",
    "    }\n",
    "\n",
    "    @Test\n",
    "    void yearDivisibleBy100ButNot400IsNotLeapYear() {\n",
    "        assertFalse(isLeapYear(1900));\n",
    "    }\n",
    "}"
   ]
  },
  {
   "cell_type": "code",
   "execution_count": null,
   "id": "8fabf0d766ffca7b",
   "metadata": {
    "slideshow": {
     "slide_type": "subslide"
    },
    "tags": [
     "subslide"
    ]
   },
   "outputs": [],
   "source": [
    "runTests(LeapYearTestsV2.class);"
   ]
  },
  {
   "cell_type": "code",
   "execution_count": null,
   "id": "11529895e0fa0237",
   "metadata": {
    "slideshow": {
     "slide_type": "subslide"
    },
    "tags": [
     "subslide"
    ]
   },
   "outputs": [],
   "source": [
    "class LeapYearTestsV3 {\n",
    "    @ParameterizedTest\n",
    "    @ValueSource(ints = {2001, 2002, 2003, 1900})\n",
    "    void nonLeapYears(int year) {\n",
    "        assertFalse(leapYear.isLeapYear(year));\n",
    "    }\n",
    "\n",
    "    @ParameterizedTest\n",
    "    @ValueSource(ints = {2004, 2000})\n",
    "    void leapYears(int year) {\n",
    "        assertTrue(leapYear.isLeapYear(year));\n",
    "    }\n",
    "}"
   ]
  },
  {
   "cell_type": "code",
   "execution_count": null,
   "id": "e3682122b2549ee4",
   "metadata": {
    "slideshow": {
     "slide_type": "subslide"
    },
    "tags": [
     "subslide"
    ]
   },
   "outputs": [],
   "source": [
    "runTests(LeapYearTestsV3.class);"
   ]
  },
  {
   "cell_type": "markdown",
   "id": "08d4f98e1deef029",
   "metadata": {
    "lang": "de",
    "slideshow": {
     "slide_type": "subslide"
    },
    "tags": [
     "subslide"
    ]
   },
   "source": [
    "\n",
    "## Andere Datenquellen\n",
    "\n",
    "- `@ValueSource` kann nur ein einziges Argument liefern\n",
    "- `@MethodSource` liefert Argument mittels (statischer) Factory-Methode\n",
    "  - Methodenname wir als String übergeben\n",
    "  - `Stream` oder `Iterable` von Argumenten\n",
    "  - `Arguments`-Objekte für komplexe Argumente\n",
    "- `@CsvSource`/`@CsvFileSource` liefern Argumente aus CSV-Daten"
   ]
  },
  {
   "cell_type": "code",
   "execution_count": null,
   "id": "6e62f71b49885692",
   "metadata": {
    "slideshow": {
     "slide_type": "subslide"
    },
    "tags": [
     "subslide",
     "keep"
    ]
   },
   "outputs": [],
   "source": [
    "import java.util.stream.Stream;\n",
    "import org.junit.jupiter.params.provider.MethodSource;"
   ]
  },
  {
   "cell_type": "code",
   "execution_count": null,
   "id": "5e5ec19ccdbf3c78",
   "metadata": {},
   "outputs": [],
   "source": [
    "class LeapYearTestsV4 {\n",
    "    @ParameterizedTest\n",
    "    @MethodSource(\"nonLeapYears\")\n",
    "    void nonLeapYears(int year) {\n",
    "        assertFalse(isLeapYear(year));\n",
    "    }\n",
    "\n",
    "    static Stream<Integer> nonLeapYears() {\n",
    "        return Stream.of(2001, 2002, 2003, 1900);\n",
    "    }\n",
    "\n",
    "    @ParameterizedTest\n",
    "    @MethodSource\n",
    "    void leapYears(int year) {\n",
    "        assertTrue(isLeapYear(year));\n",
    "    }\n",
    "\n",
    "    static Stream<Integer> leapYears() {\n",
    "        return Stream.of(2004, 2000);\n",
    "    }\n",
    "}"
   ]
  },
  {
   "cell_type": "code",
   "execution_count": null,
   "id": "279f33beea06dae7",
   "metadata": {
    "slideshow": {
     "slide_type": "subslide"
    },
    "tags": [
     "subslide"
    ]
   },
   "outputs": [],
   "source": [
    "runTests(LeapYearTestsV4.class);"
   ]
  },
  {
   "cell_type": "code",
   "execution_count": null,
   "id": "a93f1f0a0d736766",
   "metadata": {
    "slideshow": {
     "slide_type": "subslide"
    },
    "tags": [
     "subslide",
     "keep"
    ]
   },
   "outputs": [],
   "source": [
    "import org.junit.jupiter.params.provider.Arguments;"
   ]
  },
  {
   "cell_type": "code",
   "execution_count": null,
   "id": "2ca840914e60ed3e",
   "metadata": {},
   "outputs": [],
   "source": [
    "class LeapYearTestsV5 {\n",
    "    @ParameterizedTest\n",
    "    @MethodSource(\"years\")\n",
    "    void testLeapYear(int year, boolean expected) {\n",
    "        assertEquals(expected, isLeapYear(year));\n",
    "    }\n",
    "\n",
    "    static Stream<Arguments> years() {\n",
    "        return Stream.of(\n",
    "            Arguments.of(2001, false),\n",
    "            Arguments.of(2002, false),\n",
    "            Arguments.of(2003, false),\n",
    "            Arguments.of(1900, false),\n",
    "            Arguments.of(2004, true),\n",
    "            Arguments.of(2000, true)\n",
    "        );\n",
    "    }\n",
    "}"
   ]
  },
  {
   "cell_type": "code",
   "execution_count": null,
   "id": "c33370d8f3c9d511",
   "metadata": {
    "slideshow": {
     "slide_type": "subslide"
    },
    "tags": [
     "subslide"
    ]
   },
   "outputs": [],
   "source": [
    "runTests(LeapYearTestsV5.class);"
   ]
  },
  {
   "cell_type": "code",
   "execution_count": null,
   "id": "04d76a23cb5edbce",
   "metadata": {
    "slideshow": {
     "slide_type": "subslide"
    },
    "tags": [
     "subslide"
    ]
   },
   "outputs": [],
   "source": [
    "import org.junit.jupiter.params.provider.CsvSource;"
   ]
  },
  {
   "cell_type": "code",
   "execution_count": null,
   "id": "ff48b1c8b685554b",
   "metadata": {},
   "outputs": [],
   "source": [
    "class LeapYearTestsV6 {\n",
    "    @ParameterizedTest\n",
    "    @CsvSource({\n",
    "        \"2001, false\",\n",
    "        \"2002, false\",\n",
    "        \"2003, false\",\n",
    "        \"1900, false\",\n",
    "        \"2004, true\",\n",
    "        \"2000, true\"\n",
    "    })\n",
    "    void testLeapYear(int year, boolean expected) {\n",
    "        assertEquals(expected, isLeapYear(year));\n",
    "    }\n",
    "}"
   ]
  },
  {
   "cell_type": "code",
   "execution_count": null,
   "id": "9cf938785893591d",
   "metadata": {
    "slideshow": {
     "slide_type": "subslide"
    },
    "tags": [
     "subslide"
    ]
   },
   "outputs": [],
   "source": [
    "runTests(LeapYearTestsV6.class);"
   ]
  },
  {
   "cell_type": "code",
   "execution_count": null,
   "id": "879fd022ac142a5d",
   "metadata": {
    "slideshow": {
     "slide_type": "subslide"
    },
    "tags": [
     "subslide"
    ]
   },
   "outputs": [],
   "source": [
    "import org.junit.jupiter.params.provider.CsvFileSource;"
   ]
  },
  {
   "cell_type": "code",
   "execution_count": null,
   "id": "19aa397c82bd3f02",
   "metadata": {
    "slideshow": {
     "slide_type": "subslide"
    },
    "tags": [
     "keep",
     "subslide"
    ]
   },
   "outputs": [],
   "source": [
    "%classpath leap-years.jar"
   ]
  },
  {
   "cell_type": "code",
   "execution_count": null,
   "id": "b595bd91826607e0",
   "metadata": {
    "tags": [
     "keep"
    ]
   },
   "outputs": [],
   "source": [
    "var leapYearJar = new java.util.jar.JarFile(\"leap-years.jar\")"
   ]
  },
  {
   "cell_type": "code",
   "execution_count": null,
   "id": "d92b1f3c8bb0c7d4",
   "metadata": {
    "tags": [
     "keep"
    ]
   },
   "outputs": [],
   "source": [
    "leapYearJar.stream().map(e -> e.getName()).forEach(System.out::println);"
   ]
  },
  {
   "cell_type": "code",
   "execution_count": null,
   "id": "86917398ec90f39b",
   "metadata": {
    "tags": [
     "keep"
    ]
   },
   "outputs": [],
   "source": [
    "new BufferedReader(\n",
    "    new InputStreamReader(\n",
    "        leapYearJar.getInputStream(leapYearJar.entries().nextElement())))\n",
    "            .lines().forEach(System.out::println);"
   ]
  },
  {
   "cell_type": "code",
   "execution_count": null,
   "id": "2e6787cdd1c239f3",
   "metadata": {
    "slideshow": {
     "slide_type": "subslide"
    },
    "tags": [
     "subslide"
    ]
   },
   "outputs": [],
   "source": [
    "class LeapYearTestsV7 {\n",
    "    @ParameterizedTest\n",
    "    @CsvFileSource(resources = \"/leap-years.csv\")\n",
    "    void testLeapYear(int year, boolean expected) {\n",
    "        assertEquals(expected, isLeapYear(year));\n",
    "    }\n",
    "}"
   ]
  },
  {
   "cell_type": "code",
   "execution_count": null,
   "id": "35050968b58f5e6b",
   "metadata": {
    "slideshow": {
     "slide_type": "subslide"
    },
    "tags": [
     "subslide"
    ]
   },
   "outputs": [],
   "source": [
    "runTests(LeapYearTestsV7.class);"
   ]
  },
  {
   "cell_type": "markdown",
   "id": "8c97885fbdc5299a",
   "metadata": {
    "lang": "de",
    "slideshow": {
     "slide_type": "subslide"
    },
    "tags": [
     "subslide"
    ]
   },
   "source": [
    "\n",
    "## Workshop: Parametrisierte Tests\n",
    "\n",
    "- Schreiben Sie parametrisierte Tests für die folgenden Funktionen.\n",
    "- Verwenden Sie dabei `@ValueSource`, `@MethodSource`, `@CsvSource` jeweils\n",
    "  mindestens einmal."
   ]
  },
  {
   "cell_type": "code",
   "execution_count": null,
   "id": "50dfb5c41fb1355f",
   "metadata": {
    "tags": [
     "keep"
    ]
   },
   "outputs": [],
   "source": [
    "boolean isPrime(int n) {\n",
    "    if (n <= 1) {\n",
    "        return false;\n",
    "    }\n",
    "    for (int i = 2; i <= Math.sqrt(n); i++) {\n",
    "        if (n % i == 0) {\n",
    "            return false;\n",
    "        }\n",
    "    }\n",
    "    return true;\n",
    "}"
   ]
  },
  {
   "cell_type": "code",
   "execution_count": null,
   "id": "3907ed1be30e632c",
   "metadata": {},
   "outputs": [],
   "source": [
    "class PrimeTests {\n",
    "    @ParameterizedTest\n",
    "    @ValueSource(ints = {1, 4, 6, 8, 9, 10, 12, 14, 15, 16, 18, 20})\n",
    "    void testNonPrimes(int n) {\n",
    "        assertFalse(isPrime(n));\n",
    "    }\n",
    "\n",
    "    @ParameterizedTest\n",
    "    @ValueSource(ints = {2, 3, 5, 7, 11, 13, 17, 19})\n",
    "    void testPrimes(int n) {\n",
    "        assertTrue(isPrime(n));\n",
    "    }\n",
    "}"
   ]
  },
  {
   "cell_type": "code",
   "execution_count": null,
   "id": "05ea2929a00b891a",
   "metadata": {
    "slideshow": {
     "slide_type": "subslide"
    },
    "tags": [
     "keep",
     "subslide"
    ]
   },
   "outputs": [],
   "source": [
    "boolean isPalindrome(String s) {\n",
    "    return s.equals(new StringBuilder(s).reverse().toString());\n",
    "}"
   ]
  },
  {
   "cell_type": "code",
   "execution_count": null,
   "id": "e61c302e699e158d",
   "metadata": {},
   "outputs": [],
   "source": [
    "class PalindromeTests {\n",
    "    @ParameterizedTest\n",
    "    @ValueSource(strings = {\"\", \"a\", \"aa\", \"aba\", \"abba\", \"abcba\"})\n",
    "    void testPalindromes(String s) {\n",
    "        assertTrue(isPalindrome(s));\n",
    "    }\n",
    "\n",
    "    @ParameterizedTest\n",
    "    @ValueSource(strings = {\"ab\", \"abc\", \"abcd\", \"abcde\"})\n",
    "    void testNonPalindromes(String s) {\n",
    "        assertFalse(isPalindrome(s));\n",
    "    }\n",
    "}"
   ]
  },
  {
   "cell_type": "code",
   "execution_count": null,
   "id": "dbeb2412f20c8760",
   "metadata": {
    "tags": [
     "keep"
    ]
   },
   "outputs": [],
   "source": [
    "boolean containsDigit(int n, int digit) {\n",
    "    return String.valueOf(n).contains(String.valueOf(digit));\n",
    "}"
   ]
  },
  {
   "cell_type": "code",
   "execution_count": null,
   "id": "0ccaae2f4dda66f4",
   "metadata": {},
   "outputs": [],
   "source": [
    "class ContainsDigitTests {\n",
    "    @ParameterizedTest\n",
    "    @MethodSource(\"digits\")\n",
    "    void testContainsDigit(int n, int digit, boolean expected) {\n",
    "        assertEquals(expected, containsDigit(n, digit));\n",
    "    }\n",
    "\n",
    "    static Stream<Arguments> digits() {\n",
    "        return Stream.of(\n",
    "            Arguments.of(123, 1, true),\n",
    "            Arguments.of(123, 2, true),\n",
    "            Arguments.of(123, 3, true),\n",
    "            Arguments.of(123, 4, false),\n",
    "            Arguments.of(123, 5, false),\n",
    "            Arguments.of(123, 6, false)\n",
    "        );\n",
    "    }\n",
    "}"
   ]
  },
  {
   "cell_type": "code",
   "execution_count": null,
   "id": "454d4e3214c3a09f",
   "metadata": {
    "tags": [
     "keep"
    ]
   },
   "outputs": [],
   "source": [
    "String substringFollowing(String s, String prefix) {\n",
    "    int index = s.indexOf(prefix);\n",
    "    if (index == -1) {\n",
    "        return s;\n",
    "    }\n",
    "    return s.substring(index + prefix.length());\n",
    "}"
   ]
  },
  {
   "cell_type": "code",
   "execution_count": null,
   "id": "08b5197750ae59e1",
   "metadata": {},
   "outputs": [],
   "source": [
    "class SubstringFollowingTests {\n",
    "    @ParameterizedTest\n",
    "    @CsvSource({\n",
    "        \"Hello, He, llo\",\n",
    "        \"Hello, Hel, lo\",\n",
    "        \"Hello, Hello, \",\n",
    "        \"Hello, ello, Hello\",\n",
    "        \"Hello, o, Hello\"\n",
    "    })\n",
    "    void testSubstringFollowing(String s, String prefix, String expected) {\n",
    "        assertEquals(expected, substringFollowing(s, prefix));\n",
    "    }\n",
    "}"
   ]
  }
 ],
 "metadata": {
  "jupytext": {
   "cell_metadata_filter": "tags,lang,-all",
   "encoding": "// -*- coding: utf-8 -*-",
   "main_language": "java",
   "notebook_metadata_filter": "-all"
  },
  "kernelspec": {
   "display_name": "Java",
   "language": "java",
   "name": "java"
  },
  "language_info": {
   "codemirror_mode": "java",
   "file_extension": ".java",
   "mimetype": "text/java",
   "name": "Java",
   "pygments_lexer": "java",
   "version": ""
  }
 },
 "nbformat": 4,
 "nbformat_minor": 5
}
