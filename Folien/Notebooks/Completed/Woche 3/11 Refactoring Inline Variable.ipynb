{
 "cells": [
  {
   "cell_type": "markdown",
   "id": "d4b9fde23a7c3f0d",
   "metadata": {
    "lang": "de",
    "slideshow": {
     "slide_type": "slide"
    },
    "tags": [
     "slide"
    ]
   },
   "source": [
    "\n",
    "<img src=\"data:image/svg+xml;base64,PHN2ZyB4bWxucz0iaHR0cDovL3d3dy53My5vcmcvMjAwMC9zdmciIHdpZHRoPSI2NCIgaGVpZ2h0\n",
    "PSI2NCIgdmlld0JveD0iMCAwIDMyIDMyIj48cGF0aCBkPSJNMTEuNjIyIDI0Ljc0cy0xLjIzLjc0\n",
    "OC44NTUuOTYyYzIuNTEuMzIgMy44NDcuMjY3IDYuNjI1LS4yNjdhMTAuMDIgMTAuMDIgMCAwIDAg\n",
    "MS43NjMuODU1Yy02LjI1IDIuNjcyLTE0LjE2LS4xNi05LjI0NC0xLjU1em0tLjgtMy40NzNzLTEu\n",
    "MzM2IDEuMDE1Ljc0OCAxLjIzYzIuNzI1LjI2NyA0Ljg2Mi4zMiA4LjU1LS40MjdhMy4yNiAzLjI2\n",
    "IDAgMCAwIDEuMjgyLjgwMWMtNy41MzQgMi4yNDQtMTUuOTc2LjIxNC0xMC41OC0xLjYwM3ptMTQu\n",
    "NzQ3IDYuMDlzLjkwOC43NDgtMS4wMTUgMS4zMzZjLTMuNTggMS4wNy0xNS4wMTQgMS4zOS0xOC4y\n",
    "MiAwLTEuMTIyLS40OCAxLjAxNS0xLjE3NSAxLjctMS4yODIuNjk1LS4xNiAxLjA3LS4xNiAxLjA3\n",
    "LS4xNi0xLjIzLS44NTUtOC4xNzUgMS43NjMtMy41MjYgMi41MSAxMi43NyAyLjA4NCAyMy4yOTYt\n",
    "LjkwOCAxOS45ODMtMi40MDR6TTEyLjIgMTcuNjMzcy01LjgyNCAxLjM5LTIuMDg0IDEuODdjMS42\n",
    "MDMuMjE0IDQuNzU1LjE2IDcuNjk0LS4wNTMgMi40MDQtLjIxNCA0LjgxLS42NCA0LjgxLS42NHMt\n",
    "Ljg1NS4zNzQtMS40NDMuNzQ4Yy01LjkzIDEuNTUtMTcuMzEyLjg1NS0xNC4wNTItLjc0OCAyLjc3\n",
    "OC0xLjMzNiA1LjA3Ni0xLjE3NSA1LjA3Ni0xLjE3NXptMTAuNDIgNS44MjRjNS45ODQtMy4xIDMu\n",
    "MjA2LTYuMDkgMS4yODItNS43MTctLjQ4LjEwNy0uNjk1LjIxNC0uNjk1LjIxNHMuMTYtLjMyLjUz\n",
    "NC0uNDI3YzMuNzk0LTEuMzM2IDYuNzg2IDQuMDA3LTEuMjMgNi4wOSAwIDAgLjA1My0uMDUzLjEw\n",
    "Ny0uMTZ6bS05LjgzIDguNDQyYzUuNzcuMzc0IDE0LjU4Ny0uMjE0IDE0LjgtMi45NCAwIDAtLjQy\n",
    "NyAxLjA3LTQuNzU1IDEuODctNC45MTYuOTA4LTExLjAwNy44LTE0LjU4Ny4yMTQgMCAwIC43NDgu\n",
    "NjQgNC41NDIuODU1eiIgZmlsbD0iIzRlNzg5NiIvPjxwYXRoIGQ9Ik0xOC45OTYuMDAxczMuMzEz\n",
    "IDMuMzY2LTMuMTUyIDguNDQyYy01LjE4MyA0LjExNC0xLjE3NSA2LjQ2NSAwIDkuMTM3LTMuMDQ2\n",
    "LTIuNzI1LTUuMjM2LTUuMTMtMy43NC03LjM3M0MxNC4yOTQgNi44OTMgMjAuMzMyIDUuMyAxOC45\n",
    "OTYuMDAxem0tMS43IDE1LjMzNWMxLjU1IDEuNzYzLS40MjcgMy4zNjYtLjQyNyAzLjM2NnMzLjk1\n",
    "NC0yLjAzIDIuMTM3LTQuNTQyYy0xLjY1Ni0yLjQwNC0yLjk0LTMuNTggNC4wMDctNy41ODcgMCAw\n",
    "LTEwLjk1MyAyLjcyNS01LjcxNyA4Ljc2M3oiIGZpbGw9IiNmNTgyMTkiLz48L3N2Zz4=\n",
    "\"\n",
    "     alt=\"Java Logo\" style=\"display:block;margin:auto;width:5%\"/>\n",
    "<br>\n",
    "\n",
    "<div style=\"text-align:center; font-size:200%;\">\n",
    " <b>Refactoring: Inline Variable</b>\n",
    "</div>\n",
    "<br/>\n",
    "<div style=\"text-align:center; font-size:120%;\">Dr. Matthias Hölzl</div>\n",
    "<br/>\n",
    "<div style=\"text-align:center;\">Coding-Akademie München</div>\n",
    "<br/>"
   ]
  },
  {
   "cell_type": "markdown",
   "id": "9d2d3f56d1504b66",
   "metadata": {
    "lang": "de",
    "slideshow": {
     "slide_type": "subslide"
    },
    "tags": [
     "subslide"
    ]
   },
   "source": [
    "\n",
    "### Inline Variable"
   ]
  },
  {
   "cell_type": "code",
   "execution_count": null,
   "id": "a25a1be39c8e3cfc",
   "metadata": {
    "tags": [
     "keep"
    ]
   },
   "outputs": [],
   "source": [
    "import java.util.List;\n",
    "import java.util.ArrayList;"
   ]
  },
  {
   "cell_type": "code",
   "execution_count": null,
   "id": "2118d4db16d291a4",
   "metadata": {
    "tags": [
     "keep"
    ]
   },
   "outputs": [],
   "source": [
    "public class OrderLine {\n",
    "    public String product;\n",
    "    public int quantity;\n",
    "    public double price;\n",
    "\n",
    "    public OrderLine(String product, int quantity, double price) {\n",
    "        this.product = product;\n",
    "        this.quantity = quantity;\n",
    "        this.price = price;\n",
    "    }\n",
    "}"
   ]
  },
  {
   "cell_type": "code",
   "execution_count": null,
   "id": "f0e0b2484ff053b1",
   "metadata": {
    "lines_to_next_cell": 2,
    "slideshow": {
     "slide_type": "subslide"
    },
    "tags": [
     "keep",
     "subslide"
    ]
   },
   "outputs": [],
   "source": [
    "static List<OrderLine> makeOrderLines() {\n",
    "    List<OrderLine> orderLines = new ArrayList<>();\n",
    "    orderLines.add(new OrderLine(\"Apple\", 2, 0.5));\n",
    "    orderLines.add(new OrderLine(\"Banana\", 3, 0.3));\n",
    "    orderLines.add(new OrderLine(\"Orange\", 1, 0.8));\n",
    "    return orderLines;\n",
    "}"
   ]
  },
  {
   "cell_type": "code",
   "execution_count": null,
   "id": "06651c22325356f4",
   "metadata": {
    "tags": [
     "keep"
    ]
   },
   "outputs": [],
   "source": [
    "public class Refactoring {\n",
    "    public static double orderLinePrice(OrderLine orderLine) {\n",
    "        return orderLine.quantity * orderLine.price;\n",
    "    }\n",
    "\n",
    "    public static double computeTotal(List<OrderLine> orderLines) {\n",
    "        double total = 0.0;\n",
    "        for (OrderLine orderLine : orderLines) {\n",
    "            double orderLinePrice1 = orderLinePrice(orderLine);\n",
    "            total += orderLinePrice1;\n",
    "        }\n",
    "        return total;\n",
    "    }\n",
    "}"
   ]
  },
  {
   "cell_type": "code",
   "execution_count": null,
   "id": "62f2a38b9f7bf155",
   "metadata": {
    "lines_to_next_cell": 2,
    "tags": [
     "keep"
    ]
   },
   "outputs": [],
   "source": [
    "Refactoring.computeTotal(makeOrderLines())"
   ]
  },
  {
   "cell_type": "code",
   "execution_count": null,
   "id": "c1d85ad9aa5444cb",
   "metadata": {
    "slideshow": {
     "slide_type": "subslide"
    },
    "tags": [
     "alt",
     "subslide"
    ]
   },
   "outputs": [],
   "source": [
    "public class Refactoring {\n",
    "    public static double orderLinePrice(OrderLine orderLine) {\n",
    "        return orderLine.quantity * orderLine.price;\n",
    "    }\n",
    "\n",
    "    public static double computeTotal(List<OrderLine> orderLines) {\n",
    "        double total = 0.0;\n",
    "        for (OrderLine orderLine : orderLines) {\n",
    "            total += orderLinePrice(orderLine); // <-- inline variable\n",
    "        }\n",
    "        return total;\n",
    "    }\n",
    "}"
   ]
  },
  {
   "cell_type": "code",
   "execution_count": null,
   "id": "baacc3f9a04f79fe",
   "metadata": {
    "tags": [
     "keep"
    ]
   },
   "outputs": [],
   "source": [
    "Refactoring.computeTotal(makeOrderLines())"
   ]
  },
  {
   "cell_type": "markdown",
   "id": "86d227263d1a6e95",
   "metadata": {
    "lang": "de",
    "slideshow": {
     "slide_type": "subslide"
    },
    "tags": [
     "subslide"
    ]
   },
   "source": [
    "\n",
    "#### Motivation\n",
    "\n",
    "- Manchmal kommuniziert der Name der Variable nicht mehr als der Ausdruck\n",
    "  selbst\n",
    "- Manchmal verhindert eine Variable das Refactoring von anderem Code"
   ]
  },
  {
   "cell_type": "markdown",
   "id": "57ad948a6149e0bf",
   "metadata": {
    "lang": "de",
    "slideshow": {
     "slide_type": "subslide"
    },
    "tags": [
     "subslide"
    ]
   },
   "source": [
    "\n",
    "#### Mechanik\n",
    "\n",
    "- Stelle sicher, dass der Initialisierungs-Ausdruck frei von Seiteneffekten\n",
    "  ist\n",
    "- Falls die Variable nicht schon konstant ist, mache sie konstant und teste\n",
    "  das Programm\n",
    "- Finde die erste Referenz auf die Variable\n",
    "- Ersetze die Variable durch ihren Initialisierungs-Ausdruck\n",
    "- Teste das Programm\n",
    "- Wiederhole für jede Referenz auf die Variable"
   ]
  }
 ],
 "metadata": {
  "jupytext": {
   "cell_metadata_filter": "tags,lang,-all",
   "encoding": "// -*- coding: utf-8 -*-",
   "main_language": "java",
   "notebook_metadata_filter": "-all"
  },
  "kernelspec": {
   "display_name": "Java",
   "language": "java",
   "name": "java"
  },
  "language_info": {
   "codemirror_mode": "java",
   "file_extension": ".java",
   "mimetype": "text/java",
   "name": "Java",
   "pygments_lexer": "java",
   "version": ""
  }
 },
 "nbformat": 4,
 "nbformat_minor": 5
}
