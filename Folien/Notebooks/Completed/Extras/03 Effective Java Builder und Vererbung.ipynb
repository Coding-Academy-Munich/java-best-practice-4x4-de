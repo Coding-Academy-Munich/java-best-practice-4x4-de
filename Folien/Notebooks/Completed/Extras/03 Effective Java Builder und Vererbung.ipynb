{
 "cells": [
  {
   "cell_type": "markdown",
   "id": "85412b27325988b7",
   "metadata": {
    "lang": "de",
    "slideshow": {
     "slide_type": "slide"
    },
    "tags": [
     "slide"
    ]
   },
   "source": [
    "\n",
    "<img src=\"data:image/svg+xml;base64,PHN2ZyB4bWxucz0iaHR0cDovL3d3dy53My5vcmcvMjAwMC9zdmciIHdpZHRoPSI2NCIgaGVpZ2h0\n",
    "PSI2NCIgdmlld0JveD0iMCAwIDMyIDMyIj48cGF0aCBkPSJNMTEuNjIyIDI0Ljc0cy0xLjIzLjc0\n",
    "OC44NTUuOTYyYzIuNTEuMzIgMy44NDcuMjY3IDYuNjI1LS4yNjdhMTAuMDIgMTAuMDIgMCAwIDAg\n",
    "MS43NjMuODU1Yy02LjI1IDIuNjcyLTE0LjE2LS4xNi05LjI0NC0xLjU1em0tLjgtMy40NzNzLTEu\n",
    "MzM2IDEuMDE1Ljc0OCAxLjIzYzIuNzI1LjI2NyA0Ljg2Mi4zMiA4LjU1LS40MjdhMy4yNiAzLjI2\n",
    "IDAgMCAwIDEuMjgyLjgwMWMtNy41MzQgMi4yNDQtMTUuOTc2LjIxNC0xMC41OC0xLjYwM3ptMTQu\n",
    "NzQ3IDYuMDlzLjkwOC43NDgtMS4wMTUgMS4zMzZjLTMuNTggMS4wNy0xNS4wMTQgMS4zOS0xOC4y\n",
    "MiAwLTEuMTIyLS40OCAxLjAxNS0xLjE3NSAxLjctMS4yODIuNjk1LS4xNiAxLjA3LS4xNiAxLjA3\n",
    "LS4xNi0xLjIzLS44NTUtOC4xNzUgMS43NjMtMy41MjYgMi41MSAxMi43NyAyLjA4NCAyMy4yOTYt\n",
    "LjkwOCAxOS45ODMtMi40MDR6TTEyLjIgMTcuNjMzcy01LjgyNCAxLjM5LTIuMDg0IDEuODdjMS42\n",
    "MDMuMjE0IDQuNzU1LjE2IDcuNjk0LS4wNTMgMi40MDQtLjIxNCA0LjgxLS42NCA0LjgxLS42NHMt\n",
    "Ljg1NS4zNzQtMS40NDMuNzQ4Yy01LjkzIDEuNTUtMTcuMzEyLjg1NS0xNC4wNTItLjc0OCAyLjc3\n",
    "OC0xLjMzNiA1LjA3Ni0xLjE3NSA1LjA3Ni0xLjE3NXptMTAuNDIgNS44MjRjNS45ODQtMy4xIDMu\n",
    "MjA2LTYuMDkgMS4yODItNS43MTctLjQ4LjEwNy0uNjk1LjIxNC0uNjk1LjIxNHMuMTYtLjMyLjUz\n",
    "NC0uNDI3YzMuNzk0LTEuMzM2IDYuNzg2IDQuMDA3LTEuMjMgNi4wOSAwIDAgLjA1My0uMDUzLjEw\n",
    "Ny0uMTZ6bS05LjgzIDguNDQyYzUuNzcuMzc0IDE0LjU4Ny0uMjE0IDE0LjgtMi45NCAwIDAtLjQy\n",
    "NyAxLjA3LTQuNzU1IDEuODctNC45MTYuOTA4LTExLjAwNy44LTE0LjU4Ny4yMTQgMCAwIC43NDgu\n",
    "NjQgNC41NDIuODU1eiIgZmlsbD0iIzRlNzg5NiIvPjxwYXRoIGQ9Ik0xOC45OTYuMDAxczMuMzEz\n",
    "IDMuMzY2LTMuMTUyIDguNDQyYy01LjE4MyA0LjExNC0xLjE3NSA2LjQ2NSAwIDkuMTM3LTMuMDQ2\n",
    "LTIuNzI1LTUuMjM2LTUuMTMtMy43NC03LjM3M0MxNC4yOTQgNi44OTMgMjAuMzMyIDUuMyAxOC45\n",
    "OTYuMDAxem0tMS43IDE1LjMzNWMxLjU1IDEuNzYzLS40MjcgMy4zNjYtLjQyNyAzLjM2NnMzLjk1\n",
    "NC0yLjAzIDIuMTM3LTQuNTQyYy0xLjY1Ni0yLjQwNC0yLjk0LTMuNTggNC4wMDctNy41ODcgMCAw\n",
    "LTEwLjk1MyAyLjcyNS01LjcxNyA4Ljc2M3oiIGZpbGw9IiNmNTgyMTkiLz48L3N2Zz4=\n",
    "\"\n",
    "     alt=\"Java Logo\" style=\"display:block;margin:auto;width:5%\"/>\n",
    "<br>\n",
    "\n",
    "<div style=\"text-align:center; font-size:200%;\">\n",
    " <b>Effective Java: Builder und Vererbung</b>\n",
    "</div>\n",
    "<br/>\n",
    "<div style=\"text-align:center; font-size:120%;\">Dr. Matthias Hölzl</div>\n",
    "<br/>\n",
    "<div style=\"text-align:center;\">Coding-Akademie München</div>\n",
    "<br/>"
   ]
  },
  {
   "cell_type": "markdown",
   "id": "aa530144652e377f",
   "metadata": {
    "lang": "de",
    "slideshow": {
     "slide_type": "subslide"
    },
    "tags": [
     "subslide"
    ]
   },
   "source": [
    "\n",
    "### Builder Pattern: Beispiel in einer Klassenhierarchie\n",
    "\n",
    "- Abstract Builder-Klasse\n",
    "- Konkrete Builder-Klassen für Unterklassen\n",
    "- Covarianter Ergebnis-Typ von `build()` (`build()` gibt Typ der Unterklasse\n",
    "  zurück)\n",
    "- Simuliertes self-type Idiom"
   ]
  },
  {
   "cell_type": "code",
   "execution_count": null,
   "id": "b1243d8131a7f600",
   "metadata": {
    "slideshow": {
     "slide_type": "subslide"
    },
    "tags": [
     "keep",
     "subslide"
    ]
   },
   "outputs": [],
   "source": [
    "import java.util.EnumSet;\n",
    "import java.util.Set;\n",
    "import java.util.Objects;"
   ]
  },
  {
   "cell_type": "code",
   "execution_count": null,
   "id": "ce9798d61566dc6e",
   "metadata": {
    "slideshow": {
     "slide_type": "subslide"
    },
    "tags": [
     "keep",
     "subslide"
    ]
   },
   "outputs": [],
   "source": [
    "public abstract class Bicycle {\n",
    "    public enum Component { LIGHTS, FENDERS, RACK, COMPUTER }\n",
    "    final Set<Component> components;\n",
    "    final String frame;\n",
    "    final int wheelSize;\n",
    "\n",
    "    // f-bounded polymorphism ----vvvvvvvvvvvvvvvvvvvv-----------------\n",
    "    abstract static class Builder<T extends Builder<T>> {\n",
    "        EnumSet<Component> components = EnumSet.noneOf(Component.class);\n",
    "        String frame;\n",
    "        int wheelSize;\n",
    "\n",
    "        public T addComponent(Component component) {\n",
    "            components.add(Objects.requireNonNull(component));\n",
    "            return self();            // <== Simulated self-type idiom\n",
    "        }\n",
    "\n",
    "        public T frame(String val) {\n",
    "            frame = val;\n",
    "            return self();            // <== Simulated self-type idiom\n",
    "        }\n",
    "\n",
    "        public T wheelSize(int val) {\n",
    "            wheelSize = val;\n",
    "            return self();            // <== Simulated self-type idiom\n",
    "        }\n",
    "\n",
    "        // ------vvvvvvv------------- Covariant return typing ----------\n",
    "        abstract Bicycle build();\n",
    "\n",
    "        protected abstract T self();  // <== Simulated self-type idiom\n",
    "    }\n",
    "\n",
    "    Bicycle(Builder<?> builder) {\n",
    "        components = builder.components.clone();\n",
    "        frame = builder.frame;\n",
    "        wheelSize = builder.wheelSize;\n",
    "    }\n",
    "\n",
    "    @Override\n",
    "    public String toString() {\n",
    "        return \"components=\" + components +\n",
    "                \", frame='\" + frame + '\\'' +\n",
    "                \", wheelSize=\" + wheelSize;\n",
    "    }\n",
    "}"
   ]
  },
  {
   "cell_type": "code",
   "execution_count": null,
   "id": "5bf67617dc1a01ae",
   "metadata": {
    "slideshow": {
     "slide_type": "subslide"
    },
    "tags": [
     "keep",
     "subslide"
    ]
   },
   "outputs": [],
   "source": [
    "public class MountainBike extends Bicycle {\n",
    "    public enum Suspension { HARDTAIL, FULL }\n",
    "    private final Suspension suspension;\n",
    "\n",
    "    // f-bounded polymorphism ---------vvvvvvvvvvvvvvvvvvvvvvvvv-------\n",
    "    public static class Builder extends Bicycle.Builder<Builder> {\n",
    "        private Suspension suspension = Suspension.HARDTAIL;\n",
    "\n",
    "        public Builder suspension(Suspension val) {\n",
    "            suspension = val;\n",
    "            return this;                 // <== No more subclassing\n",
    "        }\n",
    "\n",
    "        @Override\n",
    "        public MountainBike build() {     // <== Covariant return typing\n",
    "            return new MountainBike(this);\n",
    "        }\n",
    "\n",
    "        @Override protected Builder self() { return this; }\n",
    "    }\n",
    "\n",
    "    private MountainBike(Builder builder) {\n",
    "        super(builder);\n",
    "        suspension = builder.suspension;\n",
    "    }\n",
    "\n",
    "    @Override\n",
    "    public String toString() {\n",
    "        return \"MountainBike{\" + super.toString() +\n",
    "                \", suspension=\" + suspension +\n",
    "                '}';\n",
    "    }\n",
    "}"
   ]
  },
  {
   "cell_type": "code",
   "execution_count": null,
   "id": "6f71bca39fc8ef16",
   "metadata": {
    "slideshow": {
     "slide_type": "subslide"
    },
    "tags": [
     "keep",
     "subslide"
    ]
   },
   "outputs": [],
   "source": [
    "public class RoadBike extends Bicycle {\n",
    "    private final int gears;\n",
    "\n",
    "    public static class Builder extends Bicycle.Builder<Builder> {\n",
    "        private int gears = 18;\n",
    "\n",
    "        public Builder gears(int val) {\n",
    "            gears = val;\n",
    "            return this;\n",
    "        }\n",
    "\n",
    "        @Override public RoadBike build() {\n",
    "            return new RoadBike(this);\n",
    "        }\n",
    "\n",
    "        @Override protected Builder self() { return this; }\n",
    "    }\n",
    "\n",
    "    private RoadBike(Builder builder) {\n",
    "        super(builder);\n",
    "        gears = builder.gears;\n",
    "    }\n",
    "\n",
    "    @Override\n",
    "    public String toString() {\n",
    "        return \"RoadBike{\" + super.toString() +\n",
    "                \", gears=\" + gears +\n",
    "                '}';\n",
    "    }\n",
    "}"
   ]
  },
  {
   "cell_type": "code",
   "execution_count": null,
   "id": "36f5c1c0d35ac01a",
   "metadata": {
    "slideshow": {
     "slide_type": "subslide"
    },
    "tags": [
     "keep",
     "subslide"
    ]
   },
   "outputs": [],
   "source": [
    "MountainBike mtb = new MountainBike.Builder()\n",
    "        .frame(\"Aluminum\")\n",
    "        .wheelSize(29)\n",
    "        .suspension(MountainBike.Suspension.FULL)\n",
    "        .addComponent(Bicycle.Component.COMPUTER)\n",
    "        .build();"
   ]
  },
  {
   "cell_type": "code",
   "execution_count": null,
   "id": "4e86f40bd5b0b5c4",
   "metadata": {
    "tags": [
     "keep"
    ]
   },
   "outputs": [],
   "source": [
    "mtb"
   ]
  },
  {
   "cell_type": "code",
   "execution_count": null,
   "id": "f79667a34801c3a1",
   "metadata": {
    "slideshow": {
     "slide_type": "subslide"
    },
    "tags": [
     "keep",
     "subslide"
    ]
   },
   "outputs": [],
   "source": [
    "RoadBike roadBike = new RoadBike.Builder()\n",
    "        .frame(\"Carbon\")\n",
    "        .wheelSize(28)\n",
    "        .gears(22)\n",
    "        .addComponent(Bicycle.Component.COMPUTER)\n",
    "        .build();"
   ]
  },
  {
   "cell_type": "code",
   "execution_count": null,
   "id": "f26f7a7df1abd4fa",
   "metadata": {
    "lines_to_next_cell": 2,
    "tags": [
     "keep"
    ]
   },
   "outputs": [],
   "source": [
    "roadBike"
   ]
  },
  {
   "cell_type": "markdown",
   "id": "271b86885dd26d81",
   "metadata": {
    "lang": "de",
    "slideshow": {
     "slide_type": "subslide"
    },
    "tags": [
     "subslide"
    ]
   },
   "source": [
    "\n",
    "### Zusammenfassung\n",
    "\n",
    "- Builder Pattern ideal für viele Konstruktor-Parameter\n",
    "- Vereint die Vorteile des teleskopierenden Konstruktors und des JavaBeans\n",
    "  Patterns\n",
    "- Leicht lesbar, leicht wartbar, sicher\n",
    "- Möglich für Klassenhierarchien"
   ]
  },
  {
   "cell_type": "markdown",
   "id": "a7113d10d5eb9fef",
   "metadata": {
    "lang": "de",
    "slideshow": {
     "slide_type": "slide"
    },
    "tags": [
     "slide"
    ]
   },
   "source": [
    "\n",
    "## Workshop: Escape Room Design Builder\n",
    "\n",
    "- Implementieren Sie ein System zur Erstellung von Escape Rooms\n",
    "- Verwenden Sie eine Klassenhierarchie und das Builder-Pattern"
   ]
  },
  {
   "cell_type": "markdown",
   "id": "9298f2dc9c675a2a",
   "metadata": {
    "lang": "de",
    "slideshow": {
     "slide_type": "subslide"
    },
    "tags": [
     "subslide"
    ]
   },
   "source": [
    "\n",
    "### Gegebene Klassen\n",
    "\n",
    "- `Room` (Superklasse)\n",
    "- `PuzzleRoom`, `PhysicalChallengeRoom`, `StoryRoom` (Subklassen von `Room`)"
   ]
  },
  {
   "cell_type": "code",
   "execution_count": null,
   "id": "7e320942d4322177",
   "metadata": {
    "slideshow": {
     "slide_type": "subslide"
    },
    "tags": [
     "keep",
     "subslide"
    ]
   },
   "outputs": [],
   "source": [
    "public abstract class Room {\n",
    "    public enum Component { LIGHTS, FENDERS, RACK, COMPUTER }\n",
    "    final Set<Component> components;\n",
    "    final String frame;\n",
    "    final int width;\n",
    "    final int height;\n",
    "    final int difficultyLevel;\n",
    "    final int timeLimit;\n",
    "\n",
    "    Room(Set<Component> components, String frame, int width, int height, int difficultyLevel, int timeLimit) {\n",
    "        this.components = components;\n",
    "        this.frame = frame;\n",
    "        this.width = width;\n",
    "        this.height = height;\n",
    "        this.difficultyLevel = difficultyLevel;\n",
    "        this.timeLimit = timeLimit;\n",
    "    }\n",
    "\n",
    "    public int getWidth() { return width; }\n",
    "    public int getHeight() { return height; }\n",
    "    public int getDifficultyLevel() { return difficultyLevel; }\n",
    "    public int getTimeLimit() { return timeLimit; }\n",
    "    public Set<Component> getComponents() { return components; }\n",
    "    public String getFrame() { return frame; }\n",
    "\n",
    "    @Override public String toString() {\n",
    "        return String.format(\n",
    "            \"width=%d, height=%d, difficultyLevel=%d, timeLimit=%d, components=%s, frame=%s\",\n",
    "            width, height, difficultyLevel, timeLimit, components, frame);\n",
    "    }\n",
    "}"
   ]
  },
  {
   "cell_type": "code",
   "execution_count": null,
   "id": "2100d5a30de8a9a9",
   "metadata": {
    "slideshow": {
     "slide_type": "subslide"
    },
    "tags": [
     "keep",
     "subslide"
    ]
   },
   "outputs": [],
   "source": [
    "public class PuzzleRoom extends Room {\n",
    "    private final int numberOfPuzzles;\n",
    "\n",
    "    PuzzleRoom(\n",
    "            Set<Component> components, String frame, int width, int height,\n",
    "            int difficultyLevel, int timeLimit, int numberOfPuzzles) {\n",
    "        super(components, frame, width, height, difficultyLevel, timeLimit);\n",
    "        this.numberOfPuzzles = numberOfPuzzles;\n",
    "    }\n",
    "\n",
    "    public int getNumberOfPuzzles() { return numberOfPuzzles; }\n",
    "\n",
    "    @Override public String toString() {\n",
    "        return String.format(\"PuzzleRoom(%s, numberOfPuzzles=%d)\", super.toString(), numberOfPuzzles);\n",
    "    }\n",
    "}"
   ]
  },
  {
   "cell_type": "code",
   "execution_count": null,
   "id": "664d5a377cc8dcad",
   "metadata": {
    "slideshow": {
     "slide_type": "subslide"
    },
    "tags": [
     "keep",
     "subslide"
    ]
   },
   "outputs": [],
   "source": [
    "public class PhysicalChallengeRoom extends Room {\n",
    "    private final String equipmentRequired;\n",
    "\n",
    "    PhysicalChallengeRoom(\n",
    "            Set<Component> components, String frame, int width, int height,\n",
    "            int difficultyLevel, int timeLimit, String equipmentRequired) {\n",
    "        super(components, frame, width, height, difficultyLevel, timeLimit);\n",
    "        this.equipmentRequired = equipmentRequired;\n",
    "    }\n",
    "\n",
    "    public String getEquipmentRequired() { return equipmentRequired; }\n",
    "\n",
    "    @Override public String toString() {\n",
    "        return String.format(\"PhysicalChallengeRoom(%s, equipmentRequired=%s)\", super.toString(), equipmentRequired);\n",
    "    }\n",
    "}"
   ]
  },
  {
   "cell_type": "code",
   "execution_count": null,
   "id": "6aa7c0667561607d",
   "metadata": {
    "slideshow": {
     "slide_type": "subslide"
    },
    "tags": [
     "keep",
     "subslide"
    ]
   },
   "outputs": [],
   "source": [
    "public class StoryRoom extends Room {\n",
    "    private final String narrativeComplexity;\n",
    "\n",
    "    StoryRoom(\n",
    "            Set<Component> components, String frame, int width, int height,\n",
    "            int difficultyLevel, int timeLimit, String narrativeComplexity) {\n",
    "        super(components, frame, width, height, difficultyLevel, timeLimit);\n",
    "        this.narrativeComplexity = narrativeComplexity;\n",
    "    }\n",
    "\n",
    "    public String getNarrativeComplexity() { return narrativeComplexity; }\n",
    "\n",
    "    @Override public String toString() {\n",
    "        return String.format(\"StoryRoom(%s, narrativeComplexity=%s)\", super.toString(), narrativeComplexity);\n",
    "    }\n",
    "}"
   ]
  },
  {
   "cell_type": "code",
   "execution_count": null,
   "id": "e950254573a88884",
   "metadata": {
    "slideshow": {
     "slide_type": "subslide"
    },
    "tags": [
     "keep",
     "subslide"
    ]
   },
   "outputs": [],
   "source": [
    "public abstract class RoomBuilder<T extends RoomBuilder<T>> {\n",
    "    EnumSet<Room.Component> components = EnumSet.noneOf(Room.Component.class);\n",
    "    String frame;\n",
    "    int width;\n",
    "    int height;\n",
    "    int difficultyLevel;\n",
    "    int timeLimit;\n",
    "\n",
    "    public T addComponent(Room.Component component) {\n",
    "        components.add(Objects.requireNonNull(component));\n",
    "        return self();\n",
    "    }\n",
    "\n",
    "    public T frame(String val) {\n",
    "        frame = val;\n",
    "        return self();\n",
    "    }\n",
    "\n",
    "    public T width(int val) {\n",
    "        width = val;\n",
    "        return self();\n",
    "    }\n",
    "\n",
    "    public T height(int val) {\n",
    "        height = val;\n",
    "        return self();\n",
    "    }\n",
    "\n",
    "    public T difficultyLevel(int val) {\n",
    "        difficultyLevel = val;\n",
    "        return self();\n",
    "    }\n",
    "\n",
    "    public T timeLimit(int val) {\n",
    "        timeLimit = val;\n",
    "        return self();\n",
    "    }\n",
    "\n",
    "    abstract Room build();\n",
    "\n",
    "    protected abstract T self();\n",
    "}"
   ]
  },
  {
   "cell_type": "markdown",
   "id": "4decef9649c1edcf",
   "metadata": {
    "lang": "de",
    "slideshow": {
     "slide_type": "slide"
    },
    "tags": [
     "slide"
    ]
   },
   "source": [
    "\n",
    "### Aufgaben\n",
    "\n",
    "1. Implementieren Sie die `PuzzleRoomBuilder`-Klasse\n",
    "2. Implementieren Sie die `PhysicalChallengeRoomBuilder`-Klasse\n",
    "3. Implementieren Sie die `StoryRoomBuilder`-Klasse\n",
    "4. Testen Sie Ihre Implementierung"
   ]
  },
  {
   "cell_type": "markdown",
   "id": "33fa01b2944f3f16",
   "metadata": {
    "lang": "de",
    "slideshow": {
     "slide_type": "slide"
    },
    "tags": [
     "slide"
    ]
   },
   "source": [
    "\n",
    "#### Aufgabe 1: `PuzzleRoomBuilder`\n",
    "\n",
    "- Implementieren Sie die `PuzzleRoomBuilder`-Klasse\n",
    "- Stellen Sie sicher, dass alle Methoden der `RoomBuilder`-Superklasse implementiert sind\n",
    "- Fügen Sie zusätzlich Methoden hinzu, um die Anzahl der Puzzles zu setzen"
   ]
  },
  {
   "cell_type": "code",
   "execution_count": null,
   "id": "120b302c7420f5f1",
   "metadata": {
    "slideshow": {
     "slide_type": "subslide"
    },
    "tags": [
     "subslide"
    ]
   },
   "outputs": [],
   "source": [
    "public class PuzzleRoomBuilder extends RoomBuilder<PuzzleRoomBuilder> {\n",
    "    private int numberOfPuzzles = 5; // Default\n",
    "\n",
    "    public PuzzleRoomBuilder numberOfPuzzles(int val) {\n",
    "        numberOfPuzzles = val;\n",
    "        return this;\n",
    "    }\n",
    "\n",
    "    @Override\n",
    "    public PuzzleRoom build() {\n",
    "        return new PuzzleRoom(\n",
    "            components, frame, width, height, difficultyLevel, timeLimit, numberOfPuzzles);\n",
    "    }\n",
    "\n",
    "    @Override\n",
    "    protected PuzzleRoomBuilder self() {\n",
    "        return this;\n",
    "    }\n",
    "}"
   ]
  },
  {
   "cell_type": "markdown",
   "id": "d68bfbeacb59d0c1",
   "metadata": {
    "lang": "de",
    "slideshow": {
     "slide_type": "slide"
    },
    "tags": [
     "slide"
    ]
   },
   "source": [
    "\n",
    "#### Aufgabe 2: `PhysicalChallengeRoomBuilder`\n",
    "\n",
    "- Implementieren Sie die `PhysicalChallengeRoomBuilder`-Klasse\n",
    "- Stellen Sie sicher, dass alle Methoden der `RoomBuilder`-Superklasse implementiert sind\n",
    "- Fügen Sie zusätzlich Methoden hinzu, um das benötigte Equipment zu setzen"
   ]
  },
  {
   "cell_type": "code",
   "execution_count": null,
   "id": "656ea965f14226a9",
   "metadata": {
    "slideshow": {
     "slide_type": "subslide"
    },
    "tags": [
     "subslide"
    ]
   },
   "outputs": [],
   "source": [
    "public class PhysicalChallengeRoomBuilder extends RoomBuilder<PhysicalChallengeRoomBuilder> {\n",
    "    private String equipmentRequired = \"Ropes, Ladders, Hurdles\"; // Default\n",
    "\n",
    "    public PhysicalChallengeRoomBuilder equipmentRequired(String val) {\n",
    "        equipmentRequired = val;\n",
    "        return this;\n",
    "    }\n",
    "\n",
    "    @Override\n",
    "    public PhysicalChallengeRoom build() {\n",
    "        return new PhysicalChallengeRoom(\n",
    "            components, frame, width, height, difficultyLevel, timeLimit, equipmentRequired);\n",
    "    }\n",
    "\n",
    "    @Override\n",
    "    protected PhysicalChallengeRoomBuilder self() {\n",
    "        return this;\n",
    "    }\n",
    "}"
   ]
  },
  {
   "cell_type": "markdown",
   "id": "a83694f2a5b5fb1a",
   "metadata": {
    "lang": "de",
    "slideshow": {
     "slide_type": "slide"
    },
    "tags": [
     "slide"
    ]
   },
   "source": [
    "\n",
    "#### Aufgabe 3: `StoryRoomBuilder`\n",
    "\n",
    "- Implementieren Sie die `StoryRoomBuilder`-Klasse\n",
    "- Stellen Sie sicher, dass alle Methoden der `RoomBuilder`-Superklasse implementiert sind\n",
    "- Fügen Sie zusätzlich Methoden hinzu, um die narrative complexity zu setzen"
   ]
  },
  {
   "cell_type": "code",
   "execution_count": null,
   "id": "e1edf5320d273c22",
   "metadata": {
    "slideshow": {
     "slide_type": "subslide"
    },
    "tags": [
     "subslide"
    ]
   },
   "outputs": [],
   "source": [
    "public class StoryRoomBuilder extends RoomBuilder<StoryRoomBuilder> {\n",
    "    private String narrativeComplexity = \"High\"; // Default\n",
    "\n",
    "    public StoryRoomBuilder narrativeComplexity(String val) {\n",
    "        narrativeComplexity = val;\n",
    "        return this;\n",
    "    }\n",
    "\n",
    "    @Override\n",
    "    public StoryRoom build() {\n",
    "        return new StoryRoom(\n",
    "            components, frame, width, height, difficultyLevel, timeLimit, narrativeComplexity);\n",
    "    }\n",
    "\n",
    "    @Override\n",
    "    protected StoryRoomBuilder self() {\n",
    "        return this;\n",
    "    }\n",
    "}"
   ]
  },
  {
   "cell_type": "markdown",
   "id": "c992a12e7275f32c",
   "metadata": {
    "lang": "de",
    "slideshow": {
     "slide_type": "slide"
    },
    "tags": [
     "slide"
    ]
   },
   "source": [
    "\n",
    "#### Aufgabe 4: Testen Sie Ihre Implementierung\n",
    "\n",
    "- Erstellen Sie Instanzen der `PuzzleRoomBuilder`,\n",
    "  `PhysicalChallengeRoomBuilder` und `StoryRoomBuilder`\n",
    "- Erstellen Sie `Room`-Objekte mithilfe der Builder-Klassen\n",
    "- Stellen Sie sicher, dass die erstellten `Room`-Objekte korrekt\n",
    "  initialisiert sind"
   ]
  },
  {
   "cell_type": "code",
   "execution_count": null,
   "id": "4aa3b2e5f09299f6",
   "metadata": {
    "slideshow": {
     "slide_type": "subslide"
    },
    "tags": [
     "subslide"
    ]
   },
   "outputs": [],
   "source": [
    "PuzzleRoom puzzleRoom = new PuzzleRoomBuilder()\n",
    "    .addComponent(Room.Component.LIGHTS)\n",
    "    .frame(\"Wood\")\n",
    "    .width(5)\n",
    "    .height(10)\n",
    "    .difficultyLevel(3)\n",
    "    .timeLimit(60)\n",
    "    .numberOfPuzzles(5)\n",
    "    .build();"
   ]
  },
  {
   "cell_type": "code",
   "execution_count": null,
   "id": "e5ea4357a6d473e6",
   "metadata": {},
   "outputs": [],
   "source": [
    "puzzleRoom"
   ]
  },
  {
   "cell_type": "code",
   "execution_count": null,
   "id": "1bab1d921e622917",
   "metadata": {
    "slideshow": {
     "slide_type": "subslide"
    },
    "tags": [
     "subslide"
    ]
   },
   "outputs": [],
   "source": [
    "PhysicalChallengeRoom physicalChallengeRoom = new PhysicalChallengeRoomBuilder()\n",
    "    .addComponent(Room.Component.FENDERS)\n",
    "    .frame(\"Metal\")\n",
    "    .width(6)\n",
    "    .height(12)\n",
    "    .difficultyLevel(4)\n",
    "    .timeLimit(45)\n",
    "    .equipmentRequired(\"Ropes, Ladders, Hurdles\")\n",
    "    .build();"
   ]
  },
  {
   "cell_type": "code",
   "execution_count": null,
   "id": "e14328253e476cea",
   "metadata": {
    "lines_to_next_cell": 2
   },
   "outputs": [],
   "source": [
    "physicalChallengeRoom"
   ]
  },
  {
   "cell_type": "code",
   "execution_count": null,
   "id": "d5bead94dbf9e731",
   "metadata": {},
   "outputs": [],
   "source": [
    "StoryRoom storyRoom = new StoryRoomBuilder()\n",
    "    .addComponent(Room.Component.RACK)\n",
    "    .frame(\"Glass\")\n",
    "    .width(8)\n",
    "    .height(15)\n",
    "    .difficultyLevel(2)\n",
    "    .timeLimit(75)\n",
    "    .narrativeComplexity(\"High\")\n",
    "    .build();"
   ]
  },
  {
   "cell_type": "code",
   "execution_count": null,
   "id": "316239f1adc7701e",
   "metadata": {
    "tags": [
     "keep"
    ]
   },
   "outputs": [],
   "source": [
    "storyRoom"
   ]
  }
 ],
 "metadata": {
  "jupytext": {
   "cell_metadata_filter": "tags,lang,-all",
   "encoding": "// -*- coding: utf-8 -*-",
   "main_language": "java",
   "notebook_metadata_filter": "-all"
  },
  "kernelspec": {
   "display_name": "Java",
   "language": "java",
   "name": "java"
  },
  "language_info": {
   "codemirror_mode": "java",
   "file_extension": ".java",
   "mimetype": "text/java",
   "name": "Java",
   "pygments_lexer": "java",
   "version": ""
  }
 },
 "nbformat": 4,
 "nbformat_minor": 5
}
