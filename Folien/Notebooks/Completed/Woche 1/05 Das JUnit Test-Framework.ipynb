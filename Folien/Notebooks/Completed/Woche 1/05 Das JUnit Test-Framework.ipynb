{
 "cells": [
  {
   "cell_type": "markdown",
   "id": "648ecb4330bf5c6d",
   "metadata": {
    "lang": "de",
    "slideshow": {
     "slide_type": "slide"
    },
    "tags": [
     "slide"
    ]
   },
   "source": [
    "\n",
    "<img src=\"data:image/svg+xml;base64,PHN2ZyB4bWxucz0iaHR0cDovL3d3dy53My5vcmcvMjAwMC9zdmciIHdpZHRoPSI2NCIgaGVpZ2h0\n",
    "PSI2NCIgdmlld0JveD0iMCAwIDMyIDMyIj48cGF0aCBkPSJNMTEuNjIyIDI0Ljc0cy0xLjIzLjc0\n",
    "OC44NTUuOTYyYzIuNTEuMzIgMy44NDcuMjY3IDYuNjI1LS4yNjdhMTAuMDIgMTAuMDIgMCAwIDAg\n",
    "MS43NjMuODU1Yy02LjI1IDIuNjcyLTE0LjE2LS4xNi05LjI0NC0xLjU1em0tLjgtMy40NzNzLTEu\n",
    "MzM2IDEuMDE1Ljc0OCAxLjIzYzIuNzI1LjI2NyA0Ljg2Mi4zMiA4LjU1LS40MjdhMy4yNiAzLjI2\n",
    "IDAgMCAwIDEuMjgyLjgwMWMtNy41MzQgMi4yNDQtMTUuOTc2LjIxNC0xMC41OC0xLjYwM3ptMTQu\n",
    "NzQ3IDYuMDlzLjkwOC43NDgtMS4wMTUgMS4zMzZjLTMuNTggMS4wNy0xNS4wMTQgMS4zOS0xOC4y\n",
    "MiAwLTEuMTIyLS40OCAxLjAxNS0xLjE3NSAxLjctMS4yODIuNjk1LS4xNiAxLjA3LS4xNiAxLjA3\n",
    "LS4xNi0xLjIzLS44NTUtOC4xNzUgMS43NjMtMy41MjYgMi41MSAxMi43NyAyLjA4NCAyMy4yOTYt\n",
    "LjkwOCAxOS45ODMtMi40MDR6TTEyLjIgMTcuNjMzcy01LjgyNCAxLjM5LTIuMDg0IDEuODdjMS42\n",
    "MDMuMjE0IDQuNzU1LjE2IDcuNjk0LS4wNTMgMi40MDQtLjIxNCA0LjgxLS42NCA0LjgxLS42NHMt\n",
    "Ljg1NS4zNzQtMS40NDMuNzQ4Yy01LjkzIDEuNTUtMTcuMzEyLjg1NS0xNC4wNTItLjc0OCAyLjc3\n",
    "OC0xLjMzNiA1LjA3Ni0xLjE3NSA1LjA3Ni0xLjE3NXptMTAuNDIgNS44MjRjNS45ODQtMy4xIDMu\n",
    "MjA2LTYuMDkgMS4yODItNS43MTctLjQ4LjEwNy0uNjk1LjIxNC0uNjk1LjIxNHMuMTYtLjMyLjUz\n",
    "NC0uNDI3YzMuNzk0LTEuMzM2IDYuNzg2IDQuMDA3LTEuMjMgNi4wOSAwIDAgLjA1My0uMDUzLjEw\n",
    "Ny0uMTZ6bS05LjgzIDguNDQyYzUuNzcuMzc0IDE0LjU4Ny0uMjE0IDE0LjgtMi45NCAwIDAtLjQy\n",
    "NyAxLjA3LTQuNzU1IDEuODctNC45MTYuOTA4LTExLjAwNy44LTE0LjU4Ny4yMTQgMCAwIC43NDgu\n",
    "NjQgNC41NDIuODU1eiIgZmlsbD0iIzRlNzg5NiIvPjxwYXRoIGQ9Ik0xOC45OTYuMDAxczMuMzEz\n",
    "IDMuMzY2LTMuMTUyIDguNDQyYy01LjE4MyA0LjExNC0xLjE3NSA2LjQ2NSAwIDkuMTM3LTMuMDQ2\n",
    "LTIuNzI1LTUuMjM2LTUuMTMtMy43NC03LjM3M0MxNC4yOTQgNi44OTMgMjAuMzMyIDUuMyAxOC45\n",
    "OTYuMDAxem0tMS43IDE1LjMzNWMxLjU1IDEuNzYzLS40MjcgMy4zNjYtLjQyNyAzLjM2NnMzLjk1\n",
    "NC0yLjAzIDIuMTM3LTQuNTQyYy0xLjY1Ni0yLjQwNC0yLjk0LTMuNTggNC4wMDctNy41ODcgMCAw\n",
    "LTEwLjk1MyAyLjcyNS01LjcxNyA4Ljc2M3oiIGZpbGw9IiNmNTgyMTkiLz48L3N2Zz4=\n",
    "\"\n",
    "     alt=\"Java Logo\" style=\"display:block;margin:auto;width:5%\"/>\n",
    "<br>\n",
    "\n",
    "<div style=\"text-align:center; font-size:200%;\">\n",
    " <b>Das JUnit Test-Framework</b>\n",
    "</div>\n",
    "<br/>\n",
    "<div style=\"text-align:center; font-size:120%;\">Dr. Matthias Hölzl</div>\n",
    "<br/>\n",
    "<div style=\"text-align:center;\">Coding-Akademie München</div>\n",
    "<br/>"
   ]
  },
  {
   "cell_type": "markdown",
   "id": "372ca74879115878",
   "metadata": {
    "lang": "de",
    "slideshow": {
     "slide_type": "subslide"
    },
    "tags": [
     "subslide"
    ]
   },
   "source": [
    "\n",
    "## Was ist JUnit?\n",
    "\n",
    "- JUnit ist ein modernes Test-Framework für Java\n",
    "- Open-Source\n",
    "- Einfach in Projekte zu integrieren\n",
    "- Viele Features\n",
    "- Struktur ähnlich zu xUnit-Test-Frameworks"
   ]
  },
  {
   "cell_type": "markdown",
   "id": "c9bd7c5ac793ce1a",
   "metadata": {
    "lang": "de",
    "slideshow": {
     "slide_type": "subslide"
    },
    "tags": [
     "subslide"
    ]
   },
   "source": [
    "\n",
    "## Features von JUnit\n",
    "\n",
    "- Verwaltung von Tests und Test-Suites\n",
    "- Assertion-Bibliothek für Testfälle\n",
    "- Ausführung von Tests (Test Runner)\n",
    "- Versetzen des SuT in einen definierten Zustand (Test Fixtures)\n",
    "- Unterstützung für Parameterized Tests"
   ]
  },
  {
   "cell_type": "markdown",
   "id": "0f2941e278689557",
   "metadata": {
    "lang": "de",
    "slideshow": {
     "slide_type": "subslide"
    },
    "tags": [
     "subslide"
    ]
   },
   "source": [
    "\n",
    "## Assertions in JUnit\n",
    "\n",
    "- `assertTrue`, `assertFalse` um Bedingungen zu prüfen\n",
    "- `assertEquals`, `assertNotEquals` um Werte zu prüfen\n",
    "- `assertSame`, `assertNotSame` um auf Referenzen zu prüfen\n",
    "- `assertNull`, `assertNotNull` um auf `null` zu prüfen\n",
    "- `assertThrows` um Exceptions zu prüfen"
   ]
  },
  {
   "cell_type": "code",
   "execution_count": null,
   "id": "896f8b4f57ed2bb2",
   "metadata": {
    "slideshow": {
     "slide_type": "subslide"
    },
    "tags": [
     "subslide",
     "keep"
    ]
   },
   "outputs": [],
   "source": [
    "%maven org.junit.jupiter:junit-jupiter-api:5.8.2"
   ]
  },
  {
   "cell_type": "code",
   "execution_count": null,
   "id": "925c4eff0e37d304",
   "metadata": {
    "tags": [
     "keep"
    ]
   },
   "outputs": [],
   "source": [
    "import static org.junit.jupiter.api.Assertions.*;"
   ]
  },
  {
   "cell_type": "code",
   "execution_count": null,
   "id": "b138430318ceafcc",
   "metadata": {
    "slideshow": {
     "slide_type": "subslide"
    },
    "tags": [
     "subslide"
    ]
   },
   "outputs": [],
   "source": [
    "assertTrue(5 > 3);"
   ]
  },
  {
   "cell_type": "code",
   "execution_count": null,
   "id": "5cfc2a6b0684fe2b",
   "metadata": {},
   "outputs": [],
   "source": [
    "assertFalse(2 > 5);"
   ]
  },
  {
   "cell_type": "code",
   "execution_count": null,
   "id": "6c0afbcd8ec1327a",
   "metadata": {},
   "outputs": [],
   "source": [
    "// assertTrue(1 > 4);"
   ]
  },
  {
   "cell_type": "code",
   "execution_count": null,
   "id": "3e62731d1cd7eb28",
   "metadata": {},
   "outputs": [],
   "source": [
    "assertEquals(4, 2 + 2);"
   ]
  },
  {
   "cell_type": "code",
   "execution_count": null,
   "id": "643d67a364708ee9",
   "metadata": {},
   "outputs": [],
   "source": [
    "assertNotEquals(5, 2 + 2);"
   ]
  },
  {
   "cell_type": "code",
   "execution_count": null,
   "id": "ae555027282a373a",
   "metadata": {
    "slideshow": {
     "slide_type": "subslide"
    },
    "tags": [
     "subslide",
     "keep"
    ]
   },
   "outputs": [],
   "source": [
    "String str1 = new String(\"Hello\");\n",
    "String str2 = new String(\"Hello\");"
   ]
  },
  {
   "cell_type": "code",
   "execution_count": null,
   "id": "a5b9a1c0832adfe3",
   "metadata": {},
   "outputs": [],
   "source": [
    "assertEquals(str1, str2);"
   ]
  },
  {
   "cell_type": "code",
   "execution_count": null,
   "id": "cb6da5b0d847884e",
   "metadata": {},
   "outputs": [],
   "source": [
    "assertTrue(str1.equals(str2));"
   ]
  },
  {
   "cell_type": "code",
   "execution_count": null,
   "id": "2a64f503183bae45",
   "metadata": {
    "slideshow": {
     "slide_type": "subslide"
    },
    "tags": [
     "subslide"
    ]
   },
   "outputs": [],
   "source": [
    "// assertTrue(\"Hello\".equals(\"World\"));"
   ]
  },
  {
   "cell_type": "code",
   "execution_count": null,
   "id": "44093e43002ff743",
   "metadata": {
    "lines_to_next_cell": 2
   },
   "outputs": [],
   "source": [
    "// assertEquals(\"Hello\", \"World\");"
   ]
  },
  {
   "cell_type": "code",
   "execution_count": null,
   "id": "1d8f7fb697b87d9d",
   "metadata": {
    "slideshow": {
     "slide_type": "subslide"
    },
    "tags": [
     "subslide"
    ]
   },
   "outputs": [],
   "source": [
    "// assertSame(\"Hello\", \"Hello\");"
   ]
  },
  {
   "cell_type": "code",
   "execution_count": null,
   "id": "cc275ae54ee12a4f",
   "metadata": {},
   "outputs": [],
   "source": [
    "// assertSame(str1, str2);"
   ]
  },
  {
   "cell_type": "code",
   "execution_count": null,
   "id": "cf885af2dd0f162c",
   "metadata": {},
   "outputs": [],
   "source": [
    "assertSame(str1, str1);"
   ]
  },
  {
   "cell_type": "code",
   "execution_count": null,
   "id": "f8c3ee47610bb23d",
   "metadata": {},
   "outputs": [],
   "source": [
    "// assertNotSame(str1, str1);"
   ]
  },
  {
   "cell_type": "code",
   "execution_count": null,
   "id": "ab2955b460768b42",
   "metadata": {
    "slideshow": {
     "slide_type": "subslide"
    },
    "tags": [
     "subslide"
    ]
   },
   "outputs": [],
   "source": [
    "assertNull(null);"
   ]
  },
  {
   "cell_type": "code",
   "execution_count": null,
   "id": "ce1f8d47a88be7d8",
   "metadata": {},
   "outputs": [],
   "source": [
    "// assertNull(0);"
   ]
  },
  {
   "cell_type": "code",
   "execution_count": null,
   "id": "57d40b3a1c426f72",
   "metadata": {},
   "outputs": [],
   "source": [
    "assertNotNull(123);"
   ]
  },
  {
   "cell_type": "markdown",
   "id": "2c1d575af3029fd5",
   "metadata": {
    "lang": "de",
    "slideshow": {
     "slide_type": "subslide"
    },
    "tags": [
     "subslide"
    ]
   },
   "source": [
    "\n",
    "## Einschub: Lambda-Ausdrücke\n",
    "\n",
    "- Lambda-Ausdrücke sind eine Möglichkeit, Funktionen als Argumente zu\n",
    "  übergeben.\n",
    "- (In Java sind Lambdas streng genommen eine kompakte Syntax für die Implementierung\n",
    "  von Interfaces mit nur einer Methode, sogenannten Funktionalen Interfaces.)"
   ]
  },
  {
   "cell_type": "code",
   "execution_count": null,
   "id": "86f89f614580a75d",
   "metadata": {
    "slideshow": {
     "slide_type": "subslide"
    },
    "tags": [
     "keep",
     "subslide"
    ]
   },
   "outputs": [],
   "source": [
    "interface MyFunction {\n",
    "    int apply(int x, int y);\n",
    "}"
   ]
  },
  {
   "cell_type": "code",
   "execution_count": null,
   "id": "aa6123ddc67c4606",
   "metadata": {
    "tags": [
     "keep"
    ]
   },
   "outputs": [],
   "source": [
    "class MyAddFunction implements MyFunction {\n",
    "    public int apply(int x, int y) {\n",
    "        return x + y;\n",
    "    }\n",
    "}"
   ]
  },
  {
   "cell_type": "code",
   "execution_count": null,
   "id": "024d9fb53f8cc890",
   "metadata": {
    "slideshow": {
     "slide_type": "subslide"
    },
    "tags": [
     "subslide"
    ]
   },
   "outputs": [],
   "source": [
    "MyFunction add = new MyAddFunction();"
   ]
  },
  {
   "cell_type": "code",
   "execution_count": null,
   "id": "7e4e9ea9dc2b75d4",
   "metadata": {},
   "outputs": [],
   "source": [
    "add.apply(2, 3);"
   ]
  },
  {
   "cell_type": "code",
   "execution_count": null,
   "id": "5c9d87087fc81fae",
   "metadata": {},
   "outputs": [],
   "source": [
    "add = (x, y) -> { return x + y; };"
   ]
  },
  {
   "cell_type": "code",
   "execution_count": null,
   "id": "8b5aaf4f422abf22",
   "metadata": {},
   "outputs": [],
   "source": [
    "add.apply(2, 3);"
   ]
  },
  {
   "cell_type": "code",
   "execution_count": null,
   "id": "2a7e99a5ee41a55a",
   "metadata": {},
   "outputs": [],
   "source": [
    "add = (x, y) -> x + y;"
   ]
  },
  {
   "cell_type": "code",
   "execution_count": null,
   "id": "b4db133580277fe7",
   "metadata": {},
   "outputs": [],
   "source": [
    "add.apply(2, 3);"
   ]
  },
  {
   "cell_type": "code",
   "execution_count": null,
   "id": "e920c5c89d946dac",
   "metadata": {
    "slideshow": {
     "slide_type": "subslide"
    },
    "tags": [
     "subslide"
    ]
   },
   "outputs": [],
   "source": [
    "assertThrows(ArithmeticException.class, () -> {\n",
    "    int result = 1 / 0;\n",
    "});"
   ]
  },
  {
   "cell_type": "code",
   "execution_count": null,
   "id": "df2f61fd5d5b63fc",
   "metadata": {},
   "outputs": [],
   "source": [
    "// assertThrows(ArithmeticException.class, () -> 1 / 0);"
   ]
  },
  {
   "cell_type": "code",
   "execution_count": null,
   "id": "f3f08f0268527a93",
   "metadata": {},
   "outputs": [],
   "source": [
    "int divide(int x, int y) {\n",
    "    return x / y;\n",
    "}"
   ]
  },
  {
   "cell_type": "code",
   "execution_count": null,
   "id": "1bb162f6e6e7ca6f",
   "metadata": {},
   "outputs": [],
   "source": [
    "assertThrows(ArithmeticException.class, () -> divide(1, 0));"
   ]
  },
  {
   "cell_type": "code",
   "execution_count": null,
   "id": "33908edda2125e3a",
   "metadata": {
    "slideshow": {
     "slide_type": "subslide"
    },
    "tags": [
     "subslide"
    ]
   },
   "outputs": [],
   "source": [
    "// assertThrows(ArithmeticException.class, () -> {\n",
    "//     int result = 1 / 1;\n",
    "// });"
   ]
  },
  {
   "cell_type": "markdown",
   "id": "3cd42e52a6929e32",
   "metadata": {
    "lang": "de",
    "slideshow": {
     "slide_type": "subslide"
    },
    "tags": [
     "subslide"
    ]
   },
   "source": [
    "\n",
    "## Test-Klassen\n",
    "\n",
    "- Tests werden in Klassen organisiert\n",
    "- `@Test`-Annotation an Methoden um Tests zu definieren\n",
    "- Assertions wie oben besprochen"
   ]
  },
  {
   "cell_type": "code",
   "execution_count": null,
   "id": "0c53dfbc7b543981",
   "metadata": {
    "slideshow": {
     "slide_type": "subslide"
    },
    "tags": [
     "subslide",
     "keep"
    ]
   },
   "outputs": [],
   "source": [
    "%maven org.junit.jupiter:junit-jupiter-api:5.8.2"
   ]
  },
  {
   "cell_type": "code",
   "execution_count": null,
   "id": "9a38ce0d22d86bda",
   "metadata": {
    "tags": [
     "keep"
    ]
   },
   "outputs": [],
   "source": [
    "import static org.junit.jupiter.api.Assertions.*;\n",
    "import org.junit.jupiter.api.Test;"
   ]
  },
  {
   "cell_type": "code",
   "execution_count": null,
   "id": "9c16b7c38a0998d8",
   "metadata": {
    "slideshow": {
     "slide_type": "subslide"
    },
    "tags": [
     "subslide"
    ]
   },
   "outputs": [],
   "source": [
    "public class JUnitBasicsTest {\n",
    "    @Test\n",
    "    public void testAddition() {\n",
    "        assertEquals(4, 2 + 2);\n",
    "    }\n",
    "\n",
    "    @Test\n",
    "    public void testTrueCondition() {\n",
    "        assertTrue(5 > 3);\n",
    "    }\n",
    "\n",
    "    @Test\n",
    "    public void testFalseCondition() {\n",
    "        assertFalse(2 > 5);\n",
    "    }\n",
    "\n",
    "    @Test\n",
    "    public void testException() {\n",
    "        assertThrows(ArithmeticException.class, () -> {\n",
    "            int result = 1 / 0;\n",
    "        });\n",
    "    }\n",
    "}"
   ]
  },
  {
   "cell_type": "code",
   "execution_count": null,
   "id": "5606bc5c12245e4d",
   "metadata": {
    "slideshow": {
     "slide_type": "subslide"
    },
    "tags": [
     "subslide"
    ]
   },
   "outputs": [],
   "source": [
    "JUnitBasicsTest tests = new JUnitBasicsTest();"
   ]
  },
  {
   "cell_type": "code",
   "execution_count": null,
   "id": "c8e1c070133a4c77",
   "metadata": {},
   "outputs": [],
   "source": [
    "tests.testAddition()"
   ]
  },
  {
   "cell_type": "code",
   "execution_count": null,
   "id": "6b662518e9526f1e",
   "metadata": {
    "slideshow": {
     "slide_type": "subslide"
    },
    "tags": [
     "subslide",
     "keep"
    ]
   },
   "outputs": [],
   "source": [
    "%maven org.junit.jupiter:junit-jupiter-engine:5.8.2\n",
    "%maven org.junit.platform:junit-platform-launcher:1.9.0"
   ]
  },
  {
   "cell_type": "code",
   "execution_count": null,
   "id": "f4fc67d4da1f4795",
   "metadata": {
    "tags": [
     "keep"
    ]
   },
   "outputs": [],
   "source": [
    "import org.junit.jupiter.api.Test;\n",
    "import static org.junit.jupiter.api.Assertions.*;\n",
    "import org.junit.platform.launcher.Launcher;\n",
    "import org.junit.platform.launcher.LauncherDiscoveryRequest;\n",
    "import org.junit.platform.launcher.core.LauncherDiscoveryRequestBuilder;\n",
    "import org.junit.platform.launcher.core.LauncherFactory;\n",
    "import org.junit.platform.launcher.listeners.SummaryGeneratingListener;\n",
    "import static org.junit.platform.engine.discovery.DiscoverySelectors.selectClass;"
   ]
  },
  {
   "cell_type": "code",
   "execution_count": null,
   "id": "d62bf91516ea3b11",
   "metadata": {
    "slideshow": {
     "slide_type": "subslide"
    },
    "tags": [
     "subslide",
     "keep"
    ]
   },
   "outputs": [],
   "source": [
    "LauncherDiscoveryRequest request = LauncherDiscoveryRequestBuilder.request()\n",
    "    .selectors(selectClass(JUnitBasicsTest.class))\n",
    "    .build();\n",
    "Launcher launcher = LauncherFactory.create();\n",
    "SummaryGeneratingListener listener = new SummaryGeneratingListener();"
   ]
  },
  {
   "cell_type": "code",
   "execution_count": null,
   "id": "088195e7a67bcbe1",
   "metadata": {
    "tags": [
     "keep"
    ]
   },
   "outputs": [],
   "source": [
    "launcher.registerTestExecutionListeners(listener);\n",
    "launcher.execute(request);"
   ]
  },
  {
   "cell_type": "code",
   "execution_count": null,
   "id": "04cbe9eb272221b3",
   "metadata": {
    "tags": [
     "keep"
    ]
   },
   "outputs": [],
   "source": [
    "// Use StringWriter and PrintWriter to capture the summary output\n",
    "StringWriter stringWriter = new StringWriter();\n",
    "PrintWriter printWriter = new PrintWriter(stringWriter);\n",
    "listener.getSummary().printTo(printWriter);"
   ]
  },
  {
   "cell_type": "code",
   "execution_count": null,
   "id": "a5d282404a016208",
   "metadata": {
    "lines_to_next_cell": 2,
    "slideshow": {
     "slide_type": "subslide"
    },
    "tags": [
     "subslide",
     "keep"
    ]
   },
   "outputs": [],
   "source": [
    "// Print the captured summary\n",
    "System.out.println(stringWriter.toString());"
   ]
  },
  {
   "cell_type": "markdown",
   "id": "54d2240bf814a205",
   "metadata": {
    "lang": "de",
    "slideshow": {
     "slide_type": "subslide"
    },
    "tags": [
     "subslide"
    ]
   },
   "source": [
    "\n",
    "Falls Sie Mehr Kontrolle über die Ausgabe wollen:"
   ]
  },
  {
   "cell_type": "code",
   "execution_count": null,
   "id": "eef17b88bab4b842",
   "metadata": {
    "tags": [
     "keep"
    ]
   },
   "outputs": [],
   "source": [
    "long testFoundCount = listener.getSummary().getTestsFoundCount();\n",
    "long testFailedCount = listener.getSummary().getTestsFailedCount();"
   ]
  },
  {
   "cell_type": "code",
   "execution_count": null,
   "id": "996ba2c190b70ff2",
   "metadata": {
    "tags": [
     "keep"
    ]
   },
   "outputs": [],
   "source": [
    "System.out.println(\"Total tests: \" + testFoundCount);\n",
    "System.out.println(\"Failed tests: \" + testFailedCount);\n",
    "System.out.println(testFailedCount == 0 ? \"All tests passed!\" : \"Some tests failed.\");"
   ]
  },
  {
   "cell_type": "code",
   "execution_count": null,
   "id": "46b8530f674b69fd",
   "metadata": {
    "tags": [
     "keep"
    ]
   },
   "outputs": [],
   "source": [
    "listener.getSummary().getFailures().forEach(failure -> {\n",
    "    System.out.println(\"Failure in test: \" + failure.getTestIdentifier().getDisplayName());\n",
    "    System.out.println(\"Reason: \" + failure.getException());\n",
    "});"
   ]
  },
  {
   "cell_type": "markdown",
   "id": "fbb0a594fba1d3bc",
   "metadata": {
    "lang": "de",
    "slideshow": {
     "slide_type": "subslide"
    },
    "tags": [
     "subslide"
    ]
   },
   "source": [
    "\n",
    "## Workshop: JUnit Basics im Notebook\n",
    "\n",
    "In diesem Workshop sollen Sie eine einfache Testklasse schreiben und die\n",
    "Tests mit JUnit ausführen.\n",
    "\n",
    "Hier ist der Code, den Sie testen sollen:"
   ]
  },
  {
   "cell_type": "code",
   "execution_count": null,
   "id": "ed5f9a05a1c06cbc",
   "metadata": {
    "tags": [
     "keep"
    ]
   },
   "outputs": [],
   "source": [
    "public class SimpleMath {\n",
    "    public int add(int a, int b) {\n",
    "        return a + b;\n",
    "    }\n",
    "\n",
    "    public int subtract(int a, int b) {\n",
    "        return a - b;\n",
    "    }\n",
    "\n",
    "    public int multiply(int a, int b) {\n",
    "        return a * b;\n",
    "    }\n",
    "\n",
    "    public int divide(int a, int b) {\n",
    "        return a / b;\n",
    "    }\n",
    "}"
   ]
  },
  {
   "cell_type": "markdown",
   "id": "4da8384360122fbc",
   "metadata": {
    "lang": "de",
    "slideshow": {
     "slide_type": "subslide"
    },
    "tags": [
     "subslide"
    ]
   },
   "source": [
    "\n",
    "- Schreiben Sie Tests, die die Methoden der Klasse `SimpleMath` überprüfen.\n",
    "- Sie können dabei die folgende Klasse `SimpleMathTest` erweitern."
   ]
  },
  {
   "cell_type": "code",
   "execution_count": null,
   "id": "26ecc07e2af549bb",
   "metadata": {
    "tags": [
     "alt"
    ]
   },
   "outputs": [],
   "source": [
    "public class SimpleMathTest {\n",
    "    @Test\n",
    "    public void testAddition() {\n",
    "        SimpleMath math = new SimpleMath();\n",
    "        assertEquals(4, math.add(2, 2));\n",
    "    }\n",
    "\n",
    "    @Test\n",
    "    public void testSubtraction() {\n",
    "        SimpleMath math = new SimpleMath();\n",
    "        assertEquals(0, math.subtract(2, 2));\n",
    "    }\n",
    "\n",
    "    @Test\n",
    "    public void testMultiplication() {\n",
    "        SimpleMath math = new SimpleMath();\n",
    "        assertEquals(6, math.multiply(2, 3));\n",
    "    }\n",
    "\n",
    "    @Test\n",
    "    public void testDivision() {\n",
    "        SimpleMath math = new SimpleMath();\n",
    "        assertEquals(2, math.divide(6, 3));\n",
    "    }\n",
    "\n",
    "    @Test\n",
    "    public void testDivisionByZero() {\n",
    "        SimpleMath math = new SimpleMath();\n",
    "        assertThrows(ArithmeticException.class, () -> math.divide(1, 0));\n",
    "    }\n",
    "}"
   ]
  },
  {
   "cell_type": "markdown",
   "id": "fadd1b25eaa4b4be",
   "metadata": {
    "lang": "de",
    "slideshow": {
     "slide_type": "subslide"
    },
    "tags": [
     "subslide"
    ]
   },
   "source": [
    "\n",
    "- Mit dem folgenden Code können Sie die Tests ausführen."
   ]
  },
  {
   "cell_type": "code",
   "execution_count": null,
   "id": "da9a03e1d0a0b523",
   "metadata": {
    "slideshow": {
     "slide_type": "subslide"
    },
    "tags": [
     "subslide",
     "keep"
    ]
   },
   "outputs": [],
   "source": [
    "%maven org.junit.jupiter:junit-jupiter-engine:5.8.2\n",
    "%maven org.junit.platform:junit-platform-launcher:1.9.0"
   ]
  },
  {
   "cell_type": "code",
   "execution_count": null,
   "id": "6604a5cfb8af0f97",
   "metadata": {
    "tags": [
     "keep"
    ]
   },
   "outputs": [],
   "source": [
    "import org.junit.jupiter.api.Test;\n",
    "import static org.junit.jupiter.api.Assertions.*;\n",
    "import org.junit.platform.launcher.Launcher;\n",
    "import org.junit.platform.launcher.LauncherDiscoveryRequest;\n",
    "import org.junit.platform.launcher.core.LauncherDiscoveryRequestBuilder;\n",
    "import org.junit.platform.launcher.core.LauncherFactory;\n",
    "import org.junit.platform.launcher.listeners.SummaryGeneratingListener;\n",
    "import static org.junit.platform.engine.discovery.DiscoverySelectors.selectClass;"
   ]
  },
  {
   "cell_type": "code",
   "execution_count": null,
   "id": "d8d96acda3879c1b",
   "metadata": {
    "tags": [
     "keep"
    ]
   },
   "outputs": [],
   "source": [
    "void runTests() {\n",
    "    LauncherDiscoveryRequest request = LauncherDiscoveryRequestBuilder.request()\n",
    "        .selectors(selectClass(SimpleMathTest.class))\n",
    "        .build();\n",
    "    Launcher launcher = LauncherFactory.create();\n",
    "    SummaryGeneratingListener listener = new SummaryGeneratingListener();\n",
    "\n",
    "    launcher.registerTestExecutionListeners(listener);\n",
    "    launcher.execute(request);\n",
    "\n",
    "    StringWriter stringWriter = new StringWriter();\n",
    "    PrintWriter printWriter = new PrintWriter(stringWriter);\n",
    "    listener.getSummary().printTo(printWriter);\n",
    "\n",
    "    System.out.println(stringWriter.toString());\n",
    "}"
   ]
  },
  {
   "cell_type": "code",
   "execution_count": null,
   "id": "d61831866627f545",
   "metadata": {
    "tags": [
     "keep"
    ]
   },
   "outputs": [],
   "source": [
    "runTests();"
   ]
  }
 ],
 "metadata": {
  "jupytext": {
   "cell_metadata_filter": "tags,lang,-all",
   "encoding": "// -*- coding: utf-8 -*-",
   "main_language": "java",
   "notebook_metadata_filter": "-all"
  },
  "kernelspec": {
   "display_name": "Java",
   "language": "java",
   "name": "java"
  },
  "language_info": {
   "codemirror_mode": "java",
   "file_extension": ".java",
   "mimetype": "text/java",
   "name": "Java",
   "pygments_lexer": "java",
   "version": ""
  }
 },
 "nbformat": 4,
 "nbformat_minor": 5
}
