{
 "cells": [
  {
   "cell_type": "markdown",
   "id": "9502ca3fae5d0b61",
   "metadata": {
    "lang": "de",
    "slideshow": {
     "slide_type": "slide"
    },
    "tags": [
     "slide"
    ]
   },
   "source": [
    "\n",
    "<img src=\"data:image/svg+xml;base64,PHN2ZyB4bWxucz0iaHR0cDovL3d3dy53My5vcmcvMjAwMC9zdmciIHdpZHRoPSI2NCIgaGVpZ2h0\n",
    "PSI2NCIgdmlld0JveD0iMCAwIDMyIDMyIj48cGF0aCBkPSJNMTEuNjIyIDI0Ljc0cy0xLjIzLjc0\n",
    "OC44NTUuOTYyYzIuNTEuMzIgMy44NDcuMjY3IDYuNjI1LS4yNjdhMTAuMDIgMTAuMDIgMCAwIDAg\n",
    "MS43NjMuODU1Yy02LjI1IDIuNjcyLTE0LjE2LS4xNi05LjI0NC0xLjU1em0tLjgtMy40NzNzLTEu\n",
    "MzM2IDEuMDE1Ljc0OCAxLjIzYzIuNzI1LjI2NyA0Ljg2Mi4zMiA4LjU1LS40MjdhMy4yNiAzLjI2\n",
    "IDAgMCAwIDEuMjgyLjgwMWMtNy41MzQgMi4yNDQtMTUuOTc2LjIxNC0xMC41OC0xLjYwM3ptMTQu\n",
    "NzQ3IDYuMDlzLjkwOC43NDgtMS4wMTUgMS4zMzZjLTMuNTggMS4wNy0xNS4wMTQgMS4zOS0xOC4y\n",
    "MiAwLTEuMTIyLS40OCAxLjAxNS0xLjE3NSAxLjctMS4yODIuNjk1LS4xNiAxLjA3LS4xNiAxLjA3\n",
    "LS4xNi0xLjIzLS44NTUtOC4xNzUgMS43NjMtMy41MjYgMi41MSAxMi43NyAyLjA4NCAyMy4yOTYt\n",
    "LjkwOCAxOS45ODMtMi40MDR6TTEyLjIgMTcuNjMzcy01LjgyNCAxLjM5LTIuMDg0IDEuODdjMS42\n",
    "MDMuMjE0IDQuNzU1LjE2IDcuNjk0LS4wNTMgMi40MDQtLjIxNCA0LjgxLS42NCA0LjgxLS42NHMt\n",
    "Ljg1NS4zNzQtMS40NDMuNzQ4Yy01LjkzIDEuNTUtMTcuMzEyLjg1NS0xNC4wNTItLjc0OCAyLjc3\n",
    "OC0xLjMzNiA1LjA3Ni0xLjE3NSA1LjA3Ni0xLjE3NXptMTAuNDIgNS44MjRjNS45ODQtMy4xIDMu\n",
    "MjA2LTYuMDkgMS4yODItNS43MTctLjQ4LjEwNy0uNjk1LjIxNC0uNjk1LjIxNHMuMTYtLjMyLjUz\n",
    "NC0uNDI3YzMuNzk0LTEuMzM2IDYuNzg2IDQuMDA3LTEuMjMgNi4wOSAwIDAgLjA1My0uMDUzLjEw\n",
    "Ny0uMTZ6bS05LjgzIDguNDQyYzUuNzcuMzc0IDE0LjU4Ny0uMjE0IDE0LjgtMi45NCAwIDAtLjQy\n",
    "NyAxLjA3LTQuNzU1IDEuODctNC45MTYuOTA4LTExLjAwNy44LTE0LjU4Ny4yMTQgMCAwIC43NDgu\n",
    "NjQgNC41NDIuODU1eiIgZmlsbD0iIzRlNzg5NiIvPjxwYXRoIGQ9Ik0xOC45OTYuMDAxczMuMzEz\n",
    "IDMuMzY2LTMuMTUyIDguNDQyYy01LjE4MyA0LjExNC0xLjE3NSA2LjQ2NSAwIDkuMTM3LTMuMDQ2\n",
    "LTIuNzI1LTUuMjM2LTUuMTMtMy43NC03LjM3M0MxNC4yOTQgNi44OTMgMjAuMzMyIDUuMyAxOC45\n",
    "OTYuMDAxem0tMS43IDE1LjMzNWMxLjU1IDEuNzYzLS40MjcgMy4zNjYtLjQyNyAzLjM2NnMzLjk1\n",
    "NC0yLjAzIDIuMTM3LTQuNTQyYy0xLjY1Ni0yLjQwNC0yLjk0LTMuNTggNC4wMDctNy41ODcgMCAw\n",
    "LTEwLjk1MyAyLjcyNS01LjcxNyA4Ljc2M3oiIGZpbGw9IiNmNTgyMTkiLz48L3N2Zz4=\n",
    "\"\n",
    "     alt=\"Java Logo\" style=\"display:block;margin:auto;width:5%\"/>\n",
    "<br>\n",
    "\n",
    "<div style=\"text-align:center; font-size:200%;\">\n",
    " <b>Was sind gute Tests?</b>\n",
    "</div>\n",
    "<br/>\n",
    "<div style=\"text-align:center; font-size:120%;\">Dr. Matthias Hölzl</div>\n",
    "<br/>\n",
    "<div style=\"text-align:center;\">Coding-Akademie München</div>\n",
    "<br/>"
   ]
  },
  {
   "cell_type": "markdown",
   "id": "796fedbba61cb19f",
   "metadata": {
    "slideshow": {
     "slide_type": "subslide"
    },
    "tags": [
     "subslide"
    ]
   },
   "source": [
    "\n",
    "<img src=\"img/velocity-tests-03.png\"\n",
    "     alt=\"Velocity vs. Tests 3\"\n",
    "     style=\"width: 75%; margin-left: auto; margin-right: auto;\"/>"
   ]
  },
  {
   "cell_type": "markdown",
   "id": "3196f2596ed51b51",
   "metadata": {
    "lang": "de",
    "slideshow": {
     "slide_type": "subslide"
    },
    "tags": [
     "subslide"
    ]
   },
   "source": [
    "\n",
    "## Welche Eigenschaften sollte ein Test haben?\n",
    "\n",
    "<ul>\n",
    "<li class=\"fragment\">Zeigt viele Fehler/Regressionen im Code auf</li>\n",
    "<li class=\"fragment\">Gibt schnelle Rückmeldung</li>\n",
    "<li class=\"fragment\">Ist deterministisch</li>\n",
    "<li class=\"fragment\">Ist leicht zu warten und verstehen</li>\n",
    "<li class=\"fragment\"><b>Unempfindlich gegenüber Refactorings</b></li>\n",
    "</ul>\n",
    "\n",
    "<p class=\"fragment\">\n",
    "  Leider stehen diese Eigenschaften oft im Konflikt zueinander!\n",
    "</p>"
   ]
  },
  {
   "cell_type": "markdown",
   "id": "dd6fc90376ae5811",
   "metadata": {
    "lang": "de",
    "slideshow": {
     "slide_type": "subslide"
    },
    "tags": [
     "subslide"
    ]
   },
   "source": [
    "\n",
    "## Aufzeigen von Fehlern/Regressionen\n",
    "\n",
    "### Einflüsse\n",
    "\n",
    "<ul>\n",
    "  <li class=\"fragment\">Menge des abgedeckten Codes</li>\n",
    "  <li class=\"fragment\">Komplexität des abgedeckten Codes</li>\n",
    "  <li class=\"fragment\">Interaktion mit externen Systemen</li>\n",
    "  <li class=\"fragment\">Signifikanz des abgedeckten Codes für die Domäne/das\n",
    "  System</li>\n",
    "</ul>"
   ]
  },
  {
   "cell_type": "code",
   "execution_count": null,
   "id": "d31877d550930578",
   "metadata": {
    "slideshow": {
     "slide_type": "subslide"
    },
    "tags": [
     "keep",
     "subslide"
    ]
   },
   "outputs": [],
   "source": [
    "\n",
    "public class Item {\n",
    "    private String name;\n",
    "    private double price; // always positive\n",
    "\n",
    "    public Item(String name, double price) {\n",
    "        this.name = name;\n",
    "        setPrice(price);\n",
    "    }\n",
    "\n",
    "    public String getName() {\n",
    "        return name;\n",
    "    }\n",
    "\n",
    "    public double getPrice() {\n",
    "        return price;\n",
    "    }\n",
    "\n",
    "    public void setPrice(double value) {\n",
    "        if (value < 0)\n",
    "        {\n",
    "            value = -value;\n",
    "        }\n",
    "        price = value;\n",
    "    }\n",
    "\n",
    "    @Override\n",
    "    public String toString() {\n",
    "        return String.format(\"Item(%s, %.2f)\", name, price);\n",
    "    }\n",
    "}"
   ]
  },
  {
   "cell_type": "code",
   "execution_count": null,
   "id": "5639da13d72950f2",
   "metadata": {
    "slideshow": {
     "slide_type": "subslide"
    },
    "tags": [
     "keep",
     "subslide"
    ]
   },
   "outputs": [],
   "source": [
    "import java.util.ArrayList;\n",
    "import java.util.List;"
   ]
  },
  {
   "cell_type": "code",
   "execution_count": null,
   "id": "db725b01d87515b7",
   "metadata": {
    "lines_to_next_cell": 2,
    "tags": [
     "keep"
    ]
   },
   "outputs": [],
   "source": [
    "public class Order {\n",
    "    private List<Item> items;\n",
    "\n",
    "    public Order(List<Item> itemList) {\n",
    "        items = new ArrayList<>(itemList);\n",
    "    }\n",
    "\n",
    "    public List<Item> getItems() {\n",
    "        return items;\n",
    "    }\n",
    "\n",
    "    public double getTotal() {\n",
    "        double total = 0;\n",
    "        for (Item item : items) {\n",
    "            total += item.getPrice();\n",
    "        }\n",
    "        return total;\n",
    "    }\n",
    "\n",
    "    @Override\n",
    "    public String toString() {\n",
    "        return String.format(\"Order(%s), total = %.2f\", items.toString(), getTotal());\n",
    "    }\n",
    "}"
   ]
  },
  {
   "cell_type": "code",
   "execution_count": null,
   "id": "68c5884655b1015d",
   "metadata": {
    "slideshow": {
     "slide_type": "subslide"
    },
    "tags": [
     "subslide",
     "keep"
    ]
   },
   "outputs": [],
   "source": [
    "void check(boolean condition, String message) {\n",
    "    if (!condition) {\n",
    "        System.err.println(message);\n",
    "    } else {\n",
    "        System.out.println(\"Success.\");\n",
    "    }\n",
    "}"
   ]
  },
  {
   "cell_type": "code",
   "execution_count": null,
   "id": "37a4e1a7684dbaa2",
   "metadata": {},
   "outputs": [],
   "source": [
    "void testItemName() {\n",
    "    Item unit = new Item(\"Apple\", 1.0);\n",
    "\n",
    "    check(unit.getName().equals(\"Apple\"), \"Name does not match\");\n",
    "}"
   ]
  },
  {
   "cell_type": "code",
   "execution_count": null,
   "id": "89cfb2f33d8ecc0b",
   "metadata": {},
   "outputs": [],
   "source": [
    "testItemName();"
   ]
  },
  {
   "cell_type": "code",
   "execution_count": null,
   "id": "0e63af68d8a79061",
   "metadata": {
    "slideshow": {
     "slide_type": "subslide"
    },
    "tags": [
     "subslide"
    ]
   },
   "outputs": [],
   "source": [
    "void testOrderTotal() {\n",
    "    List<Item> items = new ArrayList<>();\n",
    "    items.add(new Item(\"Apple\", 1.0));\n",
    "    items.add(new Item(\"Banana\", -2.0));\n",
    "    Order unit = new Order(items);\n",
    "\n",
    "    double total = unit.getTotal();\n",
    "\n",
    "    check(total == 3.0, \"Total is not correct\");\n",
    "}"
   ]
  },
  {
   "cell_type": "code",
   "execution_count": null,
   "id": "025a22758e42435b",
   "metadata": {},
   "outputs": [],
   "source": [
    "testOrderTotal();"
   ]
  },
  {
   "cell_type": "code",
   "execution_count": null,
   "id": "c57b1f7fd4ca94e5",
   "metadata": {
    "slideshow": {
     "slide_type": "subslide"
    },
    "tags": [
     "subslide"
    ]
   },
   "outputs": [],
   "source": [
    "void testOrderOutput() {\n",
    "    List<Item> items = new ArrayList<>();\n",
    "    items.add(new Item(\"Apple\", 1.0));\n",
    "    items.add(new Item(\"Banana\", -2.0));\n",
    "    Order unit = new Order(items);\n",
    "\n",
    "    String output = unit.toString();\n",
    "\n",
    "    check(output.equals(\"Order([Item(Apple, 1.00), Item(Banana, 2.00)]), total = 3.00\"), \"Output is not correct\");\n",
    "}"
   ]
  },
  {
   "cell_type": "code",
   "execution_count": null,
   "id": "4c71eac03fcc7b6f",
   "metadata": {},
   "outputs": [],
   "source": [
    "testOrderOutput();"
   ]
  },
  {
   "cell_type": "markdown",
   "id": "7883cd17aa49460e",
   "metadata": {
    "lang": "de",
    "slideshow": {
     "slide_type": "subslide"
    },
    "tags": [
     "subslide"
    ]
   },
   "source": [
    "\n",
    "## Schnelle Rückmeldung\n",
    "\n",
    "### Einflüsse\n",
    "\n",
    "- Menge des abgedeckten Codes\n",
    "- Komplexität/Anzahl Iterationen des abgedeckten Codes\n",
    "- Interaktion mit externen Systemen"
   ]
  },
  {
   "cell_type": "markdown",
   "id": "6a5cc5fed41d1385",
   "metadata": {
    "lang": "de",
    "slideshow": {
     "slide_type": "subslide"
    },
    "tags": [
     "subslide"
    ]
   },
   "source": [
    "\n",
    "## Deterministisch\n",
    "\n",
    "<ul>\n",
    "  <li class=\"fragment\">Gleicher Code führt immer zum gleichen Ergebnis</li>\n",
    "  <li class=\"fragment\">Gründe für Nichtdeterminismus\n",
    "    <ul>\n",
    "      <li class=\"fragment\">Zufallszahlen</li>\n",
    "      <li class=\"fragment\">Zeit/Datum</li>\n",
    "      <li class=\"fragment\">Interaktion mit externen Systemen</li>\n",
    "      <li class=\"fragment\">Nicht initialisierte Variablen</li>\n",
    "      <li class=\"fragment\">Kommunikation zwischen Tests</li>\n",
    "    </ul>\n",
    "  </li>\n",
    "  <li class=\"fragment\">\n",
    "     Tests, die falsche Warnungen erzeugen sind nicht\n",
    "     hilfreich sondern schädlich!\n",
    "  </li>\n",
    "<ul>"
   ]
  },
  {
   "cell_type": "code",
   "execution_count": null,
   "id": "d1270dd716efabf8",
   "metadata": {
    "slideshow": {
     "slide_type": "subslide"
    },
    "tags": [
     "subslide"
    ]
   },
   "outputs": [],
   "source": [
    "import java.util.Random;"
   ]
  },
  {
   "cell_type": "code",
   "execution_count": null,
   "id": "61023df2a03185f9",
   "metadata": {},
   "outputs": [],
   "source": [
    "void testRandomBad() {\n",
    "    Random random = new Random();\n",
    "    int roll = random.nextInt(2) + 1;\n",
    "\n",
    "    check(roll == 2, \"Roll is not 2\");\n",
    "}"
   ]
  },
  {
   "cell_type": "code",
   "execution_count": null,
   "id": "d18a1ffc74f419a1",
   "metadata": {},
   "outputs": [],
   "source": [
    "testRandomBad();"
   ]
  },
  {
   "cell_type": "code",
   "execution_count": null,
   "id": "a58dce93cc59ffca",
   "metadata": {
    "slideshow": {
     "slide_type": "subslide"
    },
    "tags": [
     "subslide"
    ]
   },
   "outputs": [],
   "source": [
    "void testRandomBetter() {\n",
    "    Random random = new Random(42);  // <= Fixed seed!\n",
    "    int roll = random.nextInt(2) + 1;\n",
    "\n",
    "    check(roll == 2, \"Roll is not 2\");\n",
    "}"
   ]
  },
  {
   "cell_type": "code",
   "execution_count": null,
   "id": "e223f29fd6008f74",
   "metadata": {},
   "outputs": [],
   "source": [
    "testRandomBetter();"
   ]
  },
  {
   "cell_type": "code",
   "execution_count": null,
   "id": "8d7e4d41033a7a39",
   "metadata": {
    "slideshow": {
     "slide_type": "subslide"
    },
    "tags": [
     "subslide"
    ]
   },
   "outputs": [],
   "source": [
    "import java.time.LocalDateTime;\n",
    "\n",
    "void testDateBad() {\n",
    "    LocalDateTime now = LocalDateTime.now();\n",
    "\n",
    "    check(now.getYear() == 2024, \"Year is not 2024\");\n",
    "    check(now.getSecond() % 2 == 0, \"Second is not even\");\n",
    "}"
   ]
  },
  {
   "cell_type": "code",
   "execution_count": null,
   "id": "234b72867a1d89c4",
   "metadata": {},
   "outputs": [],
   "source": [
    "testDateBad();"
   ]
  },
  {
   "cell_type": "code",
   "execution_count": null,
   "id": "db06f5be30b4b906",
   "metadata": {
    "slideshow": {
     "slide_type": "subslide"
    },
    "tags": [
     "subslide"
    ]
   },
   "outputs": [],
   "source": [
    "void testDateBetter() {\n",
    "    LocalDateTime fixedDate = LocalDateTime.of(2024, 1, 1, 0, 0, 0);\n",
    "\n",
    "    check(fixedDate.getYear() == 2024, \"Year is not 2024\");\n",
    "    check(fixedDate.getSecond() % 2 == 0, \"Second is not even\");\n",
    "}"
   ]
  },
  {
   "cell_type": "code",
   "execution_count": null,
   "id": "92cfbe1c70cd7203",
   "metadata": {},
   "outputs": [],
   "source": [
    "testDateBetter();"
   ]
  },
  {
   "cell_type": "markdown",
   "id": "ca2d00a9215906e2",
   "metadata": {
    "lang": "de",
    "slideshow": {
     "slide_type": "subslide"
    },
    "tags": [
     "subslide"
    ]
   },
   "source": [
    "\n",
    "## Leicht zu warten\n",
    "\n",
    "<ul>\n",
    "  <li>Einfache, standardisierte Struktur<br>\n",
    "    <table style=\"display:inline;margin:20px 20px;\">\n",
    "    <tr><td style=\"text-align:left;width:60px;padding-left:15px;\">Arrange</td>\n",
    "        <td style=\"text-align:left;width:60px;padding-left:15px;border-left:1px solid black;\">Given</td>\n",
    "        <td style=\"text-align:left;width:600px;padding-left:15px;border-left:1px solid black;\">\n",
    "          Bereite das Test-Environment vor</td></tr>\n",
    "    <tr><td style=\"text-align:left;padding-left:15px;\">Act</td>\n",
    "        <td style=\"text-align:left;width:60px;padding-left:15px;border-left:1px solid black;\">\n",
    "           When</td>\n",
    "        <td style=\"text-align:left;width:600px;padding-left:15px;border-left:1px solid black;\">\n",
    "           Führe die getestete Aktion aus (falls vorhanden)</td></tr>\n",
    "    <tr><td style=\"text-align:left;padding-left:15px;\">Assert</td>\n",
    "        <td style=\"text-align:left;width:60px;padding-left:15px;border-left:1px solid black;\">\n",
    "           Then</td>\n",
    "        <td style=\"text-align:left;width:600px;padding-left:15px;border-left:1px solid black;\">\n",
    "           Überprüfe die Ergebnisse</td></tr>\n",
    "    </table>\n",
    "  </li>\n",
    "  <li>Wenig Code\n",
    "    <ul>\n",
    "      <li>Wenig Boilerplate</li>\n",
    "      <li>Factories, etc. für Tests</li>\n",
    "    </ul>\n",
    "  </li>\n",
    "</ul>"
   ]
  },
  {
   "cell_type": "markdown",
   "id": "13a418744c76d04f",
   "metadata": {
    "lang": "de",
    "slideshow": {
     "slide_type": "subslide"
    },
    "tags": [
     "subslide"
    ]
   },
   "source": [
    "\n",
    "## Unempfindlich gegenüber Refactorings\n",
    "\n",
    "- Möglichst wenige falsche Positive!\n",
    "- Typischerweise vorhanden oder nicht, wenig Zwischenstufen\n",
    "\n",
    "### Einflüsse\n",
    "\n",
    "- Bezug zu Domäne/System\n",
    "- Zugriff auf interne Strukturen"
   ]
  },
  {
   "cell_type": "code",
   "execution_count": null,
   "id": "eac01684f0ac9127",
   "metadata": {
    "slideshow": {
     "slide_type": "subslide"
    },
    "tags": [
     "subslide"
    ]
   },
   "outputs": [],
   "source": [
    "class VeryPrivate {\n",
    "    private int secret = 42;\n",
    "}"
   ]
  },
  {
   "cell_type": "code",
   "execution_count": null,
   "id": "4e2c97a3839e5d4d",
   "metadata": {
    "slideshow": {
     "slide_type": "subslide"
    },
    "tags": [
     "subslide"
    ]
   },
   "outputs": [],
   "source": [
    "import java.lang.reflect.Field;"
   ]
  },
  {
   "cell_type": "code",
   "execution_count": null,
   "id": "ac91df418bb0392a",
   "metadata": {},
   "outputs": [],
   "source": [
    "void testVeryPrivate() throws NoSuchFieldException, IllegalAccessException {\n",
    "    VeryPrivate unit = new VeryPrivate();\n",
    "\n",
    "    Class<?> veryPrivateClass = unit.getClass();\n",
    "    Field secretField = veryPrivateClass.getDeclaredField(\"secret\");\n",
    "    secretField.setAccessible(true);\n",
    "    int secretValue = (int) secretField.get(unit);\n",
    "    check(secretValue == 42, \"Secret is not 42\");\n",
    "}"
   ]
  },
  {
   "cell_type": "code",
   "execution_count": null,
   "id": "89a0a45a6cfd0425",
   "metadata": {},
   "outputs": [],
   "source": [
    "testVeryPrivate();"
   ]
  },
  {
   "cell_type": "markdown",
   "id": "8b3ef14e7edd3a8a",
   "metadata": {
    "lang": "de",
    "slideshow": {
     "slide_type": "subslide"
    },
    "tags": [
     "subslide"
    ]
   },
   "source": [
    "\n",
    "Die folgenden Einflüsse stehen im Konflikt zueinander:\n",
    "\n",
    "- Erkennen von Fehlern/Regressionen\n",
    "- Schnelle Rückmeldung\n",
    "- Unempfindlich gegenüber Refactorings\n",
    "\n",
    "Die Qualität eines Tests hängt vom *Produkt* dieser Faktoren ab!"
   ]
  },
  {
   "cell_type": "markdown",
   "id": "763eb32c87fff1cc",
   "metadata": {
    "lang": "de",
    "slideshow": {
     "slide_type": "subslide"
    },
    "tags": [
     "subslide"
    ]
   },
   "source": [
    "\n",
    "## Wie finden wir den Trade-Off?\n",
    "\n",
    "- Unempfindlich gegenüber Refactorings kann *nie* geopfert werden\n",
    "- Wir müssen also einen Kompromiss finden zwischen\n",
    "  - Erkennen von Fehlern/Regressionen\n",
    "  - Schnelle Rückmeldung\n",
    "\n",
    "### Typischerweise\n",
    "\n",
    "- Schnelles Feedback für die meisten Tests (Unit-Tests)\n",
    "- Gründliche Fehlererkennung für wenige Tests (Integrationstests)"
   ]
  }
 ],
 "metadata": {
  "jupytext": {
   "cell_metadata_filter": "tags,lang,-all",
   "encoding": "// -*- coding: utf-8 -*-",
   "main_language": "java",
   "notebook_metadata_filter": "-all"
  },
  "kernelspec": {
   "display_name": "Java",
   "language": "java",
   "name": "java"
  },
  "language_info": {
   "codemirror_mode": "java",
   "file_extension": ".java",
   "mimetype": "text/java",
   "name": "Java",
   "pygments_lexer": "java",
   "version": ""
  }
 },
 "nbformat": 4,
 "nbformat_minor": 5
}
