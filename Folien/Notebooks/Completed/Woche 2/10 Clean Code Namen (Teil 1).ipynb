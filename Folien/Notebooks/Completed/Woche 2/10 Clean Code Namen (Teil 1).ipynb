{
 "cells": [
  {
   "cell_type": "markdown",
   "id": "b98ed53098edb863",
   "metadata": {
    "lang": "de",
    "slideshow": {
     "slide_type": "slide"
    },
    "tags": [
     "slide"
    ]
   },
   "source": [
    "\n",
    "<img src=\"data:image/svg+xml;base64,PHN2ZyB4bWxucz0iaHR0cDovL3d3dy53My5vcmcvMjAwMC9zdmciIHdpZHRoPSI2NCIgaGVpZ2h0\n",
    "PSI2NCIgdmlld0JveD0iMCAwIDMyIDMyIj48cGF0aCBkPSJNMTEuNjIyIDI0Ljc0cy0xLjIzLjc0\n",
    "OC44NTUuOTYyYzIuNTEuMzIgMy44NDcuMjY3IDYuNjI1LS4yNjdhMTAuMDIgMTAuMDIgMCAwIDAg\n",
    "MS43NjMuODU1Yy02LjI1IDIuNjcyLTE0LjE2LS4xNi05LjI0NC0xLjU1em0tLjgtMy40NzNzLTEu\n",
    "MzM2IDEuMDE1Ljc0OCAxLjIzYzIuNzI1LjI2NyA0Ljg2Mi4zMiA4LjU1LS40MjdhMy4yNiAzLjI2\n",
    "IDAgMCAwIDEuMjgyLjgwMWMtNy41MzQgMi4yNDQtMTUuOTc2LjIxNC0xMC41OC0xLjYwM3ptMTQu\n",
    "NzQ3IDYuMDlzLjkwOC43NDgtMS4wMTUgMS4zMzZjLTMuNTggMS4wNy0xNS4wMTQgMS4zOS0xOC4y\n",
    "MiAwLTEuMTIyLS40OCAxLjAxNS0xLjE3NSAxLjctMS4yODIuNjk1LS4xNiAxLjA3LS4xNiAxLjA3\n",
    "LS4xNi0xLjIzLS44NTUtOC4xNzUgMS43NjMtMy41MjYgMi41MSAxMi43NyAyLjA4NCAyMy4yOTYt\n",
    "LjkwOCAxOS45ODMtMi40MDR6TTEyLjIgMTcuNjMzcy01LjgyNCAxLjM5LTIuMDg0IDEuODdjMS42\n",
    "MDMuMjE0IDQuNzU1LjE2IDcuNjk0LS4wNTMgMi40MDQtLjIxNCA0LjgxLS42NCA0LjgxLS42NHMt\n",
    "Ljg1NS4zNzQtMS40NDMuNzQ4Yy01LjkzIDEuNTUtMTcuMzEyLjg1NS0xNC4wNTItLjc0OCAyLjc3\n",
    "OC0xLjMzNiA1LjA3Ni0xLjE3NSA1LjA3Ni0xLjE3NXptMTAuNDIgNS44MjRjNS45ODQtMy4xIDMu\n",
    "MjA2LTYuMDkgMS4yODItNS43MTctLjQ4LjEwNy0uNjk1LjIxNC0uNjk1LjIxNHMuMTYtLjMyLjUz\n",
    "NC0uNDI3YzMuNzk0LTEuMzM2IDYuNzg2IDQuMDA3LTEuMjMgNi4wOSAwIDAgLjA1My0uMDUzLjEw\n",
    "Ny0uMTZ6bS05LjgzIDguNDQyYzUuNzcuMzc0IDE0LjU4Ny0uMjE0IDE0LjgtMi45NCAwIDAtLjQy\n",
    "NyAxLjA3LTQuNzU1IDEuODctNC45MTYuOTA4LTExLjAwNy44LTE0LjU4Ny4yMTQgMCAwIC43NDgu\n",
    "NjQgNC41NDIuODU1eiIgZmlsbD0iIzRlNzg5NiIvPjxwYXRoIGQ9Ik0xOC45OTYuMDAxczMuMzEz\n",
    "IDMuMzY2LTMuMTUyIDguNDQyYy01LjE4MyA0LjExNC0xLjE3NSA2LjQ2NSAwIDkuMTM3LTMuMDQ2\n",
    "LTIuNzI1LTUuMjM2LTUuMTMtMy43NC03LjM3M0MxNC4yOTQgNi44OTMgMjAuMzMyIDUuMyAxOC45\n",
    "OTYuMDAxem0tMS43IDE1LjMzNWMxLjU1IDEuNzYzLS40MjcgMy4zNjYtLjQyNyAzLjM2NnMzLjk1\n",
    "NC0yLjAzIDIuMTM3LTQuNTQyYy0xLjY1Ni0yLjQwNC0yLjk0LTMuNTggNC4wMDctNy41ODcgMCAw\n",
    "LTEwLjk1MyAyLjcyNS01LjcxNyA4Ljc2M3oiIGZpbGw9IiNmNTgyMTkiLz48L3N2Zz4=\n",
    "\"\n",
    "     alt=\"Java Logo\" style=\"display:block;margin:auto;width:5%\"/>\n",
    "<br>\n",
    "\n",
    "<div style=\"text-align:center; font-size:200%;\">\n",
    " <b>Clean Code: Namen (Teil 1)</b>\n",
    "</div>\n",
    "<br/>\n",
    "<div style=\"text-align:center; font-size:120%;\">Dr. Matthias Hölzl</div>\n",
    "<br/>\n",
    "<div style=\"text-align:center;\">Coding-Akademie München</div>\n",
    "<br/>"
   ]
  },
  {
   "cell_type": "markdown",
   "id": "6cca43b3d6fdcec4",
   "metadata": {
    "lang": "de",
    "slideshow": {
     "slide_type": "subslide"
    },
    "tags": [
     "subslide"
    ]
   },
   "source": [
    "\n",
    "Namen sind ein mächtiges Kommunikationsmittel.\n",
    "\n",
    "- Sie sind überall im Programm zu finden\n",
    "- Sie verbinden den Code mit Domänen-Konzepten."
   ]
  },
  {
   "cell_type": "code",
   "execution_count": null,
   "id": "02b53bb5803e6b71",
   "metadata": {
    "tags": [
     "keep"
    ]
   },
   "outputs": [],
   "source": [
    "double foo(double a, double b) {\n",
    "    if (b > 40.0) {\n",
    "        throw new IllegalArgumentException(\"Not allowed!\");\n",
    "    }\n",
    "    return 40.0 * a + 60.0 * b;\n",
    "}"
   ]
  },
  {
   "cell_type": "code",
   "execution_count": null,
   "id": "f28f6ba4c1fb4c66",
   "metadata": {
    "tags": [
     "keep"
    ]
   },
   "outputs": [],
   "source": [
    "foo(40, 10)"
   ]
  },
  {
   "cell_type": "code",
   "execution_count": null,
   "id": "26c66353736b1a65",
   "metadata": {
    "slideshow": {
     "slide_type": "subslide"
    },
    "tags": [
     "keep",
     "subslide"
    ]
   },
   "outputs": [],
   "source": [
    "final double REGULAR_PAY_PER_HOUR = 40.0;\n",
    "final double OVERTIME_PAY_PER_HOUR = 60.0;\n",
    "final double MAX_ALLOWED_OVERTIME = 40.0;"
   ]
  },
  {
   "cell_type": "code",
   "execution_count": null,
   "id": "565d30707a67e1a9",
   "metadata": {
    "lines_to_next_cell": 2,
    "tags": [
     "keep"
    ]
   },
   "outputs": [],
   "source": [
    "double computeTotalSalary(double regularHoursWorked, double overtimeHoursWorked) {\n",
    "    if (overtimeHoursWorked > MAX_ALLOWED_OVERTIME) {\n",
    "        throw new IllegalArgumentException(\"Not allowed!\");\n",
    "    }\n",
    "    double regularPay = regularHoursWorked * REGULAR_PAY_PER_HOUR;\n",
    "    double overtimePay = overtimeHoursWorked * OVERTIME_PAY_PER_HOUR;\n",
    "    return regularPay + overtimePay;\n",
    "}"
   ]
  },
  {
   "cell_type": "code",
   "execution_count": null,
   "id": "d5edfc446ab43ba8",
   "metadata": {
    "tags": [
     "keep"
    ]
   },
   "outputs": [],
   "source": [
    "computeTotalSalary(40, 10)"
   ]
  },
  {
   "cell_type": "code",
   "execution_count": null,
   "id": "063c71de8d6a2c95",
   "metadata": {
    "slideshow": {
     "slide_type": "subslide"
    },
    "tags": [
     "keep",
     "subslide"
    ]
   },
   "outputs": [],
   "source": [
    "int severity = 30; // Is this high or low?"
   ]
  },
  {
   "cell_type": "code",
   "execution_count": null,
   "id": "d3eac6c8d4034199",
   "metadata": {
    "tags": [
     "keep"
    ]
   },
   "outputs": [],
   "source": [
    "severity"
   ]
  },
  {
   "cell_type": "markdown",
   "id": "755b1e8dcc93fcea",
   "metadata": {
    "lang": "de",
    "slideshow": {
     "slide_type": "subslide"
    },
    "tags": [
     "subslide"
    ]
   },
   "source": [
    "\n",
    "### Konstanten\n",
    "\n",
    "- Namen für besondere Werte\n",
    "- Klarer, als die Werte direkt zu verwenden\n",
    "- Direkter Bezug zwischen Name und Wert\n",
    "- Wenig Information über alle möglichen Werte\n",
    "- Wenig Bezug zum Typsystem"
   ]
  },
  {
   "cell_type": "code",
   "execution_count": null,
   "id": "98ee5b8b150ef3b5",
   "metadata": {
    "tags": [
     "keep"
    ]
   },
   "outputs": [],
   "source": [
    "final int SEVERITY_HIGH = 30;"
   ]
  },
  {
   "cell_type": "code",
   "execution_count": null,
   "id": "926333f44af10f4a",
   "metadata": {},
   "outputs": [],
   "source": [
    "severity = SEVERITY_HIGH;"
   ]
  },
  {
   "cell_type": "markdown",
   "id": "65dea3ad06652caf",
   "metadata": {
    "lang": "de",
    "slideshow": {
     "slide_type": "subslide"
    },
    "tags": [
     "subslide"
    ]
   },
   "source": [
    "\n",
    "### Enumerationen\n",
    "\n",
    "- Alternative zu Konstanten\n",
    "- Dokumentieren, welche Werte erwartet werden\n",
    "- Bessere Typsicherheit\n",
    "- Weniger Flexibilität"
   ]
  },
  {
   "cell_type": "code",
   "execution_count": null,
   "id": "085c81bd11d23055",
   "metadata": {
    "tags": [
     "keep"
    ]
   },
   "outputs": [],
   "source": [
    "public enum Severity {\n",
    "    HIGH,\n",
    "    MEDIUM,\n",
    "    LOW\n",
    "}"
   ]
  },
  {
   "cell_type": "code",
   "execution_count": null,
   "id": "3b59d6816ff9d0a3",
   "metadata": {
    "tags": [
     "keep"
    ]
   },
   "outputs": [],
   "source": [
    "Severity severity = Severity.HIGH;"
   ]
  },
  {
   "cell_type": "markdown",
   "id": "f344c6119ad0f25b",
   "metadata": {
    "lang": "de",
    "slideshow": {
     "slide_type": "subslide"
    },
    "tags": [
     "subslide"
    ]
   },
   "source": [
    "\n",
    "### Klassen und Structs"
   ]
  },
  {
   "cell_type": "code",
   "execution_count": null,
   "id": "77f535b43203e911",
   "metadata": {
    "tags": [
     "keep"
    ]
   },
   "outputs": [],
   "source": [
    "import static java.util.AbstractMap.SimpleEntry;"
   ]
  },
  {
   "cell_type": "code",
   "execution_count": null,
   "id": "c2eb48bb2cfbd511",
   "metadata": {
    "tags": [
     "keep"
    ]
   },
   "outputs": [],
   "source": [
    "public static SimpleEntry<Integer, String> analyzeReview(String text) {\n",
    "    return new SimpleEntry<>(5, \"Generally positive\");\n",
    "}"
   ]
  },
  {
   "cell_type": "code",
   "execution_count": null,
   "id": "fffa40a31da90459",
   "metadata": {
    "lines_to_next_cell": 2,
    "tags": [
     "keep"
    ]
   },
   "outputs": [],
   "source": [
    "SimpleEntry<Integer, String> result = analyzeReview(\"Some review text\");"
   ]
  },
  {
   "cell_type": "code",
   "execution_count": null,
   "id": "5ccdc62ffb23d2c5",
   "metadata": {
    "lines_to_next_cell": 2,
    "tags": [
     "keep"
    ]
   },
   "outputs": [],
   "source": [
    "System.out.println(\"Score: \" + result.getKey() + \", Sentiment: \" + result.getValue());"
   ]
  },
  {
   "cell_type": "code",
   "execution_count": null,
   "id": "fc3affefb392952d",
   "metadata": {
    "slideshow": {
     "slide_type": "subslide"
    },
    "tags": [
     "keep",
     "subslide"
    ]
   },
   "outputs": [],
   "source": [
    "public class AnalysisResult {\n",
    "    private int score;\n",
    "    private String sentiment;\n",
    "\n",
    "    public AnalysisResult(int score, String sentiment) {\n",
    "        this.score = score;\n",
    "        this.sentiment = sentiment;\n",
    "    }\n",
    "\n",
    "    public int getScore() {\n",
    "        return score;\n",
    "    }\n",
    "\n",
    "    public String getSentiment() {\n",
    "        return sentiment;\n",
    "    }\n",
    "\n",
    "    public String toString() {\n",
    "        return \"Score: \" + getScore() + \", Sentiment: \" + getSentiment();\n",
    "    }\n",
    "}"
   ]
  },
  {
   "cell_type": "code",
   "execution_count": null,
   "id": "5895f0f2184dd397",
   "metadata": {
    "slideshow": {
     "slide_type": "subslide"
    },
    "tags": [
     "keep",
     "subslide"
    ]
   },
   "outputs": [],
   "source": [
    "AnalysisResult analyzeReview(String text) {\n",
    "    return new AnalysisResult(5, \"Overall positive\");\n",
    "}"
   ]
  },
  {
   "cell_type": "code",
   "execution_count": null,
   "id": "d57f42b814828aa3",
   "metadata": {
    "tags": [
     "keep"
    ]
   },
   "outputs": [],
   "source": [
    "AnalysisResult result = analyzeReview(\"Some review text\");"
   ]
  },
  {
   "cell_type": "code",
   "execution_count": null,
   "id": "abd6f19d42a2240c",
   "metadata": {
    "tags": [
     "keep"
    ]
   },
   "outputs": [],
   "source": [
    "System.out.println(result);"
   ]
  },
  {
   "cell_type": "code",
   "execution_count": null,
   "id": "09e04cc69c040608",
   "metadata": {
    "slideshow": {
     "slide_type": "subslide"
    },
    "tags": [
     "keep",
     "subslide"
    ]
   },
   "outputs": [],
   "source": [
    "public record AnalysisResult(int score, String sentiment) {}"
   ]
  },
  {
   "cell_type": "code",
   "execution_count": null,
   "id": "6deadcab4935ffb9",
   "metadata": {
    "slideshow": {
     "slide_type": "subslide"
    },
    "tags": [
     "keep",
     "subslide"
    ]
   },
   "outputs": [],
   "source": [
    "AnalysisResult analyzeReview(String text) {\n",
    "    return new AnalysisResult(5, \"Overall positive\");\n",
    "}"
   ]
  },
  {
   "cell_type": "code",
   "execution_count": null,
   "id": "7d31ef7e736e9fce",
   "metadata": {
    "tags": [
     "keep"
    ]
   },
   "outputs": [],
   "source": [
    "AnalysisResult result = analyzeReview(\"Some review text\");"
   ]
  },
  {
   "cell_type": "code",
   "execution_count": null,
   "id": "14ea96b0395433b1",
   "metadata": {
    "tags": [
     "keep"
    ]
   },
   "outputs": [],
   "source": [
    "System.out.println(result);"
   ]
  },
  {
   "cell_type": "code",
   "execution_count": null,
   "id": "8792c4cdaf7b8065",
   "metadata": {
    "slideshow": {
     "slide_type": "subslide"
    },
    "tags": [
     "keep",
     "subslide"
    ]
   },
   "outputs": [],
   "source": [
    "enum Score {\n",
    "    HIGH,\n",
    "    MODERATELY_HIGH,\n",
    "    MEDIUM,\n",
    "    MODERATELY_LOW,\n",
    "    LOW,\n",
    "    UNKNOWN,\n",
    "}"
   ]
  },
  {
   "cell_type": "code",
   "execution_count": null,
   "id": "295484a8c981e903",
   "metadata": {
    "slideshow": {
     "slide_type": "subslide"
    },
    "tags": [
     "keep",
     "subslide"
    ]
   },
   "outputs": [],
   "source": [
    "public record AnalysisResult(Score score, String sentiment) {}"
   ]
  },
  {
   "cell_type": "code",
   "execution_count": null,
   "id": "78168ce16d5055f5",
   "metadata": {
    "tags": [
     "keep"
    ]
   },
   "outputs": [],
   "source": [
    "AnalysisResult analyzeReview(String text) {\n",
    "    return new AnalysisResult(Score.MODERATELY_HIGH, \"Overall positive\");\n",
    "}"
   ]
  },
  {
   "cell_type": "code",
   "execution_count": null,
   "id": "232238d93a520887",
   "metadata": {
    "tags": [
     "keep"
    ]
   },
   "outputs": [],
   "source": [
    "AnalysisResult result = analyzeReview(\"Some review text\");"
   ]
  },
  {
   "cell_type": "code",
   "execution_count": null,
   "id": "235087fbc1b7f469",
   "metadata": {
    "tags": [
     "keep"
    ]
   },
   "outputs": [],
   "source": [
    "System.out.println(result);"
   ]
  },
  {
   "cell_type": "markdown",
   "id": "60ec04344f97790e",
   "metadata": {
    "lang": "de",
    "slideshow": {
     "slide_type": "subslide"
    },
    "tags": [
     "subslide"
    ]
   },
   "source": [
    "\n",
    "## Was ist ein guter Name?\n",
    "\n",
    "- Präzise (sagt was er meint, meint was er sagt)\n",
    "- Beantwortet\n",
    "  - Warum gibt es diese Variable (Funktion, Klasse, Modul, Objekt...)?\n",
    "  - Was macht sie?\n",
    "  - Wie wird sie verwendet?\n",
    "\n",
    "Gute Namen sind schwer zu finden!"
   ]
  },
  {
   "cell_type": "markdown",
   "id": "1804c18ec5d18007",
   "metadata": {
    "lang": "de",
    "slideshow": {
     "slide_type": "subslide"
    },
    "tags": [
     "subslide"
    ]
   },
   "source": [
    "\n",
    "## Was ist ein schlechter Name?\n",
    "\n",
    "- Braucht einen Kommentar\n",
    "- Verbreitet Disinformation\n",
    "- Entspricht nicht den Namensregeln"
   ]
  },
  {
   "cell_type": "markdown",
   "id": "d9b4842db2ad3aa6",
   "metadata": {
    "lang": "de",
    "slideshow": {
     "slide_type": "slide"
    },
    "tags": [
     "slide"
    ]
   },
   "source": [
    "\n",
    "## Workshop: Rezepte\n",
    "\n",
    "In `code/starter-kits/recipes-sk` ist ein Programm, mit denen sich ein\n",
    "Kochbuch verwalten lässt. Leider hat der Programmierer sehr schlechte Namen\n",
    "verwendet, dadurch ist das Programm schwer zu verstehen.\n",
    "\n",
    "Ändern Sie die Namen so, dass das Programm leichter verständlich wird.\n",
    "\n",
    "### Hinweis\n",
    "\n",
    "Verwenden Sie die Refactoring-Tools Ihrer Entwicklungsumgebung!"
   ]
  }
 ],
 "metadata": {
  "jupytext": {
   "cell_metadata_filter": "tags,lang,-all",
   "encoding": "// -*- coding: utf-8 -*-",
   "main_language": "java",
   "notebook_metadata_filter": "-all"
  },
  "kernelspec": {
   "display_name": "Java",
   "language": "java",
   "name": "java"
  },
  "language_info": {
   "codemirror_mode": "java",
   "file_extension": ".java",
   "mimetype": "text/java",
   "name": "Java",
   "pygments_lexer": "java",
   "version": ""
  }
 },
 "nbformat": 4,
 "nbformat_minor": 5
}
