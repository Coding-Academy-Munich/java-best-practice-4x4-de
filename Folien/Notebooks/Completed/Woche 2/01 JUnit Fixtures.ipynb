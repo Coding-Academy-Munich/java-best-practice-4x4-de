{
 "cells": [
  {
   "cell_type": "markdown",
   "id": "0853c695bd9f963e",
   "metadata": {
    "lang": "de",
    "slideshow": {
     "slide_type": "slide"
    },
    "tags": [
     "slide"
    ]
   },
   "source": [
    "\n",
    "<img src=\"data:image/svg+xml;base64,PHN2ZyB4bWxucz0iaHR0cDovL3d3dy53My5vcmcvMjAwMC9zdmciIHdpZHRoPSI2NCIgaGVpZ2h0\n",
    "PSI2NCIgdmlld0JveD0iMCAwIDMyIDMyIj48cGF0aCBkPSJNMTEuNjIyIDI0Ljc0cy0xLjIzLjc0\n",
    "OC44NTUuOTYyYzIuNTEuMzIgMy44NDcuMjY3IDYuNjI1LS4yNjdhMTAuMDIgMTAuMDIgMCAwIDAg\n",
    "MS43NjMuODU1Yy02LjI1IDIuNjcyLTE0LjE2LS4xNi05LjI0NC0xLjU1em0tLjgtMy40NzNzLTEu\n",
    "MzM2IDEuMDE1Ljc0OCAxLjIzYzIuNzI1LjI2NyA0Ljg2Mi4zMiA4LjU1LS40MjdhMy4yNiAzLjI2\n",
    "IDAgMCAwIDEuMjgyLjgwMWMtNy41MzQgMi4yNDQtMTUuOTc2LjIxNC0xMC41OC0xLjYwM3ptMTQu\n",
    "NzQ3IDYuMDlzLjkwOC43NDgtMS4wMTUgMS4zMzZjLTMuNTggMS4wNy0xNS4wMTQgMS4zOS0xOC4y\n",
    "MiAwLTEuMTIyLS40OCAxLjAxNS0xLjE3NSAxLjctMS4yODIuNjk1LS4xNiAxLjA3LS4xNiAxLjA3\n",
    "LS4xNi0xLjIzLS44NTUtOC4xNzUgMS43NjMtMy41MjYgMi41MSAxMi43NyAyLjA4NCAyMy4yOTYt\n",
    "LjkwOCAxOS45ODMtMi40MDR6TTEyLjIgMTcuNjMzcy01LjgyNCAxLjM5LTIuMDg0IDEuODdjMS42\n",
    "MDMuMjE0IDQuNzU1LjE2IDcuNjk0LS4wNTMgMi40MDQtLjIxNCA0LjgxLS42NCA0LjgxLS42NHMt\n",
    "Ljg1NS4zNzQtMS40NDMuNzQ4Yy01LjkzIDEuNTUtMTcuMzEyLjg1NS0xNC4wNTItLjc0OCAyLjc3\n",
    "OC0xLjMzNiA1LjA3Ni0xLjE3NSA1LjA3Ni0xLjE3NXptMTAuNDIgNS44MjRjNS45ODQtMy4xIDMu\n",
    "MjA2LTYuMDkgMS4yODItNS43MTctLjQ4LjEwNy0uNjk1LjIxNC0uNjk1LjIxNHMuMTYtLjMyLjUz\n",
    "NC0uNDI3YzMuNzk0LTEuMzM2IDYuNzg2IDQuMDA3LTEuMjMgNi4wOSAwIDAgLjA1My0uMDUzLjEw\n",
    "Ny0uMTZ6bS05LjgzIDguNDQyYzUuNzcuMzc0IDE0LjU4Ny0uMjE0IDE0LjgtMi45NCAwIDAtLjQy\n",
    "NyAxLjA3LTQuNzU1IDEuODctNC45MTYuOTA4LTExLjAwNy44LTE0LjU4Ny4yMTQgMCAwIC43NDgu\n",
    "NjQgNC41NDIuODU1eiIgZmlsbD0iIzRlNzg5NiIvPjxwYXRoIGQ9Ik0xOC45OTYuMDAxczMuMzEz\n",
    "IDMuMzY2LTMuMTUyIDguNDQyYy01LjE4MyA0LjExNC0xLjE3NSA2LjQ2NSAwIDkuMTM3LTMuMDQ2\n",
    "LTIuNzI1LTUuMjM2LTUuMTMtMy43NC03LjM3M0MxNC4yOTQgNi44OTMgMjAuMzMyIDUuMyAxOC45\n",
    "OTYuMDAxem0tMS43IDE1LjMzNWMxLjU1IDEuNzYzLS40MjcgMy4zNjYtLjQyNyAzLjM2NnMzLjk1\n",
    "NC0yLjAzIDIuMTM3LTQuNTQyYy0xLjY1Ni0yLjQwNC0yLjk0LTMuNTggNC4wMDctNy41ODcgMCAw\n",
    "LTEwLjk1MyAyLjcyNS01LjcxNyA4Ljc2M3oiIGZpbGw9IiNmNTgyMTkiLz48L3N2Zz4=\n",
    "\"\n",
    "     alt=\"Java Logo\" style=\"display:block;margin:auto;width:5%\"/>\n",
    "<br>\n",
    "\n",
    "<div style=\"text-align:center; font-size:200%;\">\n",
    " <b>JUnit Fixtures</b>\n",
    "</div>\n",
    "<br/>\n",
    "<div style=\"text-align:center; font-size:120%;\">Dr. Matthias Hölzl</div>\n",
    "<br/>\n",
    "<div style=\"text-align:center;\">Coding-Akademie München</div>\n",
    "<br/>"
   ]
  },
  {
   "cell_type": "markdown",
   "id": "b8b2dbb6c61dc00b",
   "metadata": {
    "lang": "de",
    "slideshow": {
     "slide_type": "subslide"
    },
    "tags": [
     "subslide"
    ]
   },
   "source": [
    "\n",
    "## Probleme mit einfachen Tests\n",
    "\n",
    "- Kompliziertes Setup (und Teardown)\n",
    "  - Wiederholung von Code\n",
    "  - Schwer zu warten und verstehen\n",
    "- Viele ähnliche Tests"
   ]
  },
  {
   "cell_type": "code",
   "execution_count": null,
   "id": "b2e0d64c51493c3e",
   "metadata": {
    "slideshow": {
     "slide_type": "subslide"
    },
    "tags": [
     "keep",
     "subslide"
    ]
   },
   "outputs": [],
   "source": [
    "class Dependency1 {\n",
    "    public Dependency1(int i, int j) {\n",
    "        this.i = i;\n",
    "        this.j = j;\n",
    "    }\n",
    "\n",
    "    public int value() {\n",
    "        return i + 2 * j;\n",
    "    }\n",
    "\n",
    "    private int i;\n",
    "    private int j;\n",
    "}"
   ]
  },
  {
   "cell_type": "code",
   "execution_count": null,
   "id": "233b4f2d35d3c489",
   "metadata": {
    "slideshow": {
     "slide_type": "subslide"
    },
    "tags": [
     "keep",
     "subslide"
    ]
   },
   "outputs": [],
   "source": [
    "class Dependency2 {\n",
    "    public Dependency2(Dependency1 d1, int k) {\n",
    "        this.d1 = d1;\n",
    "        this.k = k + d1.value();\n",
    "    }\n",
    "\n",
    "    public int value() {\n",
    "        return d1.value() + 3 * k;\n",
    "    }\n",
    "\n",
    "    private Dependency1 d1;\n",
    "    public int k;\n",
    "}"
   ]
  },
  {
   "cell_type": "code",
   "execution_count": null,
   "id": "685241a2be280c8e",
   "metadata": {
    "slideshow": {
     "slide_type": "subslide"
    },
    "tags": [
     "keep",
     "subslide"
    ]
   },
   "outputs": [],
   "source": [
    "public class MyClass {\n",
    "    public MyClass(Dependency2 d2, int m) {\n",
    "        this.d2 = d2;\n",
    "        this.m = m;\n",
    "    }\n",
    "\n",
    "    public int value() {\n",
    "        if (m < - 10) {\n",
    "            return d2.value() + 2 * m;\n",
    "        } else if (m < 0) {\n",
    "            return d2.value() - 3 * m;\n",
    "        } else if (m < 10) {\n",
    "            return d2.value() + 4 * m;\n",
    "        } else {\n",
    "            return d2.value() - 5 * m;\n",
    "        }\n",
    "    }\n",
    "\n",
    "    public void releaseResources() {\n",
    "        // Assume it is important to call this method to release resources\n",
    "        d2 = null;\n",
    "    }\n",
    "\n",
    "    private Dependency2 d2;\n",
    "    private int m;\n",
    "}"
   ]
  },
  {
   "cell_type": "code",
   "execution_count": null,
   "id": "1bfd1eeaa41b98d4",
   "metadata": {
    "slideshow": {
     "slide_type": "subslide"
    },
    "tags": [
     "keep",
     "subslide"
    ]
   },
   "outputs": [],
   "source": [
    "%maven org.junit.jupiter:junit-jupiter-api:5.8.2\n",
    "%maven org.junit.jupiter:junit-jupiter-engine:5.8.2\n",
    "%maven org.junit.platform:junit-platform-launcher:1.9.3"
   ]
  },
  {
   "cell_type": "code",
   "execution_count": null,
   "id": "9a38ce0d22d86bda",
   "metadata": {
    "tags": [
     "keep"
    ]
   },
   "outputs": [],
   "source": [
    "import static org.junit.jupiter.api.Assertions.*;\n",
    "import org.junit.jupiter.api.Test;"
   ]
  },
  {
   "cell_type": "code",
   "execution_count": null,
   "id": "dd840d4217d1e04e",
   "metadata": {
    "slideshow": {
     "slide_type": "subslide"
    },
    "tags": [
     "keep",
     "subslide"
    ]
   },
   "outputs": [],
   "source": [
    "class MyClassTest1 {\n",
    "    @Test\n",
    "    public void testValue1() {\n",
    "        Dependency1 d1 = new Dependency1(1, 2);\n",
    "        Dependency2 d2 = new Dependency2(d1, 3);\n",
    "        MyClass unit = new MyClass(d2, -11);\n",
    "\n",
    "        assertEquals(7, unit.value());\n",
    "\n",
    "        unit.releaseResources();\n",
    "    }\n",
    "\n",
    "    @Test\n",
    "    public void testValue2() {\n",
    "        Dependency1 d1 = new Dependency1(1, 2);\n",
    "        Dependency2 d2 = new Dependency2(d1, 4);\n",
    "        MyClass unit = new MyClass(d2, -1);\n",
    "\n",
    "        assertEquals(35, unit.value());\n",
    "\n",
    "        unit.releaseResources();\n",
    "    }\n",
    "\n",
    "    @Test\n",
    "    public void testValue3() {\n",
    "        Dependency1 d1 = new Dependency1(1, 2);\n",
    "        Dependency2 d2 = new Dependency2(d1, 3);\n",
    "        MyClass unit = new MyClass(d2, 1);\n",
    "\n",
    "        assertEquals(33, unit.value());\n",
    "\n",
    "        unit.releaseResources();\n",
    "    }\n",
    "\n",
    "    @Test\n",
    "    public void testValue4() {\n",
    "        Dependency1 d1 = new Dependency1(1, 2);\n",
    "        Dependency2 d2 = new Dependency2(d1, 3);\n",
    "        MyClass unit = new MyClass(d2, 11);\n",
    "\n",
    "        assertEquals(-26, unit.value());\n",
    "\n",
    "        unit.releaseResources();\n",
    "    }\n",
    "}"
   ]
  },
  {
   "cell_type": "code",
   "execution_count": null,
   "id": "9e34aa251c4f4aa1",
   "metadata": {
    "slideshow": {
     "slide_type": "subslide"
    },
    "tags": [
     "subslide",
     "keep"
    ]
   },
   "outputs": [],
   "source": [
    "%jars .\n",
    "%classpath testrunner-0.1.jar"
   ]
  },
  {
   "cell_type": "code",
   "execution_count": null,
   "id": "0d9a79fc77081dd9",
   "metadata": {
    "tags": [
     "keep"
    ]
   },
   "outputs": [],
   "source": [
    "import static testrunner.TestRunner.runTests;"
   ]
  },
  {
   "cell_type": "code",
   "execution_count": null,
   "id": "cd7742badab25b49",
   "metadata": {
    "tags": [
     "keep"
    ]
   },
   "outputs": [],
   "source": [
    "runTests(MyClassTest1.class)"
   ]
  },
  {
   "cell_type": "code",
   "execution_count": null,
   "id": "7d69fd01ad2e22ea",
   "metadata": {
    "slideshow": {
     "slide_type": "subslide"
    },
    "tags": [
     "keep",
     "subslide"
    ]
   },
   "outputs": [],
   "source": [
    "class MyClassTest2 {\n",
    "    private void setupDependencies() {\n",
    "        Dependency1 d1 = new Dependency1(1, 2);\n",
    "        d2 = new Dependency2(d1, 3);\n",
    "    }\n",
    "\n",
    "    private Dependency2 d2;\n",
    "\n",
    "    @Test\n",
    "    public void testValue1() {\n",
    "        setupDependencies();\n",
    "        MyClass unit = new MyClass(d2, -11);\n",
    "\n",
    "        assertEquals(7, unit.value());\n",
    "\n",
    "        unit.releaseResources();\n",
    "    }\n",
    "\n",
    "    @Test\n",
    "    public void testValue2() {\n",
    "        setupDependencies();\n",
    "        MyClass unit = new MyClass(d2, -1);\n",
    "\n",
    "        assertEquals(32, unit.value());\n",
    "\n",
    "        unit.releaseResources();\n",
    "    }\n",
    "\n",
    "    @Test\n",
    "    public void testValue3() {\n",
    "        setupDependencies();\n",
    "        MyClass unit = new MyClass(d2, 1);\n",
    "\n",
    "        assertEquals(33, unit.value());\n",
    "\n",
    "        unit.releaseResources();\n",
    "    }\n",
    "\n",
    "    @Test\n",
    "    public void testValue4() {\n",
    "        setupDependencies();\n",
    "        MyClass unit = new MyClass(d2, 11);\n",
    "\n",
    "        assertEquals(-26, unit.value());\n",
    "\n",
    "        unit.releaseResources();\n",
    "    }\n",
    "}"
   ]
  },
  {
   "cell_type": "code",
   "execution_count": null,
   "id": "ace894ac2055bb1e",
   "metadata": {
    "lines_to_next_cell": 2,
    "slideshow": {
     "slide_type": "subslide"
    },
    "tags": [
     "keep",
     "subslide"
    ]
   },
   "outputs": [],
   "source": [
    "runTests(MyClassTest2.class)"
   ]
  },
  {
   "cell_type": "code",
   "execution_count": null,
   "id": "db9ee39f64ff5dd3",
   "metadata": {
    "slideshow": {
     "slide_type": "subslide"
    },
    "tags": [
     "keep",
     "subslide"
    ]
   },
   "outputs": [],
   "source": [
    "class MyClassTest3 {\n",
    "    MyClassTest3() {\n",
    "        Dependency1 d1 = new Dependency1(1, 2);\n",
    "        d2 = new Dependency2(d1, 3);\n",
    "    }\n",
    "\n",
    "    @Test\n",
    "    public void testValue1() {\n",
    "        MyClass unit = new MyClass(d2, -11);\n",
    "        // d2.k = 4;\n",
    "        assertEquals(7, unit.value());\n",
    "        unit.releaseResources();\n",
    "    }\n",
    "\n",
    "    @Test\n",
    "    public void testValue2() {\n",
    "        MyClass myClass = new MyClass(d2, -1);\n",
    "        assertEquals(32, myClass.value());\n",
    "        myClass.releaseResources();\n",
    "    }\n",
    "\n",
    "    private Dependency2 d2;\n",
    "}"
   ]
  },
  {
   "cell_type": "code",
   "execution_count": null,
   "id": "b5a4a3e553cd8b50",
   "metadata": {
    "slideshow": {
     "slide_type": "subslide"
    },
    "tags": [
     "keep",
     "subslide"
    ]
   },
   "outputs": [],
   "source": [
    "runTests(MyClassTest3.class)"
   ]
  },
  {
   "cell_type": "markdown",
   "id": "fcc4eac5c3ff9767",
   "metadata": {
    "lang": "de",
    "slideshow": {
     "slide_type": "subslide"
    },
    "tags": [
     "subslide"
    ]
   },
   "source": [
    "\n",
    "## Testklassen und Fixtures\n",
    "\n",
    "- Testklassen können\n",
    "  - mehrere Tests zusammenfassen\n",
    "  - gemeinsamen Zustand für die Tests bereitstellen\n",
    "- `@BeforeEach` für Setup (Initialisierung)\n",
    "- `@AfterEach` für Teardown (Freigabe)\n",
    "- `@BeforeAll` und `@AfterAll` für Setup und Teardown auf Klassenebene"
   ]
  },
  {
   "cell_type": "code",
   "execution_count": null,
   "id": "90e3334e8ac74a74",
   "metadata": {
    "slideshow": {
     "slide_type": "subslide"
    },
    "tags": [
     "subslide",
     "keep"
    ]
   },
   "outputs": [],
   "source": [
    "import static org.junit.jupiter.api.Assertions.*;\n",
    "import org.junit.jupiter.api.Test;\n",
    "import org.junit.jupiter.api.BeforeAll;\n",
    "import org.junit.jupiter.api.AfterAll;\n",
    "import org.junit.jupiter.api.BeforeEach;\n",
    "import org.junit.jupiter.api.AfterEach;"
   ]
  },
  {
   "cell_type": "code",
   "execution_count": null,
   "id": "59eb6b55e831e367",
   "metadata": {
    "slideshow": {
     "slide_type": "subslide"
    },
    "tags": [
     "subslide",
     "keep"
    ]
   },
   "outputs": [],
   "source": [
    "public class JUnitFixturesTest {\n",
    "    private List<String> testList;\n",
    "\n",
    "    @BeforeAll\n",
    "    public static void setUpClass() {\n",
    "        System.out.println(\"Setting up the test class\");\n",
    "    }\n",
    "\n",
    "    @AfterAll\n",
    "    public static void tearDownClass() {\n",
    "        System.out.println(\"Tearing down the test class\");\n",
    "    }\n",
    "\n",
    "    @BeforeEach\n",
    "    public void setUp() {\n",
    "        testList = new ArrayList<>();\n",
    "        testList.add(\"test\");\n",
    "        System.out.println(\"Setting up a test\");\n",
    "    }\n",
    "\n",
    "    @AfterEach\n",
    "    public void tearDown() {\n",
    "        testList = null;\n",
    "        System.out.println(\"Tearing down a test\");\n",
    "    }\n",
    "\n",
    "    @Test\n",
    "    public void testListContents() {\n",
    "        assertEquals(1, testList.size());\n",
    "        assertTrue(testList.contains(\"test\"));\n",
    "    }\n",
    "\n",
    "    @Test\n",
    "    public void testListOperations() {\n",
    "        testList.add(\"another\");\n",
    "        assertEquals(2, testList.size());\n",
    "    }\n",
    "}"
   ]
  },
  {
   "cell_type": "code",
   "execution_count": null,
   "id": "b572dc06b9f8032e",
   "metadata": {
    "slideshow": {
     "slide_type": "subslide"
    },
    "tags": [
     "subslide",
     "keep"
    ]
   },
   "outputs": [],
   "source": [
    "runTests(JUnitFixturesTest.class)"
   ]
  },
  {
   "cell_type": "code",
   "execution_count": null,
   "id": "7a844114afee8d62",
   "metadata": {
    "slideshow": {
     "slide_type": "subslide"
    },
    "tags": [
     "keep",
     "subslide"
    ]
   },
   "outputs": [],
   "source": [
    "class MyClassTest4 {\n",
    "    @BeforeEach\n",
    "    public void setupDependencies() {\n",
    "        Dependency1 d1 = new Dependency1(1, 2);\n",
    "        d2 = new Dependency2(d1, 3);\n",
    "    }\n",
    "\n",
    "    @AfterEach\n",
    "    public void releaseResources() {\n",
    "        d2 = null;\n",
    "    }\n",
    "\n",
    "    @Test\n",
    "    public void testValue1() {\n",
    "        MyClass unit = new MyClass(d2, -11);\n",
    "        assertEquals(7, unit.value());\n",
    "    }\n",
    "\n",
    "    @Test\n",
    "    public void testValue2() {\n",
    "        MyClass unit = new MyClass(d2, -1);\n",
    "        assertEquals(32, unit.value());\n",
    "    }\n",
    "\n",
    "    @Test\n",
    "    public void testValue3() {\n",
    "        MyClass unit = new MyClass(d2, 1);\n",
    "        assertEquals(33, unit.value());\n",
    "    }\n",
    "\n",
    "    @Test\n",
    "    public void testValue4() {\n",
    "        MyClass unit = new MyClass(d2, 11);\n",
    "        assertEquals(-26, unit.value());\n",
    "    }\n",
    "\n",
    "    private Dependency2 d2;\n",
    "}"
   ]
  },
  {
   "cell_type": "code",
   "execution_count": null,
   "id": "0943f228da5db8f1",
   "metadata": {
    "lines_to_next_cell": 2,
    "slideshow": {
     "slide_type": "subslide"
    },
    "tags": [
     "keep",
     "subslide"
    ]
   },
   "outputs": [],
   "source": [
    "runTests(MyClassTest4.class)"
   ]
  },
  {
   "cell_type": "markdown",
   "id": "c463f48b5e0fd319",
   "metadata": {
    "lang": "de",
    "slideshow": {
     "slide_type": "subslide"
    },
    "tags": [
     "subslide"
    ]
   },
   "source": [
    "\n",
    "## Workshop: JUnit Fixtures für einen Musik-Streaming-Dienst\n",
    "\n",
    "In diesem Workshop werden wir Tests für ein einfaches Musik-Streaming-System\n",
    "mit JUnit implementieren.\n",
    "\n",
    "In diesem System haben wir die Klassen `User`, `Song`, `PlaylistEntry` und `Playlist`.\n",
    "- Die Klasse `User` repräsentiert einen Benutzer des Streaming-Dienstes.\n",
    "- Ein `Song` repräsentiert ein Musikstück, das im Streaming-Dienst verfügbar ist.\n",
    "- Ein `PlaylistEntry` repräsentiert einen Eintrag in einer Playlist, also ein\n",
    "  Musikstück und die Anzahl der Wiedergaben.\n",
    "- Eine `Playlist` repräsentiert eine Sammlung von Musikstücken, also eine Liste\n",
    "  von `PlaylistEntry`-Objekten."
   ]
  },
  {
   "cell_type": "code",
   "execution_count": null,
   "id": "77e90b4fee53cd60",
   "metadata": {
    "slideshow": {
     "slide_type": "subslide"
    },
    "tags": [
     "keep",
     "subslide"
    ]
   },
   "outputs": [],
   "source": [
    "public class User {\n",
    "    private String username;\n",
    "    private String email;\n",
    "    private boolean isPremium;\n",
    "\n",
    "    public User(String username, String email, boolean isPremium) {\n",
    "        this.username = username;\n",
    "        this.email = email;\n",
    "        this.isPremium = isPremium;\n",
    "    }\n",
    "\n",
    "    public String getUsername() {\n",
    "        return username;\n",
    "    }\n",
    "\n",
    "    public String getEmail() {\n",
    "        return email;\n",
    "    }\n",
    "\n",
    "    public boolean isPremium() {\n",
    "        return isPremium;\n",
    "    }\n",
    "}"
   ]
  },
  {
   "cell_type": "code",
   "execution_count": null,
   "id": "6341aec9046ebe71",
   "metadata": {
    "slideshow": {
     "slide_type": "subslide"
    },
    "tags": [
     "keep",
     "subslide"
    ]
   },
   "outputs": [],
   "source": [
    "public class Song {\n",
    "    private String title;\n",
    "    private String artist;\n",
    "    private int durationInSeconds;\n",
    "\n",
    "    public Song(String title, String artist, int durationInSeconds) {\n",
    "        this.title = title;\n",
    "        this.artist = artist;\n",
    "        this.durationInSeconds = durationInSeconds;\n",
    "    }\n",
    "\n",
    "    public String getTitle() {\n",
    "        return title;\n",
    "    }\n",
    "\n",
    "    public String getArtist() {\n",
    "        return artist;\n",
    "    }\n",
    "\n",
    "    public int getDurationInSeconds() {\n",
    "        return durationInSeconds;\n",
    "    }\n",
    "}"
   ]
  },
  {
   "cell_type": "code",
   "execution_count": null,
   "id": "f99199decd1aa40c",
   "metadata": {
    "slideshow": {
     "slide_type": "subslide"
    },
    "tags": [
     "keep",
     "subslide"
    ]
   },
   "outputs": [],
   "source": [
    "public class PlaylistEntry {\n",
    "    private Song song;\n",
    "    private int playCount;\n",
    "\n",
    "    public PlaylistEntry(Song song) {\n",
    "        this.song = song;\n",
    "        this.playCount = 0;\n",
    "    }\n",
    "\n",
    "    public void incrementPlayCount() {\n",
    "        playCount++;\n",
    "    }\n",
    "\n",
    "    public Song getSong() {\n",
    "        return song;\n",
    "    }\n",
    "\n",
    "    public int getPlayCount() {\n",
    "        return playCount;\n",
    "    }\n",
    "}"
   ]
  },
  {
   "cell_type": "code",
   "execution_count": null,
   "id": "d79b4e7747c7d572",
   "metadata": {
    "slideshow": {
     "slide_type": "subslide"
    },
    "tags": [
     "subslide",
     "keep"
    ]
   },
   "outputs": [],
   "source": [
    "public class Playlist {\n",
    "    private List<PlaylistEntry> entries = new ArrayList<>();\n",
    "    private User owner;\n",
    "    private String name;\n",
    "\n",
    "    public Playlist(User owner, String name) {\n",
    "        this.owner = owner;\n",
    "        this.name = name;\n",
    "    }\n",
    "\n",
    "    public void addSong(Song song) {\n",
    "        entries.add(new PlaylistEntry(song));\n",
    "    }\n",
    "\n",
    "    public int getTotalDuration() {\n",
    "        return entries.stream()\n",
    "                    .mapToInt(entry -> entry.getSong().getDurationInSeconds())\n",
    "                    .sum();\n",
    "    }\n",
    "\n",
    "    public int getTotalPlayCount() {\n",
    "        return entries.stream()\n",
    "                    .mapToInt(PlaylistEntry::getPlayCount)\n",
    "                    .sum();\n",
    "    }\n",
    "\n",
    "    public boolean canAddMoreSongs() {\n",
    "        if (owner.isPremium()) {\n",
    "            return true;\n",
    "        }\n",
    "        return entries.size() < 100;  // Non-premium users limited to 100 songs\n",
    "    }\n",
    "\n",
    "    public List<PlaylistEntry> getEntries() {\n",
    "        return new ArrayList<>(entries);\n",
    "    }\n",
    "\n",
    "    public String getName() {\n",
    "        return name;\n",
    "    }\n",
    "}"
   ]
  },
  {
   "cell_type": "markdown",
   "id": "b1ca584458203e3d",
   "metadata": {
    "lang": "de",
    "slideshow": {
     "slide_type": "subslide"
    },
    "tags": [
     "subslide"
    ]
   },
   "source": [
    "\n",
    "Implementieren Sie Tests für dieses System mit JUnit. Verwenden Sie dabei Fixtures,\n",
    "um die Tests zu strukturieren und Code-Duplikation zu vermeiden.\n",
    "\n",
    "Beachten Sie bei der Implementierung der Tests die folgenden Aspekte:\n",
    "- Grundlegende Funktionen wie das Hinzufügen von Songs zu einer Playlist\n",
    "- Berechnung der Gesamtdauer einer Playlist\n",
    "- Unterschiedliche Benutzerrechte (Premium vs. Nicht-Premium)\n",
    "- Begrenzung der Playlist-Größe für Nicht-Premium-Benutzer\n",
    "- Zählung der Wiedergaben von Songs\n",
    "\n",
    "Bewerten Sie Ihre Tests anhand der Kriterien für gute Unit-Tests, die wir\n",
    "in früheren Lektionen besprochen haben."
   ]
  },
  {
   "cell_type": "code",
   "execution_count": null,
   "id": "9399c8a0f9fe8d50",
   "metadata": {
    "slideshow": {
     "slide_type": "subslide"
    },
    "tags": [
     "subslide"
    ]
   },
   "outputs": [],
   "source": [
    "class PlaylistEntryTest {\n",
    "    private Song song;\n",
    "    private PlaylistEntry entry;\n",
    "\n",
    "    @BeforeEach\n",
    "    public void setup() {\n",
    "        song = new Song(\"Test Song\", \"Test Artist\", 180);\n",
    "        entry = new PlaylistEntry(song);\n",
    "    }\n",
    "\n",
    "    @Test\n",
    "    public void testInitialPlayCount() {\n",
    "        assertEquals(0, entry.getPlayCount());\n",
    "    }\n",
    "\n",
    "    @Test\n",
    "    public void testIncrementPlayCount() {\n",
    "        entry.incrementPlayCount();\n",
    "        entry.incrementPlayCount();\n",
    "        assertEquals(2, entry.getPlayCount());\n",
    "    }\n",
    "}"
   ]
  },
  {
   "cell_type": "code",
   "execution_count": null,
   "id": "031a8e7af2fca2af",
   "metadata": {
    "slideshow": {
     "slide_type": "subslide"
    },
    "tags": [
     "subslide"
    ]
   },
   "outputs": [],
   "source": [
    "class PlaylistBasicsTest {\n",
    "    private User user;\n",
    "    private Song song1;\n",
    "    private Song song2;\n",
    "    private Playlist playlist;\n",
    "\n",
    "    @BeforeEach\n",
    "    public void setup() {\n",
    "        user = new User(\"Alice\", \"alice@example.com\", false);\n",
    "        song1 = new Song(\"Song 1\", \"Artist 1\", 180);\n",
    "        song2 = new Song(\"Song 2\", \"Artist 2\", 240);\n",
    "        playlist = new Playlist(user, \"My Playlist\");\n",
    "    }\n",
    "\n",
    "    @Test\n",
    "    public void testPlaylistInitiallyEmpty() {\n",
    "        assertEquals(0, playlist.getEntries().size());\n",
    "    }\n",
    "\n",
    "    @Test\n",
    "    public void testAddSong() {\n",
    "        playlist.addSong(song1);\n",
    "        playlist.addSong(song2);\n",
    "        assertEquals(2, playlist.getEntries().size());\n",
    "    }\n",
    "\n",
    "    @Test\n",
    "    public void testTotalDurationForEmptyPlaylist() {\n",
    "        assertEquals(0, playlist.getTotalDuration());\n",
    "    }\n",
    "\n",
    "    @Test\n",
    "    public void testTotalDurationForNonEmptyPlaylist() {\n",
    "        playlist.addSong(song1);\n",
    "        playlist.addSong(song2);\n",
    "        assertEquals(420, playlist.getTotalDuration());\n",
    "    }\n",
    "}"
   ]
  },
  {
   "cell_type": "code",
   "execution_count": null,
   "id": "abf512326563d539",
   "metadata": {
    "slideshow": {
     "slide_type": "subslide"
    },
    "tags": [
     "subslide"
    ]
   },
   "outputs": [],
   "source": [
    "class PlaylistLimitsTest {\n",
    "    private User premiumUser;\n",
    "    private User nonPremiumUser;\n",
    "    private Song song;\n",
    "    private Playlist premiumPlaylist;\n",
    "    private Playlist nonPremiumPlaylist;\n",
    "\n",
    "    @BeforeEach\n",
    "    public void setup() {\n",
    "        premiumUser = new User(\"premium\", \"premium@example.com\", true);\n",
    "        nonPremiumUser = new User(\"regular\", \"regular@example.com\", false);\n",
    "        song = new Song(\"Test Song\", \"Test Artist\", 180);\n",
    "        premiumPlaylist = new Playlist(premiumUser, \"Premium Playlist\");\n",
    "        nonPremiumPlaylist = new Playlist(nonPremiumUser, \"Regular Playlist\");\n",
    "    }\n",
    "\n",
    "    @Test\n",
    "    public void testCanAddMoreSongsForPremiumUser() {\n",
    "        for (int i = 0; i < 150; i++) {\n",
    "            premiumPlaylist.addSong(song);\n",
    "        }\n",
    "        assertTrue(premiumPlaylist.canAddMoreSongs());\n",
    "    }\n",
    "\n",
    "    @Test\n",
    "    public void testCanAddMoreSongsForNonPremiumUser() {\n",
    "        for (int i = 0; i < 99; i++) {\n",
    "            nonPremiumPlaylist.addSong(song);\n",
    "        }\n",
    "        assertTrue(nonPremiumPlaylist.canAddMoreSongs());\n",
    "        nonPremiumPlaylist.addSong(song);\n",
    "        assertFalse(nonPremiumPlaylist.canAddMoreSongs());\n",
    "    }\n",
    "\n",
    "    @Test\n",
    "    public void testTotalPlayCount() {\n",
    "        premiumPlaylist.addSong(song);\n",
    "        premiumPlaylist.getEntries().get(0).incrementPlayCount();\n",
    "        premiumPlaylist.getEntries().get(0).incrementPlayCount();\n",
    "        assertEquals(2, premiumPlaylist.getTotalPlayCount());\n",
    "    }\n",
    "}"
   ]
  },
  {
   "cell_type": "code",
   "execution_count": null,
   "id": "56d8d13c248f8845",
   "metadata": {
    "slideshow": {
     "slide_type": "subslide"
    },
    "tags": [
     "subslide"
    ]
   },
   "outputs": [],
   "source": [
    "runTests(PlaylistBasicsTest.class)"
   ]
  }
 ],
 "metadata": {
  "jupytext": {
   "cell_metadata_filter": "tags,lang,-all",
   "encoding": "// -*- coding: utf-8 -*-",
   "main_language": "java",
   "notebook_metadata_filter": "-all"
  },
  "kernelspec": {
   "display_name": "Java",
   "language": "java",
   "name": "java"
  },
  "language_info": {
   "codemirror_mode": "java",
   "file_extension": ".java",
   "mimetype": "text/java",
   "name": "Java",
   "pygments_lexer": "java",
   "version": ""
  }
 },
 "nbformat": 4,
 "nbformat_minor": 5
}
