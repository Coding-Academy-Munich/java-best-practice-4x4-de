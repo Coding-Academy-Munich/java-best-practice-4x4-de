{
 "cells": [
  {
   "cell_type": "markdown",
   "id": "4fe22f8230eaf3f2",
   "metadata": {
    "lang": "de",
    "slideshow": {
     "slide_type": "slide"
    },
    "tags": [
     "slide"
    ]
   },
   "source": [
    "\n",
    "<img src=\"data:image/svg+xml;base64,PHN2ZyB4bWxucz0iaHR0cDovL3d3dy53My5vcmcvMjAwMC9zdmciIHdpZHRoPSI2NCIgaGVpZ2h0\n",
    "PSI2NCIgdmlld0JveD0iMCAwIDMyIDMyIj48cGF0aCBkPSJNMTEuNjIyIDI0Ljc0cy0xLjIzLjc0\n",
    "OC44NTUuOTYyYzIuNTEuMzIgMy44NDcuMjY3IDYuNjI1LS4yNjdhMTAuMDIgMTAuMDIgMCAwIDAg\n",
    "MS43NjMuODU1Yy02LjI1IDIuNjcyLTE0LjE2LS4xNi05LjI0NC0xLjU1em0tLjgtMy40NzNzLTEu\n",
    "MzM2IDEuMDE1Ljc0OCAxLjIzYzIuNzI1LjI2NyA0Ljg2Mi4zMiA4LjU1LS40MjdhMy4yNiAzLjI2\n",
    "IDAgMCAwIDEuMjgyLjgwMWMtNy41MzQgMi4yNDQtMTUuOTc2LjIxNC0xMC41OC0xLjYwM3ptMTQu\n",
    "NzQ3IDYuMDlzLjkwOC43NDgtMS4wMTUgMS4zMzZjLTMuNTggMS4wNy0xNS4wMTQgMS4zOS0xOC4y\n",
    "MiAwLTEuMTIyLS40OCAxLjAxNS0xLjE3NSAxLjctMS4yODIuNjk1LS4xNiAxLjA3LS4xNiAxLjA3\n",
    "LS4xNi0xLjIzLS44NTUtOC4xNzUgMS43NjMtMy41MjYgMi41MSAxMi43NyAyLjA4NCAyMy4yOTYt\n",
    "LjkwOCAxOS45ODMtMi40MDR6TTEyLjIgMTcuNjMzcy01LjgyNCAxLjM5LTIuMDg0IDEuODdjMS42\n",
    "MDMuMjE0IDQuNzU1LjE2IDcuNjk0LS4wNTMgMi40MDQtLjIxNCA0LjgxLS42NCA0LjgxLS42NHMt\n",
    "Ljg1NS4zNzQtMS40NDMuNzQ4Yy01LjkzIDEuNTUtMTcuMzEyLjg1NS0xNC4wNTItLjc0OCAyLjc3\n",
    "OC0xLjMzNiA1LjA3Ni0xLjE3NSA1LjA3Ni0xLjE3NXptMTAuNDIgNS44MjRjNS45ODQtMy4xIDMu\n",
    "MjA2LTYuMDkgMS4yODItNS43MTctLjQ4LjEwNy0uNjk1LjIxNC0uNjk1LjIxNHMuMTYtLjMyLjUz\n",
    "NC0uNDI3YzMuNzk0LTEuMzM2IDYuNzg2IDQuMDA3LTEuMjMgNi4wOSAwIDAgLjA1My0uMDUzLjEw\n",
    "Ny0uMTZ6bS05LjgzIDguNDQyYzUuNzcuMzc0IDE0LjU4Ny0uMjE0IDE0LjgtMi45NCAwIDAtLjQy\n",
    "NyAxLjA3LTQuNzU1IDEuODctNC45MTYuOTA4LTExLjAwNy44LTE0LjU4Ny4yMTQgMCAwIC43NDgu\n",
    "NjQgNC41NDIuODU1eiIgZmlsbD0iIzRlNzg5NiIvPjxwYXRoIGQ9Ik0xOC45OTYuMDAxczMuMzEz\n",
    "IDMuMzY2LTMuMTUyIDguNDQyYy01LjE4MyA0LjExNC0xLjE3NSA2LjQ2NSAwIDkuMTM3LTMuMDQ2\n",
    "LTIuNzI1LTUuMjM2LTUuMTMtMy43NC03LjM3M0MxNC4yOTQgNi44OTMgMjAuMzMyIDUuMyAxOC45\n",
    "OTYuMDAxem0tMS43IDE1LjMzNWMxLjU1IDEuNzYzLS40MjcgMy4zNjYtLjQyNyAzLjM2NnMzLjk1\n",
    "NC0yLjAzIDIuMTM3LTQuNTQyYy0xLjY1Ni0yLjQwNC0yLjk0LTMuNTggNC4wMDctNy41ODcgMCAw\n",
    "LTEwLjk1MyAyLjcyNS01LjcxNyA4Ljc2M3oiIGZpbGw9IiNmNTgyMTkiLz48L3N2Zz4=\n",
    "\"\n",
    "     alt=\"Java Logo\" style=\"display:block;margin:auto;width:5%\"/>\n",
    "<br>\n",
    "\n",
    "<div style=\"text-align:center; font-size:200%;\">\n",
    " <b>Code Smells</b>\n",
    "</div>\n",
    "<br/>\n",
    "<div style=\"text-align:center; font-size:120%;\">Dr. Matthias Hölzl</div>\n",
    "<br/>\n",
    "<div style=\"text-align:center;\">Coding-Akademie München</div>\n",
    "<br/>"
   ]
  },
  {
   "cell_type": "markdown",
   "id": "4c37990c4ba57083",
   "metadata": {
    "lang": "de",
    "slideshow": {
     "slide_type": "slide"
    },
    "tags": [
     "slide"
    ]
   },
   "source": [
    "\n",
    "# Was sind Code Smells?\n",
    "\n",
    "Code Smells sind Hinweise darauf, dass wir schlechten Code haben und refactoren\n",
    "sollten."
   ]
  },
  {
   "cell_type": "markdown",
   "id": "ebf5552bddabfc22",
   "metadata": {
    "lang": "de",
    "slideshow": {
     "slide_type": "subslide"
    },
    "tags": [
     "subslide"
    ]
   },
   "source": [
    "\n",
    "## Code Smells\n",
    "\n",
    "- Mysteriöser Name\n",
    "  - Namen verschleiern statt zu klären\n",
    "- Duplizierter Code\n",
    "  - Mehrfache Vorkommen von identischem oder ähnlichem Code\n",
    "- Lange Funktion\n",
    "- Lange Parameterliste\n",
    "- Globale Daten\n",
    "- Veränderliche Daten (Mutable Data)\n",
    "  - Kapselung von Zugriff auf veränderliche Daten\n",
    "  - Command Query Separation"
   ]
  },
  {
   "cell_type": "markdown",
   "id": "baf45b9264b67140",
   "metadata": {
    "lang": "de",
    "lines_to_next_cell": 2,
    "slideshow": {
     "slide_type": "subslide"
    },
    "tags": [
     "subslide"
    ]
   },
   "source": [
    "\n",
    "- Divergente Änderung\n",
    "  - Ein Modul ändert sich bei vielen verschiedenen Änderungen\n",
    "- Schrotflinten-Operation\n",
    "  - Selbst einfache Änderungen betreffen viele Module\n",
    "- Feature-Neid\n",
    "  - Eine Funktion kommuniziert mit vielen Funktionen aus einem anderen Modul\n",
    "- Datenklumpen\n",
    "  - Die gleichen Daten erscheinen an vielen Stellen zusammen ohne in eine\n",
    "    Klasse zusammengefasst zu werden"
   ]
  },
  {
   "cell_type": "markdown",
   "id": "b1527f8d9fbcaecb",
   "metadata": {
    "lang": "de",
    "slideshow": {
     "slide_type": "subslide"
    },
    "tags": [
     "subslide"
    ]
   },
   "source": [
    "\n",
    "- Obsession mit primitiven Datentypen (Primitive Obsession)\n",
    "  - Ausgiebiger Gebrauch von eingebauten Typen anstelle von sinnvollen Klassen\n",
    "- Wiederholte Switches\n",
    "  - Switches über die gleichen Daten an vielen Stellen\n",
    "- Schleifen\n",
    "  - Können oft durch Pipelines ersetzt werden\n",
    "- Faules Element (Lazy Element)\n",
    "  - Programmelemente, die keinen Mehrwert haben"
   ]
  },
  {
   "cell_type": "markdown",
   "id": "769f7ca9cc01c099",
   "metadata": {
    "lang": "de",
    "slideshow": {
     "slide_type": "subslide"
    },
    "tags": [
     "subslide"
    ]
   },
   "source": [
    "\n",
    "- Spekulative Allgemeinheit\n",
    "  - Flexibilität, die momentan nicht benötigt wird\n",
    "- Temporäres Feld (Temporary Field)\n",
    "  - Attribute, die nur zeitweise verwendet werden/gültig sind\n",
    "- Ketten von Nachrichten\n",
    "  - Lange Ketten von Getter-Aufrufen oder Hilfsvariablen\n",
    "- Mittelsmann\n",
    "  - Die meisten Methoden einer Klasse delegieren nur an eine andere Klasse"
   ]
  },
  {
   "cell_type": "markdown",
   "id": "bb97677be8108c6b",
   "metadata": {
    "lang": "de",
    "slideshow": {
     "slide_type": "subslide"
    },
    "tags": [
     "subslide"
    ]
   },
   "source": [
    "\n",
    "- Insider Trading\n",
    "  - Klassen haben zu viel Wissen über die Interna von anderen Klassen\n",
    "- Große Klasse\n",
    "  - Zu viele Verantwortlichkeiten\n",
    "- Alternative Klassen mit unterschiedlichen Interfaces\n",
    "  - Klassen, die austauschbar sein sollten, aber nicht sind\n",
    "- Datenklassen\n",
    "  - Klassen, die nur Getter und Setter haben\n",
    "- Verweigerte Erbschaft\n",
    "  - Unterklassen erben Funktionalität, die sie nicht brauchen\n",
    "- Kommentare\n",
    "  - Falls sie als benötigt werden, weil der Code schlecht ist"
   ]
  }
 ],
 "metadata": {
  "jupytext": {
   "cell_metadata_filter": "tags,lang,-all",
   "encoding": "// -*- coding: utf-8 -*-",
   "main_language": "java",
   "notebook_metadata_filter": "-all"
  },
  "kernelspec": {
   "display_name": "Java",
   "language": "java",
   "name": "java"
  },
  "language_info": {
   "codemirror_mode": "java",
   "file_extension": ".java",
   "mimetype": "text/java",
   "name": "Java",
   "pygments_lexer": "java",
   "version": ""
  }
 },
 "nbformat": 4,
 "nbformat_minor": 5
}
