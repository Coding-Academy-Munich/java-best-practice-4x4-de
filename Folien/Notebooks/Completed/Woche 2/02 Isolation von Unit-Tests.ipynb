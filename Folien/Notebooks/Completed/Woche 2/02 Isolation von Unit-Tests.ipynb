{
 "cells": [
  {
   "cell_type": "markdown",
   "id": "5021e1137d5c6e5c",
   "metadata": {
    "lang": "de",
    "slideshow": {
     "slide_type": "slide"
    },
    "tags": [
     "slide"
    ]
   },
   "source": [
    "\n",
    "<img src=\"data:image/svg+xml;base64,PHN2ZyB4bWxucz0iaHR0cDovL3d3dy53My5vcmcvMjAwMC9zdmciIHdpZHRoPSI2NCIgaGVpZ2h0\n",
    "PSI2NCIgdmlld0JveD0iMCAwIDMyIDMyIj48cGF0aCBkPSJNMTEuNjIyIDI0Ljc0cy0xLjIzLjc0\n",
    "OC44NTUuOTYyYzIuNTEuMzIgMy44NDcuMjY3IDYuNjI1LS4yNjdhMTAuMDIgMTAuMDIgMCAwIDAg\n",
    "MS43NjMuODU1Yy02LjI1IDIuNjcyLTE0LjE2LS4xNi05LjI0NC0xLjU1em0tLjgtMy40NzNzLTEu\n",
    "MzM2IDEuMDE1Ljc0OCAxLjIzYzIuNzI1LjI2NyA0Ljg2Mi4zMiA4LjU1LS40MjdhMy4yNiAzLjI2\n",
    "IDAgMCAwIDEuMjgyLjgwMWMtNy41MzQgMi4yNDQtMTUuOTc2LjIxNC0xMC41OC0xLjYwM3ptMTQu\n",
    "NzQ3IDYuMDlzLjkwOC43NDgtMS4wMTUgMS4zMzZjLTMuNTggMS4wNy0xNS4wMTQgMS4zOS0xOC4y\n",
    "MiAwLTEuMTIyLS40OCAxLjAxNS0xLjE3NSAxLjctMS4yODIuNjk1LS4xNiAxLjA3LS4xNiAxLjA3\n",
    "LS4xNi0xLjIzLS44NTUtOC4xNzUgMS43NjMtMy41MjYgMi41MSAxMi43NyAyLjA4NCAyMy4yOTYt\n",
    "LjkwOCAxOS45ODMtMi40MDR6TTEyLjIgMTcuNjMzcy01LjgyNCAxLjM5LTIuMDg0IDEuODdjMS42\n",
    "MDMuMjE0IDQuNzU1LjE2IDcuNjk0LS4wNTMgMi40MDQtLjIxNCA0LjgxLS42NCA0LjgxLS42NHMt\n",
    "Ljg1NS4zNzQtMS40NDMuNzQ4Yy01LjkzIDEuNTUtMTcuMzEyLjg1NS0xNC4wNTItLjc0OCAyLjc3\n",
    "OC0xLjMzNiA1LjA3Ni0xLjE3NSA1LjA3Ni0xLjE3NXptMTAuNDIgNS44MjRjNS45ODQtMy4xIDMu\n",
    "MjA2LTYuMDkgMS4yODItNS43MTctLjQ4LjEwNy0uNjk1LjIxNC0uNjk1LjIxNHMuMTYtLjMyLjUz\n",
    "NC0uNDI3YzMuNzk0LTEuMzM2IDYuNzg2IDQuMDA3LTEuMjMgNi4wOSAwIDAgLjA1My0uMDUzLjEw\n",
    "Ny0uMTZ6bS05LjgzIDguNDQyYzUuNzcuMzc0IDE0LjU4Ny0uMjE0IDE0LjgtMi45NCAwIDAtLjQy\n",
    "NyAxLjA3LTQuNzU1IDEuODctNC45MTYuOTA4LTExLjAwNy44LTE0LjU4Ny4yMTQgMCAwIC43NDgu\n",
    "NjQgNC41NDIuODU1eiIgZmlsbD0iIzRlNzg5NiIvPjxwYXRoIGQ9Ik0xOC45OTYuMDAxczMuMzEz\n",
    "IDMuMzY2LTMuMTUyIDguNDQyYy01LjE4MyA0LjExNC0xLjE3NSA2LjQ2NSAwIDkuMTM3LTMuMDQ2\n",
    "LTIuNzI1LTUuMjM2LTUuMTMtMy43NC03LjM3M0MxNC4yOTQgNi44OTMgMjAuMzMyIDUuMyAxOC45\n",
    "OTYuMDAxem0tMS43IDE1LjMzNWMxLjU1IDEuNzYzLS40MjcgMy4zNjYtLjQyNyAzLjM2NnMzLjk1\n",
    "NC0yLjAzIDIuMTM3LTQuNTQyYy0xLjY1Ni0yLjQwNC0yLjk0LTMuNTggNC4wMDctNy41ODcgMCAw\n",
    "LTEwLjk1MyAyLjcyNS01LjcxNyA4Ljc2M3oiIGZpbGw9IiNmNTgyMTkiLz48L3N2Zz4=\n",
    "\"\n",
    "     alt=\"Java Logo\" style=\"display:block;margin:auto;width:5%\"/>\n",
    "<br>\n",
    "\n",
    "<div style=\"text-align:center; font-size:200%;\">\n",
    " <b>Isolation von Unit-Tests</b>\n",
    "</div>\n",
    "<br/>\n",
    "<div style=\"text-align:center; font-size:120%;\">Dr. Matthias Hölzl</div>\n",
    "<br/>\n",
    "<div style=\"text-align:center;\">Coding-Akademie München</div>\n",
    "<br/>"
   ]
  },
  {
   "cell_type": "markdown",
   "id": "7743b396c6bd290f",
   "metadata": {
    "lang": "de",
    "slideshow": {
     "slide_type": "subslide"
    },
    "tags": [
     "subslide"
    ]
   },
   "source": [
    "\n",
    "## Unit-Test\n",
    "\n",
    "- Testet einen kleinen Teil des Codes (eine **\"Unit\"**)\n",
    "- Hat kurze Laufzeit\n",
    "- *Ist isoliert*"
   ]
  },
  {
   "cell_type": "markdown",
   "id": "98560c91ea75a1b3",
   "metadata": {
    "lang": "de",
    "slideshow": {
     "slide_type": "subslide"
    },
    "tags": [
     "subslide"
    ]
   },
   "source": [
    "\n",
    "## Was ist eine \"Unit\"?\n",
    "\n",
    "- Ein Verhalten?\n",
    "  - *Unit of behavior*\n",
    "  - Teil eines Szenarios/Use-Cases/...\n",
    "  - Ursprüngliche Intention von Kent Beck\n",
    "- Ein Code-Bestandteil?\n",
    "  - *Unit of code*\n",
    "  - Oft Unit = Klasse\n",
    "  - In der Literatur weit verbreitete Ansicht"
   ]
  },
  {
   "cell_type": "markdown",
   "id": "38256732e438746f",
   "metadata": {
    "lang": "de",
    "slideshow": {
     "slide_type": "subslide"
    },
    "tags": [
     "subslide"
    ]
   },
   "source": [
    "\n",
    "## Was bedeutet \"isolierter\" Test?\n",
    "\n",
    "- Keine Interaktion zwischen Tests?\n",
    "  - Isolierte Testfälle\n",
    "  - Klassische Unit-Tests (Detroit School, Kent Beck)\n",
    "- Keine Interaktion zwischen getesteter Einheit und dem Rest des Systems?\n",
    "  - Abhängigkeiten werden durch einfache Simulationen ersetzt (Test-Doubles)\n",
    "  - London School"
   ]
  },
  {
   "cell_type": "markdown",
   "id": "c4178f62a9d69b32",
   "metadata": {
    "lang": "de",
    "slideshow": {
     "slide_type": "slide"
    },
    "tags": [
     "slide"
    ]
   },
   "source": [
    "\n",
    "## Isolierte Testfälle (Detroit School)\n",
    "\n",
    "- Jeder Testfall ist unabhängig von den anderen\n",
    "- Tests können in beliebiger Reihenfolge ausgeführt werden\n",
    "- Tests können parallel ausgeführt werden"
   ]
  },
  {
   "cell_type": "markdown",
   "id": "1dd2dc9037d0d118",
   "metadata": {
    "lang": "de",
    "slideshow": {
     "slide_type": "subslide"
    },
    "tags": [
     "subslide"
    ]
   },
   "source": [
    "\n",
    "### Gegenbeispiel: Nicht isolierte Testfälle"
   ]
  },
  {
   "cell_type": "code",
   "execution_count": null,
   "id": "aa68c55da30c2cd8",
   "metadata": {
    "tags": [
     "keep"
    ]
   },
   "outputs": [],
   "source": [
    "import java.time.LocalDateTime;\n",
    "import java.time.format.DateTimeFormatter;"
   ]
  },
  {
   "cell_type": "code",
   "execution_count": null,
   "id": "282b87099a11f3fe",
   "metadata": {
    "tags": [
     "keep"
    ]
   },
   "outputs": [],
   "source": [
    "public static void check(boolean condition) {\n",
    "    if (!condition) {\n",
    "        System.out.println(\"Test failed!\");\n",
    "    } else {\n",
    "        System.out.println(\"Success!\");\n",
    "    }\n",
    "}"
   ]
  },
  {
   "cell_type": "code",
   "execution_count": null,
   "id": "3b4aadbd4903801e",
   "metadata": {
    "slideshow": {
     "slide_type": "subslide"
    },
    "tags": [
     "subslide",
     "keep"
    ]
   },
   "outputs": [],
   "source": [
    "public class TimeUtils {\n",
    "    public static LocalDateTime globalTime = LocalDateTime.now();\n",
    "\n",
    "    public static void printTime(String prefix, LocalDateTime time) {\n",
    "        System.out.println(prefix + \": \" + time.format(DateTimeFormatter.ofPattern(\"yyyy-MM-dd HH:mm:ss\")));\n",
    "    }\n",
    "}"
   ]
  },
  {
   "cell_type": "code",
   "execution_count": null,
   "id": "7875ca67dfff584b",
   "metadata": {
    "tags": [
     "keep"
    ]
   },
   "outputs": [],
   "source": [
    "TimeUtils.printTime(\"The time is\", LocalDateTime.now());"
   ]
  },
  {
   "cell_type": "code",
   "execution_count": null,
   "id": "6d65713f34de970f",
   "metadata": {
    "slideshow": {
     "slide_type": "subslide"
    },
    "tags": [
     "keep",
     "subslide"
    ]
   },
   "outputs": [],
   "source": [
    "class Test1 {\n",
    "    public static void run() {\n",
    "        LocalDateTime now = LocalDateTime.now();\n",
    "        TimeUtils.printTime(\"Test 1 global_time: \", TimeUtils.globalTime);\n",
    "        TimeUtils.printTime(\"Test 1 now:         \", now);\n",
    "        check(now.isAfter(TimeUtils.globalTime));\n",
    "    }\n",
    "}"
   ]
  },
  {
   "cell_type": "code",
   "execution_count": null,
   "id": "33c0a418756893ac",
   "metadata": {
    "slideshow": {
     "slide_type": "subslide"
    },
    "tags": [
     "keep",
     "subslide"
    ]
   },
   "outputs": [],
   "source": [
    "class Test2 {\n",
    "    public static void run() {\n",
    "        LocalDateTime now = LocalDateTime.now();\n",
    "        TimeUtils.globalTime = now.plusSeconds(1);\n",
    "        TimeUtils.printTime(\"Test 2 global_time: \", TimeUtils.globalTime);\n",
    "        TimeUtils.printTime(\"Test 2 now:         \", now);\n",
    "        check(now.isBefore(TimeUtils.globalTime));\n",
    "    }\n",
    "}"
   ]
  },
  {
   "cell_type": "code",
   "execution_count": null,
   "id": "5099f463bfbcdafb",
   "metadata": {
    "slideshow": {
     "slide_type": "subslide"
    },
    "tags": [
     "keep",
     "subslide"
    ]
   },
   "outputs": [],
   "source": [
    "Test1.run();\n",
    "Test2.run();"
   ]
  },
  {
   "cell_type": "code",
   "execution_count": null,
   "id": "46143c0acc308f51",
   "metadata": {
    "tags": [
     "keep"
    ]
   },
   "outputs": [],
   "source": [
    "Test2.run();\n",
    "Test1.run();"
   ]
  },
  {
   "cell_type": "markdown",
   "id": "8b2ea64714863c31",
   "metadata": {
    "lang": "de",
    "slideshow": {
     "slide_type": "subslide"
    },
    "tags": [
     "subslide"
    ]
   },
   "source": [
    "\n",
    "## Gründe für nicht isolierte Testfälle\n",
    "\n",
    "- Veränderlicher globaler/statischer Zustand\n",
    "- Veränderliche externe Ressourcen (Dateien, Datenbanken, Netzwerk, ...)"
   ]
  },
  {
   "cell_type": "markdown",
   "id": "943ed9e6708002d7",
   "metadata": {
    "lang": "de",
    "slideshow": {
     "slide_type": "slide"
    },
    "tags": [
     "slide"
    ]
   },
   "source": [
    "\n",
    "## Isolation der getesteten Unit\n",
    "\n",
    "- Die getestete Unit wird von allen anderen Units isoliert\n",
    "- Test-Doubles für alle Abhängigkeiten"
   ]
  },
  {
   "cell_type": "markdown",
   "id": "f65f2eb2d7d04af0",
   "metadata": {
    "lang": "de",
    "slideshow": {
     "slide_type": "subslide"
    },
    "tags": [
     "subslide"
    ]
   },
   "source": [
    "\n",
    "### Gegenbeispiel: Nicht isolierte Unit\n",
    "\n",
    "- Verkäufer von Veranstaltungs-Tickets\n",
    "- Konkrete Klasse `Event` repräsentiert eine Veranstaltung"
   ]
  },
  {
   "cell_type": "code",
   "execution_count": null,
   "id": "2b71206ddeb47040",
   "metadata": {
    "slideshow": {
     "slide_type": "subslide"
    },
    "tags": [
     "keep",
     "subslide"
    ]
   },
   "outputs": [],
   "source": [
    "import java.util.HashMap;\n",
    "import java.util.Map;"
   ]
  },
  {
   "cell_type": "code",
   "execution_count": null,
   "id": "df57510566d455fa",
   "metadata": {
    "slideshow": {
     "slide_type": "subslide"
    },
    "tags": [
     "keep",
     "subslide"
    ]
   },
   "outputs": [],
   "source": [
    "class Event {\n",
    "    public Event(String name, int capacity) {\n",
    "        this.name = name;\n",
    "        this.capacity = capacity;\n",
    "    }\n",
    "\n",
    "    public String getName() { return name; }\n",
    "\n",
    "    public int getCapacity() { return capacity; }\n",
    "\n",
    "    public void purchase(int numTickets) {\n",
    "        if (numTickets > capacity) {\n",
    "            throw new IllegalStateException(\"Not enough capacity\");\n",
    "        }\n",
    "        capacity -= numTickets;\n",
    "    }\n",
    "\n",
    "    private String name;\n",
    "    private int capacity;\n",
    "}"
   ]
  },
  {
   "cell_type": "code",
   "execution_count": null,
   "id": "278b303829d46418",
   "metadata": {
    "slideshow": {
     "slide_type": "subslide"
    },
    "tags": [
     "keep",
     "subslide"
    ]
   },
   "outputs": [],
   "source": [
    "class TicketOffice {\n",
    "    public void addEvent(Event event) {\n",
    "        events.put(event.getName(), event);\n",
    "    }\n",
    "\n",
    "    public Event getEvent(String eventName) {\n",
    "        return events.get(eventName);\n",
    "    }\n",
    "\n",
    "    public boolean purchaseTickets(String eventName, int numTickets) {\n",
    "        if (events.containsKey(eventName)) {\n",
    "            try {\n",
    "                events.get(eventName).purchase(numTickets);\n",
    "                return true;\n",
    "            } catch (IllegalStateException e) {\n",
    "                System.err.println(\"Cannot purchase \" + numTickets + \" tickets for \" + eventName);\n",
    "                System.err.println(e.getMessage());\n",
    "                return false;\n",
    "            }\n",
    "        }\n",
    "        return false;\n",
    "    }\n",
    "\n",
    "    private Map<String, Event> events = new HashMap<>();\n",
    "}"
   ]
  },
  {
   "cell_type": "code",
   "execution_count": null,
   "id": "dc4bee8732c5b5ef",
   "metadata": {
    "slideshow": {
     "slide_type": "subslide"
    },
    "tags": [
     "keep",
     "subslide"
    ]
   },
   "outputs": [],
   "source": [
    "class TestPurchaseTickets {\n",
    "    public static void run() {\n",
    "        TicketOffice ticketOffice = new TicketOffice();\n",
    "        Event event = new Event(\"Java Conference\", 100);\n",
    "        ticketOffice.addEvent(event);\n",
    "\n",
    "        boolean result = ticketOffice.purchaseTickets(\"Java Conference\", 10);\n",
    "\n",
    "        check(result == true);\n",
    "        check(ticketOffice.getEvent(\"Java Conference\").getCapacity() == 90);\n",
    "    }\n",
    "}"
   ]
  },
  {
   "cell_type": "code",
   "execution_count": null,
   "id": "81ff55ebad2ac586",
   "metadata": {
    "tags": [
     "keep"
    ]
   },
   "outputs": [],
   "source": [
    "TestPurchaseTickets.run();"
   ]
  },
  {
   "cell_type": "code",
   "execution_count": null,
   "id": "f9015a844cc36857",
   "metadata": {
    "slideshow": {
     "slide_type": "subslide"
    },
    "tags": [
     "keep",
     "subslide"
    ]
   },
   "outputs": [],
   "source": [
    "interface Event {\n",
    "    String getName();\n",
    "    int getCapacity();\n",
    "    void purchase(int numTickets);\n",
    "}"
   ]
  },
  {
   "cell_type": "code",
   "execution_count": null,
   "id": "daa4a5cee07d6533",
   "metadata": {
    "slideshow": {
     "slide_type": "subslide"
    },
    "tags": [
     "keep",
     "subslide"
    ]
   },
   "outputs": [],
   "source": [
    "class ConcreteEvent implements Event {\n",
    "    public ConcreteEvent(String name, int capacity) {\n",
    "        this.name = name;\n",
    "        this.capacity = capacity;\n",
    "    }\n",
    "\n",
    "    @Override\n",
    "    public String getName() { return name; }\n",
    "\n",
    "    @Override\n",
    "    public int getCapacity() { return capacity; }\n",
    "\n",
    "    @Override\n",
    "    public void purchase(int numTickets) {\n",
    "        if (numTickets > capacity) {\n",
    "            throw new IllegalStateException(\"Not enough capacity\");\n",
    "        }\n",
    "        capacity -= numTickets;\n",
    "    }\n",
    "\n",
    "    private String name;\n",
    "    private int capacity;\n",
    "}"
   ]
  },
  {
   "cell_type": "code",
   "execution_count": null,
   "id": "c24510d31382616c",
   "metadata": {
    "slideshow": {
     "slide_type": "subslide"
    },
    "tags": [
     "keep",
     "subslide"
    ]
   },
   "outputs": [],
   "source": [
    "class TicketOffice {\n",
    "    public void addEvent(Event event) {\n",
    "        events.put(event.getName(), event);\n",
    "    }\n",
    "\n",
    "    public Event getEvent(String eventName) {\n",
    "        return events.get(eventName);\n",
    "    }\n",
    "\n",
    "    public boolean purchaseTickets(String eventName, int numTickets) {\n",
    "        if (events.containsKey(eventName)) {\n",
    "            try {\n",
    "                events.get(eventName).purchase(numTickets);\n",
    "                return true;\n",
    "            } catch (IllegalStateException e) {\n",
    "                System.err.println(\"Cannot purchase \" + numTickets + \" tickets for \" + eventName);\n",
    "                System.err.println(e.getMessage());\n",
    "                return false;\n",
    "            }\n",
    "        }\n",
    "        return false;\n",
    "    }\n",
    "\n",
    "    private Map<String, Event> events = new HashMap<>();\n",
    "}"
   ]
  },
  {
   "cell_type": "markdown",
   "id": "b947459dd6edf127",
   "metadata": {
    "lang": "de",
    "slideshow": {
     "slide_type": "subslide"
    },
    "tags": [
     "subslide"
    ]
   },
   "source": [
    "\n",
    "### Isolation von `TicketOffice` für Tests\n",
    "\n",
    "- Entkopplung von allen Abhängigkeiten\n",
    "- `EventMock`-Implementierung für Events"
   ]
  },
  {
   "cell_type": "code",
   "execution_count": null,
   "id": "5639da13d72950f2",
   "metadata": {
    "slideshow": {
     "slide_type": "subslide"
    },
    "tags": [
     "keep",
     "subslide"
    ]
   },
   "outputs": [],
   "source": [
    "import java.util.ArrayList;\n",
    "import java.util.List;"
   ]
  },
  {
   "cell_type": "code",
   "execution_count": null,
   "id": "5fac46b1f20b7a3c",
   "metadata": {
    "tags": [
     "keep"
    ]
   },
   "outputs": [],
   "source": [
    "class EventMock implements Event {\n",
    "    public List<Integer> purchaseArgs = new ArrayList<>();\n",
    "\n",
    "    @Override\n",
    "    public String getName() { return \"Java Conference\"; }\n",
    "    @Override\n",
    "    public int getCapacity() { return 90; }\n",
    "    @Override\n",
    "    public void purchase(int numTickets) { purchaseArgs.add(numTickets); }\n",
    "}"
   ]
  },
  {
   "cell_type": "code",
   "execution_count": null,
   "id": "b3c70df19b8a4916",
   "metadata": {
    "slideshow": {
     "slide_type": "subslide"
    },
    "tags": [
     "keep",
     "subslide"
    ]
   },
   "outputs": [],
   "source": [
    "class TestPurchaseTickets {\n",
    "    public static void run() {\n",
    "        TicketOffice ticketOffice = new TicketOffice();\n",
    "        EventMock eventMock = new EventMock();\n",
    "        ticketOffice.addEvent(eventMock);\n",
    "\n",
    "        boolean result = ticketOffice.purchaseTickets(\"Java Conference\", 10);\n",
    "\n",
    "        check(result == true);\n",
    "        check(ticketOffice.getEvent(\"Java Conference\").getCapacity() == 90);\n",
    "        check(eventMock.purchaseArgs.equals(List.of(10)));\n",
    "    }\n",
    "}"
   ]
  },
  {
   "cell_type": "code",
   "execution_count": null,
   "id": "80979781cc90cf6f",
   "metadata": {
    "tags": [
     "keep"
    ]
   },
   "outputs": [],
   "source": [
    "TestPurchaseTickets.run();"
   ]
  },
  {
   "cell_type": "markdown",
   "id": "7c17606ade0c2194",
   "metadata": {
    "lang": "de",
    "slideshow": {
     "slide_type": "subslide"
    },
    "tags": [
     "subslide"
    ]
   },
   "source": [
    "\n",
    "## Vorteile der Isolation der getesteten Unit\n",
    "\n",
    "- Einfache Struktur der Tests\n",
    "  - Jeder Test gehört zu genau einer Unit\n",
    "- Genaue Identifikation von Fehlern\n",
    "- Aufbrechen von Abhängigkeiten/des Objektgraphen"
   ]
  },
  {
   "cell_type": "markdown",
   "id": "dadea4515de652e5",
   "metadata": {
    "lang": "de",
    "slideshow": {
     "slide_type": "subslide"
    },
    "tags": [
     "subslide"
    ]
   },
   "source": [
    "\n",
    "## Nachteile der Isolation der getesteten Unit\n",
    "\n",
    "- Potenziell höherer Aufwand (z.B. Mocks)\n",
    "- Fehler in der Interaktion zwischen Units werden nicht gefunden\n",
    "- Verleiten zum Schreiben von \"Interaktionstests\"\n",
    "- **Risiko von Kopplung an Implementierungsdetails**"
   ]
  },
  {
   "cell_type": "markdown",
   "id": "58476d93abb01a77",
   "metadata": {
    "lang": "de",
    "slideshow": {
     "slide_type": "subslide"
    },
    "tags": [
     "subslide"
    ]
   },
   "source": [
    "\n",
    "## Empfehlung\n",
    "\n",
    "- Verwenden Sie isolierte Unit-Tests (Detroit School)\n",
    "- Isolieren Sie Abhängigkeiten, die \"eine Rakete starten\"\n",
    "  - nicht-deterministisch (z.B. Zufallszahlen, aktuelle Zeit, aktuelles Datum)\n",
    "  - langsam\n",
    "  - externe Systeme (z.B. Datenbank)\n",
    "- Isolieren Sie Abhängigkeiten, die ein komplexes Setup benötigen"
   ]
  },
  {
   "cell_type": "markdown",
   "id": "4839939df22620b2",
   "metadata": {
    "lang": "de",
    "slideshow": {
     "slide_type": "subslide"
    },
    "tags": [
     "subslide"
    ]
   },
   "source": [
    "\n",
    "## Workshop: Virtuelle Universität\n",
    "\n",
    "- Im `code`-Ordner finden Sie eine Implementierung eins sehr einfachen\n",
    "  Verwaltungssystems für eine Universität:\n",
    "- Es gibt Kurse, Professoren, die die Kurse halten, Studenten, die Aufgaben\n",
    "  bearbeiten und abgeben müssen.\n",
    "- Der Code ist in `code/starter-kits/virtual-university-sk` zu finden.\n",
    "- Die `Main.java`-Datei illustriert, wie die Klassen zusammenarbeiten und\n",
    "  verwendet werden können."
   ]
  },
  {
   "cell_type": "markdown",
   "id": "e8cc48b0c3bb3c2c",
   "metadata": {
    "lang": "de",
    "slideshow": {
     "slide_type": "subslide"
    },
    "tags": [
     "subslide"
    ]
   },
   "source": [
    "\n",
    "- Identifizieren Sie, welche Klassen und Methoden zu den \"wertvollsten\"\n",
    "  Unit-Tests führen.\n",
    "- Implementieren Sie diese Unit-Tests mit JUnit.\n",
    "  - Idealerweise implementieren sie Tests für alle Klassen, die sinnvolle\n",
    "    Tests haben.\n",
    "  - Falls Sie dafür nicht genug Zeit haben, können Sie auch nur Tests für\n",
    "    einen Teil des Codes schreiben.\n",
    "  - Die Klasse `Student` ist ein ganz guter Startpunkt, weil sie eine sehr\n",
    "    begrenzte Funktionalität hat, die Sie mit relativ wenigen Tests abdecken\n",
    "    können.\n",
    "- Sind Ihre Tests isoliert?\n",
    "  - Nach der Detroit- oder London-School?"
   ]
  },
  {
   "cell_type": "markdown",
   "id": "fed14049b8872c05",
   "metadata": {
    "lang": "de",
    "slideshow": {
     "slide_type": "subslide"
    },
    "tags": [
     "subslide"
    ]
   },
   "source": [
    "\n",
    "- Falls Sie Ihre Tests nach der Detroit-School isoliert haben:\n",
    "  - Überlegen Sie, wie Sie das System überarbeiten müssten, um die Klassen in\n",
    "    Tests vollständig zu isolieren, also im London School Stil zu testen."
   ]
  }
 ],
 "metadata": {
  "jupytext": {
   "cell_metadata_filter": "tags,lang,-all",
   "encoding": "// -*- coding: utf-8 -*-",
   "main_language": "java",
   "notebook_metadata_filter": "-all"
  },
  "kernelspec": {
   "display_name": "Java",
   "language": "java",
   "name": "java"
  },
  "language_info": {
   "codemirror_mode": "java",
   "file_extension": ".java",
   "mimetype": "text/java",
   "name": "Java",
   "pygments_lexer": "java",
   "version": ""
  }
 },
 "nbformat": 4,
 "nbformat_minor": 5
}
