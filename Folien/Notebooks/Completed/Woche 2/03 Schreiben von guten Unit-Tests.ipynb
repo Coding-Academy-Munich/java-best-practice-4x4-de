{
 "cells": [
  {
   "cell_type": "markdown",
   "id": "cf5912e9f8f288ba",
   "metadata": {
    "lang": "de",
    "slideshow": {
     "slide_type": "slide"
    },
    "tags": [
     "slide"
    ]
   },
   "source": [
    "\n",
    "<img src=\"data:image/svg+xml;base64,PHN2ZyB4bWxucz0iaHR0cDovL3d3dy53My5vcmcvMjAwMC9zdmciIHdpZHRoPSI2NCIgaGVpZ2h0\n",
    "PSI2NCIgdmlld0JveD0iMCAwIDMyIDMyIj48cGF0aCBkPSJNMTEuNjIyIDI0Ljc0cy0xLjIzLjc0\n",
    "OC44NTUuOTYyYzIuNTEuMzIgMy44NDcuMjY3IDYuNjI1LS4yNjdhMTAuMDIgMTAuMDIgMCAwIDAg\n",
    "MS43NjMuODU1Yy02LjI1IDIuNjcyLTE0LjE2LS4xNi05LjI0NC0xLjU1em0tLjgtMy40NzNzLTEu\n",
    "MzM2IDEuMDE1Ljc0OCAxLjIzYzIuNzI1LjI2NyA0Ljg2Mi4zMiA4LjU1LS40MjdhMy4yNiAzLjI2\n",
    "IDAgMCAwIDEuMjgyLjgwMWMtNy41MzQgMi4yNDQtMTUuOTc2LjIxNC0xMC41OC0xLjYwM3ptMTQu\n",
    "NzQ3IDYuMDlzLjkwOC43NDgtMS4wMTUgMS4zMzZjLTMuNTggMS4wNy0xNS4wMTQgMS4zOS0xOC4y\n",
    "MiAwLTEuMTIyLS40OCAxLjAxNS0xLjE3NSAxLjctMS4yODIuNjk1LS4xNiAxLjA3LS4xNiAxLjA3\n",
    "LS4xNi0xLjIzLS44NTUtOC4xNzUgMS43NjMtMy41MjYgMi41MSAxMi43NyAyLjA4NCAyMy4yOTYt\n",
    "LjkwOCAxOS45ODMtMi40MDR6TTEyLjIgMTcuNjMzcy01LjgyNCAxLjM5LTIuMDg0IDEuODdjMS42\n",
    "MDMuMjE0IDQuNzU1LjE2IDcuNjk0LS4wNTMgMi40MDQtLjIxNCA0LjgxLS42NCA0LjgxLS42NHMt\n",
    "Ljg1NS4zNzQtMS40NDMuNzQ4Yy01LjkzIDEuNTUtMTcuMzEyLjg1NS0xNC4wNTItLjc0OCAyLjc3\n",
    "OC0xLjMzNiA1LjA3Ni0xLjE3NSA1LjA3Ni0xLjE3NXptMTAuNDIgNS44MjRjNS45ODQtMy4xIDMu\n",
    "MjA2LTYuMDkgMS4yODItNS43MTctLjQ4LjEwNy0uNjk1LjIxNC0uNjk1LjIxNHMuMTYtLjMyLjUz\n",
    "NC0uNDI3YzMuNzk0LTEuMzM2IDYuNzg2IDQuMDA3LTEuMjMgNi4wOSAwIDAgLjA1My0uMDUzLjEw\n",
    "Ny0uMTZ6bS05LjgzIDguNDQyYzUuNzcuMzc0IDE0LjU4Ny0uMjE0IDE0LjgtMi45NCAwIDAtLjQy\n",
    "NyAxLjA3LTQuNzU1IDEuODctNC45MTYuOTA4LTExLjAwNy44LTE0LjU4Ny4yMTQgMCAwIC43NDgu\n",
    "NjQgNC41NDIuODU1eiIgZmlsbD0iIzRlNzg5NiIvPjxwYXRoIGQ9Ik0xOC45OTYuMDAxczMuMzEz\n",
    "IDMuMzY2LTMuMTUyIDguNDQyYy01LjE4MyA0LjExNC0xLjE3NSA2LjQ2NSAwIDkuMTM3LTMuMDQ2\n",
    "LTIuNzI1LTUuMjM2LTUuMTMtMy43NC03LjM3M0MxNC4yOTQgNi44OTMgMjAuMzMyIDUuMyAxOC45\n",
    "OTYuMDAxem0tMS43IDE1LjMzNWMxLjU1IDEuNzYzLS40MjcgMy4zNjYtLjQyNyAzLjM2NnMzLjk1\n",
    "NC0yLjAzIDIuMTM3LTQuNTQyYy0xLjY1Ni0yLjQwNC0yLjk0LTMuNTggNC4wMDctNy41ODcgMCAw\n",
    "LTEwLjk1MyAyLjcyNS01LjcxNyA4Ljc2M3oiIGZpbGw9IiNmNTgyMTkiLz48L3N2Zz4=\n",
    "\"\n",
    "     alt=\"Java Logo\" style=\"display:block;margin:auto;width:5%\"/>\n",
    "<br>\n",
    "\n",
    "<div style=\"text-align:center; font-size:200%;\">\n",
    " <b>Schreiben von guten Unit-Tests</b>\n",
    "</div>\n",
    "<br/>\n",
    "<div style=\"text-align:center; font-size:120%;\">Dr. Matthias Hölzl</div>\n",
    "<br/>\n",
    "<div style=\"text-align:center;\">Coding-Akademie München</div>\n",
    "<br/>"
   ]
  },
  {
   "cell_type": "markdown",
   "id": "bb43569e638566b4",
   "metadata": {
    "lang": "de",
    "slideshow": {
     "slide_type": "subslide"
    },
    "tags": [
     "subslide"
    ]
   },
   "source": [
    "\n",
    "## Mechanik von Unit-Tests\n",
    "\n",
    "Unit-Tests sollen\n",
    "- automatisiert sein: keine manuelle Interaktion\n",
    "- selbsttestend sein: Pass/Fail\n",
    "- feingranular sein\n",
    "- schnell sein\n",
    "- isoliert sein\n",
    "- zu jedem Zeitpunkt erfolgreich ausführbar sein"
   ]
  },
  {
   "cell_type": "markdown",
   "id": "03d7fe83286460bc",
   "metadata": {
    "lang": "de",
    "slideshow": {
     "slide_type": "subslide"
    },
    "tags": [
     "subslide"
    ]
   },
   "source": [
    "\n",
    "## Einfache Struktur!\n",
    "\n",
    "<ul>\n",
    "  <li>Einfache, standardisierte Struktur<br>&nbsp;<br>\n",
    "    <table style=\"display:inline;margin:20px 20px;\">\n",
    "    <tr><td style=\"text-align:left;width:60px;padding-left:15px;\">Arrange</td>\n",
    "        <td style=\"text-align:left;width:60px;padding-left:15px;border-left:1px solid\n",
    "        black;\">Given</td> <td\n",
    "        style=\"text-align:left;width:800px;padding-left:15px;border-left:1px solid\n",
    "        black;\">\n",
    "          Bereite das Test-Environment vor</td></tr>\n",
    "    <tr><td style=\"text-align:left;padding-left:15px;\">Act</td>\n",
    "        <td style=\"text-align:left;width:60px;padding-left:15px;border-left:1px solid\n",
    "        black;\">\n",
    "           When</td>\n",
    "        <td style=\"text-align:left;width:800px;padding-left:15px;border-left:1px\n",
    "        solid black;\">\n",
    "           Führe die getestete Aktion aus (falls vorhanden)</td></tr>\n",
    "    <tr><td style=\"text-align:left;padding-left:15px;\">Assert</td>\n",
    "        <td style=\"text-align:left;width:60px;padding-left:15px;border-left:1px solid\n",
    "        black;\">\n",
    "           Then</td>\n",
    "        <td style=\"text-align:left;width:800px;padding-left:15px;border-left:1px\n",
    "        solid black;\">\n",
    "           Überprüfe die Ergebnisse</td></tr>\n",
    "    </table>\n",
    "    <br>&nbsp;\n",
    "  </li>\n",
    "  <li>Wenig Code\n",
    "    <ul>\n",
    "      <li>Wenig Boilerplate</li>\n",
    "      <li>Factories, etc. für Tests</li>\n",
    "    </ul>\n",
    "  </li>\n",
    "</ul>"
   ]
  },
  {
   "cell_type": "code",
   "execution_count": null,
   "id": "26d944837f90b549",
   "metadata": {
    "slideshow": {
     "slide_type": "subslide"
    },
    "tags": [
     "subslide",
     "keep"
    ]
   },
   "outputs": [],
   "source": [
    "import java.util.ArrayList;\n",
    "import java.util.Arrays;\n",
    "import java.util.List;"
   ]
  },
  {
   "cell_type": "code",
   "execution_count": null,
   "id": "282b87099a11f3fe",
   "metadata": {
    "tags": [
     "keep"
    ]
   },
   "outputs": [],
   "source": [
    "public static void check(boolean condition) {\n",
    "    if (!condition) {\n",
    "        System.out.println(\"Test failed!\");\n",
    "    } else {\n",
    "        System.out.println(\"Success!\");\n",
    "    }\n",
    "}"
   ]
  },
  {
   "cell_type": "code",
   "execution_count": null,
   "id": "0a05760e1fa6b01f",
   "metadata": {
    "lines_to_next_cell": 2,
    "slideshow": {
     "slide_type": "subslide"
    },
    "tags": [
     "keep",
     "subslide"
    ]
   },
   "outputs": [],
   "source": [
    "public static void testInsert() {\n",
    "    // Arrange\n",
    "    List<Integer> x = new ArrayList<>(Arrays.asList(1, 2, 3));\n",
    "    List<Integer> y = new ArrayList<>(Arrays.asList(10, 20));\n",
    "\n",
    "    // Act\n",
    "    x.addAll(y);\n",
    "\n",
    "    // Assert\n",
    "    check(x.equals(Arrays.asList(1, 2, 3, 10, 20)));\n",
    "}"
   ]
  },
  {
   "cell_type": "code",
   "execution_count": null,
   "id": "4ddf0b7504c9a662",
   "metadata": {
    "tags": [
     "keep"
    ]
   },
   "outputs": [],
   "source": [
    "testInsert();"
   ]
  },
  {
   "cell_type": "markdown",
   "id": "28b6d7b7cf128c97",
   "metadata": {
    "lang": "de",
    "slideshow": {
     "slide_type": "subslide"
    },
    "tags": [
     "subslide"
    ]
   },
   "source": [
    "\n",
    "- Wie viele Tests wollen wir haben?\n",
    "- Wie viele Werte wollen wir überprüfen?"
   ]
  },
  {
   "cell_type": "markdown",
   "id": "e0bcc6a38135448f",
   "metadata": {
    "lang": "de",
    "slideshow": {
     "slide_type": "subslide"
    },
    "tags": [
     "subslide"
    ]
   },
   "source": [
    "\n",
    "## Versuch: Erschöpfendes Testen\n",
    "\n",
    "- Wir schreiben erschöpfende Tests, d.h. Tests, die alle möglichen Eingaben eines\n",
    "  Programms abdecken"
   ]
  },
  {
   "cell_type": "markdown",
   "id": "b7793ebb941374a1",
   "metadata": {
    "lang": "de",
    "slideshow": {
     "slide_type": "subslide"
    },
    "tags": [
     "subslide"
    ]
   },
   "source": [
    "\n",
    "- Erschöpfendes Testen ist nicht möglich\n",
    "- Beispiel Passworteingabe:\n",
    "  - Angenommen, Passwörter mit maximal 20 Zeichen sind zulässig,\n",
    "    80 Eingabezeichen sind erlaubt (große und kleine Buchstaben, Sonderzeichen)\n",
    "  - Das ergibt $80^{20}$ = 115.292.150.460.684.697.600.000.000.000.000.000.000\n",
    "    mögliche Eingaben\n",
    "  - Bei 10ns für einen Test würde man ca. $10^{24}$ Jahre brauchen, um alle Eingaben\n",
    "    zu testen\n",
    "  - Das Universum ist ungefähr $1.4 \\times 10^{10}$ Jahre alt"
   ]
  },
  {
   "cell_type": "markdown",
   "id": "c8b1528062f74783",
   "metadata": {
    "lang": "de",
    "slideshow": {
     "slide_type": "subslide"
    },
    "tags": [
     "subslide"
    ]
   },
   "source": [
    "\n",
    "## Effektivität und Effizienz von Tests\n",
    "\n",
    "- Unit-Tests sollen effektiv und effizient sein\n",
    "  - Effektiv: Die Tests sollen so viele Fehler wie möglich finden\n",
    "  - Effizient: Wir wollen die größte Anzahl an Fehlern mit der geringsten Anzahl\n",
    "    an möglichst einfachen Tests finden\n",
    "- Effizienz ist wichtig, da Tests selbst Code sind, der gewartet werden muss und\n",
    "  Fehler enthalten kann"
   ]
  },
  {
   "cell_type": "markdown",
   "id": "e38384cdf22a52db",
   "metadata": {
    "lang": "de",
    "slideshow": {
     "slide_type": "subslide"
    },
    "tags": [
     "subslide"
    ]
   },
   "source": [
    "\n",
    "## Wie schreibt man gute Unit-Tests?\n",
    "\n",
    "- Teste beobachtbares Verhalten, nicht Implementierung\n",
    "- Bevorzuge Tests von Werten gegenüber Tests von Zuständen\n",
    "- Bevorzuge Tests von Zuständen gegenüber Tests von Interaktion\n",
    "- Verwende Test-Doubles dann (aber auch nur dann), wenn eine Abhängigkeit\n",
    "  \"eine Rakete abfeuert\"\n",
    "- (Diese Regeln setzen voraus, dass der Code solche Tests erlaubt)"
   ]
  },
  {
   "cell_type": "markdown",
   "id": "a753ed99ded7cfa4",
   "metadata": {
    "lang": "de",
    "slideshow": {
     "slide_type": "subslide"
    },
    "tags": [
     "subslide"
    ]
   },
   "source": [
    "\n",
    "### Warum Tests von beobachtbarem Verhalten, nicht Implementierung?\n",
    "\n",
    "Beobachtbares Verhalten\n",
    "- ist leichter zu verstehen\n",
    "- ist stabiler als Implementierung\n",
    "- entspricht eher dem Kundennutzen"
   ]
  },
  {
   "cell_type": "markdown",
   "id": "717a3a5a91936e57",
   "metadata": {
    "lang": "de",
    "slideshow": {
     "slide_type": "subslide"
    },
    "tags": [
     "subslide"
    ]
   },
   "source": [
    "\n",
    "## Teste beobachtbares Verhalten, nicht Implementierung\n",
    "\n",
    "- Abstrahiere so weit wie möglich von Implementierungsdetails\n",
    "  - Auch auf Unit-Test Ebene\n",
    "- Oft testen sich verschiedene Methoden gegenseitig\n",
    "- Dies erfordert manchmal die Einführung von zusätzlichen Methoden\n",
    "    - Diese Methoden sollen für Anwender sinnvoll sein, nicht nur für Tests\n",
    "    - Oft \"abstrakter Zustand\" von Objekten\n",
    "    - **Nicht:** konkreten Zustand öffentlich machen"
   ]
  },
  {
   "cell_type": "code",
   "execution_count": null,
   "id": "5639da13d72950f2",
   "metadata": {
    "slideshow": {
     "slide_type": "subslide"
    },
    "tags": [
     "subslide",
     "keep"
    ]
   },
   "outputs": [],
   "source": [
    "import java.util.ArrayList;\n",
    "import java.util.List;"
   ]
  },
  {
   "cell_type": "code",
   "execution_count": null,
   "id": "f1f4067bccbab723",
   "metadata": {
    "tags": [
     "keep"
    ]
   },
   "outputs": [],
   "source": [
    "class Stack {\n",
    "    private List<Integer> items = new ArrayList<>();\n",
    "\n",
    "    public void push(int newItem) {\n",
    "        items.add(newItem);\n",
    "    }\n",
    "\n",
    "    public int pop() {\n",
    "        if (items.isEmpty()) {\n",
    "            throw new IllegalStateException(\"Stack is empty\");\n",
    "        }\n",
    "        return items.remove(items.size() - 1);\n",
    "    }\n",
    "\n",
    "    // Good extension: useful, doesn't expose implementation\n",
    "    public int size() {\n",
    "        return items.size();\n",
    "    }\n",
    "\n",
    "    // Bad extension: exposes implementation\n",
    "    public List<Integer> getItems() {\n",
    "        return items;\n",
    "    }\n",
    "}"
   ]
  },
  {
   "cell_type": "markdown",
   "id": "44b4b95bc48b4f8b",
   "metadata": {
    "lang": "de",
    "slideshow": {
     "slide_type": "subslide"
    },
    "tags": [
     "subslide"
    ]
   },
   "source": [
    "\n",
    "### Tests, wenn nur `Push()` und `Pop()` verfügbar sind"
   ]
  },
  {
   "cell_type": "code",
   "execution_count": null,
   "id": "ca3cc1c0dc157e01",
   "metadata": {
    "tags": [
     "keep"
    ]
   },
   "outputs": [],
   "source": [
    "void testStack1() {\n",
    "    Stack s = new Stack();\n",
    "    s.push(5);\n",
    "    check(s.pop() == 5);\n",
    "}"
   ]
  },
  {
   "cell_type": "code",
   "execution_count": null,
   "id": "a45245a7274cb662",
   "metadata": {
    "tags": [
     "keep"
    ]
   },
   "outputs": [],
   "source": [
    "testStack1();"
   ]
  },
  {
   "cell_type": "code",
   "execution_count": null,
   "id": "166e6b55d1ec9c79",
   "metadata": {
    "slideshow": {
     "slide_type": "subslide"
    },
    "tags": [
     "keep",
     "subslide"
    ]
   },
   "outputs": [],
   "source": [
    "void testStack2() {\n",
    "    Stack s = new Stack();\n",
    "    s.push(5);\n",
    "    s.push(10);\n",
    "    check(s.pop() == 10);\n",
    "    check(s.pop() == 5);\n",
    "}"
   ]
  },
  {
   "cell_type": "code",
   "execution_count": null,
   "id": "7e90b086d823e691",
   "metadata": {
    "tags": [
     "keep"
    ]
   },
   "outputs": [],
   "source": [
    "testStack2();"
   ]
  },
  {
   "cell_type": "code",
   "execution_count": null,
   "id": "42b300995fb1fa5b",
   "metadata": {
    "slideshow": {
     "slide_type": "subslide"
    },
    "tags": [
     "keep",
     "subslide"
    ]
   },
   "outputs": [],
   "source": [
    "void testStack3() {\n",
    "    Stack s = new Stack();\n",
    "    try {\n",
    "        s.pop();\n",
    "        check(false);\n",
    "    } catch (IllegalStateException e) {\n",
    "        check(true);\n",
    "    }\n",
    "}"
   ]
  },
  {
   "cell_type": "code",
   "execution_count": null,
   "id": "eda2b4b058c083f3",
   "metadata": {
    "tags": [
     "keep"
    ]
   },
   "outputs": [],
   "source": [
    "testStack3();"
   ]
  },
  {
   "cell_type": "markdown",
   "id": "b23df59ec232e571",
   "metadata": {
    "lang": "de",
    "slideshow": {
     "slide_type": "subslide"
    },
    "tags": [
     "subslide"
    ]
   },
   "source": [
    "\n",
    "### Tests, wenn `size()` verfügbar ist"
   ]
  },
  {
   "cell_type": "code",
   "execution_count": null,
   "id": "b75e1eb1caba2156",
   "metadata": {
    "tags": [
     "keep"
    ]
   },
   "outputs": [],
   "source": [
    "void testStackWithSize1() {\n",
    "    Stack s = new Stack();\n",
    "    check(s.size() == 0);\n",
    "}"
   ]
  },
  {
   "cell_type": "code",
   "execution_count": null,
   "id": "495a6bce80ae532c",
   "metadata": {
    "tags": [
     "keep"
    ]
   },
   "outputs": [],
   "source": [
    "testStackWithSize1();"
   ]
  },
  {
   "cell_type": "code",
   "execution_count": null,
   "id": "e7779ee1189f3028",
   "metadata": {
    "tags": [
     "keep"
    ]
   },
   "outputs": [],
   "source": [
    "void testStackWithSize2() {\n",
    "    Stack s = new Stack();\n",
    "    s.push(5);\n",
    "    s.push(10);\n",
    "    check(s.size() == 2);\n",
    "}"
   ]
  },
  {
   "cell_type": "code",
   "execution_count": null,
   "id": "5210fb545c57ed9e",
   "metadata": {
    "tags": [
     "keep"
    ]
   },
   "outputs": [],
   "source": [
    "testStackWithSize2();"
   ]
  },
  {
   "cell_type": "markdown",
   "id": "6ba6b3eaff12ea00",
   "metadata": {
    "lang": "de",
    "lines_to_next_cell": 2,
    "slideshow": {
     "slide_type": "subslide"
    },
    "tags": [
     "subslide"
    ]
   },
   "source": [
    "\n",
    "### Tests, wenn `getItems()` verfügbar ist"
   ]
  },
  {
   "cell_type": "code",
   "execution_count": null,
   "id": "fece337059778c6d",
   "metadata": {
    "tags": [
     "keep"
    ]
   },
   "outputs": [],
   "source": [
    "void testStackWithGetItems() {\n",
    "    Stack s = new Stack();\n",
    "    s.push(5);\n",
    "    s.push(10);\n",
    "    check(s.getItems().equals(List.of(5, 10)));\n",
    "}"
   ]
  },
  {
   "cell_type": "code",
   "execution_count": null,
   "id": "d7ba42c28d0f5c60",
   "metadata": {
    "tags": [
     "keep"
    ]
   },
   "outputs": [],
   "source": [
    "testStackWithGetItems();"
   ]
  },
  {
   "cell_type": "markdown",
   "id": "23549d9f00aef65a",
   "metadata": {
    "lang": "de",
    "slideshow": {
     "slide_type": "subslide"
    },
    "tags": [
     "subslide"
    ]
   },
   "source": [
    "\n",
    "## Werte > Zustand > Interaktion\n",
    "\n",
    "- Verständlicher\n",
    "- Leichter zu testen\n",
    "- Oft stabiler gegenüber Refactorings\n",
    "\n",
    "Ausnahme: Testen von Protokollen"
   ]
  },
  {
   "cell_type": "markdown",
   "id": "950cc9b75ff080fe",
   "metadata": {
    "lang": "de",
    "slideshow": {
     "slide_type": "subslide"
    },
    "tags": [
     "subslide"
    ]
   },
   "source": [
    "\n",
    "### Funktionen/Werte"
   ]
  },
  {
   "cell_type": "code",
   "execution_count": null,
   "id": "896f7613992823a8",
   "metadata": {
    "tags": [
     "keep"
    ]
   },
   "outputs": [],
   "source": [
    "static int add(int x, int y) { return x + y; }"
   ]
  },
  {
   "cell_type": "code",
   "execution_count": null,
   "id": "a27f603f0bb3ed38",
   "metadata": {
    "tags": [
     "keep"
    ]
   },
   "outputs": [],
   "source": [
    "check(add(2, 3) == 5);"
   ]
  },
  {
   "cell_type": "markdown",
   "id": "bbab80f4677e09a3",
   "metadata": {
    "lang": "de",
    "slideshow": {
     "slide_type": "subslide"
    },
    "tags": [
     "subslide"
    ]
   },
   "source": [
    "\n",
    "### Zustand"
   ]
  },
  {
   "cell_type": "code",
   "execution_count": null,
   "id": "878134fbc7be0111",
   "metadata": {
    "lines_to_next_cell": 2,
    "tags": [
     "keep"
    ]
   },
   "outputs": [],
   "source": [
    "class Adder {\n",
    "    private int x;\n",
    "    private int y;\n",
    "    private int result;\n",
    "\n",
    "    public int getX() { return x; }\n",
    "    public void setX(int x) { this.x = x; }\n",
    "\n",
    "    public int getY() { return y; }\n",
    "    public void setY(int y) { this.y = y; }\n",
    "\n",
    "    public int getResult() { return result; }\n",
    "\n",
    "    public void add() { result = x + y; }\n",
    "}"
   ]
  },
  {
   "cell_type": "code",
   "execution_count": null,
   "id": "3faf09710bc53103",
   "metadata": {
    "slideshow": {
     "slide_type": "subslide"
    },
    "tags": [
     "keep",
     "subslide"
    ]
   },
   "outputs": [],
   "source": [
    "void testAdder() {\n",
    "    Adder adder = new Adder();\n",
    "    adder.setX(2);\n",
    "    adder.setY(3);\n",
    "\n",
    "    adder.add();\n",
    "\n",
    "    check(adder.getResult() == 5);\n",
    "}"
   ]
  },
  {
   "cell_type": "code",
   "execution_count": null,
   "id": "d5154a061d91dca3",
   "metadata": {
    "tags": [
     "keep"
    ]
   },
   "outputs": [],
   "source": [
    "testAdder();"
   ]
  },
  {
   "cell_type": "markdown",
   "id": "be5b19264462fe74",
   "metadata": {
    "lang": "de",
    "slideshow": {
     "slide_type": "subslide"
    },
    "tags": [
     "subslide"
    ]
   },
   "source": [
    "\n",
    "### Seiteneffekt/Interaktion\n",
    "\n",
    "- Mit Interface"
   ]
  },
  {
   "cell_type": "code",
   "execution_count": null,
   "id": "9b35c6c2e3b77e67",
   "metadata": {
    "tags": [
     "keep"
    ]
   },
   "outputs": [],
   "source": [
    "interface AbstractAdder {\n",
    "    void add(int x, int y);\n",
    "}"
   ]
  },
  {
   "cell_type": "code",
   "execution_count": null,
   "id": "4a7866708eea4079",
   "metadata": {
    "lines_to_next_cell": 2,
    "tags": [
     "keep"
    ]
   },
   "outputs": [],
   "source": [
    "class InteractionAdder {\n",
    "    private final AbstractAdder adder;\n",
    "\n",
    "    public InteractionAdder(AbstractAdder adder) {\n",
    "        this.adder = adder;\n",
    "    }\n",
    "\n",
    "    public void add(int x, int y) {\n",
    "        adder.add(x, y);\n",
    "    }\n",
    "}"
   ]
  },
  {
   "cell_type": "markdown",
   "id": "b8506f203b1425c0",
   "metadata": {
    "lang": "de",
    "slideshow": {
     "slide_type": "subslide"
    },
    "tags": [
     "subslide"
    ]
   },
   "source": [
    "\n",
    "Test benötigt Mock/Spy"
   ]
  },
  {
   "cell_type": "code",
   "execution_count": null,
   "id": "73042766afadac0d",
   "metadata": {
    "tags": [
     "keep"
    ]
   },
   "outputs": [],
   "source": [
    "import java.util.ArrayList;\n",
    "import java.util.List;\n",
    "import static java.util.AbstractMap.SimpleEntry;"
   ]
  },
  {
   "cell_type": "code",
   "execution_count": null,
   "id": "e853042b2458c397",
   "metadata": {
    "tags": [
     "keep"
    ]
   },
   "outputs": [],
   "source": [
    "class AdderSpy implements AbstractAdder {\n",
    "    private final List<SimpleEntry<Integer, Integer>> calls = new ArrayList<>();\n",
    "\n",
    "    public List<SimpleEntry<Integer, Integer>> getCalls() {\n",
    "        return calls;\n",
    "    }\n",
    "\n",
    "    @Override\n",
    "    public void add(int x, int y) {\n",
    "        calls.add(new SimpleEntry<>(x, y));\n",
    "    }\n",
    "}"
   ]
  },
  {
   "cell_type": "code",
   "execution_count": null,
   "id": "7f3b35bddcf668dd",
   "metadata": {
    "slideshow": {
     "slide_type": "subslide"
    },
    "tags": [
     "keep",
     "subslide"
    ]
   },
   "outputs": [],
   "source": [
    "void testAdderWithSpy() {\n",
    "    AdderSpy spy = new AdderSpy();\n",
    "    InteractionAdder adder = new InteractionAdder(spy);\n",
    "    adder.add(2, 3);\n",
    "\n",
    "    check(spy.getCalls().size() == 1);\n",
    "    check(spy.getCalls().get(0).getKey() == 2);\n",
    "    check(spy.getCalls().get(0).getValue() == 3);\n",
    "}"
   ]
  },
  {
   "cell_type": "code",
   "execution_count": null,
   "id": "f6c7fa51e68b5134",
   "metadata": {
    "tags": [
     "keep"
    ]
   },
   "outputs": [],
   "source": [
    "testAdderWithSpy();"
   ]
  },
  {
   "cell_type": "markdown",
   "id": "bf7a6a104e1185f5",
   "metadata": {
    "lang": "de",
    "slideshow": {
     "slide_type": "subslide"
    },
    "tags": [
     "subslide"
    ]
   },
   "source": [
    "\n",
    "### Seiteneffekt/Interaktion\n",
    "\n",
    "- Ohne Interface"
   ]
  },
  {
   "cell_type": "code",
   "execution_count": null,
   "id": "cccbe8cf5123c500",
   "metadata": {
    "tags": [
     "keep"
    ]
   },
   "outputs": [],
   "source": [
    "class SideEffectAdder {\n",
    "    static void addAndPrint(int x, int y) {\n",
    "        System.out.println(\"Result: \" + (x + y));\n",
    "    }\n",
    "}"
   ]
  },
  {
   "cell_type": "code",
   "execution_count": null,
   "id": "fbb20a1bc4d899af",
   "metadata": {
    "tags": [
     "keep"
    ]
   },
   "outputs": [],
   "source": [
    "SideEffectAdder.addAndPrint(1, 2);"
   ]
  },
  {
   "cell_type": "code",
   "execution_count": null,
   "id": "e9dab0dfffd54b59",
   "metadata": {
    "slideshow": {
     "slide_type": "subslide"
    },
    "tags": [
     "keep",
     "subslide"
    ]
   },
   "outputs": [],
   "source": [
    "import java.io.ByteArrayOutputStream;\n",
    "import java.io.PrintStream;"
   ]
  },
  {
   "cell_type": "code",
   "execution_count": null,
   "id": "465b86d360df09c5",
   "metadata": {
    "tags": [
     "keep"
    ]
   },
   "outputs": [],
   "source": [
    "String addAndCaptureOutput(int x, int y) {\n",
    "    // Save the original System.out\n",
    "    PrintStream originalOut = System.out;\n",
    "\n",
    "    // Create a stream to hold the output\n",
    "    ByteArrayOutputStream byteArrayOutputStream = new ByteArrayOutputStream();\n",
    "    PrintStream ps = new PrintStream(byteArrayOutputStream);\n",
    "\n",
    "    // Set the standard output to use our stream\n",
    "    System.setOut(ps);\n",
    "\n",
    "    // Call the method\n",
    "    SideEffectAdder.addAndPrint(x, y);\n",
    "\n",
    "    // Flush the stream and get the output as a string\n",
    "    System.out.flush();\n",
    "    String output = byteArrayOutputStream.toString().trim();\n",
    "\n",
    "    // Restore the original System.out\n",
    "    System.setOut(originalOut);\n",
    "\n",
    "    return output;\n",
    "}"
   ]
  },
  {
   "cell_type": "code",
   "execution_count": null,
   "id": "21a133e3f67b7bdf",
   "metadata": {
    "slideshow": {
     "slide_type": "subslide"
    },
    "tags": [
     "keep",
     "subslide"
    ]
   },
   "outputs": [],
   "source": [
    "addAndCaptureOutput(2, 3)"
   ]
  },
  {
   "cell_type": "code",
   "execution_count": null,
   "id": "98054d66c9441480",
   "metadata": {
    "lines_to_next_cell": 2,
    "tags": [
     "keep"
    ]
   },
   "outputs": [],
   "source": [
    "check(addAndCaptureOutput(2, 3).equals(\"Result: 5\"));"
   ]
  },
  {
   "cell_type": "markdown",
   "id": "8a7976a0b1d21bcb",
   "metadata": {
    "lang": "de",
    "slideshow": {
     "slide_type": "subslide"
    },
    "tags": [
     "subslide"
    ]
   },
   "source": [
    "\n",
    "## Wie schreibt man testbaren Code?\n",
    "\n",
    "- Umwandeln von weniger testbarem in besser testbaren Stil\n",
    "  - Beobachtbarkeit (`code/completed/observable-state-machine`)\n",
    "  - Keine globalen oder statischen Daten\n",
    "  - Unveränderliche Datenstrukturen (Werte)\n",
    "- Gutes objektorientiertes Design\n",
    "  - Hohe Kohäsion\n",
    "  - Geringe Kopplung, Management von Abhängigkeiten\n",
    "- Etc."
   ]
  },
  {
   "cell_type": "markdown",
   "id": "d0d4180493c09270",
   "metadata": {
    "lang": "de",
    "slideshow": {
     "slide_type": "subslide"
    },
    "tags": [
     "subslide"
    ]
   },
   "source": [
    "\n",
    "## Prozess\n",
    "\n",
    "- Iteratives Vorgehen\n",
    "  - Kleine Schritte mit Tests\n",
    "- Test-Driven Development (TDD)\n",
    "  - Schreiben von Tests vor Code"
   ]
  },
  {
   "cell_type": "markdown",
   "id": "92b4e1534058914b",
   "metadata": {
    "lang": "de",
    "slideshow": {
     "slide_type": "slide"
    },
    "tags": [
     "slide"
    ]
   },
   "source": [
    "\n",
    "## Mini-Workshop: Bessere Testbarkeit\n",
    "\n",
    "- Wie können Sie Tests für die folgenden Funktionen/Klassen schreiben?\n",
    "- Wie können Sie die folgenden Funktionen/Klassen verbessern, um sie besser\n",
    "  testbar zu machen?\n",
    "- Was für Nachteile ergeben sich dadurch?"
   ]
  },
  {
   "cell_type": "code",
   "execution_count": null,
   "id": "c50d301ca212b6b1",
   "metadata": {
    "slideshow": {
     "slide_type": "subslide"
    },
    "tags": [
     "keep",
     "subslide"
    ]
   },
   "outputs": [],
   "source": [
    "import java.util.*;"
   ]
  },
  {
   "cell_type": "code",
   "execution_count": null,
   "id": "8af00488156dacd1",
   "metadata": {
    "tags": [
     "keep"
    ]
   },
   "outputs": [],
   "source": [
    "class Counter {\n",
    "    private static int c = 0;\n",
    "    public static int count() {\n",
    "        return c++;\n",
    "    }\n",
    "}"
   ]
  },
  {
   "cell_type": "code",
   "execution_count": null,
   "id": "ba873aff82845446",
   "metadata": {
    "tags": [
     "keep"
    ]
   },
   "outputs": [],
   "source": [
    "for (int i = 0; i < 3; ++i) {\n",
    "    System.out.println(Counter.count());\n",
    "}"
   ]
  },
  {
   "cell_type": "code",
   "execution_count": null,
   "id": "722810a365a9a27c",
   "metadata": {},
   "outputs": [],
   "source": [
    "class Counter2 {\n",
    "    private int c = 0;\n",
    "    public int invoke() { return c++; }\n",
    "}"
   ]
  },
  {
   "cell_type": "code",
   "execution_count": null,
   "id": "87681a9ed0ff2e2f",
   "metadata": {
    "tags": [
     "alt"
    ]
   },
   "outputs": [],
   "source": [
    "Counter2 counter = new Counter2();"
   ]
  },
  {
   "cell_type": "code",
   "execution_count": null,
   "id": "515f177bb899c3d4",
   "metadata": {
    "tags": [
     "alt"
    ]
   },
   "outputs": [],
   "source": [
    "for (int i = 0; i < 3; ++i) {\n",
    "    System.out.println(counter.invoke());\n",
    "}"
   ]
  },
  {
   "cell_type": "code",
   "execution_count": null,
   "id": "c33daf079a7cb069",
   "metadata": {
    "slideshow": {
     "slide_type": "subslide"
    },
    "tags": [
     "keep",
     "subslide"
    ]
   },
   "outputs": [],
   "source": [
    "enum State {\n",
    "    OFF,\n",
    "    ON\n",
    "}"
   ]
  },
  {
   "cell_type": "code",
   "execution_count": null,
   "id": "b3a54c0a50bc30ae",
   "metadata": {
    "tags": [
     "keep"
    ]
   },
   "outputs": [],
   "source": [
    "class Switch {\n",
    "    private State state = State.OFF;\n",
    "\n",
    "    public void toggle() {\n",
    "        state = state == State.OFF ? State.ON : State.OFF;\n",
    "        System.out.println(\"Switch is \" + (state == State.OFF ? \"OFF\" : \"ON\"));\n",
    "    }\n",
    "}"
   ]
  },
  {
   "cell_type": "code",
   "execution_count": null,
   "id": "8434ad3c7391f241",
   "metadata": {
    "tags": [
     "keep"
    ]
   },
   "outputs": [],
   "source": [
    "Switch s = new Switch();"
   ]
  },
  {
   "cell_type": "code",
   "execution_count": null,
   "id": "a922ca0941e94d54",
   "metadata": {
    "tags": [
     "keep"
    ]
   },
   "outputs": [],
   "source": [
    "for (int i = 0; i < 3; ++i) {\n",
    "    s.toggle();\n",
    "}"
   ]
  },
  {
   "cell_type": "code",
   "execution_count": null,
   "id": "6c8e2491015c7d9b",
   "metadata": {},
   "outputs": [],
   "source": [
    "class SwitchWithGetter {\n",
    "    private State state = State.OFF;\n",
    "\n",
    "    public void toggle() {\n",
    "        state = state == State.OFF ? State.ON : State.OFF;\n",
    "        System.out.println(\"Switch is \" + (state == State.OFF ? \"OFF\" : \"ON\"));\n",
    "    }\n",
    "\n",
    "    public State getState() { return state; }\n",
    "}"
   ]
  },
  {
   "cell_type": "code",
   "execution_count": null,
   "id": "9cc3eb2880ec6e3e",
   "metadata": {
    "tags": [
     "alt"
    ]
   },
   "outputs": [],
   "source": [
    "SwitchWithGetter sg = new SwitchWithGetter();"
   ]
  },
  {
   "cell_type": "code",
   "execution_count": null,
   "id": "d6a981a4fd53e1a5",
   "metadata": {
    "tags": [
     "alt"
    ]
   },
   "outputs": [],
   "source": [
    "for (int i = 0; i < 3; ++i) {\n",
    "    sg.toggle();\n",
    "}"
   ]
  },
  {
   "cell_type": "code",
   "execution_count": null,
   "id": "839a72ea88f49fb8",
   "metadata": {
    "tags": [
     "alt"
    ]
   },
   "outputs": [],
   "source": [
    "System.out.println(\"Switch is \" + (sg.getState() == State.OFF ? \"OFF\" : \"ON\"));"
   ]
  },
  {
   "cell_type": "code",
   "execution_count": null,
   "id": "162b3ddea680a786",
   "metadata": {
    "tags": [
     "alt"
    ]
   },
   "outputs": [],
   "source": [
    "import java.util.function.Consumer;\n",
    "\n",
    "class ObservableSwitch {\n",
    "    private State state = State.OFF;\n",
    "    private List<Consumer<State>> observers = new ArrayList<>();\n",
    "\n",
    "    public void toggle() {\n",
    "        state = state == State.OFF ? State.ON : State.OFF;\n",
    "        notify(state);\n",
    "    }\n",
    "\n",
    "    public void registerObserver(Consumer<State> f) { observers.add(f); }\n",
    "\n",
    "    private void notify(State s) {\n",
    "        for (Consumer<State> f : observers) {\n",
    "            f.accept(s);\n",
    "        }\n",
    "    }\n",
    "}"
   ]
  },
  {
   "cell_type": "code",
   "execution_count": null,
   "id": "a56db76696f3ffd6",
   "metadata": {
    "tags": [
     "alt"
    ]
   },
   "outputs": [],
   "source": [
    "ObservableSwitch os = new ObservableSwitch();"
   ]
  },
  {
   "cell_type": "code",
   "execution_count": null,
   "id": "fa1b69a204a51106",
   "metadata": {
    "tags": [
     "alt"
    ]
   },
   "outputs": [],
   "source": [
    "os.registerObserver(s ->\n",
    "    System.out.println(\"Switch is \" + (s == State.OFF ? \"OFF\" : \"ON\")));"
   ]
  },
  {
   "cell_type": "code",
   "execution_count": null,
   "id": "b68ff27337217f15",
   "metadata": {
    "tags": [
     "alt"
    ]
   },
   "outputs": [],
   "source": [
    "for (int i = 0; i < 3; ++i) {\n",
    "    os.toggle();\n",
    "}"
   ]
  },
  {
   "cell_type": "code",
   "execution_count": null,
   "id": "8daa215d46b01186",
   "metadata": {
    "slideshow": {
     "slide_type": "subslide"
    },
    "tags": [
     "keep",
     "subslide"
    ]
   },
   "outputs": [],
   "source": [
    "static void printFib(int n) {\n",
    "    int a = 0;\n",
    "    int b = 1;\n",
    "    for (int i = 0; i < n; ++i) {\n",
    "        System.out.println(\"fib(\" + i + \") = \" + b);\n",
    "        int tmp = a;\n",
    "        a = b;\n",
    "        b = tmp + b;\n",
    "    }\n",
    "}"
   ]
  },
  {
   "cell_type": "code",
   "execution_count": null,
   "id": "9ddc7c277b34ae83",
   "metadata": {
    "tags": [
     "keep"
    ]
   },
   "outputs": [],
   "source": [
    "printFib(5);"
   ]
  },
  {
   "cell_type": "code",
   "execution_count": null,
   "id": "61eac192a871f3f8",
   "metadata": {},
   "outputs": [],
   "source": [
    "static int fib1(int n) {\n",
    "    int a = 0;\n",
    "    int b = 1;\n",
    "    for (int i = 0; i < n; ++i) {\n",
    "        int tmp = a;\n",
    "        a = b;\n",
    "        b = tmp + b;\n",
    "    }\n",
    "    return b;\n",
    "}"
   ]
  },
  {
   "cell_type": "code",
   "execution_count": null,
   "id": "ee8c358c0b8a9f70",
   "metadata": {
    "tags": [
     "alt"
    ]
   },
   "outputs": [],
   "source": [
    "static void printFib1(int n) {\n",
    "    for (int i = 0; i < n; ++i) {\n",
    "        System.out.println(\"fib(\" + i + \") = \" + fib1(i));\n",
    "    }\n",
    "}"
   ]
  },
  {
   "cell_type": "code",
   "execution_count": null,
   "id": "3cb61b0b772e5bdd",
   "metadata": {
    "tags": [
     "alt"
    ]
   },
   "outputs": [],
   "source": [
    "printFib1(5);"
   ]
  },
  {
   "cell_type": "code",
   "execution_count": null,
   "id": "95fc6ae6c07c4002",
   "metadata": {
    "tags": [
     "alt"
    ]
   },
   "outputs": [],
   "source": [
    "import java.util.function.BiConsumer;\n",
    "\n",
    "static void fibGen(int n, BiConsumer<Integer, Integer> f) {\n",
    "    int a = 0;\n",
    "    int b = 1;\n",
    "    for (int i = 0; i < n; ++i) {\n",
    "        f.accept(i, b);\n",
    "        int tmp = a;\n",
    "        a = b;\n",
    "        b = tmp + b;\n",
    "    }\n",
    "}"
   ]
  },
  {
   "cell_type": "code",
   "execution_count": null,
   "id": "cf0166f6896f62ee",
   "metadata": {
    "tags": [
     "alt"
    ]
   },
   "outputs": [],
   "source": [
    "static void printFib2(int n) {\n",
    "    fibGen(n, (i, x) ->\n",
    "        System.out.println(\"fib(\" + i + \") = \" + x));\n",
    "}"
   ]
  },
  {
   "cell_type": "code",
   "execution_count": null,
   "id": "e48f7a99d842ee09",
   "metadata": {
    "tags": [
     "alt"
    ]
   },
   "outputs": [],
   "source": [
    "printFib2(5);"
   ]
  }
 ],
 "metadata": {
  "jupytext": {
   "cell_metadata_filter": "tags,lang,-all",
   "encoding": "// -*- coding: utf-8 -*-",
   "main_language": "java",
   "notebook_metadata_filter": "-all"
  },
  "kernelspec": {
   "display_name": "Java",
   "language": "java",
   "name": "java"
  },
  "language_info": {
   "codemirror_mode": "java",
   "file_extension": ".java",
   "mimetype": "text/java",
   "name": "Java",
   "pygments_lexer": "java",
   "version": ""
  }
 },
 "nbformat": 4,
 "nbformat_minor": 5
}
