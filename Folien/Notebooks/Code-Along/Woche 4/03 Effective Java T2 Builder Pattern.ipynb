{
 "cells": [
  {
   "cell_type": "markdown",
   "id": "952d71b86d5b574f",
   "metadata": {
    "lang": "de",
    "slideshow": {
     "slide_type": "slide"
    },
    "tags": [
     "slide"
    ]
   },
   "source": [
    "\n",
    "<img src=\"data:image/svg+xml;base64,PHN2ZyB4bWxucz0iaHR0cDovL3d3dy53My5vcmcvMjAwMC9zdmciIHdpZHRoPSI2NCIgaGVpZ2h0\n",
    "PSI2NCIgdmlld0JveD0iMCAwIDMyIDMyIj48cGF0aCBkPSJNMTEuNjIyIDI0Ljc0cy0xLjIzLjc0\n",
    "OC44NTUuOTYyYzIuNTEuMzIgMy44NDcuMjY3IDYuNjI1LS4yNjdhMTAuMDIgMTAuMDIgMCAwIDAg\n",
    "MS43NjMuODU1Yy02LjI1IDIuNjcyLTE0LjE2LS4xNi05LjI0NC0xLjU1em0tLjgtMy40NzNzLTEu\n",
    "MzM2IDEuMDE1Ljc0OCAxLjIzYzIuNzI1LjI2NyA0Ljg2Mi4zMiA4LjU1LS40MjdhMy4yNiAzLjI2\n",
    "IDAgMCAwIDEuMjgyLjgwMWMtNy41MzQgMi4yNDQtMTUuOTc2LjIxNC0xMC41OC0xLjYwM3ptMTQu\n",
    "NzQ3IDYuMDlzLjkwOC43NDgtMS4wMTUgMS4zMzZjLTMuNTggMS4wNy0xNS4wMTQgMS4zOS0xOC4y\n",
    "MiAwLTEuMTIyLS40OCAxLjAxNS0xLjE3NSAxLjctMS4yODIuNjk1LS4xNiAxLjA3LS4xNiAxLjA3\n",
    "LS4xNi0xLjIzLS44NTUtOC4xNzUgMS43NjMtMy41MjYgMi41MSAxMi43NyAyLjA4NCAyMy4yOTYt\n",
    "LjkwOCAxOS45ODMtMi40MDR6TTEyLjIgMTcuNjMzcy01LjgyNCAxLjM5LTIuMDg0IDEuODdjMS42\n",
    "MDMuMjE0IDQuNzU1LjE2IDcuNjk0LS4wNTMgMi40MDQtLjIxNCA0LjgxLS42NCA0LjgxLS42NHMt\n",
    "Ljg1NS4zNzQtMS40NDMuNzQ4Yy01LjkzIDEuNTUtMTcuMzEyLjg1NS0xNC4wNTItLjc0OCAyLjc3\n",
    "OC0xLjMzNiA1LjA3Ni0xLjE3NSA1LjA3Ni0xLjE3NXptMTAuNDIgNS44MjRjNS45ODQtMy4xIDMu\n",
    "MjA2LTYuMDkgMS4yODItNS43MTctLjQ4LjEwNy0uNjk1LjIxNC0uNjk1LjIxNHMuMTYtLjMyLjUz\n",
    "NC0uNDI3YzMuNzk0LTEuMzM2IDYuNzg2IDQuMDA3LTEuMjMgNi4wOSAwIDAgLjA1My0uMDUzLjEw\n",
    "Ny0uMTZ6bS05LjgzIDguNDQyYzUuNzcuMzc0IDE0LjU4Ny0uMjE0IDE0LjgtMi45NCAwIDAtLjQy\n",
    "NyAxLjA3LTQuNzU1IDEuODctNC45MTYuOTA4LTExLjAwNy44LTE0LjU4Ny4yMTQgMCAwIC43NDgu\n",
    "NjQgNC41NDIuODU1eiIgZmlsbD0iIzRlNzg5NiIvPjxwYXRoIGQ9Ik0xOC45OTYuMDAxczMuMzEz\n",
    "IDMuMzY2LTMuMTUyIDguNDQyYy01LjE4MyA0LjExNC0xLjE3NSA2LjQ2NSAwIDkuMTM3LTMuMDQ2\n",
    "LTIuNzI1LTUuMjM2LTUuMTMtMy43NC03LjM3M0MxNC4yOTQgNi44OTMgMjAuMzMyIDUuMyAxOC45\n",
    "OTYuMDAxem0tMS43IDE1LjMzNWMxLjU1IDEuNzYzLS40MjcgMy4zNjYtLjQyNyAzLjM2NnMzLjk1\n",
    "NC0yLjAzIDIuMTM3LTQuNTQyYy0xLjY1Ni0yLjQwNC0yLjk0LTMuNTggNC4wMDctNy41ODcgMCAw\n",
    "LTEwLjk1MyAyLjcyNS01LjcxNyA4Ljc2M3oiIGZpbGw9IiNmNTgyMTkiLz48L3N2Zz4=\n",
    "\"\n",
    "     alt=\"Java Logo\" style=\"display:block;margin:auto;width:5%\"/>\n",
    "<br>\n",
    "\n",
    "<div style=\"text-align:center; font-size:200%;\">\n",
    " <b>Effective Java T2: Builder Pattern</b>\n",
    "</div>\n",
    "<br/>\n",
    "<div style=\"text-align:center; font-size:120%;\">Dr. Matthias Hölzl</div>\n",
    "<br/>\n",
    "<div style=\"text-align:center;\">Coding-Akademie München</div>\n",
    "<br/>"
   ]
  },
  {
   "cell_type": "markdown",
   "id": "d674d86f6882e187",
   "metadata": {
    "lang": "de",
    "slideshow": {
     "slide_type": "subslide"
    },
    "tags": [
     "subslide"
    ]
   },
   "source": [
    "\n",
    "### Problem: Viele Konstruktor-Parameter\n",
    "\n",
    "- Statische Fabriken und Konstruktoren skalieren schlecht\n",
    "- Große Anzahl von optionalen Parametern\n",
    "- Beispiel: `TravelPackage`-Klasse\n",
    "  - Einige erforderliche Felder\n",
    "  - Viele optionale Felder"
   ]
  },
  {
   "cell_type": "markdown",
   "id": "55e85eeea04f0baa",
   "metadata": {
    "lang": "de",
    "slideshow": {
     "slide_type": "subslide"
    },
    "tags": [
     "subslide"
    ]
   },
   "source": [
    "\n",
    "### Lösung 1: Teleskopierender Konstruktor\n",
    "\n",
    "- Muster: Untere Konstruktoren rufen obere Konstruktoren auf\n",
    "- Vorteil: Sicherstellung der Konsistenz\n",
    "- Nachteil: Schlechte Lesbarkeit und Wartbarkeit"
   ]
  },
  {
   "cell_type": "code",
   "execution_count": null,
   "id": "ba54127b022848a5",
   "metadata": {
    "slideshow": {
     "slide_type": "subslide"
    },
    "tags": [
     "keep",
     "subslide"
    ]
   },
   "outputs": [],
   "source": [
    "public class TravelPackage {\n",
    "    private final String destination;  // required\n",
    "    private final int duration;        // required\n",
    "    private final String accommodation;// optional\n",
    "    private final String transportation;// optional\n",
    "    private final boolean meals;       // optional\n",
    "    private final boolean insurance;   // optional\n",
    "\n",
    "    public TravelPackage(String destination, int duration) {\n",
    "        this(destination, duration, \"Standard Hotel\");\n",
    "    }\n",
    "\n",
    "    public TravelPackage(String destination, int duration, String accommodation) {\n",
    "        this(destination, duration, accommodation, \"Flight\");\n",
    "    }\n",
    "\n",
    "    public TravelPackage(String destination, int duration, String accommodation, String transportation) {\n",
    "        this(destination, duration, accommodation, transportation, false);\n",
    "    }\n",
    "\n",
    "    public TravelPackage(String destination, int duration, String accommodation, String transportation, boolean meals) {\n",
    "        this(destination, duration, accommodation, transportation, meals, false);\n",
    "    }\n",
    "\n",
    "    public TravelPackage(String destination, int duration, String accommodation, String transportation, boolean meals, boolean insurance) {\n",
    "        this.destination = destination;\n",
    "        this.duration = duration;\n",
    "        this.accommodation = accommodation;\n",
    "        this.transportation = transportation;\n",
    "        this.meals = meals;\n",
    "        this.insurance = insurance;\n",
    "    }\n",
    "\n",
    "    @Override\n",
    "    public String toString() {\n",
    "        return \"TravelPackage{\" +\n",
    "                \"destination='\" + destination + '\\'' +\n",
    "                \", duration=\" + duration +\n",
    "                \", accommodation='\" + accommodation + '\\'' +\n",
    "                \", transportation='\" + transportation + '\\'' +\n",
    "                \", meals=\" + meals +\n",
    "                \", insurance=\" + insurance +\n",
    "                '}';\n",
    "    }\n",
    "}"
   ]
  },
  {
   "cell_type": "code",
   "execution_count": null,
   "id": "7aeff352e5865109",
   "metadata": {
    "slideshow": {
     "slide_type": "subslide"
    },
    "tags": [
     "keep",
     "subslide"
    ]
   },
   "outputs": [],
   "source": [
    "TravelPackage europeanTour = new TravelPackage(\"Europe\", 14, \"Standard Hotel\", \"Flight\", false, true);"
   ]
  },
  {
   "cell_type": "code",
   "execution_count": null,
   "id": "faf91a512c984249",
   "metadata": {
    "tags": [
     "keep"
    ]
   },
   "outputs": [],
   "source": [
    "europeanTour"
   ]
  },
  {
   "cell_type": "markdown",
   "id": "a4d2f79c8eb30d94",
   "metadata": {
    "lang": "de",
    "slideshow": {
     "slide_type": "subslide"
    },
    "tags": [
     "subslide"
    ]
   },
   "source": [
    "\n",
    "### Lösung 2: JavaBeans Pattern\n",
    "\n",
    "- Parametelloser Konstruktor und Setter-Methoden\n",
    "- Vorteil: Leichter zu lesen und zu schreiben\n",
    "- Nachteil: Keine Konsistenz, erzwingt Mutabilität"
   ]
  },
  {
   "cell_type": "code",
   "execution_count": null,
   "id": "144ca308065767a7",
   "metadata": {
    "slideshow": {
     "slide_type": "subslide"
    },
    "tags": [
     "keep",
     "subslide"
    ]
   },
   "outputs": [],
   "source": [
    "public class TravelPackage {\n",
    "    private String destination;   // Required; no default value\n",
    "    private int duration;         // Required; no default value\n",
    "    private String accommodation = \"Standard Hotel\";\n",
    "    private String transportation = \"Flight\";\n",
    "    private boolean meals = false;\n",
    "    private boolean insurance = false;\n",
    "\n",
    "    public TravelPackage() { }\n",
    "\n",
    "    public void setDestination(String val)     { destination = val; }\n",
    "    public void setDuration(int val)           { duration = val; }\n",
    "    public void setAccommodation(String val)   { accommodation = val; }\n",
    "    public void setTransportation(String val)  { transportation = val; }\n",
    "    public void setMeals(boolean val)          { meals = val; }\n",
    "    public void setInsurance(boolean val)      { insurance = val; }\n",
    "\n",
    "    @Override\n",
    "    public String toString() {\n",
    "        return \"TravelPackage{\" +\n",
    "                \"destination='\" + destination + '\\'' +\n",
    "                \", duration=\" + duration +\n",
    "                \", accommodation='\" + accommodation + '\\'' +\n",
    "                \", transportation='\" + transportation + '\\'' +\n",
    "                \", meals=\" + meals +\n",
    "                \", insurance=\" + insurance +\n",
    "                '}';\n",
    "    }\n",
    "}"
   ]
  },
  {
   "cell_type": "code",
   "execution_count": null,
   "id": "53859196a3752bad",
   "metadata": {
    "slideshow": {
     "slide_type": "subslide"
    },
    "tags": [
     "keep",
     "subslide"
    ]
   },
   "outputs": [],
   "source": [
    "TravelPackage europeanTour = new TravelPackage();\n",
    "europeanTour.setDestination(\"Europe\");\n",
    "europeanTour.setDuration(14);\n",
    "europeanTour.setInsurance(true);"
   ]
  },
  {
   "cell_type": "code",
   "execution_count": null,
   "id": "da8e1f45b73124ed",
   "metadata": {
    "tags": [
     "keep"
    ]
   },
   "outputs": [],
   "source": [
    "europeanTour"
   ]
  },
  {
   "cell_type": "markdown",
   "id": "31c9255ebe4419ee",
   "metadata": {
    "lang": "de",
    "slideshow": {
     "slide_type": "subslide"
    },
    "tags": [
     "subslide"
    ]
   },
   "source": [
    "\n",
    "### Lösung 3: Builder Pattern\n",
    "\n",
    "- Kombination von Sicherheit und Lesbarkeit\n",
    "- Erstellt ein Builder-Objekt, das die optionalen Parameter setzt\n",
    "- Führt eine `build`-Methode auf, um das finale Objekt zu erzeugen\n",
    "- Das erzeugte Objekt ist immutable"
   ]
  },
  {
   "cell_type": "code",
   "execution_count": null,
   "id": "3ecd9663449863e9",
   "metadata": {
    "slideshow": {
     "slide_type": "subslide"
    },
    "tags": [
     "keep",
     "subslide"
    ]
   },
   "outputs": [],
   "source": [
    "public class TravelPackage {\n",
    "    private final String destination;\n",
    "    private final int duration;\n",
    "    private final String accommodation;\n",
    "    private final String transportation;\n",
    "    private final boolean meals;\n",
    "    private final boolean insurance;\n",
    "\n",
    "    public static class Builder {\n",
    "        // Required parameters\n",
    "        private final String destination;\n",
    "        private final int duration;\n",
    "\n",
    "        // Optional parameters - initialized to default values\n",
    "        private String accommodation = \"Standard Hotel\";\n",
    "        private String transportation = \"Flight\";\n",
    "        private boolean meals = false;\n",
    "        private boolean insurance = false;\n",
    "\n",
    "        public Builder(String destination, int duration) {\n",
    "            this.destination = destination;\n",
    "            this.duration = duration;\n",
    "        }\n",
    "\n",
    "        public Builder accommodation(String val) { accommodation = val; return this; }\n",
    "        public Builder transportation(String val) { transportation = val; return this; }\n",
    "        public Builder meals(boolean val) { meals = val; return this; }\n",
    "        public Builder insurance(boolean val) { insurance = val; return this; }\n",
    "\n",
    "        public TravelPackage build() {\n",
    "            return new TravelPackage(this);\n",
    "        }\n",
    "    }\n",
    "\n",
    "    private TravelPackage(Builder builder) {\n",
    "        destination = builder.destination;\n",
    "        duration = builder.duration;\n",
    "        accommodation = builder.accommodation;\n",
    "        transportation = builder.transportation;\n",
    "        meals = builder.meals;\n",
    "        insurance = builder.insurance;\n",
    "    }\n",
    "\n",
    "    @Override\n",
    "    public String toString() {\n",
    "        return \"TravelPackage{\" +\n",
    "                \"destination='\" + destination + '\\'' +\n",
    "                \", duration=\" + duration +\n",
    "                \", accommodation='\" + accommodation + '\\'' +\n",
    "                \", transportation='\" + transportation + '\\'' +\n",
    "                \", meals=\" + meals +\n",
    "                \", insurance=\" + insurance +\n",
    "                '}';\n",
    "    }\n",
    "}"
   ]
  },
  {
   "cell_type": "code",
   "execution_count": null,
   "id": "c222b1efb1f153c4",
   "metadata": {
    "slideshow": {
     "slide_type": "subslide"
    },
    "tags": [
     "keep",
     "subslide"
    ]
   },
   "outputs": [],
   "source": [
    "TravelPackage europeanTour = new TravelPackage.Builder(\"Europe\", 14)\n",
    "        .accommodation(\"4-star Hotel\")\n",
    "        .transportation(\"Train\")\n",
    "        .meals(true)\n",
    "        .insurance(true)\n",
    "        .build();"
   ]
  },
  {
   "cell_type": "code",
   "execution_count": null,
   "id": "b75b8fbf950efaa7",
   "metadata": {
    "tags": [
     "keep"
    ]
   },
   "outputs": [],
   "source": [
    "europeanTour"
   ]
  },
  {
   "cell_type": "markdown",
   "id": "a6ca712cdc53e13f",
   "metadata": {
    "lang": "de",
    "slideshow": {
     "slide_type": "subslide"
    },
    "tags": [
     "subslide"
    ]
   },
   "source": [
    "\n",
    "### Builder Pattern: Vorteile\n",
    "\n",
    "- Immutable Objekte\n",
    "- Leichte Lesbarkeit und Wartbarkeit\n",
    "- Named optional parameters\n",
    "- Mögliche Konsistenz-Checks"
   ]
  },
  {
   "cell_type": "markdown",
   "id": "d7c1a4f4f9d24dd4",
   "metadata": {
    "lang": "de",
    "slideshow": {
     "slide_type": "subslide"
    },
    "tags": [
     "subslide"
    ]
   },
   "source": [
    "\n",
    "### Builder Pattern: Nachteile\n",
    "\n",
    "- Mehr Code\n",
    "- Mangelnde Vertrautheit"
   ]
  },
  {
   "cell_type": "markdown",
   "id": "271b86885dd26d81",
   "metadata": {
    "lang": "de",
    "slideshow": {
     "slide_type": "subslide"
    },
    "tags": [
     "subslide"
    ]
   },
   "source": [
    "\n",
    "### Zusammenfassung\n",
    "\n",
    "- Builder Pattern ideal für viele Konstruktor-Parameter\n",
    "- Vereint die Vorteile des teleskopierenden Konstruktors und des JavaBeans\n",
    "  Patterns\n",
    "- Leicht lesbar, leicht wartbar, sicher\n",
    "- Möglich für Klassenhierarchien"
   ]
  },
  {
   "cell_type": "markdown",
   "id": "667159032bd7c537",
   "metadata": {
    "lang": "de",
    "slideshow": {
     "slide_type": "slide"
    },
    "tags": [
     "slide"
    ]
   },
   "source": [
    "\n",
    "## Workshop: Sandwich-Builder\n",
    "\n",
    "- Implementieren Sie ein System zur Erstellung von Sandwiches\n",
    "- Verwenden Sie das Builder-Pattern"
   ]
  },
  {
   "cell_type": "markdown",
   "id": "cd1bb5e2b4774390",
   "metadata": {
    "lang": "de",
    "slideshow": {
     "slide_type": "subslide"
    },
    "tags": [
     "subslide"
    ]
   },
   "source": [
    "\n",
    "### Gegebene Klasse\n",
    "\n",
    "- `Sandwich`"
   ]
  },
  {
   "cell_type": "code",
   "execution_count": null,
   "id": "70ea9b1f311db849",
   "metadata": {
    "slideshow": {
     "slide_type": "subslide"
    },
    "tags": [
     "keep",
     "subslide"
    ]
   },
   "outputs": [],
   "source": [
    "import java.util.ArrayList;\n",
    "import java.util.List;\n",
    "\n",
    "public class Sandwich {\n",
    "    private final String bread;\n",
    "    private final List<String> proteins;\n",
    "    private final List<String> cheeses;\n",
    "    private final List<String> vegetables;\n",
    "    private final List<String> sauces;\n",
    "    private final boolean toasted;\n",
    "\n",
    "    Sandwich(String bread, List<String> proteins, List<String> cheeses,\n",
    "             List<String> vegetables, List<String> sauces, boolean toasted) {\n",
    "        this.bread = bread;\n",
    "        this.proteins = proteins;\n",
    "        this.cheeses = cheeses;\n",
    "        this.vegetables = vegetables;\n",
    "        this.sauces = sauces;\n",
    "        this.toasted = toasted;\n",
    "    }\n",
    "\n",
    "    @Override\n",
    "    public String toString() {\n",
    "        return \"Sandwich{\" +\n",
    "                \"bread='\" + bread + '\\'' +\n",
    "                \", proteins=\" + proteins +\n",
    "                \", cheeses=\" + cheeses +\n",
    "                \", vegetables=\" + vegetables +\n",
    "                \", sauces=\" + sauces +\n",
    "                \", toasted=\" + toasted +\n",
    "                '}';\n",
    "    }\n",
    "}"
   ]
  },
  {
   "cell_type": "markdown",
   "id": "b85a1929a82c068d",
   "metadata": {
    "lang": "de",
    "slideshow": {
     "slide_type": "slide"
    },
    "tags": [
     "slide"
    ]
   },
   "source": [
    "\n",
    "### Aufgaben\n",
    "\n",
    "1. Implementieren Sie eine `SandwichBuilder`-Klasse\n",
    "2. Testen Sie Ihre Implementierung"
   ]
  },
  {
   "cell_type": "markdown",
   "id": "32c5b395634127b5",
   "metadata": {
    "lang": "de",
    "slideshow": {
     "slide_type": "slide"
    },
    "tags": [
     "slide"
    ]
   },
   "source": [
    "\n",
    "#### Aufgabe 1: `SandwichBuilder`\n",
    "\n",
    "- Implementieren Sie die `SandwichBuilder`-Klasse\n",
    "- Fügen Sie Methoden hinzu, um alle Eigenschaften des Sandwiches zu setzen\n",
    "- Implementieren Sie eine `build()`-Methode, die ein `Sandwich`-Objekt\n",
    "  zurückgibt"
   ]
  },
  {
   "cell_type": "code",
   "execution_count": null,
   "id": "a1464135600f7661",
   "metadata": {
    "slideshow": {
     "slide_type": "subslide"
    },
    "tags": [
     "subslide"
    ]
   },
   "outputs": [],
   "source": []
  },
  {
   "cell_type": "markdown",
   "id": "6f6e9fd725ebcf95",
   "metadata": {
    "lang": "de",
    "slideshow": {
     "slide_type": "slide"
    },
    "tags": [
     "slide"
    ]
   },
   "source": [
    "\n",
    "#### Aufgabe 2: Testen Sie Ihre Implementierung\n",
    "\n",
    "- Erstellen Sie eine Instanz der `SandwichBuilder`-Klasse\n",
    "- Erstellen Sie verschiedene `Sandwich`-Objekte mithilfe des Builders\n",
    "- Stellen Sie sicher, dass die erstellten `Sandwich`-Objekte korrekt\n",
    "  initialisiert sind"
   ]
  },
  {
   "cell_type": "code",
   "execution_count": null,
   "id": "214856f8d6eec54d",
   "metadata": {
    "slideshow": {
     "slide_type": "subslide"
    },
    "tags": [
     "subslide"
    ]
   },
   "outputs": [],
   "source": []
  },
  {
   "cell_type": "code",
   "execution_count": null,
   "id": "bbcfd69f290706a2",
   "metadata": {},
   "outputs": [],
   "source": []
  },
  {
   "cell_type": "code",
   "execution_count": null,
   "id": "02a37161aec01aee",
   "metadata": {
    "slideshow": {
     "slide_type": "subslide"
    },
    "tags": [
     "subslide"
    ]
   },
   "outputs": [],
   "source": []
  },
  {
   "cell_type": "code",
   "execution_count": null,
   "id": "b8c9fa31d753dbec",
   "metadata": {},
   "outputs": [],
   "source": []
  },
  {
   "cell_type": "markdown",
   "id": "9087afd97d5ae5fd",
   "metadata": {
    "lang": "de",
    "slideshow": {
     "slide_type": "slide"
    },
    "tags": [
     "slide"
    ]
   },
   "source": [
    "\n",
    "### Bonusaufgabe\n",
    "\n",
    "- Fügen Sie eine Methode `calories()` zur `Sandwich`-Klasse hinzu, die die\n",
    "  Gesamtkalorien des Sandwiches berechnet\n",
    "- Erweitern Sie den `SandwichBuilder` um eine Methode `maxCalories(int max)`,\n",
    "  die verhindert, dass ein Sandwich mit mehr als `max` Kalorien erstellt wird"
   ]
  },
  {
   "cell_type": "code",
   "execution_count": null,
   "id": "d14273bc9100213c",
   "metadata": {
    "slideshow": {
     "slide_type": "subslide"
    },
    "tags": [
     "keep",
     "subslide"
    ]
   },
   "outputs": [],
   "source": [
    "import java.util.ArrayList;\n",
    "import java.util.List;\n",
    "import java.util.Map;\n",
    "import java.util.HashMap;\n",
    "\n",
    "public class Sandwich {\n",
    "    private final String bread;\n",
    "    private final List<String> proteins;\n",
    "    private final List<String> cheeses;\n",
    "    private final List<String> vegetables;\n",
    "    private final List<String> sauces;\n",
    "    private final boolean toasted;\n",
    "\n",
    "    // Calorie information for ingredients (simplified)\n",
    "    private static final Map<String, Integer> CALORIE_MAP;\n",
    "\n",
    "    static {\n",
    "        CALORIE_MAP = new HashMap<>();\n",
    "        CALORIE_MAP.put(\"White\", 80);\n",
    "        CALORIE_MAP.put(\"Whole Wheat\", 70);\n",
    "        CALORIE_MAP.put(\"Sourdough\", 90);\n",
    "        CALORIE_MAP.put(\"Turkey\", 30);\n",
    "        CALORIE_MAP.put(\"Bacon\", 40);\n",
    "        CALORIE_MAP.put(\"Ham\", 35);\n",
    "        CALORIE_MAP.put(\"Swiss\", 50);\n",
    "        CALORIE_MAP.put(\"Cheddar\", 60);\n",
    "        CALORIE_MAP.put(\"Lettuce\", 5);\n",
    "        CALORIE_MAP.put(\"Tomato\", 10);\n",
    "        CALORIE_MAP.put(\"Cucumber\", 5);\n",
    "        CALORIE_MAP.put(\"Mayo\", 90);\n",
    "        CALORIE_MAP.put(\"Mustard\", 10);\n",
    "    }\n",
    "\n",
    "    Sandwich(String bread, List<String> proteins, List<String> cheeses,\n",
    "             List<String> vegetables, List<String> sauces, boolean toasted) {\n",
    "        this.bread = bread;\n",
    "        this.proteins = proteins;\n",
    "        this.cheeses = cheeses;\n",
    "        this.vegetables = vegetables;\n",
    "        this.sauces = sauces;\n",
    "        this.toasted = toasted;\n",
    "    }\n",
    "\n",
    "    public int calories() {\n",
    "        int total = CALORIE_MAP.getOrDefault(bread, 0);\n",
    "        total += proteins.stream().mapToInt(p -> CALORIE_MAP.getOrDefault(p, 0)).sum();\n",
    "        total += cheeses.stream().mapToInt(c -> CALORIE_MAP.getOrDefault(c, 0)).sum();\n",
    "        total += vegetables.stream().mapToInt(v -> CALORIE_MAP.getOrDefault(v, 0)).sum();\n",
    "        total += sauces.stream().mapToInt(s -> CALORIE_MAP.getOrDefault(s, 0)).sum();\n",
    "        return total;\n",
    "    }\n",
    "\n",
    "    @Override\n",
    "    public String toString() {\n",
    "        return \"Sandwich{\" +\n",
    "                \"bread='\" + bread + '\\'' +\n",
    "                \", proteins=\" + proteins +\n",
    "                \", cheeses=\" + cheeses +\n",
    "                \", vegetables=\" + vegetables +\n",
    "                \", sauces=\" + sauces +\n",
    "                \", toasted=\" + toasted +\n",
    "                \", calories=\" + calories() +\n",
    "                '}';\n",
    "    }\n",
    "}"
   ]
  },
  {
   "cell_type": "code",
   "execution_count": null,
   "id": "2d0be89eca638d91",
   "metadata": {
    "slideshow": {
     "slide_type": "subslide"
    },
    "tags": [
     "keep",
     "subslide"
    ]
   },
   "outputs": [],
   "source": [
    "public class SandwichBuilder {\n",
    "    private String bread = \"White\";\n",
    "    private List<String> proteins = new ArrayList<>();\n",
    "    private List<String> cheeses = new ArrayList<>();\n",
    "    private List<String> vegetables = new ArrayList<>();\n",
    "    private List<String> sauces = new ArrayList<>();\n",
    "    private boolean toasted = false;\n",
    "    private int maxCalories = Integer.MAX_VALUE;\n",
    "\n",
    "    public SandwichBuilder bread(String bread) {\n",
    "        this.bread = bread;\n",
    "        return this;\n",
    "    }\n",
    "\n",
    "    public SandwichBuilder addProtein(String protein) {\n",
    "        this.proteins.add(protein);\n",
    "        return this;\n",
    "    }\n",
    "\n",
    "    public SandwichBuilder addCheese(String cheese) {\n",
    "        this.cheeses.add(cheese);\n",
    "        return this;\n",
    "    }\n",
    "\n",
    "    public SandwichBuilder addVegetable(String vegetable) {\n",
    "        this.vegetables.add(vegetable);\n",
    "        return this;\n",
    "    }\n",
    "\n",
    "    public SandwichBuilder addSauce(String sauce) {\n",
    "        this.sauces.add(sauce);\n",
    "        return this;\n",
    "    }\n",
    "\n",
    "    public SandwichBuilder setToasted(boolean toasted) {\n",
    "        this.toasted = toasted;\n",
    "        return this;\n",
    "    }\n",
    "\n",
    "    public SandwichBuilder maxCalories(int max) {\n",
    "        this.maxCalories = max;\n",
    "        return this;\n",
    "    }\n",
    "\n",
    "    public Sandwich build() {\n",
    "        Sandwich sandwich = new Sandwich(bread, proteins, cheeses, vegetables, sauces, toasted);\n",
    "        if (sandwich.calories() > maxCalories) {\n",
    "            throw new IllegalStateException(\"Sandwich exceeds maximum calorie limit\");\n",
    "        }\n",
    "        return sandwich;\n",
    "    }\n",
    "}"
   ]
  },
  {
   "cell_type": "code",
   "execution_count": null,
   "id": "45b82c7f5de51995",
   "metadata": {
    "slideshow": {
     "slide_type": "subslide"
    },
    "tags": [
     "subslide"
    ]
   },
   "outputs": [],
   "source": []
  },
  {
   "cell_type": "code",
   "execution_count": null,
   "id": "83c0734f0fa248d6",
   "metadata": {},
   "outputs": [],
   "source": []
  },
  {
   "cell_type": "code",
   "execution_count": null,
   "id": "e4ee52da8d28cc3f",
   "metadata": {
    "slideshow": {
     "slide_type": "subslide"
    },
    "tags": [
     "subslide"
    ]
   },
   "outputs": [],
   "source": []
  }
 ],
 "metadata": {
  "jupytext": {
   "cell_metadata_filter": "tags,lang,-all",
   "encoding": "// -*- coding: utf-8 -*-",
   "main_language": "java",
   "notebook_metadata_filter": "-all"
  },
  "kernelspec": {
   "display_name": "Java",
   "language": "java",
   "name": "java"
  },
  "language_info": {
   "codemirror_mode": "java",
   "file_extension": ".java",
   "mimetype": "text/java",
   "name": "Java",
   "pygments_lexer": "java",
   "version": ""
  }
 },
 "nbformat": 4,
 "nbformat_minor": 5
}
