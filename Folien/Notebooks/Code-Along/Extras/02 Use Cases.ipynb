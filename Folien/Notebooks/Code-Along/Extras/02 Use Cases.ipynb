{
 "cells": [
  {
   "cell_type": "markdown",
   "id": "266949307d1a6b0c",
   "metadata": {
    "lang": "de",
    "slideshow": {
     "slide_type": "slide"
    },
    "tags": [
     "slide"
    ]
   },
   "source": [
    "\n",
    "<img src=\"data:image/svg+xml;base64,PHN2ZyB4bWxucz0iaHR0cDovL3d3dy53My5vcmcvMjAwMC9zdmciIHdpZHRoPSI2NCIgaGVpZ2h0\n",
    "PSI2NCIgdmlld0JveD0iMCAwIDMyIDMyIj48cGF0aCBkPSJNMTEuNjIyIDI0Ljc0cy0xLjIzLjc0\n",
    "OC44NTUuOTYyYzIuNTEuMzIgMy44NDcuMjY3IDYuNjI1LS4yNjdhMTAuMDIgMTAuMDIgMCAwIDAg\n",
    "MS43NjMuODU1Yy02LjI1IDIuNjcyLTE0LjE2LS4xNi05LjI0NC0xLjU1em0tLjgtMy40NzNzLTEu\n",
    "MzM2IDEuMDE1Ljc0OCAxLjIzYzIuNzI1LjI2NyA0Ljg2Mi4zMiA4LjU1LS40MjdhMy4yNiAzLjI2\n",
    "IDAgMCAwIDEuMjgyLjgwMWMtNy41MzQgMi4yNDQtMTUuOTc2LjIxNC0xMC41OC0xLjYwM3ptMTQu\n",
    "NzQ3IDYuMDlzLjkwOC43NDgtMS4wMTUgMS4zMzZjLTMuNTggMS4wNy0xNS4wMTQgMS4zOS0xOC4y\n",
    "MiAwLTEuMTIyLS40OCAxLjAxNS0xLjE3NSAxLjctMS4yODIuNjk1LS4xNiAxLjA3LS4xNiAxLjA3\n",
    "LS4xNi0xLjIzLS44NTUtOC4xNzUgMS43NjMtMy41MjYgMi41MSAxMi43NyAyLjA4NCAyMy4yOTYt\n",
    "LjkwOCAxOS45ODMtMi40MDR6TTEyLjIgMTcuNjMzcy01LjgyNCAxLjM5LTIuMDg0IDEuODdjMS42\n",
    "MDMuMjE0IDQuNzU1LjE2IDcuNjk0LS4wNTMgMi40MDQtLjIxNCA0LjgxLS42NCA0LjgxLS42NHMt\n",
    "Ljg1NS4zNzQtMS40NDMuNzQ4Yy01LjkzIDEuNTUtMTcuMzEyLjg1NS0xNC4wNTItLjc0OCAyLjc3\n",
    "OC0xLjMzNiA1LjA3Ni0xLjE3NSA1LjA3Ni0xLjE3NXptMTAuNDIgNS44MjRjNS45ODQtMy4xIDMu\n",
    "MjA2LTYuMDkgMS4yODItNS43MTctLjQ4LjEwNy0uNjk1LjIxNC0uNjk1LjIxNHMuMTYtLjMyLjUz\n",
    "NC0uNDI3YzMuNzk0LTEuMzM2IDYuNzg2IDQuMDA3LTEuMjMgNi4wOSAwIDAgLjA1My0uMDUzLjEw\n",
    "Ny0uMTZ6bS05LjgzIDguNDQyYzUuNzcuMzc0IDE0LjU4Ny0uMjE0IDE0LjgtMi45NCAwIDAtLjQy\n",
    "NyAxLjA3LTQuNzU1IDEuODctNC45MTYuOTA4LTExLjAwNy44LTE0LjU4Ny4yMTQgMCAwIC43NDgu\n",
    "NjQgNC41NDIuODU1eiIgZmlsbD0iIzRlNzg5NiIvPjxwYXRoIGQ9Ik0xOC45OTYuMDAxczMuMzEz\n",
    "IDMuMzY2LTMuMTUyIDguNDQyYy01LjE4MyA0LjExNC0xLjE3NSA2LjQ2NSAwIDkuMTM3LTMuMDQ2\n",
    "LTIuNzI1LTUuMjM2LTUuMTMtMy43NC03LjM3M0MxNC4yOTQgNi44OTMgMjAuMzMyIDUuMyAxOC45\n",
    "OTYuMDAxem0tMS43IDE1LjMzNWMxLjU1IDEuNzYzLS40MjcgMy4zNjYtLjQyNyAzLjM2NnMzLjk1\n",
    "NC0yLjAzIDIuMTM3LTQuNTQyYy0xLjY1Ni0yLjQwNC0yLjk0LTMuNTggNC4wMDctNy41ODcgMCAw\n",
    "LTEwLjk1MyAyLjcyNS01LjcxNyA4Ljc2M3oiIGZpbGw9IiNmNTgyMTkiLz48L3N2Zz4=\n",
    "\"\n",
    "     alt=\"Java Logo\" style=\"display:block;margin:auto;width:5%\"/>\n",
    "<br>\n",
    "\n",
    "<div style=\"text-align:center; font-size:200%;\">\n",
    " <b>Use Cases</b>\n",
    "</div>\n",
    "<br/>\n",
    "<div style=\"text-align:center; font-size:120%;\">Dr. Matthias Hölzl</div>\n",
    "<br/>\n",
    "<div style=\"text-align:center;\">Coding-Akademie München</div>\n",
    "<br/>"
   ]
  },
  {
   "cell_type": "markdown",
   "id": "1bc2d8af870edd3b",
   "metadata": {
    "lang": "de",
    "slideshow": {
     "slide_type": "slide"
    },
    "tags": [
     "slide"
    ]
   },
   "source": [
    "\n",
    "### Use Case 1: Spiel initialisieren\n",
    "\n",
    "**Scope:** Adventure Game\n",
    "\n",
    "**Actors:** Spieler"
   ]
  },
  {
   "cell_type": "markdown",
   "id": "c65195e987e762f4",
   "metadata": {
    "lang": "de",
    "slideshow": {
     "slide_type": "subslide"
    },
    "tags": [
     "subslide"
    ]
   },
   "source": [
    "\n",
    "**Kontext:** Der Spieler startet ein neues Spiel oder startet ein vorheriges\n",
    "Spiel neu.\n",
    "\n",
    "**Vorbedingung:** Die Spielsoftware ist geladen und läuft.\n",
    "\n",
    "**Trigger:** Spieler wählt \"Neues Spiel\" oder \"Spiel laden\" aus dem\n",
    "Hauptmenü."
   ]
  },
  {
   "cell_type": "markdown",
   "id": "c7ea5ad9e00d3d31",
   "metadata": {
    "lang": "de",
    "slideshow": {
     "slide_type": "subslide"
    },
    "tags": [
     "subslide"
    ]
   },
   "source": [
    "\n",
    "**Hauptszenario:**\n",
    "1. Spieler wählt \"Neues Spiel\".\n",
    "2. System initialisiert eine neue Spielwelt mit Standardwerten.\n",
    "3. System platziert den Spielstein an einem Startpunkt.\n",
    "4. Spiel präsentiert den initialen Spielzustand dem Spieler."
   ]
  },
  {
   "cell_type": "markdown",
   "id": "bfb2cfcde3d778e9",
   "metadata": {
    "lang": "de",
    "slideshow": {
     "slide_type": "subslide"
    },
    "tags": [
     "subslide"
    ]
   },
   "source": [
    "\n",
    "**Erfolgsgarantie:** Spiel ist initialisiert und bereit für den Spieler, um\n",
    "einen Zug zu machen.\n",
    "\n",
    "**Minimale Garantie:** Spielzustand ist stabil und bereit für jede\n",
    "selektierbare Aktion des Spielers.\n",
    "\n",
    "**Stakeholders und Interessen:**\n",
    "- Spieler: Möchte eine reibungslose Erfahrung beim Starten oder Laden eines\n",
    "  Spiels."
   ]
  },
  {
   "cell_type": "markdown",
   "id": "45d1faa248da2792",
   "metadata": {
    "lang": "de",
    "slideshow": {
     "slide_type": "subslide"
    },
    "tags": [
     "subslide"
    ]
   },
   "source": [
    "\n",
    "**Erweiterungen:**\n",
    "1a. Spieler wählt \"Spiel laden\".\n",
    "1. System fordert den Spieler auf, ein gespeichertes Spiel auszuwählen.\n",
    "2. Spiel lädt den gespeicherten Zustand.\n",
    "\n",
    "2a. Fehler beim Laden des gespeicherten Spiels.\n",
    "1. System zeigt eine Fehlermeldung an.\n",
    "2. Spieler wird zum Hauptmenü zurückgebracht."
   ]
  },
  {
   "cell_type": "markdown",
   "id": "88f2fe39ed34aace",
   "metadata": {
    "lang": "de",
    "slideshow": {
     "slide_type": "slide"
    },
    "tags": [
     "slide"
    ]
   },
   "source": [
    "\n",
    "### Use Case 2: Hauptspielschleife\n",
    "\n",
    "**Scope:** Adventure Game\n",
    "\n",
    "**Actors:** Spieler, NPCs"
   ]
  },
  {
   "cell_type": "markdown",
   "id": "752bf87185119009",
   "metadata": {
    "lang": "de",
    "slideshow": {
     "slide_type": "subslide"
    },
    "tags": [
     "subslide"
    ]
   },
   "source": [
    "\n",
    "**Kontext:** Spieler interagiert mit dem Spiel, und NPCs handeln auf der\n",
    "Grundlage vordefinierter Logik.\n",
    "\n",
    "**Vorbedingung:** Spiel ist initialisiert.\n",
    "\n",
    "**Trigger:** Spieler beginnt seinen Zug."
   ]
  },
  {
   "cell_type": "markdown",
   "id": "d19b28704630e82c",
   "metadata": {
    "lang": "de",
    "slideshow": {
     "slide_type": "subslide"
    },
    "tags": [
     "subslide"
    ]
   },
   "source": [
    "\n",
    "**Hauptszenario:**\n",
    "1. Spieler beginnt seinen Zug, indem er eine Aktion wählt (z.B. bewegen,\n",
    "   interagieren).\n",
    "2. System verarbeitet die Aktion.\n",
    "3. NPCs nehmen ihre jeweiligen Züge basierend auf der Spiellogik.\n",
    "4. Spiel gibt dem Spieler Feedback über die Ergebnisse aller Aktionen.\n",
    "5. System überprüft auf mögliche Game-Over-Bedingungen.\n",
    "6. Gibt die Kontrolle an den Spieler für den nächsten Zug zurück."
   ]
  },
  {
   "cell_type": "markdown",
   "id": "7b07b5d5b06eba57",
   "metadata": {
    "lang": "de",
    "slideshow": {
     "slide_type": "subslide"
    },
    "tags": [
     "subslide"
    ]
   },
   "source": [
    "\n",
    "**Erfolgsgarantie:** Die Spielschleife läuft reibungslos, und der Spieler\n",
    "kennt immer das Ergebnis seiner Aktionen.\n",
    "\n",
    "**Minimale Garantie:** Der Spielzustand bleibt konsistent und stürzt nicht ab.\n",
    "\n",
    "**Stakeholders und Interessen:**\n",
    "- Spieler: Erwartet eine nahtlose Spielerfahrung ohne Unterbrechungen."
   ]
  },
  {
   "cell_type": "markdown",
   "id": "028f17cf6bd0fe40",
   "metadata": {
    "lang": "de",
    "slideshow": {
     "slide_type": "subslide"
    },
    "tags": [
     "subslide"
    ]
   },
   "source": [
    "\n",
    "**Erweiterungen:**\n",
    "1a. Die Game-Over-Bedingung ist erfüllt (z.B. Spielerfigur erreicht ein\n",
    "bestimmtes Ziel, Spielerfigur verliert alle Lebenspunkte).\n",
    "1. System präsentiert einen Game-Over-Bildschirm mit relevanten Informationen\n",
    "(z.B. Gewinn-/Verlustmeldung, Punktzahl).\n",
    "2. Spieler erhält die Möglichkeit, das Spiel neu zu starten oder zum\n",
    "Hauptmenü zurückzukehren.\n",
    "\n",
    "2a. Spieler wählt aus, das Spiel während seines Zuges zu speichern.\n",
    "1. System pausiert die Spielschleife.\n",
    "2. Spieler speichert das Spiel.\n",
    "3. Die Spielschleife wird fortgesetzt."
   ]
  },
  {
   "cell_type": "markdown",
   "id": "5c91c67dae0b783c",
   "metadata": {
    "lang": "de",
    "slideshow": {
     "slide_type": "slide"
    },
    "tags": [
     "slide"
    ]
   },
   "source": [
    "\n",
    "### Use Case 3: Spieler macht einen Zug\n",
    "\n",
    "**Scope:** Adventure Game\n",
    "\n",
    "**Actors:** Spieler"
   ]
  },
  {
   "cell_type": "markdown",
   "id": "e8060dec019870b6",
   "metadata": {
    "lang": "de",
    "slideshow": {
     "slide_type": "subslide"
    },
    "tags": [
     "subslide"
    ]
   },
   "source": [
    "\n",
    "**Kontext:** Spieler entscheidet sich für eine Aktion während seines Zuges.\n",
    "\n",
    "**Vorbedingung:** Spieler ist an der Reihe in der Spielschleife.\n",
    "\n",
    "**Trigger:** System fordert den Spieler zu einer Aktion auf."
   ]
  },
  {
   "cell_type": "markdown",
   "id": "c0f697467e3eba64",
   "metadata": {
    "lang": "de",
    "slideshow": {
     "slide_type": "subslide"
    },
    "tags": [
     "subslide"
    ]
   },
   "source": [
    "\n",
    "**Hauptszenario:**\n",
    "1. Spieler wählt eine Aktion (z.B. zu einem Ort bewegen, mit einem NPC\n",
    "   interagieren, ein Objekt benutzen).\n",
    "2. System verarbeitet die Aktion.\n",
    "3. System gibt Feedback über das Ergebnis der Aktion.\n",
    "4. Spielerzug endet."
   ]
  },
  {
   "cell_type": "markdown",
   "id": "ef21a645d6675a57",
   "metadata": {
    "lang": "de",
    "lines_to_next_cell": 0,
    "slideshow": {
     "slide_type": "subslide"
    },
    "tags": [
     "subslide"
    ]
   },
   "source": [
    "\n",
    "**Erfolgsgarantie:** Die vom Spieler gewählte Aktion wird ausgeführt, und es\n",
    "wird Feedback gegeben.\n",
    "\n",
    "**Minimale Garantie:** Der Spielzustand bleibt konsistent.\n",
    "\n",
    "**Stakeholders und Interessen:**\n",
    "- Spieler: Erwartet, dass seine gewählten Aktionen korrekt ausgeführt werden."
   ]
  },
  {
   "cell_type": "markdown",
   "id": "72544ad29b6aa0c9",
   "metadata": {
    "lang": "de",
    "slideshow": {
     "slide_type": "subslide"
    },
    "tags": [
     "subslide"
    ]
   },
   "source": [
    "\n",
    "**Erweiterungen:**\n",
    "1a. Spieler wählt eine ungültige Aktion (z.B. Bewegung zu einem nicht\n",
    "zugänglichen Ort).\n",
    "1. System gibt Feedback über die ungültige Aktion.\n",
    "2. Spieler wird aufgefordert, eine gültige Aktion zu wählen.\n",
    "\n",
    "2a. Spieler wählt aus, während seines Zuges auf das Spielmenü zuzugreifen.\n",
    "1. System pausiert das Spiel.\n",
    "2. Spieler greift auf Optionen wie Speichern, Einstellungen anpassen oder\n",
    "Beenden zu.\n",
    "3. Spieler kehrt nach dem Verlassen des Menüs zu seinem Zug zurück."
   ]
  }
 ],
 "metadata": {
  "jupytext": {
   "cell_metadata_filter": "lang,tags,-all",
   "encoding": "// -*- coding: utf-8 -*-",
   "main_language": "java",
   "notebook_metadata_filter": "-all"
  },
  "kernelspec": {
   "display_name": "Java",
   "language": "java",
   "name": "java"
  },
  "language_info": {
   "codemirror_mode": "java",
   "file_extension": ".java",
   "mimetype": "text/java",
   "name": "Java",
   "pygments_lexer": "java",
   "version": ""
  }
 },
 "nbformat": 4,
 "nbformat_minor": 5
}
