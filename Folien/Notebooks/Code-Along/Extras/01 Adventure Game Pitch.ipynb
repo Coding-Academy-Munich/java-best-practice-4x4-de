{
 "cells": [
  {
   "cell_type": "markdown",
   "id": "caea41e3f9f0873c",
   "metadata": {
    "lang": "de",
    "slideshow": {
     "slide_type": "slide"
    },
    "tags": [
     "slide"
    ]
   },
   "source": [
    "\n",
    "<img src=\"data:image/svg+xml;base64,PHN2ZyB4bWxucz0iaHR0cDovL3d3dy53My5vcmcvMjAwMC9zdmciIHdpZHRoPSI2NCIgaGVpZ2h0\n",
    "PSI2NCIgdmlld0JveD0iMCAwIDMyIDMyIj48cGF0aCBkPSJNMTEuNjIyIDI0Ljc0cy0xLjIzLjc0\n",
    "OC44NTUuOTYyYzIuNTEuMzIgMy44NDcuMjY3IDYuNjI1LS4yNjdhMTAuMDIgMTAuMDIgMCAwIDAg\n",
    "MS43NjMuODU1Yy02LjI1IDIuNjcyLTE0LjE2LS4xNi05LjI0NC0xLjU1em0tLjgtMy40NzNzLTEu\n",
    "MzM2IDEuMDE1Ljc0OCAxLjIzYzIuNzI1LjI2NyA0Ljg2Mi4zMiA4LjU1LS40MjdhMy4yNiAzLjI2\n",
    "IDAgMCAwIDEuMjgyLjgwMWMtNy41MzQgMi4yNDQtMTUuOTc2LjIxNC0xMC41OC0xLjYwM3ptMTQu\n",
    "NzQ3IDYuMDlzLjkwOC43NDgtMS4wMTUgMS4zMzZjLTMuNTggMS4wNy0xNS4wMTQgMS4zOS0xOC4y\n",
    "MiAwLTEuMTIyLS40OCAxLjAxNS0xLjE3NSAxLjctMS4yODIuNjk1LS4xNiAxLjA3LS4xNiAxLjA3\n",
    "LS4xNi0xLjIzLS44NTUtOC4xNzUgMS43NjMtMy41MjYgMi41MSAxMi43NyAyLjA4NCAyMy4yOTYt\n",
    "LjkwOCAxOS45ODMtMi40MDR6TTEyLjIgMTcuNjMzcy01LjgyNCAxLjM5LTIuMDg0IDEuODdjMS42\n",
    "MDMuMjE0IDQuNzU1LjE2IDcuNjk0LS4wNTMgMi40MDQtLjIxNCA0LjgxLS42NCA0LjgxLS42NHMt\n",
    "Ljg1NS4zNzQtMS40NDMuNzQ4Yy01LjkzIDEuNTUtMTcuMzEyLjg1NS0xNC4wNTItLjc0OCAyLjc3\n",
    "OC0xLjMzNiA1LjA3Ni0xLjE3NSA1LjA3Ni0xLjE3NXptMTAuNDIgNS44MjRjNS45ODQtMy4xIDMu\n",
    "MjA2LTYuMDkgMS4yODItNS43MTctLjQ4LjEwNy0uNjk1LjIxNC0uNjk1LjIxNHMuMTYtLjMyLjUz\n",
    "NC0uNDI3YzMuNzk0LTEuMzM2IDYuNzg2IDQuMDA3LTEuMjMgNi4wOSAwIDAgLjA1My0uMDUzLjEw\n",
    "Ny0uMTZ6bS05LjgzIDguNDQyYzUuNzcuMzc0IDE0LjU4Ny0uMjE0IDE0LjgtMi45NCAwIDAtLjQy\n",
    "NyAxLjA3LTQuNzU1IDEuODctNC45MTYuOTA4LTExLjAwNy44LTE0LjU4Ny4yMTQgMCAwIC43NDgu\n",
    "NjQgNC41NDIuODU1eiIgZmlsbD0iIzRlNzg5NiIvPjxwYXRoIGQ9Ik0xOC45OTYuMDAxczMuMzEz\n",
    "IDMuMzY2LTMuMTUyIDguNDQyYy01LjE4MyA0LjExNC0xLjE3NSA2LjQ2NSAwIDkuMTM3LTMuMDQ2\n",
    "LTIuNzI1LTUuMjM2LTUuMTMtMy43NC03LjM3M0MxNC4yOTQgNi44OTMgMjAuMzMyIDUuMyAxOC45\n",
    "OTYuMDAxem0tMS43IDE1LjMzNWMxLjU1IDEuNzYzLS40MjcgMy4zNjYtLjQyNyAzLjM2NnMzLjk1\n",
    "NC0yLjAzIDIuMTM3LTQuNTQyYy0xLjY1Ni0yLjQwNC0yLjk0LTMuNTggNC4wMDctNy41ODcgMCAw\n",
    "LTEwLjk1MyAyLjcyNS01LjcxNyA4Ljc2M3oiIGZpbGw9IiNmNTgyMTkiLz48L3N2Zz4=\n",
    "\"\n",
    "     alt=\"Java Logo\" style=\"display:block;margin:auto;width:5%\"/>\n",
    "<br>\n",
    "\n",
    "<div style=\"text-align:center; font-size:200%;\">\n",
    " <b>Adventure Game: Pitch</b>\n",
    "</div>\n",
    "<br/>\n",
    "<div style=\"text-align:center; font-size:120%;\">Dr. Matthias Hölzl</div>\n",
    "<br/>\n",
    "<div style=\"text-align:center;\">Coding-Akademie München</div>\n",
    "<br/>"
   ]
  },
  {
   "cell_type": "markdown",
   "id": "b4ce9f3bfbc2d077",
   "metadata": {
    "lang": "de",
    "slideshow": {
     "slide_type": "subslide"
    },
    "tags": [
     "subslide"
    ]
   },
   "source": [
    "\n",
    "## Die Welt unseres Adventure Games: Eine Reise in die Fantasie\n",
    "\n",
    "Willkommen in der Domäne unseres bezaubernden Adventure Games, ein Universum\n",
    "reich an Erkundungen, Interaktionen und fesselnden Geschichten, die darauf\n",
    "warten, gesponnen zu werden. Bevor wir uns auf unser Coding-Abenteuer\n",
    "begeben, wollen wir die Landschaft verstehen, die wir navigieren, die\n",
    "Charaktere, denen wir begegnen werden, und die verschiedenen Aktivitäten, die\n",
    "diesem Bereich Leben einhauchen."
   ]
  },
  {
   "cell_type": "markdown",
   "id": "89d4aec832db2c83",
   "metadata": {
    "lang": "de",
    "slideshow": {
     "slide_type": "subslide"
    },
    "tags": [
     "subslide"
    ]
   },
   "source": [
    "\n",
    "### Das große Theater\n",
    "\n",
    "1. **Das Spiel selbst:** Stellen Sie sich das Spiel als ein großes Theater\n",
    "   vor, in dem all unsere Abenteuer stattfinden. Es ist die übergeordnete\n",
    "   Welt, die alles beherbergt - unsere Charaktere, Orte und die Objekte, die\n",
    "   sie füllen.\n",
    "\n",
    "2. **Die Welt:** Innerhalb dieses Theaters befindet sich ein großes\n",
    "   Gesamtbild, der als 'Welt' bezeichnet wird. Es ist eine Sammlung von\n",
    "   verschiedenen miteinander verbundenen Orten. Denken Sie an die\n",
    "   verschiedenen Szenen auf unserer Theaterbühne, jede mit ihrer eigenen\n",
    "   Kulisse, Ambiente und Handlung."
   ]
  },
  {
   "cell_type": "markdown",
   "id": "d9a95bff39c2a4a1",
   "metadata": {
    "lang": "de",
    "slideshow": {
     "slide_type": "subslide"
    },
    "tags": [
     "subslide"
    ]
   },
   "source": [
    "\n",
    "### Hauptprotagonisten\n",
    "\n",
    "1. **Spieler:** Das sind Sie! Derjenige, der die Reise orchestriert,\n",
    "   Entscheidungen trifft und die Richtung der Geschichte bestimmt. Sie sind\n",
    "   derjenige, der den Kompass und die Karte hält, der entscheidet, wohin er\n",
    "   oder sie geht und mit wem er oder sie interagiert.\n",
    "\n",
    "2. **Pawn:** Im Spiel werden Sie eine Figur kontrollieren, die als 'Pawn'\n",
    "   bezeichnet wird. Das ist Ihr Avatar, Ihre Repräsentation in diesem\n",
    "   digitalen Reich. Mit den Pawn werden Sie die Welt durchqueren, erkunden\n",
    "   und zahlreiche Abenteuer erleben."
   ]
  },
  {
   "cell_type": "markdown",
   "id": "41869960935686bd",
   "metadata": {
    "lang": "de",
    "slideshow": {
     "slide_type": "subslide"
    },
    "tags": [
     "subslide"
    ]
   },
   "source": [
    "\n",
    "### Charaktere des Reiches\n",
    "\n",
    "1. **Non-Player-Characters (NPCs):** Auf Ihrer Reise durch das Spiel werden\n",
    "   Sie eine vielfältige Besetzung von Charakteren treffen, die nicht von\n",
    "   Ihnen kontrolliert werden. Sie sind die Bewohner dieser Welt. Ob es sich\n",
    "   um Händler handelt, die mysteriöse Waren verkaufen, weise alte Zauberer\n",
    "   mit kryptischen Ratschlägen oder tapfere Krieger, die Sie zu Duellen\n",
    "   herausfordern, sie sind wesentlich für die Vielfalt der Erzählung."
   ]
  },
  {
   "cell_type": "markdown",
   "id": "76a5b178f5e6262b",
   "metadata": {
    "lang": "de",
    "slideshow": {
     "slide_type": "subslide"
    },
    "tags": [
     "subslide"
    ]
   },
   "source": [
    "\n",
    "### Elemente von Mystery & Adventure\n",
    "\n",
    "1. **Objekte:** Überall in den Orten der Welt verstreut, entdecken Sie eine\n",
    "   Vielzahl von Objekten. Manche sind vielleicht einfache Kleinigkeiten,\n",
    "   andere wiederum können der Schlüssel zum Fortschritt Ihrer Reise oder zur\n",
    "   Lösung komplexer Rätsel sein.\n",
    "\n",
    "2. **Orte:** Das sind die verschiedenen Szenen oder Bühnen in unserem\n",
    "   Theater. Von geschäftigen Marktplätzen bis hin zu ruhigen Wäldern,\n",
    "   gefährlichen Gebirgspässen bis hin zu ruhigen Seelandschaften, jeder Ort\n",
    "   bietet einzigartige Interaktionen, Herausforderungen und Geschichten."
   ]
  },
  {
   "cell_type": "markdown",
   "id": "36395bafb6600b9c",
   "metadata": {
    "lang": "de",
    "slideshow": {
     "slide_type": "subslide"
    },
    "tags": [
     "subslide"
    ]
   },
   "source": [
    "\n",
    "### Aktivitäten & Aktionen\n",
    "\n",
    "1. **Bewegung:** Eine der Kernaktivitäten besteht darin, Ihre Figur durch die\n",
    "   verschiedenen Orte der Welt zu führen. Machen Sie sich auf den Weg, um\n",
    "   neue Terrains zu erkunden oder vertraute Orte in Ihrem Streben zu\n",
    "   besuchen.\n",
    "\n",
    "2. **Interaktion mit Objekten:** Neugier wird belohnt. Die Beschäftigung mit\n",
    "   Objekten kann Erkenntnisse, Werkzeuge oder sogar unerwartete Wendungen\n",
    "   der Reise bringen.\n",
    "\n",
    "3. **Gespräche mit NPCs:** Schließen Sie Allianzen, sammeln Sie Informationen,\n",
    "   tauschen Sie Gegenstände aus oder treten Sie in Kämpfen gegeneinander an.\n",
    "   Ihre Interaktionen mit NPCs werden Ihren Weg und den Ausgang Ihres\n",
    "   Abenteuers prägen.\n",
    "\n",
    "4. **Verwaltung des Spiels:** Neben den Hauptaktionen gibt es Aktivitäten,\n",
    "   die mit der Verwaltung des Spiels zu tun haben. Dazu können das Speichern\n",
    "   Ihres Fortschritts, das Anpassen von Einstellungen oder sogar das\n",
    "   Auswählen verschiedener Spielmodi gehören."
   ]
  },
  {
   "cell_type": "markdown",
   "id": "09c5f6c2ea07084e",
   "metadata": {
    "lang": "de",
    "slideshow": {
     "slide_type": "subslide"
    },
    "tags": [
     "subslide"
    ]
   },
   "source": [
    "\n",
    "Zusammenfassend lässt sich sagen, dass unsere Abenteuer-Spiel-Domäne ein\n",
    "reiches Geflecht von miteinander verbundenen Orten ist, gefüllt mit\n",
    "Charakteren, Objekten und endlosen Möglichkeiten. Ob Sie nun nach Schätzen\n",
    "suchen, Freundschaften schmieden oder sich Feinden stellen, jede Wahl, die\n",
    "Sie treffen, gestaltet eine einzigartige Geschichte. Nun, da wir ein klares\n",
    "Bild unserer Domäne haben, wollen wir diese Welt zum Leben zu erwecken!"
   ]
  }
 ],
 "metadata": {
  "jupytext": {
   "cell_metadata_filter": "tags,lang,-all",
   "encoding": "// -*- coding: utf-8 -*-",
   "main_language": "java",
   "notebook_metadata_filter": "-all"
  },
  "kernelspec": {
   "display_name": "Java",
   "language": "java",
   "name": "java"
  },
  "language_info": {
   "codemirror_mode": "java",
   "file_extension": ".java",
   "mimetype": "text/java",
   "name": "Java",
   "pygments_lexer": "java",
   "version": ""
  }
 },
 "nbformat": 4,
 "nbformat_minor": 5
}
