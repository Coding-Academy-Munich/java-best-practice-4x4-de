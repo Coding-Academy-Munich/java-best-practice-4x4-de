{
 "cells": [
  {
   "cell_type": "markdown",
   "id": "67819fe1cb2adf7f",
   "metadata": {
    "lang": "de",
    "slideshow": {
     "slide_type": "slide"
    },
    "tags": [
     "slide"
    ]
   },
   "source": [
    "\n",
    "<img src=\"data:image/svg+xml;base64,PHN2ZyB4bWxucz0iaHR0cDovL3d3dy53My5vcmcvMjAwMC9zdmciIHdpZHRoPSI2NCIgaGVpZ2h0\n",
    "PSI2NCIgdmlld0JveD0iMCAwIDMyIDMyIj48cGF0aCBkPSJNMTEuNjIyIDI0Ljc0cy0xLjIzLjc0\n",
    "OC44NTUuOTYyYzIuNTEuMzIgMy44NDcuMjY3IDYuNjI1LS4yNjdhMTAuMDIgMTAuMDIgMCAwIDAg\n",
    "MS43NjMuODU1Yy02LjI1IDIuNjcyLTE0LjE2LS4xNi05LjI0NC0xLjU1em0tLjgtMy40NzNzLTEu\n",
    "MzM2IDEuMDE1Ljc0OCAxLjIzYzIuNzI1LjI2NyA0Ljg2Mi4zMiA4LjU1LS40MjdhMy4yNiAzLjI2\n",
    "IDAgMCAwIDEuMjgyLjgwMWMtNy41MzQgMi4yNDQtMTUuOTc2LjIxNC0xMC41OC0xLjYwM3ptMTQu\n",
    "NzQ3IDYuMDlzLjkwOC43NDgtMS4wMTUgMS4zMzZjLTMuNTggMS4wNy0xNS4wMTQgMS4zOS0xOC4y\n",
    "MiAwLTEuMTIyLS40OCAxLjAxNS0xLjE3NSAxLjctMS4yODIuNjk1LS4xNiAxLjA3LS4xNiAxLjA3\n",
    "LS4xNi0xLjIzLS44NTUtOC4xNzUgMS43NjMtMy41MjYgMi41MSAxMi43NyAyLjA4NCAyMy4yOTYt\n",
    "LjkwOCAxOS45ODMtMi40MDR6TTEyLjIgMTcuNjMzcy01LjgyNCAxLjM5LTIuMDg0IDEuODdjMS42\n",
    "MDMuMjE0IDQuNzU1LjE2IDcuNjk0LS4wNTMgMi40MDQtLjIxNCA0LjgxLS42NCA0LjgxLS42NHMt\n",
    "Ljg1NS4zNzQtMS40NDMuNzQ4Yy01LjkzIDEuNTUtMTcuMzEyLjg1NS0xNC4wNTItLjc0OCAyLjc3\n",
    "OC0xLjMzNiA1LjA3Ni0xLjE3NSA1LjA3Ni0xLjE3NXptMTAuNDIgNS44MjRjNS45ODQtMy4xIDMu\n",
    "MjA2LTYuMDkgMS4yODItNS43MTctLjQ4LjEwNy0uNjk1LjIxNC0uNjk1LjIxNHMuMTYtLjMyLjUz\n",
    "NC0uNDI3YzMuNzk0LTEuMzM2IDYuNzg2IDQuMDA3LTEuMjMgNi4wOSAwIDAgLjA1My0uMDUzLjEw\n",
    "Ny0uMTZ6bS05LjgzIDguNDQyYzUuNzcuMzc0IDE0LjU4Ny0uMjE0IDE0LjgtMi45NCAwIDAtLjQy\n",
    "NyAxLjA3LTQuNzU1IDEuODctNC45MTYuOTA4LTExLjAwNy44LTE0LjU4Ny4yMTQgMCAwIC43NDgu\n",
    "NjQgNC41NDIuODU1eiIgZmlsbD0iIzRlNzg5NiIvPjxwYXRoIGQ9Ik0xOC45OTYuMDAxczMuMzEz\n",
    "IDMuMzY2LTMuMTUyIDguNDQyYy01LjE4MyA0LjExNC0xLjE3NSA2LjQ2NSAwIDkuMTM3LTMuMDQ2\n",
    "LTIuNzI1LTUuMjM2LTUuMTMtMy43NC03LjM3M0MxNC4yOTQgNi44OTMgMjAuMzMyIDUuMyAxOC45\n",
    "OTYuMDAxem0tMS43IDE1LjMzNWMxLjU1IDEuNzYzLS40MjcgMy4zNjYtLjQyNyAzLjM2NnMzLjk1\n",
    "NC0yLjAzIDIuMTM3LTQuNTQyYy0xLjY1Ni0yLjQwNC0yLjk0LTMuNTggNC4wMDctNy41ODcgMCAw\n",
    "LTEwLjk1MyAyLjcyNS01LjcxNyA4Ljc2M3oiIGZpbGw9IiNmNTgyMTkiLz48L3N2Zz4=\n",
    "\"\n",
    "     alt=\"Java Logo\" style=\"display:block;margin:auto;width:5%\"/>\n",
    "<br>\n",
    "\n",
    "<div style=\"text-align:center; font-size:200%;\">\n",
    " <b>Test-Driven-Development</b>\n",
    "</div>\n",
    "<br/>\n",
    "<div style=\"text-align:center; font-size:120%;\">Dr. Matthias Hölzl</div>\n",
    "<br/>\n",
    "<div style=\"text-align:center;\">Coding-Akademie München</div>\n",
    "<br/>"
   ]
  },
  {
   "cell_type": "markdown",
   "id": "6c5e89df1b7cff46",
   "metadata": {
    "lang": "de",
    "slideshow": {
     "slide_type": "subslide"
    },
    "tags": [
     "subslide"
    ]
   },
   "source": [
    "\n",
    "## Idee\n",
    "\n",
    "- Verwende Tests, um das Design und die Feature-Entwicklung des Programms\n",
    "  voranzutreiben\n",
    "- Jeder neue Test beschreibt ein Feature-Inkrement des Programms\n",
    "- (Gut testbarer Code entsteht dabei quasi als Nebenprodukt)"
   ]
  },
  {
   "cell_type": "markdown",
   "id": "e69a7c35f1e28432",
   "metadata": {
    "lang": "de",
    "slideshow": {
     "slide_type": "subslide"
    },
    "tags": [
     "subslide"
    ]
   },
   "source": [
    "\n",
    "## Problem\n",
    "\n",
    "Wie können Tests das Design des Programms vorantreiben?"
   ]
  },
  {
   "cell_type": "markdown",
   "id": "66dd00ad783b4ae7",
   "metadata": {
    "lang": "de",
    "slideshow": {
     "slide_type": "subslide"
    },
    "tags": [
     "subslide"
    ]
   },
   "source": [
    "\n",
    "## Mögliche Antworten\n",
    "\n",
    "- Tests verwenden die Funktionalität und zeigen komplizierte Interfaces auf\n",
    "- Tests ermöglichen Refactoring"
   ]
  },
  {
   "cell_type": "markdown",
   "id": "2f927b1287a5752f",
   "metadata": {
    "lang": "de",
    "slideshow": {
     "slide_type": "subslide"
    },
    "tags": [
     "subslide"
    ]
   },
   "source": [
    "\n",
    "## Refactoring\n",
    "\n",
    "- Verbessern der Code-Struktur ohne Änderung des Verhaltens\n",
    "- Vorgehen in kleinen Schritten\n",
    "  - Nach jedem Schritt ist der Code wieder ausführbar\n",
    "- Ziele:\n",
    "  - Verbessern des Codes\n",
    "  - Verbesserung des Designs"
   ]
  },
  {
   "cell_type": "markdown",
   "id": "36b0dcf358222c11",
   "metadata": {
    "lang": "de",
    "slideshow": {
     "slide_type": "subslide"
    },
    "tags": [
     "subslide"
    ]
   },
   "source": [
    "\n",
    "## Refactoring und Tests\n",
    "\n",
    "- Durch Refactoring wird das Design des Programms in kleinen Schritten verbessert\n",
    "- Die Korrektheit dieser Schritte wird durch Tests abgesichert"
   ]
  },
  {
   "cell_type": "markdown",
   "id": "b80891c1af6abf27",
   "metadata": {
    "lang": "de",
    "lines_to_next_cell": 2,
    "slideshow": {
     "slide_type": "subslide"
    },
    "tags": [
     "subslide"
    ]
   },
   "source": [
    "\n",
    "## So what???\n",
    "\n",
    "<img src=\"img/dev-velocity.png\"\n",
    "     style=\"display:block;margin:auto;width:70%\"/>"
   ]
  },
  {
   "cell_type": "markdown",
   "id": "d486e36fdf4466fe",
   "metadata": {
    "lang": "de",
    "slideshow": {
     "slide_type": "subslide"
    },
    "tags": [
     "subslide"
    ]
   },
   "source": [
    "\n",
    "## Test-Driven Development\n",
    "\n",
    "- Ziel beim TDD ist nicht in erster Linie, eine hohe Testabdeckung zu erreichen\n",
    "- Ziel beim TDD ist es, durch Tests ein gutes Design zu entdecken\n",
    "  - Beim Schreiben der Tests versucht man, das Interface von Klassen und Funktionen\n",
    "    so zu gestalten, dass es leicht zu benutzen ist\n",
    "  - Dadurch, dass alle wesentlichen Teile des Programms durch Tests abgesichert\n",
    "    sind, kann man das Design durch Refactoring permanent an das aktuelle Feature-Set\n",
    "    anpassen"
   ]
  },
  {
   "cell_type": "markdown",
   "id": "59b3df4b563a8607",
   "metadata": {
    "lang": "de",
    "slideshow": {
     "slide_type": "subslide"
    },
    "tags": [
     "subslide"
    ]
   },
   "source": [
    "\n",
    "## Der TDD-Zyklus\n",
    "\n",
    "- Schreibe einen (minimalen) Test\n",
    "  - Der Test testet nur ein einziges neues (Teil-)Feature: **Baby Steps**\n",
    "  - Dieser Test schlägt fehl\n",
    "- Implementiere die minimale Funktionalität, um den Test zum Laufen zu bringen\n",
    "  - Dabei muss man nicht auf sauberen Code oder gutes Design achten\n",
    "  - Aber: **Solve Simply**\n",
    "- Verbessere den Code\n",
    "  - Entferne die unsauberen Konstrukte, die im vorhergehenden Schritt eingefügt wurden\n",
    "  - Generalisiere die Implementierung, wenn zu viel Wiederholung entstanden ist\n",
    "  - **Dieser Schritt ist nicht optional!!!**"
   ]
  },
  {
   "cell_type": "markdown",
   "id": "f9b0a1d7b5e808f1",
   "metadata": {
    "lang": "de",
    "slideshow": {
     "slide_type": "subslide"
    },
    "tags": [
     "subslide"
    ]
   },
   "source": [
    "\n",
    "## Der TDD-Zyklus\n",
    "\n",
    "- <span style=\"color: red\"><b>Red (fehlschlagender Test)</b></span>\n",
    "- <span style=\"color: green\"><b>Green (alle Tests sind wieder grün)</b></span>\n",
    "- <span style=\"color: blue\"><b>Clean/Refactor (der Code ist wieder sauber)</b></span>"
   ]
  },
  {
   "cell_type": "markdown",
   "id": "0c348ba3e500b667",
   "metadata": {
    "lang": "de",
    "slideshow": {
     "slide_type": "subslide"
    },
    "tags": [
     "subslide"
    ]
   },
   "source": [
    "\n",
    "## Baby-Steps\n",
    "\n",
    "- Das System ist nicht stunden- oder tagelang in einem Zustand, in dem es nicht\n",
    "  baubar, testbar oder ausführbar ist\n",
    "- Dadurch bekommt man bei jeder Änderung schnell Feedback vom Code\n",
    "- Häufiges Mergen und CI wird möglich"
   ]
  },
  {
   "cell_type": "markdown",
   "id": "be80b4c3f0c253e0",
   "metadata": {
    "lang": "de",
    "slideshow": {
     "slide_type": "subslide"
    },
    "tags": [
     "subslide"
    ]
   },
   "source": [
    "\n",
    "## Warum Solve Simply?\n",
    "\n",
    "- Eine flexible, generische Lösung erhöht oft die Komplexität des Systems\n",
    "- Das lohnt sich nur, wenn die Flexibilität auch benötigt wird\n",
    "- Entwickler können meist schlecht vorhersehen, an welchen Stellen\n",
    "  Flexibilität/Erweiterbarkeit benötigt wird\n",
    "- Eine flexible, generische Lösung ist oft sehr viel schwerer zu implementieren\n",
    "  als eine einfache Lösung für einen spezielleren Anwendungsfall\n",
    "- Die naheliegendste flexible, generische Lösung ist oft nicht der sauberste und\n",
    "  wartbare Code"
   ]
  },
  {
   "cell_type": "markdown",
   "id": "dcb02115140c8b63",
   "metadata": {
    "lang": "de",
    "slideshow": {
     "slide_type": "subslide"
    },
    "tags": [
     "subslide"
    ]
   },
   "source": [
    "\n",
    "## Annahmen von Solve Simply\n",
    "\n",
    "- Es ist durch Refactoring möglich, Code in einen sauberen, wartbaren Zustand zu\n",
    "  bekommen, ohne dadurch die Funktionalität zu verändern\n",
    "- Es ist möglich, Code iterativ zu erweitern und flexibler zu machen,\n",
    "  wenn das erforderlich ist\n",
    "- Es ist einfacher, die Refactoring- und Iterations-Schritte durchzuführen, als\n",
    "  gleich die endgültige Lösung zu entwickeln\n",
    "- Diese Annahmen sind nur dann erfüllt, wenn hinreichend viele, gute\n",
    "  Unit-Tests vorliegen"
   ]
  },
  {
   "cell_type": "markdown",
   "id": "deac7cb941ddd8b9",
   "metadata": {
    "lang": "de",
    "slideshow": {
     "slide_type": "subslide"
    },
    "tags": [
     "subslide"
    ]
   },
   "source": [
    "\n",
    "## Noch besser: TDD + Vorbereitungsschritt\n",
    "\n",
    "- Refactore den Code, sodass die Änderung einfach wird\n",
    "  - Das ist oft nicht so einfach…\n",
    "  - Wenn beim Refactoring klar wird, dass Tests fehlen, so werden diese hinzugefügt\n",
    "- Führe die einfache Änderung mit dem TDD-Zyklus durch\n",
    "- Wiederhole diese Schritte immer wieder"
   ]
  }
 ],
 "metadata": {
  "jupytext": {
   "cell_metadata_filter": "tags,lang,-all",
   "encoding": "// -*- coding: utf-8 -*-",
   "main_language": "java",
   "notebook_metadata_filter": "-all"
  },
  "kernelspec": {
   "display_name": "Java",
   "language": "java",
   "name": "java"
  },
  "language_info": {
   "codemirror_mode": "java",
   "file_extension": ".java",
   "mimetype": "text/java",
   "name": "Java",
   "pygments_lexer": "java",
   "version": ""
  }
 },
 "nbformat": 4,
 "nbformat_minor": 5
}
