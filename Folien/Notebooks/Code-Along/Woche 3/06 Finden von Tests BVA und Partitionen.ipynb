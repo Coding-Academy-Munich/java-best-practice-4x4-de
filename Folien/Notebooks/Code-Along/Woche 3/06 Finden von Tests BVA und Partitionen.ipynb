{
 "cells": [
  {
   "cell_type": "markdown",
   "id": "560faf804e63628c",
   "metadata": {
    "lang": "de",
    "slideshow": {
     "slide_type": "slide"
    },
    "tags": [
     "slide"
    ]
   },
   "source": [
    "\n",
    "<img src=\"data:image/svg+xml;base64,PHN2ZyB4bWxucz0iaHR0cDovL3d3dy53My5vcmcvMjAwMC9zdmciIHdpZHRoPSI2NCIgaGVpZ2h0\n",
    "PSI2NCIgdmlld0JveD0iMCAwIDMyIDMyIj48cGF0aCBkPSJNMTEuNjIyIDI0Ljc0cy0xLjIzLjc0\n",
    "OC44NTUuOTYyYzIuNTEuMzIgMy44NDcuMjY3IDYuNjI1LS4yNjdhMTAuMDIgMTAuMDIgMCAwIDAg\n",
    "MS43NjMuODU1Yy02LjI1IDIuNjcyLTE0LjE2LS4xNi05LjI0NC0xLjU1em0tLjgtMy40NzNzLTEu\n",
    "MzM2IDEuMDE1Ljc0OCAxLjIzYzIuNzI1LjI2NyA0Ljg2Mi4zMiA4LjU1LS40MjdhMy4yNiAzLjI2\n",
    "IDAgMCAwIDEuMjgyLjgwMWMtNy41MzQgMi4yNDQtMTUuOTc2LjIxNC0xMC41OC0xLjYwM3ptMTQu\n",
    "NzQ3IDYuMDlzLjkwOC43NDgtMS4wMTUgMS4zMzZjLTMuNTggMS4wNy0xNS4wMTQgMS4zOS0xOC4y\n",
    "MiAwLTEuMTIyLS40OCAxLjAxNS0xLjE3NSAxLjctMS4yODIuNjk1LS4xNiAxLjA3LS4xNiAxLjA3\n",
    "LS4xNi0xLjIzLS44NTUtOC4xNzUgMS43NjMtMy41MjYgMi41MSAxMi43NyAyLjA4NCAyMy4yOTYt\n",
    "LjkwOCAxOS45ODMtMi40MDR6TTEyLjIgMTcuNjMzcy01LjgyNCAxLjM5LTIuMDg0IDEuODdjMS42\n",
    "MDMuMjE0IDQuNzU1LjE2IDcuNjk0LS4wNTMgMi40MDQtLjIxNCA0LjgxLS42NCA0LjgxLS42NHMt\n",
    "Ljg1NS4zNzQtMS40NDMuNzQ4Yy01LjkzIDEuNTUtMTcuMzEyLjg1NS0xNC4wNTItLjc0OCAyLjc3\n",
    "OC0xLjMzNiA1LjA3Ni0xLjE3NSA1LjA3Ni0xLjE3NXptMTAuNDIgNS44MjRjNS45ODQtMy4xIDMu\n",
    "MjA2LTYuMDkgMS4yODItNS43MTctLjQ4LjEwNy0uNjk1LjIxNC0uNjk1LjIxNHMuMTYtLjMyLjUz\n",
    "NC0uNDI3YzMuNzk0LTEuMzM2IDYuNzg2IDQuMDA3LTEuMjMgNi4wOSAwIDAgLjA1My0uMDUzLjEw\n",
    "Ny0uMTZ6bS05LjgzIDguNDQyYzUuNzcuMzc0IDE0LjU4Ny0uMjE0IDE0LjgtMi45NCAwIDAtLjQy\n",
    "NyAxLjA3LTQuNzU1IDEuODctNC45MTYuOTA4LTExLjAwNy44LTE0LjU4Ny4yMTQgMCAwIC43NDgu\n",
    "NjQgNC41NDIuODU1eiIgZmlsbD0iIzRlNzg5NiIvPjxwYXRoIGQ9Ik0xOC45OTYuMDAxczMuMzEz\n",
    "IDMuMzY2LTMuMTUyIDguNDQyYy01LjE4MyA0LjExNC0xLjE3NSA2LjQ2NSAwIDkuMTM3LTMuMDQ2\n",
    "LTIuNzI1LTUuMjM2LTUuMTMtMy43NC03LjM3M0MxNC4yOTQgNi44OTMgMjAuMzMyIDUuMyAxOC45\n",
    "OTYuMDAxem0tMS43IDE1LjMzNWMxLjU1IDEuNzYzLS40MjcgMy4zNjYtLjQyNyAzLjM2NnMzLjk1\n",
    "NC0yLjAzIDIuMTM3LTQuNTQyYy0xLjY1Ni0yLjQwNC0yLjk0LTMuNTggNC4wMDctNy41ODcgMCAw\n",
    "LTEwLjk1MyAyLjcyNS01LjcxNyA4Ljc2M3oiIGZpbGw9IiNmNTgyMTkiLz48L3N2Zz4=\n",
    "\"\n",
    "     alt=\"Java Logo\" style=\"display:block;margin:auto;width:5%\"/>\n",
    "<br>\n",
    "\n",
    "<div style=\"text-align:center; font-size:200%;\">\n",
    " <b>Finden von Tests: BVA und Partitionen</b>\n",
    "</div>\n",
    "<br/>\n",
    "<div style=\"text-align:center; font-size:120%;\">Dr. Matthias Hölzl</div>\n",
    "<br/>\n",
    "<div style=\"text-align:center;\">Coding-Akademie München</div>\n",
    "<br/>"
   ]
  },
  {
   "cell_type": "markdown",
   "id": "25004aa0cfaffb5d",
   "metadata": {
    "lang": "de",
    "lines_to_next_cell": 2,
    "slideshow": {
     "slide_type": "slide"
    },
    "tags": [
     "slide"
    ]
   },
   "source": [
    "\n",
    "# Strategien zum Finden von (guten) Tests\n",
    "\n",
    "- Analyse von Randwerten (Boundary Value Analysis, BVA)\n",
    "- Partitionierung\n",
    "- Zustandsbasiertes Testen\n",
    "- Kontrollflussbasiertes Testen\n",
    "- Richtlinien\n",
    "- Kenntnis häufiger Fehler in Software\n",
    "- (Kenntnis häufiger Probleme von Tests (Test Smells))"
   ]
  },
  {
   "cell_type": "markdown",
   "id": "9167e2ddb10e2a29",
   "metadata": {
    "lang": "de",
    "slideshow": {
     "slide_type": "subslide"
    },
    "tags": [
     "subslide"
    ]
   },
   "source": [
    "\n",
    "## Boundary Value Analysis\n",
    "\n",
    "- Viele Fehler treten am \"Rand\" des Definitionsbereichs von Funktionen\n",
    "  oder Methoden auf\n",
    "- Eine gute Strategie zum effizienten Testen ist es daher, derartige\n",
    "  Randwerte zu betrachten\n",
    "  - Der/die letzten gültigen Werte\n",
    "  - Werte, die gerade außerhalb des Definitionsbereichs liegen\n",
    "- Ist z.B. eine Funktion für ganzzahlige Werte zwischen 0 und 5\n",
    "  definiert, so kann sie mit Eingaben -1, 0, 5, 6 getestet werden"
   ]
  },
  {
   "cell_type": "markdown",
   "id": "24ef75af5e3c488f",
   "metadata": {
    "lang": "de",
    "slideshow": {
     "slide_type": "subslide"
    },
    "tags": [
     "subslide"
    ]
   },
   "source": [
    "\n",
    "## Boundary Value Analysis\n",
    "\n",
    "### Vorteil:\n",
    "\n",
    "- Man konzentriert sich auf empirisch häufige Fehlerquellen\n",
    "\n",
    "### Schwierigkeiten:\n",
    "\n",
    "- Bei vielen Bereichen ist nicht klar, was \"Randwerte\" sind\n",
    "  - (Allerdings lassen sich oft alternative Kriterien finden, z.B.\n",
    "    Länge von Collection-Argumenten)\n",
    "- Werte außerhalb des Definitionsbereichs können manchmal zu undefiniertem\n",
    "  Verhalten führen\n",
    "- Bei Funktionen mit vielen Parametern gibt es eine kombinatorische\n",
    "  Explosion von Randwerten"
   ]
  },
  {
   "cell_type": "markdown",
   "id": "55cbaf2c98f5ea3b",
   "metadata": {
    "lang": "de",
    "lines_to_next_cell": 2,
    "slideshow": {
     "slide_type": "subslide"
    },
    "tags": [
     "subslide"
    ]
   },
   "source": [
    "\n",
    "## Partitionierung\n",
    "\n",
    "- Argumente von Funktionen, Ein/Ausgabe des Programms und Zustände\n",
    "  von Klassen können oft in Äquivalenzklassen unterteilt werden, sodass…\n",
    "  - Das Verhalten für Elemente aus der gleichen Äquivalenzklasse ähnlich\n",
    "    ist (z.B. den gleichen Kontrollflusspfad nimmt)\n",
    "  - Elemente aus unterschiedlichen Klassen verschiedenes Verhalten zeigen\n",
    "  - Beispiel: Die Argumente der sqrt-Funktion können unterteilt werden in\n",
    "      - Positive Zahlen und 0\n",
    "      - Negative Zahlen\n",
    "  - Eine feinere Unterteilung wäre zusätzlich in Quadratzahlen und Nicht-Quadratzahlen\n",
    "- Eine derartige Äquivalenzklasse heißt Partition (oder Domäne)"
   ]
  },
  {
   "cell_type": "markdown",
   "id": "81fa0f7d7d973647",
   "metadata": {
    "lang": "de",
    "slideshow": {
     "slide_type": "subslide"
    },
    "tags": [
     "subslide"
    ]
   },
   "source": [
    "\n",
    "## Partitionierung\n",
    "\n",
    "Finde Partitionen für das getestete Element und teste die folgenden Elemente:\n",
    "\n",
    "- Einen Wert aus der \"Mitte\" der Partition\n",
    "- Einen Wert auf oder nahe jeder Partitionsgrenze\n",
    "\n",
    "Häufig findet man Partitionen durch BVA.\n",
    "\n",
    "Beispiel: Um die Quadratwurzelfunktion zu testen, schreibe Tests für:\n",
    "- `sqrt(0.0)`\n",
    "- `sqrt(2.0)`\n",
    "- `sqrt(-2.0)`"
   ]
  },
  {
   "cell_type": "markdown",
   "id": "436c53e28eab8d85",
   "metadata": {
    "lang": "de",
    "slideshow": {
     "slide_type": "subslide"
    },
    "tags": [
     "subslide"
    ]
   },
   "source": [
    "\n",
    "## Black-Box vs. White-Box Partitionierung\n",
    "\n",
    "- Wir können die Partitionierung sowohl als Black-Box- als auch als\n",
    "  White-Box-Technik verwenden\n",
    "- Bei der Black-Box-Partitionierung betrachten wir nur die Spezifikation\n",
    "  der Funktion\n",
    "- Bei der White-Box-Partitionierung betrachten wir auch die Implementierung\n",
    "  der Funktion\n",
    "- Die White-Box-Partitionierung kann uns helfen, Partitionen zu finden, die\n",
    "  auf spezifischen Kontrollflusspfaden durch die Funktion basieren\n",
    "- In vielen Fällen führen beide Vorgehensweisen zum gleichen Ergebnis"
   ]
  },
  {
   "cell_type": "markdown",
   "id": "bbc9a80e2667760f",
   "metadata": {
    "lang": "de",
    "slideshow": {
     "slide_type": "subslide"
    },
    "tags": [
     "subslide"
    ]
   },
   "source": [
    "\n",
    "## Beispiel: Discount-Berechnung\n",
    "\n",
    "- In einem Online-Shop haben wir eine Funktion, die den Rabatt für einen\n",
    "  Einkauf berechnet\n",
    "- Sie hat folgende Spezifikation:\n",
    "  - Eingabe: Gesamtbetrag des Einkaufs\n",
    "  - Rückgabewert: Preis nach Abzug des Rabatts\n",
    "  - Für Einkäufe unter 50€ gibt es keinen Rabatt\n",
    "  - Der maximale Rabatt wird ab 200€ Einkaufswert gewährt und beträgt 20%\n",
    "- Welche Partitionen können wir für diese Funktion identifizieren?\n",
    "- Wie können wir Werte aus jeder Partition testen?"
   ]
  },
  {
   "cell_type": "markdown",
   "id": "b73f47c569bda2bd",
   "metadata": {
    "lang": "de",
    "slideshow": {
     "slide_type": "subslide"
    },
    "tags": [
     "subslide"
    ]
   },
   "source": [
    "\n",
    "- Black-Box Partitionen:\n",
    "  - Einkaufswert < 50€\n",
    "  - 50€ ≤ Einkaufswert < 200€\n",
    "  - Einkaufswert ≥ 200€\n",
    "- Testfälle:\n",
    "  - Einkaufswert = 0€\n",
    "  - Einkaufswert = 25€\n",
    "  - Einkaufswert = 49.99€\n",
    "  - Einkaufswert = 50€ (?)\n",
    "  - Einkaufswert = 100€\n",
    "  - Einkaufswert = 199.99€\n",
    "  - Einkaufswert = 200€\n",
    "  - Einkaufswert = 250€"
   ]
  },
  {
   "cell_type": "markdown",
   "id": "9b3e351e1ea449d0",
   "metadata": {
    "lang": "de",
    "slideshow": {
     "slide_type": "subslide"
    },
    "tags": [
     "subslide"
    ]
   },
   "source": [
    "\n",
    "| Einkaufswert | Test für den Ausgabewert y    |\n",
    "|--------------|:-----------------------------:|\n",
    "| $0€$         | $y = 0€$                      |\n",
    "| $25€$        | $y = 0€$                      |\n",
    "| $49.99€$     | $y = 0€$                      |\n",
    "| $50€$        | $0€ \\leq y < 50€ \\cdot 20\\%$  |\n",
    "| $100€$       | $0€ < y < 100€ \\cdot 20\\%$    |\n",
    "| $199.99€$    | $0€ < y < 199.99€ \\cdot 20\\%$ |\n",
    "| $200€$       | $y = 200€ \\cdot 20\\%$         |\n",
    "| $250€$       | $y = 250€ \\cdot 20\\%$         |"
   ]
  },
  {
   "cell_type": "markdown",
   "id": "85498206c550e247",
   "metadata": {
    "lang": "de",
    "slideshow": {
     "slide_type": "subslide"
    },
    "tags": [
     "subslide"
    ]
   },
   "source": [
    "\n",
    "- Hier ist jetzt die konkrete Implementierung der Funktion."
   ]
  },
  {
   "cell_type": "code",
   "execution_count": null,
   "id": "765fb12e13dfd658",
   "metadata": {
    "tags": [
     "keep"
    ]
   },
   "outputs": [],
   "source": [
    "public static class DiscountCalculator {\n",
    "    public static double calculateDiscount(double purchaseAmount) {\n",
    "        if (purchaseAmount < 0) {\n",
    "            throw new IllegalArgumentException(\"Purchase amount cannot be negative\");\n",
    "        }\n",
    "\n",
    "        if (purchaseAmount < 50) {\n",
    "            return 0;\n",
    "        } else if (purchaseAmount < 100) {\n",
    "            return purchaseAmount * 0.1;\n",
    "        } else if (purchaseAmount < 200) {\n",
    "            return purchaseAmount * 0.15;\n",
    "        } else {\n",
    "            return Math.min(purchaseAmount * 0.2, 100);\n",
    "        }\n",
    "    }\n",
    "}"
   ]
  },
  {
   "cell_type": "markdown",
   "id": "9de3c1901236e59d",
   "metadata": {
    "lang": "de",
    "slideshow": {
     "slide_type": "subslide"
    },
    "tags": [
     "subslide"
    ]
   },
   "source": [
    "\n",
    "- White-Box Partitionen:\n",
    "  - Einkaufswert < 0€\n",
    "  - 0€ ≤ Einkaufswert < 50€\n",
    "  - 50€ ≤ Einkaufswert < 100€\n",
    "  - 100€ ≤ Einkaufswert < 200€\n",
    "  - 200€ ≤ Einkaufswert < 500€ (Maximaler Rabatt von 100€)\n",
    "  - Einkaufswert ≥ 500€"
   ]
  },
  {
   "cell_type": "code",
   "execution_count": null,
   "id": "83e51a02b9df2ac1",
   "metadata": {
    "slideshow": {
     "slide_type": "subslide"
    },
    "tags": [
     "keep",
     "subslide"
    ]
   },
   "outputs": [],
   "source": [
    "%maven org.junit.jupiter:junit-jupiter-api:5.8.2\n",
    "%maven org.junit.jupiter:junit-jupiter-engine:5.8.2\n",
    "%maven org.junit.jupiter:junit-jupiter-params:5.8.2\n",
    "%maven org.junit.platform:junit-platform-launcher:1.9.3"
   ]
  },
  {
   "cell_type": "code",
   "execution_count": null,
   "id": "dd5fc93bfd5a2e7c",
   "metadata": {
    "tags": [
     "keep"
    ]
   },
   "outputs": [],
   "source": [
    "import org.junit.jupiter.api.Test;\n",
    "import org.junit.jupiter.api.BeforeEach;\n",
    "import org.junit.jupiter.params.ParameterizedTest;\n",
    "import org.junit.jupiter.params.provider.ValueSource;\n",
    "\n",
    "import static org.junit.jupiter.api.Assertions.*;"
   ]
  },
  {
   "cell_type": "code",
   "execution_count": null,
   "id": "9e34aa251c4f4aa1",
   "metadata": {
    "slideshow": {
     "slide_type": "subslide"
    },
    "tags": [
     "keep",
     "subslide"
    ]
   },
   "outputs": [],
   "source": [
    "%jars .\n",
    "%classpath testrunner-0.1.jar"
   ]
  },
  {
   "cell_type": "code",
   "execution_count": null,
   "id": "0d9a79fc77081dd9",
   "metadata": {
    "tags": [
     "keep"
    ]
   },
   "outputs": [],
   "source": [
    "import static testrunner.TestRunner.runTests;"
   ]
  },
  {
   "cell_type": "code",
   "execution_count": null,
   "id": "ae6065291bf016c8",
   "metadata": {
    "slideshow": {
     "slide_type": "subslide"
    },
    "tags": [
     "keep",
     "subslide"
    ]
   },
   "outputs": [],
   "source": [
    "class DiscountCalculatorBlackBoxTest {\n",
    "    @ParameterizedTest\n",
    "    @ValueSource(doubles = {0, 25, 49.99})\n",
    "    void testPartitionBelow50(double purchaseAmount) {\n",
    "        assertEquals(0, DiscountCalculator.calculateDiscount(purchaseAmount));\n",
    "    }\n",
    "\n",
    "    @ParameterizedTest\n",
    "    @ValueSource(doubles = {50, 100, 199.99})\n",
    "    void testPartition50to200(double purchaseAmount) {\n",
    "        assertTrue(0 < DiscountCalculator.calculateDiscount(purchaseAmount));\n",
    "        assertTrue(DiscountCalculator.calculateDiscount(purchaseAmount) <= purchaseAmount * 0.2);\n",
    "    }\n",
    "\n",
    "    @ParameterizedTest\n",
    "    @ValueSource(doubles = {200, 250})\n",
    "    void testPartitionAbove200(double purchaseAmount) {\n",
    "        assertEquals(purchaseAmount * 0.2, DiscountCalculator.calculateDiscount(purchaseAmount), 0.001);\n",
    "    }\n",
    "}"
   ]
  },
  {
   "cell_type": "code",
   "execution_count": null,
   "id": "3872f8ab5b679158",
   "metadata": {
    "slideshow": {
     "slide_type": "subslide"
    },
    "tags": [
     "keep",
     "subslide"
    ]
   },
   "outputs": [],
   "source": [
    "runTests(DiscountCalculatorBlackBoxTest.class);"
   ]
  },
  {
   "cell_type": "code",
   "execution_count": null,
   "id": "98ce335cc02acf5b",
   "metadata": {
    "slideshow": {
     "slide_type": "subslide"
    },
    "tags": [
     "keep",
     "subslide"
    ]
   },
   "outputs": [],
   "source": [
    "class DiscountCalculatorWhiteBoxTest {\n",
    "    @ParameterizedTest\n",
    "    @ValueSource(doubles = {-1, -100, -1000})\n",
    "    void testNegativePurchaseAmount(double purchaseAmount) {\n",
    "        assertThrows(IllegalArgumentException.class, () -> DiscountCalculator.calculateDiscount(purchaseAmount));\n",
    "    }\n",
    "\n",
    "    @ParameterizedTest\n",
    "    @ValueSource(doubles = {0, 25, 49.99})\n",
    "    void testPartitionBelow50(double purchaseAmount) {\n",
    "        assertEquals(0, DiscountCalculator.calculateDiscount(purchaseAmount));\n",
    "    }\n",
    "\n",
    "    @ParameterizedTest\n",
    "    @ValueSource(doubles = {50, 75, 99.99})\n",
    "    void testPartition50to200(double purchaseAmount) {\n",
    "        assertEquals(purchaseAmount * 0.1, DiscountCalculator.calculateDiscount(purchaseAmount), 0.001);\n",
    "    }\n",
    "\n",
    "    @ParameterizedTest\n",
    "    @ValueSource(doubles = {100, 150, 199.99})\n",
    "    void testPartition100to200(double purchaseAmount) {\n",
    "        assertEquals(purchaseAmount * 0.15, DiscountCalculator.calculateDiscount(purchaseAmount), 0.001);\n",
    "    }\n",
    "\n",
    "    @ParameterizedTest\n",
    "    @ValueSource(doubles = {200, 250, 499.99})\n",
    "    void testPartitionAbove200(double purchaseAmount) {\n",
    "        assertEquals(purchaseAmount * 0.2, DiscountCalculator.calculateDiscount(purchaseAmount), 0.001);\n",
    "    }\n",
    "\n",
    "    @ParameterizedTest\n",
    "    @ValueSource(doubles = {500, 1000, 10000})\n",
    "    void testPartitionAbove500(double purchaseAmount) {\n",
    "        assertEquals(100, DiscountCalculator.calculateDiscount(purchaseAmount));\n",
    "    }\n",
    "}"
   ]
  },
  {
   "cell_type": "code",
   "execution_count": null,
   "id": "2640b16ad381d07c",
   "metadata": {
    "slideshow": {
     "slide_type": "subslide"
    },
    "tags": [
     "keep",
     "subslide"
    ]
   },
   "outputs": [],
   "source": [
    "runTests(DiscountCalculatorWhiteBoxTest.class);"
   ]
  },
  {
   "cell_type": "markdown",
   "id": "1ee79fc856c3f32e",
   "metadata": {
    "lang": "de",
    "slideshow": {
     "slide_type": "slide"
    },
    "tags": [
     "slide"
    ]
   },
   "source": [
    "\n",
    "## Workshop: Partitionierung\n",
    "\n",
    "In diesem Workshop werden wir die gelernten Techniken auf eine einfache\n",
    "Funktion anwenden. Wir werden eine Funktion `validateAndFormatPhoneNumber`\n",
    "implementieren und testen.\n",
    "\n",
    "Die Funktion soll eine US-Amerikanische Telefonnummer validieren und im\n",
    "Format `(XXX) XXX-XXXX` zurückgeben.\n",
    "\n",
    "- Die Telefonnummer darf nicht `null` oder leer sein, sonst wird eine\n",
    "  `IllegalArgumentException` geworfen.\n",
    "- Die Telefonnummer besteht aus 10 oder 11 Ziffern.\n",
    "- Bei 11 Ziffern muss die Telefonnummer mit einer `1` beginnen.\n",
    "- Wenn eine Telefonnummer weniger als 10 oder mehr als 11 Ziffern hat, wird\n",
    "  eine `IllegalArgumentException` geworfen."
   ]
  },
  {
   "cell_type": "code",
   "execution_count": null,
   "id": "40bac68de7b48b1b",
   "metadata": {
    "slideshow": {
     "slide_type": "subslide"
    },
    "tags": [
     "keep",
     "subslide"
    ]
   },
   "outputs": [],
   "source": [
    "public static class PhoneNumberFormatter {\n",
    "    public static String validateAndFormatPhoneNumber(String phoneNumber) {\n",
    "        if (phoneNumber == null || phoneNumber.isEmpty()) {\n",
    "            throw new IllegalArgumentException(\"Phone number cannot be null or empty\");\n",
    "        }\n",
    "\n",
    "        String digitsOnly = phoneNumber.replaceAll(\"\\\\D\", \"\");\n",
    "\n",
    "        if (digitsOnly.length() < 10 || digitsOnly.length() > 11) {\n",
    "            throw new IllegalArgumentException(\"Phone number must have 10 or 11 digits\");\n",
    "        }\n",
    "\n",
    "        if (digitsOnly.length() == 11 && !digitsOnly.startsWith(\"1\")) {\n",
    "            throw new IllegalArgumentException(\"11-digit numbers must start with 1\");\n",
    "        }\n",
    "\n",
    "        String areaCode = digitsOnly.substring(digitsOnly.length() - 10, digitsOnly.length() - 7);\n",
    "        String firstPart = digitsOnly.substring(digitsOnly.length() - 7, digitsOnly.length() - 4);\n",
    "        String secondPart = digitsOnly.substring(digitsOnly.length() - 4);\n",
    "\n",
    "        return String.format(\"(%s) %s-%s\", areaCode, firstPart, secondPart);\n",
    "    }\n",
    "}"
   ]
  },
  {
   "cell_type": "code",
   "execution_count": null,
   "id": "8f69dc0d54091e8f",
   "metadata": {
    "tags": [
     "keep"
    ]
   },
   "outputs": [],
   "source": [
    "PhoneNumberFormatter.validateAndFormatPhoneNumber(\"1234567890\")"
   ]
  },
  {
   "cell_type": "code",
   "execution_count": null,
   "id": "adabada67f8d9f70",
   "metadata": {
    "slideshow": {
     "slide_type": "subslide"
    },
    "tags": [
     "keep",
     "subslide"
    ]
   },
   "outputs": [],
   "source": [
    "%maven org.junit.jupiter:junit-jupiter-api:5.8.2\n",
    "%maven org.junit.jupiter:junit-jupiter-engine:5.8.2\n",
    "%maven org.junit.jupiter:junit-jupiter-params:5.8.2\n",
    "%maven org.junit.platform:junit-platform-launcher:1.9.3"
   ]
  },
  {
   "cell_type": "code",
   "execution_count": null,
   "id": "9f88a57bc21839c9",
   "metadata": {
    "tags": [
     "keep"
    ]
   },
   "outputs": [],
   "source": [
    "import org.junit.jupiter.api.Test;\n",
    "import org.junit.jupiter.api.BeforeEach;\n",
    "import org.junit.jupiter.params.ParameterizedTest;\n",
    "import org.junit.jupiter.params.provider.MethodSource;\n",
    "\n",
    "import static org.junit.jupiter.api.Assertions.*;"
   ]
  },
  {
   "cell_type": "code",
   "execution_count": null,
   "id": "033ea9be952834ee",
   "metadata": {
    "slideshow": {
     "slide_type": "subslide"
    },
    "tags": [
     "keep",
     "subslide"
    ]
   },
   "outputs": [],
   "source": [
    "%jars .\n",
    "%classpath testrunner-0.1.jar"
   ]
  },
  {
   "cell_type": "code",
   "execution_count": null,
   "id": "f6a456547acf1c8a",
   "metadata": {
    "lines_to_next_cell": 2,
    "tags": [
     "keep"
    ]
   },
   "outputs": [],
   "source": [
    "import static testrunner.TestRunner.runTests;"
   ]
  },
  {
   "cell_type": "markdown",
   "id": "40e400e454c56af4",
   "metadata": {
    "lang": "de",
    "slideshow": {
     "slide_type": "slide"
    },
    "tags": [
     "slide"
    ]
   },
   "source": [
    "\n",
    "- Identifizieren Sie Äquivalenzklassen für die Eingaben der Funktion.\n",
    "- Implementieren Sie Testfälle für jede Partition.\n",
    "- Welche Black-Box-Partitionen können Sie identifizieren?\n",
    "- Welche White-Box-Partitionen können Sie identifizieren?"
   ]
  },
  {
   "cell_type": "code",
   "execution_count": null,
   "id": "c2130d09c4993dcd",
   "metadata": {
    "slideshow": {
     "slide_type": "subslide"
    },
    "tags": [
     "start",
     "subslide"
    ]
   },
   "outputs": [],
   "source": [
    "class PhoneNumberFormatterTest {\n",
    "\n",
    "    @Test\n",
    "    void testImportsWork() {\n",
    "        assertTrue(true);\n",
    "    }\n",
    "\n",
    "    // TODO: Add more test cases here\n",
    "\n",
    "}"
   ]
  },
  {
   "cell_type": "code",
   "execution_count": null,
   "id": "c210d4e1713f171c",
   "metadata": {},
   "outputs": [],
   "source": []
  },
  {
   "cell_type": "code",
   "execution_count": null,
   "id": "6b4e03423667dbb7",
   "metadata": {},
   "outputs": [],
   "source": []
  }
 ],
 "metadata": {
  "jupytext": {
   "cell_metadata_filter": "tags,lang,-all",
   "encoding": "// -*- coding: utf-8 -*-",
   "main_language": "java",
   "notebook_metadata_filter": "-all"
  },
  "kernelspec": {
   "display_name": "Java",
   "language": "java",
   "name": "java"
  },
  "language_info": {
   "codemirror_mode": "java",
   "file_extension": ".java",
   "mimetype": "text/java",
   "name": "Java",
   "pygments_lexer": "java",
   "version": ""
  }
 },
 "nbformat": 4,
 "nbformat_minor": 5
}
