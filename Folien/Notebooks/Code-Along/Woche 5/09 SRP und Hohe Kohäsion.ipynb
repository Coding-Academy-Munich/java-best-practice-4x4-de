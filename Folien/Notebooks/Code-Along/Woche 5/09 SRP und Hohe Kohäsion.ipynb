{
 "cells": [
  {
   "cell_type": "markdown",
   "id": "49a3dd06457dd438",
   "metadata": {
    "lang": "de",
    "slideshow": {
     "slide_type": "slide"
    },
    "tags": [
     "slide"
    ]
   },
   "source": [
    "\n",
    "<img src=\"data:image/svg+xml;base64,PHN2ZyB4bWxucz0iaHR0cDovL3d3dy53My5vcmcvMjAwMC9zdmciIHdpZHRoPSI2NCIgaGVpZ2h0\n",
    "PSI2NCIgdmlld0JveD0iMCAwIDMyIDMyIj48cGF0aCBkPSJNMTEuNjIyIDI0Ljc0cy0xLjIzLjc0\n",
    "OC44NTUuOTYyYzIuNTEuMzIgMy44NDcuMjY3IDYuNjI1LS4yNjdhMTAuMDIgMTAuMDIgMCAwIDAg\n",
    "MS43NjMuODU1Yy02LjI1IDIuNjcyLTE0LjE2LS4xNi05LjI0NC0xLjU1em0tLjgtMy40NzNzLTEu\n",
    "MzM2IDEuMDE1Ljc0OCAxLjIzYzIuNzI1LjI2NyA0Ljg2Mi4zMiA4LjU1LS40MjdhMy4yNiAzLjI2\n",
    "IDAgMCAwIDEuMjgyLjgwMWMtNy41MzQgMi4yNDQtMTUuOTc2LjIxNC0xMC41OC0xLjYwM3ptMTQu\n",
    "NzQ3IDYuMDlzLjkwOC43NDgtMS4wMTUgMS4zMzZjLTMuNTggMS4wNy0xNS4wMTQgMS4zOS0xOC4y\n",
    "MiAwLTEuMTIyLS40OCAxLjAxNS0xLjE3NSAxLjctMS4yODIuNjk1LS4xNiAxLjA3LS4xNiAxLjA3\n",
    "LS4xNi0xLjIzLS44NTUtOC4xNzUgMS43NjMtMy41MjYgMi41MSAxMi43NyAyLjA4NCAyMy4yOTYt\n",
    "LjkwOCAxOS45ODMtMi40MDR6TTEyLjIgMTcuNjMzcy01LjgyNCAxLjM5LTIuMDg0IDEuODdjMS42\n",
    "MDMuMjE0IDQuNzU1LjE2IDcuNjk0LS4wNTMgMi40MDQtLjIxNCA0LjgxLS42NCA0LjgxLS42NHMt\n",
    "Ljg1NS4zNzQtMS40NDMuNzQ4Yy01LjkzIDEuNTUtMTcuMzEyLjg1NS0xNC4wNTItLjc0OCAyLjc3\n",
    "OC0xLjMzNiA1LjA3Ni0xLjE3NSA1LjA3Ni0xLjE3NXptMTAuNDIgNS44MjRjNS45ODQtMy4xIDMu\n",
    "MjA2LTYuMDkgMS4yODItNS43MTctLjQ4LjEwNy0uNjk1LjIxNC0uNjk1LjIxNHMuMTYtLjMyLjUz\n",
    "NC0uNDI3YzMuNzk0LTEuMzM2IDYuNzg2IDQuMDA3LTEuMjMgNi4wOSAwIDAgLjA1My0uMDUzLjEw\n",
    "Ny0uMTZ6bS05LjgzIDguNDQyYzUuNzcuMzc0IDE0LjU4Ny0uMjE0IDE0LjgtMi45NCAwIDAtLjQy\n",
    "NyAxLjA3LTQuNzU1IDEuODctNC45MTYuOTA4LTExLjAwNy44LTE0LjU4Ny4yMTQgMCAwIC43NDgu\n",
    "NjQgNC41NDIuODU1eiIgZmlsbD0iIzRlNzg5NiIvPjxwYXRoIGQ9Ik0xOC45OTYuMDAxczMuMzEz\n",
    "IDMuMzY2LTMuMTUyIDguNDQyYy01LjE4MyA0LjExNC0xLjE3NSA2LjQ2NSAwIDkuMTM3LTMuMDQ2\n",
    "LTIuNzI1LTUuMjM2LTUuMTMtMy43NC03LjM3M0MxNC4yOTQgNi44OTMgMjAuMzMyIDUuMyAxOC45\n",
    "OTYuMDAxem0tMS43IDE1LjMzNWMxLjU1IDEuNzYzLS40MjcgMy4zNjYtLjQyNyAzLjM2NnMzLjk1\n",
    "NC0yLjAzIDIuMTM3LTQuNTQyYy0xLjY1Ni0yLjQwNC0yLjk0LTMuNTggNC4wMDctNy41ODcgMCAw\n",
    "LTEwLjk1MyAyLjcyNS01LjcxNyA4Ljc2M3oiIGZpbGw9IiNmNTgyMTkiLz48L3N2Zz4=\n",
    "\"\n",
    "     alt=\"Java Logo\" style=\"display:block;margin:auto;width:5%\"/>\n",
    "<br>\n",
    "\n",
    "<div style=\"text-align:center; font-size:200%;\">\n",
    " <b>SRP und Hohe Kohäsion</b>\n",
    "</div>\n",
    "<br/>\n",
    "<div style=\"text-align:center; font-size:120%;\">Dr. Matthias Hölzl</div>\n",
    "<br/>\n",
    "<div style=\"text-align:center;\">Coding-Akademie München</div>\n",
    "<br/>"
   ]
  },
  {
   "cell_type": "markdown",
   "id": "04c5741553fb7628",
   "metadata": {
    "lang": "de",
    "slideshow": {
     "slide_type": "subslide"
    },
    "tags": [
     "subslide"
    ]
   },
   "source": [
    "\n",
    "- Problem: Zu viel Funktionalität in einer Klasse\n",
    "- Sowohl SOLID als auch GRASP haben jeweils ein Pattern dafür/dagegen"
   ]
  },
  {
   "cell_type": "markdown",
   "id": "e74c7fd4b514b002",
   "metadata": {
    "lang": "de",
    "slideshow": {
     "slide_type": "subslide"
    },
    "tags": [
     "subslide"
    ]
   },
   "source": [
    "\n",
    "## SOLID: Single Responsibility Principle (SRP)\n",
    "\n",
    "Alternative Formulierungen:\n",
    "\n",
    "- Ein Modul sollte nur einen einzigen Grund haben, sich zu ändern\n",
    "- Ein Modul sollte nur gegenüber einem einzigen Akteur verantwortlich sein."
   ]
  },
  {
   "cell_type": "markdown",
   "id": "52a81afc91f9b91f",
   "metadata": {
    "lang": "de",
    "slideshow": {
     "slide_type": "subslide"
    },
    "tags": [
     "subslide"
    ]
   },
   "source": [
    "\n",
    "- Beispiel (aus Clean Architecture):\n",
    "\n",
    "```java\n",
    "class Employee {\n",
    "    public void calculatePay() {}  // <-- Finanzabteilung (CFO)\n",
    "    public void reportHours() {}   // <-- Human Resources (COO)\n",
    "    public void save() {}          // <-- Datenbank Administrator (CTO)\n",
    "}\n",
    "```"
   ]
  },
  {
   "cell_type": "markdown",
   "id": "9a7c44ab80649f26",
   "metadata": {
    "lang": "de",
    "slideshow": {
     "slide_type": "slide"
    },
    "tags": [
     "slide"
    ]
   },
   "source": [
    "\n",
    "## GRASP: Hohe Kohäsion (High Cohesion)\n",
    "\n",
    "### Problem\n",
    "\n",
    "- Wie definieren wir Klassen, die fokussiert, verständlich und wartbar sind?\n",
    "\n",
    "### Lösung\n",
    "\n",
    "- Weise Verantwortlichkeiten so zu, dass die Kohäsion hoch ist\n",
    "- Verwende dieses Prinzip um Design-Alternativen zu bewerten\n",
    "\n",
    "- Als Nebeneffekt wird die Kopplung reduziert"
   ]
  },
  {
   "cell_type": "markdown",
   "id": "2947bd743dd26c2a",
   "metadata": {
    "lang": "de",
    "slideshow": {
     "slide_type": "subslide"
    },
    "tags": [
     "subslide"
    ]
   },
   "source": [
    "\n",
    "### Was ist Kohäsion?\n",
    "\n",
    "Kohäsion ist ein Maß dafür, wie gut verschiedene Teile eines Artefakts\n",
    "zusammenpassen\n",
    "\n",
    "- Klare Abstraktion\n",
    "- Guter Name\n",
    "- Wenige Änderungsgründe"
   ]
  },
  {
   "cell_type": "markdown",
   "id": "3d56f55ea13b8c33",
   "metadata": {
    "lang": "de",
    "slideshow": {
     "slide_type": "subslide"
    },
    "tags": [
     "subslide"
    ]
   },
   "source": [
    "\n",
    "### Hohe Kohäsion\n",
    "\n",
    "- Erleichtert Entwicklung, Wiederverwendung, Testen, Performanz\n",
    "\n",
    "### Niedrige Kohäsion\n",
    "\n",
    "- Erschwert das Verständnis des Codes, das Finden von Stellen für Änderungen\n",
    "- Führt zu großen Klassen und/oder hoher Kopplung\n",
    "- Hat fast immer einen **großen negativen Effekt**\n",
    "- Ist **schwer zu beheben**"
   ]
  },
  {
   "cell_type": "markdown",
   "id": "a4b591a05a612a08",
   "metadata": {
    "lang": "de",
    "slideshow": {
     "slide_type": "subslide"
    },
    "tags": [
     "subslide"
    ]
   },
   "source": [
    "\n",
    "### Wie erkennen wir niedrige Kohäsion?\n",
    "\n",
    "- Schwierigkeiten, Namen zu finden\n",
    "- Viele Änderungsgründe\n",
    "- Code Smells:\n",
    "  - Divergente Änderungen (divergent change)\n",
    "  - Schrotflinten-Operation (shotgun surgery)"
   ]
  },
  {
   "cell_type": "markdown",
   "id": "274f8d794468a337",
   "metadata": {
    "lang": "de",
    "slideshow": {
     "slide_type": "subslide"
    },
    "tags": [
     "subslide"
    ]
   },
   "source": [
    "\n",
    "### Verwandte Themen\n",
    "\n",
    "- Schichten/Hexagonale Architektur\n",
    "- SRP\n",
    "- Command/Query Separation (CQS)\n",
    "- Aspekte (Separation of Concerns)"
   ]
  }
 ],
 "metadata": {
  "jupytext": {
   "cell_metadata_filter": "tags,lang,-all",
   "encoding": "// -*- coding: utf-8 -*-",
   "main_language": "java",
   "notebook_metadata_filter": "-all"
  },
  "kernelspec": {
   "display_name": "Java",
   "language": "java",
   "name": "java"
  },
  "language_info": {
   "codemirror_mode": "java",
   "file_extension": ".java",
   "mimetype": "text/java",
   "name": "Java",
   "pygments_lexer": "java",
   "version": ""
  }
 },
 "nbformat": 4,
 "nbformat_minor": 5
}
