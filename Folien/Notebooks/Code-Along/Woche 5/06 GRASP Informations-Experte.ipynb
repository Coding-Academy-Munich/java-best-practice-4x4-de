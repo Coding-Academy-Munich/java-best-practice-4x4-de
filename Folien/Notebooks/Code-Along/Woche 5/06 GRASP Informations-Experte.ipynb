{
 "cells": [
  {
   "cell_type": "markdown",
   "id": "c0641a45f466dc89",
   "metadata": {
    "lang": "de",
    "slideshow": {
     "slide_type": "slide"
    },
    "tags": [
     "slide"
    ]
   },
   "source": [
    "\n",
    "<img src=\"data:image/svg+xml;base64,PHN2ZyB4bWxucz0iaHR0cDovL3d3dy53My5vcmcvMjAwMC9zdmciIHdpZHRoPSI2NCIgaGVpZ2h0\n",
    "PSI2NCIgdmlld0JveD0iMCAwIDMyIDMyIj48cGF0aCBkPSJNMTEuNjIyIDI0Ljc0cy0xLjIzLjc0\n",
    "OC44NTUuOTYyYzIuNTEuMzIgMy44NDcuMjY3IDYuNjI1LS4yNjdhMTAuMDIgMTAuMDIgMCAwIDAg\n",
    "MS43NjMuODU1Yy02LjI1IDIuNjcyLTE0LjE2LS4xNi05LjI0NC0xLjU1em0tLjgtMy40NzNzLTEu\n",
    "MzM2IDEuMDE1Ljc0OCAxLjIzYzIuNzI1LjI2NyA0Ljg2Mi4zMiA4LjU1LS40MjdhMy4yNiAzLjI2\n",
    "IDAgMCAwIDEuMjgyLjgwMWMtNy41MzQgMi4yNDQtMTUuOTc2LjIxNC0xMC41OC0xLjYwM3ptMTQu\n",
    "NzQ3IDYuMDlzLjkwOC43NDgtMS4wMTUgMS4zMzZjLTMuNTggMS4wNy0xNS4wMTQgMS4zOS0xOC4y\n",
    "MiAwLTEuMTIyLS40OCAxLjAxNS0xLjE3NSAxLjctMS4yODIuNjk1LS4xNiAxLjA3LS4xNiAxLjA3\n",
    "LS4xNi0xLjIzLS44NTUtOC4xNzUgMS43NjMtMy41MjYgMi41MSAxMi43NyAyLjA4NCAyMy4yOTYt\n",
    "LjkwOCAxOS45ODMtMi40MDR6TTEyLjIgMTcuNjMzcy01LjgyNCAxLjM5LTIuMDg0IDEuODdjMS42\n",
    "MDMuMjE0IDQuNzU1LjE2IDcuNjk0LS4wNTMgMi40MDQtLjIxNCA0LjgxLS42NCA0LjgxLS42NHMt\n",
    "Ljg1NS4zNzQtMS40NDMuNzQ4Yy01LjkzIDEuNTUtMTcuMzEyLjg1NS0xNC4wNTItLjc0OCAyLjc3\n",
    "OC0xLjMzNiA1LjA3Ni0xLjE3NSA1LjA3Ni0xLjE3NXptMTAuNDIgNS44MjRjNS45ODQtMy4xIDMu\n",
    "MjA2LTYuMDkgMS4yODItNS43MTctLjQ4LjEwNy0uNjk1LjIxNC0uNjk1LjIxNHMuMTYtLjMyLjUz\n",
    "NC0uNDI3YzMuNzk0LTEuMzM2IDYuNzg2IDQuMDA3LTEuMjMgNi4wOSAwIDAgLjA1My0uMDUzLjEw\n",
    "Ny0uMTZ6bS05LjgzIDguNDQyYzUuNzcuMzc0IDE0LjU4Ny0uMjE0IDE0LjgtMi45NCAwIDAtLjQy\n",
    "NyAxLjA3LTQuNzU1IDEuODctNC45MTYuOTA4LTExLjAwNy44LTE0LjU4Ny4yMTQgMCAwIC43NDgu\n",
    "NjQgNC41NDIuODU1eiIgZmlsbD0iIzRlNzg5NiIvPjxwYXRoIGQ9Ik0xOC45OTYuMDAxczMuMzEz\n",
    "IDMuMzY2LTMuMTUyIDguNDQyYy01LjE4MyA0LjExNC0xLjE3NSA2LjQ2NSAwIDkuMTM3LTMuMDQ2\n",
    "LTIuNzI1LTUuMjM2LTUuMTMtMy43NC03LjM3M0MxNC4yOTQgNi44OTMgMjAuMzMyIDUuMyAxOC45\n",
    "OTYuMDAxem0tMS43IDE1LjMzNWMxLjU1IDEuNzYzLS40MjcgMy4zNjYtLjQyNyAzLjM2NnMzLjk1\n",
    "NC0yLjAzIDIuMTM3LTQuNTQyYy0xLjY1Ni0yLjQwNC0yLjk0LTMuNTggNC4wMDctNy41ODcgMCAw\n",
    "LTEwLjk1MyAyLjcyNS01LjcxNyA4Ljc2M3oiIGZpbGw9IiNmNTgyMTkiLz48L3N2Zz4=\n",
    "\"\n",
    "     alt=\"Java Logo\" style=\"display:block;margin:auto;width:5%\"/>\n",
    "<br>\n",
    "\n",
    "<div style=\"text-align:center; font-size:200%;\">\n",
    " <b>GRASP: Informations-Experte</b>\n",
    "</div>\n",
    "<br/>\n",
    "<div style=\"text-align:center; font-size:120%;\">Dr. Matthias Hölzl</div>\n",
    "<br/>\n",
    "<div style=\"text-align:center;\">Coding-Akademie München</div>\n",
    "<br/>"
   ]
  },
  {
   "cell_type": "markdown",
   "id": "e952d8361184d1d3",
   "metadata": {
    "lang": "de",
    "slideshow": {
     "slide_type": "slide"
    },
    "tags": [
     "slide"
    ]
   },
   "source": [
    "\n",
    "- Use Case \"Spiel initialisieren\"\n",
    "- Bisher:\n",
    "  - `World` und `Location` Klassen\n",
    "  - `World` erzeugt alle `Location` Objekte\n",
    "- Nächster Schritt:\n",
    "  - Speichern von Information über die Verbindung zwischen den `Location`\n",
    "    Objekten\n",
    "  - Hilfreich dazu: Finden von Locations anhand ihres Namens\n",
    "- Frage:\n",
    "  - Wer findet `Location` Objekte anhand ihres Namens?"
   ]
  },
  {
   "cell_type": "markdown",
   "id": "d4aa8ff45747358b",
   "metadata": {
    "lang": "de",
    "slideshow": {
     "slide_type": "subslide"
    },
    "tags": [
     "subslide"
    ]
   },
   "source": [
    "\n",
    "## Kandidaten"
   ]
  },
  {
   "cell_type": "markdown",
   "id": "105a829fae41ec18",
   "metadata": {},
   "source": [
    "<div style=\"float:left;margin:auto;padding:80px 0;width:25%\">\n",
    "<ul>\n",
    "<li> <code>Player</code></li>\n",
    "<li> <code>Game</code></li>\n",
    "<li> <code>Pawn</code></li>\n",
    "<li> <code>Location</code></li>\n",
    "<li> <code>World</code></li>\n",
    "</ul>\n",
    "</div>\n",
    "<img src=\"img/adv-domain-03-small.svg\"\n",
    "     style=\"float:right;margin:auto;width:70%\"/>"
   ]
  },
  {
   "cell_type": "markdown",
   "id": "c09c6879db2879c2",
   "metadata": {
    "lang": "de",
    "slideshow": {
     "slide_type": "slide"
    },
    "tags": [
     "slide"
    ]
   },
   "source": [
    "\n",
    "## Informations-Experte (engl. \"Information Expert\", GRASP)\n",
    "\n",
    "### Frage\n",
    "\n",
    "An welche Klasse sollen wir eine Verantwortung delegieren?\n",
    "\n",
    "### Antwort\n",
    "\n",
    "An die Klasse, die die meisten Informationen hat, die für die Erfüllung der\n",
    "Verantwortung notwendig sind."
   ]
  },
  {
   "cell_type": "markdown",
   "id": "866df3d2a8a0feed",
   "metadata": {
    "lang": "de",
    "slideshow": {
     "slide_type": "subslide"
    },
    "tags": [
     "subslide"
    ]
   },
   "source": [
    "\n",
    "## Wer ist der Informationsexperte?"
   ]
  },
  {
   "cell_type": "markdown",
   "id": "3cd331e0dabf023f",
   "metadata": {},
   "source": [
    "<div style=\"float:left;margin:auto;padding:80px 0;width:25%\">\n",
    "<ul>\n",
    "<li> <strike><code>Player</code></strike></li>\n",
    "<li> <strike><code>Game</code></strike></li>\n",
    "<li> <strike><code>Pawn</code></strike></li>\n",
    "<li> <strike><code>Location</code></strike></li>\n",
    "<li> <b><code>World</code></b></li>\n",
    "</ul>\n",
    "</div>\n",
    "<img src=\"img/adv-domain-03-small.svg\"\n",
    "     style=\"float:right;margin:auto;width:70%\"/>"
   ]
  },
  {
   "cell_type": "code",
   "execution_count": null,
   "id": "5b656588ee6ef31b",
   "metadata": {
    "slideshow": {
     "slide_type": "subslide"
    },
    "tags": [
     "keep",
     "subslide"
    ]
   },
   "outputs": [],
   "source": [
    "import java.nio.file.*;\n",
    "import java.util.stream.Stream;"
   ]
  },
  {
   "cell_type": "code",
   "execution_count": null,
   "id": "0011f74c5f536dd0",
   "metadata": {
    "tags": [
     "keep"
    ]
   },
   "outputs": [],
   "source": [
    "public class FileFinder {\n",
    "    public static Path find(String name) throws java.io.IOException {\n",
    "        try (Stream<Path> paths = Files.walk(Paths.get(\"\"))) {\n",
    "            return paths\n",
    "                    .filter(p -> p.getFileName().toString().equals(name))\n",
    "                    .findFirst()\n",
    "                    .orElseThrow(() -> new RuntimeException(\"File not found\"));\n",
    "        }\n",
    "    }\n",
    "}"
   ]
  },
  {
   "cell_type": "code",
   "execution_count": null,
   "id": "4272c5e28d3ae871",
   "metadata": {
    "slideshow": {
     "slide_type": "subslide"
    },
    "tags": [
     "keep",
     "subslide"
    ]
   },
   "outputs": [],
   "source": [
    "%maven com.fasterxml.jackson.core:jackson-databind:2.17.2"
   ]
  },
  {
   "cell_type": "code",
   "execution_count": null,
   "id": "04c0fb5215c91bea",
   "metadata": {
    "tags": [
     "keep"
    ]
   },
   "outputs": [],
   "source": [
    "import com.fasterxml.jackson.core.type.TypeReference;\n",
    "import com.fasterxml.jackson.databind.ObjectMapper;\n",
    "import java.io.IOException;\n",
    "import java.util.List;\n",
    "import java.util.Map;\n",
    "import java.util.Collections;"
   ]
  },
  {
   "cell_type": "code",
   "execution_count": null,
   "id": "ebfc6b7f7da73f0e",
   "metadata": {
    "slideshow": {
     "slide_type": "subslide"
    },
    "tags": [
     "keep",
     "subslide"
    ]
   },
   "outputs": [],
   "source": [
    "public class JsonLoader {\n",
    "    public static List<Map<String, Object>> loadData(String fileName) {\n",
    "        ObjectMapper objectMapper = new ObjectMapper();\n",
    "        try {\n",
    "            List<Map<String, Object>> simpleLocations = objectMapper.readValue(\n",
    "                FileFinder.find(fileName).toFile(),\n",
    "                new TypeReference<List<Map<String, Object>>>() {}\n",
    "            );\n",
    "            return simpleLocations;\n",
    "        } catch (IOException e) {\n",
    "            e.printStackTrace();\n",
    "            return Collections.emptyList(); // Return an empty list in case of an exception\n",
    "        }\n",
    "    }\n",
    "}"
   ]
  },
  {
   "cell_type": "code",
   "execution_count": null,
   "id": "001060764dba5a72",
   "metadata": {
    "tags": [
     "keep"
    ]
   },
   "outputs": [],
   "source": [
    "List<Map<String, Object>> simpleLocationsData = JsonLoader.loadData(\"simple-locations.json\");"
   ]
  },
  {
   "cell_type": "code",
   "execution_count": null,
   "id": "fc1b7c19e7806373",
   "metadata": {
    "slideshow": {
     "slide_type": "subslide"
    },
    "tags": [
     "keep",
     "subslide"
    ]
   },
   "outputs": [],
   "source": [
    "public record Location(String name, String description) {\n",
    "\n",
    "    public static Location fromData(Map<String, Object> data) {\n",
    "        String name = (String) data.get(\"name\");\n",
    "        String desc = (String) data.getOrDefault(\"description\", \"\");\n",
    "        return new Location(name, desc);\n",
    "    }\n",
    "\n",
    "    @Override\n",
    "    public String toString() {\n",
    "        return \"Location{\" + \"name='\" + name + '\\'' + \", description='\" + description + '\\'' + '}';\n",
    "    }\n",
    "}"
   ]
  },
  {
   "cell_type": "code",
   "execution_count": null,
   "id": "6fb38b5dd96956b9",
   "metadata": {
    "slideshow": {
     "slide_type": "subslide"
    },
    "tags": [
     "subslide",
     "keep"
    ]
   },
   "outputs": [],
   "source": [
    "import java.util.stream.Collectors;"
   ]
  },
  {
   "cell_type": "code",
   "execution_count": null,
   "id": "8ca743ad1bfae82c",
   "metadata": {
    "slideshow": {
     "slide_type": "subslide"
    },
    "tags": [
     "start",
     "subslide"
    ]
   },
   "outputs": [],
   "source": [
    "public record World(Map<String, Location> locations, String initialLocationName) {\n",
    "    public World(Map<String, Location> locations, String initialLocationName) {\n",
    "        this.locations = new HashMap<>(locations);\n",
    "        this.initialLocationName = initialLocationName;\n",
    "    }\n",
    "\n",
    "    public static World fromJsonFile(String fileName) {\n",
    "        List<Map<String, Object>> locationData = JsonLoader.loadData(fileName);\n",
    "        return fromLocationData(locationData);\n",
    "    }\n",
    "\n",
    "    public static World fromLocationData(\n",
    "            List<Map<String, Object>> locationData) {\n",
    "        Map<String, Location> locations = locationData.stream().map(Location::fromData).collect(\n",
    "                Collectors.toMap(Location::name, location -> location));\n",
    "        String initialLocationName = (String) locationData.get(0).get(\"name\");\n",
    "        return new World(locations, initialLocationName);\n",
    "    }\n",
    "\n",
    "    @Override\n",
    "    public String toString() {\n",
    "        String initialLocationLine = \"  Initial location name: '\" + initialLocationName + '\\'' + \"\\n\";\n",
    "        String locationLines = locations.values().stream().map(location -> \"    \" + location.toString()).collect(\n",
    "                Collectors.joining(\"\\n\"));\n",
    "        return \"World{\\n\" + initialLocationLine + \"  Locations:\\n\" + locationLines + '}';\n",
    "    }\n",
    "}"
   ]
  },
  {
   "cell_type": "code",
   "execution_count": null,
   "id": "6f363180997db47f",
   "metadata": {
    "slideshow": {
     "slide_type": "subslide"
    },
    "tags": [
     "subslide"
    ]
   },
   "outputs": [],
   "source": []
  },
  {
   "cell_type": "code",
   "execution_count": null,
   "id": "cd7b2b8e2d55948e",
   "metadata": {},
   "outputs": [],
   "source": []
  },
  {
   "cell_type": "code",
   "execution_count": null,
   "id": "7755131e130aa22f",
   "metadata": {},
   "outputs": [],
   "source": []
  },
  {
   "cell_type": "code",
   "execution_count": null,
   "id": "8fdd8b9c4852e44b",
   "metadata": {},
   "outputs": [],
   "source": []
  },
  {
   "cell_type": "markdown",
   "id": "5aa9449ba2012ee9",
   "metadata": {
    "lang": "de",
    "slideshow": {
     "slide_type": "subslide"
    },
    "tags": [
     "subslide"
    ]
   },
   "source": [
    "\n",
    "- `Code/completed/grasp-adventure/src/main/java/adventure/v2` entspricht\n",
    "  unserem aktuellen Stand"
   ]
  }
 ],
 "metadata": {
  "jupytext": {
   "cell_metadata_filter": "lang,tags,-all",
   "encoding": "// -*- coding: utf-8 -*-",
   "main_language": "java",
   "notebook_metadata_filter": "-all"
  },
  "kernelspec": {
   "display_name": "Java",
   "language": "java",
   "name": "java"
  },
  "language_info": {
   "codemirror_mode": "java",
   "file_extension": ".java",
   "mimetype": "text/java",
   "name": "Java",
   "pygments_lexer": "java",
   "version": ""
  }
 },
 "nbformat": 4,
 "nbformat_minor": 5
}
