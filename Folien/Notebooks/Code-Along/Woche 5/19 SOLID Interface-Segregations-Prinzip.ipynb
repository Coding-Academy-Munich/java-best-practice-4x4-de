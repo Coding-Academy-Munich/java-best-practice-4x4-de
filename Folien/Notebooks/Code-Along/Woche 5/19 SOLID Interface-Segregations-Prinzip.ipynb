{
 "cells": [
  {
   "cell_type": "markdown",
   "id": "a2ccd38478f7a09a",
   "metadata": {
    "lang": "de",
    "slideshow": {
     "slide_type": "slide"
    },
    "tags": [
     "slide"
    ]
   },
   "source": [
    "<!--\n",
    "clang-format off\n",
    "-->\n",
    "\n",
    "<img src=\"data:image/svg+xml;base64,PHN2ZyB4bWxucz0iaHR0cDovL3d3dy53My5vcmcvMjAwMC9zdmciIHdpZHRoPSI2NCIgaGVpZ2h0\n",
    "PSI2NCIgdmlld0JveD0iMCAwIDMyIDMyIj48cGF0aCBkPSJNMTEuNjIyIDI0Ljc0cy0xLjIzLjc0\n",
    "OC44NTUuOTYyYzIuNTEuMzIgMy44NDcuMjY3IDYuNjI1LS4yNjdhMTAuMDIgMTAuMDIgMCAwIDAg\n",
    "MS43NjMuODU1Yy02LjI1IDIuNjcyLTE0LjE2LS4xNi05LjI0NC0xLjU1em0tLjgtMy40NzNzLTEu\n",
    "MzM2IDEuMDE1Ljc0OCAxLjIzYzIuNzI1LjI2NyA0Ljg2Mi4zMiA4LjU1LS40MjdhMy4yNiAzLjI2\n",
    "IDAgMCAwIDEuMjgyLjgwMWMtNy41MzQgMi4yNDQtMTUuOTc2LjIxNC0xMC41OC0xLjYwM3ptMTQu\n",
    "NzQ3IDYuMDlzLjkwOC43NDgtMS4wMTUgMS4zMzZjLTMuNTggMS4wNy0xNS4wMTQgMS4zOS0xOC4y\n",
    "MiAwLTEuMTIyLS40OCAxLjAxNS0xLjE3NSAxLjctMS4yODIuNjk1LS4xNiAxLjA3LS4xNiAxLjA3\n",
    "LS4xNi0xLjIzLS44NTUtOC4xNzUgMS43NjMtMy41MjYgMi41MSAxMi43NyAyLjA4NCAyMy4yOTYt\n",
    "LjkwOCAxOS45ODMtMi40MDR6TTEyLjIgMTcuNjMzcy01LjgyNCAxLjM5LTIuMDg0IDEuODdjMS42\n",
    "MDMuMjE0IDQuNzU1LjE2IDcuNjk0LS4wNTMgMi40MDQtLjIxNCA0LjgxLS42NCA0LjgxLS42NHMt\n",
    "Ljg1NS4zNzQtMS40NDMuNzQ4Yy01LjkzIDEuNTUtMTcuMzEyLjg1NS0xNC4wNTItLjc0OCAyLjc3\n",
    "OC0xLjMzNiA1LjA3Ni0xLjE3NSA1LjA3Ni0xLjE3NXptMTAuNDIgNS44MjRjNS45ODQtMy4xIDMu\n",
    "MjA2LTYuMDkgMS4yODItNS43MTctLjQ4LjEwNy0uNjk1LjIxNC0uNjk1LjIxNHMuMTYtLjMyLjUz\n",
    "NC0uNDI3YzMuNzk0LTEuMzM2IDYuNzg2IDQuMDA3LTEuMjMgNi4wOSAwIDAgLjA1My0uMDUzLjEw\n",
    "Ny0uMTZ6bS05LjgzIDguNDQyYzUuNzcuMzc0IDE0LjU4Ny0uMjE0IDE0LjgtMi45NCAwIDAtLjQy\n",
    "NyAxLjA3LTQuNzU1IDEuODctNC45MTYuOTA4LTExLjAwNy44LTE0LjU4Ny4yMTQgMCAwIC43NDgu\n",
    "NjQgNC41NDIuODU1eiIgZmlsbD0iIzRlNzg5NiIvPjxwYXRoIGQ9Ik0xOC45OTYuMDAxczMuMzEz\n",
    "IDMuMzY2LTMuMTUyIDguNDQyYy01LjE4MyA0LjExNC0xLjE3NSA2LjQ2NSAwIDkuMTM3LTMuMDQ2\n",
    "LTIuNzI1LTUuMjM2LTUuMTMtMy43NC03LjM3M0MxNC4yOTQgNi44OTMgMjAuMzMyIDUuMyAxOC45\n",
    "OTYuMDAxem0tMS43IDE1LjMzNWMxLjU1IDEuNzYzLS40MjcgMy4zNjYtLjQyNyAzLjM2NnMzLjk1\n",
    "NC0yLjAzIDIuMTM3LTQuNTQyYy0xLjY1Ni0yLjQwNC0yLjk0LTMuNTggNC4wMDctNy41ODcgMCAw\n",
    "LTEwLjk1MyAyLjcyNS01LjcxNyA4Ljc2M3oiIGZpbGw9IiNmNTgyMTkiLz48L3N2Zz4=\n",
    "\"\n",
    "     alt=\"Java Logo\" style=\"display:block;margin:auto;width:5%\"/>\n",
    "<br>\n",
    "\n",
    "<div style=\"text-align:center; font-size:200%;\">\n",
    " <b>SOLID: Interface-Segregations-Prinzip</b>\n",
    "</div>\n",
    "<br/>\n",
    "<div style=\"text-align:center; font-size:120%;\">Dr. Matthias Hölzl</div>\n",
    "<br/>\n",
    "<div style=\"text-align:center;\">Coding-Akademie München</div>\n",
    "<br/>"
   ]
  },
  {
   "cell_type": "markdown",
   "id": "0a0f1bc85d2c2102",
   "metadata": {
    "lang": "de",
    "slideshow": {
     "slide_type": "slide"
    },
    "tags": [
     "slide"
    ]
   },
   "source": [
    "\n",
    "## SOLID : Interface-Segregations-Prinzip\n",
    "\n",
    "- Kein Client einer Klasse `C` sollte von Methoden abhängen, die er nicht\n",
    "  benutzt.\n",
    "- Wenn das nicht der Fall ist\n",
    "- Unterteile die Schnittstelle von `C` in mehrere unabhängige Schnittstellen.\n",
    "- Ersetze `C` in jedem Client durch die vom Client tatsächlich verwendeten\n",
    "  Schnittstellen."
   ]
  },
  {
   "cell_type": "code",
   "execution_count": null,
   "id": "e1a2368f7d87c4db",
   "metadata": {
    "slideshow": {
     "slide_type": "subslide"
    },
    "tags": [
     "keep",
     "subslide"
    ]
   },
   "outputs": [],
   "source": [
    "public class Car {\n",
    "    public void drive() {\n",
    "        System.out.println(\"Accelerating.\");\n",
    "    }\n",
    "\n",
    "    public void repair() {\n",
    "        System.out.println(\"Repairing.\");\n",
    "    }\n",
    "}"
   ]
  },
  {
   "cell_type": "code",
   "execution_count": null,
   "id": "61f6d1a717367322",
   "metadata": {
    "slideshow": {
     "slide_type": "subslide"
    },
    "tags": [
     "keep",
     "subslide"
    ]
   },
   "outputs": [],
   "source": [
    "public class Driver {\n",
    "    public void drive(Car car) {\n",
    "        car.drive();\n",
    "    }\n",
    "}"
   ]
  },
  {
   "cell_type": "code",
   "execution_count": null,
   "id": "1095e6f3b29d071b",
   "metadata": {
    "tags": [
     "keep"
    ]
   },
   "outputs": [],
   "source": [
    "public class Mechanic {\n",
    "    public void workOn(Car car) {\n",
    "        car.repair();\n",
    "    }\n",
    "}"
   ]
  },
  {
   "cell_type": "code",
   "execution_count": null,
   "id": "6c573d8fdf098263",
   "metadata": {
    "slideshow": {
     "slide_type": "subslide"
    },
    "tags": [
     "keep",
     "subslide"
    ]
   },
   "outputs": [],
   "source": [
    "Driver d = new Driver();\n",
    "Mechanic m = new Mechanic();\n",
    "Car c = new Car();"
   ]
  },
  {
   "cell_type": "code",
   "execution_count": null,
   "id": "2b71174023d48d42",
   "metadata": {
    "tags": [
     "keep"
    ]
   },
   "outputs": [],
   "source": [
    "d.drive(c);"
   ]
  },
  {
   "cell_type": "code",
   "execution_count": null,
   "id": "b011edbdcde8a9ec",
   "metadata": {
    "tags": [
     "keep"
    ]
   },
   "outputs": [],
   "source": [
    "m.workOn(c);"
   ]
  },
  {
   "cell_type": "code",
   "execution_count": null,
   "id": "fa552da6e447f197",
   "metadata": {
    "slideshow": {
     "slide_type": "subslide"
    },
    "tags": [
     "keep",
     "subslide"
    ]
   },
   "outputs": [],
   "source": [
    "public interface Drivable {\n",
    "    void drive();\n",
    "}"
   ]
  },
  {
   "cell_type": "code",
   "execution_count": null,
   "id": "eff86d9fe96b14f3",
   "metadata": {
    "tags": [
     "keep"
    ]
   },
   "outputs": [],
   "source": [
    "public interface Repairable {\n",
    "    void repair();\n",
    "}"
   ]
  },
  {
   "cell_type": "code",
   "execution_count": null,
   "id": "c13bcf7990dcd352",
   "metadata": {
    "lines_to_next_cell": 0,
    "tags": [
     "keep"
    ]
   },
   "outputs": [],
   "source": [
    "public class Car2 implements Drivable, Repairable {\n",
    "    @Override\n",
    "    public void drive() {\n",
    "        System.out.println(\"Accelerating.\");\n",
    "    }\n",
    "\n",
    "    @Override\n",
    "    public void repair() {\n",
    "        System.out.println(\"Repairing.\");\n",
    "    }\n",
    "}"
   ]
  },
  {
   "cell_type": "code",
   "execution_count": null,
   "id": "d1127bc8a140078c",
   "metadata": {
    "slideshow": {
     "slide_type": "subslide"
    },
    "tags": [
     "keep",
     "subslide"
    ]
   },
   "outputs": [],
   "source": [
    "public class Driver2 {\n",
    "    public void drive(Drivable car) {\n",
    "        car.drive();\n",
    "    }\n",
    "}"
   ]
  },
  {
   "cell_type": "code",
   "execution_count": null,
   "id": "5eefcb23e36ecc23",
   "metadata": {
    "tags": [
     "keep"
    ]
   },
   "outputs": [],
   "source": [
    "public class Mechanic2 {\n",
    "    public void workOn(Repairable car) {\n",
    "        car.repair();\n",
    "    }\n",
    "}"
   ]
  },
  {
   "cell_type": "code",
   "execution_count": null,
   "id": "975c65b3e4f5e615",
   "metadata": {
    "slideshow": {
     "slide_type": "subslide"
    },
    "tags": [
     "keep",
     "subslide"
    ]
   },
   "outputs": [],
   "source": [
    "Driver2 d2 = new Driver2();\n",
    "Mechanic2 m2 = new Mechanic2();\n",
    "Car2 c2 = new Car2();"
   ]
  },
  {
   "cell_type": "code",
   "execution_count": null,
   "id": "cefdb5ef0ed6ab1b",
   "metadata": {
    "tags": [
     "keep"
    ]
   },
   "outputs": [],
   "source": [
    "d2.drive(c2);"
   ]
  },
  {
   "cell_type": "code",
   "execution_count": null,
   "id": "aefab944d08c797f",
   "metadata": {
    "tags": [
     "keep"
    ]
   },
   "outputs": [],
   "source": [
    "m2.workOn(c2);"
   ]
  },
  {
   "cell_type": "markdown",
   "id": "834480f821bcb5d7",
   "metadata": {
    "lang": "de",
    "slideshow": {
     "slide_type": "subslide"
    },
    "tags": [
     "subslide"
    ]
   },
   "source": [
    "\n",
    "## Workshop:\n",
    "\n",
    "In diesem Workshop werden wir an einem Restaurant-Management-System arbeiten.\n",
    "\n",
    "Stellen Sie sich vor, Sie haben den Code eines Restaurant-Management-Systems\n",
    "erhalten. Das System hat derzeit eine einzige Schnittstelle\n",
    "`RestaurantOperations`, die alle Operationen definiert, die in einem\n",
    "Restaurant durchgeführt werden können. Verschiedene Rollen im Restaurant, wie\n",
    "der Kunde, der Koch, der Kassierer und der Hausmeister, verwenden alle\n",
    "dieselbe Schnittstelle, aber jede Rolle verwendet nur einen Teil ihrer\n",
    "Funktionen.\n",
    "\n",
    "Ihre Aufgabe ist es, dieses System so umzubauen, dass es dem\n",
    "Interface-Segregations-Prinzip entspricht. Das bedeutet, dass kein Client\n",
    "gezwungen werden sollte, von Schnittstellen abhängig zu sein, die er nicht\n",
    "verwendet."
   ]
  },
  {
   "cell_type": "markdown",
   "id": "fc5b0a1544cb89dc",
   "metadata": {
    "lang": "de",
    "slideshow": {
     "slide_type": "subslide"
    },
    "tags": [
     "subslide"
    ]
   },
   "source": [
    "\n",
    "1. Identifizieren Sie, welche Operationen für welche Rollen relevant sind.\n",
    "2. Teilen Sie das `RestaurantOperations`-Interface in kleinere,\n",
    "   rollenspezifische Schnittstellen auf.\n",
    "3. Passen Sie die `Restaurant`-Klasse und die rollenbasierten Client-Klassen\n",
    "   (`Customer`, `Chef`, `Cashier`, `Janitor`) an die neuen Schnittstellen an.\n",
    "4. Stellen Sie sicher, dass jede Client-Klasse nur über die für ihre Rolle\n",
    "   relevanten Operationen Bescheid weiß."
   ]
  },
  {
   "cell_type": "code",
   "execution_count": null,
   "id": "724b668ecbbb6cd9",
   "metadata": {
    "slideshow": {
     "slide_type": "subslide"
    },
    "tags": [
     "subslide",
     "keep"
    ]
   },
   "outputs": [],
   "source": [
    "public interface RestaurantOperations {\n",
    "    void placeOrder();\n",
    "    void cookOrder();\n",
    "    void calculateBill();\n",
    "    void cleanTables();\n",
    "}"
   ]
  },
  {
   "cell_type": "code",
   "execution_count": null,
   "id": "1a1b92a00ec2963d",
   "metadata": {
    "slideshow": {
     "slide_type": "subslide"
    },
    "tags": [
     "keep",
     "subslide"
    ]
   },
   "outputs": [],
   "source": [
    "public class Restaurant implements RestaurantOperations {\n",
    "    @Override\n",
    "    public void placeOrder() {\n",
    "        System.out.println(\"Order has been placed.\");\n",
    "    }\n",
    "\n",
    "    @Override\n",
    "    public void cookOrder() {\n",
    "        System.out.println(\"Order is being cooked.\");\n",
    "    }\n",
    "\n",
    "    @Override\n",
    "    public void calculateBill() {\n",
    "        System.out.println(\"Bill is being calculated.\");\n",
    "    }\n",
    "\n",
    "    @Override\n",
    "    public void cleanTables() {\n",
    "        System.out.println(\"Tables are being cleaned.\");\n",
    "    }\n",
    "}"
   ]
  },
  {
   "cell_type": "code",
   "execution_count": null,
   "id": "e922095629eca3db",
   "metadata": {
    "lines_to_next_cell": 0,
    "slideshow": {
     "slide_type": "subslide"
    },
    "tags": [
     "keep",
     "subslide"
    ]
   },
   "outputs": [],
   "source": [
    "public class Customer {\n",
    "    private RestaurantOperations restaurant;\n",
    "\n",
    "    public Customer(RestaurantOperations r) {\n",
    "        this.restaurant = r;\n",
    "    }\n",
    "\n",
    "    public void makeOrder() {\n",
    "        restaurant.placeOrder();\n",
    "        restaurant.calculateBill();\n",
    "    }\n",
    "}"
   ]
  },
  {
   "cell_type": "code",
   "execution_count": null,
   "id": "992139139528d275",
   "metadata": {
    "slideshow": {
     "slide_type": "subslide"
    },
    "tags": [
     "keep",
     "subslide"
    ]
   },
   "outputs": [],
   "source": [
    "public class Chef {\n",
    "    private RestaurantOperations restaurant;\n",
    "\n",
    "    public Chef(RestaurantOperations r) {\n",
    "        this.restaurant = r;\n",
    "    }\n",
    "\n",
    "    public void prepareFood() {\n",
    "        restaurant.cookOrder();\n",
    "    }\n",
    "}"
   ]
  },
  {
   "cell_type": "code",
   "execution_count": null,
   "id": "1cbbb180ced078e2",
   "metadata": {
    "slideshow": {
     "slide_type": "subslide"
    },
    "tags": [
     "keep",
     "subslide"
    ]
   },
   "outputs": [],
   "source": [
    "public class Cashier {\n",
    "    private RestaurantOperations restaurant;\n",
    "\n",
    "    public Cashier(RestaurantOperations r) {\n",
    "        this.restaurant = r;\n",
    "    }\n",
    "\n",
    "    public void generateBill() {\n",
    "        restaurant.calculateBill();\n",
    "    }\n",
    "}"
   ]
  },
  {
   "cell_type": "code",
   "execution_count": null,
   "id": "c23f7388fa6ccf84",
   "metadata": {
    "slideshow": {
     "slide_type": "subslide"
    },
    "tags": [
     "keep",
     "subslide"
    ]
   },
   "outputs": [],
   "source": [
    "public class Janitor {\n",
    "    private RestaurantOperations restaurant;\n",
    "\n",
    "    public Janitor(RestaurantOperations r) {\n",
    "        this.restaurant = r;\n",
    "    }\n",
    "\n",
    "    public void clean() {\n",
    "        restaurant.cleanTables();\n",
    "    }\n",
    "}"
   ]
  },
  {
   "cell_type": "code",
   "execution_count": null,
   "id": "10f40ab7d15ae8bd",
   "metadata": {
    "slideshow": {
     "slide_type": "subslide"
    },
    "tags": [
     "keep",
     "subslide"
    ]
   },
   "outputs": [],
   "source": [
    "Restaurant restaurant = new Restaurant();\n",
    "Customer customer = new Customer(restaurant);\n",
    "Chef chef = new Chef(restaurant);\n",
    "Cashier cashier = new Cashier(restaurant);\n",
    "Janitor janitor = new Janitor(restaurant);"
   ]
  },
  {
   "cell_type": "code",
   "execution_count": null,
   "id": "6ace6581f5f525bf",
   "metadata": {
    "tags": [
     "keep"
    ]
   },
   "outputs": [],
   "source": [
    "customer.makeOrder();\n",
    "chef.prepareFood();\n",
    "cashier.generateBill();\n",
    "janitor.clean();"
   ]
  },
  {
   "cell_type": "code",
   "execution_count": null,
   "id": "f59821ff73a6283f",
   "metadata": {},
   "outputs": [],
   "source": []
  },
  {
   "cell_type": "code",
   "execution_count": null,
   "id": "65239c1c5f25d8b2",
   "metadata": {},
   "outputs": [],
   "source": []
  }
 ],
 "metadata": {
  "jupytext": {
   "cell_metadata_filter": "tags,lang,-all",
   "encoding": "// -*- coding: utf-8 -*-",
   "main_language": "java",
   "notebook_metadata_filter": "-all"
  },
  "kernelspec": {
   "display_name": "Java",
   "language": "java",
   "name": "java"
  },
  "language_info": {
   "codemirror_mode": "java",
   "file_extension": ".java",
   "mimetype": "text/java",
   "name": "Java",
   "pygments_lexer": "java",
   "version": ""
  }
 },
 "nbformat": 4,
 "nbformat_minor": 5
}
