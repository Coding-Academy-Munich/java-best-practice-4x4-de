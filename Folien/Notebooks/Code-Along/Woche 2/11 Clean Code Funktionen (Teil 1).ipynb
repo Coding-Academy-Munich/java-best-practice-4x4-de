{
 "cells": [
  {
   "cell_type": "markdown",
   "id": "8e3e8bc49725b288",
   "metadata": {
    "lang": "de",
    "slideshow": {
     "slide_type": "slide"
    },
    "tags": [
     "slide"
    ]
   },
   "source": [
    "\n",
    "<img src=\"data:image/svg+xml;base64,PHN2ZyB4bWxucz0iaHR0cDovL3d3dy53My5vcmcvMjAwMC9zdmciIHdpZHRoPSI2NCIgaGVpZ2h0\n",
    "PSI2NCIgdmlld0JveD0iMCAwIDMyIDMyIj48cGF0aCBkPSJNMTEuNjIyIDI0Ljc0cy0xLjIzLjc0\n",
    "OC44NTUuOTYyYzIuNTEuMzIgMy44NDcuMjY3IDYuNjI1LS4yNjdhMTAuMDIgMTAuMDIgMCAwIDAg\n",
    "MS43NjMuODU1Yy02LjI1IDIuNjcyLTE0LjE2LS4xNi05LjI0NC0xLjU1em0tLjgtMy40NzNzLTEu\n",
    "MzM2IDEuMDE1Ljc0OCAxLjIzYzIuNzI1LjI2NyA0Ljg2Mi4zMiA4LjU1LS40MjdhMy4yNiAzLjI2\n",
    "IDAgMCAwIDEuMjgyLjgwMWMtNy41MzQgMi4yNDQtMTUuOTc2LjIxNC0xMC41OC0xLjYwM3ptMTQu\n",
    "NzQ3IDYuMDlzLjkwOC43NDgtMS4wMTUgMS4zMzZjLTMuNTggMS4wNy0xNS4wMTQgMS4zOS0xOC4y\n",
    "MiAwLTEuMTIyLS40OCAxLjAxNS0xLjE3NSAxLjctMS4yODIuNjk1LS4xNiAxLjA3LS4xNiAxLjA3\n",
    "LS4xNi0xLjIzLS44NTUtOC4xNzUgMS43NjMtMy41MjYgMi41MSAxMi43NyAyLjA4NCAyMy4yOTYt\n",
    "LjkwOCAxOS45ODMtMi40MDR6TTEyLjIgMTcuNjMzcy01LjgyNCAxLjM5LTIuMDg0IDEuODdjMS42\n",
    "MDMuMjE0IDQuNzU1LjE2IDcuNjk0LS4wNTMgMi40MDQtLjIxNCA0LjgxLS42NCA0LjgxLS42NHMt\n",
    "Ljg1NS4zNzQtMS40NDMuNzQ4Yy01LjkzIDEuNTUtMTcuMzEyLjg1NS0xNC4wNTItLjc0OCAyLjc3\n",
    "OC0xLjMzNiA1LjA3Ni0xLjE3NSA1LjA3Ni0xLjE3NXptMTAuNDIgNS44MjRjNS45ODQtMy4xIDMu\n",
    "MjA2LTYuMDkgMS4yODItNS43MTctLjQ4LjEwNy0uNjk1LjIxNC0uNjk1LjIxNHMuMTYtLjMyLjUz\n",
    "NC0uNDI3YzMuNzk0LTEuMzM2IDYuNzg2IDQuMDA3LTEuMjMgNi4wOSAwIDAgLjA1My0uMDUzLjEw\n",
    "Ny0uMTZ6bS05LjgzIDguNDQyYzUuNzcuMzc0IDE0LjU4Ny0uMjE0IDE0LjgtMi45NCAwIDAtLjQy\n",
    "NyAxLjA3LTQuNzU1IDEuODctNC45MTYuOTA4LTExLjAwNy44LTE0LjU4Ny4yMTQgMCAwIC43NDgu\n",
    "NjQgNC41NDIuODU1eiIgZmlsbD0iIzRlNzg5NiIvPjxwYXRoIGQ9Ik0xOC45OTYuMDAxczMuMzEz\n",
    "IDMuMzY2LTMuMTUyIDguNDQyYy01LjE4MyA0LjExNC0xLjE3NSA2LjQ2NSAwIDkuMTM3LTMuMDQ2\n",
    "LTIuNzI1LTUuMjM2LTUuMTMtMy43NC03LjM3M0MxNC4yOTQgNi44OTMgMjAuMzMyIDUuMyAxOC45\n",
    "OTYuMDAxem0tMS43IDE1LjMzNWMxLjU1IDEuNzYzLS40MjcgMy4zNjYtLjQyNyAzLjM2NnMzLjk1\n",
    "NC0yLjAzIDIuMTM3LTQuNTQyYy0xLjY1Ni0yLjQwNC0yLjk0LTMuNTggNC4wMDctNy41ODcgMCAw\n",
    "LTEwLjk1MyAyLjcyNS01LjcxNyA4Ljc2M3oiIGZpbGw9IiNmNTgyMTkiLz48L3N2Zz4=\n",
    "\"\n",
    "     alt=\"Java Logo\" style=\"display:block;margin:auto;width:5%\"/>\n",
    "<br>\n",
    "\n",
    "<div style=\"text-align:center; font-size:200%;\">\n",
    " <b>Clean Code: Funktionen (Teil 1)</b>\n",
    "</div>\n",
    "<br/>\n",
    "<div style=\"text-align:center; font-size:120%;\">Dr. Matthias Hölzl</div>\n",
    "<br/>\n",
    "<div style=\"text-align:center;\">Coding-Akademie München</div>\n",
    "<br/>"
   ]
  },
  {
   "cell_type": "markdown",
   "id": "f3767273ac64982b",
   "metadata": {
    "lang": "de",
    "slideshow": {
     "slide_type": "slide"
    },
    "tags": [
     "slide"
    ]
   },
   "source": [
    "\n",
    "[Fasse Operationen, die logisch zusammengehören, als sorgfältig benannte\n",
    "Funktionen zusammen (CG,\n",
    "F.1)](https://isocpp.github.io/CppCoreGuidelines/CppCoreGuidelines#Rf-package)\n",
    "\n",
    "- Besser lesbar\n",
    "- Einfacher zu testen\n",
    "- Fehler sind weniger wahrscheinlich\n",
    "- Wird eher wiederverwendet"
   ]
  },
  {
   "cell_type": "markdown",
   "id": "434fea343edae7d1",
   "metadata": {
    "lang": "de",
    "slideshow": {
     "slide_type": "subslide"
    },
    "tags": [
     "subslide"
    ]
   },
   "source": [
    "\n",
    "## Die 1. Clean Code Regel für Funktionen\n",
    "\n",
    "- Funktionen sollten kurz sein\n",
    "- Kürzer als man meint!\n",
    "- Maximal 4 Zeilen!"
   ]
  },
  {
   "cell_type": "markdown",
   "id": "b064afa340823770",
   "metadata": {
    "lang": "de",
    "slideshow": {
     "slide_type": "subslide"
    },
    "tags": [
     "subslide"
    ]
   },
   "source": [
    "\n",
    "## C++ Core Guidelines\n",
    "\n",
    "- [Halte Funktionen kurz und einfach (CG\n",
    "  F.3)](https://isocpp.github.io/CppCoreGuidelines/CppCoreGuidelines#f3-keep-functions-short-and-simple)\n",
    "  - Funktionen sollten auf einen Bildschirm passen\n",
    "  - Große Funktionen sollten in kleinere, zusammenhängende und benannte\n",
    "    Funktionen aufgeteilt werden\n",
    "  - Funktionen mit einer bis fünf Zeilen sollten als normal angesehen werden"
   ]
  },
  {
   "cell_type": "markdown",
   "id": "57f8cc70c4ca19da",
   "metadata": {
    "lang": "de",
    "slideshow": {
     "slide_type": "subslide"
    },
    "tags": [
     "subslide"
    ]
   },
   "source": [
    "\n",
    "## Konzentration auf eine Aufgabe\n",
    "\n",
    "- Funktionen sollten eine Aufgabe erfüllen (\"do one thing\")\n",
    "- Sie sollten diese Aufgabe gut erfüllen\n",
    "- Sie sollten nur diese Aufgabe erfüllen\n",
    "- [Eine Funktion sollte eine einzige logische Aufgabe erfüllen (CG\n",
    "  F.2)](https://isocpp.github.io/CppCoreGuidelines/CppCoreGuidelines#Rf-logical)"
   ]
  },
  {
   "cell_type": "code",
   "execution_count": null,
   "id": "5639da13d72950f2",
   "metadata": {
    "slideshow": {
     "slide_type": "subslide"
    },
    "tags": [
     "keep",
     "subslide"
    ]
   },
   "outputs": [],
   "source": [
    "import java.util.ArrayList;\n",
    "import java.util.List;"
   ]
  },
  {
   "cell_type": "code",
   "execution_count": null,
   "id": "daa44794bc4cf697",
   "metadata": {
    "slideshow": {
     "slide_type": "subslide"
    },
    "tags": [
     "keep",
     "subslide"
    ]
   },
   "outputs": [],
   "source": [
    "public static int doStuff(int a, int b, List<Integer> results) {\n",
    "    // Get measurement from sensors based on config data...\n",
    "    int measurement = a + b;\n",
    "    // ... and perform a complex computation\n",
    "    int newResult = measurement + 1;\n",
    "    // ... save the result to the list of results\n",
    "    if (newResult > 0) {\n",
    "        results.add(newResult);\n",
    "    }\n",
    "    // ... print all results\n",
    "    for (int result : results) {\n",
    "        System.out.println(result);\n",
    "    }\n",
    "    // ... and return the result\n",
    "    return newResult;\n",
    "}"
   ]
  },
  {
   "cell_type": "code",
   "execution_count": null,
   "id": "e3810688724e5493",
   "metadata": {
    "slideshow": {
     "slide_type": "subslide"
    },
    "tags": [
     "subslide",
     "keep"
    ]
   },
   "outputs": [],
   "source": [
    "List<Integer> allResults = new ArrayList<>(List.of(12, 43));"
   ]
  },
  {
   "cell_type": "code",
   "execution_count": null,
   "id": "a3c347cabd9ab45e",
   "metadata": {},
   "outputs": [],
   "source": []
  },
  {
   "cell_type": "code",
   "execution_count": null,
   "id": "20e1085c71055ea5",
   "metadata": {},
   "outputs": [],
   "source": []
  },
  {
   "cell_type": "code",
   "execution_count": null,
   "id": "5105deb0b236742e",
   "metadata": {},
   "outputs": [],
   "source": []
  },
  {
   "cell_type": "markdown",
   "id": "215c412bffd34117",
   "metadata": {
    "lang": "de",
    "slideshow": {
     "slide_type": "subslide"
    },
    "tags": [
     "subslide"
    ]
   },
   "source": [
    "\n",
    "- Messung, Auswertung und Validierung der Ergebnisse"
   ]
  },
  {
   "cell_type": "code",
   "execution_count": null,
   "id": "515df841aff0b77a",
   "metadata": {},
   "outputs": [],
   "source": []
  },
  {
   "cell_type": "code",
   "execution_count": null,
   "id": "47a18c4411e03884",
   "metadata": {},
   "outputs": [],
   "source": []
  },
  {
   "cell_type": "code",
   "execution_count": null,
   "id": "a61713ab7a5eb3da",
   "metadata": {},
   "outputs": [],
   "source": []
  },
  {
   "cell_type": "markdown",
   "id": "cf76867982712550",
   "metadata": {
    "lang": "de",
    "slideshow": {
     "slide_type": "subslide"
    },
    "tags": [
     "subslide"
    ]
   },
   "source": [
    "\n",
    "- Speichern und Drucken der Ergebnisse:"
   ]
  },
  {
   "cell_type": "code",
   "execution_count": null,
   "id": "3f57ff016a4f48a6",
   "metadata": {
    "tags": [
     "keep"
    ]
   },
   "outputs": [],
   "source": [
    "import java.util.List;"
   ]
  },
  {
   "cell_type": "code",
   "execution_count": null,
   "id": "6019b6b51e127d7a",
   "metadata": {},
   "outputs": [],
   "source": []
  },
  {
   "cell_type": "code",
   "execution_count": null,
   "id": "3aa897c9ebd1e8c9",
   "metadata": {},
   "outputs": [],
   "source": []
  },
  {
   "cell_type": "markdown",
   "id": "8c37c75b84aa3a6f",
   "metadata": {
    "lang": "de",
    "slideshow": {
     "slide_type": "subslide"
    },
    "tags": [
     "subslide"
    ]
   },
   "source": [
    "\n",
    "- Zusammenführung der Funktionen:"
   ]
  },
  {
   "cell_type": "code",
   "execution_count": null,
   "id": "2cb5e15bd4012106",
   "metadata": {},
   "outputs": [],
   "source": []
  },
  {
   "cell_type": "code",
   "execution_count": null,
   "id": "de2b6708b36904e8",
   "metadata": {
    "slideshow": {
     "slide_type": "subslide"
    },
    "tags": [
     "subslide"
    ]
   },
   "outputs": [],
   "source": []
  },
  {
   "cell_type": "code",
   "execution_count": null,
   "id": "9bc1e7e207412f84",
   "metadata": {},
   "outputs": [],
   "source": []
  },
  {
   "cell_type": "code",
   "execution_count": null,
   "id": "a68ca706fb266b18",
   "metadata": {},
   "outputs": [],
   "source": []
  },
  {
   "cell_type": "code",
   "execution_count": null,
   "id": "e814b20f3028bf11",
   "metadata": {},
   "outputs": [],
   "source": []
  },
  {
   "cell_type": "markdown",
   "id": "0aa228e5c129826b",
   "metadata": {
    "lang": "de",
    "slideshow": {
     "slide_type": "subslide"
    },
    "tags": [
     "subslide"
    ]
   },
   "source": [
    "\n",
    "### Fragen\n",
    "\n",
    "- Macht `performMeasurementAndProcessResult()` das Gleiche wie `doStuff()`?\n",
    "- Ist die Funktion `performMeasurementAndProcessResult()` wirklich besser?\n",
    "- Konzentriert sie sich auf eine Aufgabe?\n",
    "- Unterscheiden sich Ihre Aufgaben von `doStuff()`?\n",
    "- Warum (nicht)?"
   ]
  },
  {
   "cell_type": "markdown",
   "id": "b8284cdf9e7fc77d",
   "metadata": {
    "lang": "de",
    "slideshow": {
     "slide_type": "subslide"
    },
    "tags": [
     "subslide"
    ]
   },
   "source": [
    "\n",
    "## Hilfsmittel: Änderungsgründe\n",
    "\n",
    "- Welche möglichen Änderungsgründe gibt es?\n",
    "- Wie viele davon betreffen die jeweilige Funktion?"
   ]
  },
  {
   "cell_type": "markdown",
   "id": "11dfa972c8bbce45",
   "metadata": {
    "lang": "de",
    "slideshow": {
     "slide_type": "subslide"
    },
    "tags": [
     "subslide"
    ]
   },
   "source": [
    "\n",
    "| Änderungsgrund        | `doStuff()` | `performMeasurementAndProcessResult()` |\n",
    "| --------------------- | :---------- | :------------------------------------- |\n",
    "| Messung               | ✓           | ❌ `getMeasurement()`                 |\n",
    "| Berechnung            | ✓           | ❌ `computeDataForNextTimestep()`     |\n",
    "| Validierung           | ✓           | ❌ `isValidResult()`                  |\n",
    "| Speichern             | ✓           | ❌ `saveResult()`                     |\n",
    "| Drucken               | ✓           | ❌ `printResults()`                   |\n",
    "| Neue/andere Tätigkeit | ✓           | ✓                                     |"
   ]
  },
  {
   "cell_type": "markdown",
   "id": "2ef7237b8ced31aa",
   "metadata": {
    "lang": "de",
    "slideshow": {
     "slide_type": "slide"
    },
    "tags": [
     "slide"
    ]
   },
   "source": [
    "\n",
    "# Abstraktionsebenen\n",
    "\n",
    "- Alles, was die Funktion in ihrem Rumpf tut, sollte eine (und nur eine)\n",
    "  Abstraktionsebene unterhalb der Funktion selbst sein.\n",
    "- Beispiel: `performMeasurementAndProcessResult()`\n",
    "- Gegenbeispiel: `createAndDistributeExam()`:"
   ]
  },
  {
   "cell_type": "markdown",
   "id": "e3aa5f9d9700805c",
   "metadata": {
    "slideshow": {
     "slide_type": "subslide"
    },
    "tags": [
     "subslide"
    ]
   },
   "source": [
    "\n",
    "```java\n",
    "void createAndDistributeExam(String subject) {\n",
    "    // high level abstraction\n",
    "    Exam exam = createExamUsingChatGPT(subject);\n",
    "\n",
    "    // low level abstractions\n",
    "    FileOutputStream file = new FileOutputStream(subject + \"_exam.pdf\");\n",
    "    writePdfHeader(file);\n",
    "    for (Question question : exam.getQuestions()) {\n",
    "        String pdfQuestion = convertQuestionToPdf(question);\n",
    "        file.write(pdfQuestion.getBytes());\n",
    "        file.write(\"\\n\".getBytes());\n",
    "    }\n",
    "\n",
    "    // higher level abstraction\n",
    "    distributeExamToStudents(file);\n",
    "}\n",
    "```"
   ]
  },
  {
   "cell_type": "markdown",
   "id": "ed995939e3b8307d",
   "metadata": {
    "lang": "de",
    "slideshow": {
     "slide_type": "subslide"
    },
    "tags": [
     "subslide"
    ]
   },
   "source": [
    "\n",
    "## Kontrolle der Abstraktionsebenen: \"Um-Zu\"-Absätze\n",
    "\n",
    "`performMeasurementAndProcessResult()`:\n",
    "\n",
    "Um eine Messung durchzuführen und das Ergebnis zu verarbeiten:\n",
    "- Hole ein Messergebnis\n",
    "- Berechne die Daten für den nächsten Zeitschritt\n",
    "- Speichere das Ergebnis, falls es gültig ist\n",
    "- Drucke alle Ergebnisse, unabhängig davon, ob das neue Ergebnis gültig ist"
   ]
  },
  {
   "cell_type": "markdown",
   "id": "e100813f27abbf07",
   "metadata": {
    "lang": "de",
    "slideshow": {
     "slide_type": "subslide"
    },
    "tags": [
     "subslide"
    ]
   },
   "source": [
    "\n",
    "## Kommentare als \"Um-Zu\"-Absätze\n",
    "\n",
    "- Beim Schreiben von Code können wir das \"Um-Zu\"-Muster verwenden, um die\n",
    "  Abstraktionsebenen zu kontrollieren\n",
    "- Wir können die \"Um-Zu\"-Absätze als Kommentare schreiben bevor wir den Code\n",
    "  schreiben\n",
    "- Meistens wird jeder Kommentar zu einer Funktion"
   ]
  },
  {
   "cell_type": "code",
   "execution_count": null,
   "id": "275c40c9a5774969",
   "metadata": {
    "slideshow": {
     "slide_type": "subslide"
    },
    "tags": [
     "keep",
     "subslide"
    ]
   },
   "outputs": [],
   "source": [
    "import java.util.List;"
   ]
  },
  {
   "cell_type": "code",
   "execution_count": null,
   "id": "5ab6634e0f13ca3a",
   "metadata": {
    "lang": "de",
    "tags": [
     "keep"
    ]
   },
   "outputs": [],
   "source": [
    "public class OrderProcessor {\n",
    "    public void processOrder(String orderID) {\n",
    "        // Hole die Bestelldetails anhand der `orderID`\n",
    "        // Validiere die Lagerverfügbarkeit für jeden Artikel in der Bestellung\n",
    "        // Aktualisiere den Lagerbestand bei erfolgreicher Validierung\n",
    "        // Erzeuge eine Lieferung für die Bestellung\n",
    "        // Benachrichtige den Kunden mit den Lieferdetails\n",
    "    }\n",
    "}"
   ]
  },
  {
   "cell_type": "markdown",
   "id": "0b15c37f2d02fbc2",
   "metadata": {
    "lang": "de",
    "slideshow": {
     "slide_type": "subslide"
    },
    "tags": [
     "subslide"
    ]
   },
   "source": [
    "\n",
    "## Funktionen als \"Um-Zu\"-Absätze\n",
    "\n",
    "Wir können die \"Um-Zu\"-Absätze auch gleich als Funktionsaufrufe schreiben:"
   ]
  },
  {
   "cell_type": "code",
   "execution_count": null,
   "id": "46437875c12b347d",
   "metadata": {
    "lang": "de",
    "slideshow": {
     "slide_type": "subslide"
    },
    "tags": [
     "keep",
     "subslide"
    ]
   },
   "outputs": [],
   "source": [
    "public class OrderProcessor {\n",
    "    public void processOrder(String orderID) {\n",
    "        // Hole die Bestelldetails anhand der `orderID`\n",
    "        fetchOrderDetails(orderID);\n",
    "        // Validiere die Lagerverfügbarkeit für jeden Artikel in der Bestellung\n",
    "        validateStockAvailability(orderID);\n",
    "        // Aktualisiere den Lagerbestand bei erfolgreicher Validierung\n",
    "        updateInventory(orderID);\n",
    "        // Erzeuge eine Lieferung für die Bestellung\n",
    "        generateShipment(orderID);\n",
    "        // Benachrichtige den Kunden mit den Lieferdetails\n",
    "        notifyCustomer(orderID);\n",
    "    }\n",
    "\n",
    "    private void fetchOrderDetails(String orderID) {\n",
    "        // ...\n",
    "    }\n",
    "\n",
    "    private void validateStockAvailability(String orderID) {\n",
    "        // ...\n",
    "    }\n",
    "\n",
    "    private void updateInventory(String orderID) {\n",
    "        // ...\n",
    "    }\n",
    "\n",
    "    private void generateShipment(String orderID) {\n",
    "        // ...\n",
    "    }\n",
    "\n",
    "    private void notifyCustomer(String orderID) {\n",
    "        // ...\n",
    "    }\n",
    "}"
   ]
  },
  {
   "cell_type": "markdown",
   "id": "702f82f566892aff",
   "metadata": {
    "lang": "de",
    "slideshow": {
     "slide_type": "subslide"
    },
    "tags": [
     "subslide"
    ]
   },
   "source": [
    "\n",
    "## Die Step-Down-Regel\n",
    "\n",
    "- Wir wollen, dass sich der Code wie eine Erzählung von oben nach unten liest\n",
    "- Auf jede Funktion sollten die Funktionen eine Abstraktionsebene darunter\n",
    "  folgen"
   ]
  },
  {
   "cell_type": "markdown",
   "id": "af3b46e05802028b",
   "metadata": {
    "lang": "de",
    "slideshow": {
     "slide_type": "slide"
    },
    "tags": [
     "slide"
    ]
   },
   "source": [
    "\n",
    "## Mini-Workshop: Do one Thing\n",
    "\n",
    "In `code/starter-kits/salaries-sk` finden Sie eine Funktion\n",
    "`handle_money_stuff()`.\n",
    "\n",
    "Diese Funktion macht mehr als eine Sache.\n",
    "\n",
    "Teilen Sie sie in mehrere Funktionen auf, so dass jede nur eine Sache tut.\n",
    "Stellen Sie sicher, dass\n",
    "- jede Funktion ihre Aufgabe gut erfüllt und sich auf einer einzigen\n",
    "  Abstraktionsebene befindet,\n",
    "- alle Namen angemessen sind, und\n",
    "- der Code leicht zu verstehen ist.\n",
    "\n",
    "*Tipp:* Beginnen Sie damit, die Variablen gemäß den Kommentaren umzubenennen,\n",
    "um den Rest der Arbeit zu vereinfachen."
   ]
  }
 ],
 "metadata": {
  "jupytext": {
   "cell_metadata_filter": "tags,lang,-all",
   "encoding": "// -*- coding: utf-8 -*-",
   "main_language": "java",
   "notebook_metadata_filter": "-all"
  },
  "kernelspec": {
   "display_name": "Java",
   "language": "java",
   "name": "java"
  },
  "language_info": {
   "codemirror_mode": "java",
   "file_extension": ".java",
   "mimetype": "text/java",
   "name": "Java",
   "pygments_lexer": "java",
   "version": ""
  }
 },
 "nbformat": 4,
 "nbformat_minor": 5
}
