{
 "cells": [
  {
   "cell_type": "markdown",
   "id": "56334eea285471e8",
   "metadata": {
    "lang": "de",
    "slideshow": {
     "slide_type": "slide"
    },
    "tags": [
     "slide"
    ]
   },
   "source": [
    "\n",
    "<img src=\"data:image/svg+xml;base64,PHN2ZyB4bWxucz0iaHR0cDovL3d3dy53My5vcmcvMjAwMC9zdmciIHdpZHRoPSI2NCIgaGVpZ2h0\n",
    "PSI2NCIgdmlld0JveD0iMCAwIDMyIDMyIj48cGF0aCBkPSJNMTEuNjIyIDI0Ljc0cy0xLjIzLjc0\n",
    "OC44NTUuOTYyYzIuNTEuMzIgMy44NDcuMjY3IDYuNjI1LS4yNjdhMTAuMDIgMTAuMDIgMCAwIDAg\n",
    "MS43NjMuODU1Yy02LjI1IDIuNjcyLTE0LjE2LS4xNi05LjI0NC0xLjU1em0tLjgtMy40NzNzLTEu\n",
    "MzM2IDEuMDE1Ljc0OCAxLjIzYzIuNzI1LjI2NyA0Ljg2Mi4zMiA4LjU1LS40MjdhMy4yNiAzLjI2\n",
    "IDAgMCAwIDEuMjgyLjgwMWMtNy41MzQgMi4yNDQtMTUuOTc2LjIxNC0xMC41OC0xLjYwM3ptMTQu\n",
    "NzQ3IDYuMDlzLjkwOC43NDgtMS4wMTUgMS4zMzZjLTMuNTggMS4wNy0xNS4wMTQgMS4zOS0xOC4y\n",
    "MiAwLTEuMTIyLS40OCAxLjAxNS0xLjE3NSAxLjctMS4yODIuNjk1LS4xNiAxLjA3LS4xNiAxLjA3\n",
    "LS4xNi0xLjIzLS44NTUtOC4xNzUgMS43NjMtMy41MjYgMi41MSAxMi43NyAyLjA4NCAyMy4yOTYt\n",
    "LjkwOCAxOS45ODMtMi40MDR6TTEyLjIgMTcuNjMzcy01LjgyNCAxLjM5LTIuMDg0IDEuODdjMS42\n",
    "MDMuMjE0IDQuNzU1LjE2IDcuNjk0LS4wNTMgMi40MDQtLjIxNCA0LjgxLS42NCA0LjgxLS42NHMt\n",
    "Ljg1NS4zNzQtMS40NDMuNzQ4Yy01LjkzIDEuNTUtMTcuMzEyLjg1NS0xNC4wNTItLjc0OCAyLjc3\n",
    "OC0xLjMzNiA1LjA3Ni0xLjE3NSA1LjA3Ni0xLjE3NXptMTAuNDIgNS44MjRjNS45ODQtMy4xIDMu\n",
    "MjA2LTYuMDkgMS4yODItNS43MTctLjQ4LjEwNy0uNjk1LjIxNC0uNjk1LjIxNHMuMTYtLjMyLjUz\n",
    "NC0uNDI3YzMuNzk0LTEuMzM2IDYuNzg2IDQuMDA3LTEuMjMgNi4wOSAwIDAgLjA1My0uMDUzLjEw\n",
    "Ny0uMTZ6bS05LjgzIDguNDQyYzUuNzcuMzc0IDE0LjU4Ny0uMjE0IDE0LjgtMi45NCAwIDAtLjQy\n",
    "NyAxLjA3LTQuNzU1IDEuODctNC45MTYuOTA4LTExLjAwNy44LTE0LjU4Ny4yMTQgMCAwIC43NDgu\n",
    "NjQgNC41NDIuODU1eiIgZmlsbD0iIzRlNzg5NiIvPjxwYXRoIGQ9Ik0xOC45OTYuMDAxczMuMzEz\n",
    "IDMuMzY2LTMuMTUyIDguNDQyYy01LjE4MyA0LjExNC0xLjE3NSA2LjQ2NSAwIDkuMTM3LTMuMDQ2\n",
    "LTIuNzI1LTUuMjM2LTUuMTMtMy43NC03LjM3M0MxNC4yOTQgNi44OTMgMjAuMzMyIDUuMyAxOC45\n",
    "OTYuMDAxem0tMS43IDE1LjMzNWMxLjU1IDEuNzYzLS40MjcgMy4zNjYtLjQyNyAzLjM2NnMzLjk1\n",
    "NC0yLjAzIDIuMTM3LTQuNTQyYy0xLjY1Ni0yLjQwNC0yLjk0LTMuNTggNC4wMDctNy41ODcgMCAw\n",
    "LTEwLjk1MyAyLjcyNS01LjcxNyA4Ljc2M3oiIGZpbGw9IiNmNTgyMTkiLz48L3N2Zz4=\n",
    "\"\n",
    "     alt=\"Java Logo\" style=\"display:block;margin:auto;width:5%\"/>\n",
    "<br>\n",
    "\n",
    "<div style=\"text-align:center; font-size:200%;\">\n",
    " <b>Refactoring: Inline Funktion</b>\n",
    "</div>\n",
    "<br/>\n",
    "<div style=\"text-align:center; font-size:120%;\">Dr. Matthias Hölzl</div>\n",
    "<br/>\n",
    "<div style=\"text-align:center;\">Coding-Akademie München</div>\n",
    "<br/>"
   ]
  },
  {
   "cell_type": "markdown",
   "id": "d67536c8faf1b6a5",
   "metadata": {
    "lang": "de",
    "slideshow": {
     "slide_type": "subslide"
    },
    "tags": [
     "subslide"
    ]
   },
   "source": [
    "\n",
    "### Inline Function\n",
    "\n",
    "- Anwendung\n",
    "  - Wenn eine Funktion nicht mehr tut als ihr Rumpf und der Name nicht mehr\n",
    "    aussagt als der Rumpf\n",
    "  - Wenn wir eine schlecht strukturierte Hilfsfunktion haben\n",
    "- Invers zu *Extrahiere Funktion*"
   ]
  },
  {
   "cell_type": "code",
   "execution_count": null,
   "id": "3f57ff016a4f48a6",
   "metadata": {
    "slideshow": {
     "slide_type": "subslide"
    },
    "tags": [
     "keep",
     "subslide"
    ]
   },
   "outputs": [],
   "source": [
    "import java.util.List;"
   ]
  },
  {
   "cell_type": "code",
   "execution_count": null,
   "id": "fc24d25bfb8bbc84",
   "metadata": {
    "tags": [
     "keep"
    ]
   },
   "outputs": [],
   "source": [
    "public class OrderLine {\n",
    "    String product;\n",
    "    int quantity;\n",
    "    double price;\n",
    "\n",
    "    OrderLine(String product, int quantity, double price) {\n",
    "        this.product = product;\n",
    "        this.quantity = quantity;\n",
    "        this.price = price;\n",
    "    }\n",
    "\n",
    "    public double getPrice() {\n",
    "        return price;\n",
    "    }\n",
    "\n",
    "    public int getQuantity() {\n",
    "        return quantity;\n",
    "    }\n",
    "\n",
    "    @Override\n",
    "    public String toString() {\n",
    "        return \"OrderLine{\" + quantity + \" x \" + product + \" @ $\" + price + \"}\";\n",
    "    }\n",
    "}"
   ]
  },
  {
   "cell_type": "code",
   "execution_count": null,
   "id": "f0e0b2484ff053b1",
   "metadata": {
    "slideshow": {
     "slide_type": "subslide"
    },
    "tags": [
     "keep",
     "subslide"
    ]
   },
   "outputs": [],
   "source": [
    "static List<OrderLine> makeOrderLines() {\n",
    "    List<OrderLine> orderLines = new ArrayList<>();\n",
    "    orderLines.add(new OrderLine(\"Apple\", 2, 0.5));\n",
    "    orderLines.add(new OrderLine(\"Banana\", 3, 0.3));\n",
    "    orderLines.add(new OrderLine(\"Orange\", 1, 0.8));\n",
    "    return orderLines;\n",
    "}"
   ]
  },
  {
   "cell_type": "code",
   "execution_count": null,
   "id": "920a937017a09eb9",
   "metadata": {
    "slideshow": {
     "slide_type": "subslide"
    },
    "tags": [
     "keep",
     "subslide"
    ]
   },
   "outputs": [],
   "source": [
    "public class OrderLineProcessor {\n",
    "    public static double orderLinePrice(OrderLine orderLine) {\n",
    "        return orderLine.getPrice();\n",
    "    }\n",
    "\n",
    "    public static double orderLineQuantity(OrderLine orderLine) {\n",
    "        return orderLine.getQuantity();\n",
    "    }\n",
    "\n",
    "    public static double computeTotal(List<OrderLine> orderLines) {\n",
    "        double total = 0.0;\n",
    "        for (OrderLine orderLine : orderLines) {\n",
    "            total += orderLineQuantity(orderLine) * orderLinePrice(orderLine);\n",
    "        }\n",
    "        return total;\n",
    "    }\n",
    "}"
   ]
  },
  {
   "cell_type": "code",
   "execution_count": null,
   "id": "bdf92003ab836a49",
   "metadata": {
    "tags": [
     "keep"
    ]
   },
   "outputs": [],
   "source": [
    "OrderLineProcessor.computeTotal(makeOrderLines());"
   ]
  },
  {
   "cell_type": "code",
   "execution_count": null,
   "id": "dfc3f5e1748c2c74",
   "metadata": {
    "slideshow": {
     "slide_type": "subslide"
    },
    "tags": [
     "start",
     "subslide"
    ]
   },
   "outputs": [],
   "source": [
    "public class OrderLineProcessor {\n",
    "    public static double orderLinePrice(OrderLine orderLine) {\n",
    "        return orderLine.getPrice();\n",
    "    }\n",
    "\n",
    "    public static double orderLineQuantity(OrderLine orderLine) {\n",
    "        return orderLine.getQuantity();\n",
    "    }\n",
    "\n",
    "    public static double computeTotal(List<OrderLine> orderLines) {\n",
    "        double total = 0.0;\n",
    "        for (OrderLine orderLine : orderLines) {\n",
    "            total += orderLineQuantity(orderLine) * orderLinePrice(orderLine);\n",
    "        }\n",
    "        return total;\n",
    "    }\n",
    "}"
   ]
  },
  {
   "cell_type": "code",
   "execution_count": null,
   "id": "938bdf3026939545",
   "metadata": {
    "tags": [
     "keep"
    ]
   },
   "outputs": [],
   "source": [
    "OrderLineProcessor.computeTotal(makeOrderLines());"
   ]
  },
  {
   "cell_type": "markdown",
   "id": "3835e3594e720526",
   "metadata": {
    "lang": "de",
    "slideshow": {
     "slide_type": "subslide"
    },
    "tags": [
     "subslide"
    ]
   },
   "source": [
    "\n",
    "#### Motivation\n",
    "\n",
    "- Manchmal ist eine Funktion nicht leichter zu verstehen als ihr Rumpf\n",
    "- Manchmal sind die von einer Funktion verwendeten Hilfsfunktionen nicht gut\n",
    "  strukturiert\n",
    "- Generell: Potentiell anwendbar, wenn man aufgrund zu vieler Indirektionen\n",
    "  den Überblick verliert"
   ]
  },
  {
   "cell_type": "markdown",
   "id": "f353e019e4d05808",
   "metadata": {
    "lang": "de",
    "slideshow": {
     "slide_type": "subslide"
    },
    "tags": [
     "subslide"
    ]
   },
   "source": [
    "\n",
    "#### Mechanik\n",
    "\n",
    "- Überprüfe, dass die Funktion nicht virtuell ist\n",
    "  - Eine virtuelle Funktion, die von Unterklassen überschrieben wird, können\n",
    "    wir nicht entfernen, ohne die Semantik des Programms zu ändern\n",
    "- Finde alle Aufrufe der Funktion\n",
    "- Ersetze jeden Aufruf durch den Rumpf der Funktion\n",
    "- Test nach jedem Schritt!\n",
    "- Entferne die Funktionsdefinition\n",
    "- Brich ab, falls Schwierigkeiten wegen Rekursion, mehrerer\n",
    "  `return`-Anweisungen, etc. auftreten"
   ]
  },
  {
   "cell_type": "markdown",
   "id": "48f8342264d24da7",
   "metadata": {
    "lang": "de",
    "slideshow": {
     "slide_type": "subslide"
    },
    "tags": [
     "subslide"
    ]
   },
   "source": [
    "\n",
    "## Workshop: Inline Function\n",
    "\n",
    "In der folgenden Klasse wurden Hilfsfunktionen verwendet, die die Berechnung\n",
    "nicht übersichtlicher gestalten.\n",
    "\n",
    "Entfernen Sie diese Hilfsfunktionen mit dem *Inline Function*-Refactoring."
   ]
  },
  {
   "cell_type": "code",
   "execution_count": null,
   "id": "7cfdc97837f9dc0e",
   "metadata": {
    "slideshow": {
     "slide_type": "subslide"
    },
    "tags": [
     "keep",
     "subslide"
    ]
   },
   "outputs": [],
   "source": [
    "class SimpleMathOperations {\n",
    "    public static int add(int a, int b) {\n",
    "        return a + b;\n",
    "    }\n",
    "\n",
    "    public static int subtract(int a, int b) {\n",
    "        return a - b;\n",
    "    }\n",
    "\n",
    "    public static int multiply(int a, int b) {\n",
    "        return a * b;\n",
    "    }\n",
    "\n",
    "    public static int calculate(int x, int y, int z) {\n",
    "        int result = add(x, y);\n",
    "        result = multiply(result, 2);\n",
    "        result = subtract(result, z);\n",
    "        return result;\n",
    "    }\n",
    "\n",
    "    public static void run() {\n",
    "        System.out.println(calculate(5, 3, 4));\n",
    "    }\n",
    "}"
   ]
  },
  {
   "cell_type": "code",
   "execution_count": null,
   "id": "1ec8714bdeb33390",
   "metadata": {
    "tags": [
     "keep"
    ]
   },
   "outputs": [],
   "source": [
    "SimpleMathOperations.run();"
   ]
  },
  {
   "cell_type": "code",
   "execution_count": null,
   "id": "afa7211a476c8255",
   "metadata": {
    "slideshow": {
     "slide_type": "subslide"
    },
    "tags": [
     "subslide"
    ]
   },
   "outputs": [],
   "source": []
  },
  {
   "cell_type": "code",
   "execution_count": null,
   "id": "26794b0793b0a4e1",
   "metadata": {
    "tags": [
     "keep"
    ]
   },
   "outputs": [],
   "source": [
    "SimpleMathOperationsV1.run();"
   ]
  },
  {
   "cell_type": "code",
   "execution_count": null,
   "id": "06941292ffd845c5",
   "metadata": {
    "slideshow": {
     "slide_type": "subslide"
    },
    "tags": [
     "subslide"
    ]
   },
   "outputs": [],
   "source": []
  },
  {
   "cell_type": "code",
   "execution_count": null,
   "id": "dfcc0729390d958e",
   "metadata": {
    "tags": [
     "keep"
    ]
   },
   "outputs": [],
   "source": [
    "SimpleMathOperationsV2.calculate(5, 3, 4);"
   ]
  }
 ],
 "metadata": {
  "jupytext": {
   "cell_metadata_filter": "tags,lang,-all",
   "encoding": "// -*- coding: utf-8 -*-",
   "main_language": "java",
   "notebook_metadata_filter": "-all"
  },
  "kernelspec": {
   "display_name": "Java",
   "language": "java",
   "name": "java"
  },
  "language_info": {
   "codemirror_mode": "java",
   "file_extension": ".java",
   "mimetype": "text/java",
   "name": "Java",
   "pygments_lexer": "java",
   "version": ""
  }
 },
 "nbformat": 4,
 "nbformat_minor": 5
}
